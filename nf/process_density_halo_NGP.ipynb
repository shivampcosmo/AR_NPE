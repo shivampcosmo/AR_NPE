{
 "cells": [
  {
   "cell_type": "code",
   "execution_count": 2,
   "id": "650ad5d7-20dc-41b2-a4f4-629f28135a87",
   "metadata": {},
   "outputs": [
    {
     "name": "stdin",
     "output_type": "stream",
     "text": [
      "Once deleted, variables cannot be recovered. Proceed (y/[n])?  y\n"
     ]
    }
   ],
   "source": [
    "%reset\n",
    "import numpy as np\n",
    "import sys,os\n",
    "import readgadget\n",
    "import MAS_library as MASL\n",
    "import pickle as pk\n",
    "import readfof\n",
    "import matplotlib\n",
    "\n",
    "import matplotlib.pyplot as pl\n",
    "pl.rc('text', usetex=False)\n",
    "# Palatino\n",
    "pl.rc('font', family='DejaVu Sans')\n",
    "%matplotlib inline\n",
    "\n",
    "\n",
    "%load_ext Cython\n",
    "\n",
    "# # This routine computes the density field and save results to file\n",
    "# def compute_df(snapshot, ptypes, grid, fout):\n",
    "#     # if not(os.path.exists(snapshot+'.0')) and not(os.path.exists(snapshot+'.0.hdf5')):\n",
    "#         # return 0\n",
    "#     print(snapshot)\n",
    "#     df = MASL.density_field_gadget(snapshot, ptypes, grid, MAS='CIC',\n",
    "#                                    do_RSD=False, axis=0, verbose=True)\n",
    "#     df = df/np.mean(df, dtype=np.float64)-1.0\n",
    "#     np.save(fout, df)\n",
    "    \n",
    "\n",
    "    \n",
    "    \n"
   ]
  },
  {
   "cell_type": "code",
   "execution_count": 3,
   "id": "a0bfe195-d354-4c16-866c-1b44bbe74a80",
   "metadata": {},
   "outputs": [],
   "source": [
    "%%cython\n",
    "\n",
    "cimport numpy as np\n",
    "cpdef void NGP_mass(np.float32_t[:,:] pos, np.float32_t[:] logM, np.float32_t[:,:,:,:] gridM, float BoxSize):\n",
    "\n",
    "    cdef int axis,dims,coord,nMmax,jM\n",
    "    cdef long i,particles\n",
    "    cdef float inv_cell_size\n",
    "    cdef int index[3]\n",
    "\n",
    "    # find number of particles, the inverse of the cell size and dims\n",
    "    particles = pos.shape[0];  coord = pos.shape[1];  dims = gridM.shape[0]; nMmax = gridM.shape[3]\n",
    "    inv_cell_size = dims/BoxSize\n",
    "\n",
    "    # when computing things in 2D, use the index[2]=0 plane\n",
    "    for i in range(3):  index[i] = 0\n",
    "\n",
    "    # do a loop over all particles\n",
    "    for i in range(particles):\n",
    "        for axis in range(coord):\n",
    "            index[axis] = <int>(pos[i,axis]*inv_cell_size + 0.5)\n",
    "            index[axis] = (index[axis]+dims)%dims\n",
    "        for jM in range(nMmax):\n",
    "            if gridM[index[0],index[1],index[2], jM] == 0:\n",
    "                gridM[index[0],index[1],index[2], jM] = logM[i]\n",
    "                break\n",
    "            else:\n",
    "                pass\n",
    "        \n",
    "        \n",
    "        "
   ]
  },
  {
   "cell_type": "code",
   "execution_count": 9,
   "id": "e97b6f31-62d9-415c-bffe-d482d2c1bcce",
   "metadata": {
    "tags": []
   },
   "outputs": [
    {
     "name": "stdout",
     "output_type": "stream",
     "text": [
      "doing sim: 0\n",
      "doing res: 64\n",
      "\n",
      "Computing density field of particles [1]\n",
      "1.34217698e+08 should be equal to\n",
      "1.34217728e+08\n",
      "Time taken = 2.80 seconds\n",
      "\n",
      "Computing density field of particles [1]\n",
      "1.34217728e+08 should be equal to\n",
      "1.34217728e+08\n",
      "Time taken = 1.33 seconds\n"
     ]
    },
    {
     "name": "stderr",
     "output_type": "stream",
     "text": [
      "100%|██████████| 8/8 [00:00<00:00, 2255.31it/s]"
     ]
    },
    {
     "name": "stdout",
     "output_type": "stream",
     "text": [
      "\n",
      "Computing density field of particles [1]\n"
     ]
    },
    {
     "name": "stderr",
     "output_type": "stream",
     "text": [
      "\n"
     ]
    },
    {
     "name": "stdout",
     "output_type": "stream",
     "text": [
      "1.34217698e+08 should be equal to\n",
      "1.34217728e+08\n",
      "Time taken = 2.31 seconds\n",
      "\n",
      "Computing density field of particles [1]\n",
      "1.34217728e+08 should be equal to\n",
      "1.34217728e+08\n",
      "Time taken = 1.33 seconds\n"
     ]
    },
    {
     "name": "stderr",
     "output_type": "stream",
     "text": [
      "100%|██████████| 8/8 [00:00<00:00, 2524.03it/s]"
     ]
    },
    {
     "name": "stdout",
     "output_type": "stream",
     "text": [
      "\n",
      "Computing density field of particles [1]\n"
     ]
    },
    {
     "name": "stderr",
     "output_type": "stream",
     "text": [
      "\n"
     ]
    },
    {
     "name": "stdout",
     "output_type": "stream",
     "text": [
      "1.34217725e+08 should be equal to\n",
      "1.34217728e+08\n",
      "Time taken = 2.85 seconds\n",
      "\n",
      "Computing density field of particles [1]\n",
      "1.34217728e+08 should be equal to\n",
      "1.34217728e+08\n",
      "Time taken = 1.50 seconds\n"
     ]
    },
    {
     "name": "stderr",
     "output_type": "stream",
     "text": [
      "100%|██████████| 8/8 [00:00<00:00, 424.49it/s]\n",
      "100%|██████████| 8/8 [00:00<00:00, 2222.88it/s]"
     ]
    },
    {
     "name": "stdout",
     "output_type": "stream",
     "text": [
      "\n",
      "Computing density field of particles [1]\n"
     ]
    },
    {
     "name": "stderr",
     "output_type": "stream",
     "text": [
      "\n"
     ]
    },
    {
     "name": "stdout",
     "output_type": "stream",
     "text": [
      "1.34217725e+08 should be equal to\n",
      "1.34217728e+08\n",
      "Time taken = 2.83 seconds\n",
      "\n",
      "Computing density field of particles [1]\n",
      "1.34217728e+08 should be equal to\n",
      "1.34217728e+08\n",
      "Time taken = 1.22 seconds\n"
     ]
    },
    {
     "name": "stderr",
     "output_type": "stream",
     "text": [
      "100%|██████████| 8/8 [00:00<00:00, 437.37it/s]\n",
      "100%|██████████| 8/8 [00:00<00:00, 2136.54it/s]"
     ]
    },
    {
     "name": "stdout",
     "output_type": "stream",
     "text": [
      "\n",
      "Computing density field of particles [1]\n"
     ]
    },
    {
     "name": "stderr",
     "output_type": "stream",
     "text": [
      "\n"
     ]
    },
    {
     "name": "stdout",
     "output_type": "stream",
     "text": [
      "1.34217725e+08 should be equal to\n",
      "1.34217728e+08\n",
      "Time taken = 2.66 seconds\n",
      "\n",
      "Computing density field of particles [1]\n",
      "1.34217728e+08 should be equal to\n",
      "1.34217728e+08\n",
      "Time taken = 1.21 seconds\n"
     ]
    },
    {
     "name": "stderr",
     "output_type": "stream",
     "text": [
      "100%|██████████| 8/8 [00:00<00:00, 448.35it/s]\n",
      "100%|██████████| 8/8 [00:00<00:00, 2299.04it/s]\n"
     ]
    },
    {
     "name": "stdout",
     "output_type": "stream",
     "text": [
      "\n",
      "Computing density field of particles [1]\n",
      "1.34217724e+08 should be equal to\n",
      "1.34217728e+08\n",
      "Time taken = 2.74 seconds\n",
      "\n",
      "Computing density field of particles [1]\n",
      "1.34217728e+08 should be equal to\n",
      "1.34217728e+08\n",
      "Time taken = 1.18 seconds\n"
     ]
    },
    {
     "name": "stderr",
     "output_type": "stream",
     "text": [
      "100%|██████████| 8/8 [00:00<00:00, 487.63it/s]\n",
      "100%|██████████| 8/8 [00:00<00:00, 2293.22it/s]\n"
     ]
    },
    {
     "name": "stdout",
     "output_type": "stream",
     "text": [
      "doing res: 128\n",
      "\n",
      "Computing density field of particles [1]\n",
      "1.34217725e+08 should be equal to\n",
      "1.34217728e+08\n",
      "Time taken = 2.47 seconds\n",
      "\n",
      "Computing density field of particles [1]\n",
      "1.34217728e+08 should be equal to\n",
      "1.34217728e+08\n",
      "Time taken = 1.32 seconds\n"
     ]
    },
    {
     "name": "stderr",
     "output_type": "stream",
     "text": [
      "100%|██████████| 8/8 [00:00<00:00, 536.66it/s]"
     ]
    },
    {
     "name": "stdout",
     "output_type": "stream",
     "text": [
      "\n",
      "Computing density field of particles [1]\n"
     ]
    },
    {
     "name": "stderr",
     "output_type": "stream",
     "text": [
      "\n"
     ]
    },
    {
     "name": "stdout",
     "output_type": "stream",
     "text": [
      "1.34217725e+08 should be equal to\n",
      "1.34217728e+08\n",
      "Time taken = 2.32 seconds\n",
      "\n",
      "Computing density field of particles [1]\n",
      "1.34217728e+08 should be equal to\n",
      "1.34217728e+08\n",
      "Time taken = 1.37 seconds\n"
     ]
    },
    {
     "name": "stderr",
     "output_type": "stream",
     "text": [
      "100%|██████████| 8/8 [00:00<00:00, 534.41it/s]"
     ]
    },
    {
     "name": "stdout",
     "output_type": "stream",
     "text": [
      "\n",
      "Computing density field of particles [1]\n"
     ]
    },
    {
     "name": "stderr",
     "output_type": "stream",
     "text": [
      "\n"
     ]
    },
    {
     "name": "stdout",
     "output_type": "stream",
     "text": [
      "1.34217728e+08 should be equal to\n",
      "1.34217728e+08\n",
      "Time taken = 2.28 seconds\n",
      "\n",
      "Computing density field of particles [1]\n",
      "1.34217728e+08 should be equal to\n",
      "1.34217728e+08\n",
      "Time taken = 1.22 seconds\n"
     ]
    },
    {
     "name": "stderr",
     "output_type": "stream",
     "text": [
      "100%|██████████| 8/8 [00:00<00:00, 206.71it/s]\n",
      "100%|██████████| 8/8 [00:00<00:00, 537.57it/s]\n"
     ]
    },
    {
     "name": "stdout",
     "output_type": "stream",
     "text": [
      "\n",
      "Computing density field of particles [1]\n",
      "1.34217728e+08 should be equal to\n",
      "1.34217728e+08\n",
      "Time taken = 2.26 seconds\n",
      "\n",
      "Computing density field of particles [1]\n",
      "1.34217728e+08 should be equal to\n",
      "1.34217728e+08\n",
      "Time taken = 1.24 seconds\n"
     ]
    },
    {
     "name": "stderr",
     "output_type": "stream",
     "text": [
      "100%|██████████| 8/8 [00:00<00:00, 203.38it/s]\n",
      "100%|██████████| 8/8 [00:00<00:00, 529.32it/s]\n"
     ]
    },
    {
     "name": "stdout",
     "output_type": "stream",
     "text": [
      "\n",
      "Computing density field of particles [1]\n",
      "1.34217728e+08 should be equal to\n",
      "1.34217728e+08\n",
      "Time taken = 2.29 seconds\n",
      "\n",
      "Computing density field of particles [1]\n",
      "1.34217728e+08 should be equal to\n",
      "1.34217728e+08\n",
      "Time taken = 1.25 seconds\n"
     ]
    },
    {
     "name": "stderr",
     "output_type": "stream",
     "text": [
      "100%|██████████| 8/8 [00:00<00:00, 194.74it/s]\n",
      "100%|██████████| 8/8 [00:00<00:00, 517.58it/s]\n"
     ]
    },
    {
     "name": "stdout",
     "output_type": "stream",
     "text": [
      "\n",
      "Computing density field of particles [1]\n",
      "1.34217728e+08 should be equal to\n",
      "1.34217728e+08\n",
      "Time taken = 2.28 seconds\n",
      "\n",
      "Computing density field of particles [1]\n",
      "1.34217728e+08 should be equal to\n",
      "1.34217728e+08\n",
      "Time taken = 1.24 seconds\n"
     ]
    },
    {
     "name": "stderr",
     "output_type": "stream",
     "text": [
      "100%|██████████| 8/8 [00:00<00:00, 192.91it/s]\n",
      "100%|██████████| 8/8 [00:00<00:00, 515.65it/s]\n"
     ]
    },
    {
     "name": "stdout",
     "output_type": "stream",
     "text": [
      "doing res: 256\n",
      "\n",
      "Computing density field of particles [1]\n",
      "1.34217728e+08 should be equal to\n",
      "1.34217728e+08\n",
      "Time taken = 2.41 seconds\n",
      "\n",
      "Computing density field of particles [1]\n",
      "1.34217728e+08 should be equal to\n",
      "1.34217728e+08\n",
      "Time taken = 1.38 seconds\n"
     ]
    },
    {
     "name": "stderr",
     "output_type": "stream",
     "text": [
      "100%|██████████| 8/8 [00:00<00:00, 120.19it/s]\n"
     ]
    },
    {
     "name": "stdout",
     "output_type": "stream",
     "text": [
      "\n",
      "Computing density field of particles [1]\n",
      "1.34217728e+08 should be equal to\n",
      "1.34217728e+08\n",
      "Time taken = 2.39 seconds\n",
      "\n",
      "Computing density field of particles [1]\n",
      "1.34217728e+08 should be equal to\n",
      "1.34217728e+08\n",
      "Time taken = 1.40 seconds\n"
     ]
    },
    {
     "name": "stderr",
     "output_type": "stream",
     "text": [
      "100%|██████████| 8/8 [00:00<00:00, 120.34it/s]\n"
     ]
    },
    {
     "name": "stdout",
     "output_type": "stream",
     "text": [
      "\n",
      "Computing density field of particles [1]\n",
      "1.34217728e+08 should be equal to\n",
      "1.34217728e+08\n",
      "Time taken = 2.35 seconds\n",
      "\n",
      "Computing density field of particles [1]\n",
      "1.34217728e+08 should be equal to\n",
      "1.34217728e+08\n",
      "Time taken = 1.31 seconds\n"
     ]
    },
    {
     "name": "stderr",
     "output_type": "stream",
     "text": [
      "100%|██████████| 8/8 [00:00<00:00, 33.28it/s]\n",
      "100%|██████████| 8/8 [00:00<00:00, 123.86it/s]\n"
     ]
    },
    {
     "name": "stdout",
     "output_type": "stream",
     "text": [
      "\n",
      "Computing density field of particles [1]\n",
      "1.34217728e+08 should be equal to\n",
      "1.34217728e+08\n",
      "Time taken = 2.27 seconds\n",
      "\n",
      "Computing density field of particles [1]\n",
      "1.34217728e+08 should be equal to\n",
      "1.34217728e+08\n",
      "Time taken = 1.31 seconds\n"
     ]
    },
    {
     "name": "stderr",
     "output_type": "stream",
     "text": [
      "100%|██████████| 8/8 [00:00<00:00, 31.78it/s]\n",
      "100%|██████████| 8/8 [00:00<00:00, 123.68it/s]\n"
     ]
    },
    {
     "name": "stdout",
     "output_type": "stream",
     "text": [
      "\n",
      "Computing density field of particles [1]\n",
      "1.34217728e+08 should be equal to\n",
      "1.34217728e+08\n",
      "Time taken = 2.26 seconds\n",
      "\n",
      "Computing density field of particles [1]\n",
      "1.34217728e+08 should be equal to\n",
      "1.34217728e+08\n",
      "Time taken = 1.33 seconds\n"
     ]
    },
    {
     "name": "stderr",
     "output_type": "stream",
     "text": [
      "100%|██████████| 8/8 [00:00<00:00, 31.46it/s]\n",
      "100%|██████████| 8/8 [00:00<00:00, 120.66it/s]\n"
     ]
    },
    {
     "name": "stdout",
     "output_type": "stream",
     "text": [
      "\n",
      "Computing density field of particles [1]\n",
      "1.34217728e+08 should be equal to\n",
      "1.34217728e+08\n",
      "Time taken = 2.26 seconds\n",
      "\n",
      "Computing density field of particles [1]\n",
      "1.34217728e+08 should be equal to\n",
      "1.34217728e+08\n",
      "Time taken = 1.31 seconds\n"
     ]
    },
    {
     "name": "stderr",
     "output_type": "stream",
     "text": [
      "100%|██████████| 8/8 [00:00<00:00, 31.59it/s]\n",
      "100%|██████████| 8/8 [00:00<00:00, 120.94it/s]\n"
     ]
    },
    {
     "name": "stdout",
     "output_type": "stream",
     "text": [
      "doing sim: 1\n",
      "doing res: 64\n",
      "\n",
      "Computing density field of particles [1]\n",
      "1.34217698e+08 should be equal to\n",
      "1.34217728e+08\n",
      "Time taken = 2.94 seconds\n",
      "\n",
      "Computing density field of particles [1]\n",
      "1.34217728e+08 should be equal to\n",
      "1.34217728e+08\n",
      "Time taken = 1.37 seconds\n"
     ]
    },
    {
     "name": "stderr",
     "output_type": "stream",
     "text": [
      "100%|██████████| 8/8 [00:00<00:00, 2405.34it/s]"
     ]
    },
    {
     "name": "stdout",
     "output_type": "stream",
     "text": [
      "\n",
      "Computing density field of particles [1]\n"
     ]
    },
    {
     "name": "stderr",
     "output_type": "stream",
     "text": [
      "\n"
     ]
    },
    {
     "name": "stdout",
     "output_type": "stream",
     "text": [
      "1.34217698e+08 should be equal to\n",
      "1.34217728e+08\n",
      "Time taken = 2.38 seconds\n",
      "\n",
      "Computing density field of particles [1]\n",
      "1.34217728e+08 should be equal to\n",
      "1.34217728e+08\n",
      "Time taken = 1.36 seconds\n"
     ]
    },
    {
     "name": "stderr",
     "output_type": "stream",
     "text": [
      "100%|██████████| 8/8 [00:00<00:00, 2242.94it/s]"
     ]
    },
    {
     "name": "stdout",
     "output_type": "stream",
     "text": [
      "\n",
      "Computing density field of particles [1]\n"
     ]
    },
    {
     "name": "stderr",
     "output_type": "stream",
     "text": [
      "\n"
     ]
    },
    {
     "name": "stdout",
     "output_type": "stream",
     "text": [
      "1.34217725e+08 should be equal to\n",
      "1.34217728e+08\n",
      "Time taken = 2.74 seconds\n",
      "\n",
      "Computing density field of particles [1]\n",
      "1.34217728e+08 should be equal to\n",
      "1.34217728e+08\n",
      "Time taken = 1.21 seconds\n"
     ]
    },
    {
     "name": "stderr",
     "output_type": "stream",
     "text": [
      "100%|██████████| 8/8 [00:00<00:00, 418.94it/s]\n",
      "100%|██████████| 8/8 [00:00<00:00, 2223.03it/s]"
     ]
    },
    {
     "name": "stdout",
     "output_type": "stream",
     "text": [
      "\n",
      "Computing density field of particles [1]\n"
     ]
    },
    {
     "name": "stderr",
     "output_type": "stream",
     "text": [
      "\n"
     ]
    },
    {
     "name": "stdout",
     "output_type": "stream",
     "text": [
      "1.34217724e+08 should be equal to\n",
      "1.34217728e+08\n",
      "Time taken = 2.75 seconds\n",
      "\n",
      "Computing density field of particles [1]\n",
      "1.34217728e+08 should be equal to\n",
      "1.34217728e+08\n",
      "Time taken = 1.22 seconds\n"
     ]
    },
    {
     "name": "stderr",
     "output_type": "stream",
     "text": [
      "100%|██████████| 8/8 [00:00<00:00, 475.69it/s]\n",
      "100%|██████████| 8/8 [00:00<00:00, 2216.13it/s]"
     ]
    },
    {
     "name": "stdout",
     "output_type": "stream",
     "text": [
      "\n",
      "Computing density field of particles [1]\n"
     ]
    },
    {
     "name": "stderr",
     "output_type": "stream",
     "text": [
      "\n"
     ]
    },
    {
     "name": "stdout",
     "output_type": "stream",
     "text": [
      "1.34217725e+08 should be equal to\n",
      "1.34217728e+08\n",
      "Time taken = 2.80 seconds\n",
      "\n",
      "Computing density field of particles [1]\n",
      "1.34217728e+08 should be equal to\n",
      "1.34217728e+08\n",
      "Time taken = 1.24 seconds\n"
     ]
    },
    {
     "name": "stderr",
     "output_type": "stream",
     "text": [
      "100%|██████████| 8/8 [00:00<00:00, 454.02it/s]\n",
      "100%|██████████| 8/8 [00:00<00:00, 2432.19it/s]\n"
     ]
    },
    {
     "name": "stdout",
     "output_type": "stream",
     "text": [
      "\n",
      "Computing density field of particles [1]\n",
      "1.34217724e+08 should be equal to\n",
      "1.34217728e+08\n",
      "Time taken = 2.78 seconds\n",
      "\n",
      "Computing density field of particles [1]\n",
      "1.34217728e+08 should be equal to\n",
      "1.34217728e+08\n",
      "Time taken = 1.24 seconds\n"
     ]
    },
    {
     "name": "stderr",
     "output_type": "stream",
     "text": [
      "100%|██████████| 8/8 [00:00<00:00, 630.52it/s]\n",
      "100%|██████████| 8/8 [00:00<00:00, 2261.23it/s]\n"
     ]
    },
    {
     "name": "stdout",
     "output_type": "stream",
     "text": [
      "doing res: 128\n",
      "\n",
      "Computing density field of particles [1]\n",
      "1.34217725e+08 should be equal to\n",
      "1.34217728e+08\n",
      "Time taken = 2.37 seconds\n",
      "\n",
      "Computing density field of particles [1]\n",
      "1.34217728e+08 should be equal to\n",
      "1.34217728e+08\n",
      "Time taken = 1.31 seconds\n"
     ]
    },
    {
     "name": "stderr",
     "output_type": "stream",
     "text": [
      "100%|██████████| 8/8 [00:00<00:00, 552.64it/s]"
     ]
    },
    {
     "name": "stdout",
     "output_type": "stream",
     "text": [
      "\n",
      "Computing density field of particles [1]\n"
     ]
    },
    {
     "name": "stderr",
     "output_type": "stream",
     "text": [
      "\n"
     ]
    },
    {
     "name": "stdout",
     "output_type": "stream",
     "text": [
      "1.34217725e+08 should be equal to\n",
      "1.34217728e+08\n",
      "Time taken = 2.26 seconds\n",
      "\n",
      "Computing density field of particles [1]\n",
      "1.34217728e+08 should be equal to\n",
      "1.34217728e+08\n",
      "Time taken = 1.31 seconds\n"
     ]
    },
    {
     "name": "stderr",
     "output_type": "stream",
     "text": [
      "100%|██████████| 8/8 [00:00<00:00, 553.48it/s]"
     ]
    },
    {
     "name": "stdout",
     "output_type": "stream",
     "text": [
      "\n",
      "Computing density field of particles [1]\n"
     ]
    },
    {
     "name": "stderr",
     "output_type": "stream",
     "text": [
      "\n"
     ]
    },
    {
     "name": "stdout",
     "output_type": "stream",
     "text": [
      "1.34217728e+08 should be equal to\n",
      "1.34217728e+08\n",
      "Time taken = 2.16 seconds\n",
      "\n",
      "Computing density field of particles [1]\n",
      "1.34217728e+08 should be equal to\n",
      "1.34217728e+08\n",
      "Time taken = 1.19 seconds\n"
     ]
    },
    {
     "name": "stderr",
     "output_type": "stream",
     "text": [
      "100%|██████████| 8/8 [00:00<00:00, 192.49it/s]\n",
      "100%|██████████| 8/8 [00:00<00:00, 538.73it/s]\n"
     ]
    },
    {
     "name": "stdout",
     "output_type": "stream",
     "text": [
      "\n",
      "Computing density field of particles [1]\n",
      "1.34217728e+08 should be equal to\n",
      "1.34217728e+08\n",
      "Time taken = 2.23 seconds\n",
      "\n",
      "Computing density field of particles [1]\n",
      "1.34217728e+08 should be equal to\n",
      "1.34217728e+08\n",
      "Time taken = 1.20 seconds\n"
     ]
    },
    {
     "name": "stderr",
     "output_type": "stream",
     "text": [
      "100%|██████████| 8/8 [00:00<00:00, 204.49it/s]\n",
      "100%|██████████| 8/8 [00:00<00:00, 532.64it/s]\n"
     ]
    },
    {
     "name": "stdout",
     "output_type": "stream",
     "text": [
      "\n",
      "Computing density field of particles [1]\n",
      "1.34217728e+08 should be equal to\n",
      "1.34217728e+08\n",
      "Time taken = 2.16 seconds\n",
      "\n",
      "Computing density field of particles [1]\n",
      "1.34217728e+08 should be equal to\n",
      "1.34217728e+08\n",
      "Time taken = 1.19 seconds\n"
     ]
    },
    {
     "name": "stderr",
     "output_type": "stream",
     "text": [
      "100%|██████████| 8/8 [00:00<00:00, 206.80it/s]\n",
      "100%|██████████| 8/8 [00:00<00:00, 520.78it/s]\n"
     ]
    },
    {
     "name": "stdout",
     "output_type": "stream",
     "text": [
      "\n",
      "Computing density field of particles [1]\n",
      "1.34217728e+08 should be equal to\n",
      "1.34217728e+08\n",
      "Time taken = 2.26 seconds\n",
      "\n",
      "Computing density field of particles [1]\n",
      "1.34217728e+08 should be equal to\n",
      "1.34217728e+08\n",
      "Time taken = 1.24 seconds\n"
     ]
    },
    {
     "name": "stderr",
     "output_type": "stream",
     "text": [
      "100%|██████████| 8/8 [00:00<00:00, 193.09it/s]\n",
      "100%|██████████| 8/8 [00:00<00:00, 526.14it/s]\n"
     ]
    },
    {
     "name": "stdout",
     "output_type": "stream",
     "text": [
      "doing res: 256\n",
      "\n",
      "Computing density field of particles [1]\n",
      "1.34217728e+08 should be equal to\n",
      "1.34217728e+08\n",
      "Time taken = 2.27 seconds\n",
      "\n",
      "Computing density field of particles [1]\n",
      "1.34217728e+08 should be equal to\n",
      "1.34217728e+08\n",
      "Time taken = 1.33 seconds\n"
     ]
    },
    {
     "name": "stderr",
     "output_type": "stream",
     "text": [
      "100%|██████████| 8/8 [00:00<00:00, 74.53it/s]\n"
     ]
    },
    {
     "name": "stdout",
     "output_type": "stream",
     "text": [
      "\n",
      "Computing density field of particles [1]\n",
      "1.34217728e+08 should be equal to\n",
      "1.34217728e+08\n",
      "Time taken = 2.28 seconds\n",
      "\n",
      "Computing density field of particles [1]\n",
      "1.34217728e+08 should be equal to\n",
      "1.34217728e+08\n",
      "Time taken = 1.34 seconds\n"
     ]
    },
    {
     "name": "stderr",
     "output_type": "stream",
     "text": [
      "100%|██████████| 8/8 [00:00<00:00, 72.70it/s]\n"
     ]
    },
    {
     "name": "stdout",
     "output_type": "stream",
     "text": [
      "\n",
      "Computing density field of particles [1]\n",
      "1.34217728e+08 should be equal to\n",
      "1.34217728e+08\n",
      "Time taken = 2.17 seconds\n",
      "\n",
      "Computing density field of particles [1]\n",
      "1.34217728e+08 should be equal to\n",
      "1.34217728e+08\n",
      "Time taken = 1.27 seconds\n"
     ]
    },
    {
     "name": "stderr",
     "output_type": "stream",
     "text": [
      "100%|██████████| 8/8 [00:00<00:00, 21.82it/s]\n",
      "100%|██████████| 8/8 [00:00<00:00, 117.55it/s]\n"
     ]
    },
    {
     "name": "stdout",
     "output_type": "stream",
     "text": [
      "\n",
      "Computing density field of particles [1]\n",
      "1.34217728e+08 should be equal to\n",
      "1.34217728e+08\n",
      "Time taken = 2.21 seconds\n",
      "\n",
      "Computing density field of particles [1]\n",
      "1.34217728e+08 should be equal to\n",
      "1.34217728e+08\n",
      "Time taken = 1.26 seconds\n"
     ]
    },
    {
     "name": "stderr",
     "output_type": "stream",
     "text": [
      "100%|██████████| 8/8 [00:00<00:00, 22.54it/s]\n",
      "100%|██████████| 8/8 [00:00<00:00, 121.33it/s]\n"
     ]
    },
    {
     "name": "stdout",
     "output_type": "stream",
     "text": [
      "\n",
      "Computing density field of particles [1]\n",
      "1.34217728e+08 should be equal to\n",
      "1.34217728e+08\n",
      "Time taken = 2.29 seconds\n",
      "\n",
      "Computing density field of particles [1]\n",
      "1.34217728e+08 should be equal to\n",
      "1.34217728e+08\n",
      "Time taken = 1.28 seconds\n"
     ]
    },
    {
     "name": "stderr",
     "output_type": "stream",
     "text": [
      "100%|██████████| 8/8 [00:00<00:00, 21.22it/s]\n",
      "100%|██████████| 8/8 [00:00<00:00, 93.11it/s]\n"
     ]
    },
    {
     "name": "stdout",
     "output_type": "stream",
     "text": [
      "\n",
      "Computing density field of particles [1]\n",
      "1.34217728e+08 should be equal to\n",
      "1.34217728e+08\n",
      "Time taken = 2.25 seconds\n",
      "\n",
      "Computing density field of particles [1]\n",
      "1.34217728e+08 should be equal to\n",
      "1.34217728e+08\n",
      "Time taken = 1.32 seconds\n"
     ]
    },
    {
     "name": "stderr",
     "output_type": "stream",
     "text": [
      "100%|██████████| 8/8 [00:00<00:00, 21.50it/s]\n",
      "100%|██████████| 8/8 [00:00<00:00, 120.32it/s]\n"
     ]
    },
    {
     "name": "stdout",
     "output_type": "stream",
     "text": [
      "doing sim: 2\n",
      "doing res: 64\n",
      "\n",
      "Computing density field of particles [1]\n",
      "1.34217698e+08 should be equal to\n",
      "1.34217728e+08\n",
      "Time taken = 4.26 seconds\n",
      "\n",
      "Computing density field of particles [1]\n",
      "1.34217728e+08 should be equal to\n",
      "1.34217728e+08\n",
      "Time taken = 1.32 seconds\n"
     ]
    },
    {
     "name": "stderr",
     "output_type": "stream",
     "text": [
      "100%|██████████| 8/8 [00:00<00:00, 2518.72it/s]"
     ]
    },
    {
     "name": "stdout",
     "output_type": "stream",
     "text": [
      "\n",
      "Computing density field of particles [1]\n"
     ]
    },
    {
     "name": "stderr",
     "output_type": "stream",
     "text": [
      "\n"
     ]
    },
    {
     "name": "stdout",
     "output_type": "stream",
     "text": [
      "1.34217698e+08 should be equal to\n",
      "1.34217728e+08\n",
      "Time taken = 2.37 seconds\n",
      "\n",
      "Computing density field of particles [1]\n",
      "1.34217728e+08 should be equal to\n",
      "1.34217728e+08\n",
      "Time taken = 1.34 seconds\n"
     ]
    },
    {
     "name": "stderr",
     "output_type": "stream",
     "text": [
      "100%|██████████| 8/8 [00:00<00:00, 2449.59it/s]"
     ]
    },
    {
     "name": "stdout",
     "output_type": "stream",
     "text": [
      "\n",
      "Computing density field of particles [1]\n"
     ]
    },
    {
     "name": "stderr",
     "output_type": "stream",
     "text": [
      "\n"
     ]
    },
    {
     "name": "stdout",
     "output_type": "stream",
     "text": [
      "1.34217725e+08 should be equal to\n",
      "1.34217728e+08\n",
      "Time taken = 2.68 seconds\n",
      "\n",
      "Computing density field of particles [1]\n",
      "1.34217728e+08 should be equal to\n",
      "1.34217728e+08\n",
      "Time taken = 1.18 seconds\n"
     ]
    },
    {
     "name": "stderr",
     "output_type": "stream",
     "text": [
      "100%|██████████| 8/8 [00:00<00:00, 874.27it/s]\n",
      "100%|██████████| 8/8 [00:00<00:00, 2261.99it/s]"
     ]
    },
    {
     "name": "stdout",
     "output_type": "stream",
     "text": [
      "\n",
      "Computing density field of particles [1]\n"
     ]
    },
    {
     "name": "stderr",
     "output_type": "stream",
     "text": [
      "\n"
     ]
    },
    {
     "name": "stdout",
     "output_type": "stream",
     "text": [
      "1.34217725e+08 should be equal to\n",
      "1.34217728e+08\n",
      "Time taken = 2.68 seconds\n",
      "\n",
      "Computing density field of particles [1]\n",
      "1.34217728e+08 should be equal to\n",
      "1.34217728e+08\n",
      "Time taken = 1.17 seconds\n"
     ]
    },
    {
     "name": "stderr",
     "output_type": "stream",
     "text": [
      "100%|██████████| 8/8 [00:00<00:00, 631.39it/s]\n",
      "100%|██████████| 8/8 [00:00<00:00, 2397.77it/s]"
     ]
    },
    {
     "name": "stdout",
     "output_type": "stream",
     "text": [
      "\n",
      "Computing density field of particles [1]\n"
     ]
    },
    {
     "name": "stderr",
     "output_type": "stream",
     "text": [
      "\n"
     ]
    },
    {
     "name": "stdout",
     "output_type": "stream",
     "text": [
      "1.34217724e+08 should be equal to\n",
      "1.34217728e+08\n",
      "Time taken = 2.67 seconds\n",
      "\n",
      "Computing density field of particles [1]\n",
      "1.34217728e+08 should be equal to\n",
      "1.34217728e+08\n",
      "Time taken = 1.17 seconds\n"
     ]
    },
    {
     "name": "stderr",
     "output_type": "stream",
     "text": [
      "100%|██████████| 8/8 [00:00<00:00, 585.92it/s]\n",
      "100%|██████████| 8/8 [00:00<00:00, 2169.84it/s]\n"
     ]
    },
    {
     "name": "stdout",
     "output_type": "stream",
     "text": [
      "\n",
      "Computing density field of particles [1]\n",
      "1.34217724e+08 should be equal to\n",
      "1.34217728e+08\n",
      "Time taken = 2.67 seconds\n",
      "\n",
      "Computing density field of particles [1]\n",
      "1.34217728e+08 should be equal to\n",
      "1.34217728e+08\n",
      "Time taken = 1.17 seconds\n"
     ]
    },
    {
     "name": "stderr",
     "output_type": "stream",
     "text": [
      "100%|██████████| 8/8 [00:00<00:00, 466.71it/s]\n",
      "100%|██████████| 8/8 [00:00<00:00, 2290.87it/s]\n"
     ]
    },
    {
     "name": "stdout",
     "output_type": "stream",
     "text": [
      "doing res: 128\n",
      "\n",
      "Computing density field of particles [1]\n",
      "1.34217725e+08 should be equal to\n",
      "1.34217728e+08\n",
      "Time taken = 2.26 seconds\n",
      "\n",
      "Computing density field of particles [1]\n",
      "1.34217728e+08 should be equal to\n",
      "1.34217728e+08\n",
      "Time taken = 1.32 seconds\n"
     ]
    },
    {
     "name": "stderr",
     "output_type": "stream",
     "text": [
      "100%|██████████| 8/8 [00:00<00:00, 542.87it/s]"
     ]
    },
    {
     "name": "stdout",
     "output_type": "stream",
     "text": [
      "\n",
      "Computing density field of particles [1]\n"
     ]
    },
    {
     "name": "stderr",
     "output_type": "stream",
     "text": [
      "\n"
     ]
    },
    {
     "name": "stdout",
     "output_type": "stream",
     "text": [
      "1.34217725e+08 should be equal to\n",
      "1.34217728e+08\n",
      "Time taken = 2.27 seconds\n",
      "\n",
      "Computing density field of particles [1]\n",
      "1.34217728e+08 should be equal to\n",
      "1.34217728e+08\n",
      "Time taken = 1.33 seconds\n"
     ]
    },
    {
     "name": "stderr",
     "output_type": "stream",
     "text": [
      "100%|██████████| 8/8 [00:00<00:00, 553.70it/s]"
     ]
    },
    {
     "name": "stdout",
     "output_type": "stream",
     "text": [
      "\n",
      "Computing density field of particles [1]\n"
     ]
    },
    {
     "name": "stderr",
     "output_type": "stream",
     "text": [
      "\n"
     ]
    },
    {
     "name": "stdout",
     "output_type": "stream",
     "text": [
      "1.34217728e+08 should be equal to\n",
      "1.34217728e+08\n",
      "Time taken = 2.17 seconds\n",
      "\n",
      "Computing density field of particles [1]\n",
      "1.34217728e+08 should be equal to\n",
      "1.34217728e+08\n",
      "Time taken = 1.19 seconds\n"
     ]
    },
    {
     "name": "stderr",
     "output_type": "stream",
     "text": [
      "100%|██████████| 8/8 [00:00<00:00, 205.34it/s]\n",
      "100%|██████████| 8/8 [00:00<00:00, 523.20it/s]\n"
     ]
    },
    {
     "name": "stdout",
     "output_type": "stream",
     "text": [
      "\n",
      "Computing density field of particles [1]\n",
      "1.34217728e+08 should be equal to\n",
      "1.34217728e+08\n",
      "Time taken = 2.16 seconds\n",
      "\n",
      "Computing density field of particles [1]\n",
      "1.34217728e+08 should be equal to\n",
      "1.34217728e+08\n",
      "Time taken = 1.19 seconds\n"
     ]
    },
    {
     "name": "stderr",
     "output_type": "stream",
     "text": [
      "100%|██████████| 8/8 [00:00<00:00, 208.61it/s]\n",
      "100%|██████████| 8/8 [00:00<00:00, 534.89it/s]\n"
     ]
    },
    {
     "name": "stdout",
     "output_type": "stream",
     "text": [
      "\n",
      "Computing density field of particles [1]\n",
      "1.34217728e+08 should be equal to\n",
      "1.34217728e+08\n",
      "Time taken = 2.15 seconds\n",
      "\n",
      "Computing density field of particles [1]\n",
      "1.34217728e+08 should be equal to\n",
      "1.34217728e+08\n",
      "Time taken = 1.19 seconds\n"
     ]
    },
    {
     "name": "stderr",
     "output_type": "stream",
     "text": [
      "100%|██████████| 8/8 [00:00<00:00, 207.32it/s]\n",
      "100%|██████████| 8/8 [00:00<00:00, 544.62it/s]\n"
     ]
    },
    {
     "name": "stdout",
     "output_type": "stream",
     "text": [
      "\n",
      "Computing density field of particles [1]\n",
      "1.34217728e+08 should be equal to\n",
      "1.34217728e+08\n",
      "Time taken = 2.17 seconds\n",
      "\n",
      "Computing density field of particles [1]\n",
      "1.34217728e+08 should be equal to\n",
      "1.34217728e+08\n",
      "Time taken = 1.19 seconds\n"
     ]
    },
    {
     "name": "stderr",
     "output_type": "stream",
     "text": [
      "100%|██████████| 8/8 [00:00<00:00, 196.10it/s]\n",
      "100%|██████████| 8/8 [00:00<00:00, 529.41it/s]\n"
     ]
    },
    {
     "name": "stdout",
     "output_type": "stream",
     "text": [
      "doing res: 256\n",
      "\n",
      "Computing density field of particles [1]\n",
      "1.34217728e+08 should be equal to\n",
      "1.34217728e+08\n",
      "Time taken = 2.30 seconds\n",
      "\n",
      "Computing density field of particles [1]\n",
      "1.34217728e+08 should be equal to\n",
      "1.34217728e+08\n",
      "Time taken = 1.35 seconds\n"
     ]
    },
    {
     "name": "stderr",
     "output_type": "stream",
     "text": [
      "100%|██████████| 8/8 [00:00<00:00, 124.31it/s]\n"
     ]
    },
    {
     "name": "stdout",
     "output_type": "stream",
     "text": [
      "\n",
      "Computing density field of particles [1]\n",
      "1.34217728e+08 should be equal to\n",
      "1.34217728e+08\n",
      "Time taken = 2.29 seconds\n",
      "\n",
      "Computing density field of particles [1]\n",
      "1.34217728e+08 should be equal to\n",
      "1.34217728e+08\n",
      "Time taken = 1.35 seconds\n"
     ]
    },
    {
     "name": "stderr",
     "output_type": "stream",
     "text": [
      "100%|██████████| 8/8 [00:00<00:00, 124.85it/s]\n"
     ]
    },
    {
     "name": "stdout",
     "output_type": "stream",
     "text": [
      "\n",
      "Computing density field of particles [1]\n",
      "1.34217728e+08 should be equal to\n",
      "1.34217728e+08\n",
      "Time taken = 2.18 seconds\n",
      "\n",
      "Computing density field of particles [1]\n",
      "1.34217728e+08 should be equal to\n",
      "1.34217728e+08\n",
      "Time taken = 1.28 seconds\n"
     ]
    },
    {
     "name": "stderr",
     "output_type": "stream",
     "text": [
      "100%|██████████| 8/8 [00:00<00:00, 32.03it/s]\n",
      "100%|██████████| 8/8 [00:00<00:00, 120.65it/s]\n"
     ]
    },
    {
     "name": "stdout",
     "output_type": "stream",
     "text": [
      "\n",
      "Computing density field of particles [1]\n",
      "1.34217728e+08 should be equal to\n",
      "1.34217728e+08\n",
      "Time taken = 2.28 seconds\n",
      "\n",
      "Computing density field of particles [1]\n",
      "1.34217728e+08 should be equal to\n",
      "1.34217728e+08\n",
      "Time taken = 1.33 seconds\n"
     ]
    },
    {
     "name": "stderr",
     "output_type": "stream",
     "text": [
      "100%|██████████| 8/8 [00:00<00:00, 31.55it/s]\n",
      "100%|██████████| 8/8 [00:00<00:00, 123.19it/s]\n"
     ]
    },
    {
     "name": "stdout",
     "output_type": "stream",
     "text": [
      "\n",
      "Computing density field of particles [1]\n",
      "1.34217728e+08 should be equal to\n",
      "1.34217728e+08\n",
      "Time taken = 2.27 seconds\n",
      "\n",
      "Computing density field of particles [1]\n",
      "1.34217728e+08 should be equal to\n",
      "1.34217728e+08\n",
      "Time taken = 1.32 seconds\n"
     ]
    },
    {
     "name": "stderr",
     "output_type": "stream",
     "text": [
      "100%|██████████| 8/8 [00:00<00:00, 28.01it/s]\n",
      "100%|██████████| 8/8 [00:00<00:00, 120.62it/s]\n"
     ]
    },
    {
     "name": "stdout",
     "output_type": "stream",
     "text": [
      "\n",
      "Computing density field of particles [1]\n",
      "1.34217728e+08 should be equal to\n",
      "1.34217728e+08\n",
      "Time taken = 2.26 seconds\n",
      "\n",
      "Computing density field of particles [1]\n",
      "1.34217728e+08 should be equal to\n",
      "1.34217728e+08\n",
      "Time taken = 1.31 seconds\n"
     ]
    },
    {
     "name": "stderr",
     "output_type": "stream",
     "text": [
      "100%|██████████| 8/8 [00:00<00:00, 31.76it/s]\n",
      "100%|██████████| 8/8 [00:00<00:00, 120.87it/s]\n"
     ]
    },
    {
     "name": "stdout",
     "output_type": "stream",
     "text": [
      "doing sim: 3\n",
      "doing res: 64\n",
      "\n",
      "Computing density field of particles [1]\n",
      "1.34217698e+08 should be equal to\n",
      "1.34217728e+08\n",
      "Time taken = 4.15 seconds\n",
      "\n",
      "Computing density field of particles [1]\n",
      "1.34217728e+08 should be equal to\n",
      "1.34217728e+08\n",
      "Time taken = 1.36 seconds\n"
     ]
    },
    {
     "name": "stderr",
     "output_type": "stream",
     "text": [
      "100%|██████████| 8/8 [00:00<00:00, 2185.24it/s]"
     ]
    },
    {
     "name": "stdout",
     "output_type": "stream",
     "text": [
      "\n",
      "Computing density field of particles [1]\n"
     ]
    },
    {
     "name": "stderr",
     "output_type": "stream",
     "text": [
      "\n"
     ]
    },
    {
     "name": "stdout",
     "output_type": "stream",
     "text": [
      "1.34217698e+08 should be equal to\n",
      "1.34217728e+08\n",
      "Time taken = 2.37 seconds\n",
      "\n",
      "Computing density field of particles [1]\n",
      "1.34217728e+08 should be equal to\n",
      "1.34217728e+08\n",
      "Time taken = 1.33 seconds\n"
     ]
    },
    {
     "name": "stderr",
     "output_type": "stream",
     "text": [
      "100%|██████████| 8/8 [00:00<00:00, 2408.44it/s]"
     ]
    },
    {
     "name": "stdout",
     "output_type": "stream",
     "text": [
      "\n",
      "Computing density field of particles [1]\n"
     ]
    },
    {
     "name": "stderr",
     "output_type": "stream",
     "text": [
      "\n"
     ]
    },
    {
     "name": "stdout",
     "output_type": "stream",
     "text": [
      "1.34217725e+08 should be equal to\n",
      "1.34217728e+08\n",
      "Time taken = 2.78 seconds\n",
      "\n",
      "Computing density field of particles [1]\n",
      "1.34217728e+08 should be equal to\n",
      "1.34217728e+08\n",
      "Time taken = 1.22 seconds\n"
     ]
    },
    {
     "name": "stderr",
     "output_type": "stream",
     "text": [
      "100%|██████████| 8/8 [00:00<00:00, 427.30it/s]\n",
      "100%|██████████| 8/8 [00:00<00:00, 2224.21it/s]"
     ]
    },
    {
     "name": "stdout",
     "output_type": "stream",
     "text": [
      "\n",
      "Computing density field of particles [1]\n"
     ]
    },
    {
     "name": "stderr",
     "output_type": "stream",
     "text": [
      "\n"
     ]
    },
    {
     "name": "stdout",
     "output_type": "stream",
     "text": [
      "1.34217725e+08 should be equal to\n",
      "1.34217728e+08\n",
      "Time taken = 2.77 seconds\n",
      "\n",
      "Computing density field of particles [1]\n",
      "1.34217728e+08 should be equal to\n",
      "1.34217728e+08\n",
      "Time taken = 1.23 seconds\n"
     ]
    },
    {
     "name": "stderr",
     "output_type": "stream",
     "text": [
      "100%|██████████| 8/8 [00:00<00:00, 456.38it/s]\n",
      "100%|██████████| 8/8 [00:00<00:00, 2113.27it/s]"
     ]
    },
    {
     "name": "stdout",
     "output_type": "stream",
     "text": [
      "\n",
      "Computing density field of particles [1]\n"
     ]
    },
    {
     "name": "stderr",
     "output_type": "stream",
     "text": [
      "\n"
     ]
    },
    {
     "name": "stdout",
     "output_type": "stream",
     "text": [
      "1.34217725e+08 should be equal to\n",
      "1.34217728e+08\n",
      "Time taken = 2.74 seconds\n",
      "\n",
      "Computing density field of particles [1]\n",
      "1.34217728e+08 should be equal to\n",
      "1.34217728e+08\n",
      "Time taken = 1.18 seconds\n"
     ]
    },
    {
     "name": "stderr",
     "output_type": "stream",
     "text": [
      "100%|██████████| 8/8 [00:00<00:00, 614.07it/s]\n",
      "100%|██████████| 8/8 [00:00<00:00, 2281.68it/s]\n"
     ]
    },
    {
     "name": "stdout",
     "output_type": "stream",
     "text": [
      "\n",
      "Computing density field of particles [1]\n",
      "1.34217724e+08 should be equal to\n",
      "1.34217728e+08\n",
      "Time taken = 2.70 seconds\n",
      "\n",
      "Computing density field of particles [1]\n",
      "1.34217728e+08 should be equal to\n",
      "1.34217728e+08\n",
      "Time taken = 1.20 seconds\n"
     ]
    },
    {
     "name": "stderr",
     "output_type": "stream",
     "text": [
      "100%|██████████| 8/8 [00:00<00:00, 623.80it/s]\n",
      "100%|██████████| 8/8 [00:00<00:00, 2282.46it/s]\n"
     ]
    },
    {
     "name": "stdout",
     "output_type": "stream",
     "text": [
      "doing res: 128\n",
      "\n",
      "Computing density field of particles [1]\n",
      "1.34217725e+08 should be equal to\n",
      "1.34217728e+08\n",
      "Time taken = 2.33 seconds\n",
      "\n",
      "Computing density field of particles [1]\n",
      "1.34217728e+08 should be equal to\n",
      "1.34217728e+08\n",
      "Time taken = 1.33 seconds\n"
     ]
    },
    {
     "name": "stderr",
     "output_type": "stream",
     "text": [
      "100%|██████████| 8/8 [00:00<00:00, 560.35it/s]"
     ]
    },
    {
     "name": "stdout",
     "output_type": "stream",
     "text": [
      "\n",
      "Computing density field of particles [1]\n"
     ]
    },
    {
     "name": "stderr",
     "output_type": "stream",
     "text": [
      "\n"
     ]
    },
    {
     "name": "stdout",
     "output_type": "stream",
     "text": [
      "1.34217725e+08 should be equal to\n",
      "1.34217728e+08\n",
      "Time taken = 2.31 seconds\n",
      "\n",
      "Computing density field of particles [1]\n",
      "1.34217728e+08 should be equal to\n",
      "1.34217728e+08\n",
      "Time taken = 1.37 seconds\n"
     ]
    },
    {
     "name": "stderr",
     "output_type": "stream",
     "text": [
      "100%|██████████| 8/8 [00:00<00:00, 553.79it/s]"
     ]
    },
    {
     "name": "stdout",
     "output_type": "stream",
     "text": [
      "\n",
      "Computing density field of particles [1]\n"
     ]
    },
    {
     "name": "stderr",
     "output_type": "stream",
     "text": [
      "\n"
     ]
    },
    {
     "name": "stdout",
     "output_type": "stream",
     "text": [
      "1.34217728e+08 should be equal to\n",
      "1.34217728e+08\n",
      "Time taken = 2.22 seconds\n",
      "\n",
      "Computing density field of particles [1]\n",
      "1.34217728e+08 should be equal to\n",
      "1.34217728e+08\n",
      "Time taken = 1.25 seconds\n"
     ]
    },
    {
     "name": "stderr",
     "output_type": "stream",
     "text": [
      "100%|██████████| 8/8 [00:00<00:00, 134.12it/s]\n",
      "100%|██████████| 8/8 [00:00<00:00, 540.40it/s]\n"
     ]
    },
    {
     "name": "stdout",
     "output_type": "stream",
     "text": [
      "\n",
      "Computing density field of particles [1]\n",
      "1.34217728e+08 should be equal to\n",
      "1.34217728e+08\n",
      "Time taken = 2.19 seconds\n",
      "\n",
      "Computing density field of particles [1]\n",
      "1.34217728e+08 should be equal to\n",
      "1.34217728e+08\n",
      "Time taken = 1.22 seconds\n"
     ]
    },
    {
     "name": "stderr",
     "output_type": "stream",
     "text": [
      "100%|██████████| 8/8 [00:00<00:00, 203.14it/s]\n",
      "100%|██████████| 8/8 [00:00<00:00, 680.78it/s]\n"
     ]
    },
    {
     "name": "stdout",
     "output_type": "stream",
     "text": [
      "\n",
      "Computing density field of particles [1]\n",
      "1.34217728e+08 should be equal to\n",
      "1.34217728e+08\n",
      "Time taken = 2.25 seconds\n",
      "\n",
      "Computing density field of particles [1]\n",
      "1.34217728e+08 should be equal to\n",
      "1.34217728e+08\n",
      "Time taken = 1.23 seconds\n"
     ]
    },
    {
     "name": "stderr",
     "output_type": "stream",
     "text": [
      "100%|██████████| 8/8 [00:00<00:00, 200.71it/s]\n",
      "100%|██████████| 8/8 [00:00<00:00, 534.11it/s]\n"
     ]
    },
    {
     "name": "stdout",
     "output_type": "stream",
     "text": [
      "\n",
      "Computing density field of particles [1]\n",
      "1.34217728e+08 should be equal to\n",
      "1.34217728e+08\n",
      "Time taken = 2.20 seconds\n",
      "\n",
      "Computing density field of particles [1]\n",
      "1.34217728e+08 should be equal to\n",
      "1.34217728e+08\n",
      "Time taken = 1.23 seconds\n"
     ]
    },
    {
     "name": "stderr",
     "output_type": "stream",
     "text": [
      "100%|██████████| 8/8 [00:00<00:00, 200.10it/s]\n",
      "100%|██████████| 8/8 [00:00<00:00, 524.75it/s]\n"
     ]
    },
    {
     "name": "stdout",
     "output_type": "stream",
     "text": [
      "doing res: 256\n",
      "\n",
      "Computing density field of particles [1]\n",
      "1.34217728e+08 should be equal to\n",
      "1.34217728e+08\n",
      "Time taken = 2.35 seconds\n",
      "\n",
      "Computing density field of particles [1]\n",
      "1.34217728e+08 should be equal to\n",
      "1.34217728e+08\n",
      "Time taken = 1.35 seconds\n"
     ]
    },
    {
     "name": "stderr",
     "output_type": "stream",
     "text": [
      "100%|██████████| 8/8 [00:00<00:00, 67.29it/s]\n"
     ]
    },
    {
     "name": "stdout",
     "output_type": "stream",
     "text": [
      "\n",
      "Computing density field of particles [1]\n",
      "1.34217728e+08 should be equal to\n",
      "1.34217728e+08\n",
      "Time taken = 2.35 seconds\n",
      "\n",
      "Computing density field of particles [1]\n",
      "1.34217728e+08 should be equal to\n",
      "1.34217728e+08\n",
      "Time taken = 1.35 seconds\n"
     ]
    },
    {
     "name": "stderr",
     "output_type": "stream",
     "text": [
      "100%|██████████| 8/8 [00:00<00:00, 66.69it/s]\n"
     ]
    },
    {
     "name": "stdout",
     "output_type": "stream",
     "text": [
      "\n",
      "Computing density field of particles [1]\n",
      "1.34217728e+08 should be equal to\n",
      "1.34217728e+08\n",
      "Time taken = 2.29 seconds\n",
      "\n",
      "Computing density field of particles [1]\n",
      "1.34217728e+08 should be equal to\n",
      "1.34217728e+08\n",
      "Time taken = 1.36 seconds\n"
     ]
    },
    {
     "name": "stderr",
     "output_type": "stream",
     "text": [
      "100%|██████████| 8/8 [00:00<00:00, 21.00it/s]\n",
      "100%|██████████| 8/8 [00:00<00:00, 64.74it/s]\n"
     ]
    },
    {
     "name": "stdout",
     "output_type": "stream",
     "text": [
      "\n",
      "Computing density field of particles [1]\n",
      "1.34217728e+08 should be equal to\n",
      "1.34217728e+08\n",
      "Time taken = 3.00 seconds\n",
      "\n",
      "Computing density field of particles [1]\n",
      "1.34217728e+08 should be equal to\n",
      "1.34217728e+08\n",
      "Time taken = 1.32 seconds\n"
     ]
    },
    {
     "name": "stderr",
     "output_type": "stream",
     "text": [
      "100%|██████████| 8/8 [00:00<00:00, 32.36it/s]\n",
      "100%|██████████| 8/8 [00:00<00:00, 119.41it/s]\n"
     ]
    },
    {
     "name": "stdout",
     "output_type": "stream",
     "text": [
      "\n",
      "Computing density field of particles [1]\n",
      "1.34217728e+08 should be equal to\n",
      "1.34217728e+08\n",
      "Time taken = 2.75 seconds\n",
      "\n",
      "Computing density field of particles [1]\n",
      "1.34217728e+08 should be equal to\n",
      "1.34217728e+08\n",
      "Time taken = 1.30 seconds\n"
     ]
    },
    {
     "name": "stderr",
     "output_type": "stream",
     "text": [
      "100%|██████████| 8/8 [00:00<00:00, 31.44it/s]\n",
      "100%|██████████| 8/8 [00:00<00:00, 120.88it/s]\n"
     ]
    },
    {
     "name": "stdout",
     "output_type": "stream",
     "text": [
      "\n",
      "Computing density field of particles [1]\n",
      "1.34217728e+08 should be equal to\n",
      "1.34217728e+08\n",
      "Time taken = 2.73 seconds\n",
      "\n",
      "Computing density field of particles [1]\n",
      "1.34217728e+08 should be equal to\n",
      "1.34217728e+08\n",
      "Time taken = 1.31 seconds\n"
     ]
    },
    {
     "name": "stderr",
     "output_type": "stream",
     "text": [
      "100%|██████████| 8/8 [00:00<00:00, 31.89it/s]\n",
      "100%|██████████| 8/8 [00:00<00:00, 123.43it/s]\n"
     ]
    },
    {
     "name": "stdout",
     "output_type": "stream",
     "text": [
      "doing sim: 4\n",
      "doing res: 64\n",
      "\n",
      "Computing density field of particles [1]\n",
      "1.34217698e+08 should be equal to\n",
      "1.34217728e+08\n",
      "Time taken = 4.22 seconds\n",
      "\n",
      "Computing density field of particles [1]\n",
      "1.34217728e+08 should be equal to\n",
      "1.34217728e+08\n",
      "Time taken = 1.33 seconds\n"
     ]
    },
    {
     "name": "stderr",
     "output_type": "stream",
     "text": [
      "100%|██████████| 8/8 [00:00<00:00, 2495.50it/s]"
     ]
    },
    {
     "name": "stdout",
     "output_type": "stream",
     "text": [
      "\n",
      "Computing density field of particles [1]\n"
     ]
    },
    {
     "name": "stderr",
     "output_type": "stream",
     "text": [
      "\n"
     ]
    },
    {
     "name": "stdout",
     "output_type": "stream",
     "text": [
      "1.34217698e+08 should be equal to\n",
      "1.34217728e+08\n",
      "Time taken = 2.36 seconds\n",
      "\n",
      "Computing density field of particles [1]\n",
      "1.34217728e+08 should be equal to\n",
      "1.34217728e+08\n",
      "Time taken = 1.34 seconds\n"
     ]
    },
    {
     "name": "stderr",
     "output_type": "stream",
     "text": [
      "100%|██████████| 8/8 [00:00<00:00, 2506.87it/s]"
     ]
    },
    {
     "name": "stdout",
     "output_type": "stream",
     "text": [
      "\n",
      "Computing density field of particles [1]\n"
     ]
    },
    {
     "name": "stderr",
     "output_type": "stream",
     "text": [
      "\n"
     ]
    },
    {
     "name": "stdout",
     "output_type": "stream",
     "text": [
      "1.34217725e+08 should be equal to\n",
      "1.34217728e+08\n",
      "Time taken = 2.73 seconds\n",
      "\n",
      "Computing density field of particles [1]\n",
      "1.34217728e+08 should be equal to\n",
      "1.34217728e+08\n",
      "Time taken = 1.20 seconds\n"
     ]
    },
    {
     "name": "stderr",
     "output_type": "stream",
     "text": [
      "100%|██████████| 8/8 [00:00<00:00, 469.96it/s]\n",
      "100%|██████████| 8/8 [00:00<00:00, 2162.71it/s]"
     ]
    },
    {
     "name": "stdout",
     "output_type": "stream",
     "text": [
      "\n",
      "Computing density field of particles [1]\n"
     ]
    },
    {
     "name": "stderr",
     "output_type": "stream",
     "text": [
      "\n"
     ]
    },
    {
     "name": "stdout",
     "output_type": "stream",
     "text": [
      "1.34217725e+08 should be equal to\n",
      "1.34217728e+08\n",
      "Time taken = 2.76 seconds\n",
      "\n",
      "Computing density field of particles [1]\n",
      "1.34217728e+08 should be equal to\n",
      "1.34217728e+08\n",
      "Time taken = 1.38 seconds\n"
     ]
    },
    {
     "name": "stderr",
     "output_type": "stream",
     "text": [
      "100%|██████████| 8/8 [00:00<00:00, 582.73it/s]\n",
      "100%|██████████| 8/8 [00:00<00:00, 2125.85it/s]"
     ]
    },
    {
     "name": "stdout",
     "output_type": "stream",
     "text": [
      "\n",
      "Computing density field of particles [1]\n"
     ]
    },
    {
     "name": "stderr",
     "output_type": "stream",
     "text": [
      "\n"
     ]
    },
    {
     "name": "stdout",
     "output_type": "stream",
     "text": [
      "1.34217725e+08 should be equal to\n",
      "1.34217728e+08\n",
      "Time taken = 2.79 seconds\n",
      "\n",
      "Computing density field of particles [1]\n",
      "1.34217728e+08 should be equal to\n",
      "1.34217728e+08\n",
      "Time taken = 1.18 seconds\n"
     ]
    },
    {
     "name": "stderr",
     "output_type": "stream",
     "text": [
      "100%|██████████| 8/8 [00:00<00:00, 478.43it/s]\n",
      "100%|██████████| 8/8 [00:00<00:00, 2301.56it/s]\n"
     ]
    },
    {
     "name": "stdout",
     "output_type": "stream",
     "text": [
      "\n",
      "Computing density field of particles [1]\n",
      "1.34217724e+08 should be equal to\n",
      "1.34217728e+08\n",
      "Time taken = 2.70 seconds\n",
      "\n",
      "Computing density field of particles [1]\n",
      "1.34217728e+08 should be equal to\n",
      "1.34217728e+08\n",
      "Time taken = 1.20 seconds\n"
     ]
    },
    {
     "name": "stderr",
     "output_type": "stream",
     "text": [
      "100%|██████████| 8/8 [00:00<00:00, 635.68it/s]\n",
      "100%|██████████| 8/8 [00:00<00:00, 2288.84it/s]\n"
     ]
    },
    {
     "name": "stdout",
     "output_type": "stream",
     "text": [
      "doing res: 128\n",
      "\n",
      "Computing density field of particles [1]\n",
      "1.34217725e+08 should be equal to\n",
      "1.34217728e+08\n",
      "Time taken = 2.33 seconds\n",
      "\n",
      "Computing density field of particles [1]\n",
      "1.34217728e+08 should be equal to\n",
      "1.34217728e+08\n",
      "Time taken = 1.34 seconds\n"
     ]
    },
    {
     "name": "stderr",
     "output_type": "stream",
     "text": [
      "100%|██████████| 8/8 [00:00<00:00, 555.67it/s]"
     ]
    },
    {
     "name": "stdout",
     "output_type": "stream",
     "text": [
      "\n",
      "Computing density field of particles [1]\n"
     ]
    },
    {
     "name": "stderr",
     "output_type": "stream",
     "text": [
      "\n"
     ]
    },
    {
     "name": "stdout",
     "output_type": "stream",
     "text": [
      "1.34217725e+08 should be equal to\n",
      "1.34217728e+08\n",
      "Time taken = 2.31 seconds\n",
      "\n",
      "Computing density field of particles [1]\n",
      "1.34217728e+08 should be equal to\n",
      "1.34217728e+08\n",
      "Time taken = 1.34 seconds\n"
     ]
    },
    {
     "name": "stderr",
     "output_type": "stream",
     "text": [
      "100%|██████████| 8/8 [00:00<00:00, 540.19it/s]"
     ]
    },
    {
     "name": "stdout",
     "output_type": "stream",
     "text": [
      "\n",
      "Computing density field of particles [1]\n"
     ]
    },
    {
     "name": "stderr",
     "output_type": "stream",
     "text": [
      "\n"
     ]
    },
    {
     "name": "stdout",
     "output_type": "stream",
     "text": [
      "1.34217728e+08 should be equal to\n",
      "1.34217728e+08\n",
      "Time taken = 2.21 seconds\n",
      "\n",
      "Computing density field of particles [1]\n",
      "1.34217728e+08 should be equal to\n",
      "1.34217728e+08\n",
      "Time taken = 1.23 seconds\n"
     ]
    },
    {
     "name": "stderr",
     "output_type": "stream",
     "text": [
      "100%|██████████| 8/8 [00:00<00:00, 205.78it/s]\n",
      "100%|██████████| 8/8 [00:00<00:00, 525.00it/s]\n"
     ]
    },
    {
     "name": "stdout",
     "output_type": "stream",
     "text": [
      "\n",
      "Computing density field of particles [1]\n",
      "1.34217728e+08 should be equal to\n",
      "1.34217728e+08\n",
      "Time taken = 2.28 seconds\n",
      "\n",
      "Computing density field of particles [1]\n",
      "1.34217728e+08 should be equal to\n",
      "1.34217728e+08\n",
      "Time taken = 1.27 seconds\n"
     ]
    },
    {
     "name": "stderr",
     "output_type": "stream",
     "text": [
      "100%|██████████| 8/8 [00:00<00:00, 183.58it/s]\n",
      "100%|██████████| 8/8 [00:00<00:00, 519.32it/s]\n"
     ]
    },
    {
     "name": "stdout",
     "output_type": "stream",
     "text": [
      "\n",
      "Computing density field of particles [1]\n",
      "1.34217728e+08 should be equal to\n",
      "1.34217728e+08\n",
      "Time taken = 2.27 seconds\n",
      "\n",
      "Computing density field of particles [1]\n",
      "1.34217728e+08 should be equal to\n",
      "1.34217728e+08\n",
      "Time taken = 1.24 seconds\n"
     ]
    },
    {
     "name": "stderr",
     "output_type": "stream",
     "text": [
      "100%|██████████| 8/8 [00:00<00:00, 193.76it/s]\n",
      "100%|██████████| 8/8 [00:00<00:00, 509.67it/s]\n"
     ]
    },
    {
     "name": "stdout",
     "output_type": "stream",
     "text": [
      "\n",
      "Computing density field of particles [1]\n",
      "1.34217728e+08 should be equal to\n",
      "1.34217728e+08\n",
      "Time taken = 2.23 seconds\n",
      "\n",
      "Computing density field of particles [1]\n",
      "1.34217728e+08 should be equal to\n",
      "1.34217728e+08\n",
      "Time taken = 1.23 seconds\n"
     ]
    },
    {
     "name": "stderr",
     "output_type": "stream",
     "text": [
      "100%|██████████| 8/8 [00:00<00:00, 181.60it/s]\n",
      "100%|██████████| 8/8 [00:00<00:00, 517.01it/s]\n"
     ]
    },
    {
     "name": "stdout",
     "output_type": "stream",
     "text": [
      "doing res: 256\n",
      "\n",
      "Computing density field of particles [1]\n",
      "1.34217728e+08 should be equal to\n",
      "1.34217728e+08\n",
      "Time taken = 2.36 seconds\n",
      "\n",
      "Computing density field of particles [1]\n",
      "1.34217728e+08 should be equal to\n",
      "1.34217728e+08\n",
      "Time taken = 1.39 seconds\n"
     ]
    },
    {
     "name": "stderr",
     "output_type": "stream",
     "text": [
      "100%|██████████| 8/8 [00:00<00:00, 120.98it/s]\n"
     ]
    },
    {
     "name": "stdout",
     "output_type": "stream",
     "text": [
      "\n",
      "Computing density field of particles [1]\n",
      "1.34217728e+08 should be equal to\n",
      "1.34217728e+08\n",
      "Time taken = 2.37 seconds\n",
      "\n",
      "Computing density field of particles [1]\n",
      "1.34217728e+08 should be equal to\n",
      "1.34217728e+08\n",
      "Time taken = 1.37 seconds\n"
     ]
    },
    {
     "name": "stderr",
     "output_type": "stream",
     "text": [
      "100%|██████████| 8/8 [00:00<00:00, 122.47it/s]\n"
     ]
    },
    {
     "name": "stdout",
     "output_type": "stream",
     "text": [
      "\n",
      "Computing density field of particles [1]\n",
      "1.34217728e+08 should be equal to\n",
      "1.34217728e+08\n",
      "Time taken = 2.28 seconds\n",
      "\n",
      "Computing density field of particles [1]\n",
      "1.34217728e+08 should be equal to\n",
      "1.34217728e+08\n",
      "Time taken = 1.33 seconds\n"
     ]
    },
    {
     "name": "stderr",
     "output_type": "stream",
     "text": [
      "100%|██████████| 8/8 [00:00<00:00, 30.39it/s]\n",
      "100%|██████████| 8/8 [00:00<00:00, 122.25it/s]\n"
     ]
    },
    {
     "name": "stdout",
     "output_type": "stream",
     "text": [
      "\n",
      "Computing density field of particles [1]\n",
      "1.34217728e+08 should be equal to\n",
      "1.34217728e+08\n",
      "Time taken = 2.35 seconds\n",
      "\n",
      "Computing density field of particles [1]\n",
      "1.34217728e+08 should be equal to\n",
      "1.34217728e+08\n",
      "Time taken = 1.41 seconds\n"
     ]
    },
    {
     "name": "stderr",
     "output_type": "stream",
     "text": [
      "100%|██████████| 8/8 [00:00<00:00, 30.50it/s]\n",
      "100%|██████████| 8/8 [00:00<00:00, 118.54it/s]\n"
     ]
    },
    {
     "name": "stdout",
     "output_type": "stream",
     "text": [
      "\n",
      "Computing density field of particles [1]\n",
      "1.34217728e+08 should be equal to\n",
      "1.34217728e+08\n",
      "Time taken = 2.27 seconds\n",
      "\n",
      "Computing density field of particles [1]\n",
      "1.34217728e+08 should be equal to\n",
      "1.34217728e+08\n",
      "Time taken = 1.34 seconds\n"
     ]
    },
    {
     "name": "stderr",
     "output_type": "stream",
     "text": [
      "100%|██████████| 8/8 [00:00<00:00, 30.58it/s]\n",
      "100%|██████████| 8/8 [00:00<00:00, 117.23it/s]\n"
     ]
    },
    {
     "name": "stdout",
     "output_type": "stream",
     "text": [
      "\n",
      "Computing density field of particles [1]\n",
      "1.34217728e+08 should be equal to\n",
      "1.34217728e+08\n",
      "Time taken = 2.38 seconds\n",
      "\n",
      "Computing density field of particles [1]\n",
      "1.34217728e+08 should be equal to\n",
      "1.34217728e+08\n",
      "Time taken = 1.37 seconds\n"
     ]
    },
    {
     "name": "stderr",
     "output_type": "stream",
     "text": [
      "100%|██████████| 8/8 [00:00<00:00, 30.76it/s]\n",
      "100%|██████████| 8/8 [00:00<00:00, 116.96it/s]\n"
     ]
    },
    {
     "name": "stdout",
     "output_type": "stream",
     "text": [
      "doing sim: 5\n",
      "doing res: 64\n",
      "\n",
      "Computing density field of particles [1]\n",
      "1.34217698e+08 should be equal to\n",
      "1.34217728e+08\n",
      "Time taken = 4.20 seconds\n",
      "\n",
      "Computing density field of particles [1]\n",
      "1.34217728e+08 should be equal to\n",
      "1.34217728e+08\n",
      "Time taken = 1.44 seconds\n"
     ]
    },
    {
     "name": "stderr",
     "output_type": "stream",
     "text": [
      "100%|██████████| 8/8 [00:00<00:00, 2111.27it/s]"
     ]
    },
    {
     "name": "stdout",
     "output_type": "stream",
     "text": [
      "\n",
      "Computing density field of particles [1]\n"
     ]
    },
    {
     "name": "stderr",
     "output_type": "stream",
     "text": [
      "\n"
     ]
    },
    {
     "name": "stdout",
     "output_type": "stream",
     "text": [
      "1.34217698e+08 should be equal to\n",
      "1.34217728e+08\n",
      "Time taken = 2.51 seconds\n",
      "\n",
      "Computing density field of particles [1]\n",
      "1.34217728e+08 should be equal to\n",
      "1.34217728e+08\n",
      "Time taken = 1.43 seconds\n"
     ]
    },
    {
     "name": "stderr",
     "output_type": "stream",
     "text": [
      "100%|██████████| 8/8 [00:00<00:00, 2299.82it/s]"
     ]
    },
    {
     "name": "stdout",
     "output_type": "stream",
     "text": [
      "\n",
      "Computing density field of particles [1]\n"
     ]
    },
    {
     "name": "stderr",
     "output_type": "stream",
     "text": [
      "\n"
     ]
    },
    {
     "name": "stdout",
     "output_type": "stream",
     "text": [
      "1.34217725e+08 should be equal to\n",
      "1.34217728e+08\n",
      "Time taken = 2.95 seconds\n",
      "\n",
      "Computing density field of particles [1]\n",
      "1.34217728e+08 should be equal to\n",
      "1.34217728e+08\n",
      "Time taken = 1.29 seconds\n"
     ]
    },
    {
     "name": "stderr",
     "output_type": "stream",
     "text": [
      "100%|██████████| 8/8 [00:00<00:00, 450.46it/s]\n",
      "100%|██████████| 8/8 [00:00<00:00, 2218.47it/s]"
     ]
    },
    {
     "name": "stdout",
     "output_type": "stream",
     "text": [
      "\n",
      "Computing density field of particles [1]\n"
     ]
    },
    {
     "name": "stderr",
     "output_type": "stream",
     "text": [
      "\n"
     ]
    },
    {
     "name": "stdout",
     "output_type": "stream",
     "text": [
      "1.34217725e+08 should be equal to\n",
      "1.34217728e+08\n",
      "Time taken = 2.87 seconds\n",
      "\n",
      "Computing density field of particles [1]\n",
      "1.34217728e+08 should be equal to\n",
      "1.34217728e+08\n",
      "Time taken = 1.27 seconds\n"
     ]
    },
    {
     "name": "stderr",
     "output_type": "stream",
     "text": [
      "100%|██████████| 8/8 [00:00<00:00, 608.04it/s]\n",
      "100%|██████████| 8/8 [00:00<00:00, 1758.89it/s]"
     ]
    },
    {
     "name": "stdout",
     "output_type": "stream",
     "text": [
      "\n",
      "Computing density field of particles [1]\n"
     ]
    },
    {
     "name": "stderr",
     "output_type": "stream",
     "text": [
      "\n"
     ]
    },
    {
     "name": "stdout",
     "output_type": "stream",
     "text": [
      "1.34217725e+08 should be equal to\n",
      "1.34217728e+08\n",
      "Time taken = 2.87 seconds\n",
      "\n",
      "Computing density field of particles [1]\n",
      "1.34217728e+08 should be equal to\n",
      "1.34217728e+08\n",
      "Time taken = 1.28 seconds\n"
     ]
    },
    {
     "name": "stderr",
     "output_type": "stream",
     "text": [
      "100%|██████████| 8/8 [00:00<00:00, 408.29it/s]\n",
      "100%|██████████| 8/8 [00:00<00:00, 2298.56it/s]\n"
     ]
    },
    {
     "name": "stdout",
     "output_type": "stream",
     "text": [
      "\n",
      "Computing density field of particles [1]\n",
      "1.34217725e+08 should be equal to\n",
      "1.34217728e+08\n",
      "Time taken = 2.88 seconds\n",
      "\n",
      "Computing density field of particles [1]\n",
      "1.34217728e+08 should be equal to\n",
      "1.34217728e+08\n",
      "Time taken = 1.26 seconds\n"
     ]
    },
    {
     "name": "stderr",
     "output_type": "stream",
     "text": [
      "100%|██████████| 8/8 [00:00<00:00, 610.34it/s]\n",
      "100%|██████████| 8/8 [00:00<00:00, 2303.61it/s]\n"
     ]
    },
    {
     "name": "stdout",
     "output_type": "stream",
     "text": [
      "doing res: 128\n",
      "\n",
      "Computing density field of particles [1]\n",
      "1.34217725e+08 should be equal to\n",
      "1.34217728e+08\n",
      "Time taken = 2.48 seconds\n",
      "\n",
      "Computing density field of particles [1]\n",
      "1.34217728e+08 should be equal to\n",
      "1.34217728e+08\n",
      "Time taken = 1.44 seconds\n"
     ]
    },
    {
     "name": "stderr",
     "output_type": "stream",
     "text": [
      "100%|██████████| 8/8 [00:00<00:00, 515.86it/s]"
     ]
    },
    {
     "name": "stdout",
     "output_type": "stream",
     "text": [
      "\n",
      "Computing density field of particles [1]\n"
     ]
    },
    {
     "name": "stderr",
     "output_type": "stream",
     "text": [
      "\n"
     ]
    },
    {
     "name": "stdout",
     "output_type": "stream",
     "text": [
      "1.34217725e+08 should be equal to\n",
      "1.34217728e+08\n",
      "Time taken = 2.50 seconds\n",
      "\n",
      "Computing density field of particles [1]\n",
      "1.34217728e+08 should be equal to\n",
      "1.34217728e+08\n",
      "Time taken = 1.45 seconds\n"
     ]
    },
    {
     "name": "stderr",
     "output_type": "stream",
     "text": [
      "100%|██████████| 8/8 [00:00<00:00, 505.60it/s]"
     ]
    },
    {
     "name": "stdout",
     "output_type": "stream",
     "text": [
      "\n",
      "Computing density field of particles [1]\n"
     ]
    },
    {
     "name": "stderr",
     "output_type": "stream",
     "text": [
      "\n"
     ]
    },
    {
     "name": "stdout",
     "output_type": "stream",
     "text": [
      "1.34217728e+08 should be equal to\n",
      "1.34217728e+08\n",
      "Time taken = 2.40 seconds\n",
      "\n",
      "Computing density field of particles [1]\n",
      "1.34217728e+08 should be equal to\n",
      "1.34217728e+08\n",
      "Time taken = 1.32 seconds\n"
     ]
    },
    {
     "name": "stderr",
     "output_type": "stream",
     "text": [
      "100%|██████████| 8/8 [00:00<00:00, 189.17it/s]\n",
      "100%|██████████| 8/8 [00:00<00:00, 514.75it/s]\n"
     ]
    },
    {
     "name": "stdout",
     "output_type": "stream",
     "text": [
      "\n",
      "Computing density field of particles [1]\n",
      "1.34217728e+08 should be equal to\n",
      "1.34217728e+08\n",
      "Time taken = 2.38 seconds\n",
      "\n",
      "Computing density field of particles [1]\n",
      "1.34217728e+08 should be equal to\n",
      "1.34217728e+08\n",
      "Time taken = 1.30 seconds\n"
     ]
    },
    {
     "name": "stderr",
     "output_type": "stream",
     "text": [
      "100%|██████████| 8/8 [00:00<00:00, 190.08it/s]\n",
      "100%|██████████| 8/8 [00:00<00:00, 514.44it/s]\n"
     ]
    },
    {
     "name": "stdout",
     "output_type": "stream",
     "text": [
      "\n",
      "Computing density field of particles [1]\n",
      "1.34217728e+08 should be equal to\n",
      "1.34217728e+08\n",
      "Time taken = 2.37 seconds\n",
      "\n",
      "Computing density field of particles [1]\n",
      "1.34217728e+08 should be equal to\n",
      "1.34217728e+08\n",
      "Time taken = 1.29 seconds\n"
     ]
    },
    {
     "name": "stderr",
     "output_type": "stream",
     "text": [
      "100%|██████████| 8/8 [00:00<00:00, 194.85it/s]\n",
      "100%|██████████| 8/8 [00:00<00:00, 517.59it/s]\n"
     ]
    },
    {
     "name": "stdout",
     "output_type": "stream",
     "text": [
      "\n",
      "Computing density field of particles [1]\n",
      "1.34217728e+08 should be equal to\n",
      "1.34217728e+08\n",
      "Time taken = 2.36 seconds\n",
      "\n",
      "Computing density field of particles [1]\n",
      "1.34217728e+08 should be equal to\n",
      "1.34217728e+08\n",
      "Time taken = 1.30 seconds\n"
     ]
    },
    {
     "name": "stderr",
     "output_type": "stream",
     "text": [
      "100%|██████████| 8/8 [00:00<00:00, 174.45it/s]\n",
      "100%|██████████| 8/8 [00:00<00:00, 502.18it/s]\n"
     ]
    },
    {
     "name": "stdout",
     "output_type": "stream",
     "text": [
      "doing res: 256\n",
      "\n",
      "Computing density field of particles [1]\n",
      "1.34217728e+08 should be equal to\n",
      "1.34217728e+08\n",
      "Time taken = 2.51 seconds\n",
      "\n",
      "Computing density field of particles [1]\n",
      "1.34217728e+08 should be equal to\n",
      "1.34217728e+08\n",
      "Time taken = 1.47 seconds\n"
     ]
    },
    {
     "name": "stderr",
     "output_type": "stream",
     "text": [
      "100%|██████████| 8/8 [00:00<00:00, 116.70it/s]\n"
     ]
    },
    {
     "name": "stdout",
     "output_type": "stream",
     "text": [
      "\n",
      "Computing density field of particles [1]\n",
      "1.34217728e+08 should be equal to\n",
      "1.34217728e+08\n",
      "Time taken = 2.32 seconds\n",
      "\n",
      "Computing density field of particles [1]\n",
      "1.34217728e+08 should be equal to\n",
      "1.34217728e+08\n",
      "Time taken = 1.36 seconds\n"
     ]
    },
    {
     "name": "stderr",
     "output_type": "stream",
     "text": [
      "100%|██████████| 8/8 [00:00<00:00, 122.50it/s]\n"
     ]
    },
    {
     "name": "stdout",
     "output_type": "stream",
     "text": [
      "\n",
      "Computing density field of particles [1]\n",
      "1.34217728e+08 should be equal to\n",
      "1.34217728e+08\n",
      "Time taken = 2.21 seconds\n",
      "\n",
      "Computing density field of particles [1]\n",
      "1.34217728e+08 should be equal to\n",
      "1.34217728e+08\n",
      "Time taken = 1.30 seconds\n"
     ]
    },
    {
     "name": "stderr",
     "output_type": "stream",
     "text": [
      "100%|██████████| 8/8 [00:00<00:00, 32.40it/s]\n",
      "100%|██████████| 8/8 [00:00<00:00, 121.50it/s]\n"
     ]
    },
    {
     "name": "stdout",
     "output_type": "stream",
     "text": [
      "\n",
      "Computing density field of particles [1]\n",
      "1.34217728e+08 should be equal to\n",
      "1.34217728e+08\n",
      "Time taken = 2.21 seconds\n",
      "\n",
      "Computing density field of particles [1]\n",
      "1.34217728e+08 should be equal to\n",
      "1.34217728e+08\n",
      "Time taken = 1.30 seconds\n"
     ]
    },
    {
     "name": "stderr",
     "output_type": "stream",
     "text": [
      "100%|██████████| 8/8 [00:00<00:00, 32.30it/s]\n",
      "100%|██████████| 8/8 [00:00<00:00, 124.00it/s]\n"
     ]
    },
    {
     "name": "stdout",
     "output_type": "stream",
     "text": [
      "\n",
      "Computing density field of particles [1]\n",
      "1.34217728e+08 should be equal to\n",
      "1.34217728e+08\n",
      "Time taken = 2.23 seconds\n",
      "\n",
      "Computing density field of particles [1]\n",
      "1.34217728e+08 should be equal to\n",
      "1.34217728e+08\n",
      "Time taken = 1.29 seconds\n"
     ]
    },
    {
     "name": "stderr",
     "output_type": "stream",
     "text": [
      "100%|██████████| 8/8 [00:00<00:00, 30.90it/s]\n",
      "100%|██████████| 8/8 [00:00<00:00, 123.84it/s]\n"
     ]
    },
    {
     "name": "stdout",
     "output_type": "stream",
     "text": [
      "\n",
      "Computing density field of particles [1]\n",
      "1.34217728e+08 should be equal to\n",
      "1.34217728e+08\n",
      "Time taken = 2.26 seconds\n",
      "\n",
      "Computing density field of particles [1]\n",
      "1.34217728e+08 should be equal to\n",
      "1.34217728e+08\n",
      "Time taken = 1.32 seconds\n"
     ]
    },
    {
     "name": "stderr",
     "output_type": "stream",
     "text": [
      "100%|██████████| 8/8 [00:00<00:00, 31.98it/s]\n",
      "100%|██████████| 8/8 [00:00<00:00, 122.88it/s]\n"
     ]
    },
    {
     "name": "stdout",
     "output_type": "stream",
     "text": [
      "doing sim: 6\n",
      "doing res: 64\n",
      "\n",
      "Computing density field of particles [1]\n",
      "1.34217697e+08 should be equal to\n",
      "1.34217728e+08\n",
      "Time taken = 4.15 seconds\n",
      "\n",
      "Computing density field of particles [1]\n",
      "1.34217728e+08 should be equal to\n",
      "1.34217728e+08\n",
      "Time taken = 1.30 seconds\n"
     ]
    },
    {
     "name": "stderr",
     "output_type": "stream",
     "text": [
      "100%|██████████| 8/8 [00:00<00:00, 2408.62it/s]"
     ]
    },
    {
     "name": "stdout",
     "output_type": "stream",
     "text": [
      "\n",
      "Computing density field of particles [1]\n"
     ]
    },
    {
     "name": "stderr",
     "output_type": "stream",
     "text": [
      "\n"
     ]
    },
    {
     "name": "stdout",
     "output_type": "stream",
     "text": [
      "1.34217697e+08 should be equal to\n",
      "1.34217728e+08\n",
      "Time taken = 2.26 seconds\n",
      "\n",
      "Computing density field of particles [1]\n",
      "1.34217728e+08 should be equal to\n",
      "1.34217728e+08\n",
      "Time taken = 1.28 seconds\n"
     ]
    },
    {
     "name": "stderr",
     "output_type": "stream",
     "text": [
      "100%|██████████| 8/8 [00:00<00:00, 2424.98it/s]"
     ]
    },
    {
     "name": "stdout",
     "output_type": "stream",
     "text": [
      "\n",
      "Computing density field of particles [1]\n"
     ]
    },
    {
     "name": "stderr",
     "output_type": "stream",
     "text": [
      "\n"
     ]
    },
    {
     "name": "stdout",
     "output_type": "stream",
     "text": [
      "1.34217725e+08 should be equal to\n",
      "1.34217728e+08\n",
      "Time taken = 2.64 seconds\n",
      "\n",
      "Computing density field of particles [1]\n",
      "1.34217728e+08 should be equal to\n",
      "1.34217728e+08\n",
      "Time taken = 1.16 seconds\n"
     ]
    },
    {
     "name": "stderr",
     "output_type": "stream",
     "text": [
      "100%|██████████| 8/8 [00:00<00:00, 441.31it/s]\n",
      "100%|██████████| 8/8 [00:00<00:00, 2264.90it/s]"
     ]
    },
    {
     "name": "stdout",
     "output_type": "stream",
     "text": [
      "\n",
      "Computing density field of particles [1]\n"
     ]
    },
    {
     "name": "stderr",
     "output_type": "stream",
     "text": [
      "\n"
     ]
    },
    {
     "name": "stdout",
     "output_type": "stream",
     "text": [
      "1.34217725e+08 should be equal to\n",
      "1.34217728e+08\n",
      "Time taken = 2.71 seconds\n",
      "\n",
      "Computing density field of particles [1]\n",
      "1.34217728e+08 should be equal to\n",
      "1.34217728e+08\n",
      "Time taken = 1.19 seconds\n"
     ]
    },
    {
     "name": "stderr",
     "output_type": "stream",
     "text": [
      "100%|██████████| 8/8 [00:00<00:00, 423.32it/s]\n",
      "100%|██████████| 8/8 [00:00<00:00, 2257.28it/s]"
     ]
    },
    {
     "name": "stdout",
     "output_type": "stream",
     "text": [
      "\n",
      "Computing density field of particles [1]\n"
     ]
    },
    {
     "name": "stderr",
     "output_type": "stream",
     "text": [
      "\n"
     ]
    },
    {
     "name": "stdout",
     "output_type": "stream",
     "text": [
      "1.34217725e+08 should be equal to\n",
      "1.34217728e+08\n",
      "Time taken = 2.71 seconds\n",
      "\n",
      "Computing density field of particles [1]\n",
      "1.34217728e+08 should be equal to\n",
      "1.34217728e+08\n",
      "Time taken = 1.19 seconds\n"
     ]
    },
    {
     "name": "stderr",
     "output_type": "stream",
     "text": [
      "100%|██████████| 8/8 [00:00<00:00, 421.28it/s]\n",
      "100%|██████████| 8/8 [00:00<00:00, 2258.04it/s]\n"
     ]
    },
    {
     "name": "stdout",
     "output_type": "stream",
     "text": [
      "\n",
      "Computing density field of particles [1]\n",
      "1.34217725e+08 should be equal to\n",
      "1.34217728e+08\n",
      "Time taken = 2.68 seconds\n",
      "\n",
      "Computing density field of particles [1]\n",
      "1.34217728e+08 should be equal to\n",
      "1.34217728e+08\n",
      "Time taken = 1.16 seconds\n"
     ]
    },
    {
     "name": "stderr",
     "output_type": "stream",
     "text": [
      "100%|██████████| 8/8 [00:00<00:00, 488.95it/s]\n",
      "100%|██████████| 8/8 [00:00<00:00, 2227.01it/s]\n"
     ]
    },
    {
     "name": "stdout",
     "output_type": "stream",
     "text": [
      "doing res: 128\n",
      "\n",
      "Computing density field of particles [1]\n",
      "1.34217725e+08 should be equal to\n",
      "1.34217728e+08\n",
      "Time taken = 2.28 seconds\n",
      "\n",
      "Computing density field of particles [1]\n",
      "1.34217728e+08 should be equal to\n",
      "1.34217728e+08\n",
      "Time taken = 1.32 seconds\n"
     ]
    },
    {
     "name": "stderr",
     "output_type": "stream",
     "text": [
      "100%|██████████| 8/8 [00:00<00:00, 557.84it/s]"
     ]
    },
    {
     "name": "stdout",
     "output_type": "stream",
     "text": [
      "\n",
      "Computing density field of particles [1]\n"
     ]
    },
    {
     "name": "stderr",
     "output_type": "stream",
     "text": [
      "\n"
     ]
    },
    {
     "name": "stdout",
     "output_type": "stream",
     "text": [
      "1.34217725e+08 should be equal to\n",
      "1.34217728e+08\n",
      "Time taken = 2.33 seconds\n",
      "\n",
      "Computing density field of particles [1]\n",
      "1.34217728e+08 should be equal to\n",
      "1.34217728e+08\n",
      "Time taken = 1.35 seconds\n"
     ]
    },
    {
     "name": "stderr",
     "output_type": "stream",
     "text": [
      "100%|██████████| 8/8 [00:00<00:00, 535.66it/s]\n"
     ]
    },
    {
     "name": "stdout",
     "output_type": "stream",
     "text": [
      "\n",
      "Computing density field of particles [1]\n",
      "1.34217728e+08 should be equal to\n",
      "1.34217728e+08\n",
      "Time taken = 2.25 seconds\n",
      "\n",
      "Computing density field of particles [1]\n",
      "1.34217728e+08 should be equal to\n",
      "1.34217728e+08\n",
      "Time taken = 1.21 seconds\n"
     ]
    },
    {
     "name": "stderr",
     "output_type": "stream",
     "text": [
      "100%|██████████| 8/8 [00:00<00:00, 194.30it/s]\n",
      "100%|██████████| 8/8 [00:00<00:00, 535.70it/s]\n"
     ]
    },
    {
     "name": "stdout",
     "output_type": "stream",
     "text": [
      "\n",
      "Computing density field of particles [1]\n",
      "1.34217728e+08 should be equal to\n",
      "1.34217728e+08\n",
      "Time taken = 2.18 seconds\n",
      "\n",
      "Computing density field of particles [1]\n",
      "1.34217728e+08 should be equal to\n",
      "1.34217728e+08\n",
      "Time taken = 1.23 seconds\n"
     ]
    },
    {
     "name": "stderr",
     "output_type": "stream",
     "text": [
      "100%|██████████| 8/8 [00:00<00:00, 188.76it/s]\n",
      "100%|██████████| 8/8 [00:00<00:00, 536.23it/s]\n"
     ]
    },
    {
     "name": "stdout",
     "output_type": "stream",
     "text": [
      "\n",
      "Computing density field of particles [1]\n",
      "1.34217728e+08 should be equal to\n",
      "1.34217728e+08\n",
      "Time taken = 2.24 seconds\n",
      "\n",
      "Computing density field of particles [1]\n",
      "1.34217728e+08 should be equal to\n",
      "1.34217728e+08\n",
      "Time taken = 1.24 seconds\n"
     ]
    },
    {
     "name": "stderr",
     "output_type": "stream",
     "text": [
      "100%|██████████| 8/8 [00:00<00:00, 192.47it/s]\n",
      "100%|██████████| 8/8 [00:00<00:00, 522.22it/s]\n"
     ]
    },
    {
     "name": "stdout",
     "output_type": "stream",
     "text": [
      "\n",
      "Computing density field of particles [1]\n",
      "1.34217728e+08 should be equal to\n",
      "1.34217728e+08\n",
      "Time taken = 2.26 seconds\n",
      "\n",
      "Computing density field of particles [1]\n",
      "1.34217728e+08 should be equal to\n",
      "1.34217728e+08\n",
      "Time taken = 1.23 seconds\n"
     ]
    },
    {
     "name": "stderr",
     "output_type": "stream",
     "text": [
      "100%|██████████| 8/8 [00:00<00:00, 189.83it/s]\n",
      "100%|██████████| 8/8 [00:00<00:00, 515.23it/s]\n"
     ]
    },
    {
     "name": "stdout",
     "output_type": "stream",
     "text": [
      "doing res: 256\n",
      "\n",
      "Computing density field of particles [1]\n",
      "1.34217728e+08 should be equal to\n",
      "1.34217728e+08\n",
      "Time taken = 2.39 seconds\n",
      "\n",
      "Computing density field of particles [1]\n",
      "1.34217728e+08 should be equal to\n",
      "1.34217728e+08\n",
      "Time taken = 1.39 seconds\n"
     ]
    },
    {
     "name": "stderr",
     "output_type": "stream",
     "text": [
      "100%|██████████| 8/8 [00:00<00:00, 120.70it/s]\n"
     ]
    },
    {
     "name": "stdout",
     "output_type": "stream",
     "text": [
      "\n",
      "Computing density field of particles [1]\n",
      "1.34217728e+08 should be equal to\n",
      "1.34217728e+08\n",
      "Time taken = 2.36 seconds\n",
      "\n",
      "Computing density field of particles [1]\n",
      "1.34217728e+08 should be equal to\n",
      "1.34217728e+08\n",
      "Time taken = 1.38 seconds\n"
     ]
    },
    {
     "name": "stderr",
     "output_type": "stream",
     "text": [
      "100%|██████████| 8/8 [00:00<00:00, 122.00it/s]\n"
     ]
    },
    {
     "name": "stdout",
     "output_type": "stream",
     "text": [
      "\n",
      "Computing density field of particles [1]\n",
      "1.34217728e+08 should be equal to\n",
      "1.34217728e+08\n",
      "Time taken = 2.24 seconds\n",
      "\n",
      "Computing density field of particles [1]\n",
      "1.34217728e+08 should be equal to\n",
      "1.34217728e+08\n",
      "Time taken = 1.31 seconds\n"
     ]
    },
    {
     "name": "stderr",
     "output_type": "stream",
     "text": [
      "100%|██████████| 8/8 [00:00<00:00, 31.70it/s]\n",
      "100%|██████████| 8/8 [00:00<00:00, 121.12it/s]\n"
     ]
    },
    {
     "name": "stdout",
     "output_type": "stream",
     "text": [
      "\n",
      "Computing density field of particles [1]\n",
      "1.34217728e+08 should be equal to\n",
      "1.34217728e+08\n",
      "Time taken = 2.25 seconds\n",
      "\n",
      "Computing density field of particles [1]\n",
      "1.34217728e+08 should be equal to\n",
      "1.34217728e+08\n",
      "Time taken = 1.31 seconds\n"
     ]
    },
    {
     "name": "stderr",
     "output_type": "stream",
     "text": [
      "100%|██████████| 8/8 [00:00<00:00, 21.85it/s]\n",
      "100%|██████████| 8/8 [00:00<00:00, 121.96it/s]\n"
     ]
    },
    {
     "name": "stdout",
     "output_type": "stream",
     "text": [
      "\n",
      "Computing density field of particles [1]\n",
      "1.34217728e+08 should be equal to\n",
      "1.34217728e+08\n",
      "Time taken = 5.02 seconds\n",
      "\n",
      "Computing density field of particles [1]\n",
      "1.34217728e+08 should be equal to\n",
      "1.34217728e+08\n",
      "Time taken = 1.37 seconds\n"
     ]
    },
    {
     "name": "stderr",
     "output_type": "stream",
     "text": [
      "100%|██████████| 8/8 [00:00<00:00, 31.20it/s]\n",
      "100%|██████████| 8/8 [00:00<00:00, 117.90it/s]\n"
     ]
    },
    {
     "name": "stdout",
     "output_type": "stream",
     "text": [
      "\n",
      "Computing density field of particles [1]\n",
      "1.34217728e+08 should be equal to\n",
      "1.34217728e+08\n",
      "Time taken = 2.88 seconds\n",
      "\n",
      "Computing density field of particles [1]\n",
      "1.34217728e+08 should be equal to\n",
      "1.34217728e+08\n",
      "Time taken = 1.33 seconds\n"
     ]
    },
    {
     "name": "stderr",
     "output_type": "stream",
     "text": [
      "100%|██████████| 8/8 [00:00<00:00, 30.91it/s]\n",
      "100%|██████████| 8/8 [00:00<00:00, 114.73it/s]\n"
     ]
    },
    {
     "name": "stdout",
     "output_type": "stream",
     "text": [
      "doing sim: 7\n",
      "doing res: 64\n",
      "\n",
      "Computing density field of particles [1]\n",
      "1.34217698e+08 should be equal to\n",
      "1.34217728e+08\n",
      "Time taken = 4.21 seconds\n",
      "\n",
      "Computing density field of particles [1]\n",
      "1.34217728e+08 should be equal to\n",
      "1.34217728e+08\n",
      "Time taken = 1.32 seconds\n"
     ]
    },
    {
     "name": "stderr",
     "output_type": "stream",
     "text": [
      "100%|██████████| 8/8 [00:00<00:00, 2358.67it/s]"
     ]
    },
    {
     "name": "stdout",
     "output_type": "stream",
     "text": [
      "\n",
      "Computing density field of particles [1]\n"
     ]
    },
    {
     "name": "stderr",
     "output_type": "stream",
     "text": [
      "\n"
     ]
    },
    {
     "name": "stdout",
     "output_type": "stream",
     "text": [
      "1.34217698e+08 should be equal to\n",
      "1.34217728e+08\n",
      "Time taken = 2.34 seconds\n",
      "\n",
      "Computing density field of particles [1]\n",
      "1.34217728e+08 should be equal to\n",
      "1.34217728e+08\n",
      "Time taken = 1.36 seconds\n"
     ]
    },
    {
     "name": "stderr",
     "output_type": "stream",
     "text": [
      "100%|██████████| 8/8 [00:00<00:00, 2335.52it/s]"
     ]
    },
    {
     "name": "stdout",
     "output_type": "stream",
     "text": [
      "\n",
      "Computing density field of particles [1]\n"
     ]
    },
    {
     "name": "stderr",
     "output_type": "stream",
     "text": [
      "\n"
     ]
    },
    {
     "name": "stdout",
     "output_type": "stream",
     "text": [
      "1.34217725e+08 should be equal to\n",
      "1.34217728e+08\n",
      "Time taken = 2.75 seconds\n",
      "\n",
      "Computing density field of particles [1]\n",
      "1.34217728e+08 should be equal to\n",
      "1.34217728e+08\n",
      "Time taken = 1.18 seconds\n"
     ]
    },
    {
     "name": "stderr",
     "output_type": "stream",
     "text": [
      "100%|██████████| 8/8 [00:00<00:00, 453.92it/s]\n",
      "100%|██████████| 8/8 [00:00<00:00, 2385.33it/s]"
     ]
    },
    {
     "name": "stdout",
     "output_type": "stream",
     "text": [
      "\n",
      "Computing density field of particles [1]\n"
     ]
    },
    {
     "name": "stderr",
     "output_type": "stream",
     "text": [
      "\n"
     ]
    },
    {
     "name": "stdout",
     "output_type": "stream",
     "text": [
      "1.34217724e+08 should be equal to\n",
      "1.34217728e+08\n",
      "Time taken = 2.72 seconds\n",
      "\n",
      "Computing density field of particles [1]\n",
      "1.34217728e+08 should be equal to\n",
      "1.34217728e+08\n",
      "Time taken = 1.20 seconds\n"
     ]
    },
    {
     "name": "stderr",
     "output_type": "stream",
     "text": [
      "100%|██████████| 8/8 [00:00<00:00, 619.33it/s]\n",
      "100%|██████████| 8/8 [00:00<00:00, 2301.24it/s]"
     ]
    },
    {
     "name": "stdout",
     "output_type": "stream",
     "text": [
      "\n",
      "Computing density field of particles [1]\n"
     ]
    },
    {
     "name": "stderr",
     "output_type": "stream",
     "text": [
      "\n"
     ]
    },
    {
     "name": "stdout",
     "output_type": "stream",
     "text": [
      "1.34217725e+08 should be equal to\n",
      "1.34217728e+08\n",
      "Time taken = 2.75 seconds\n",
      "\n",
      "Computing density field of particles [1]\n",
      "1.34217728e+08 should be equal to\n",
      "1.34217728e+08\n",
      "Time taken = 1.21 seconds\n"
     ]
    },
    {
     "name": "stderr",
     "output_type": "stream",
     "text": [
      "100%|██████████| 8/8 [00:00<00:00, 446.30it/s]\n",
      "100%|██████████| 8/8 [00:00<00:00, 2296.99it/s]"
     ]
    },
    {
     "name": "stdout",
     "output_type": "stream",
     "text": [
      "\n",
      "Computing density field of particles [1]\n"
     ]
    },
    {
     "name": "stderr",
     "output_type": "stream",
     "text": [
      "\n"
     ]
    },
    {
     "name": "stdout",
     "output_type": "stream",
     "text": [
      "1.34217724e+08 should be equal to\n",
      "1.34217728e+08\n",
      "Time taken = 2.78 seconds\n",
      "\n",
      "Computing density field of particles [1]\n",
      "1.34217728e+08 should be equal to\n",
      "1.34217728e+08\n",
      "Time taken = 1.22 seconds\n"
     ]
    },
    {
     "name": "stderr",
     "output_type": "stream",
     "text": [
      "100%|██████████| 8/8 [00:00<00:00, 437.67it/s]\n",
      "100%|██████████| 8/8 [00:00<00:00, 2286.66it/s]\n"
     ]
    },
    {
     "name": "stdout",
     "output_type": "stream",
     "text": [
      "doing res: 128\n",
      "\n",
      "Computing density field of particles [1]\n",
      "1.34217725e+08 should be equal to\n",
      "1.34217728e+08\n",
      "Time taken = 2.32 seconds\n",
      "\n",
      "Computing density field of particles [1]\n",
      "1.34217728e+08 should be equal to\n",
      "1.34217728e+08\n",
      "Time taken = 1.37 seconds\n"
     ]
    },
    {
     "name": "stderr",
     "output_type": "stream",
     "text": [
      "100%|██████████| 8/8 [00:00<00:00, 532.80it/s]"
     ]
    },
    {
     "name": "stdout",
     "output_type": "stream",
     "text": [
      "\n",
      "Computing density field of particles [1]\n"
     ]
    },
    {
     "name": "stderr",
     "output_type": "stream",
     "text": [
      "\n"
     ]
    },
    {
     "name": "stdout",
     "output_type": "stream",
     "text": [
      "1.34217725e+08 should be equal to\n",
      "1.34217728e+08\n",
      "Time taken = 2.33 seconds\n",
      "\n",
      "Computing density field of particles [1]\n",
      "1.34217728e+08 should be equal to\n",
      "1.34217728e+08\n",
      "Time taken = 1.41 seconds\n"
     ]
    },
    {
     "name": "stderr",
     "output_type": "stream",
     "text": [
      "100%|██████████| 8/8 [00:00<00:00, 525.74it/s]"
     ]
    },
    {
     "name": "stdout",
     "output_type": "stream",
     "text": [
      "\n",
      "Computing density field of particles [1]\n"
     ]
    },
    {
     "name": "stderr",
     "output_type": "stream",
     "text": [
      "\n"
     ]
    },
    {
     "name": "stdout",
     "output_type": "stream",
     "text": [
      "1.34217728e+08 should be equal to\n",
      "1.34217728e+08\n",
      "Time taken = 2.18 seconds\n",
      "\n",
      "Computing density field of particles [1]\n",
      "1.34217728e+08 should be equal to\n",
      "1.34217728e+08\n",
      "Time taken = 1.24 seconds\n"
     ]
    },
    {
     "name": "stderr",
     "output_type": "stream",
     "text": [
      "100%|██████████| 8/8 [00:00<00:00, 212.00it/s]\n",
      "100%|██████████| 8/8 [00:00<00:00, 659.22it/s]\n"
     ]
    },
    {
     "name": "stdout",
     "output_type": "stream",
     "text": [
      "\n",
      "Computing density field of particles [1]\n",
      "1.34217728e+08 should be equal to\n",
      "1.34217728e+08\n",
      "Time taken = 2.21 seconds\n",
      "\n",
      "Computing density field of particles [1]\n",
      "1.34217728e+08 should be equal to\n",
      "1.34217728e+08\n",
      "Time taken = 1.21 seconds\n"
     ]
    },
    {
     "name": "stderr",
     "output_type": "stream",
     "text": [
      "100%|██████████| 8/8 [00:00<00:00, 191.90it/s]\n",
      "100%|██████████| 8/8 [00:00<00:00, 530.90it/s]\n"
     ]
    },
    {
     "name": "stdout",
     "output_type": "stream",
     "text": [
      "\n",
      "Computing density field of particles [1]\n",
      "1.34217728e+08 should be equal to\n",
      "1.34217728e+08\n",
      "Time taken = 2.24 seconds\n",
      "\n",
      "Computing density field of particles [1]\n",
      "1.34217728e+08 should be equal to\n",
      "1.34217728e+08\n",
      "Time taken = 1.20 seconds\n"
     ]
    },
    {
     "name": "stderr",
     "output_type": "stream",
     "text": [
      "100%|██████████| 8/8 [00:00<00:00, 200.19it/s]\n",
      "100%|██████████| 8/8 [00:00<00:00, 525.76it/s]\n"
     ]
    },
    {
     "name": "stdout",
     "output_type": "stream",
     "text": [
      "\n",
      "Computing density field of particles [1]\n",
      "1.34217728e+08 should be equal to\n",
      "1.34217728e+08\n",
      "Time taken = 2.25 seconds\n",
      "\n",
      "Computing density field of particles [1]\n",
      "1.34217728e+08 should be equal to\n",
      "1.34217728e+08\n",
      "Time taken = 1.25 seconds\n"
     ]
    },
    {
     "name": "stderr",
     "output_type": "stream",
     "text": [
      "100%|██████████| 8/8 [00:00<00:00, 190.59it/s]\n",
      "100%|██████████| 8/8 [00:00<00:00, 503.41it/s]\n"
     ]
    },
    {
     "name": "stdout",
     "output_type": "stream",
     "text": [
      "doing res: 256\n",
      "\n",
      "Computing density field of particles [1]\n",
      "1.34217728e+08 should be equal to\n",
      "1.34217728e+08\n",
      "Time taken = 2.39 seconds\n",
      "\n",
      "Computing density field of particles [1]\n",
      "1.34217728e+08 should be equal to\n",
      "1.34217728e+08\n",
      "Time taken = 1.39 seconds\n"
     ]
    },
    {
     "name": "stderr",
     "output_type": "stream",
     "text": [
      "100%|██████████| 8/8 [00:00<00:00, 121.45it/s]\n"
     ]
    },
    {
     "name": "stdout",
     "output_type": "stream",
     "text": [
      "\n",
      "Computing density field of particles [1]\n",
      "1.34217728e+08 should be equal to\n",
      "1.34217728e+08\n",
      "Time taken = 2.33 seconds\n",
      "\n",
      "Computing density field of particles [1]\n",
      "1.34217728e+08 should be equal to\n",
      "1.34217728e+08\n",
      "Time taken = 1.40 seconds\n"
     ]
    },
    {
     "name": "stderr",
     "output_type": "stream",
     "text": [
      "100%|██████████| 8/8 [00:00<00:00, 122.11it/s]\n"
     ]
    },
    {
     "name": "stdout",
     "output_type": "stream",
     "text": [
      "\n",
      "Computing density field of particles [1]\n",
      "1.34217728e+08 should be equal to\n",
      "1.34217728e+08\n",
      "Time taken = 2.28 seconds\n",
      "\n",
      "Computing density field of particles [1]\n",
      "1.34217728e+08 should be equal to\n",
      "1.34217728e+08\n",
      "Time taken = 1.33 seconds\n"
     ]
    },
    {
     "name": "stderr",
     "output_type": "stream",
     "text": [
      "100%|██████████| 8/8 [00:00<00:00, 30.79it/s]\n",
      "100%|██████████| 8/8 [00:00<00:00, 122.69it/s]\n"
     ]
    },
    {
     "name": "stdout",
     "output_type": "stream",
     "text": [
      "\n",
      "Computing density field of particles [1]\n",
      "1.34217728e+08 should be equal to\n",
      "1.34217728e+08\n",
      "Time taken = 2.23 seconds\n",
      "\n",
      "Computing density field of particles [1]\n",
      "1.34217728e+08 should be equal to\n",
      "1.34217728e+08\n",
      "Time taken = 1.33 seconds\n"
     ]
    },
    {
     "name": "stderr",
     "output_type": "stream",
     "text": [
      "100%|██████████| 8/8 [00:00<00:00, 31.51it/s]\n",
      "100%|██████████| 8/8 [00:00<00:00, 122.60it/s]\n"
     ]
    },
    {
     "name": "stdout",
     "output_type": "stream",
     "text": [
      "\n",
      "Computing density field of particles [1]\n",
      "1.34217728e+08 should be equal to\n",
      "1.34217728e+08\n",
      "Time taken = 2.25 seconds\n",
      "\n",
      "Computing density field of particles [1]\n",
      "1.34217728e+08 should be equal to\n",
      "1.34217728e+08\n",
      "Time taken = 1.31 seconds\n"
     ]
    },
    {
     "name": "stderr",
     "output_type": "stream",
     "text": [
      "100%|██████████| 8/8 [00:00<00:00, 32.16it/s]\n",
      "100%|██████████| 8/8 [00:00<00:00, 120.89it/s]\n"
     ]
    },
    {
     "name": "stdout",
     "output_type": "stream",
     "text": [
      "\n",
      "Computing density field of particles [1]\n",
      "1.34217728e+08 should be equal to\n",
      "1.34217728e+08\n",
      "Time taken = 2.27 seconds\n",
      "\n",
      "Computing density field of particles [1]\n",
      "1.34217728e+08 should be equal to\n",
      "1.34217728e+08\n",
      "Time taken = 1.36 seconds\n"
     ]
    },
    {
     "name": "stderr",
     "output_type": "stream",
     "text": [
      "100%|██████████| 8/8 [00:00<00:00, 31.08it/s]\n",
      "100%|██████████| 8/8 [00:00<00:00, 117.97it/s]\n"
     ]
    },
    {
     "name": "stdout",
     "output_type": "stream",
     "text": [
      "doing sim: 8\n",
      "doing res: 64\n",
      "\n",
      "Computing density field of particles [1]\n",
      "1.34217698e+08 should be equal to\n",
      "1.34217728e+08\n",
      "Time taken = 4.15 seconds\n",
      "\n",
      "Computing density field of particles [1]\n",
      "1.34217728e+08 should be equal to\n",
      "1.34217728e+08\n",
      "Time taken = 1.35 seconds\n"
     ]
    },
    {
     "name": "stderr",
     "output_type": "stream",
     "text": [
      "100%|██████████| 8/8 [00:00<00:00, 2340.41it/s]"
     ]
    },
    {
     "name": "stdout",
     "output_type": "stream",
     "text": [
      "\n",
      "Computing density field of particles [1]\n"
     ]
    },
    {
     "name": "stderr",
     "output_type": "stream",
     "text": [
      "\n"
     ]
    },
    {
     "name": "stdout",
     "output_type": "stream",
     "text": [
      "1.34217698e+08 should be equal to\n",
      "1.34217728e+08\n",
      "Time taken = 2.38 seconds\n",
      "\n",
      "Computing density field of particles [1]\n",
      "1.34217728e+08 should be equal to\n",
      "1.34217728e+08\n",
      "Time taken = 1.33 seconds\n"
     ]
    },
    {
     "name": "stderr",
     "output_type": "stream",
     "text": [
      "100%|██████████| 8/8 [00:00<00:00, 2402.58it/s]"
     ]
    },
    {
     "name": "stdout",
     "output_type": "stream",
     "text": [
      "\n",
      "Computing density field of particles [1]\n"
     ]
    },
    {
     "name": "stderr",
     "output_type": "stream",
     "text": [
      "\n"
     ]
    },
    {
     "name": "stdout",
     "output_type": "stream",
     "text": [
      "1.34217725e+08 should be equal to\n",
      "1.34217728e+08\n",
      "Time taken = 2.73 seconds\n",
      "\n",
      "Computing density field of particles [1]\n",
      "1.34217728e+08 should be equal to\n",
      "1.34217728e+08\n",
      "Time taken = 1.21 seconds\n"
     ]
    },
    {
     "name": "stderr",
     "output_type": "stream",
     "text": [
      "100%|██████████| 8/8 [00:00<00:00, 428.65it/s]\n",
      "100%|██████████| 8/8 [00:00<00:00, 2283.24it/s]"
     ]
    },
    {
     "name": "stdout",
     "output_type": "stream",
     "text": [
      "\n",
      "Computing density field of particles [1]\n"
     ]
    },
    {
     "name": "stderr",
     "output_type": "stream",
     "text": [
      "\n"
     ]
    },
    {
     "name": "stdout",
     "output_type": "stream",
     "text": [
      "1.34217725e+08 should be equal to\n",
      "1.34217728e+08\n",
      "Time taken = 2.76 seconds\n",
      "\n",
      "Computing density field of particles [1]\n",
      "1.34217728e+08 should be equal to\n",
      "1.34217728e+08\n",
      "Time taken = 1.19 seconds\n"
     ]
    },
    {
     "name": "stderr",
     "output_type": "stream",
     "text": [
      "100%|██████████| 8/8 [00:00<00:00, 480.33it/s]\n",
      "100%|██████████| 8/8 [00:00<00:00, 2268.57it/s]"
     ]
    },
    {
     "name": "stdout",
     "output_type": "stream",
     "text": [
      "\n",
      "Computing density field of particles [1]\n"
     ]
    },
    {
     "name": "stderr",
     "output_type": "stream",
     "text": [
      "\n"
     ]
    },
    {
     "name": "stdout",
     "output_type": "stream",
     "text": [
      "1.34217725e+08 should be equal to\n",
      "1.34217728e+08\n",
      "Time taken = 2.68 seconds\n",
      "\n",
      "Computing density field of particles [1]\n",
      "1.34217728e+08 should be equal to\n",
      "1.34217728e+08\n",
      "Time taken = 1.18 seconds\n"
     ]
    },
    {
     "name": "stderr",
     "output_type": "stream",
     "text": [
      "100%|██████████| 8/8 [00:00<00:00, 449.00it/s]\n",
      "100%|██████████| 8/8 [00:00<00:00, 2016.37it/s]\n"
     ]
    },
    {
     "name": "stdout",
     "output_type": "stream",
     "text": [
      "\n",
      "Computing density field of particles [1]\n",
      "1.34217724e+08 should be equal to\n",
      "1.34217728e+08\n",
      "Time taken = 2.73 seconds\n",
      "\n",
      "Computing density field of particles [1]\n",
      "1.34217728e+08 should be equal to\n",
      "1.34217728e+08\n",
      "Time taken = 1.19 seconds\n"
     ]
    },
    {
     "name": "stderr",
     "output_type": "stream",
     "text": [
      "100%|██████████| 8/8 [00:00<00:00, 424.20it/s]\n",
      "100%|██████████| 8/8 [00:00<00:00, 2238.45it/s]\n"
     ]
    },
    {
     "name": "stdout",
     "output_type": "stream",
     "text": [
      "doing res: 128\n",
      "\n",
      "Computing density field of particles [1]\n",
      "1.34217725e+08 should be equal to\n",
      "1.34217728e+08\n",
      "Time taken = 2.27 seconds\n",
      "\n",
      "Computing density field of particles [1]\n",
      "1.34217728e+08 should be equal to\n",
      "1.34217728e+08\n",
      "Time taken = 1.34 seconds\n"
     ]
    },
    {
     "name": "stderr",
     "output_type": "stream",
     "text": [
      "100%|██████████| 8/8 [00:00<00:00, 523.31it/s]"
     ]
    },
    {
     "name": "stdout",
     "output_type": "stream",
     "text": [
      "\n",
      "Computing density field of particles [1]\n"
     ]
    },
    {
     "name": "stderr",
     "output_type": "stream",
     "text": [
      "\n"
     ]
    },
    {
     "name": "stdout",
     "output_type": "stream",
     "text": [
      "1.34217725e+08 should be equal to\n",
      "1.34217728e+08\n",
      "Time taken = 2.33 seconds\n",
      "\n",
      "Computing density field of particles [1]\n",
      "1.34217728e+08 should be equal to\n",
      "1.34217728e+08\n",
      "Time taken = 1.32 seconds\n"
     ]
    },
    {
     "name": "stderr",
     "output_type": "stream",
     "text": [
      "100%|██████████| 8/8 [00:00<00:00, 540.22it/s]"
     ]
    },
    {
     "name": "stdout",
     "output_type": "stream",
     "text": [
      "\n",
      "Computing density field of particles [1]\n"
     ]
    },
    {
     "name": "stderr",
     "output_type": "stream",
     "text": [
      "\n"
     ]
    },
    {
     "name": "stdout",
     "output_type": "stream",
     "text": [
      "1.34217728e+08 should be equal to\n",
      "1.34217728e+08\n",
      "Time taken = 2.20 seconds\n",
      "\n",
      "Computing density field of particles [1]\n",
      "1.34217728e+08 should be equal to\n",
      "1.34217728e+08\n",
      "Time taken = 1.24 seconds\n"
     ]
    },
    {
     "name": "stderr",
     "output_type": "stream",
     "text": [
      "100%|██████████| 8/8 [00:00<00:00, 196.76it/s]\n",
      "100%|██████████| 8/8 [00:00<00:00, 526.21it/s]\n"
     ]
    },
    {
     "name": "stdout",
     "output_type": "stream",
     "text": [
      "\n",
      "Computing density field of particles [1]\n",
      "1.34217728e+08 should be equal to\n",
      "1.34217728e+08\n",
      "Time taken = 2.23 seconds\n",
      "\n",
      "Computing density field of particles [1]\n",
      "1.34217728e+08 should be equal to\n",
      "1.34217728e+08\n",
      "Time taken = 1.21 seconds\n"
     ]
    },
    {
     "name": "stderr",
     "output_type": "stream",
     "text": [
      "100%|██████████| 8/8 [00:00<00:00, 194.19it/s]\n",
      "100%|██████████| 8/8 [00:00<00:00, 549.36it/s]\n"
     ]
    },
    {
     "name": "stdout",
     "output_type": "stream",
     "text": [
      "\n",
      "Computing density field of particles [1]\n",
      "1.34217728e+08 should be equal to\n",
      "1.34217728e+08\n",
      "Time taken = 2.19 seconds\n",
      "\n",
      "Computing density field of particles [1]\n",
      "1.34217728e+08 should be equal to\n",
      "1.34217728e+08\n",
      "Time taken = 1.20 seconds\n"
     ]
    },
    {
     "name": "stderr",
     "output_type": "stream",
     "text": [
      "100%|██████████| 8/8 [00:00<00:00, 194.46it/s]\n",
      "100%|██████████| 8/8 [00:00<00:00, 550.39it/s]\n"
     ]
    },
    {
     "name": "stdout",
     "output_type": "stream",
     "text": [
      "\n",
      "Computing density field of particles [1]\n",
      "1.34217728e+08 should be equal to\n",
      "1.34217728e+08\n",
      "Time taken = 2.18 seconds\n",
      "\n",
      "Computing density field of particles [1]\n",
      "1.34217728e+08 should be equal to\n",
      "1.34217728e+08\n",
      "Time taken = 1.20 seconds\n"
     ]
    },
    {
     "name": "stderr",
     "output_type": "stream",
     "text": [
      "100%|██████████| 8/8 [00:00<00:00, 194.53it/s]\n",
      "100%|██████████| 8/8 [00:00<00:00, 525.36it/s]\n"
     ]
    },
    {
     "name": "stdout",
     "output_type": "stream",
     "text": [
      "doing res: 256\n",
      "\n",
      "Computing density field of particles [1]\n",
      "1.34217728e+08 should be equal to\n",
      "1.34217728e+08\n",
      "Time taken = 2.29 seconds\n",
      "\n",
      "Computing density field of particles [1]\n",
      "1.34217728e+08 should be equal to\n",
      "1.34217728e+08\n",
      "Time taken = 1.35 seconds\n"
     ]
    },
    {
     "name": "stderr",
     "output_type": "stream",
     "text": [
      "100%|██████████| 8/8 [00:00<00:00, 124.56it/s]\n"
     ]
    },
    {
     "name": "stdout",
     "output_type": "stream",
     "text": [
      "\n",
      "Computing density field of particles [1]\n",
      "1.34217728e+08 should be equal to\n",
      "1.34217728e+08\n",
      "Time taken = 2.25 seconds\n",
      "\n",
      "Computing density field of particles [1]\n",
      "1.34217728e+08 should be equal to\n",
      "1.34217728e+08\n",
      "Time taken = 1.31 seconds\n"
     ]
    },
    {
     "name": "stderr",
     "output_type": "stream",
     "text": [
      "100%|██████████| 8/8 [00:00<00:00, 125.39it/s]\n"
     ]
    },
    {
     "name": "stdout",
     "output_type": "stream",
     "text": [
      "\n",
      "Computing density field of particles [1]\n",
      "1.34217728e+08 should be equal to\n",
      "1.34217728e+08\n",
      "Time taken = 2.18 seconds\n",
      "\n",
      "Computing density field of particles [1]\n",
      "1.34217728e+08 should be equal to\n",
      "1.34217728e+08\n",
      "Time taken = 1.27 seconds\n"
     ]
    },
    {
     "name": "stderr",
     "output_type": "stream",
     "text": [
      "100%|██████████| 8/8 [00:00<00:00, 32.40it/s]\n",
      "100%|██████████| 8/8 [00:00<00:00, 124.12it/s]\n"
     ]
    },
    {
     "name": "stdout",
     "output_type": "stream",
     "text": [
      "\n",
      "Computing density field of particles [1]\n",
      "1.34217728e+08 should be equal to\n",
      "1.34217728e+08\n",
      "Time taken = 2.21 seconds\n",
      "\n",
      "Computing density field of particles [1]\n",
      "1.34217728e+08 should be equal to\n",
      "1.34217728e+08\n",
      "Time taken = 1.29 seconds\n"
     ]
    },
    {
     "name": "stderr",
     "output_type": "stream",
     "text": [
      "100%|██████████| 8/8 [00:00<00:00, 31.59it/s]\n",
      "100%|██████████| 8/8 [00:00<00:00, 123.62it/s]\n"
     ]
    },
    {
     "name": "stdout",
     "output_type": "stream",
     "text": [
      "\n",
      "Computing density field of particles [1]\n",
      "1.34217728e+08 should be equal to\n",
      "1.34217728e+08\n",
      "Time taken = 2.19 seconds\n",
      "\n",
      "Computing density field of particles [1]\n",
      "1.34217728e+08 should be equal to\n",
      "1.34217728e+08\n",
      "Time taken = 1.26 seconds\n"
     ]
    },
    {
     "name": "stderr",
     "output_type": "stream",
     "text": [
      "100%|██████████| 8/8 [00:00<00:00, 31.71it/s]\n",
      "100%|██████████| 8/8 [00:00<00:00, 125.18it/s]\n"
     ]
    },
    {
     "name": "stdout",
     "output_type": "stream",
     "text": [
      "\n",
      "Computing density field of particles [1]\n",
      "1.34217728e+08 should be equal to\n",
      "1.34217728e+08\n",
      "Time taken = 2.19 seconds\n",
      "\n",
      "Computing density field of particles [1]\n",
      "1.34217728e+08 should be equal to\n",
      "1.34217728e+08\n",
      "Time taken = 1.28 seconds\n"
     ]
    },
    {
     "name": "stderr",
     "output_type": "stream",
     "text": [
      "100%|██████████| 8/8 [00:00<00:00, 31.98it/s]\n",
      "100%|██████████| 8/8 [00:00<00:00, 124.49it/s]\n"
     ]
    },
    {
     "name": "stdout",
     "output_type": "stream",
     "text": [
      "doing sim: 9\n",
      "doing res: 64\n",
      "\n",
      "Computing density field of particles [1]\n",
      "1.34217698e+08 should be equal to\n",
      "1.34217728e+08\n",
      "Time taken = 4.13 seconds\n",
      "\n",
      "Computing density field of particles [1]\n",
      "1.34217728e+08 should be equal to\n",
      "1.34217728e+08\n",
      "Time taken = 1.31 seconds\n"
     ]
    },
    {
     "name": "stderr",
     "output_type": "stream",
     "text": [
      "100%|██████████| 8/8 [00:00<00:00, 2491.79it/s]"
     ]
    },
    {
     "name": "stdout",
     "output_type": "stream",
     "text": [
      "\n",
      "Computing density field of particles [1]\n"
     ]
    },
    {
     "name": "stderr",
     "output_type": "stream",
     "text": [
      "\n"
     ]
    },
    {
     "name": "stdout",
     "output_type": "stream",
     "text": [
      "1.34217698e+08 should be equal to\n",
      "1.34217728e+08\n",
      "Time taken = 2.26 seconds\n",
      "\n",
      "Computing density field of particles [1]\n",
      "1.34217728e+08 should be equal to\n",
      "1.34217728e+08\n",
      "Time taken = 1.30 seconds\n"
     ]
    },
    {
     "name": "stderr",
     "output_type": "stream",
     "text": [
      "100%|██████████| 8/8 [00:00<00:00, 2216.86it/s]"
     ]
    },
    {
     "name": "stdout",
     "output_type": "stream",
     "text": [
      "\n",
      "Computing density field of particles [1]\n"
     ]
    },
    {
     "name": "stderr",
     "output_type": "stream",
     "text": [
      "\n"
     ]
    },
    {
     "name": "stdout",
     "output_type": "stream",
     "text": [
      "1.34217725e+08 should be equal to\n",
      "1.34217728e+08\n",
      "Time taken = 2.65 seconds\n",
      "\n",
      "Computing density field of particles [1]\n",
      "1.34217728e+08 should be equal to\n",
      "1.34217728e+08\n",
      "Time taken = 1.16 seconds\n"
     ]
    },
    {
     "name": "stderr",
     "output_type": "stream",
     "text": [
      "100%|██████████| 8/8 [00:00<00:00, 907.64it/s]\n",
      "100%|██████████| 8/8 [00:00<00:00, 2169.98it/s]"
     ]
    },
    {
     "name": "stdout",
     "output_type": "stream",
     "text": [
      "\n",
      "Computing density field of particles [1]\n"
     ]
    },
    {
     "name": "stderr",
     "output_type": "stream",
     "text": [
      "\n"
     ]
    },
    {
     "name": "stdout",
     "output_type": "stream",
     "text": [
      "1.34217725e+08 should be equal to\n",
      "1.34217728e+08\n",
      "Time taken = 2.66 seconds\n",
      "\n",
      "Computing density field of particles [1]\n",
      "1.34217728e+08 should be equal to\n",
      "1.34217728e+08\n",
      "Time taken = 1.17 seconds\n"
     ]
    },
    {
     "name": "stderr",
     "output_type": "stream",
     "text": [
      "100%|██████████| 8/8 [00:00<00:00, 458.69it/s]\n",
      "100%|██████████| 8/8 [00:00<00:00, 2179.28it/s]"
     ]
    },
    {
     "name": "stdout",
     "output_type": "stream",
     "text": [
      "\n",
      "Computing density field of particles [1]\n"
     ]
    },
    {
     "name": "stderr",
     "output_type": "stream",
     "text": [
      "\n"
     ]
    },
    {
     "name": "stdout",
     "output_type": "stream",
     "text": [
      "1.34217725e+08 should be equal to\n",
      "1.34217728e+08\n",
      "Time taken = 2.66 seconds\n",
      "\n",
      "Computing density field of particles [1]\n",
      "1.34217728e+08 should be equal to\n",
      "1.34217728e+08\n",
      "Time taken = 1.18 seconds\n"
     ]
    },
    {
     "name": "stderr",
     "output_type": "stream",
     "text": [
      "100%|██████████| 8/8 [00:00<00:00, 466.59it/s]\n",
      "100%|██████████| 8/8 [00:00<00:00, 2358.67it/s]\n"
     ]
    },
    {
     "name": "stdout",
     "output_type": "stream",
     "text": [
      "\n",
      "Computing density field of particles [1]\n",
      "1.34217724e+08 should be equal to\n",
      "1.34217728e+08\n",
      "Time taken = 2.67 seconds\n",
      "\n",
      "Computing density field of particles [1]\n",
      "1.34217728e+08 should be equal to\n",
      "1.34217728e+08\n",
      "Time taken = 1.16 seconds\n"
     ]
    },
    {
     "name": "stderr",
     "output_type": "stream",
     "text": [
      "100%|██████████| 8/8 [00:00<00:00, 481.13it/s]\n",
      "100%|██████████| 8/8 [00:00<00:00, 2311.07it/s]\n"
     ]
    },
    {
     "name": "stdout",
     "output_type": "stream",
     "text": [
      "doing res: 128\n",
      "\n",
      "Computing density field of particles [1]\n",
      "1.34217725e+08 should be equal to\n",
      "1.34217728e+08\n",
      "Time taken = 2.25 seconds\n",
      "\n",
      "Computing density field of particles [1]\n",
      "1.34217728e+08 should be equal to\n",
      "1.34217728e+08\n",
      "Time taken = 1.30 seconds\n"
     ]
    },
    {
     "name": "stderr",
     "output_type": "stream",
     "text": [
      "100%|██████████| 8/8 [00:00<00:00, 690.88it/s]"
     ]
    },
    {
     "name": "stdout",
     "output_type": "stream",
     "text": [
      "\n",
      "Computing density field of particles [1]\n"
     ]
    },
    {
     "name": "stderr",
     "output_type": "stream",
     "text": [
      "\n"
     ]
    },
    {
     "name": "stdout",
     "output_type": "stream",
     "text": [
      "1.34217725e+08 should be equal to\n",
      "1.34217728e+08\n",
      "Time taken = 2.26 seconds\n",
      "\n",
      "Computing density field of particles [1]\n",
      "1.34217728e+08 should be equal to\n",
      "1.34217728e+08\n",
      "Time taken = 1.30 seconds\n"
     ]
    },
    {
     "name": "stderr",
     "output_type": "stream",
     "text": [
      "100%|██████████| 8/8 [00:00<00:00, 544.80it/s]"
     ]
    },
    {
     "name": "stdout",
     "output_type": "stream",
     "text": [
      "\n",
      "Computing density field of particles [1]\n"
     ]
    },
    {
     "name": "stderr",
     "output_type": "stream",
     "text": [
      "\n"
     ]
    },
    {
     "name": "stdout",
     "output_type": "stream",
     "text": [
      "1.34217728e+08 should be equal to\n",
      "1.34217728e+08\n",
      "Time taken = 2.19 seconds\n",
      "\n",
      "Computing density field of particles [1]\n",
      "1.34217728e+08 should be equal to\n",
      "1.34217728e+08\n",
      "Time taken = 1.20 seconds\n"
     ]
    },
    {
     "name": "stderr",
     "output_type": "stream",
     "text": [
      "100%|██████████| 8/8 [00:00<00:00, 212.19it/s]\n",
      "100%|██████████| 8/8 [00:00<00:00, 528.06it/s]\n"
     ]
    },
    {
     "name": "stdout",
     "output_type": "stream",
     "text": [
      "\n",
      "Computing density field of particles [1]\n",
      "1.34217728e+08 should be equal to\n",
      "1.34217728e+08\n",
      "Time taken = 2.18 seconds\n",
      "\n",
      "Computing density field of particles [1]\n",
      "1.34217728e+08 should be equal to\n",
      "1.34217728e+08\n",
      "Time taken = 1.20 seconds\n"
     ]
    },
    {
     "name": "stderr",
     "output_type": "stream",
     "text": [
      "100%|██████████| 8/8 [00:00<00:00, 210.80it/s]\n",
      "100%|██████████| 8/8 [00:00<00:00, 524.89it/s]\n"
     ]
    },
    {
     "name": "stdout",
     "output_type": "stream",
     "text": [
      "\n",
      "Computing density field of particles [1]\n",
      "1.34217728e+08 should be equal to\n",
      "1.34217728e+08\n",
      "Time taken = 2.17 seconds\n",
      "\n",
      "Computing density field of particles [1]\n",
      "1.34217728e+08 should be equal to\n",
      "1.34217728e+08\n",
      "Time taken = 1.20 seconds\n"
     ]
    },
    {
     "name": "stderr",
     "output_type": "stream",
     "text": [
      "100%|██████████| 8/8 [00:00<00:00, 206.67it/s]\n",
      "100%|██████████| 8/8 [00:00<00:00, 538.41it/s]\n"
     ]
    },
    {
     "name": "stdout",
     "output_type": "stream",
     "text": [
      "\n",
      "Computing density field of particles [1]\n",
      "1.34217728e+08 should be equal to\n",
      "1.34217728e+08\n",
      "Time taken = 2.19 seconds\n",
      "\n",
      "Computing density field of particles [1]\n",
      "1.34217728e+08 should be equal to\n",
      "1.34217728e+08\n",
      "Time taken = 1.20 seconds\n"
     ]
    },
    {
     "name": "stderr",
     "output_type": "stream",
     "text": [
      "100%|██████████| 8/8 [00:00<00:00, 193.52it/s]\n",
      "100%|██████████| 8/8 [00:00<00:00, 529.85it/s]\n"
     ]
    },
    {
     "name": "stdout",
     "output_type": "stream",
     "text": [
      "doing res: 256\n",
      "\n",
      "Computing density field of particles [1]\n",
      "1.34217728e+08 should be equal to\n",
      "1.34217728e+08\n",
      "Time taken = 2.29 seconds\n",
      "\n",
      "Computing density field of particles [1]\n",
      "1.34217728e+08 should be equal to\n",
      "1.34217728e+08\n",
      "Time taken = 1.34 seconds\n"
     ]
    },
    {
     "name": "stderr",
     "output_type": "stream",
     "text": [
      "100%|██████████| 8/8 [00:00<00:00, 123.83it/s]\n"
     ]
    },
    {
     "name": "stdout",
     "output_type": "stream",
     "text": [
      "\n",
      "Computing density field of particles [1]\n",
      "1.34217728e+08 should be equal to\n",
      "1.34217728e+08\n",
      "Time taken = 2.29 seconds\n",
      "\n",
      "Computing density field of particles [1]\n",
      "1.34217728e+08 should be equal to\n",
      "1.34217728e+08\n",
      "Time taken = 1.35 seconds\n"
     ]
    },
    {
     "name": "stderr",
     "output_type": "stream",
     "text": [
      "100%|██████████| 8/8 [00:00<00:00, 122.65it/s]\n"
     ]
    },
    {
     "name": "stdout",
     "output_type": "stream",
     "text": [
      "\n",
      "Computing density field of particles [1]\n",
      "1.34217728e+08 should be equal to\n",
      "1.34217728e+08\n",
      "Time taken = 2.21 seconds\n",
      "\n",
      "Computing density field of particles [1]\n",
      "1.34217728e+08 should be equal to\n",
      "1.34217728e+08\n",
      "Time taken = 1.30 seconds\n"
     ]
    },
    {
     "name": "stderr",
     "output_type": "stream",
     "text": [
      "100%|██████████| 8/8 [00:00<00:00, 31.38it/s]\n",
      "100%|██████████| 8/8 [00:00<00:00, 122.80it/s]\n"
     ]
    },
    {
     "name": "stdout",
     "output_type": "stream",
     "text": [
      "\n",
      "Computing density field of particles [1]\n",
      "1.34217728e+08 should be equal to\n",
      "1.34217728e+08\n",
      "Time taken = 2.21 seconds\n",
      "\n",
      "Computing density field of particles [1]\n",
      "1.34217728e+08 should be equal to\n",
      "1.34217728e+08\n",
      "Time taken = 1.28 seconds\n"
     ]
    },
    {
     "name": "stderr",
     "output_type": "stream",
     "text": [
      "100%|██████████| 8/8 [00:00<00:00, 31.99it/s]\n",
      "100%|██████████| 8/8 [00:00<00:00, 124.61it/s]\n"
     ]
    },
    {
     "name": "stdout",
     "output_type": "stream",
     "text": [
      "\n",
      "Computing density field of particles [1]\n",
      "1.34217728e+08 should be equal to\n",
      "1.34217728e+08\n",
      "Time taken = 2.20 seconds\n",
      "\n",
      "Computing density field of particles [1]\n",
      "1.34217728e+08 should be equal to\n",
      "1.34217728e+08\n",
      "Time taken = 1.27 seconds\n"
     ]
    },
    {
     "name": "stderr",
     "output_type": "stream",
     "text": [
      "100%|██████████| 8/8 [00:00<00:00, 32.56it/s]\n",
      "100%|██████████| 8/8 [00:00<00:00, 122.89it/s]\n"
     ]
    },
    {
     "name": "stdout",
     "output_type": "stream",
     "text": [
      "\n",
      "Computing density field of particles [1]\n",
      "1.34217728e+08 should be equal to\n",
      "1.34217728e+08\n",
      "Time taken = 2.28 seconds\n",
      "\n",
      "Computing density field of particles [1]\n",
      "1.34217728e+08 should be equal to\n",
      "1.34217728e+08\n",
      "Time taken = 1.33 seconds\n"
     ]
    },
    {
     "name": "stderr",
     "output_type": "stream",
     "text": [
      "100%|██████████| 8/8 [00:00<00:00, 30.87it/s]\n",
      "100%|██████████| 8/8 [00:00<00:00, 120.89it/s]\n"
     ]
    }
   ],
   "source": [
    "# %pip install Pylians\n",
    "root         = '/pscratch/sd/s/spandey/quijote/Snapshot_fid'\n",
    "root_out     = '/pscratch/sd/s/spandey/quijote/data_NGP_self'\n",
    "ptypes       = [1]\n",
    "# snapnum      = 0\n",
    "# grids         = [64, 128, 256, 512]\n",
    "grids         = [64, 128, 256]\n",
    "BoxSize = 1000.0 #Mpc/h ; size of box\n",
    "n_batch = 8\n",
    "n_filter = 3\n",
    "# n_cnn_all = [0,5,7]\n",
    "n_cnn_all = [3]\n",
    "# n_sim_tot = 2\n",
    "n_sim_array = np.arange(0,10)\n",
    "snap_num_array = [-1,0,1,2,3,4]\n",
    "# snap_num_array = [-1]\n",
    "# i = 0\n",
    "# print(i)\n",
    "for ji in n_sim_array:\n",
    "    print('doing sim: ' + str(ji))\n",
    "    for grid in grids:\n",
    "        print('doing res: ' + str(grid))\n",
    "        for snapnum in snap_num_array:\n",
    "            z = {4:0, 3:0.5, 2:1, 1:2, 0:3, -1: 127}[snapnum]\n",
    "\n",
    "            # create output folder if it does not exists\n",
    "            folder_out = '%s/%d'%(root_out,ji)\n",
    "            if not(os.path.exists(folder_out)):\n",
    "                os.system('mkdir %s'%folder_out)\n",
    "\n",
    "            \n",
    "            savefname_halos_subvol = '%s/halos_subvol_res_%d_z=%s.pk'%(folder_out,grid,z)\n",
    "            savefname_halos_full = '%s/halos_full_res_%d_z=%s.pk'%(folder_out,grid,z)            \n",
    "            \n",
    "            \n",
    "            # savefname = folder_out  + '/halo_density_data_dict_' + str(grid) + '.pk'\n",
    "            # if os.path.exists(fout):  continue\n",
    "\n",
    "            # compute the density field and save it to file\n",
    "            if snapnum > 0:\n",
    "                snapshot = '%s/%d/snapdir_%03d/snap_%03d'%(root,ji,snapnum,snapnum)\n",
    "            else:\n",
    "                snapshot = '%s/%d/ICs/ics' % (root, ji)\n",
    "            df_cic = MASL.density_field_gadget(snapshot, ptypes, grid, MAS='CIC',\n",
    "                                           do_RSD=False, axis=0, verbose=True)\n",
    "            df_pylians_cic = df_cic/np.mean(df_cic, dtype=np.float64)-1.0\n",
    "            \n",
    "            \n",
    "            df_ngp = MASL.density_field_gadget(snapshot, ptypes, grid, MAS='NGP',\n",
    "                                           do_RSD=False, axis=0, verbose=True)\n",
    "            df_pylians_ngp = df_ngp/np.mean(df_ngp, dtype=np.float64)-1.0            \n",
    "            \n",
    "            if snapnum > 0:\n",
    "                snap_dir_base='/pscratch/sd/s/spandey/quijote/Halos/fiducial'\n",
    "                snapdir = snap_dir_base + '/' + str(ji)  #folder hosting the catalogue\n",
    "                FoF = readfof.FoF_catalog(snapdir, snapnum, long_ids=False, swap=False, SFR=False, read_IDs=False)\n",
    "\n",
    "                # get the properties of the halos\n",
    "                pos_h_truth = FoF.GroupPos / 1e3  #Halo positions in Mpc/h\n",
    "                mass_truth = FoF.GroupMass * 1e10  #Halo masses in Msun/h\n",
    "\n",
    "                lgMass_truth = np.log10(mass_truth)\n",
    "\n",
    "                Nhalos = np.float32(np.zeros((grid, grid, grid)))\n",
    "                MASL.NGP(np.float32(pos_h_truth), Nhalos, BoxSize)\n",
    "\n",
    "                if grid == 64:\n",
    "                    nMax_h = 30  # maximum number of halos expected in a cell\n",
    "                elif grid == 128:\n",
    "                    nMax_h = 10\n",
    "                elif grid == 256:\n",
    "                    nMax_h = 5\n",
    "                elif grid == 512:\n",
    "                    nMax_h = 3\n",
    "                elif grid == 1024:\n",
    "                    nMax_h = 2\n",
    "                else:\n",
    "                    print('nside not supported')\n",
    "                    sys.exit()\n",
    "\n",
    "                dfhalo_ngp_wmass = np.float32(np.zeros((grid, grid, grid, nMax_h)))\n",
    "                NGP_mass(np.float32(pos_h_truth), np.float32(lgMass_truth), dfhalo_ngp_wmass, BoxSize)\n",
    "\n",
    "\n",
    "                M_halos = np.flip(np.sort(dfhalo_ngp_wmass, axis=-1), axis=-1)\n",
    "\n",
    "\n",
    "                # now split it into nbatches each side\n",
    "\n",
    "                subvol_size = grid // n_batch\n",
    "                nsubvol = n_batch**3\n",
    "                save_subvol_Nhalo = np.zeros((nsubvol, subvol_size, subvol_size, subvol_size))\n",
    "                save_subvol_Mhalo = np.zeros((nsubvol, subvol_size, subvol_size, subvol_size, nMax_h))\n",
    "                save_subvol_density_cic_unpad = np.zeros((nsubvol, subvol_size, subvol_size, subvol_size))\n",
    "                save_subvol_density_ngp_unpad = np.zeros((nsubvol, subvol_size, subvol_size, subvol_size))\n",
    "\n",
    "                jc = 0\n",
    "                from tqdm import tqdm\n",
    "                for jx in tqdm(range(n_batch)):\n",
    "                    for jy in range(n_batch):\n",
    "                        for jz in range(n_batch):\n",
    "                            # get the sub-cube\n",
    "                            save_subvol_Nhalo[jc] = Nhalos[jx * subvol_size:(jx + 1) * subvol_size,\n",
    "                                                           jy * subvol_size:(jy + 1) * subvol_size,\n",
    "                                                           jz * subvol_size:(jz + 1) * subvol_size]\n",
    "                            save_subvol_Mhalo[jc] = M_halos[jx * subvol_size:(jx + 1) * subvol_size,\n",
    "                                                            jy * subvol_size:(jy + 1) * subvol_size,\n",
    "                                                            jz * subvol_size:(jz + 1) * subvol_size]\n",
    "                            save_subvol_density_cic_unpad[jc] = df_pylians_cic[jx * subvol_size:(jx + 1) * subvol_size,\n",
    "                                                           jy * subvol_size:(jy + 1) * subvol_size,\n",
    "                                                           jz * subvol_size:(jz + 1) * subvol_size]\n",
    "                            save_subvol_density_ngp_unpad[jc] = df_pylians_ngp[jx * subvol_size:(jx + 1) * subvol_size,\n",
    "                                                           jy * subvol_size:(jy + 1) * subvol_size,\n",
    "                                                           jz * subvol_size:(jz + 1) * subvol_size]                        \n",
    "                            jc += 1\n",
    "\n",
    "                saved_halos_subvol = {\n",
    "                    'N_halos': save_subvol_Nhalo,\n",
    "                    'M_halos': save_subvol_Mhalo,\n",
    "                    }    \n",
    "                pk.dump(saved_halos_subvol, open(savefname_halos_subvol, 'wb'))\n",
    "\n",
    "                saved_halos_full = {\n",
    "                    'N_halos_combined': Nhalos,\n",
    "                    'M_halos_combined': M_halos,\n",
    "                    }    \n",
    "                pk.dump(saved_halos_full, open(savefname_halos_full, 'wb'))\n",
    "                        \n",
    "\n",
    "            for n_cnn in n_cnn_all:\n",
    "                # find name of output file\n",
    "                savefname_density_subvol = '%s/density_subvol_m_res_%d_z=%s_nbatch_%d_nfilter_%d_ncnn_%d.pk'%(folder_out,grid,z,n_batch,n_filter,n_cnn)\n",
    "                savefname_density_full = '%s/density_full_m_res_%d_z=%s_nbatch_%d_nfilter_%d_ncnn_%d.pk'%(folder_out,grid,z,n_batch,n_filter,n_cnn)\n",
    "\n",
    "                n_dim_red = (n_filter - 1) // 2\n",
    "                n_pad = n_dim_red * n_cnn\n",
    "                if n_cnn > 0:\n",
    "                    \n",
    "                    df_cic_pad = np.pad(df_pylians_cic, n_pad, 'wrap')\n",
    "                    df_ngp_pad = np.pad(df_pylians_ngp, n_pad, 'wrap')\n",
    "                else:\n",
    "                    df_cic_pad = df_pylians_cic\n",
    "                    df_ngp_pad = df_pylians_ngp\n",
    "\n",
    "                # we want to split the df_pad into n_batch^3 sub-cubes, but centered on the original df simulation box\n",
    "                xstart, ystart, zstart = n_pad, n_pad, n_pad\n",
    "                subvol_size = grid // n_batch + 2 * n_pad\n",
    "                nsubvol = n_batch**3\n",
    "                save_subvol_density_cic_pad = np.zeros((nsubvol, subvol_size, subvol_size, subvol_size))\n",
    "                save_subvol_density_ngp_pad = np.zeros((nsubvol, subvol_size, subvol_size, subvol_size))\n",
    "                jc = 0\n",
    "                from tqdm import tqdm\n",
    "                for jx in tqdm(range(n_batch)):\n",
    "                    for jy in range(n_batch):\n",
    "                        for jz in range(n_batch):\n",
    "                            # get the sub-cube\n",
    "                            df_sub = df_cic_pad[xstart + jx * grid // n_batch - n_pad:xstart + (jx + 1) * grid // n_batch + n_pad,\n",
    "                                            ystart + jy * grid // n_batch - n_pad:ystart + (jy + 1) * grid // n_batch + n_pad,\n",
    "                                            zstart + jz * grid // n_batch - n_pad:zstart + (jz + 1) * grid // n_batch + n_pad]\n",
    "                            # save the sub-cube\n",
    "                            save_subvol_density_cic_pad[jc, ...] = df_sub\n",
    "\n",
    "                            df_sub = df_ngp_pad[xstart + jx * grid // n_batch - n_pad:xstart + (jx + 1) * grid // n_batch + n_pad,\n",
    "                                            ystart + jy * grid // n_batch - n_pad:ystart + (jy + 1) * grid // n_batch + n_pad,\n",
    "                                            zstart + jz * grid // n_batch - n_pad:zstart + (jz + 1) * grid // n_batch + n_pad]\n",
    "                            # save the sub-cube\n",
    "                            save_subvol_density_ngp_pad[jc, ...] = df_sub\n",
    "\n",
    "                            jc += 1\n",
    "\n",
    "\n",
    "\n",
    "\n",
    "                saved_density_subvol = {\n",
    "                    'density_cic_pad':save_subvol_density_cic_pad,\n",
    "                    'density_ngp_pad':save_subvol_density_ngp_pad,\n",
    "                    'density_cic_unpad':save_subvol_density_cic_unpad,\n",
    "                    'density_ngp_unpad':save_subvol_density_ngp_unpad,\n",
    "\n",
    "                    }                        \n",
    "\n",
    "                pk.dump(saved_density_subvol, open(savefname_density_subvol, 'wb'))\n",
    "\n",
    "                saved_density_full = {\n",
    "                    'density_cic_unpad_combined':df_pylians_cic,\n",
    "                    'density_ngp_unpad_combined':df_pylians_ngp,                                \n",
    "                    'density_cic_pad_combined':df_cic_pad,\n",
    "                    'density_ngp_pad_combined':df_ngp_pad,                                                \n",
    "                    }                        \n",
    "\n",
    "                pk.dump(saved_density_full, open(savefname_density_full, 'wb'))\n",
    "\n",
    "\n",
    "                \n"
   ]
  },
  {
   "cell_type": "code",
   "execution_count": 27,
   "id": "7bbda7c4-fb8e-408a-8d6b-b988d0334e67",
   "metadata": {},
   "outputs": [],
   "source": [
    "# test that all the histograms look like as expected:\n",
    "ji = 1\n",
    "grid = 128\n",
    "snapnum = 4\n",
    "z = {4:0, 3:0.5, 2:1, 1:2, 0:3}[snapnum]\n",
    "df_halos_full = pk.load(open('/pscratch/sd/s/spandey/quijote/data_NGP_self/' + str(ji) + '/halos_full_res_'+ str(grid) + '_z=' + str(z) + '.pk','rb')) \n",
    "df_halos_subvol = pk.load(open('/pscratch/sd/s/spandey/quijote/data_NGP_self/' + str(ji) + '/halos_subvol_res_'+ str(grid) + '_z=' + str(z) + '.pk','rb')) \n",
    "df_density_full = pk.load(open('/pscratch/sd/s/spandey/quijote/data_NGP_self/' + str(ji) + '/density_full_m_res_'+ str(grid) + '_z=' + str(z) + '.pk','rb')) \n",
    "df_density_subvol = pk.load(open('/pscratch/sd/s/spandey/quijote/data_NGP_self/' + str(ji) + '/density_subvol_m_res_'+ str(grid) + '_z=' + str(z) + '.pk','rb')) \n",
    "\n",
    "\n",
    "\n"
   ]
  },
  {
   "cell_type": "code",
   "execution_count": 32,
   "id": "c779f686-15d5-4120-847a-439d67d59f56",
   "metadata": {},
   "outputs": [],
   "source": [
    "# df_pylians = df_density_full['density_cic_unpad_combined']\n",
    "df_pylians = df_density_full['density_ngp_unpad_combined']\n",
    "dfhalo2_ngp = df_halos_full['N_halos_combined']\n",
    "dfhalo_ngp_wmass_sorted = df_halos_full['M_halos_combined']\n",
    "\n"
   ]
  },
  {
   "cell_type": "code",
   "execution_count": 33,
   "id": "456c202f-f699-4226-9471-9518b8a7793a",
   "metadata": {},
   "outputs": [
    {
     "data": {
      "text/plain": [
       "((128, 128, 128), (128, 128, 128))"
      ]
     },
     "execution_count": 33,
     "metadata": {},
     "output_type": "execute_result"
    }
   ],
   "source": [
    "dfhalo2_ngp.shape, df_pylians.shape\n"
   ]
  },
  {
   "cell_type": "code",
   "execution_count": 34,
   "id": "93a01c05-e756-49ae-8a51-df293cff38c0",
   "metadata": {},
   "outputs": [
    {
     "data": {
      "text/plain": [
       "Text(0.5, 1.0, '10.5$< \\\\delta_m < $50.4')"
      ]
     },
     "execution_count": 34,
     "metadata": {},
     "output_type": "execute_result"
    },
    {
     "data": {
      "image/png": "[encoded data removed]",
      "text/plain": [
       "<Figure size 800x600 with 1 Axes>"
      ]
     },
     "metadata": {},
     "output_type": "display_data"
    }
   ],
   "source": [
    "delta_min_p, delta_max_p = 10.5, 50.4\n",
    "indsel_dp = np.where((df_pylians > delta_min_p) & (df_pylians < delta_max_p))\n",
    "pl.figure(figsize=(8,6))\n",
    "bin_cents = np.array([0,1,2,3,4,5,6,7,8])\n",
    "bin_edges = 0.5*(bin_cents[1:] + bin_cents[:-1])\n",
    "bin_edges = np.insert(bin_edges,0, -0.5)\n",
    "bin_edges = np.insert(bin_edges,len(bin_edges), bin_cents[-1] + 0.5)\n",
    "hist_truth, _ = np.histogram(dfhalo2_ngp[indsel_dp].flatten(), bins=bin_edges)\n",
    "# _ = pl.hist(df_Nh_truth[indsel_dp].flatten(), histtype='step', bins=[0,1,2,3,4,5,6,7,8], label='Truth')\n",
    "pl.plot(bin_cents, hist_truth, marker='s', color='k', ls='--', label='Truth')\n",
    "# hist_samp, _ = np.histogram(Nhalos_truth_recomb[indsel_dp].flatten(), bins=bin_edges)\n",
    "# _ = pl.hist(, bins=[0,1,2,3,4,5,6,7,8], label='Sampled')\n",
    "# pl.plot(bin_cents, hist_samp, marker='o', color='b', ls='-', label='Sampled')\n",
    "pl.yscale('log')\n",
    "pl.legend(fontsize=15, frameon=False)\n",
    "pl.tick_params(axis='both', which='major', labelsize=15)\n",
    "pl.tick_params(axis='both', which='minor', labelsize=15)\n",
    "pl.xlabel(r'$N_{\\rm halo}$', size=18)\n",
    "pl.ylabel('Histogram', size=18)\n",
    "pl.title(str(delta_min_p) + r'$< \\delta_m < $' + str(delta_max_p), size=18)\n",
    "\n",
    "\n"
   ]
  },
  {
   "cell_type": "code",
   "execution_count": 35,
   "id": "5fa7ca5a-71f9-454e-8c18-2a2917518bcd",
   "metadata": {},
   "outputs": [
    {
     "data": {
      "text/plain": [
       "(0.0, 100.0)"
      ]
     },
     "execution_count": 35,
     "metadata": {},
     "output_type": "execute_result"
    },
    {
     "data": {
      "image/png": "[encoded data removed]",
      "text/plain": [
       "<Figure size 1800x800 with 3 Axes>"
      ]
     },
     "metadata": {},
     "output_type": "display_data"
    }
   ],
   "source": [
    "fig, axes = pl.subplots(nrows=1, ncols=3, figsize=(18, 8), sharex=True, sharey=True)\n",
    "fig.subplots_adjust(wspace=0.1, hspace=0.1)\n",
    "\n",
    "# axes[0].imshow(((mesh_truth.preview(axes=[0,1]))))\n",
    "# axes[0].set_title('Truth', size=18)\n",
    "xmin = 0\n",
    "xmax = 100\n",
    "axes[0].imshow(df_pylians[64,:,:], vmin=0, vmax=8, origin='lower')\n",
    "axes[0].set_title('Density', size=18)\n",
    "axes[0].set_xlim(xmin,xmax)\n",
    "axes[0].set_ylim(xmin,xmax)\n",
    "\n",
    "axes[1].imshow(dfhalo2_ngp[64,:,:], vmin=0, vmax=8, origin='lower')\n",
    "axes[1].set_title('Number', size=18)\n",
    "axes[1].set_xlim(xmin,xmax)\n",
    "axes[1].set_ylim(xmin,xmax)\n",
    "\n",
    "# axes[2].imshow((np.abs(10**M_halos_truth_recomb[64,:,:,0] - 10**M_halos[64,:,:,0])/10**M_halos_truth_recomb[64,:,:,0]), vmin=0, vmax=1.0, origin='lower')\n",
    "axes[2].imshow(dfhalo_ngp_wmass_sorted[64,:,:, 0], vmin=13, vmax=16, origin='lower')\n",
    "axes[2].set_title('Heaviest Halo Mass', size=18)\n",
    "axes[2].set_xlim(xmin,xmax)\n",
    "axes[2].set_ylim(xmin,xmax)\n",
    "\n",
    "\n",
    "\n",
    "\n",
    "\n",
    "            \n"
   ]
  },
  {
   "cell_type": "code",
   "execution_count": 36,
   "id": "a7a639ec-171c-4130-b3e5-2ebf9f419eb9",
   "metadata": {},
   "outputs": [
    {
     "data": {
      "text/plain": [
       "Text(0, 0.5, 'Histogram Density')"
      ]
     },
     "execution_count": 36,
     "metadata": {},
     "output_type": "execute_result"
    },
    {
     "data": {
      "image/png": "[encoded data removed]",
      "text/plain": [
       "<Figure size 800x600 with 1 Axes>"
      ]
     },
     "metadata": {},
     "output_type": "display_data"
    }
   ],
   "source": [
    "bin_edges = np.linspace(13, 16, 100)\n",
    "bin_cents = 0.5*(bin_edges[1:] + bin_edges[:-1])\n",
    "\n",
    "\n",
    "pl.figure(figsize=(8,6))\n",
    "delta_min_p, delta_max_p = -1.0, -0.5\n",
    "indsel_dp = np.where((df_pylians > delta_min_p) & (df_pylians < delta_max_p))\n",
    "hist_truth, _ = np.histogram(dfhalo_ngp_wmass_sorted[...,0][indsel_dp].flatten(), bins=bin_edges, density=True)\n",
    "pl.plot(bin_cents, hist_truth, marker='s', color='r', ls='--', label=str(delta_min_p) + r'$ < \\delta <$' + str(delta_max_p))\n",
    "\n",
    "delta_min_p, delta_max_p = 0.0, 0.5\n",
    "indsel_dp = np.where((df_pylians > delta_min_p) & (df_pylians < delta_max_p))\n",
    "hist_truth, _ = np.histogram(dfhalo_ngp_wmass_sorted[...,0][indsel_dp].flatten(), bins=bin_edges, density=True)\n",
    "pl.plot(bin_cents, hist_truth, marker='s', color='b', ls='--', label=str(delta_min_p) + r'$ < \\delta <$' + str(delta_max_p))\n",
    "\n",
    "\n",
    "delta_min_p, delta_max_p = 1.0, 50.0\n",
    "indsel_dp = np.where((df_pylians > delta_min_p) & (df_pylians < delta_max_p))\n",
    "hist_truth, _ = np.histogram(dfhalo_ngp_wmass_sorted[...,0][indsel_dp].flatten(), bins=bin_edges, density=True)\n",
    "pl.plot(bin_cents, hist_truth, marker='s', color='k', ls='--', label=str(delta_min_p) + r'$ < \\delta <$' + str(delta_max_p))\n",
    "\n",
    "\n",
    "pl.yscale('log')\n",
    "pl.legend(fontsize=15, frameon=False)\n",
    "pl.tick_params(axis='both', which='major', labelsize=15)\n",
    "pl.tick_params(axis='both', which='minor', labelsize=15)\n",
    "pl.xlabel(r'$\\log_{10}(M_{0})$', size=15)\n",
    "pl.ylabel('Histogram Density', size=16)\n",
    "# pl.title(str(delta_min_p) + r'$< \\delta_m < $' + str(delta_max_p), size=18)\n",
    "\n",
    "\n"
   ]
  },
  {
   "cell_type": "code",
   "execution_count": 37,
   "id": "7ad2aead-6e20-46af-b8cf-c92a5861a985",
   "metadata": {},
   "outputs": [
    {
     "data": {
      "text/plain": [
       "Text(0.5, 1.0, '1.0$< \\\\delta_m < $50.0')"
      ]
     },
     "execution_count": 37,
     "metadata": {},
     "output_type": "execute_result"
    },
    {
     "data": {
      "image/png": "[encoded data removed]",
      "text/plain": [
       "<Figure size 800x600 with 1 Axes>"
      ]
     },
     "metadata": {},
     "output_type": "display_data"
    }
   ],
   "source": [
    "bin_edges = np.linspace(13, 16, 100)\n",
    "bin_cents = 0.5*(bin_edges[1:] + bin_edges[:-1])\n",
    "\n",
    "\n",
    "pl.figure(figsize=(8,6))\n",
    "delta_min_p, delta_max_p = 1.0, 50.0\n",
    "indsel_dp = np.where((df_pylians > delta_min_p) & (df_pylians < delta_max_p))\n",
    "hist_truth, _ = np.histogram(dfhalo_ngp_wmass_sorted[...,0][indsel_dp].flatten(), bins=bin_edges, density=True)\n",
    "pl.plot(bin_cents, hist_truth, marker='s', color='r', ls='--', label=r'$\\log_{10}(M_0)$')\n",
    "\n",
    "hist_truth, _ = np.histogram(dfhalo_ngp_wmass_sorted[...,1][indsel_dp].flatten(), bins=bin_edges, density=True)\n",
    "pl.plot(bin_cents, hist_truth, marker='s', color='b', ls='--', label=r'$\\log_{10}(M_1)$')\n",
    "\n",
    "hist_truth, _ = np.histogram(dfhalo_ngp_wmass_sorted[...,2][indsel_dp].flatten(), bins=bin_edges, density=True)\n",
    "pl.plot(bin_cents, hist_truth, marker='s', color='k', ls='--', label=r'$\\log_{10}(M_2)$')\n",
    "\n",
    "\n",
    "pl.yscale('log')\n",
    "pl.legend(fontsize=15, frameon=False)\n",
    "pl.tick_params(axis='both', which='major', labelsize=15)\n",
    "pl.tick_params(axis='both', which='minor', labelsize=15)\n",
    "pl.xlabel(r'$\\log_{10}(M_{\\rm halo})$', size=15)\n",
    "pl.ylabel('Histogram Density', size=16)\n",
    "pl.title(str(delta_min_p) + r'$< \\delta_m < $' + str(delta_max_p), size=18)\n",
    "\n",
    "\n"
   ]
  },
  {
   "cell_type": "code",
   "execution_count": 38,
   "id": "6969b855-65c6-4907-b011-9c8ab2d1277f",
   "metadata": {},
   "outputs": [
    {
     "data": {
      "text/plain": [
       "Text(0, 0.5, '$\\\\log_{10}(M_{0})$')"
      ]
     },
     "execution_count": 38,
     "metadata": {},
     "output_type": "execute_result"
    },
    {
     "data": {
      "image/png": "[encoded data removed]",
      "text/plain": [
       "<Figure size 800x600 with 1 Axes>"
      ]
     },
     "metadata": {},
     "output_type": "display_data"
    }
   ],
   "source": [
    "pl.figure(figsize=(8,6))\n",
    "delta_min_p, delta_max_p = -1.0, 50.0\n",
    "indsel_dp = np.where((df_pylians > delta_min_p) & (df_pylians < delta_max_p))\n",
    "density_list = df_pylians[indsel_dp].flatten()\n",
    "logM_list = dfhalo_ngp_wmass_sorted[...,0][indsel_dp].flatten()\n",
    "indsel_rand = np.random.randint(0, len(density_list), np.amin(np.array([len(density_list), 100000])))\n",
    "pl.scatter(np.log(1+density_list[indsel_rand]),logM_list[indsel_rand], s=0.1)\n",
    "# pl.xscale('log')\n",
    "pl.tick_params(axis='both', which='major', labelsize=15)\n",
    "pl.tick_params(axis='both', which='minor', labelsize=15)\n",
    "pl.ylim(13, 16)\n",
    "pl.xlim(-1,3)\n",
    "pl.xlabel(r'$\\log(1 + \\delta)$', size=16)\n",
    "pl.ylabel(r'$\\log_{10}(M_{0})$', size=16)\n",
    "\n",
    "# pl.xlim(delta_min_p-0.1, delta_max_p)\n",
    "\n",
    "\n"
   ]
  },
  {
   "cell_type": "code",
   "execution_count": 41,
   "id": "0411f90f-00da-4417-951e-d7036cbd369f",
   "metadata": {},
   "outputs": [],
   "source": [
    "save_subvol_density_pad = df_density_subvol['density_ngp_pad']\n",
    "save_subvol_density_unpad = df_density_subvol['density_ngp_unpad']\n",
    "save_subvol_Nhalo = df_halos_subvol['N_halos']\n",
    "save_subvol_Mhalo = df_halos_subvol['M_halos']\n",
    "\n"
   ]
  },
  {
   "cell_type": "code",
   "execution_count": 42,
   "id": "af95a302-7471-4a31-85ef-eeed232e4e9a",
   "metadata": {},
   "outputs": [
    {
     "data": {
      "image/png": "[encoded data removed]",
      "text/plain": [
       "<Figure size 2400x800 with 4 Axes>"
      ]
     },
     "metadata": {},
     "output_type": "display_data"
    }
   ],
   "source": [
    "fig, axes = pl.subplots(nrows=1, ncols=4, figsize=(24, 8))\n",
    "fig.subplots_adjust(wspace=0.1, hspace=0.1)\n",
    "\n",
    "# axes[0].imshow(((mesh_truth.preview(axes=[0,1]))))\n",
    "# axes[0].set_title('Truth', size=18)\n",
    "xmin = 0\n",
    "xmax = 15\n",
    "axes[0].imshow(save_subvol_density_unpad[0,8,...], vmin=0, vmax=8, origin='lower')\n",
    "axes[0].set_title('Density unpadded', size=18)\n",
    "axes[0].set_xlim(xmin,xmax)\n",
    "axes[0].set_ylim(xmin,xmax)\n",
    "axes[0].tick_params(axis='both', which='major', labelsize=15)\n",
    "axes[0].tick_params(axis='both', which='minor', labelsize=15)\n",
    "\n",
    "\n",
    "axes[1].imshow(save_subvol_density_pad[0, n_pad + 8,...], vmin=0, vmax=8, origin='lower')\n",
    "axes[1].set_title('Density padded', size=18)\n",
    "# axes[1].set_xlim(xmin+n_pad,xmax+n_pad)\n",
    "# axes[1].set_ylim(xmin+n_pad,xmax+n_pad)\n",
    "axes[1].tick_params(axis='both', which='major', labelsize=15)\n",
    "axes[1].tick_params(axis='both', which='minor', labelsize=15)\n",
    "\n",
    "\n",
    "# axes[2].imshow((np.abs(10**M_halos_truth_recomb[64,:,:,0] - 10**M_halos[64,:,:,0])/10**M_halos_truth_recomb[64,:,:,0]), vmin=0, vmax=1.0, origin='lower')\n",
    "axes[2].imshow(save_subvol_Nhalo[0,8,...], vmin=0, vmax=5, origin='lower')\n",
    "axes[2].set_title('Number', size=18)\n",
    "axes[2].set_xlim(xmin,xmax)\n",
    "axes[2].set_ylim(xmin,xmax)\n",
    "axes[2].tick_params(axis='both', which='major', labelsize=15)\n",
    "axes[2].tick_params(axis='both', which='minor', labelsize=15)\n",
    "\n",
    "\n",
    "axes[3].imshow(save_subvol_Mhalo[..., 0][0,8,...], vmin=13, vmax=16, origin='lower')\n",
    "axes[3].set_title('Heaviest Halo Mass', size=18)\n",
    "axes[3].set_xlim(xmin,xmax)\n",
    "axes[3].set_ylim(xmin,xmax)\n",
    "axes[3].tick_params(axis='both', which='major', labelsize=15)\n",
    "axes[3].tick_params(axis='both', which='minor', labelsize=15)\n",
    "\n",
    "\n",
    "\n",
    "\n",
    "\n",
    "            \n",
    "\n",
    "\n",
    "\n"
   ]
  },
  {
   "cell_type": "code",
   "execution_count": null,
   "id": "9ba4da53-f432-4d75-b016-eadd6ee3bbd5",
   "metadata": {},
   "outputs": [],
   "source": []
  }
 ],
 "metadata": {
  "kernelspec": {
   "display_name": "jax_pm",
   "language": "python",
   "name": "jax_pm"
  },
  "language_info": {
   "codemirror_mode": {
    "name": "ipython",
    "version": 3
   },
   "file_extension": ".py",
   "mimetype": "text/x-python",
   "name": "python",
   "nbconvert_exporter": "python",
   "pygments_lexer": "ipython3",
   "version": "3.9.16"
  }
 },
 "nbformat": 4,
 "nbformat_minor": 5
}
