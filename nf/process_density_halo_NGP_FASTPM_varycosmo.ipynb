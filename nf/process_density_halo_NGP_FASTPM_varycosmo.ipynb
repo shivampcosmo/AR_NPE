{
 "cells": [
  {
   "cell_type": "code",
   "execution_count": 1,
   "metadata": {},
   "outputs": [],
   "source": [
    "# %reset\n",
    "import numpy as np\n",
    "import sys,os\n",
    "import readgadget\n",
    "import MAS_library as MASL\n",
    "import pickle as pk\n",
    "import readfof\n",
    "import matplotlib\n",
    "\n",
    "import matplotlib.pyplot as pl\n",
    "pl.rc('text', usetex=True)\n",
    "# Palatino\n",
    "pl.rc('font', family='DejaVu Sans')\n",
    "%matplotlib inline\n",
    "\n",
    "%load_ext Cython\n",
    "\n"
   ]
  },
  {
   "cell_type": "code",
   "execution_count": 2,
   "metadata": {},
   "outputs": [],
   "source": [
    "# !pip install Pylians\n",
    "\n",
    "\n"
   ]
  },
  {
   "cell_type": "code",
   "execution_count": 3,
   "metadata": {},
   "outputs": [],
   "source": [
    "%%cython\n",
    "\n",
    "cimport numpy as np\n",
    "cpdef void NGP_mass(np.float32_t[:,:] pos, np.float32_t[:] logM, np.float32_t[:,:,:,:] gridM, float BoxSize):\n",
    "\n",
    "    cdef int axis,dims,coord,nMmax,jM\n",
    "    cdef long i,particles\n",
    "    cdef float inv_cell_size\n",
    "    cdef int index[3]\n",
    "\n",
    "    # find number of particles, the inverse of the cell size and dims\n",
    "    particles = pos.shape[0];  coord = pos.shape[1];  dims = gridM.shape[0]; nMmax = gridM.shape[3]\n",
    "    inv_cell_size = dims/BoxSize\n",
    "\n",
    "    # when computing things in 2D, use the index[2]=0 plane\n",
    "    for i in range(3):  index[i] = 0\n",
    "\n",
    "    # do a loop over all particles\n",
    "    for i in range(particles):\n",
    "        for axis in range(coord):\n",
    "            index[axis] = <int>(pos[i,axis]*inv_cell_size + 0.5)\n",
    "            index[axis] = (index[axis]+dims)%dims\n",
    "        for jM in range(nMmax):\n",
    "            if gridM[index[0],index[1],index[2], jM] == 0:\n",
    "                gridM[index[0],index[1],index[2], jM] = logM[i]\n",
    "                break\n",
    "            else:\n",
    "                pass\n",
    "        \n",
    "        \n",
    "        "
   ]
  },
  {
   "cell_type": "code",
   "execution_count": null,
   "metadata": {},
   "outputs": [],
   "source": []
  },
  {
   "cell_type": "code",
   "execution_count": 15,
   "metadata": {},
   "outputs": [
    {
     "name": "stderr",
     "output_type": "stream",
     "text": [
      "/tmp/ipykernel_3609534/1483669534.py:10: DeprecationWarning: The window argument is deprecated. Use `resampler=` instead\n",
      "  df_mesh = df.to_mesh(window='cic', Nmesh=grid, compensated=True, BoxSize=1000)\n"
     ]
    }
   ],
   "source": [
    "import nbodykit.lab as nb\n",
    "import readgadget\n",
    "import MAS_library as MASL\n",
    "\n",
    "js = 1\n",
    "# a = '1.0000'\n",
    "a = '0.6667'\n",
    "grid = 128\n",
    "df = nb.BigFileCatalog('/mnt/ceph/users/cmodi/fastpm-shivam/LH_HR/' + str(js) + '/fastpm_B2_' + a, dataset='1')        \n",
    "df_mesh = df.to_mesh(window='cic', Nmesh=grid, compensated=True, BoxSize=1000)\n",
    "df_mesh_np_B3 = df_mesh.preview()\n",
    "df_nbkit = df_mesh_np_B3/np.mean(df_mesh_np_B3, dtype=np.float64)-1.0\n",
    "# pos = np.array(df['Position'], dtype=np.float64)\n",
    "# # df.columns\n",
    "# BoxSize = 1000.0\n",
    "# pos = np.array(df['Position'], dtype=np.float64)\n",
    "# df_pylians = np.zeros((grid,grid,grid), dtype=np.float32)\n",
    "# MASL.MA(np.float32(pos), df_pylians, BoxSize, 'CIC', verbose=False)\n",
    "# df_pylians_grid = df_pylians/np.mean(df_pylians, dtype=np.float64)-1.0\n",
    "\n",
    "\n"
   ]
  },
  {
   "cell_type": "code",
   "execution_count": 16,
   "metadata": {},
   "outputs": [],
   "source": [
    "root = '/mnt/home/fvillaescusa/ceph/Quijote/Snapshots/latin_hypercube_HR/'\n",
    "ji = 1\n",
    "snapnum = 3\n",
    "snapshot = '%s/%d/snapdir_%03d/snap_%03d'%(root,ji,snapnum,snapnum)\n",
    "ptypes       = [1]\n",
    "grid         = 128\n",
    "BoxSize = 1000.0 #Mpc/h ; size of box\n",
    "pos = readgadget.read_block(snapshot, \"POS \", ptypes)/1e3 #positions in Mpc/h\n",
    "# df_uniform_cic_jax = cic_splitsuboxes(jnp.array(pos), BoxSize, grid, 3)\n",
    "# df_uniform_cic_jax = np.array(df_uniform_cic_jax/np.mean(df_uniform_cic_jax)-1.0)            \n",
    "\n",
    "\n",
    "\n",
    "\n"
   ]
  },
  {
   "cell_type": "code",
   "execution_count": 17,
   "metadata": {},
   "outputs": [],
   "source": [
    "df_cic = np.zeros((grid,grid,grid), dtype=np.float32)\n",
    "MASL.MA(np.float32(pos), df_cic, BoxSize, 'CIC', verbose=False)\n",
    "df_pylians_quijote = df_cic/np.mean(df_cic, dtype=np.float64)-1.0\n",
    "\n"
   ]
  },
  {
   "cell_type": "code",
   "execution_count": 18,
   "metadata": {},
   "outputs": [
    {
     "data": {
      "text/plain": [
       "dict_keys(['density_cic_unpad_combined', 'density_cic_pad_combined'])"
      ]
     },
     "execution_count": 18,
     "metadata": {},
     "output_type": "execute_result"
    }
   ],
   "source": [
    "# df_mesh_np_B3.shape, df_pylians_grid.shape\n",
    "# pl.figure()\n",
    "# np.mean(df_mesh_np_B3), np.mean(df_pylians_grid)\n",
    "# df_nbkit = df_mesh_np_B3/np.mean(df_mesh_np_B3, dtype=np.float64)-1.0\n",
    "dfq.keys()\n",
    "\n"
   ]
  },
  {
   "cell_type": "code",
   "execution_count": 19,
   "metadata": {},
   "outputs": [
    {
     "data": {
      "text/plain": [
       "[<matplotlib.lines.Line2D at 0x1551ffff6700>]"
      ]
     },
     "execution_count": 19,
     "metadata": {},
     "output_type": "execute_result"
    },
    {
     "data": {
      "image/png": "[encoded data removed]",
      "text/plain": [
       "<Figure size 640x480 with 1 Axes>"
      ]
     },
     "metadata": {},
     "output_type": "display_data"
    }
   ],
   "source": [
    "pl.figure()\n",
    "pl.scatter(df_pylians_quijote.flatten(), df_nbkit.flatten(), s=1)\n",
    "pl.plot([-1,50], [-1,50], 'k--')\n",
    "\n",
    "\n"
   ]
  },
  {
   "cell_type": "code",
   "execution_count": 25,
   "metadata": {},
   "outputs": [
    {
     "data": {
      "text/plain": [
       "[<matplotlib.lines.Line2D at 0x1554b1ab3970>]"
      ]
     },
     "execution_count": 25,
     "metadata": {},
     "output_type": "execute_result"
    },
    {
     "data": {
      "image/png": "[encoded data removed]",
      "text/plain": [
       "<Figure size 640x480 with 1 Axes>"
      ]
     },
     "metadata": {},
     "output_type": "display_data"
    }
   ],
   "source": [
    "js = 100\n",
    "dfq = pk.load(open('/mnt/ceph/users/spandey/Quijote/data_NGP_self_LH/%d/density_HR_full_m_res_128_z=0.5_nbatch_8_nfilter_3_ncnn_0.pk'%js,'rb'))\n",
    "dffp = pk.load(open('/mnt/ceph/users/spandey/Quijote/data_NGP_self_fastpm_LH/%d/density_HR_full_m_res_128_z=0.5_nbatch_8_nfilter_3_ncnn_0.pk'%js,'rb'))\n",
    "\n",
    "pl.figure()\n",
    "pl.scatter(dfq['density_cic_unpad_combined'].flatten(), dffp['density_cic_unpad_combined'].flatten(), s=1)\n",
    "# pl.scatter(df_nbkit.flatten(), dffp['density_cic_unpad_combined'].flatten(), s=1)\n",
    "# pl.scatter(dfq['density_cic_unpad_combined'].flatten(), df_pylians_quijote.flatten(), s=1)\n",
    "pl.plot([-1,50], [-1,50], 'k--')\n",
    "\n"
   ]
  },
  {
   "cell_type": "code",
   "execution_count": 10,
   "metadata": {},
   "outputs": [
    {
     "data": {
      "text/plain": [
       "(128, 128, 128)"
      ]
     },
     "execution_count": 10,
     "metadata": {},
     "output_type": "execute_result"
    }
   ],
   "source": [
    "dffp['density_cic_unpad_combined'].shape\n"
   ]
  },
  {
   "cell_type": "code",
   "execution_count": 7,
   "metadata": {},
   "outputs": [
    {
     "name": "stderr",
     "output_type": "stream",
     "text": [
      " 44%|████▍     | 483/1100 [00:10<00:08, 70.64it/s]"
     ]
    },
    {
     "name": "stdout",
     "output_type": "stream",
     "text": [
      "472 4\n"
     ]
    },
    {
     "name": "stderr",
     "output_type": "stream",
     "text": [
      " 52%|█████▏    | 571/1100 [00:11<00:06, 77.39it/s]"
     ]
    },
    {
     "name": "stdout",
     "output_type": "stream",
     "text": [
      "563 4\n"
     ]
    },
    {
     "name": "stderr",
     "output_type": "stream",
     "text": [
      "100%|██████████| 1100/1100 [00:21<00:00, 51.69it/s]\n"
     ]
    }
   ],
   "source": [
    "# %pip install Pylians\n",
    "from tqdm import tqdm\n",
    "# import nbodykit.lab as nb\n",
    "# import readgadget\n",
    "# import MAS_library as MASL\n",
    "# from tqdm import tqdm\n",
    "# from nbodykit.source.catalog.file import BigFileCatalog\n",
    "# root         = '/pscratch/sd/s/spandey/quijote/Snapshot_fid'\n",
    "# root = '/mnt/home/spandey/ceph/Quijote/fiducial_HR_new/Snapshots'\n",
    "# root_z0 = '/mnt/home/spandey/ceph/Quijote/fastpm/z0/'\n",
    "# root_z99 = '/mnt/home/spandey/ceph/Quijote/fastpm/z99/'\n",
    "root_in = '/mnt/ceph/users/cmodi/fastpm-shivam/LH_HR/'\n",
    "# snap_dir_base='/pscratch/sd/s/spandey/quijote/Halos/fiducial'\n",
    "# snap_dir_base = '/mnt/home/fvillaescusa/ceph/Quijote/Halos/FoF/latin_hypercube_HR'\n",
    "# root_out     = '/pscratch/sd/s/spandey/quijote/data_NGP_self'\n",
    "root_out = '/mnt/home/spandey/ceph/Quijote/data_NGP_self_fastpm_LH/'\n",
    "# ptypes       = [1]\n",
    "# snapnum      = 0\n",
    "# grids         = [64, 128, 256, 512]\n",
    "# grids         = [64, 128, 256]\n",
    "grids         = [128]\n",
    "# grids         = [128, 256]\n",
    "BoxSize = 1000.0 #Mpc/h ; size of box\n",
    "n_batch = 8\n",
    "n_filter = 3\n",
    "# n_cnn_all = [0,5,7]\n",
    "# n_cnn_all = [8, 0]\n",
    "# n_cnn_all = [0,4,6,8,12,16]\n",
    "n_cnn_all = [0,4]\n",
    "# n_sim_tot = 2\n",
    "\n",
    "n_sim_array = np.arange(0,1100)\n",
    "# n_sim_array = np.arange(0,1)\n",
    "# n_sim_array = np.arange(513,551)\n",
    "# n_sim_array = np.arange(512, 528)\n",
    "# n_sim_array = np.arange(528, 600)\n",
    "# snap_num_array = [-1,0,1,2,3,4]\n",
    "# snap_num_array = [-1,4]\n",
    "# snap_num_array = [-1]\n",
    "# snap_num_array = [4]\n",
    "# snap_num_array = [4, 3, -1]\n",
    "snap_num_array = [4, 3, -1]\n",
    "# snap_num_array = [-1]\n",
    "BoxSize = 1000.0\n",
    "# i = 0\n",
    "# print(i)\n",
    "for ji in tqdm(n_sim_array):\n",
    "    # print('doing sim: ' + str(ji))\n",
    "    for grid in grids:\n",
    "        # print('doing res: ' + str(grid))\n",
    "        for snapnum in snap_num_array:\n",
    "            z = {4:0, 3:0.5, 2:1, 1:2, 0:3, -1: 99}[snapnum]\n",
    "\n",
    "            # create output folder if it does not exists\n",
    "            folder_out = '%s/%d'%(root_out,ji)\n",
    "            if not(os.path.exists(folder_out)):\n",
    "                os.system('mkdir %s'%folder_out)\n",
    "\n",
    "            # file_names_all = []\n",
    "            file_exists = True\n",
    "            for n_cnn in n_cnn_all:\n",
    "                # find name of output file\n",
    "                savefname_density_subvol = '%s/density_HR_subvol_m_res_%d_z=%s_nbatch_%d_nfilter_%d_ncnn_%d.pk'%(folder_out,grid,z,n_batch,n_filter,n_cnn)\n",
    "                savefname_density_full = '%s/density_HR_full_m_res_%d_z=%s_nbatch_%d_nfilter_%d_ncnn_%d.pk'%(folder_out,grid,z,n_batch,n_filter,n_cnn)\n",
    "                # file_names_all.append(savefname_density_subvol)\n",
    "                # file_names_all.append(savefname_density_full)\n",
    "                if not(os.path.exists(savefname_density_subvol)):\n",
    "                    file_exists = False\n",
    "                    print(ji, snapnum)\n",
    "                    break\n",
    "            \n",
    "                "
   ]
  },
  {
   "cell_type": "code",
   "execution_count": 6,
   "metadata": {},
   "outputs": [
    {
     "name": "stderr",
     "output_type": "stream",
     "text": [
      "  0%|          | 0/2 [00:00<?, ?it/s]/mnt/home/spandey/miniconda3/envs/nbodykit/lib/python3.8/site-packages/bigfile/__init__.py:358: FutureWarning: Passing (type, 1) or '1type' as a synonym of type is deprecated; in a future version of numpy, it will be understood as (type, (1,)) / '(1,)type'.\n",
      "  return pyxbigfile.Dataset.__init__(self, file, dtype=dtype, size=size)\n"
     ]
    },
    {
     "name": "stdout",
     "output_type": "stream",
     "text": [
      "472\n",
      "472\n"
     ]
    },
    {
     "name": "stderr",
     "output_type": "stream",
     "text": [
      " 50%|█████     | 1/2 [00:38<00:38, 38.57s/it]"
     ]
    },
    {
     "name": "stdout",
     "output_type": "stream",
     "text": [
      "563\n",
      "563\n"
     ]
    },
    {
     "name": "stderr",
     "output_type": "stream",
     "text": [
      "100%|██████████| 2/2 [01:17<00:00, 38.68s/it]\n"
     ]
    }
   ],
   "source": [
    "# %pip install Pylians\n",
    "import nbodykit.lab as nb\n",
    "import readgadget\n",
    "import MAS_library as MASL\n",
    "from tqdm import tqdm\n",
    "from nbodykit.source.catalog.file import BigFileCatalog\n",
    "# root         = '/pscratch/sd/s/spandey/quijote/Snapshot_fid'\n",
    "# root = '/mnt/home/spandey/ceph/Quijote/fiducial_HR_new/Snapshots'\n",
    "# root_z0 = '/mnt/home/spandey/ceph/Quijote/fastpm/z0/'\n",
    "# root_z99 = '/mnt/home/spandey/ceph/Quijote/fastpm/z99/'\n",
    "root_in = '/mnt/ceph/users/cmodi/fastpm-shivam/LH_HR/'\n",
    "# snap_dir_base='/pscratch/sd/s/spandey/quijote/Halos/fiducial'\n",
    "# snap_dir_base = '/mnt/home/fvillaescusa/ceph/Quijote/Halos/FoF/latin_hypercube_HR'\n",
    "# root_out     = '/pscratch/sd/s/spandey/quijote/data_NGP_self'\n",
    "root_out = '/mnt/home/spandey/ceph/Quijote/data_NGP_self_fastpm_LH/'\n",
    "# ptypes       = [1]\n",
    "# snapnum      = 0\n",
    "# grids         = [64, 128, 256, 512]\n",
    "# grids         = [64, 128, 256]\n",
    "grids         = [128]\n",
    "# grids         = [128, 256]\n",
    "BoxSize = 1000.0 #Mpc/h ; size of box\n",
    "n_batch = 8\n",
    "n_filter = 3\n",
    "# n_cnn_all = [0,5,7]\n",
    "# n_cnn_all = [8, 0]\n",
    "# n_cnn_all = [0,4,6,8,12,16]\n",
    "n_cnn_all = [0,4]\n",
    "# n_sim_tot = 2\n",
    "\n",
    "# n_sim_array = np.arange(0,1100)\n",
    "n_sim_array = [472, 563]\n",
    "# n_sim_array = np.arange(0,1)\n",
    "# n_sim_array = np.arange(513,551)\n",
    "# n_sim_array = np.arange(512, 528)\n",
    "# n_sim_array = np.arange(528, 600)\n",
    "# snap_num_array = [-1,0,1,2,3,4]\n",
    "# snap_num_array = [-1,4]\n",
    "# snap_num_array = [-1]\n",
    "# snap_num_array = [4]\n",
    "# snap_num_array = [4, 3, -1]\n",
    "# snap_num_array = [4, 3, -1]\n",
    "snap_num_array = [3, -1]\n",
    "\n",
    "# snap_num_array = [-1]\n",
    "BoxSize = 1000.0\n",
    "# i = 0\n",
    "# print(i)\n",
    "for ji in tqdm(n_sim_array):\n",
    "    # print('doing sim: ' + str(ji))\n",
    "    for grid in grids:\n",
    "        # print('doing res: ' + str(grid))\n",
    "        for snapnum in snap_num_array:\n",
    "            z = {4:0, 3:0.5, 2:1, 1:2, 0:3, -1: 99}[snapnum]\n",
    "\n",
    "            # create output folder if it does not exists\n",
    "            folder_out = '%s/%d'%(root_out,ji)\n",
    "            if not(os.path.exists(folder_out)):\n",
    "                os.system('mkdir %s'%folder_out)\n",
    "\n",
    "            # file_names_all = []\n",
    "            file_exists = True\n",
    "            for n_cnn in n_cnn_all:\n",
    "                # find name of output file\n",
    "                savefname_density_subvol = '%s/density_HR_subvol_m_res_%d_z=%s_nbatch_%d_nfilter_%d_ncnn_%d.pk'%(folder_out,grid,z,n_batch,n_filter,n_cnn)\n",
    "                savefname_density_full = '%s/density_HR_full_m_res_%d_z=%s_nbatch_%d_nfilter_%d_ncnn_%d.pk'%(folder_out,grid,z,n_batch,n_filter,n_cnn)\n",
    "                # file_names_all.append(savefname_density_subvol)\n",
    "                # file_names_all.append(savefname_density_full)\n",
    "                if not(os.path.exists(savefname_density_subvol)):\n",
    "                    file_exists = False\n",
    "                    break\n",
    "            \n",
    "                \n",
    "            # if not file_exists:\n",
    "            if 1:                \n",
    "                print(ji)\n",
    "                # savefname_halos_subvol = '%s/halos_HR_subvol_res_%d_z=%s.pk'%(folder_out,grid,z)\n",
    "                # savefname_halos_full = '%s/halos_HR_full_res_%d_z=%s.pk'%(folder_out,grid,z)            \n",
    "                \n",
    "                # compute the density field and save it to file\n",
    "                if snapnum == 4:\n",
    "                    fname = '%s/%d' % (root_in, ji) + '/fastpm_B2_1.0000'\n",
    "                    # df = nb.BigFileCatalog('/mnt/home/spandey/ceph/fastpm/LH_HR/' + str(js) + '/fastpm_B2_' + a, dataset='1')        \n",
    "                    # pos = np.array(df['Position'], dtype=np.float64)\n",
    "                elif snapnum == 3:\n",
    "                    fname = '%s/%d' % (root_in, ji) + '/fastpm_B2_0.6667'\n",
    "                elif snapnum == -1:\n",
    "                    fname = '%s/%d' % (root_in, ji) + '/fastpm_B2_0.0100'                \n",
    "                    # snapshot = '%s/%d' % (root_z99, ji)\n",
    "                    # df_cic = np.load('%s/rho.npy'%(snapshot))\n",
    "                # df_pylians_cic = df_cic\n",
    "\n",
    "                # pos = np.array(df['Position'], dtype=np.float64)\n",
    "                # df.columns\n",
    "                df = nb.BigFileCatalog(fname, dataset='1')        \n",
    "                pos = np.array(df['Position'], dtype=np.float64)                \n",
    "                \n",
    "                # pos = np.array(df['Position'], dtype=np.float64)\n",
    "                df_pylians = np.zeros((grid,grid,grid), dtype=np.float32)\n",
    "                MASL.MA(np.float32(pos), df_pylians, BoxSize, 'CIC', verbose=False)\n",
    "                df_pylians_cic = df_pylians/np.mean(df_pylians, dtype=np.float64)-1.0\n",
    "\n",
    "\n",
    "                # df_pylians_cic = df_cic/np.mean(df_cic, dtype=np.float64)-1.0\n",
    "\n",
    "                # df_ngp = df_cic\n",
    "                # df_pylians_ngp = df_pylians_cic                      \n",
    "                \n",
    "\n",
    "        \n",
    "                for n_cnn in n_cnn_all:\n",
    "                    # find name of output file\n",
    "                    savefname_density_subvol = '%s/density_HR_subvol_m_res_%d_z=%s_nbatch_%d_nfilter_%d_ncnn_%d.pk'%(folder_out,grid,z,n_batch,n_filter,n_cnn)\n",
    "                    savefname_density_full = '%s/density_HR_full_m_res_%d_z=%s_nbatch_%d_nfilter_%d_ncnn_%d.pk'%(folder_out,grid,z,n_batch,n_filter,n_cnn)\n",
    "\n",
    "                    n_dim_red = (n_filter - 1) // 2\n",
    "                    n_pad = n_dim_red * n_cnn\n",
    "                    if n_cnn > 0:\n",
    "                        df_cic_pad = np.pad(df_pylians_cic, n_pad, 'wrap')\n",
    "                        # df_uniform_cic_pad = np.pad(df_uniform_cic_jax, n_pad, 'wrap')\n",
    "                        # df_ngp_pad = np.pad(df_pylians_ngp, n_pad, 'wrap')\n",
    "                    else:\n",
    "                        df_cic_pad = df_pylians_cic\n",
    "                        # df_uniform_cic_pad = df_uniform_cic_jax\n",
    "                        # df_ngp_pad = df_pylians_ngp\n",
    "\n",
    "                    # we want to split the df_pad into n_batch^3 sub-cubes, but centered on the original df simulation box\n",
    "                    xstart, ystart, zstart = n_pad, n_pad, n_pad\n",
    "                    subvol_size = grid // n_batch + 2 * n_pad\n",
    "                    nsubvol = n_batch**3\n",
    "                    save_subvol_density_cic_pad = np.zeros((nsubvol, subvol_size, subvol_size, subvol_size))\n",
    "                    # save_subvol_density_uniform_cic_pad = np.zeros((nsubvol, subvol_size, subvol_size, subvol_size))\n",
    "                    # save_subvol_density_ngp_pad = np.zeros((nsubvol, subvol_size, subvol_size, subvol_size))\n",
    "                    jc = 0\n",
    "                    from tqdm import tqdm\n",
    "                    for jx in (range(n_batch)):\n",
    "                        for jy in range(n_batch):\n",
    "                            for jz in range(n_batch):\n",
    "                                # get the sub-cube\n",
    "                                df_sub = df_cic_pad[xstart + jx * grid // n_batch - n_pad:xstart + (jx + 1) * grid // n_batch + n_pad,\n",
    "                                                ystart + jy * grid // n_batch - n_pad:ystart + (jy + 1) * grid // n_batch + n_pad,\n",
    "                                                zstart + jz * grid // n_batch - n_pad:zstart + (jz + 1) * grid // n_batch + n_pad]\n",
    "                                # save the sub-cube\n",
    "                                save_subvol_density_cic_pad[jc, ...] = df_sub\n",
    "\n",
    "                                # df_sub = df_uniform_cic_pad[xstart + jx * grid // n_batch - n_pad:xstart + (jx + 1) * grid // n_batch + n_pad,\n",
    "                                #                 ystart + jy * grid // n_batch - n_pad:ystart + (jy + 1) * grid // n_batch + n_pad,\n",
    "                                #                 zstart + jz * grid // n_batch - n_pad:zstart + (jz + 1) * grid // n_batch + n_pad]\n",
    "                                # # save the sub-cube\n",
    "                                # save_subvol_density_uniform_cic_pad[jc, ...] = df_sub\n",
    "\n",
    "\n",
    "                                # df_sub = df_ngp_pad[xstart + jx * grid // n_batch - n_pad:xstart + (jx + 1) * grid // n_batch + n_pad,\n",
    "                                #                 ystart + jy * grid // n_batch - n_pad:ystart + (jy + 1) * grid // n_batch + n_pad,\n",
    "                                #                 zstart + jz * grid // n_batch - n_pad:zstart + (jz + 1) * grid // n_batch + n_pad]\n",
    "                                # # save the sub-cube\n",
    "                                # save_subvol_density_ngp_pad[jc, ...] = df_sub\n",
    "\n",
    "                                jc += 1\n",
    "\n",
    "                    subvol_size = grid // n_batch\n",
    "                    nsubvol = n_batch**3\n",
    "                    save_subvol_density_cic_unpad = np.zeros((nsubvol, subvol_size, subvol_size, subvol_size))\n",
    "                    # save_subvol_density_uniform_cic_unpad = np.zeros((nsubvol, subvol_size, subvol_size, subvol_size))\n",
    "                    save_subvol_density_ngp_unpad = np.zeros((nsubvol, subvol_size, subvol_size, subvol_size))\n",
    "                    jc = 0\n",
    "                    \n",
    "                    for jx in (range(n_batch)):\n",
    "                        for jy in range(n_batch):\n",
    "                            for jz in range(n_batch):\n",
    "                                # get the sub-cube\n",
    "                                save_subvol_density_cic_unpad[jc] = df_pylians_cic[jx * subvol_size:(jx + 1) * subvol_size,\n",
    "                                                            jy * subvol_size:(jy + 1) * subvol_size,\n",
    "                                                            jz * subvol_size:(jz + 1) * subvol_size]\n",
    "                                \n",
    "                                # save_subvol_density_uniform_cic_unpad[jc] = df_uniform_cic_jax[jx * subvol_size:(jx + 1) * subvol_size,\n",
    "                                #                                   jy * subvol_size:(jy + 1) * subvol_size,\n",
    "                                #                                     jz * subvol_size:(jz + 1) * subvol_size]\n",
    "                                \n",
    "                                \n",
    "                                # save_subvol_density_ngp_unpad[jc] = df_pylians_ngp[jx * subvol_size:(jx + 1) * subvol_size,\n",
    "                                #                                jy * subvol_size:(jy + 1) * subvol_size,\n",
    "                                #                                jz * subvol_size:(jz + 1) * subvol_size]                        \n",
    "                                jc += 1\n",
    "\n",
    "\n",
    "                    saved_density_subvol = {\n",
    "                        'density_cic_pad':save_subvol_density_cic_pad,\n",
    "                        # 'density_uniform_cic_pad':save_subvol_density_uniform_cic_pad,\n",
    "                        # 'density_ngp_pad':save_subvol_density_ngp_pad,\n",
    "                        # 'density_cic_unpad':save_subvol_density_cic_unpad,\n",
    "                        # 'density_ngp_unpad':save_subvol_density_ngp_unpad,\n",
    "                        # 'density_uniform_cic_unpad':save_subvol_density_uniform_cic_unpad\n",
    "                        }                        \n",
    "\n",
    "                    pk.dump(saved_density_subvol, open(savefname_density_subvol, 'wb'))\n",
    "\n",
    "                    saved_density_full = {\n",
    "                        'density_cic_unpad_combined':df_pylians_cic,\n",
    "                        # 'density_uniform_cic_unpad_combined':df_uniform_cic_jax,\n",
    "                        # 'density_ngp_unpad_combined':df_pylians_ngp,                                \n",
    "                        # 'density_cic_pad_combined':df_cic_pad,\n",
    "                        # 'density_ngp_pad_combined':df_ngp_pad,\n",
    "                        # 'density_uniform_cic_pad_combined':df_uniform_cic_pad                                            \n",
    "                        }                        \n",
    "\n",
    "                    pk.dump(saved_density_full, open(savefname_density_full, 'wb'))\n",
    "\n",
    "\n",
    "\n",
    "\n",
    "\n",
    "                \n"
   ]
  },
  {
   "cell_type": "code",
   "execution_count": 20,
   "metadata": {},
   "outputs": [
    {
     "data": {
      "text/plain": [
       "'/mnt/home/spandey/ceph/fastpm/LH_HR//rho_0.npy/fastpm_B2_1.0000'"
      ]
     },
     "execution_count": 20,
     "metadata": {},
     "output_type": "execute_result"
    }
   ],
   "source": [
    "# root_in\n",
    "fname"
   ]
  },
  {
   "cell_type": "code",
   "execution_count": 8,
   "metadata": {},
   "outputs": [
    {
     "name": "stdout",
     "output_type": "stream",
     "text": [
      "doing mass type: rockstar_200c\n",
      "doing sim: 0\n"
     ]
    },
    {
     "name": "stderr",
     "output_type": "stream",
     "text": [
      "/tmp/ipykernel_2402777/467783330.py:110: RuntimeWarning: divide by zero encountered in log10\n",
      "  lgMass_truth = np.log10(mass_truth)\n"
     ]
    },
    {
     "name": "stdout",
     "output_type": "stream",
     "text": [
      "128 67389 528546 -inf 13.0\n",
      "mass type:  rockstar_200c , max number of halos: 10.0\n",
      "doing sim: 1\n",
      "128 220425 817867 -inf 13.0\n",
      "mass type:  rockstar_200c , max number of halos: 13.0\n",
      "doing sim: 2\n",
      "128 90347 573330 -inf 13.0\n",
      "mass type:  rockstar_200c , max number of halos: 9.0\n",
      "doing sim: 3\n",
      "128 352772 774931 -inf 13.0\n",
      "mass type:  rockstar_200c , max number of halos: 17.0\n",
      "doing sim: 4\n",
      "128 84451 697134 -inf 13.0\n",
      "mass type:  rockstar_200c , max number of halos: 10.0\n",
      "doing sim: 5\n",
      "128 715773 910686 -inf 13.0\n",
      "mass type:  rockstar_200c , max number of halos: 26.0\n",
      "doing sim: 6\n",
      "128 442266 785578 -inf 13.0\n",
      "mass type:  rockstar_200c , max number of halos: 12.0\n",
      "doing sim: 7\n",
      "128 139403 593029 -inf 13.0\n",
      "mass type:  rockstar_200c , max number of halos: 12.0\n",
      "doing sim: 8\n",
      "128 383737 869500 -inf 13.0\n",
      "mass type:  rockstar_200c , max number of halos: 13.0\n",
      "doing sim: 9\n",
      "128 407008 735080 -inf 13.0\n",
      "mass type:  rockstar_200c , max number of halos: 14.0\n",
      "doing sim: 10\n",
      "128 127268 689636 -inf 13.0\n",
      "mass type:  rockstar_200c , max number of halos: 12.0\n",
      "doing sim: 11\n",
      "128 698385 1016278 -inf 13.0\n",
      "mass type:  rockstar_200c , max number of halos: 14.0\n",
      "doing sim: 12\n",
      "128 92293 684008 -inf 13.0\n",
      "mass type:  rockstar_200c , max number of halos: 10.0\n",
      "doing sim: 13\n",
      "128 387947 868959 -inf 13.0\n",
      "mass type:  rockstar_200c , max number of halos: 20.0\n",
      "doing sim: 14\n",
      "128 47994 626289 -inf 13.0\n",
      "mass type:  rockstar_200c , max number of halos: 6.0\n",
      "doing sim: 15\n",
      "128 756507 975085 -inf 13.0\n",
      "mass type:  rockstar_200c , max number of halos: 16.0\n",
      "doing sim: 16\n",
      "128 359465 845065 -inf 13.0\n",
      "mass type:  rockstar_200c , max number of halos: 16.0\n",
      "doing sim: 17\n"
     ]
    },
    {
     "ename": "KeyboardInterrupt",
     "evalue": "",
     "output_type": "error",
     "traceback": [
      "\u001b[0;31m---------------------------------------------------------------------------\u001b[0m",
      "\u001b[0;31mKeyboardInterrupt\u001b[0m                         Traceback (most recent call last)",
      "Cell \u001b[0;32mIn[8], line 89\u001b[0m\n\u001b[1;32m     87\u001b[0m snap_dir_base \u001b[38;5;241m=\u001b[39m \u001b[38;5;124m'\u001b[39m\u001b[38;5;124m/mnt/home/fvillaescusa/ceph/Quijote/Halos/Rockstar/latin_hypercube_HR\u001b[39m\u001b[38;5;124m'\u001b[39m\n\u001b[1;32m     88\u001b[0m snapdir \u001b[38;5;241m=\u001b[39m snap_dir_base \u001b[38;5;241m+\u001b[39m \u001b[38;5;124m'\u001b[39m\u001b[38;5;124m/\u001b[39m\u001b[38;5;124m'\u001b[39m \u001b[38;5;241m+\u001b[39m \u001b[38;5;28mstr\u001b[39m(ji)  \u001b[38;5;66;03m#folder hosting the catalogue\u001b[39;00m\n\u001b[0;32m---> 89\u001b[0m rockstar \u001b[38;5;241m=\u001b[39m \u001b[43mnp\u001b[49m\u001b[38;5;241;43m.\u001b[39;49m\u001b[43mloadtxt\u001b[49m\u001b[43m(\u001b[49m\u001b[43msnapdir\u001b[49m\u001b[43m \u001b[49m\u001b[38;5;241;43m+\u001b[39;49m\u001b[43m \u001b[49m\u001b[38;5;124;43m'\u001b[39;49m\u001b[38;5;124;43m/out_\u001b[39;49m\u001b[38;5;124;43m'\u001b[39;49m\u001b[43m \u001b[49m\u001b[38;5;241;43m+\u001b[39;49m\u001b[43m \u001b[49m\u001b[38;5;28;43mstr\u001b[39;49m\u001b[43m(\u001b[49m\u001b[43msnapnum\u001b[49m\u001b[43m)\u001b[49m\u001b[43m \u001b[49m\u001b[38;5;241;43m+\u001b[39;49m\u001b[43m \u001b[49m\u001b[38;5;124;43m'\u001b[39;49m\u001b[38;5;124;43m_pid.list\u001b[39;49m\u001b[38;5;124;43m'\u001b[39;49m\u001b[43m)\u001b[49m\n\u001b[1;32m     90\u001b[0m \u001b[38;5;28;01mwith\u001b[39;00m \u001b[38;5;28mopen\u001b[39m(snapdir \u001b[38;5;241m+\u001b[39m \u001b[38;5;124m'\u001b[39m\u001b[38;5;124m/out_\u001b[39m\u001b[38;5;124m'\u001b[39m \u001b[38;5;241m+\u001b[39m \u001b[38;5;28mstr\u001b[39m(snapnum) \u001b[38;5;241m+\u001b[39m \u001b[38;5;124m'\u001b[39m\u001b[38;5;124m_pid.list\u001b[39m\u001b[38;5;124m'\u001b[39m, \u001b[38;5;124m'\u001b[39m\u001b[38;5;124mr\u001b[39m\u001b[38;5;124m'\u001b[39m) \u001b[38;5;28;01mas\u001b[39;00m f:\n\u001b[1;32m     91\u001b[0m     lines \u001b[38;5;241m=\u001b[39m f\u001b[38;5;241m.\u001b[39mreadlines()\n",
      "File \u001b[0;32m~/miniconda3/envs/ili-sbi/lib/python3.10/site-packages/numpy/lib/npyio.py:1373\u001b[0m, in \u001b[0;36mloadtxt\u001b[0;34m(fname, dtype, comments, delimiter, converters, skiprows, usecols, unpack, ndmin, encoding, max_rows, quotechar, like)\u001b[0m\n\u001b[1;32m   1370\u001b[0m \u001b[38;5;28;01mif\u001b[39;00m \u001b[38;5;28misinstance\u001b[39m(delimiter, \u001b[38;5;28mbytes\u001b[39m):\n\u001b[1;32m   1371\u001b[0m     delimiter \u001b[38;5;241m=\u001b[39m delimiter\u001b[38;5;241m.\u001b[39mdecode(\u001b[38;5;124m'\u001b[39m\u001b[38;5;124mlatin1\u001b[39m\u001b[38;5;124m'\u001b[39m)\n\u001b[0;32m-> 1373\u001b[0m arr \u001b[38;5;241m=\u001b[39m \u001b[43m_read\u001b[49m\u001b[43m(\u001b[49m\u001b[43mfname\u001b[49m\u001b[43m,\u001b[49m\u001b[43m \u001b[49m\u001b[43mdtype\u001b[49m\u001b[38;5;241;43m=\u001b[39;49m\u001b[43mdtype\u001b[49m\u001b[43m,\u001b[49m\u001b[43m \u001b[49m\u001b[43mcomment\u001b[49m\u001b[38;5;241;43m=\u001b[39;49m\u001b[43mcomment\u001b[49m\u001b[43m,\u001b[49m\u001b[43m \u001b[49m\u001b[43mdelimiter\u001b[49m\u001b[38;5;241;43m=\u001b[39;49m\u001b[43mdelimiter\u001b[49m\u001b[43m,\u001b[49m\n\u001b[1;32m   1374\u001b[0m \u001b[43m            \u001b[49m\u001b[43mconverters\u001b[49m\u001b[38;5;241;43m=\u001b[39;49m\u001b[43mconverters\u001b[49m\u001b[43m,\u001b[49m\u001b[43m \u001b[49m\u001b[43mskiplines\u001b[49m\u001b[38;5;241;43m=\u001b[39;49m\u001b[43mskiprows\u001b[49m\u001b[43m,\u001b[49m\u001b[43m \u001b[49m\u001b[43musecols\u001b[49m\u001b[38;5;241;43m=\u001b[39;49m\u001b[43musecols\u001b[49m\u001b[43m,\u001b[49m\n\u001b[1;32m   1375\u001b[0m \u001b[43m            \u001b[49m\u001b[43munpack\u001b[49m\u001b[38;5;241;43m=\u001b[39;49m\u001b[43munpack\u001b[49m\u001b[43m,\u001b[49m\u001b[43m \u001b[49m\u001b[43mndmin\u001b[49m\u001b[38;5;241;43m=\u001b[39;49m\u001b[43mndmin\u001b[49m\u001b[43m,\u001b[49m\u001b[43m \u001b[49m\u001b[43mencoding\u001b[49m\u001b[38;5;241;43m=\u001b[39;49m\u001b[43mencoding\u001b[49m\u001b[43m,\u001b[49m\n\u001b[1;32m   1376\u001b[0m \u001b[43m            \u001b[49m\u001b[43mmax_rows\u001b[49m\u001b[38;5;241;43m=\u001b[39;49m\u001b[43mmax_rows\u001b[49m\u001b[43m,\u001b[49m\u001b[43m \u001b[49m\u001b[43mquote\u001b[49m\u001b[38;5;241;43m=\u001b[39;49m\u001b[43mquotechar\u001b[49m\u001b[43m)\u001b[49m\n\u001b[1;32m   1378\u001b[0m \u001b[38;5;28;01mreturn\u001b[39;00m arr\n",
      "File \u001b[0;32m~/miniconda3/envs/ili-sbi/lib/python3.10/site-packages/numpy/lib/npyio.py:1016\u001b[0m, in \u001b[0;36m_read\u001b[0;34m(fname, delimiter, comment, quote, imaginary_unit, usecols, skiplines, max_rows, converters, ndmin, unpack, dtype, encoding)\u001b[0m\n\u001b[1;32m   1013\u001b[0m     data \u001b[38;5;241m=\u001b[39m _preprocess_comments(data, comments, encoding)\n\u001b[1;32m   1015\u001b[0m \u001b[38;5;28;01mif\u001b[39;00m read_dtype_via_object_chunks \u001b[38;5;129;01mis\u001b[39;00m \u001b[38;5;28;01mNone\u001b[39;00m:\n\u001b[0;32m-> 1016\u001b[0m     arr \u001b[38;5;241m=\u001b[39m \u001b[43m_load_from_filelike\u001b[49m\u001b[43m(\u001b[49m\n\u001b[1;32m   1017\u001b[0m \u001b[43m        \u001b[49m\u001b[43mdata\u001b[49m\u001b[43m,\u001b[49m\u001b[43m \u001b[49m\u001b[43mdelimiter\u001b[49m\u001b[38;5;241;43m=\u001b[39;49m\u001b[43mdelimiter\u001b[49m\u001b[43m,\u001b[49m\u001b[43m \u001b[49m\u001b[43mcomment\u001b[49m\u001b[38;5;241;43m=\u001b[39;49m\u001b[43mcomment\u001b[49m\u001b[43m,\u001b[49m\u001b[43m \u001b[49m\u001b[43mquote\u001b[49m\u001b[38;5;241;43m=\u001b[39;49m\u001b[43mquote\u001b[49m\u001b[43m,\u001b[49m\n\u001b[1;32m   1018\u001b[0m \u001b[43m        \u001b[49m\u001b[43mimaginary_unit\u001b[49m\u001b[38;5;241;43m=\u001b[39;49m\u001b[43mimaginary_unit\u001b[49m\u001b[43m,\u001b[49m\n\u001b[1;32m   1019\u001b[0m \u001b[43m        \u001b[49m\u001b[43musecols\u001b[49m\u001b[38;5;241;43m=\u001b[39;49m\u001b[43musecols\u001b[49m\u001b[43m,\u001b[49m\u001b[43m \u001b[49m\u001b[43mskiplines\u001b[49m\u001b[38;5;241;43m=\u001b[39;49m\u001b[43mskiplines\u001b[49m\u001b[43m,\u001b[49m\u001b[43m \u001b[49m\u001b[43mmax_rows\u001b[49m\u001b[38;5;241;43m=\u001b[39;49m\u001b[43mmax_rows\u001b[49m\u001b[43m,\u001b[49m\n\u001b[1;32m   1020\u001b[0m \u001b[43m        \u001b[49m\u001b[43mconverters\u001b[49m\u001b[38;5;241;43m=\u001b[39;49m\u001b[43mconverters\u001b[49m\u001b[43m,\u001b[49m\u001b[43m \u001b[49m\u001b[43mdtype\u001b[49m\u001b[38;5;241;43m=\u001b[39;49m\u001b[43mdtype\u001b[49m\u001b[43m,\u001b[49m\n\u001b[1;32m   1021\u001b[0m \u001b[43m        \u001b[49m\u001b[43mencoding\u001b[49m\u001b[38;5;241;43m=\u001b[39;49m\u001b[43mencoding\u001b[49m\u001b[43m,\u001b[49m\u001b[43m \u001b[49m\u001b[43mfilelike\u001b[49m\u001b[38;5;241;43m=\u001b[39;49m\u001b[43mfilelike\u001b[49m\u001b[43m,\u001b[49m\n\u001b[1;32m   1022\u001b[0m \u001b[43m        \u001b[49m\u001b[43mbyte_converters\u001b[49m\u001b[38;5;241;43m=\u001b[39;49m\u001b[43mbyte_converters\u001b[49m\u001b[43m)\u001b[49m\n\u001b[1;32m   1024\u001b[0m \u001b[38;5;28;01melse\u001b[39;00m:\n\u001b[1;32m   1025\u001b[0m     \u001b[38;5;66;03m# This branch reads the file into chunks of object arrays and then\u001b[39;00m\n\u001b[1;32m   1026\u001b[0m     \u001b[38;5;66;03m# casts them to the desired actual dtype.  This ensures correct\u001b[39;00m\n\u001b[1;32m   1027\u001b[0m     \u001b[38;5;66;03m# string-length and datetime-unit discovery (like `arr.astype()`).\u001b[39;00m\n\u001b[1;32m   1028\u001b[0m     \u001b[38;5;66;03m# Due to chunking, certain error reports are less clear, currently.\u001b[39;00m\n\u001b[1;32m   1029\u001b[0m     \u001b[38;5;28;01mif\u001b[39;00m filelike:\n",
      "File \u001b[0;32m~/miniconda3/envs/ili-sbi/lib/python3.10/codecs.py:331\u001b[0m, in \u001b[0;36mBufferedIncrementalDecoder.getstate\u001b[0;34m(self)\u001b[0m\n\u001b[1;32m    328\u001b[0m     IncrementalDecoder\u001b[38;5;241m.\u001b[39mreset(\u001b[38;5;28mself\u001b[39m)\n\u001b[1;32m    329\u001b[0m     \u001b[38;5;28mself\u001b[39m\u001b[38;5;241m.\u001b[39mbuffer \u001b[38;5;241m=\u001b[39m \u001b[38;5;124mb\u001b[39m\u001b[38;5;124m\"\u001b[39m\u001b[38;5;124m\"\u001b[39m\n\u001b[0;32m--> 331\u001b[0m \u001b[38;5;28;01mdef\u001b[39;00m \u001b[38;5;21mgetstate\u001b[39m(\u001b[38;5;28mself\u001b[39m):\n\u001b[1;32m    332\u001b[0m     \u001b[38;5;66;03m# additional state info is always 0\u001b[39;00m\n\u001b[1;32m    333\u001b[0m     \u001b[38;5;28;01mreturn\u001b[39;00m (\u001b[38;5;28mself\u001b[39m\u001b[38;5;241m.\u001b[39mbuffer, \u001b[38;5;241m0\u001b[39m)\n\u001b[1;32m    335\u001b[0m \u001b[38;5;28;01mdef\u001b[39;00m \u001b[38;5;21msetstate\u001b[39m(\u001b[38;5;28mself\u001b[39m, state):\n\u001b[1;32m    336\u001b[0m     \u001b[38;5;66;03m# ignore additional state info\u001b[39;00m\n",
      "\u001b[0;31mKeyboardInterrupt\u001b[0m: "
     ]
    }
   ],
   "source": [
    "# FOR ROCKSTAR HALOS:\n",
    "\n",
    "# root         = '/pscratch/sd/s/spandey/quijote/Snapshot_fid'\n",
    "# root = '/mnt/home/spandey/ceph/Quijote/fiducial_HR_new/Snapshots'\n",
    "root = '/mnt/home/fvillaescusa/ceph/Quijote/Snapshots/latin_hypercube_HR'\n",
    "# snap_dir_base='/pscratch/sd/s/spandey/quijote/Halos/fiducial'\n",
    "# mass_types = ['fof','rockstar_200c','rockstar_vir']\n",
    "mass_types = ['rockstar_200c']\n",
    "# mass_types = ['fof']\n",
    "# Mmin_cut = 7e12\n",
    "# Mmin_cut_str = '7e12'\n",
    "\n",
    "Mmin_cut = 1e13\n",
    "Mmin_cut_str = '1e13'\n",
    "\n",
    "# root_out     = '/pscratch/sd/s/spandey/quijote/data_NGP_self'\n",
    "# root_out = '/mnt/home/spandey/ceph/Quijote/data_NGP_self_LH'\n",
    "root_out = '/mnt/home/spandey/ceph/Quijote/data_NGP_self_pmwd_LH/'\n",
    "ptypes       = [1]\n",
    "# snapnum      = 0\n",
    "# grids         = [64, 128, 256, 512]\n",
    "# grids         = [64, 128, 256]\n",
    "grids         = [128]\n",
    "# grids         = [128, 256]\n",
    "BoxSize = 1000.0 #Mpc/h ; size of box\n",
    "n_batch = 8\n",
    "n_filter = 3\n",
    "# n_cnn_all = [0,5,7]\n",
    "# n_cnn_all = [8, 0]\n",
    "# n_cnn_all = [2,4]\n",
    "# n_cnn_all = [12,16]\n",
    "n_cnn_all = [0,4]\n",
    "# n_sim_tot = 2\n",
    "# n_sim_array = np.arange(0,10)\n",
    "# n_sim_array = np.arange(0,16)\n",
    "# n_sim_array = np.arange(0,20)\n",
    "# n_sim_array = np.arange(10,350)\n",
    "# n_sim_array = np.arange(351,512)\n",
    "# n_sim_array = np.array([350])\n",
    "# n_sim_array = np.arange(528, 600)\n",
    "# n_sim_array = np.arange(0,551)\n",
    "n_sim_array = np.arange(0,540)\n",
    "# snap_num_array = [-1,0,1,2,3,4]\n",
    "# snap_num_array = [-1,4]\n",
    "snap_num_array = [4]\n",
    "# snap_num_array = [-1]\n",
    "# i = 0\n",
    "# print(i)\n",
    "for mass_type in mass_types:\n",
    "    print('doing mass type: ' + str(mass_type))\n",
    "    for ji in n_sim_array:\n",
    "        print('doing sim: ' + str(ji))\n",
    "        for grid in grids:\n",
    "            # print('doing res: ' + str(grid))\n",
    "            for snapnum in snap_num_array:\n",
    "                z = {4:0, 3:0.5, 2:1, 1:2, 0:3, -1: 127}[snapnum]\n",
    "\n",
    "                # create output folder if it does not exists\n",
    "                folder_out = '%s/%d'%(root_out,ji)\n",
    "                if not(os.path.exists(folder_out)):\n",
    "                    os.system('mkdir %s'%folder_out)\n",
    "\n",
    "                \n",
    "                savefname_halos_subvol = '%s/halos_HR_%s_lgMmincut_%s_subvol_res_%d_z=%s.pk'%(folder_out,mass_type,Mmin_cut_str,grid,z)\n",
    "                savefname_halos_full = '%s/halos_HR_%s_lgMmincut_%s_full_res_%d_z=%s.pk'%(folder_out,mass_type,Mmin_cut_str,grid,z)            \n",
    "                \n",
    "                \n",
    "                # savefname = folder_out  + '/halo_density_data_dict_' + str(grid) + '.pk'\n",
    "                # if os.path.exists(fout):  continue\n",
    "\n",
    "                # compute the density field and save it to file\n",
    "                # if snapnum > 0:\n",
    "                #     snapshot = '%s/%d/snapdir_%03d/snap_%03d'%(root,ji,snapnum,snapnum)\n",
    "                # else:\n",
    "                #     snapshot = '%s/%d/ICs/ics' % (root, ji)\n",
    "                # df_cic = MASL.density_field_gadget(snapshot, ptypes, grid, MAS='CIC',\n",
    "                #                                do_RSD=False, axis=0, verbose=True)\n",
    "                # df_pylians_cic = df_cic/np.mean(df_cic, dtype=np.float64)-1.0\n",
    "                \n",
    "                \n",
    "                # df_ngp = MASL.density_field_gadget(snapshot, ptypes, grid, MAS='NGP',\n",
    "                #                                do_RSD=False, axis=0, verbose=True)\n",
    "                # df_pylians_ngp = df_ngp/np.mean(df_ngp, dtype=np.float64)-1.0            \n",
    "                \n",
    "                if snapnum > 0:\n",
    "                    if 'rockstar' in mass_type:\n",
    "                        snap_dir_base = '/mnt/home/fvillaescusa/ceph/Quijote/Halos/Rockstar/latin_hypercube_HR'\n",
    "                        snapdir = snap_dir_base + '/' + str(ji)  #folder hosting the catalogue\n",
    "                        rockstar = np.loadtxt(snapdir + '/out_' + str(snapnum) + '_pid.list')\n",
    "                        with open(snapdir + '/out_' + str(snapnum) + '_pid.list', 'r') as f:\n",
    "                            lines = f.readlines()\n",
    "                        header = lines[0].split()\n",
    "                        # get the properties of the halos\n",
    "                        pos_h_truth = rockstar[:,header.index('X'):header.index('Z')+1]\n",
    "                        if mass_type == 'rockstar_vir':\n",
    "                            index_M = header.index('Mvir')                    \n",
    "                            mass_truth = rockstar[:,index_M]  #Halo masses in Msun/h\n",
    "                        if mass_type == 'rockstar_200c':\n",
    "                            index_M = header.index('M200c')                    \n",
    "                            mass_truth = rockstar[:,index_M]  #Halo masses in Msun/h\n",
    "                    if 'fof' in mass_type:\n",
    "                        # snap_dir_base = '/mnt/home/spandey/ceph/Quijote/fiducial_HR_new/Halos/FoF'\n",
    "                        snapdir = snap_dir_base + '/' + str(ji)  #folder hosting the catalogue\n",
    "                        FoF = readfof.FoF_catalog(snapdir, snapnum, long_ids=False, swap=False, SFR=False, read_IDs=False)\n",
    "                        # get the properties of the halos\n",
    "                        pos_h_truth = FoF.GroupPos / 1e3  #Halo positions in Mpc/h\n",
    "                        mass_truth = FoF.GroupMass * 1e10  #Halo masses in Msun/h\n",
    "\n",
    "        \n",
    "                    lgMass_truth = np.log10(mass_truth)\n",
    "                    indsel = np.where(mass_truth > Mmin_cut)[0]\n",
    "                    print(grid, len(indsel), len(mass_truth), np.amin(lgMass_truth), np.log10(Mmin_cut))\n",
    "                    pos_h_truth = pos_h_truth[indsel]\n",
    "                    lgMass_truth = lgMass_truth[indsel]\n",
    "\n",
    "                    Nhalos = np.float32(np.zeros((grid, grid, grid)))\n",
    "                    MASL.NGP(np.float32(pos_h_truth), Nhalos, BoxSize)\n",
    "                    print('mass type: ', str(mass_type), ', max number of halos:', np.amax(Nhalos))\n",
    "\n",
    "                    if grid == 64:\n",
    "                        nMax_h = 30  # maximum number of halos expected in a cell\n",
    "                    elif grid == 128:\n",
    "                        nMax_h = 10\n",
    "                    elif grid == 256:\n",
    "                        nMax_h = 8\n",
    "                    elif grid == 512:\n",
    "                        nMax_h = 3\n",
    "                    elif grid == 1024:\n",
    "                        nMax_h = 2\n",
    "                    else:\n",
    "                        print('nside not supported')\n",
    "                        sys.exit()\n",
    "\n",
    "                    dfhalo_ngp_wmass = np.float32(np.zeros((grid, grid, grid, nMax_h)))\n",
    "                    NGP_mass(np.float32(pos_h_truth), np.float32(lgMass_truth), dfhalo_ngp_wmass, BoxSize)\n",
    "\n",
    "\n",
    "                    M_halos = np.flip(np.sort(dfhalo_ngp_wmass, axis=-1), axis=-1)\n",
    "\n",
    "\n",
    "                    # now split it into nbatches each side\n",
    "\n",
    "                    subvol_size = grid // n_batch\n",
    "                    nsubvol = n_batch**3\n",
    "                    save_subvol_Nhalo = np.zeros((nsubvol, subvol_size, subvol_size, subvol_size))\n",
    "                    save_subvol_Mhalo = np.zeros((nsubvol, subvol_size, subvol_size, subvol_size, nMax_h))\n",
    "\n",
    "                    jc = 0\n",
    "                    from tqdm import tqdm\n",
    "                    for jx in (range(n_batch)):\n",
    "                        for jy in range(n_batch):\n",
    "                            for jz in range(n_batch):\n",
    "                                # get the sub-cube\n",
    "                                save_subvol_Nhalo[jc] = Nhalos[jx * subvol_size:(jx + 1) * subvol_size,\n",
    "                                                            jy * subvol_size:(jy + 1) * subvol_size,\n",
    "                                                            jz * subvol_size:(jz + 1) * subvol_size]\n",
    "                                save_subvol_Mhalo[jc] = M_halos[jx * subvol_size:(jx + 1) * subvol_size,\n",
    "                                                                jy * subvol_size:(jy + 1) * subvol_size,\n",
    "                                                                jz * subvol_size:(jz + 1) * subvol_size]\n",
    "                                # save_subvol_density_cic_unpad[jc] = df_pylians_cic[jx * subvol_size:(jx + 1) * subvol_size,\n",
    "                                #                                jy * subvol_size:(jy + 1) * subvol_size,\n",
    "                                #                                jz * subvol_size:(jz + 1) * subvol_size]\n",
    "                                # save_subvol_density_ngp_unpad[jc] = df_pylians_ngp[jx * subvol_size:(jx + 1) * subvol_size,\n",
    "                                #                                jy * subvol_size:(jy + 1) * subvol_size,\n",
    "                                #                                jz * subvol_size:(jz + 1) * subvol_size]                        \n",
    "                                jc += 1\n",
    "\n",
    "                    saved_halos_subvol = {\n",
    "                        'N_halos': save_subvol_Nhalo,\n",
    "                        'M_halos': save_subvol_Mhalo,\n",
    "                        }    \n",
    "                    pk.dump(saved_halos_subvol, open(savefname_halos_subvol, 'wb'))\n",
    "\n",
    "                    saved_halos_full = {\n",
    "                        'N_halos_combined': Nhalos,\n",
    "                        'M_halos_combined': M_halos,\n",
    "                        }    \n",
    "                    pk.dump(saved_halos_full, open(savefname_halos_full, 'wb'))\n",
    "\n",
    "\n"
   ]
  },
  {
   "cell_type": "code",
   "execution_count": 3,
   "metadata": {},
   "outputs": [],
   "source": [
    "import matplotlib.pyplot as pl\n"
   ]
  },
  {
   "cell_type": "code",
   "execution_count": 4,
   "metadata": {},
   "outputs": [],
   "source": [
    "import pickle as pk\n",
    "df_q = pk.load(open('/mnt/ceph/users/spandey/Quijote/data_NGP_self_LH/0/density_HR_full_m_res_128_z=0_nbatch_8_nfilter_3_ncnn_0.pk','rb')) \n",
    "# df_p = pk.load(open('/mnt/ceph/users/spandey/Quijote/data_NGP_self_pmwd_LH/0/density_HR_full_m_res_128_z=0_nbatch_8_nfilter_3_ncnn_0.pk','rb'))\n",
    "# df_p = pk.load(open('/mnt/ceph/users/spandey/Quijote/pmwd/for_shivam/rho_0.npy','rb'))\n",
    "df_p = np.load('/mnt/ceph/users/spandey/Quijote/pmwd/for_shivam/rho_0.npy')\n"
   ]
  },
  {
   "cell_type": "code",
   "execution_count": 5,
   "metadata": {},
   "outputs": [
    {
     "data": {
      "text/plain": [
       "((128, 128, 128), (128, 128, 128))"
      ]
     },
     "execution_count": 5,
     "metadata": {},
     "output_type": "execute_result"
    }
   ],
   "source": [
    "# df_q.keys()\n",
    "df_q['density_cic_unpad_combined'].shape, df_p.shape\n",
    "\n"
   ]
  },
  {
   "cell_type": "code",
   "execution_count": 6,
   "metadata": {},
   "outputs": [
    {
     "data": {
      "text/plain": [
       "<matplotlib.collections.PathCollection at 0x1554f523a2c0>"
      ]
     },
     "execution_count": 6,
     "metadata": {},
     "output_type": "execute_result"
    },
    {
     "data": {
      "image/png": "[encoded data removed]",
      "text/plain": [
       "<Figure size 640x480 with 1 Axes>"
      ]
     },
     "metadata": {},
     "output_type": "display_data"
    }
   ],
   "source": [
    "pl.figure()\n",
    "# pl.scatter(df_q['density_cic_unpad_combined'].flatten()[::100], df_p['density_cic_unpad_combined'].flatten()[::100], s=0.1)\n",
    "pl.scatter(df_q['density_cic_unpad_combined'].flatten()[::100], df_p.flatten()[::100], s=0.1)\n"
   ]
  },
  {
   "cell_type": "code",
   "execution_count": 16,
   "metadata": {},
   "outputs": [],
   "source": [
    "import pickle as pk\n",
    "df_q_f = pk.load(open('/mnt/ceph/users/spandey/Quijote/data_NGP_self/0/density_HR_full_m_res_128_z=0_nbatch_8_nfilter_3_ncnn_0.pk','rb')) \n",
    "df_p_f = pk.load(open('/mnt/ceph/users/spandey/Quijote/data_NGP_self/fastpm/0/density_full_m_res_128_z=0_nbatch_8_nfilter_3_ncnn_0.pk','rb'))\n",
    "\n"
   ]
  },
  {
   "cell_type": "code",
   "execution_count": 17,
   "metadata": {},
   "outputs": [
    {
     "data": {
      "text/plain": [
       "<matplotlib.collections.PathCollection at 0x1554f402fbe0>"
      ]
     },
     "execution_count": 17,
     "metadata": {},
     "output_type": "execute_result"
    },
    {
     "data": {
      "image/png": "[encoded data removed]",
      "text/plain": [
       "<Figure size 640x480 with 1 Axes>"
      ]
     },
     "metadata": {},
     "output_type": "display_data"
    }
   ],
   "source": [
    "pl.figure()\n",
    "pl.scatter(df_q_f['density_cic_unpad_combined'].flatten()[::100], df_p_f['density_cic_unpad_combined'].flatten()[::100], s=0.1)\n",
    "\n",
    "\n",
    "\n"
   ]
  },
  {
   "cell_type": "code",
   "execution_count": null,
   "metadata": {},
   "outputs": [],
   "source": []
  }
 ],
 "metadata": {
  "kernelspec": {
   "display_name": "ili-sbi",
   "language": "python",
   "name": "python3"
  },
  "language_info": {
   "codemirror_mode": {
    "name": "ipython",
    "version": 3
   },
   "file_extension": ".py",
   "mimetype": "text/x-python",
   "name": "python",
   "nbconvert_exporter": "python",
   "pygments_lexer": "ipython3",
   "version": "3.8.17"
  }
 },
 "nbformat": 4,
 "nbformat_minor": 2
}
