{
 "cells": [
  {
   "cell_type": "code",
   "execution_count": 2,
   "id": "634e396f-2733-4e06-bb54-b9cf872c1633",
   "metadata": {},
   "outputs": [],
   "source": [
    "import h5py as h5\n",
    "import numpy as np\n"
   ]
  },
  {
   "cell_type": "code",
   "execution_count": 11,
   "id": "a134ccbe-bad4-4e6f-ac35-c6d2592f1f7f",
   "metadata": {},
   "outputs": [],
   "source": [
    "# open the file using h5py\n",
    "fname = '/global/cfs/cdirs/lsst/www/shivamp/AR_NPE/Bias_Challenge/data/training/data.hdf5'\n",
    "df = h5.File(fname, 'r')\n",
    "# Take all the counts from the file for one realization\n",
    "counts_bin_0 = df['aquila_bias_challenge_training_0']['res_2']['counts_bin_0'][()]\n",
    "counts_bin_1 = df['aquila_bias_challenge_training_0']['res_2']['counts_bin_1'][()]\n",
    "counts_bin_2 = df['aquila_bias_challenge_training_0']['res_2']['counts_bin_2'][()]\n",
    "counts_bin_3 = df['aquila_bias_challenge_training_0']['res_2']['counts_bin_3'][()]\n",
    "counts_bin_4 = df['aquila_bias_challenge_training_0']['res_2']['counts_bin_4'][()]\n",
    "counts_bin_5 = df['aquila_bias_challenge_training_0']['res_2']['counts_bin_5'][()]\n",
    "\n",
    "# These correspond to six bins:\n",
    "lgmass_bins = (0.5*(np.linspace(12, 15, 7)[1:] + np.linspace(12, 15, 7)[:-1]))\n"
   ]
  },
  {
   "cell_type": "code",
   "execution_count": null,
   "id": "fb065756-edfa-4824-90e3-203891b41747",
   "metadata": {},
   "outputs": [],
   "source": [
    "# counts_bin_0 corresponds to the counts in the first bin, counts_bin_1 in the second and so on...\n",
    "# Now we take the \n",
    "\n",
    "# counts_bin_0\n",
    "\n"
   ]
  },
  {
   "cell_type": "code",
   "execution_count": null,
   "id": "3d515035-7d1e-42e6-a98d-db25be26f711",
   "metadata": {},
   "outputs": [],
   "source": []
  }
 ],
 "metadata": {
  "kernelspec": {
   "display_name": "CS2_pm",
   "language": "python",
   "name": "cs2_pm"
  },
  "language_info": {
   "codemirror_mode": {
    "name": "ipython",
    "version": 3
   },
   "file_extension": ".py",
   "mimetype": "text/x-python",
   "name": "python",
   "nbconvert_exporter": "python",
   "pygments_lexer": "ipython3",
   "version": "3.9.12"
  }
 },
 "nbformat": 4,
 "nbformat_minor": 5
}
