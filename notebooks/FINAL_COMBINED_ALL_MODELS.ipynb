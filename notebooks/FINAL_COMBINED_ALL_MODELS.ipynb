{
 "cells": [
  {
   "cell_type": "code",
   "execution_count": 1,
   "metadata": {},
   "outputs": [
    {
     "name": "stdin",
     "output_type": "stream",
     "text": [
      "Once deleted, variables cannot be recovered. Proceed (y/[n])?  y\n"
     ]
    }
   ],
   "source": [
    "%reset\n",
    "import sys, os\n",
    "import pickle as pk\n",
    "import numpy as np\n",
    "import matplotlib.pyplot as pl\n",
    "import matplotlib\n",
    "%matplotlib inline\n",
    "# gpuid = 0\n",
    "# os.environ[\"CUDA_DEVICE_ORDER\"]=\"PCI_BUS_ID\"\n",
    "# os.environ[\"CUDA_LAUNCH_BLOCKING\"]=\"1\"\n",
    "# os.environ['CUDA_VISIBLE_DEVICES']=str(gpuid)\n",
    "import torch\n",
    "dev = torch.device(\"cuda\")\n",
    "# torch.cuda.set_device(dev)\n",
    "import torch.optim as optim\n",
    "from torch.distributions import MultivariateNormal\n",
    "from torch.distributions import Normal\n",
    "# change the root directory for this notebook\n",
    "root_dir = '/global/cfs/cdirs/lsst/www/shivamp/AR_NPE/'\n",
    "os.chdir(root_dir)\n",
    "\n",
    "import sys, os\n",
    "from nf.combined_models import COMBINED_Model\n",
    "from nf.all_models import *\n",
    "\n",
    "\n",
    "%load_ext autoreload\n",
    "%autoreload 2\n",
    "\n",
    "\n"
   ]
  },
  {
   "cell_type": "code",
   "execution_count": 2,
   "metadata": {},
   "outputs": [],
   "source": [
    "ji = 0\n",
    "ns_d=256\n",
    "nb = 8\n",
    "nax = ns_d//nb\n",
    "nf = 3\n",
    "nc = 3\n",
    "# z=127 is the initial condition\n",
    "z_all = [0, 0.5, 127]\n",
    "# open the density files for each z and stack along the 2nd axis\n",
    "df_d0 = np.load('/pscratch/sd/s/spandey/quijote/Snapshot_fid/Snapshot_fid_density/' + str(ji) + '/df_m_' + str(ns_d) + '_nbatch=' + str(nb) + '_nfilter=' + str(nf) + '_ncnn=' + str(nc) + '_CIC_z=0_subvol.npy')\n",
    "df_d_all = np.zeros((df_d0.shape[0], len(z_all), df_d0.shape[1], df_d0.shape[2], df_d0.shape[3]))\n",
    "for iz, z in enumerate(z_all):\n",
    "    df_d_all[:, iz, ...] = np.load('/pscratch/sd/s/spandey/quijote/Snapshot_fid/Snapshot_fid_density/0/df_m_' + str(ns_d) + '_nbatch=' + str(nb) + '_nfilter=' + str(nf) + '_ncnn=' + str(nc) + '_CIC_z=' + str(z) + '_subvol.npy')\n",
    "\n",
    "# open the halo information files. These can have a different nside\n",
    "ns_h = 128\n",
    "df_h = pk.load(open('/pscratch/sd/s/spandey/quijote/Snapshot_fid/Snapshot_fid_density/' + str(ji) + '/halo_data_dict_' + str(ns_h) + '.pk','rb'))\n",
    "# This has information on the halo mass for all the halos in the voxel\n",
    "df_Mh_all = df_h['M_halos']\n",
    "# This has information on the number of halos in the voxel\n",
    "df_Nh = df_h['N_halos']\n",
    "\n",
    "# print(df_Mh_all.shape, df_Nh.shape, df_d_all.shape)\n",
    "nsims = 128\n",
    "df_Mh_all = df_Mh_all[:nsims,...]\n",
    "df_Nh = df_Nh[:nsims,...]\n",
    "df_d_all = df_d_all[:nsims,...]\n",
    "\n",
    "\n"
   ]
  },
  {
   "cell_type": "code",
   "execution_count": 3,
   "metadata": {},
   "outputs": [],
   "source": [
    "# Now we reshape the number of halos into 2D array of shape number of sub-sim, nvoxels (per sub-sim)\n",
    "# Note that the number of sub-sim = nb**3\n",
    "N_halos_all = df_Nh.reshape((df_Nh.shape[0], df_Nh.shape[1]*df_Nh.shape[2]*df_Nh.shape[3]))\n",
    "\n",
    "# Do the same for the halo mass\n",
    "M_halos_all = df_Mh_all.reshape((df_Mh_all.shape[0], df_Mh_all.shape[1]*df_Mh_all.shape[2]*df_Mh_all.shape[3], df_Mh_all.shape[4]))\n",
    "\n",
    "# Sort the halo mass in descending order\n",
    "M_halos_all_sort = np.flip(np.sort(M_halos_all, axis=-1), axis=-1)\n",
    "# Scale the halo masses to be between 0 and 1\n",
    "Mmin, Mmax = 13.1, 16.0\n",
    "M_halos_all_sort_norm = (M_halos_all_sort - Mmin) / (Mmax - Mmin)\n",
    "\n",
    "# If the halo mass is negative, set it to some small value close to zero\n",
    "ind_neg = np.where(M_halos_all_sort_norm < 0)\n",
    "M_halos_all_sort_norm[ind_neg] = 1e-4\n",
    "\n",
    "\n"
   ]
  },
  {
   "cell_type": "code",
   "execution_count": 4,
   "metadata": {},
   "outputs": [],
   "source": [
    "# M_halos_all_sort_norm = M_halos_all_sort_norm[:,:,:4]\n",
    "# M_halos_all_sort_norm.shape\n"
   ]
  },
  {
   "cell_type": "code",
   "execution_count": 5,
   "metadata": {},
   "outputs": [],
   "source": [
    "# This creates a mask for the halo mass matrix. The mask is 1 in the last axis corresponding to number of halos in that voxel\n",
    "mask_all = np.zeros((N_halos_all.shape[0], N_halos_all.shape[1], M_halos_all_sort.shape[-1]))\n",
    "idx = np.arange(M_halos_all_sort.shape[-1])[None,None,:]\n",
    "mask_all[np.arange(N_halos_all.shape[0])[:,None,None], np.arange(N_halos_all.shape[1])[None,:,None], idx] = (idx < N_halos_all[...,None])\n",
    "\n",
    "# Also create a mask for mass difference. This is 1 if the halo more than one halo is present and 0 if it is not\n",
    "N_halos_diff = N_halos_all - 1\n",
    "N_halos_diff[N_halos_diff < 0] = 0\n",
    "mask_M_diff = np.zeros((N_halos_all.shape[0], N_halos_all.shape[1], M_halos_all_sort_norm.shape[-1]-1))\n",
    "idx = np.arange(M_halos_all_sort_norm.shape[-1]-1)[None,None,:]\n",
    "mask_M_diff[np.arange(N_halos_all.shape[0])[:,None,None], np.arange(N_halos_all.shape[1])[None,:,None], idx] = (idx < N_halos_diff[...,None])\n",
    "\n",
    "mask_M1 = mask_all[:, :, 0]\n"
   ]
  },
  {
   "cell_type": "code",
   "execution_count": 6,
   "metadata": {},
   "outputs": [
    {
     "name": "stdout",
     "output_type": "stream",
     "text": [
      "(128, 4096) (128, 4096) (128, 4096, 9)\n"
     ]
    }
   ],
   "source": [
    "# Heavist halo mass in each voxel\n",
    "M1_halos_all_norm = M_halos_all_sort_norm[..., 0]\n",
    "\n",
    "# Take the rest of the halo masses and create a diff array\n",
    "M_diff_halos_all_norm = M_halos_all_sort_norm[..., :-1] - M_halos_all_sort_norm[..., 1:]\n",
    "# M_diff_halos_all_norm = M_halos_all_sort_norm[..., 1:]\n",
    "\n",
    "# Now we create a mask for the halo masses. This is needed for the loss function\n",
    "M_diff_halos_all_norm_masked = M_diff_halos_all_norm * mask_M_diff\n",
    "\n",
    "print(N_halos_all.shape, M1_halos_all_norm.shape, M_diff_halos_all_norm_masked.shape)\n",
    "\n"
   ]
  },
  {
   "cell_type": "code",
   "execution_count": 23,
   "metadata": {},
   "outputs": [
    {
     "data": {
      "text/plain": [
       "(128, 4096)"
      ]
     },
     "execution_count": 23,
     "metadata": {},
     "output_type": "execute_result"
    }
   ],
   "source": [
    "# pl.figure()\n",
    "# _ = pl.hist(M_diff_halos_all_norm[:,0])\n",
    "# print(mask_M1.shape, nax, df_d_all.shape, df_Nh.shape)\n",
    "# (128//8)**3\n",
    "# N_halos_all.shape\n",
    "Nhalo_train_mg.shape\n",
    "\n"
   ]
  },
  {
   "cell_type": "code",
   "execution_count": 40,
   "metadata": {},
   "outputs": [
    {
     "name": "stdout",
     "output_type": "stream",
     "text": [
      "(128, 4096) (128, 4096, 1)\n"
     ]
    }
   ],
   "source": [
    "Nmax = int(np.amax(N_halos_all))\n",
    "mu_all = np.arange(Nmax + 1) + 1\n",
    "sig_all = 0.05 * np.ones_like(mu_all)\n",
    "Nhalo_train_mg = sig_all[0] * np.random.randn(N_halos_all.shape[0], N_halos_all.shape[1]) + (N_halos_all) + 1\n",
    "Nhalo_train_mg_arr = Nhalo_train_mg[...,np.newaxis]\n",
    "ngauss_Nhalo = Nmax + 1\n",
    "\n",
    "print(Nhalo_train_mg.shape, Nhalo_train_mg_arr.shape)\n",
    "\n"
   ]
  },
  {
   "cell_type": "code",
   "execution_count": 41,
   "metadata": {},
   "outputs": [],
   "source": [
    "hidden_dim_MAF = 5\n",
    "learning_rate = 0.01\n",
    "nflows_M1_NSF = 5\n",
    "ngauss_M1 = 5\n",
    "changelr = False\n",
    "ksize = nf\n",
    "ninp = df_d_all.shape[1]\n",
    "nfeature_cnn = 4\n",
    "nout_cnn = 4*nfeature_cnn\n",
    "# num_cond = nout_cnn + ninp\n",
    "num_cond = nout_cnn\n",
    "\n",
    "\n",
    "\n",
    "\n"
   ]
  },
  {
   "cell_type": "code",
   "execution_count": 42,
   "metadata": {},
   "outputs": [],
   "source": [
    "# rand_mat = np.random.rand(100,100)\n",
    "# # rand_mat.shape\n",
    "# np.pad(rand_mat, 0, 'wrap').shape\n",
    "\n"
   ]
  },
  {
   "cell_type": "code",
   "execution_count": 43,
   "metadata": {},
   "outputs": [
    {
     "name": "stdout",
     "output_type": "stream",
     "text": [
      "169\n"
     ]
    }
   ],
   "source": [
    "model_Ntot = SumGaussModel(\n",
    "    hidden_dim=hidden_dim_MAF,\n",
    "    num_cond=num_cond,\n",
    "    ngauss=ngauss_Nhalo,\n",
    "    mu_all=mu_all,\n",
    "    sig_all=sig_all\n",
    "    )\n",
    "model_Ntot.to(dev)\n",
    "model_parameters = filter(lambda p: p.requires_grad, model_Ntot.parameters())\n",
    "params = sum([np.prod(p.size()) for p in model_parameters])\n",
    "print(params)\n",
    "\n"
   ]
  },
  {
   "cell_type": "code",
   "execution_count": 47,
   "metadata": {
    "tags": []
   },
   "outputs": [
    {
     "name": "stdout",
     "output_type": "stream",
     "text": [
      "1166\n"
     ]
    }
   ],
   "source": [
    "model_M1 = NSF_M1_CNNcond(K=5, B=3, \n",
    "                       hidden_dim = hidden_dim_MAF,\n",
    "                       num_cond=num_cond+1,nflows=nflows_M1_NSF,\n",
    "                      base_dist=\"gumbel\", mu_pos=False)    \n",
    "\n",
    "model_M1.to(dev)\n",
    "model_parameters = filter(lambda p: p.requires_grad, model_M1.parameters())\n",
    "params = sum([np.prod(p.size()) for p in model_parameters])\n",
    "print(params)\n",
    "\n"
   ]
  },
  {
   "cell_type": "code",
   "execution_count": 48,
   "metadata": {},
   "outputs": [
    {
     "data": {
      "text/plain": [
       "(128, 4096, 9)"
      ]
     },
     "execution_count": 48,
     "metadata": {},
     "output_type": "execute_result"
    }
   ],
   "source": [
    "M_diff_halos_all_norm_masked.shape\n"
   ]
  },
  {
   "cell_type": "code",
   "execution_count": 49,
   "metadata": {
    "tags": []
   },
   "outputs": [
    {
     "name": "stdout",
     "output_type": "stream",
     "text": [
      "13793\n"
     ]
    }
   ],
   "source": [
    "# nflow = 3\n",
    "nflows_Mdiff_NSF = 6\n",
    "nsim, nvox_b, ndim_diff= M_diff_halos_all_norm_masked.shape[0], M_diff_halos_all_norm_masked.shape[1], M_diff_halos_all_norm_masked.shape[2]\n",
    "# base_dist = 'halfgauss'\n",
    "base_dist = 'gumbel'\n",
    "# base_dist = 'weibull'\n",
    "model_Mdiff = NSF_Mdiff_CNNcond(dim=ndim_diff,K=5, B=3, \n",
    "                       hidden_dim = hidden_dim_MAF,\n",
    "                       num_cond=num_cond+2,nflows=nflows_Mdiff_NSF,\n",
    "                      base_dist=base_dist, mu_pos=True)    \n",
    "model_Mdiff.to(dev)\n",
    "model_parameters = filter(lambda p: p.requires_grad, model_Mdiff.parameters())\n",
    "params = sum([np.prod(p.size()) for p in model_parameters])\n",
    "print(params)\n",
    "\n",
    "\n",
    "\n",
    "\n",
    "\n",
    "# flows_Mdiff = []\n",
    "# for _ in range(nflow):\n",
    "#     flow_ji = MAF_CNN_cond(dim=ndim_diff, hidden_dim=hidden_dim_MAF, num_cond=num_cond + 2)\n",
    "#     flow_ji.to(dev)\n",
    "#     flows_Mdiff.append(flow_ji)\n",
    "    \n",
    "# # prior = MultivariateNormal(torch.zeros(ndim_diff), torch.eye(ndim_diff))\n",
    "# # prior = prior.to('cuda')\n",
    "# priors_all = []\n",
    "# for _ in range(ndim_diff):\n",
    "#     norm_ji = Normal(torch.tensor([0.0], device='cuda'), torch.tensor([1.0], device='cuda'))\n",
    "#     # norm_ji = norm_ji.to('cuda')\n",
    "#     priors_all.append(norm_ji)\n",
    "\n",
    "\n"
   ]
  },
  {
   "cell_type": "code",
   "execution_count": 50,
   "metadata": {
    "tags": []
   },
   "outputs": [],
   "source": [
    "# num_cond+2\n",
    "# ndim_diff\n",
    "# model_Mdiff.layers_all_dim\n",
    "# df_Mh_all.shape\n",
    "# df_Mh_all.shape[-1]\n",
    "# nsim, nvox_b, ndim_diff\n",
    "# 11072 + 328+554+119\n",
    "# model_Mdiff\n",
    "\n"
   ]
  },
  {
   "cell_type": "code",
   "execution_count": 51,
   "metadata": {},
   "outputs": [],
   "source": [
    "ndim = ndim_diff+1\n",
    "model = COMBINED_Model(\n",
    "        # priors_all,\n",
    "        None,\n",
    "        # flows_Mdiff,\n",
    "        model_Mdiff,\n",
    "        # None,\n",
    "        model_M1,\n",
    "        # None,\n",
    "        model_Ntot,\n",
    "        ndim,\n",
    "        ksize,\n",
    "        ns_d,\n",
    "        ns_h,\n",
    "        nb,\n",
    "        ninp,\n",
    "        nfeature_cnn,\n",
    "        nout_cnn,\n",
    "        # layers_types=['cnn', 'res', 'res', 'res'],\n",
    "        # layers_types=['cnn', 'res'],    \n",
    "        layers_types=['cnn', 'res'],    \n",
    "        act='tanh',\n",
    "        padding='valid',\n",
    "        sep_Ntot_cond=True,\n",
    "        sep_M1_cond=True,\n",
    "        sep_Mdiff_cond=True,\n",
    "        train_Ntot=True,\n",
    "        train_M1=True,\n",
    "        train_Mdiff=True\n",
    "    )\n",
    "\n",
    "model.to(dev)\n",
    "\n",
    "optimizer = optim.Adam(model.parameters(), lr=learning_rate)\n",
    "loss_all_it = []\n",
    "loss_min = 1e20\n",
    "\n"
   ]
  },
  {
   "cell_type": "code",
   "execution_count": 52,
   "metadata": {
    "tags": []
   },
   "outputs": [],
   "source": [
    "# list(model.parameters())\n",
    "# model.conv_layers\n"
   ]
  },
  {
   "cell_type": "code",
   "execution_count": 53,
   "metadata": {},
   "outputs": [
    {
     "name": "stdout",
     "output_type": "stream",
     "text": [
      "15168\n",
      "13793\n",
      "1166\n",
      "169\n",
      "30296\n"
     ]
    }
   ],
   "source": [
    "# ninp \n",
    "# len(priors_all)\n",
    "# print(next(model.parameters()).is_cuda)\n",
    "# model.conv_layers\n",
    "model_parameters = filter(lambda p: p.requires_grad, model.conv_layers.parameters())\n",
    "params_cnn = sum([np.prod(p.size()) for p in model_parameters])\n",
    "print(params_cnn)\n",
    "\n",
    "model_parameters = filter(lambda p: p.requires_grad, model_Mdiff.parameters())\n",
    "params_Mdiff = sum([np.prod(p.size()) for p in model_parameters])\n",
    "print(params_Mdiff)\n",
    "\n",
    "model_parameters = filter(lambda p: p.requires_grad, model_M1.parameters())\n",
    "params_M1 = sum([np.prod(p.size()) for p in model_parameters])\n",
    "print(params_M1)\n",
    "\n",
    "model_parameters = filter(lambda p: p.requires_grad, model_Ntot.parameters())\n",
    "params_Ntot = sum([np.prod(p.size()) for p in model_parameters])\n",
    "print(params_Ntot)\n",
    "\n",
    "\n",
    "print(params_cnn + params_Mdiff + params_M1 + params_Ntot)\n",
    "\n"
   ]
  },
  {
   "cell_type": "code",
   "execution_count": 54,
   "metadata": {},
   "outputs": [
    {
     "name": "stdout",
     "output_type": "stream",
     "text": [
      "33056\n"
     ]
    }
   ],
   "source": [
    "model_parameters = filter(lambda p: p.requires_grad, model.parameters())\n",
    "params = sum([np.prod(p.size()) for p in model_parameters])\n",
    "print(params)\n",
    "\n",
    "\n",
    "\n"
   ]
  },
  {
   "cell_type": "code",
   "execution_count": null,
   "metadata": {
    "tags": []
   },
   "outputs": [],
   "source": [
    "\n",
    "\n",
    "\n"
   ]
  },
  {
   "cell_type": "code",
   "execution_count": 55,
   "metadata": {},
   "outputs": [
    {
     "data": {
      "text/plain": [
       "(524288, 1)"
      ]
     },
     "execution_count": 55,
     "metadata": {},
     "output_type": "execute_result"
    }
   ],
   "source": [
    "(Nhalo_train_mg_arr.reshape(Nhalo_train_mg_arr.shape[0]*Nhalo_train_mg_arr.shape[1], 1)).shape\n",
    "\n"
   ]
  },
  {
   "cell_type": "code",
   "execution_count": 56,
   "metadata": {},
   "outputs": [],
   "source": [
    "# cond_tensor.to('cuda')\n",
    "# # dev\n",
    "# cond_tensor.device\n",
    "\n",
    "# # cond_tensor.get_device()\n",
    "\n"
   ]
  },
  {
   "cell_type": "code",
   "execution_count": 64,
   "metadata": {},
   "outputs": [
    {
     "data": {
      "text/plain": [
       "(128, 4096, 9)"
      ]
     },
     "execution_count": 64,
     "metadata": {},
     "output_type": "execute_result"
    }
   ],
   "source": [
    "# torch.amin(X_Mdiff)\n",
    "# mask_M1.shape, mask_M_diff.shape, M1_halos_all_norm.shape, M1_halos_all_norm.shape, Nhalo_train_mg_arr.shape\n",
    "M_diff_halos_all_norm_masked.shape\n",
    "\n"
   ]
  },
  {
   "cell_type": "code",
   "execution_count": 379,
   "metadata": {
    "tags": []
   },
   "outputs": [
    {
     "name": "stderr",
     "output_type": "stream",
     "text": [
      "  0%|          | 1/2000 [00:00<20:05,  1.66it/s]"
     ]
    },
    {
     "name": "stdout",
     "output_type": "stream",
     "text": [
      "saving bf at: , with loss: -1.3025\n"
     ]
    },
    {
     "name": "stderr",
     "output_type": "stream",
     "text": [
      " 10%|█         | 201/2000 [01:46<16:21,  1.83it/s]"
     ]
    },
    {
     "name": "stdout",
     "output_type": "stream",
     "text": [
      "saving bf at: , with loss: -1.3026\n"
     ]
    },
    {
     "name": "stderr",
     "output_type": "stream",
     "text": [
      " 20%|██        | 401/2000 [03:32<14:31,  1.83it/s]"
     ]
    },
    {
     "name": "stdout",
     "output_type": "stream",
     "text": [
      "saving bf at: , with loss: -1.3027\n"
     ]
    },
    {
     "name": "stderr",
     "output_type": "stream",
     "text": [
      " 30%|███       | 601/2000 [05:19<12:48,  1.82it/s]"
     ]
    },
    {
     "name": "stdout",
     "output_type": "stream",
     "text": [
      "saving bf at: , with loss: -1.3028\n"
     ]
    },
    {
     "name": "stderr",
     "output_type": "stream",
     "text": [
      " 40%|████      | 801/2000 [07:05<10:54,  1.83it/s]"
     ]
    },
    {
     "name": "stdout",
     "output_type": "stream",
     "text": [
      "saving bf at: , with loss: -1.3029\n"
     ]
    },
    {
     "name": "stderr",
     "output_type": "stream",
     "text": [
      " 50%|█████     | 1001/2000 [08:52<09:08,  1.82it/s]"
     ]
    },
    {
     "name": "stdout",
     "output_type": "stream",
     "text": [
      "saving bf at: , with loss: -1.3029\n"
     ]
    },
    {
     "name": "stderr",
     "output_type": "stream",
     "text": [
      " 67%|██████▋   | 1347/2000 [11:55<05:47,  1.88it/s]\n"
     ]
    },
    {
     "ename": "KeyboardInterrupt",
     "evalue": "",
     "output_type": "error",
     "traceback": [
      "\u001b[0;31m---------------------------------------------------------------------------\u001b[0m",
      "\u001b[0;31mKeyboardInterrupt\u001b[0m                         Traceback (most recent call last)",
      "\u001b[0;32m/tmp/ipykernel_114732/3528989995.py\u001b[0m in \u001b[0;36m<module>\u001b[0;34m\u001b[0m\n\u001b[1;32m     26\u001b[0m     \u001b[0mmask_tensor_Mdiff_train\u001b[0m \u001b[0;34m=\u001b[0m \u001b[0mmask_tensor_Mdiff_train\u001b[0m\u001b[0;34m.\u001b[0m\u001b[0mto\u001b[0m\u001b[0;34m(\u001b[0m\u001b[0mdev\u001b[0m\u001b[0;34m)\u001b[0m\u001b[0;34m\u001b[0m\u001b[0;34m\u001b[0m\u001b[0m\n\u001b[1;32m     27\u001b[0m     \u001b[0mmask_tensor_M1_train\u001b[0m \u001b[0;34m=\u001b[0m \u001b[0mmask_tensor_M1_train\u001b[0m\u001b[0;34m.\u001b[0m\u001b[0mto\u001b[0m\u001b[0;34m(\u001b[0m\u001b[0mdev\u001b[0m\u001b[0;34m)\u001b[0m\u001b[0;34m\u001b[0m\u001b[0;34m\u001b[0m\u001b[0m\n\u001b[0;32m---> 28\u001b[0;31m     loss = model(\n\u001b[0m\u001b[1;32m     29\u001b[0m         \u001b[0mX_Mdiff\u001b[0m\u001b[0;34m,\u001b[0m\u001b[0;34m\u001b[0m\u001b[0;34m\u001b[0m\u001b[0m\n\u001b[1;32m     30\u001b[0m         \u001b[0mX_M1\u001b[0m\u001b[0;34m,\u001b[0m\u001b[0;34m\u001b[0m\u001b[0;34m\u001b[0m\u001b[0m\n",
      "\u001b[0;32m/global/common/software/nersc/shasta2105/pytorch/1.9.0/lib/python3.8/site-packages/torch/nn/modules/module.py\u001b[0m in \u001b[0;36m_call_impl\u001b[0;34m(self, *input, **kwargs)\u001b[0m\n\u001b[1;32m   1049\u001b[0m         if not (self._backward_hooks or self._forward_hooks or self._forward_pre_hooks or _global_backward_hooks\n\u001b[1;32m   1050\u001b[0m                 or _global_forward_hooks or _global_forward_pre_hooks):\n\u001b[0;32m-> 1051\u001b[0;31m             \u001b[0;32mreturn\u001b[0m \u001b[0mforward_call\u001b[0m\u001b[0;34m(\u001b[0m\u001b[0;34m*\u001b[0m\u001b[0minput\u001b[0m\u001b[0;34m,\u001b[0m \u001b[0;34m**\u001b[0m\u001b[0mkwargs\u001b[0m\u001b[0;34m)\u001b[0m\u001b[0;34m\u001b[0m\u001b[0;34m\u001b[0m\u001b[0m\n\u001b[0m\u001b[1;32m   1052\u001b[0m         \u001b[0;31m# Do not call functions when jit is used\u001b[0m\u001b[0;34m\u001b[0m\u001b[0;34m\u001b[0m\u001b[0;34m\u001b[0m\u001b[0m\n\u001b[1;32m   1053\u001b[0m         \u001b[0mfull_backward_hooks\u001b[0m\u001b[0;34m,\u001b[0m \u001b[0mnon_full_backward_hooks\u001b[0m \u001b[0;34m=\u001b[0m \u001b[0;34m[\u001b[0m\u001b[0;34m]\u001b[0m\u001b[0;34m,\u001b[0m \u001b[0;34m[\u001b[0m\u001b[0;34m]\u001b[0m\u001b[0;34m\u001b[0m\u001b[0;34m\u001b[0m\u001b[0m\n",
      "\u001b[0;32m/global/cfs/cdirs/lsst/www/shivamp/AR_NPE/nf/combined_models.py\u001b[0m in \u001b[0;36mforward\u001b[0;34m(self, x_Mdiff, x_M1, x_Ntot, cond_x, mask_Mdiff_truth, mask_M1_truth, Nhalos_truth, use_Ntot_samples, use_M1_samples)\u001b[0m\n\u001b[1;32m    174\u001b[0m             \u001b[0;31m# prior_logprob = torch.sum(prior_logprob_masked, axis=1)\u001b[0m\u001b[0;34m\u001b[0m\u001b[0;34m\u001b[0m\u001b[0;34m\u001b[0m\u001b[0m\n\u001b[1;32m    175\u001b[0m             \u001b[0;31m# logP_Mdiff = (torch.mean(prior_logprob + log_det))\u001b[0m\u001b[0;34m\u001b[0m\u001b[0;34m\u001b[0m\u001b[0;34m\u001b[0m\u001b[0m\n\u001b[0;32m--> 176\u001b[0;31m             \u001b[0mlogP_Mdiff\u001b[0m \u001b[0;34m=\u001b[0m \u001b[0mself\u001b[0m\u001b[0;34m.\u001b[0m\u001b[0mMdiff_model\u001b[0m\u001b[0;34m.\u001b[0m\u001b[0mforward\u001b[0m\u001b[0;34m(\u001b[0m\u001b[0mx_Mdiff\u001b[0m\u001b[0;34m,\u001b[0m \u001b[0mcond_inp_Mdiff\u001b[0m\u001b[0;34m,\u001b[0m \u001b[0mmask_Mdiff_truth\u001b[0m\u001b[0;34m)\u001b[0m\u001b[0;34m\u001b[0m\u001b[0;34m\u001b[0m\u001b[0m\n\u001b[0m\u001b[1;32m    177\u001b[0m         \u001b[0;31m# print(logP_Ntot.shape, logP_M1.shape, logP_Mdiff.shape)\u001b[0m\u001b[0;34m\u001b[0m\u001b[0;34m\u001b[0m\u001b[0;34m\u001b[0m\u001b[0m\n\u001b[1;32m    178\u001b[0m         \u001b[0mloss\u001b[0m \u001b[0;34m=\u001b[0m \u001b[0mtorch\u001b[0m\u001b[0;34m.\u001b[0m\u001b[0mmean\u001b[0m\u001b[0;34m(\u001b[0m\u001b[0;34m-\u001b[0m\u001b[0mlogP_Ntot\u001b[0m \u001b[0;34m-\u001b[0m \u001b[0mlogP_M1\u001b[0m \u001b[0;34m-\u001b[0m \u001b[0mlogP_Mdiff\u001b[0m\u001b[0;34m)\u001b[0m\u001b[0;34m\u001b[0m\u001b[0;34m\u001b[0m\u001b[0m\n",
      "\u001b[0;32m/global/cfs/cdirs/lsst/www/shivamp/AR_NPE/nf/all_models.py\u001b[0m in \u001b[0;36mforward\u001b[0;34m(self, x_inp, cond_inp, mask)\u001b[0m\n\u001b[1;32m    478\u001b[0m                 \u001b[0mW\u001b[0m\u001b[0;34m,\u001b[0m \u001b[0mH\u001b[0m \u001b[0;34m=\u001b[0m \u001b[0;36m2\u001b[0m \u001b[0;34m*\u001b[0m \u001b[0mself\u001b[0m\u001b[0;34m.\u001b[0m\u001b[0mB\u001b[0m \u001b[0;34m*\u001b[0m \u001b[0mW\u001b[0m\u001b[0;34m,\u001b[0m \u001b[0;36m2\u001b[0m \u001b[0;34m*\u001b[0m \u001b[0mself\u001b[0m\u001b[0;34m.\u001b[0m\u001b[0mB\u001b[0m \u001b[0;34m*\u001b[0m \u001b[0mH\u001b[0m\u001b[0;34m\u001b[0m\u001b[0;34m\u001b[0m\u001b[0m\n\u001b[1;32m    479\u001b[0m                 \u001b[0mD\u001b[0m \u001b[0;34m=\u001b[0m \u001b[0mF\u001b[0m\u001b[0;34m.\u001b[0m\u001b[0msoftplus\u001b[0m\u001b[0;34m(\u001b[0m\u001b[0mD\u001b[0m\u001b[0;34m)\u001b[0m\u001b[0;34m\u001b[0m\u001b[0;34m\u001b[0m\u001b[0m\n\u001b[0;32m--> 480\u001b[0;31m                 \u001b[0mz\u001b[0m\u001b[0;34m,\u001b[0m \u001b[0mld\u001b[0m \u001b[0;34m=\u001b[0m \u001b[0munconstrained_RQS\u001b[0m\u001b[0;34m(\u001b[0m\u001b[0mx\u001b[0m\u001b[0;34m,\u001b[0m \u001b[0mW\u001b[0m\u001b[0;34m,\u001b[0m \u001b[0mH\u001b[0m\u001b[0;34m,\u001b[0m \u001b[0mD\u001b[0m\u001b[0;34m,\u001b[0m \u001b[0minverse\u001b[0m\u001b[0;34m=\u001b[0m\u001b[0;32mFalse\u001b[0m\u001b[0;34m,\u001b[0m \u001b[0mtail_bound\u001b[0m\u001b[0;34m=\u001b[0m\u001b[0mself\u001b[0m\u001b[0;34m.\u001b[0m\u001b[0mB\u001b[0m\u001b[0;34m)\u001b[0m\u001b[0;34m\u001b[0m\u001b[0;34m\u001b[0m\u001b[0m\n\u001b[0m\u001b[1;32m    481\u001b[0m                 \u001b[0mlog_det_all_jd\u001b[0m \u001b[0;34m+=\u001b[0m \u001b[0mld\u001b[0m\u001b[0;34m\u001b[0m\u001b[0;34m\u001b[0m\u001b[0m\n\u001b[1;32m    482\u001b[0m                 \u001b[0mx\u001b[0m \u001b[0;34m=\u001b[0m \u001b[0mz\u001b[0m\u001b[0;34m\u001b[0m\u001b[0;34m\u001b[0m\u001b[0m\n",
      "\u001b[0;32m/global/cfs/cdirs/lsst/www/shivamp/AR_NPE/nf/utils.py\u001b[0m in \u001b[0;36munconstrained_RQS\u001b[0;34m(inputs, unnormalized_widths, unnormalized_heights, unnormalized_derivatives, inverse, tail_bound, min_bin_width, min_bin_height, min_derivative)\u001b[0m\n\u001b[1;32m     40\u001b[0m     \u001b[0mlogabsdet\u001b[0m\u001b[0;34m[\u001b[0m\u001b[0moutside_interval_mask\u001b[0m\u001b[0;34m]\u001b[0m \u001b[0;34m=\u001b[0m \u001b[0;36m0\u001b[0m\u001b[0;34m\u001b[0m\u001b[0;34m\u001b[0m\u001b[0m\n\u001b[1;32m     41\u001b[0m \u001b[0;34m\u001b[0m\u001b[0m\n\u001b[0;32m---> 42\u001b[0;31m     outputs[inside_intvl_mask], logabsdet[inside_intvl_mask] = RQS(\n\u001b[0m\u001b[1;32m     43\u001b[0m         \u001b[0minputs\u001b[0m\u001b[0;34m=\u001b[0m\u001b[0minputs\u001b[0m\u001b[0;34m[\u001b[0m\u001b[0minside_intvl_mask\u001b[0m\u001b[0;34m]\u001b[0m\u001b[0;34m,\u001b[0m\u001b[0;34m\u001b[0m\u001b[0;34m\u001b[0m\u001b[0m\n\u001b[1;32m     44\u001b[0m         \u001b[0munnormalized_widths\u001b[0m\u001b[0;34m=\u001b[0m\u001b[0munnormalized_widths\u001b[0m\u001b[0;34m[\u001b[0m\u001b[0minside_intvl_mask\u001b[0m\u001b[0;34m,\u001b[0m \u001b[0;34m:\u001b[0m\u001b[0;34m]\u001b[0m\u001b[0;34m,\u001b[0m\u001b[0;34m\u001b[0m\u001b[0;34m\u001b[0m\u001b[0m\n",
      "\u001b[0;31mKeyboardInterrupt\u001b[0m: "
     ]
    }
   ],
   "source": [
    "from tqdm import tqdm\n",
    "ninit = 0\n",
    "niterations = 2000\n",
    "for g in optimizer.param_groups:\n",
    "    g['lr'] = 0.000075\n",
    "for ito in tqdm(range(niterations)):\n",
    "    optimizer.zero_grad()\n",
    "    it = ito + ninit\n",
    "    # ind_all = np.arange(density_train.shape[0])\n",
    "    # indsel_rand = ind_all\n",
    "    # density_tensor = torch.Tensor(np.array(np.copy(density_train[indsel_rand])))\n",
    "    # cond_tensor = density_tensor\n",
    "    cond_tensor = torch.Tensor(df_d_all)\n",
    "    mask_tensor_M1_train = torch.Tensor(np.copy(mask_M1.reshape(mask_M1.shape[0]*mask_M1.shape[1])))\n",
    "    # mask_tensor_Nhalo_train = torch.Tensor(np.copy(mask_Nhalo_train[indsel_rand, :]))\n",
    "    mask_tensor_Mdiff_train = torch.Tensor(np.copy(mask_M_diff.reshape(mask_M_diff.shape[0]*mask_M_diff.shape[1], mask_M_diff.shape[2])))\n",
    "\n",
    "    # print(N_halos_all.shape, M1_halos_all_norm.shape, M_diff_halos_all_norm_masked.shape)\n",
    "    X_M1 = torch.Tensor(np.copy(M1_halos_all_norm.reshape(M1_halos_all_norm.shape[0]*M1_halos_all_norm.shape[1], 1)))\n",
    "    X_Nhalo = torch.Tensor(np.copy((Nhalo_train_mg_arr.reshape(Nhalo_train_mg_arr.shape[0]*Nhalo_train_mg_arr.shape[1], Nhalo_train_mg_arr.shape[2]))))\n",
    "    X_Mdiff = torch.Tensor(np.copy(M_diff_halos_all_norm_masked.reshape(mask_M_diff.shape[0]*mask_M_diff.shape[1], mask_M_diff.shape[2])))\n",
    "    X_M1 = X_M1.to(dev)\n",
    "    X_Nhalo = X_Nhalo.to(dev)\n",
    "    X_Mdiff = X_Mdiff.to(dev)\n",
    "    cond_tensor = cond_tensor.to(dev)\n",
    "    mask_tensor_Mdiff_train = mask_tensor_Mdiff_train.to(dev)\n",
    "    mask_tensor_M1_train = mask_tensor_M1_train.to(dev)\n",
    "    loss = model(\n",
    "        X_Mdiff,\n",
    "        X_M1,\n",
    "        X_Nhalo,\n",
    "        cond_x=cond_tensor,\n",
    "        mask_Mdiff_truth=mask_tensor_Mdiff_train,\n",
    "        mask_M1_truth=mask_tensor_M1_train,\n",
    "        Nhalos_truth=torch.Tensor(np.copy((N_halos_all.reshape(N_halos_all.shape[0]*N_halos_all.shape[1], 1)))),\n",
    "        use_Ntot_samples=False,\n",
    "        use_M1_samples=False\n",
    "        )\n",
    "\n",
    "    loss.backward()\n",
    "    optimizer.step()\n",
    "\n",
    "    # loss_all_it.append(float(loss.detach().numpy()))\n",
    "\n",
    "    if (np.mod(it, int(niterations / 10)) == 0) or (it == niterations - 1):\n",
    "        if float(loss.cpu().detach().numpy()) < loss_min:\n",
    "            loss_min = float(loss.cpu().detach().numpy())\n",
    "            # print(loss1.detach().numpy(), loss2.detach().numpy(), loss3.detach().numpy())\n",
    "            print('saving bf at:', ', with loss:', np.round(loss_min, 4))\n",
    "            # print('saving bf at:', it, ', with loss:', np.round(loss_min, 9))\n",
    "            state = {'loss_min': loss_min, 'state_dict': model.state_dict(), 'optimizer': optimizer.state_dict()}\n",
    "\n",
    "            torch.save(state, 'FINAL_COMBINED/model_save_ji' + str(ji) + '_nsd' + str(ns_d) + '_nb' + str(nb) + '_nf' + str(nf) + '_nsh' + str(ns_h) + '_nsim' + str(nsims))\n",
    "\n",
    "            \n"
   ]
  },
  {
   "cell_type": "code",
   "execution_count": 363,
   "metadata": {},
   "outputs": [
    {
     "data": {
      "text/plain": [
       "tensor(-1.3024, device='cuda:0', grad_fn=<MeanBackward0>)"
      ]
     },
     "execution_count": 363,
     "metadata": {},
     "output_type": "execute_result"
    }
   ],
   "source": [
    "# X_Nhalo.shape\n",
    "# X_Nhalo.shape, X_M1.shape, mask_M1.shape\n",
    "# mask_tensor_M1_train.shape\n",
    "# mask_tensor_Mdiff_train.shape, X_Mdiff.shape\n",
    "loss\n",
    "# mask_tensor_Mdiff_tr?ain\n",
    "\n",
    "\n",
    "\n",
    "\n"
   ]
  },
  {
   "cell_type": "code",
   "execution_count": 364,
   "metadata": {},
   "outputs": [
    {
     "data": {
      "text/plain": [
       "torch.Size([128, 3, 38, 38, 38])"
      ]
     },
     "execution_count": 364,
     "metadata": {},
     "output_type": "execute_result"
    }
   ],
   "source": [
    "# X_Mdiff\n",
    "cond_tensor.shape\n",
    "\n"
   ]
  },
  {
   "cell_type": "code",
   "execution_count": 365,
   "metadata": {},
   "outputs": [
    {
     "name": "stdout",
     "output_type": "stream",
     "text": [
      "tensor([0.3705, 0.3580, 0.3665,  ..., 0.0246, 0.0253, 0.0272], device='cuda:0',\n",
      "       grad_fn=<DivBackward0>) tensor([0.5033, 0.4901, 0.5115,  ..., 0.1293, 0.1306, 0.1319], device='cuda:0',\n",
      "       grad_fn=<ExpBackward>)\n",
      "tensor([0.2494, 0.2462, 0.2449,  ..., 0.2431, 0.2401, 0.2484], device='cuda:0',\n",
      "       grad_fn=<DivBackward0>) tensor([0.1817, 0.1755, 0.1738,  ..., 0.1792, 0.1711, 0.1908], device='cuda:0',\n",
      "       grad_fn=<ExpBackward>)\n",
      "tensor([0.6643, 0.6666, 0.6717,  ..., 0.6161, 0.6147, 0.6381], device='cuda:0',\n",
      "       grad_fn=<DivBackward0>) tensor([0.9549, 0.8352, 0.6512,  ..., 0.0712, 0.0829, 0.0706], device='cuda:0',\n",
      "       grad_fn=<ExpBackward>)\n",
      "tensor([0.3017, 0.3043, 0.3032,  ..., 0.2804, 0.2767, 0.2954], device='cuda:0',\n",
      "       grad_fn=<DivBackward0>) tensor([0.0140, 0.0152, 0.0145,  ..., 0.6062, 1.2693, 0.2468], device='cuda:0',\n",
      "       grad_fn=<ExpBackward>)\n",
      "tensor([0.2755, 0.2761, 0.2758,  ..., 0.3718, 0.3812, 0.4035], device='cuda:0',\n",
      "       grad_fn=<DivBackward0>) tensor([0.4567, 0.4540, 0.4579,  ..., 0.5061, 0.5217, 0.5324], device='cuda:0',\n",
      "       grad_fn=<ExpBackward>)\n",
      "tensor([0.6320, 0.6430, 0.6446,  ..., 0.8778, 0.8787, 0.8822], device='cuda:0',\n",
      "       grad_fn=<DivBackward0>) tensor([0.5140, 0.5078, 0.5085,  ..., 0.2389, 0.2391, 0.2340], device='cuda:0',\n",
      "       grad_fn=<ExpBackward>)\n",
      "tensor([0.6463, 0.6458, 0.6445,  ..., 0.6638, 0.6632, 0.6606], device='cuda:0',\n",
      "       grad_fn=<DivBackward0>) tensor([1.0508, 1.0533, 1.0563,  ..., 1.0189, 1.0192, 1.0010], device='cuda:0',\n",
      "       grad_fn=<ExpBackward>)\n",
      "tensor([0.5128, 0.5135, 0.5143,  ..., 0.4895, 0.4895, 0.4979], device='cuda:0',\n",
      "       grad_fn=<DivBackward0>) tensor([1.1385, 1.1347, 1.1319,  ..., 1.1695, 1.1621, 1.1145], device='cuda:0',\n",
      "       grad_fn=<ExpBackward>)\n",
      "tensor([0.4669, 0.4643, 0.4639,  ..., 0.4438, 0.4404, 0.4366], device='cuda:0',\n",
      "       grad_fn=<DivBackward0>) tensor([1.4020, 1.4072, 1.4098,  ..., 1.4573, 1.4650, 1.4869], device='cuda:0',\n",
      "       grad_fn=<ExpBackward>)\n"
     ]
    }
   ],
   "source": [
    "cond_tensor = cond_tensor.to(dev)\n",
    "Ntot_samp, M1_samp, M_diff_samp, mask_tensor_M1_samp, mask_tensor_Mdiff_samp = model.inverse(\n",
    "        cond_x=cond_tensor,\n",
    "        use_truth_Nhalo=False,\n",
    "            use_truth_M1=False,\n",
    "            use_truth_Mdiff=False,\n",
    "            mask_Mdiff_truth=mask_tensor_Mdiff_train,\n",
    "            mask_M1_truth=mask_tensor_M1_train,\n",
    "            Nhalos_truth=X_Nhalo,\n",
    "            M1_truth=X_M1\n",
    "        )\n",
    "\n",
    "\n",
    "\n"
   ]
  },
  {
   "cell_type": "code",
   "execution_count": 366,
   "metadata": {},
   "outputs": [
    {
     "data": {
      "text/plain": [
       "((524288,), (524288,))"
      ]
     },
     "execution_count": 366,
     "metadata": {},
     "output_type": "execute_result"
    }
   ],
   "source": [
    "Ntot_samp.shape, X_Nhalo[:,0].cpu().detach().numpy().shape\n"
   ]
  },
  {
   "cell_type": "code",
   "execution_count": 367,
   "metadata": {},
   "outputs": [
    {
     "data": {
      "text/plain": [
       "(torch.Size([524288]), (524288,))"
      ]
     },
     "execution_count": 367,
     "metadata": {},
     "output_type": "execute_result"
    }
   ],
   "source": [
    "M1_samp.shape, X_M1[:,0].cpu().detach().numpy().shape\n"
   ]
  },
  {
   "cell_type": "code",
   "execution_count": 368,
   "metadata": {},
   "outputs": [
    {
     "data": {
      "text/plain": [
       "((524288, 9), (524288, 9))"
      ]
     },
     "execution_count": 368,
     "metadata": {},
     "output_type": "execute_result"
    }
   ],
   "source": [
    "M_diff_samp.cpu().detach().numpy().shape, X_Mdiff.cpu().detach().numpy().shape\n"
   ]
  },
  {
   "cell_type": "code",
   "execution_count": 369,
   "metadata": {},
   "outputs": [
    {
     "data": {
      "text/plain": [
       "Text(0, 0.5, 'Histogram')"
      ]
     },
     "execution_count": 369,
     "metadata": {},
     "output_type": "execute_result"
    },
    {
     "data": {
      "image/png": "[encoded data removed]",
      "text/plain": [
       "<Figure size 432x288 with 1 Axes>"
      ]
     },
     "metadata": {
      "needs_background": "light"
     },
     "output_type": "display_data"
    }
   ],
   "source": [
    "pl.figure()\n",
    "_ = pl.hist(Ntot_samp, histtype='step')\n",
    "_ = pl.hist(N_halos_all.reshape(N_halos_all.shape[0]*N_halos_all.shape[1]), histtype='step')\n",
    "# _ = pl.hist(X_Nhalo[:,0].cpu().detach().numpy())\n",
    "pl.yscale('log')\n",
    "pl.xlabel('Nhalo')\n",
    "pl.ylabel('Histogram')\n",
    "\n"
   ]
  },
  {
   "cell_type": "code",
   "execution_count": 370,
   "metadata": {},
   "outputs": [
    {
     "data": {
      "text/plain": [
       "array([0, 0, 0, ..., 7, 7, 7])"
      ]
     },
     "execution_count": 370,
     "metadata": {},
     "output_type": "execute_result"
    }
   ],
   "source": [
    "# N_halos_all\n",
    "Ntot_samp\n"
   ]
  },
  {
   "cell_type": "code",
   "execution_count": 371,
   "metadata": {},
   "outputs": [
    {
     "data": {
      "text/plain": [
       "Text(0, 0.5, 'Histogram')"
      ]
     },
     "execution_count": 371,
     "metadata": {},
     "output_type": "execute_result"
    },
    {
     "data": {
      "image/png": "[encoded data removed]",
      "text/plain": [
       "<Figure size 432x288 with 1 Axes>"
      ]
     },
     "metadata": {
      "needs_background": "light"
     },
     "output_type": "display_data"
    }
   ],
   "source": [
    "pl.figure()\n",
    "indp = (mask_tensor_M1_samp.cpu().detach().numpy()[:,0] > 0)\n",
    "_ = pl.hist(M1_samp.cpu().detach().numpy()[indp], range=(0,1), histtype='step')\n",
    "indp = (mask_tensor_M1_train.cpu().detach().numpy() > 0)\n",
    "_ = pl.hist(X_M1[:,0].cpu().detach().numpy()[indp], range=(0,1))\n",
    "pl.yscale('log')\n",
    "pl.xlabel('M1')\n",
    "pl.ylabel('Histogram')\n",
    "\n",
    "\n"
   ]
  },
  {
   "cell_type": "code",
   "execution_count": 372,
   "metadata": {},
   "outputs": [
    {
     "data": {
      "text/plain": [
       "torch.Size([524288, 1])"
      ]
     },
     "execution_count": 372,
     "metadata": {},
     "output_type": "execute_result"
    }
   ],
   "source": [
    "# M_diff_samp.shape\n",
    "mask_tensor_M1_samp.shape\n"
   ]
  },
  {
   "cell_type": "code",
   "execution_count": 378,
   "metadata": {},
   "outputs": [
    {
     "data": {
      "text/plain": [
       "Text(0, 0.5, 'Histogram')"
      ]
     },
     "execution_count": 378,
     "metadata": {},
     "output_type": "execute_result"
    },
    {
     "data": {
      "image/png": "[encoded data removed]",
      "text/plain": [
       "<Figure size 432x288 with 1 Axes>"
      ]
     },
     "metadata": {
      "needs_background": "light"
     },
     "output_type": "display_data"
    }
   ],
   "source": [
    "pl.figure()\n",
    "ind_M = 5\n",
    "\n",
    "indp = mask_tensor_Mdiff_samp[:, ind_M] > 0\n",
    "_ = pl.hist(M_diff_samp[indp,ind_M].cpu().detach().numpy(), range=(0,0.5), histtype='step')\n",
    "indp = mask_tensor_Mdiff_train[:, ind_M] > 0\n",
    "_ = pl.hist(X_Mdiff[indp,ind_M].cpu().detach().numpy(), range=(0,0.5))\n",
    "\n",
    "\n",
    "# _ = pl.hist(M_diff_samp[:,ind_M].cpu().detach().numpy(), range=(0,1), histtype='step')\n",
    "# _ = pl.hist(X_Mdiff[:,ind_M].cpu().detach().numpy(), range=(0,1))\n",
    "\n",
    "\n",
    "pl.yscale('log')\n",
    "pl.xlabel('M1')\n",
    "pl.ylabel('Histogram')\n",
    "\n",
    "\n"
   ]
  },
  {
   "cell_type": "code",
   "execution_count": 45,
   "metadata": {},
   "outputs": [],
   "source": [
    "# X_Mdiff[:,ind_M]\n"
   ]
  },
  {
   "cell_type": "code",
   "execution_count": 326,
   "metadata": {},
   "outputs": [],
   "source": [
    "from torch.distributions import HalfNormal, Weibull, Gumbel\n",
    "mu, sig = -0.5421, 0.0679\n",
    "hf = Gumbel(mu, sig)\n",
    "gr = hf.sample([10000])\n",
    "\n",
    "\n"
   ]
  },
  {
   "cell_type": "code",
   "execution_count": 350,
   "metadata": {},
   "outputs": [
    {
     "data": {
      "text/plain": [
       "torch.Size([10000])"
      ]
     },
     "execution_count": 350,
     "metadata": {},
     "output_type": "execute_result"
    }
   ],
   "source": [
    "gr.shape\n"
   ]
  },
  {
   "cell_type": "code",
   "execution_count": null,
   "metadata": {},
   "outputs": [],
   "source": [
    "\n",
    "\n"
   ]
  },
  {
   "cell_type": "code",
   "execution_count": null,
   "metadata": {},
   "outputs": [],
   "source": [
    "\n",
    "\n"
   ]
  },
  {
   "cell_type": "code",
   "execution_count": null,
   "metadata": {},
   "outputs": [],
   "source": [
    "\n",
    "\n"
   ]
  },
  {
   "cell_type": "code",
   "execution_count": null,
   "metadata": {},
   "outputs": [],
   "source": [
    "\n",
    "\n"
   ]
  }
 ],
 "metadata": {
  "kernelspec": {
   "display_name": "pytorch-1.9.0",
   "language": "python",
   "name": "pytorch-1.9.0"
  },
  "language_info": {
   "codemirror_mode": {
    "name": "ipython",
    "version": 3
   },
   "file_extension": ".py",
   "mimetype": "text/x-python",
   "name": "python",
   "nbconvert_exporter": "python",
   "pygments_lexer": "ipython3",
   "version": "3.8.11"
  }
 },
 "nbformat": 4,
 "nbformat_minor": 4
}
