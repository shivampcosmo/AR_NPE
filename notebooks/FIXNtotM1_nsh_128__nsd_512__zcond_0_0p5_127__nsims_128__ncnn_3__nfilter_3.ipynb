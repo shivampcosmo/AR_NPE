{
 "cells": [
  {
   "cell_type": "code",
   "execution_count": 1,
   "metadata": {},
   "outputs": [
    {
     "name": "stdin",
     "output_type": "stream",
     "text": [
      "Once deleted, variables cannot be recovered. Proceed (y/[n])?  y\n"
     ]
    },
    {
     "name": "stdout",
     "output_type": "stream",
     "text": [
      "The autoreload extension is already loaded. To reload it, use:\n",
      "  %reload_ext autoreload\n"
     ]
    }
   ],
   "source": [
    "%reset\n",
    "import sys, os\n",
    "os.environ[\"CUDA_VISIBLE_DEVICES\"] = \"0\"\n",
    "import matplotlib\n",
    "%matplotlib inline\n",
    "\n",
    "import pickle as pk\n",
    "import numpy as np\n",
    "import matplotlib.pyplot as pl\n",
    "pl.rc('text', usetex=False)\n",
    "# Palatino\n",
    "pl.rc('font', family='DejaVu Sans')\n",
    "import torch\n",
    "\n",
    "dev = torch.device(\"cuda\")\n",
    "# torch.cuda.set_device(dev)\n",
    "import torch.optim as optim\n",
    "from torch.distributions import MultivariateNormal\n",
    "from torch.distributions import Normal\n",
    "# change the root directory for this notebook\n",
    "root_dir = '/global/cfs/cdirs/lsst/www/shivamp/AR_NPE/'\n",
    "os.chdir(root_dir)\n",
    "\n",
    "import sys, os\n",
    "from nf.combined_models import COMBINED_Model\n",
    "from nf.all_models import *\n",
    "from nf.utils_data_prep import *\n",
    "from tqdm import tqdm\n",
    "%load_ext autoreload\n",
    "%autoreload 2\n",
    "\n",
    "\n"
   ]
  },
  {
   "cell_type": "code",
   "execution_count": 2,
   "metadata": {},
   "outputs": [],
   "source": [
    "ji = 0\n",
    "ns_d = 256\n",
    "nb = 8\n",
    "nax_d = ns_d // nb\n",
    "nf = 3\n",
    "layers_types = ['cnn', 'res']\n",
    "nc = 0\n",
    "for jl in range(len(layers_types)):\n",
    "    if layers_types[jl] == 'cnn':\n",
    "        nc += 1\n",
    "    elif layers_types[jl] == 'res':\n",
    "        nc += 2\n",
    "    else:\n",
    "        raise ValueError(\"layer type not supported\")\n",
    "\n",
    "# z=127 is the initial condition\n",
    "z_all = [0, 0.5, 127]\n",
    "ns_h = 128\n",
    "nax_h = ns_h // nb\n",
    "\n",
    "nsims_per_batch = 64\n",
    "# nbatches_train = nb**3//nsims_per_batch\n",
    "nbatches_train = 2\n",
    "\n"
   ]
  },
  {
   "cell_type": "code",
   "execution_count": 3,
   "metadata": {},
   "outputs": [
    {
     "name": "stdout",
     "output_type": "stream",
     "text": [
      "2\n"
     ]
    }
   ],
   "source": [
    "print(nbatches_train)\n"
   ]
  },
  {
   "cell_type": "code",
   "execution_count": 4,
   "metadata": {},
   "outputs": [],
   "source": [
    "hidden_dim_MAF = 5\n",
    "learning_rate = 0.01\n",
    "K_M1 = 5\n",
    "B_M1 = 3\n",
    "nflows_M1_NSF = 5\n",
    "K_Mdiff = 5\n",
    "B_Mdiff = 3\n",
    "nflows_Mdiff_NSF = 6\n",
    "base_dist_M1 = 'gumbel'\n",
    "base_dist_Mdiff = 'gumbel'\n",
    "ngauss_M1 = 5\n",
    "changelr = False\n",
    "ksize = nf\n",
    "nfeature_cnn = 4\n",
    "nout_cnn = 4 * nfeature_cnn\n",
    "ninp = len(z_all)\n",
    "num_cond = nout_cnn + ninp\n",
    "\n"
   ]
  },
  {
   "cell_type": "code",
   "execution_count": 5,
   "metadata": {},
   "outputs": [
    {
     "name": "stdout",
     "output_type": "stream",
     "text": [
      "0 64\n",
      "64 128\n"
     ]
    }
   ],
   "source": [
    "# Load the density data\n",
    "df_d_all_train, df_d_all_nsh_train, df_Mh_all_train, df_Nh_train = load_density_halo_data(\n",
    "    ji, ns_d, nb, nf, nc, z_all, ns_h\n",
    "    )\n",
    "\n",
    "# Prepare the density and halo data\n",
    "return_dict_train = prep_density_halo_cats_batched(\n",
    "    df_d_all_train, df_d_all_nsh_train, df_Mh_all_train, df_Nh_train, nsims=nsims_per_batch,\n",
    "    nbatches = nbatches_train\n",
    "    )\n",
    "\n",
    "\n"
   ]
  },
  {
   "cell_type": "code",
   "execution_count": 6,
   "metadata": {},
   "outputs": [],
   "source": [
    "model_Ntot = SumGaussModel(\n",
    "    hidden_dim=hidden_dim_MAF,\n",
    "    num_cond=num_cond,\n",
    "    ngauss=return_dict_train['ngauss_Nhalo'],\n",
    "    mu_all=return_dict_train['mu_all'],\n",
    "    sig_all=return_dict_train['sig_all'],\n",
    "    base_dist=None\n",
    "    )\n",
    "# model_Ntot.to(dev)\n",
    "\n",
    "model_M1 = NSF_M1_CNNcond(\n",
    "    K=K_M1,\n",
    "    B=B_M1,\n",
    "    hidden_dim=hidden_dim_MAF,\n",
    "    num_cond=num_cond + 1,\n",
    "    nflows=nflows_M1_NSF,\n",
    "    base_dist=base_dist_M1,\n",
    "    mu_pos=False\n",
    "    )\n",
    "\n",
    "# model_M1.to(dev)\n",
    "\n",
    "ndim_diff = return_dict_train['M_diff_halos_all_norm_masked'][0].shape[2]\n",
    "model_Mdiff = NSF_Mdiff_CNNcond(\n",
    "    dim=ndim_diff,\n",
    "    K=K_Mdiff,\n",
    "    B=B_Mdiff,\n",
    "    hidden_dim=hidden_dim_MAF,\n",
    "    num_cond=num_cond + 2,\n",
    "    nflows=nflows_Mdiff_NSF,\n",
    "    base_dist=base_dist_Mdiff,\n",
    "    mu_pos=True\n",
    "    )\n",
    "# model_Mdiff.to(dev)\n",
    "\n",
    "# print()\n",
    "\n"
   ]
  },
  {
   "cell_type": "code",
   "execution_count": 7,
   "metadata": {},
   "outputs": [
    {
     "name": "stdout",
     "output_type": "stream",
     "text": [
      "\n"
     ]
    }
   ],
   "source": [
    "ndim = ndim_diff + 1\n",
    "model = COMBINED_Model(\n",
    "    None,\n",
    "    model_Mdiff,\n",
    "    # None,\n",
    "    model_M1,\n",
    "    model_Ntot,\n",
    "    ndim,\n",
    "    ksize,\n",
    "    ns_d,\n",
    "    ns_h,\n",
    "    nb,\n",
    "    ninp,\n",
    "    nfeature_cnn,\n",
    "    nout_cnn,\n",
    "    layers_types=layers_types,\n",
    "    act='tanh',\n",
    "    padding='valid',\n",
    "    sep_Ntot_cond=True,\n",
    "    sep_M1_cond=True,\n",
    "    sep_Mdiff_cond=True,\n",
    "    )\n",
    "\n",
    "model.to(dev)\n",
    "\n",
    "print()\n",
    "\n",
    "\n"
   ]
  },
  {
   "cell_type": "code",
   "execution_count": 8,
   "metadata": {},
   "outputs": [
    {
     "data": {
      "text/plain": [
       "(2, 64, 3, 38, 38, 38)"
      ]
     },
     "execution_count": 8,
     "metadata": {},
     "output_type": "execute_result"
    }
   ],
   "source": [
    "np.array(return_dict_train['df_d_all']).shape\n",
    "# np.array(return_dict_train['df_d_all_nsh']).shape\n"
   ]
  },
  {
   "cell_type": "code",
   "execution_count": 9,
   "metadata": {},
   "outputs": [
    {
     "name": "stdout",
     "output_type": "stream",
     "text": [
      "(2, 64, 16, 16, 16, 3)\n"
     ]
    }
   ],
   "source": [
    "optimizer = optim.Adam(model.parameters(), lr=learning_rate)\n",
    "loss_all_it = []\n",
    "loss_min = 1e20\n",
    "\n",
    "\n",
    "cond_tensor = torch.Tensor(np.array(return_dict_train['df_d_all'])).cuda(dev)\n",
    "# cond_tensor_nsh = torch.Tensor(np.copy(return_dict_train['df_d_all_nsh'].reshape(nsims * (nax_h ** 3), ninp))).cuda(dev)\n",
    "cond_nsh = np.moveaxis(np.array(return_dict_train['df_d_all_nsh']), 2, 5)\n",
    "print(cond_nsh.shape)\n",
    "cond_tensor_nsh = torch.Tensor(np.array(cond_nsh).reshape(nbatches_train,nsims_per_batch * (nax_h ** 3), ninp)).cuda(dev)\n",
    "mask_tensor_M1_train = torch.Tensor(np.array(return_dict_train['mask_M1']).reshape(nbatches_train,nsims_per_batch * (nax_h**3))).cuda(dev)\n",
    "mask_tensor_Mdiff_train = torch.Tensor((np.array(return_dict_train['mask_M_diff']).reshape(nbatches_train,nsims_per_batch * (nax_h**3),\n",
    "                                                                                 ndim_diff))).cuda(dev)\n",
    "\n",
    "X_M1 = torch.Tensor((np.array(return_dict_train['M1_halos_all_norm']).reshape(nbatches_train,nsims_per_batch * (nax_h**3), 1))).cuda(dev)\n",
    "X_Nhalo = torch.Tensor(np.array(return_dict_train['Nhalo_train_mg_arr']).reshape(nbatches_train,nsims_per_batch * (nax_h**3), 1)).cuda(dev)\n",
    "X_Mdiff = torch.Tensor(np.array(return_dict_train['M_diff_halos_all_norm_masked']).reshape(nbatches_train,nsims_per_batch * (nax_h**3),\n",
    "                                                                                 ndim_diff)).cuda(dev)\n",
    "Nhalos_truth_tensor = torch.Tensor(((np.array(return_dict_train['N_halos_all']).reshape(nbatches_train,nsims_per_batch * (nax_h**3), 1)))).cuda(dev)\n",
    "\n",
    "\n",
    "\n",
    "\n"
   ]
  },
  {
   "cell_type": "code",
   "execution_count": 10,
   "metadata": {},
   "outputs": [
    {
     "name": "stdout",
     "output_type": "stream",
     "text": [
      "torch.Size([2, 262144, 9])\n"
     ]
    }
   ],
   "source": [
    "print(X_Mdiff.shape)\n",
    "\n"
   ]
  },
  {
   "cell_type": "code",
   "execution_count": 12,
   "metadata": {},
   "outputs": [],
   "source": [
    "# save_bestfit_model_name = 'FINAL_COMBINED/BATCHED_model_save_ji' + str(ji) + '_nsd' + str(ns_d) + '_nb' + str(nb) + '_nf' + \\\n",
    "#                 str(nf) + '_nsh' + str(ns_h) + '_nsimperbatch' + str(nsims_per_batch) + '_nbatches' + str(nbatches_train)\n",
    "save_bestfit_model_name = 'FINAL_COMBINED/BATCHED_fix_Ntot_M1_model_save_ji' + str(ji) + '_nsd' + str(ns_d) + '_nb' + str(nb) + '_nf' + \\\n",
    "                str(nf) + '_nsh' + str(ns_h) + '_nsimperbatch' + str(nsims_per_batch) + '_nbatches' + str(nbatches_train)\n",
    "\n",
    "bestfit_model = (torch.load(save_bestfit_model_name))\n",
    "model.load_state_dict(bestfit_model['state_dict'])\n",
    "optimizer.load_state_dict(bestfit_model['optimizer'])\n",
    "\n"
   ]
  },
  {
   "cell_type": "code",
   "execution_count": 13,
   "metadata": {},
   "outputs": [],
   "source": [
    "train_Ntot, train_M1, train_Mdiff = 0, 0, 1\n",
    "\n",
    "\n"
   ]
  },
  {
   "cell_type": "code",
   "execution_count": null,
   "metadata": {},
   "outputs": [],
   "source": [
    "# cond_tensor.shape\n",
    "# 16 * 32 * 3 * 70 * 70 * 70\n",
    "\n"
   ]
  },
  {
   "cell_type": "code",
   "execution_count": null,
   "metadata": {},
   "outputs": [],
   "source": [
    "ninit = 0\n",
    "niterations = 3000\n",
    "\n",
    "# torch.autograd.set_detect_anomaly(False)\n",
    "for ito in tqdm(range(niterations)):\n",
    "    optimizer.zero_grad()\n",
    "    for g in optimizer.param_groups:\n",
    "        g['lr'] = 0.00005\n",
    "\n",
    "    it = ito + ninit\n",
    "\n",
    "    loss = model(\n",
    "        X_Mdiff,\n",
    "        X_M1,\n",
    "        X_Nhalo,\n",
    "        cond_x=cond_tensor,\n",
    "        cond_x_nsh=cond_tensor_nsh,\n",
    "        mask_Mdiff_truth_all=mask_tensor_Mdiff_train,\n",
    "        mask_M1_truth_all=mask_tensor_M1_train,\n",
    "        Nhalos_truth_all=Nhalos_truth_tensor,\n",
    "        use_Ntot_samples=False,\n",
    "        use_M1_samples=False,\n",
    "        train_Ntot=train_Ntot,\n",
    "        train_M1=train_M1,\n",
    "        train_Mdiff=train_Mdiff       \n",
    "        )\n",
    "\n",
    "    loss.backward()\n",
    "    optimizer.step()\n",
    "\n",
    "    if (np.mod(it, int(niterations / 20)) == 0) or (it == niterations - 1):\n",
    "        if float(loss.cpu().detach().numpy()) < loss_min:\n",
    "            loss_min = float(loss.cpu().detach().numpy())\n",
    "            # print(loss1.detach().numpy(), loss2.detach().numpy(), loss3.detach().numpy())\n",
    "            print('saving bf at:', ', with loss:', np.round(loss_min, 5))\n",
    "            # print('saving bf at:', it, ', with loss:', np.round(loss_min, 9))\n",
    "            state = {'loss_min': loss_min, 'state_dict': model.state_dict(), 'optimizer': optimizer.state_dict()}\n",
    "\n",
    "            torch.save(\n",
    "                state, save_bestfit_model_name\n",
    "                )\n",
    "\n",
    "\n",
    "            "
   ]
  },
  {
   "cell_type": "code",
   "execution_count": null,
   "metadata": {},
   "outputs": [],
   "source": [
    "\n",
    "\n"
   ]
  },
  {
   "cell_type": "code",
   "execution_count": 100,
   "metadata": {},
   "outputs": [],
   "source": [
    "# cond_tensor = cond_tensor.to(dev)\n",
    "# cond_tensor_nsh = cond_tensor_nsh.to(dev)\n",
    "# Ntot_samp, M1_samp, M_diff_samp, mask_tensor_M1_samp, mask_tensor_Mdiff_samp = model.inverse(\n",
    "#         cond_x=cond_tensor,\n",
    "#         cond_x_nsh=cond_tensor_nsh,\n",
    "#         use_truth_Nhalo=1-train_Ntot,\n",
    "#             use_truth_M1=1-train_M1,\n",
    "#             use_truth_Mdiff=1-train_Mdiff,    \n",
    "#             mask_Mdiff_truth=mask_tensor_Mdiff_train,\n",
    "#             mask_M1_truth=mask_tensor_M1_train,\n",
    "#             Nhalos_truth=X_Nhalo,\n",
    "#             M1_truth=X_M1,\n",
    "#             train_Ntot=train_Ntot,\n",
    "#             train_M1=train_M1,\n",
    "#             train_Mdiff=train_Mdiff \n",
    "#         )\n",
    "\n",
    "\n",
    "\n",
    "\n",
    "\n",
    "\n"
   ]
  },
  {
   "cell_type": "code",
   "execution_count": 14,
   "metadata": {},
   "outputs": [
    {
     "name": "stdout",
     "output_type": "stream",
     "text": [
      "0 64\n",
      "64 128\n",
      "128 192\n",
      "192 256\n",
      "256 320\n",
      "320 384\n",
      "384 448\n",
      "448 512\n"
     ]
    }
   ],
   "source": [
    "# now we load the test data\n",
    "nstart = 0\n",
    "nsims_test = 64\n",
    "df_d_all_test, df_d_all_nsh_test, df_Mh_all_test, df_Nh_test = load_density_halo_data(\n",
    "    0, ns_d, nb, nf, nc, z_all, ns_h\n",
    "    )\n",
    "\n",
    "# things are too big to load all at once, so we load in batches\n",
    "nq = nb**3 // nsims_test\n",
    "save_subvol_Nhalo = np.zeros((nb**3, nax_h, nax_h, nax_h))\n",
    "save_subvol_Nhalo_truth = np.zeros((nb**3, nax_h, nax_h, nax_h))\n",
    "cond_z0_truth = np.zeros((nb**3, nax_h, nax_h, nax_h))\n",
    "save_subvol_M1 = np.zeros((nb**3, nax_h, nax_h, nax_h, 1))\n",
    "save_subvol_Mdiff = np.zeros((nb**3, nax_h, nax_h, nax_h, ndim_diff))\n",
    "mask_subvol_Mtot = np.zeros((nb**3, nax_h, nax_h, nax_h, ndim_diff + 1))\n",
    "nscount = 0\n",
    "for jq in range(nq):\n",
    "    # Load the density data\n",
    "\n",
    "\n",
    "    # Prepare the density and halo data\n",
    "    return_dict_test = prep_density_halo_cats(\n",
    "        df_d_all_test,\n",
    "        df_d_all_nsh_test,\n",
    "        df_Mh_all_test,\n",
    "        df_Nh_test,\n",
    "        nsims=nsims_test,\n",
    "        nstart=nscount,\n",
    "        )\n",
    "\n",
    "    cond_tensor_test = torch.Tensor(np.copy(np.array([return_dict_test['df_d_all']]))).cuda(dev)\n",
    "    cond_nsh_test = np.moveaxis(return_dict_test['df_d_all_nsh'], 1, 4)\n",
    "    cond_nsh_test = np.array([cond_nsh_test])\n",
    "    # print(np.array([cond_nsh_test]).shape)\n",
    "    cond_tensor_nsh_test = torch.Tensor(np.copy(cond_nsh_test.reshape(1,nsims_test * (nax_h ** 3), ninp))).cuda(dev)    \n",
    "    # cond_tensor_nsh_test = torch.Tensor(\n",
    "    #     np.copy(return_dict_test['df_d_all_nsh'].reshape(nsims_test * (nax_h**3), ninp))\n",
    "    #     ).cuda(dev)\n",
    "    mask_tensor_M1_test = torch.Tensor(np.copy(return_dict_test['mask_M1'].reshape(1,nsims_test * (nax_h**3)))).cuda(dev)\n",
    "    mask_tensor_Mdiff_test = torch.Tensor(\n",
    "        (return_dict_test['mask_M_diff'].reshape(1,nsims_test * (nax_h**3), ndim_diff))\n",
    "        ).cuda(dev)\n",
    "\n",
    "    X_M1_test = torch.Tensor((return_dict_test['M1_halos_all_norm'].reshape(1,nsims_test * (nax_h**3), 1))).cuda(dev)\n",
    "    X_Nhalo_test = torch.Tensor(return_dict_test['Nhalo_train_mg_arr'].reshape(1,nsims_test * (nax_h**3), 1)).cuda(dev)\n",
    "    X_Mdiff_test = torch.Tensor(\n",
    "        return_dict_test['M_diff_halos_all_norm_masked'].reshape(1,nsims_test * (nax_h**3), ndim_diff)\n",
    "        ).cuda(dev)\n",
    "    Nhalos_truth_tensor_test = torch.Tensor(((return_dict_test['N_halos_all'].reshape(1,nsims_test * (nax_h**3),\n",
    "                                                                                      1)))).cuda(dev)\n",
    "\n",
    "    Ntot_samp_test, M1_samp_test, M_diff_samp_test, mask_tensor_M1_samp_test, mask_tensor_Mdiff_samp_test = model.inverse(\n",
    "        cond_x=cond_tensor_test,\n",
    "        cond_x_nsh=cond_tensor_nsh_test,\n",
    "        use_truth_Nhalo=True,\n",
    "        use_truth_M1=True,\n",
    "        use_truth_Mdiff=False,\n",
    "        mask_Mdiff_truth=mask_tensor_Mdiff_test,\n",
    "        mask_M1_truth=mask_tensor_M1_test,\n",
    "        Nhalos_truth=X_Nhalo_test,\n",
    "        M1_truth=X_M1_test,\n",
    "        train_Ntot=train_Ntot,\n",
    "        train_M1=train_M1,\n",
    "        train_Mdiff=train_Mdiff         \n",
    "        )\n",
    "    Ntot_samp_test = Ntot_samp_test[0][:,np.newaxis]\n",
    "    # print(Ntot_samp_test.shape)\n",
    "    save_subvol_Nhalo[nscount:nscount + nsims_test, ...] = Ntot_samp_test.reshape(nsims_test, nax_h, nax_h, nax_h)\n",
    "    save_subvol_Nhalo_truth[nscount:nscount + nsims_test, ...] = Nhalos_truth_tensor_test.cpu().detach().numpy().reshape(nsims_test, nax_h, nax_h, nax_h)\n",
    "    save_subvol_M1[nscount:nscount + nsims_test,\n",
    "                   ...] = (M1_samp_test[0][:,0] * mask_tensor_M1_samp_test[0]\n",
    "                          ).cpu().detach().numpy().reshape(nsims_test, nax_h, nax_h, nax_h, 1)\n",
    "    save_subvol_Mdiff[nscount:nscount + nsims_test,\n",
    "                      ...] = (M_diff_samp_test[0] * mask_tensor_Mdiff_samp_test[0]\n",
    "                             ).cpu().detach().numpy().reshape(nsims_test, nax_h, nax_h, nax_h, ndim_diff)\n",
    "\n",
    "    mask_subvol_Mtot[nscount:nscount + nsims_test, ...,\n",
    "                     0] = mask_tensor_M1_samp_test[0].cpu().detach().numpy().reshape(nsims_test, nax_h, nax_h, nax_h)\n",
    "    mask_subvol_Mtot[\n",
    "        nscount:nscount + nsims_test, ...,\n",
    "        1:] = mask_tensor_Mdiff_samp_test[0].cpu().detach().numpy().reshape(nsims_test, nax_h, nax_h, nax_h, ndim_diff)\n",
    "    \n",
    "    cond_z0_truth[nscount:nscount + nsims_test, ...] = cond_tensor_nsh_test[0].cpu().detach().numpy().reshape(nsims_test, nax_h, nax_h, nax_h, ninp)[...,0]\n",
    "    # print(nscount, nscount + nsims_test)\n",
    "    \n",
    "\n",
    "    \n",
    "\n",
    "    nscount += nsims_test\n",
    "    \n",
    "    \n",
    "    "
   ]
  },
  {
   "cell_type": "code",
   "execution_count": 15,
   "metadata": {},
   "outputs": [],
   "source": [
    "save_subvol_Mtot = np.zeros((nb**3, nax_h, nax_h, nax_h, ndim_diff + 1))\n",
    "Mmin, Mmax = return_dict_test['Mmin'], return_dict_test['Mmax']\n",
    "for jd in range(ndim_diff + 1):\n",
    "    if jd == 0:\n",
    "        save_subvol_Mtot[..., jd] = (save_subvol_M1[..., 0]) * (Mmax - Mmin) + Mmin\n",
    "    else:\n",
    "        save_subvol_Mtot[...,\n",
    "                         jd] = (save_subvol_Mtot[..., jd - 1]) - (save_subvol_Mdiff[..., jd - 1]) * (Mmax - Mmin)\n",
    "\n",
    "\n",
    "save_subvol_Mtot *= mask_subvol_Mtot\n",
    "\n",
    "ind_less_Mmin = save_subvol_Mtot < Mmin\n",
    "ind_greater_Mmax = save_subvol_Mtot > Mmax\n",
    "save_subvol_Mtot[ind_less_Mmin] = 0.0\n",
    "save_subvol_Mtot[ind_greater_Mmax] = 0.0\n",
    "\n",
    "\n",
    "        \n",
    "    "
   ]
  },
  {
   "cell_type": "code",
   "execution_count": 16,
   "metadata": {},
   "outputs": [
    {
     "data": {
      "image/png": "[encoded data removed]",
      "text/plain": [
       "<Figure size 700x700 with 1 Axes>"
      ]
     },
     "metadata": {},
     "output_type": "display_data"
    }
   ],
   "source": [
    "# cond_z0_truth.shape\n",
    "indsel = np.where((cond_z0_truth > -1.0) & (cond_z0_truth < 0.0))\n",
    "# cond_z0_truth\n",
    "pl.figure()\n",
    "_ = pl.hist(save_subvol_Nhalo[indsel], histtype='step', bins=[0,1,2,3,4,5,6,7,8])\n",
    "_ = pl.hist(df_Nh_test[indsel], bins=[0,1,2,3,4,5,6,7,8])\n",
    "pl.yscale('log')\n",
    "\n",
    "\n",
    "\n"
   ]
  },
  {
   "cell_type": "code",
   "execution_count": 17,
   "metadata": {},
   "outputs": [],
   "source": [
    "sdir='/pscratch/sd/s/spandey/quijote/Snapshot_fid/Snapshot_fid_density'\n",
    "# load the halo data\n",
    "fname = sdir + '/' + str(0) + '/halo_data_dict_' + str(ns_h) + '.pk'\n",
    "df_h = pk.load(open(fname, 'rb'))\n",
    "# This has information on the halo mass for all the halos in the voxel\n",
    "df_Mh_all_truth = df_h['M_halos']\n",
    "df_Mh_all_truth = np.flip(np.sort(df_Mh_all_truth, axis=-1), axis=-1)\n",
    "# This has information on the number of halos in the voxel\n",
    "df_Nh_truth = df_h['N_halos']\n",
    "\n",
    "df_Mh_all_truth_comb, df_Nh_truth_comb = df_h['M_halos_combined'], df_h['N_halos_combined']\n",
    "\n"
   ]
  },
  {
   "cell_type": "code",
   "execution_count": 18,
   "metadata": {},
   "outputs": [
    {
     "data": {
      "text/plain": [
       "Text(0.5, 1.0, '3.0$< \\\\delta_m < $10.0')"
      ]
     },
     "execution_count": 18,
     "metadata": {},
     "output_type": "execute_result"
    },
    {
     "data": {
      "image/png": "[encoded data removed]",
      "text/plain": [
       "<Figure size 800x600 with 1 Axes>"
      ]
     },
     "metadata": {},
     "output_type": "display_data"
    }
   ],
   "source": [
    "delta_all_z0 = np.exp(df_d_all_nsh_test[:,0,...])-1\n",
    "# delta_min_p, delta_max_p = -1.0, -0.5\n",
    "# delta_min_p, delta_max_p = -0.5, -0.0\n",
    "delta_min_p, delta_max_p = 3.0, 10.0\n",
    "indsel_dp = np.where((delta_all_z0 > delta_min_p) & (delta_all_z0 < delta_max_p))\n",
    "pl.figure(figsize=(8,6))\n",
    "bin_cents = np.array([0,1,2,3,4,5,6,7,8])\n",
    "bin_edges = 0.5*(bin_cents[1:] + bin_cents[:-1])\n",
    "bin_edges = np.insert(bin_edges,0, -0.5)\n",
    "bin_edges = np.insert(bin_edges,len(bin_edges), bin_cents[-1] + 0.5)\n",
    "hist_truth, _ = np.histogram(df_Nh_truth[indsel_dp], bins=bin_edges)\n",
    "# _ = pl.hist(df_Nh_truth[indsel_dp].flatten(), histtype='step', bins=[0,1,2,3,4,5,6,7,8], label='Truth')\n",
    "pl.plot(bin_cents, hist_truth, marker='s', color='k', ls='--', label='Truth')\n",
    "hist_samp, _ = np.histogram(save_subvol_Nhalo[indsel_dp].flatten(), bins=bin_edges)\n",
    "# _ = pl.hist(, bins=[0,1,2,3,4,5,6,7,8], label='Sampled')\n",
    "pl.plot(bin_cents, hist_samp, marker='o', color='b', ls='-', label='Sampled')\n",
    "pl.yscale('log')\n",
    "pl.legend(fontsize=15, frameon=False)\n",
    "pl.tick_params(axis='both', which='major', labelsize=15)\n",
    "pl.tick_params(axis='both', which='minor', labelsize=15)\n",
    "pl.xlabel(r'$N_{\\rm halo}$', size=18)\n",
    "pl.ylabel('Histogram', size=18)\n",
    "pl.title(str(delta_min_p) + r'$< \\delta_m < $' + str(delta_max_p), size=18)\n",
    "\n",
    "\n"
   ]
  },
  {
   "cell_type": "code",
   "execution_count": 22,
   "metadata": {},
   "outputs": [
    {
     "data": {
      "text/plain": [
       "Text(0.5, 1.0, '-1.0$< \\\\delta_m < $50.0')"
      ]
     },
     "execution_count": 22,
     "metadata": {},
     "output_type": "execute_result"
    },
    {
     "data": {
      "image/png": "[encoded data removed]",
      "text/plain": [
       "<Figure size 800x600 with 1 Axes>"
      ]
     },
     "metadata": {},
     "output_type": "display_data"
    }
   ],
   "source": [
    "delta_all_z0 = np.exp(df_d_all_nsh_test[:,0,...])-1\n",
    "# delta_min_p, delta_max_p = -1.0, -0.5\n",
    "# delta_min_p, delta_max_p = -0.5, -0.0\n",
    "# delta_min_p, delta_max_p = -1.0, 0.0\n",
    "# delta_min_p, delta_max_p = 0.0, 1.0\n",
    "delta_min_p, delta_max_p = -1.0, 50.0\n",
    "# delta_min_p, delta_max_p = 3.0, 10.0\n",
    "indsel_dp = np.where((delta_all_z0 > delta_min_p) & (delta_all_z0 < delta_max_p))\n",
    "pl.figure(figsize=(8,6))\n",
    "bin_cents = np.linspace(13.3, 16.0, 10)\n",
    "bin_edges = 0.5*(bin_cents[1:] + bin_cents[:-1])\n",
    "delta_b = 0.5*(bin_cents[1] - bin_cents[0])\n",
    "bin_edges = np.insert(bin_edges,0, bin_cents[0] - delta_b)\n",
    "bin_edges = np.insert(bin_edges,len(bin_edges), bin_cents[-1] - delta_b)\n",
    "\n",
    "idim = 1\n",
    "M_idim_truth = df_Mh_all_truth[..., idim]\n",
    "\n",
    "hist_truth, _ = np.histogram(M_idim_truth[indsel_dp].flatten(), bins=bin_edges)\n",
    "# _ = pl.hist(df_Nh_truth[indsel_dp].flatten(), histtype='step', bins=[0,1,2,3,4,5,6,7,8], label='Truth')\n",
    "pl.plot(bin_cents, hist_truth, marker='s', color='k', ls='--', label='Truth')\n",
    "\n",
    "M_idim_samp = save_subvol_Mtot[..., idim]\n",
    "hist_samp, _ = np.histogram(M_idim_samp[indsel_dp].flatten(), bins=bin_edges)\n",
    "# _ = pl.hist(, bins=[0,1,2,3,4,5,6,7,8], label='Sampled')\n",
    "pl.plot(bin_cents, hist_samp, marker='o', color='b', ls='-', label='Sampled')\n",
    "pl.yscale('log')\n",
    "pl.legend(fontsize=15, frameon=False)\n",
    "pl.tick_params(axis='both', which='major', labelsize=15)\n",
    "pl.tick_params(axis='both', which='minor', labelsize=15)\n",
    "pl.xlabel(r'$M$' + str(idim + 1), size=18)\n",
    "pl.ylabel('Histogram', size=18)\n",
    "pl.title(str(delta_min_p) + r'$< \\delta_m < $' + str(delta_max_p), size=18)\n",
    "\n",
    "\n"
   ]
  },
  {
   "cell_type": "code",
   "execution_count": 32,
   "metadata": {},
   "outputs": [
    {
     "ename": "NameError",
     "evalue": "name 'Ntot_samp' is not defined",
     "output_type": "error",
     "traceback": [
      "\u001b[0;31m---------------------------------------------------------------------------\u001b[0m",
      "\u001b[0;31mNameError\u001b[0m                                 Traceback (most recent call last)",
      "Cell \u001b[0;32mIn[32], line 4\u001b[0m\n\u001b[1;32m      2\u001b[0m jb \u001b[38;5;241m=\u001b[39m \u001b[38;5;241m0\u001b[39m\n\u001b[1;32m      3\u001b[0m indsel \u001b[38;5;241m=\u001b[39m np\u001b[38;5;241m.\u001b[39mwhere(cond_tensor_nsh[jb]\u001b[38;5;241m.\u001b[39mcpu()\u001b[38;5;241m.\u001b[39mdetach()\u001b[38;5;241m.\u001b[39mnumpy()[:,\u001b[38;5;241m0\u001b[39m] \u001b[38;5;241m>\u001b[39m \u001b[38;5;241m0.0\u001b[39m)\n\u001b[0;32m----> 4\u001b[0m _ \u001b[38;5;241m=\u001b[39m pl\u001b[38;5;241m.\u001b[39mhist(\u001b[43mNtot_samp\u001b[49m[jb][indsel], histtype\u001b[38;5;241m=\u001b[39m\u001b[38;5;124m'\u001b[39m\u001b[38;5;124mstep\u001b[39m\u001b[38;5;124m'\u001b[39m, bins\u001b[38;5;241m=\u001b[39m[\u001b[38;5;241m0\u001b[39m,\u001b[38;5;241m1\u001b[39m,\u001b[38;5;241m2\u001b[39m,\u001b[38;5;241m3\u001b[39m,\u001b[38;5;241m4\u001b[39m,\u001b[38;5;241m5\u001b[39m,\u001b[38;5;241m6\u001b[39m,\u001b[38;5;241m7\u001b[39m])\n\u001b[1;32m      5\u001b[0m _ \u001b[38;5;241m=\u001b[39m pl\u001b[38;5;241m.\u001b[39mhist(Nhalos_truth_tensor[jb]\u001b[38;5;241m.\u001b[39mcpu()\u001b[38;5;241m.\u001b[39mdetach()\u001b[38;5;241m.\u001b[39mnumpy()[indsel], bins\u001b[38;5;241m=\u001b[39m[\u001b[38;5;241m0\u001b[39m,\u001b[38;5;241m1\u001b[39m,\u001b[38;5;241m2\u001b[39m,\u001b[38;5;241m3\u001b[39m,\u001b[38;5;241m4\u001b[39m,\u001b[38;5;241m5\u001b[39m,\u001b[38;5;241m6\u001b[39m,\u001b[38;5;241m7\u001b[39m])\n\u001b[1;32m      6\u001b[0m \u001b[38;5;66;03m# xarr = np.arange(9)\u001b[39;00m\n\u001b[1;32m      7\u001b[0m \u001b[38;5;66;03m# yarr = 4e5*np.exp(-xarr)\u001b[39;00m\n\u001b[1;32m      8\u001b[0m \u001b[38;5;66;03m# al, bt = 0.0, 1.5\u001b[39;00m\n\u001b[0;32m   (...)\u001b[0m\n\u001b[1;32m     11\u001b[0m \u001b[38;5;66;03m# pl.plot(xarr, yarr)\u001b[39;00m\n\u001b[1;32m     12\u001b[0m \u001b[38;5;66;03m# _ = pl.hist(X_Nhalo[:,0].cpu().detach().numpy())\u001b[39;00m\n",
      "\u001b[0;31mNameError\u001b[0m: name 'Ntot_samp' is not defined"
     ]
    },
    {
     "data": {
      "text/plain": [
       "<Figure size 700x700 with 0 Axes>"
      ]
     },
     "metadata": {},
     "output_type": "display_data"
    }
   ],
   "source": [
    "pl.figure()\n",
    "jb = 0\n",
    "indsel = np.where(cond_tensor_nsh[jb].cpu().detach().numpy()[:,0] > 0.0)\n",
    "_ = pl.hist(Ntot_samp[jb][indsel], histtype='step', bins=[0,1,2,3,4,5,6,7])\n",
    "_ = pl.hist(Nhalos_truth_tensor[jb].cpu().detach().numpy()[indsel], bins=[0,1,2,3,4,5,6,7])\n",
    "# xarr = np.arange(9)\n",
    "# yarr = 4e5*np.exp(-xarr)\n",
    "# al, bt = 0.0, 1.5\n",
    "# yarr = 4e5*np.power(1+xarr, al) * np.exp(-bt * xarr)\n",
    "# yarr = 4e5/xarr**(5)\n",
    "# pl.plot(xarr, yarr)\n",
    "# _ = pl.hist(X_Nhalo[:,0].cpu().detach().numpy())\n",
    "pl.yscale('log')\n",
    "pl.xlabel('Nhalo')\n",
    "pl.ylabel('Histogram')\n",
    "\n",
    "\n",
    "\n",
    "\n"
   ]
  },
  {
   "cell_type": "code",
   "execution_count": null,
   "metadata": {},
   "outputs": [],
   "source": [
    "pl.figure()\n",
    "indp = (mask_tensor_M1_samp[jb].cpu().detach().numpy()[:,0] > 0)\n",
    "_ = pl.hist(M1_samp[jb].cpu().detach().numpy()[indp], range=(0,1), histtype='step')\n",
    "indp = (mask_tensor_M1_train[jb].cpu().detach().numpy() > 0)\n",
    "_ = pl.hist(X_M1[jb][:,0].cpu().detach().numpy()[indp], range=(0,1))\n",
    "pl.yscale('log')\n",
    "pl.xlabel('M1')\n",
    "pl.ylabel('Histogram')\n",
    "\n",
    "\n",
    "\n",
    "\n",
    "\n",
    "\n"
   ]
  },
  {
   "cell_type": "code",
   "execution_count": 33,
   "metadata": {},
   "outputs": [
    {
     "ename": "NameError",
     "evalue": "name 'mask_tensor_Mdiff_samp' is not defined",
     "output_type": "error",
     "traceback": [
      "\u001b[0;31m---------------------------------------------------------------------------\u001b[0m",
      "\u001b[0;31mNameError\u001b[0m                                 Traceback (most recent call last)",
      "Cell \u001b[0;32mIn[33], line 4\u001b[0m\n\u001b[1;32m      1\u001b[0m pl\u001b[38;5;241m.\u001b[39mfigure()\n\u001b[1;32m      2\u001b[0m ind_M \u001b[38;5;241m=\u001b[39m \u001b[38;5;241m0\u001b[39m\n\u001b[0;32m----> 4\u001b[0m indp \u001b[38;5;241m=\u001b[39m \u001b[43mmask_tensor_Mdiff_samp\u001b[49m[jb][:, ind_M] \u001b[38;5;241m>\u001b[39m \u001b[38;5;241m0\u001b[39m\n\u001b[1;32m      5\u001b[0m _ \u001b[38;5;241m=\u001b[39m pl\u001b[38;5;241m.\u001b[39mhist(M_diff_samp[jb][indp,ind_M]\u001b[38;5;241m.\u001b[39mcpu()\u001b[38;5;241m.\u001b[39mdetach()\u001b[38;5;241m.\u001b[39mnumpy(), \u001b[38;5;28mrange\u001b[39m\u001b[38;5;241m=\u001b[39m(\u001b[38;5;241m0\u001b[39m,\u001b[38;5;241m0.5\u001b[39m), histtype\u001b[38;5;241m=\u001b[39m\u001b[38;5;124m'\u001b[39m\u001b[38;5;124mstep\u001b[39m\u001b[38;5;124m'\u001b[39m)\n\u001b[1;32m      6\u001b[0m indp \u001b[38;5;241m=\u001b[39m mask_tensor_Mdiff_train[jb][:, ind_M] \u001b[38;5;241m>\u001b[39m \u001b[38;5;241m0\u001b[39m\n",
      "\u001b[0;31mNameError\u001b[0m: name 'mask_tensor_Mdiff_samp' is not defined"
     ]
    },
    {
     "data": {
      "text/plain": [
       "<Figure size 700x700 with 0 Axes>"
      ]
     },
     "metadata": {},
     "output_type": "display_data"
    }
   ],
   "source": [
    "pl.figure()\n",
    "ind_M = 0\n",
    "\n",
    "indp = mask_tensor_Mdiff_samp[jb][:, ind_M] > 0\n",
    "_ = pl.hist(M_diff_samp[jb][indp,ind_M].cpu().detach().numpy(), range=(0,0.5), histtype='step')\n",
    "indp = mask_tensor_Mdiff_train[jb][:, ind_M] > 0\n",
    "_ = pl.hist(X_Mdiff[jb][indp,ind_M].cpu().detach().numpy(), range=(0,0.5))\n",
    "\n",
    "\n",
    "pl.yscale('log')\n",
    "pl.xlabel(r'Mj-Mi')\n",
    "pl.ylabel('Histogram')\n",
    "\n",
    "\n",
    "\n",
    "\n"
   ]
  },
  {
   "cell_type": "code",
   "execution_count": 22,
   "metadata": {},
   "outputs": [
    {
     "name": "stdout",
     "output_type": "stream",
     "text": [
      "0 64\n"
     ]
    },
    {
     "ename": "RuntimeError",
     "evalue": "permute(sparse_coo): number of dimensions in the tensor input does not match the length of the desired ordering of dimensions i.e. input.dim() = 4 is not equal to len(dims) = 5",
     "output_type": "error",
     "traceback": [
      "\u001b[0;31m---------------------------------------------------------------------------\u001b[0m",
      "\u001b[0;31mRuntimeError\u001b[0m                              Traceback (most recent call last)",
      "Cell \u001b[0;32mIn[22], line 49\u001b[0m\n\u001b[1;32m     43\u001b[0m X_Mdiff_test \u001b[38;5;241m=\u001b[39m torch\u001b[38;5;241m.\u001b[39mTensor(\n\u001b[1;32m     44\u001b[0m     return_dict_test[\u001b[38;5;124m'\u001b[39m\u001b[38;5;124mM_diff_halos_all_norm_masked\u001b[39m\u001b[38;5;124m'\u001b[39m]\u001b[38;5;241m.\u001b[39mreshape(nsims_test \u001b[38;5;241m*\u001b[39m (nax_h\u001b[38;5;241m*\u001b[39m\u001b[38;5;241m*\u001b[39m\u001b[38;5;241m3\u001b[39m), ndim_diff)\n\u001b[1;32m     45\u001b[0m     )\u001b[38;5;241m.\u001b[39mcuda(dev)\n\u001b[1;32m     46\u001b[0m Nhalos_truth_tensor_test \u001b[38;5;241m=\u001b[39m torch\u001b[38;5;241m.\u001b[39mTensor(((return_dict_test[\u001b[38;5;124m'\u001b[39m\u001b[38;5;124mN_halos_all\u001b[39m\u001b[38;5;124m'\u001b[39m]\u001b[38;5;241m.\u001b[39mreshape(nsims_test \u001b[38;5;241m*\u001b[39m (nax_h\u001b[38;5;241m*\u001b[39m\u001b[38;5;241m*\u001b[39m\u001b[38;5;241m3\u001b[39m),\n\u001b[1;32m     47\u001b[0m                                                                                   \u001b[38;5;241m1\u001b[39m))))\u001b[38;5;241m.\u001b[39mcuda(dev)\n\u001b[0;32m---> 49\u001b[0m Ntot_samp_test, M1_samp_test, M_diff_samp_test, mask_tensor_M1_samp_test, mask_tensor_Mdiff_samp_test \u001b[38;5;241m=\u001b[39m \u001b[43mmodel\u001b[49m\u001b[38;5;241;43m.\u001b[39;49m\u001b[43minverse\u001b[49m\u001b[43m(\u001b[49m\n\u001b[1;32m     50\u001b[0m \u001b[43m    \u001b[49m\u001b[43mcond_x\u001b[49m\u001b[38;5;241;43m=\u001b[39;49m\u001b[43mcond_tensor_test\u001b[49m\u001b[43m,\u001b[49m\n\u001b[1;32m     51\u001b[0m \u001b[43m    \u001b[49m\u001b[43mcond_x_nsh\u001b[49m\u001b[38;5;241;43m=\u001b[39;49m\u001b[43mcond_tensor_nsh_test\u001b[49m\u001b[43m,\u001b[49m\n\u001b[1;32m     52\u001b[0m \u001b[43m    \u001b[49m\u001b[43muse_truth_Nhalo\u001b[49m\u001b[38;5;241;43m=\u001b[39;49m\u001b[38;5;28;43;01mFalse\u001b[39;49;00m\u001b[43m,\u001b[49m\n\u001b[1;32m     53\u001b[0m \u001b[43m    \u001b[49m\u001b[43muse_truth_M1\u001b[49m\u001b[38;5;241;43m=\u001b[39;49m\u001b[38;5;28;43;01mFalse\u001b[39;49;00m\u001b[43m,\u001b[49m\n\u001b[1;32m     54\u001b[0m \u001b[43m    \u001b[49m\u001b[43muse_truth_Mdiff\u001b[49m\u001b[38;5;241;43m=\u001b[39;49m\u001b[38;5;28;43;01mFalse\u001b[39;49;00m\u001b[43m,\u001b[49m\n\u001b[1;32m     55\u001b[0m \u001b[43m    \u001b[49m\u001b[43mmask_Mdiff_truth\u001b[49m\u001b[38;5;241;43m=\u001b[39;49m\u001b[43mmask_tensor_Mdiff_test\u001b[49m\u001b[43m,\u001b[49m\n\u001b[1;32m     56\u001b[0m \u001b[43m    \u001b[49m\u001b[43mmask_M1_truth\u001b[49m\u001b[38;5;241;43m=\u001b[39;49m\u001b[43mmask_tensor_M1_test\u001b[49m\u001b[43m,\u001b[49m\n\u001b[1;32m     57\u001b[0m \u001b[43m    \u001b[49m\u001b[43mNhalos_truth\u001b[49m\u001b[38;5;241;43m=\u001b[39;49m\u001b[43mX_Nhalo_test\u001b[49m\u001b[43m,\u001b[49m\n\u001b[1;32m     58\u001b[0m \u001b[43m    \u001b[49m\u001b[43mM1_truth\u001b[49m\u001b[38;5;241;43m=\u001b[39;49m\u001b[43mX_M1_test\u001b[49m\u001b[43m,\u001b[49m\n\u001b[1;32m     59\u001b[0m \u001b[43m    \u001b[49m\u001b[43mtrain_Ntot\u001b[49m\u001b[38;5;241;43m=\u001b[39;49m\u001b[43mtrain_Ntot\u001b[49m\u001b[43m,\u001b[49m\n\u001b[1;32m     60\u001b[0m \u001b[43m    \u001b[49m\u001b[43mtrain_M1\u001b[49m\u001b[38;5;241;43m=\u001b[39;49m\u001b[43mtrain_M1\u001b[49m\u001b[43m,\u001b[49m\n\u001b[1;32m     61\u001b[0m \u001b[43m    \u001b[49m\u001b[43mtrain_Mdiff\u001b[49m\u001b[38;5;241;43m=\u001b[39;49m\u001b[43mtrain_Mdiff\u001b[49m\u001b[43m         \u001b[49m\n\u001b[1;32m     62\u001b[0m \u001b[43m    \u001b[49m\u001b[43m)\u001b[49m\n\u001b[1;32m     63\u001b[0m Ntot_samp_test \u001b[38;5;241m=\u001b[39m Ntot_samp_test[:,np\u001b[38;5;241m.\u001b[39mnewaxis]\n\u001b[1;32m     64\u001b[0m \u001b[38;5;66;03m# print(Ntot_samp_test.shape)\u001b[39;00m\n",
      "File \u001b[0;32m/global/cfs/cdirs/lsst/www/shivamp/AR_NPE/nf/combined_models.py:202\u001b[0m, in \u001b[0;36mCOMBINED_Model.inverse\u001b[0;34m(self, cond_x, cond_x_nsh, use_truth_Nhalo, use_truth_M1, use_truth_Mdiff, mask_Mdiff_truth, mask_M1_truth, Nhalos_truth, M1_truth, train_Ntot, train_M1, train_Mdiff)\u001b[0m\n\u001b[1;32m    200\u001b[0m mask_tensor_M1_samp_out, mask_tensor_Mdiff_samp_out \u001b[38;5;241m=\u001b[39m [], []\n\u001b[1;32m    201\u001b[0m \u001b[38;5;28;01mfor\u001b[39;00m jb \u001b[38;5;129;01min\u001b[39;00m \u001b[38;5;28mrange\u001b[39m(nbatches):\n\u001b[0;32m--> 202\u001b[0m     cond_out \u001b[38;5;241m=\u001b[39m \u001b[38;5;28;43mself\u001b[39;49m\u001b[38;5;241;43m.\u001b[39;49m\u001b[43mconv_layers\u001b[49m\u001b[43m(\u001b[49m\u001b[43mcond_x\u001b[49m\u001b[43m[\u001b[49m\u001b[43mjb\u001b[49m\u001b[43m]\u001b[49m\u001b[43m)\u001b[49m\n\u001b[1;32m    203\u001b[0m     cond_out \u001b[38;5;241m=\u001b[39m torch\u001b[38;5;241m.\u001b[39mcat((cond_out, cond_x_nsh[jb]), dim\u001b[38;5;241m=\u001b[39m\u001b[38;5;241m1\u001b[39m)\n\u001b[1;32m    204\u001b[0m     \u001b[38;5;28;01mif\u001b[39;00m \u001b[38;5;28mself\u001b[39m\u001b[38;5;241m.\u001b[39msep_Ntot_cond:\n",
      "File \u001b[0;32m/global/cfs/cdirs/lsst/www/shivamp/env/CS2_pm/lib/python3.9/site-packages/torch/nn/modules/module.py:1190\u001b[0m, in \u001b[0;36mModule._call_impl\u001b[0;34m(self, *input, **kwargs)\u001b[0m\n\u001b[1;32m   1186\u001b[0m \u001b[38;5;66;03m# If we don't have any hooks, we want to skip the rest of the logic in\u001b[39;00m\n\u001b[1;32m   1187\u001b[0m \u001b[38;5;66;03m# this function, and just call forward.\u001b[39;00m\n\u001b[1;32m   1188\u001b[0m \u001b[38;5;28;01mif\u001b[39;00m \u001b[38;5;129;01mnot\u001b[39;00m (\u001b[38;5;28mself\u001b[39m\u001b[38;5;241m.\u001b[39m_backward_hooks \u001b[38;5;129;01mor\u001b[39;00m \u001b[38;5;28mself\u001b[39m\u001b[38;5;241m.\u001b[39m_forward_hooks \u001b[38;5;129;01mor\u001b[39;00m \u001b[38;5;28mself\u001b[39m\u001b[38;5;241m.\u001b[39m_forward_pre_hooks \u001b[38;5;129;01mor\u001b[39;00m _global_backward_hooks\n\u001b[1;32m   1189\u001b[0m         \u001b[38;5;129;01mor\u001b[39;00m _global_forward_hooks \u001b[38;5;129;01mor\u001b[39;00m _global_forward_pre_hooks):\n\u001b[0;32m-> 1190\u001b[0m     \u001b[38;5;28;01mreturn\u001b[39;00m \u001b[43mforward_call\u001b[49m\u001b[43m(\u001b[49m\u001b[38;5;241;43m*\u001b[39;49m\u001b[38;5;28;43minput\u001b[39;49m\u001b[43m,\u001b[49m\u001b[43m \u001b[49m\u001b[38;5;241;43m*\u001b[39;49m\u001b[38;5;241;43m*\u001b[39;49m\u001b[43mkwargs\u001b[49m\u001b[43m)\u001b[49m\n\u001b[1;32m   1191\u001b[0m \u001b[38;5;66;03m# Do not call functions when jit is used\u001b[39;00m\n\u001b[1;32m   1192\u001b[0m full_backward_hooks, non_full_backward_hooks \u001b[38;5;241m=\u001b[39m [], []\n",
      "File \u001b[0;32m/global/cfs/cdirs/lsst/www/shivamp/AR_NPE/nf/cnn_3d_stack.py:130\u001b[0m, in \u001b[0;36mCNN3D_stackout.forward\u001b[0;34m(self, cond_mat, pool_type, act)\u001b[0m\n\u001b[1;32m    128\u001b[0m             \u001b[38;5;28;01mraise\u001b[39;00m \u001b[38;5;167;01mValueError\u001b[39;00m(\u001b[38;5;124m'\u001b[39m\u001b[38;5;124mInvalid activation type\u001b[39m\u001b[38;5;124m'\u001b[39m)\n\u001b[1;32m    129\u001b[0m \u001b[38;5;66;03m# first shift the nout dimension to last axis:\u001b[39;00m\n\u001b[0;32m--> 130\u001b[0m cond_cnn \u001b[38;5;241m=\u001b[39m \u001b[43mcond_cnn\u001b[49m\u001b[38;5;241;43m.\u001b[39;49m\u001b[43mpermute\u001b[49m\u001b[43m(\u001b[49m\u001b[38;5;241;43m0\u001b[39;49m\u001b[43m,\u001b[49m\u001b[43m \u001b[49m\u001b[38;5;241;43m2\u001b[39;49m\u001b[43m,\u001b[49m\u001b[43m \u001b[49m\u001b[38;5;241;43m3\u001b[39;49m\u001b[43m,\u001b[49m\u001b[43m \u001b[49m\u001b[38;5;241;43m4\u001b[39;49m\u001b[43m,\u001b[49m\u001b[43m \u001b[49m\u001b[38;5;241;43m1\u001b[39;49m\u001b[43m)\u001b[49m\n\u001b[1;32m    131\u001b[0m cond_out_all \u001b[38;5;241m=\u001b[39m (cond_cnn)\u001b[38;5;241m.\u001b[39mreshape(nsim \u001b[38;5;241m*\u001b[39m (dim_out\u001b[38;5;241m*\u001b[39m\u001b[38;5;241m*\u001b[39m\u001b[38;5;241m3\u001b[39m), \u001b[38;5;28mself\u001b[39m\u001b[38;5;241m.\u001b[39mnout)\n\u001b[1;32m    132\u001b[0m \u001b[38;5;28;01mreturn\u001b[39;00m cond_out_all\n",
      "\u001b[0;31mRuntimeError\u001b[0m: permute(sparse_coo): number of dimensions in the tensor input does not match the length of the desired ordering of dimensions i.e. input.dim() = 4 is not equal to len(dims) = 5"
     ]
    }
   ],
   "source": [
    "# now we load the test data\n",
    "nstart = 0\n",
    "nsims_test = 64\n",
    "df_d_all_test, df_d_all_nsh_test, df_Mh_all_test, df_Nh_test = load_density_halo_data(\n",
    "    1, ns_d, nb, nf, nc, z_all, ns_h\n",
    "    )\n",
    "\n",
    "# things are too big to load all at once, so we load in batches\n",
    "nq = nb**3 // nsims_test\n",
    "save_subvol_Nhalo = np.zeros((nb**3, nax_h, nax_h, nax_h))\n",
    "save_subvol_Nhalo_truth = np.zeros((nb**3, nax_h, nax_h, nax_h))\n",
    "cond_z0_truth = np.zeros((nb**3, nax_h, nax_h, nax_h))\n",
    "save_subvol_M1 = np.zeros((nb**3, nax_h, nax_h, nax_h, 1))\n",
    "save_subvol_Mdiff = np.zeros((nb**3, nax_h, nax_h, nax_h, ndim_diff))\n",
    "mask_subvol_Mtot = np.zeros((nb**3, nax_h, nax_h, nax_h, ndim_diff + 1))\n",
    "nscount = 0\n",
    "for jq in range(nq):\n",
    "    # Load the density data\n",
    "\n",
    "    # Prepare the density and halo data\n",
    "    return_dict_test = prep_density_halo_cats(\n",
    "        df_d_all_test,\n",
    "        df_d_all_nsh_test,\n",
    "        df_Mh_all_test,\n",
    "        df_Nh_test,\n",
    "        nsims=nsims_test,\n",
    "        nstart=nscount,\n",
    "        )\n",
    "\n",
    "    cond_tensor_test = torch.Tensor(np.copy(return_dict_test['df_d_all'])).cuda(dev)\n",
    "    cond_nsh_test = np.moveaxis(return_dict_test['df_d_all_nsh'], 1, 4)\n",
    "    cond_tensor_nsh_test = torch.Tensor(np.copy(cond_nsh_test.reshape(nsims_test * (nax_h ** 3), ninp))).cuda(dev)    \n",
    "    # cond_tensor_nsh_test = torch.Tensor(\n",
    "    #     np.copy(return_dict_test['df_d_all_nsh'].reshape(nsims_test * (nax_h**3), ninp))\n",
    "    #     ).cuda(dev)\n",
    "    mask_tensor_M1_test = torch.Tensor(np.copy(return_dict_test['mask_M1'].reshape(nsims_test * (nax_h**3)))).cuda(dev)\n",
    "    mask_tensor_Mdiff_test = torch.Tensor(\n",
    "        (return_dict_test['mask_M_diff'].reshape(nsims_test * (nax_h**3), ndim_diff))\n",
    "        ).cuda(dev)\n",
    "\n",
    "    X_M1_test = torch.Tensor((return_dict_test['M1_halos_all_norm'].reshape(nsims_test * (nax_h**3), 1))).cuda(dev)\n",
    "    X_Nhalo_test = torch.Tensor(return_dict_test['Nhalo_train_mg_arr'].reshape(nsims_test * (nax_h**3), 1)).cuda(dev)\n",
    "    X_Mdiff_test = torch.Tensor(\n",
    "        return_dict_test['M_diff_halos_all_norm_masked'].reshape(nsims_test * (nax_h**3), ndim_diff)\n",
    "        ).cuda(dev)\n",
    "    Nhalos_truth_tensor_test = torch.Tensor(((return_dict_test['N_halos_all'].reshape(nsims_test * (nax_h**3),\n",
    "                                                                                      1)))).cuda(dev)\n",
    "\n",
    "    Ntot_samp_test, M1_samp_test, M_diff_samp_test, mask_tensor_M1_samp_test, mask_tensor_Mdiff_samp_test = model.inverse(\n",
    "        cond_x=cond_tensor_test,\n",
    "        cond_x_nsh=cond_tensor_nsh_test,\n",
    "        use_truth_Nhalo=False,\n",
    "        use_truth_M1=False,\n",
    "        use_truth_Mdiff=False,\n",
    "        mask_Mdiff_truth=mask_tensor_Mdiff_test,\n",
    "        mask_M1_truth=mask_tensor_M1_test,\n",
    "        Nhalos_truth=X_Nhalo_test,\n",
    "        M1_truth=X_M1_test,\n",
    "        train_Ntot=train_Ntot,\n",
    "        train_M1=train_M1,\n",
    "        train_Mdiff=train_Mdiff         \n",
    "        )\n",
    "    Ntot_samp_test = Ntot_samp_test[:,np.newaxis]\n",
    "    # print(Ntot_samp_test.shape)\n",
    "    save_subvol_Nhalo[nscount:nscount + nsims_test, ...] = Ntot_samp_test.reshape(nsims_test, nax_h, nax_h, nax_h)\n",
    "    save_subvol_Nhalo_truth[nscount:nscount + nsims_test, ...] = Nhalos_truth_tensor_test.cpu().detach().numpy().reshape(nsims_test, nax_h, nax_h, nax_h)\n",
    "    save_subvol_M1[nscount:nscount + nsims_test,\n",
    "                   ...] = (M1_samp_test * mask_tensor_M1_samp_test[:, 0]\n",
    "                          ).cpu().detach().numpy().reshape(nsims_test, nax_h, nax_h, nax_h, 1)\n",
    "    save_subvol_Mdiff[nscount:nscount + nsims_test,\n",
    "                      ...] = (M_diff_samp_test * mask_tensor_Mdiff_samp_test\n",
    "                             ).cpu().detach().numpy().reshape(nsims_test, nax_h, nax_h, nax_h, ndim_diff)\n",
    "\n",
    "    mask_subvol_Mtot[nscount:nscount + nsims_test, ...,\n",
    "                     0] = mask_tensor_M1_samp_test[:,\n",
    "                                                   0].cpu().detach().numpy().reshape(nsims_test, nax_h, nax_h, nax_h)\n",
    "    mask_subvol_Mtot[\n",
    "        nscount:nscount + nsims_test, ...,\n",
    "        1:] = mask_tensor_Mdiff_samp_test.cpu().detach().numpy().reshape(nsims_test, nax_h, nax_h, nax_h, ndim_diff)\n",
    "    \n",
    "    cond_z0_truth[nscount:nscount + nsims_test, ...] = cond_tensor_nsh_test.cpu().detach().numpy().reshape(nsims_test, nax_h, nax_h, nax_h, ninp)[...,0]\n",
    "    nscount += nsims_test\n",
    "    \n",
    "    \n",
    "    "
   ]
  },
  {
   "cell_type": "code",
   "execution_count": null,
   "metadata": {},
   "outputs": [],
   "source": [
    "\n",
    "\n",
    "\n"
   ]
  }
 ],
 "metadata": {
  "kernelspec": {
   "display_name": "myenv_pm",
   "language": "python",
   "name": "myenv_pm"
  },
  "language_info": {
   "codemirror_mode": {
    "name": "ipython",
    "version": 3
   },
   "file_extension": ".py",
   "mimetype": "text/x-python",
   "name": "python",
   "nbconvert_exporter": "python",
   "pygments_lexer": "ipython3",
   "version": "3.8.16"
  }
 },
 "nbformat": 4,
 "nbformat_minor": 4
}
