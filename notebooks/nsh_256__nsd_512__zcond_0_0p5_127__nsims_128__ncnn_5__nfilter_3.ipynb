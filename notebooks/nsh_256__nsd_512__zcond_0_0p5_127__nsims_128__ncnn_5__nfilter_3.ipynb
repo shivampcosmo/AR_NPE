{
 "cells": [
  {
   "cell_type": "code",
   "execution_count": 1,
   "metadata": {},
   "outputs": [
    {
     "name": "stdin",
     "output_type": "stream",
     "text": [
      "Once deleted, variables cannot be recovered. Proceed (y/[n])?  y\n"
     ]
    }
   ],
   "source": [
    "%reset\n",
    "import sys, os\n",
    "os.environ[\"CUDA_VISIBLE_DEVICES\"] = \"1\"\n",
    "\n",
    "import pickle as pk\n",
    "import numpy as np\n",
    "import matplotlib.pyplot as pl\n",
    "import matplotlib\n",
    "import torch\n",
    "\n",
    "dev = torch.device(\"cuda\")\n",
    "# torch.cuda.set_device(dev)\n",
    "import torch.optim as optim\n",
    "from torch.distributions import MultivariateNormal\n",
    "from torch.distributions import Normal\n",
    "# change the root directory for this notebook\n",
    "root_dir = '/global/cfs/cdirs/lsst/www/shivamp/AR_NPE/'\n",
    "os.chdir(root_dir)\n",
    "\n",
    "import sys, os\n",
    "from nf.combined_models import COMBINED_Model\n",
    "from nf.all_models import *\n",
    "from nf.utils_data_prep import *\n",
    "from tqdm import tqdm\n",
    "%load_ext autoreload\n",
    "%autoreload 2\n",
    "\n",
    "\n"
   ]
  },
  {
   "cell_type": "code",
   "execution_count": 2,
   "metadata": {},
   "outputs": [],
   "source": [
    "ji = 0\n",
    "ns_d = 512\n",
    "nb = 8\n",
    "nax_d = ns_d // nb\n",
    "nf = 3\n",
    "layers_types = ['cnn', 'res', 'res']\n",
    "nc = 0\n",
    "for jl in range(len(layers_types)):\n",
    "    if layers_types[jl] == 'cnn':\n",
    "        nc += 1\n",
    "    elif layers_types[jl] == 'res':\n",
    "        nc += 2\n",
    "    else:\n",
    "        raise ValueError(\"layer type not supported\")\n",
    "\n",
    "# z=127 is the initial condition\n",
    "# z_all = [0, 0.5, 127]\n",
    "z_all = [0, 127]\n",
    "ns_h = 256\n",
    "nax_h = ns_h // nb\n",
    "\n",
    "nsims = 50\n"
   ]
  },
  {
   "cell_type": "code",
   "execution_count": 3,
   "metadata": {},
   "outputs": [],
   "source": [
    "hidden_dim_MAF = 5\n",
    "learning_rate = 0.01\n",
    "K_M1 = 5\n",
    "B_M1 = 3\n",
    "nflows_M1_NSF = 5\n",
    "K_Mdiff = 5\n",
    "B_Mdiff = 3\n",
    "nflows_Mdiff_NSF = 6\n",
    "base_dist_M1 = 'gumbel'\n",
    "base_dist_Mdiff = 'gumbel'\n",
    "ngauss_M1 = 5\n",
    "changelr = False\n",
    "ksize = nf\n",
    "nfeature_cnn = 4\n",
    "nout_cnn = 4 * nfeature_cnn\n",
    "ninp = len(z_all)\n",
    "num_cond = nout_cnn + ninp\n",
    "\n"
   ]
  },
  {
   "cell_type": "code",
   "execution_count": 4,
   "metadata": {},
   "outputs": [],
   "source": [
    "# Load the density data\n",
    "df_d_all_train, df_d_all_nsh_train, df_Mh_all_train, df_Nh_train = load_density_halo_data(\n",
    "    ji, ns_d, nb, nf, nc, z_all, ns_h\n",
    "    )\n",
    "\n",
    "# Prepare the density and halo data\n",
    "return_dict_train = prep_density_halo_cats(\n",
    "    df_d_all_train, df_d_all_nsh_train, df_Mh_all_train, df_Nh_train, nsims=nsims\n",
    "    )\n",
    "\n",
    "\n"
   ]
  },
  {
   "cell_type": "code",
   "execution_count": 5,
   "metadata": {},
   "outputs": [],
   "source": [
    "model_Ntot = SumGaussModel(\n",
    "    hidden_dim=hidden_dim_MAF,\n",
    "    num_cond=num_cond,\n",
    "    ngauss=return_dict_train['ngauss_Nhalo'],\n",
    "    mu_all=return_dict_train['mu_all'],\n",
    "    sig_all=return_dict_train['sig_all'],\n",
    "    base_dist=None\n",
    "    )\n",
    "# model_Ntot.to(dev)\n",
    "\n",
    "model_M1 = NSF_M1_CNNcond(\n",
    "    K=K_M1,\n",
    "    B=B_M1,\n",
    "    hidden_dim=hidden_dim_MAF,\n",
    "    num_cond=num_cond + 1,\n",
    "    nflows=nflows_M1_NSF,\n",
    "    base_dist=base_dist_M1,\n",
    "    mu_pos=False\n",
    "    )\n",
    "\n",
    "# model_M1.to(dev)\n",
    "\n",
    "ndim_diff = return_dict_train['M_diff_halos_all_norm_masked'].shape[2]\n",
    "model_Mdiff = NSF_Mdiff_CNNcond(\n",
    "    dim=ndim_diff,\n",
    "    K=K_Mdiff,\n",
    "    B=B_Mdiff,\n",
    "    hidden_dim=hidden_dim_MAF,\n",
    "    num_cond=num_cond + 2,\n",
    "    nflows=nflows_Mdiff_NSF,\n",
    "    base_dist=base_dist_Mdiff,\n",
    "    mu_pos=True\n",
    "    )\n",
    "# model_Mdiff.to(dev)\n",
    "\n",
    "# print()\n",
    "\n"
   ]
  },
  {
   "cell_type": "code",
   "execution_count": 6,
   "metadata": {},
   "outputs": [
    {
     "name": "stdout",
     "output_type": "stream",
     "text": [
      "\n"
     ]
    }
   ],
   "source": [
    "ndim = ndim_diff + 1\n",
    "model = COMBINED_Model(\n",
    "    None,\n",
    "    model_Mdiff,\n",
    "    # None,\n",
    "    model_M1,\n",
    "    model_Ntot,\n",
    "    ndim,\n",
    "    ksize,\n",
    "    ns_d,\n",
    "    ns_h,\n",
    "    nb,\n",
    "    ninp,\n",
    "    nfeature_cnn,\n",
    "    nout_cnn,\n",
    "    layers_types=layers_types,\n",
    "    act='tanh',\n",
    "    padding='valid',\n",
    "    sep_Ntot_cond=True,\n",
    "    sep_M1_cond=True,\n",
    "    sep_Mdiff_cond=True,\n",
    "    train_Ntot=True,\n",
    "    train_M1=True,\n",
    "    train_Mdiff=True\n",
    "    )\n",
    "\n",
    "model.to(dev)\n",
    "\n",
    "print()\n",
    "\n",
    "\n"
   ]
  },
  {
   "cell_type": "code",
   "execution_count": 7,
   "metadata": {},
   "outputs": [
    {
     "name": "stdout",
     "output_type": "stream",
     "text": [
      "(50, 32, 32, 32, 2)\n"
     ]
    }
   ],
   "source": [
    "optimizer = optim.Adam(model.parameters(), lr=learning_rate)\n",
    "loss_all_it = []\n",
    "loss_min = 1e20\n",
    "\n",
    "\n",
    "cond_tensor = torch.Tensor(np.copy(return_dict_train['df_d_all'])).cuda(dev)\n",
    "# cond_tensor_nsh = torch.Tensor(np.copy(return_dict_train['df_d_all_nsh'].reshape(nsims * (nax_h ** 3), ninp))).cuda(dev)\n",
    "cond_nsh = np.moveaxis(return_dict_train['df_d_all_nsh'], 1, 4)\n",
    "print(cond_nsh.shape)\n",
    "cond_tensor_nsh = torch.Tensor(np.copy(cond_nsh.reshape(nsims * (nax_h ** 3), ninp))).cuda(dev)\n",
    "mask_tensor_M1_train = torch.Tensor(np.copy(return_dict_train['mask_M1'].reshape(nsims * (nax_h**3)))).cuda(dev)\n",
    "mask_tensor_Mdiff_train = torch.Tensor((return_dict_train['mask_M_diff'].reshape(nsims * (nax_h**3),\n",
    "                                                                                 ndim_diff))).cuda(dev)\n",
    "\n",
    "X_M1 = torch.Tensor((return_dict_train['M1_halos_all_norm'].reshape(nsims * (nax_h**3), 1))).cuda(dev)\n",
    "X_Nhalo = torch.Tensor(return_dict_train['Nhalo_train_mg_arr'].reshape(nsims * (nax_h**3), 1)).cuda(dev)\n",
    "X_Mdiff = torch.Tensor(return_dict_train['M_diff_halos_all_norm_masked'].reshape(nsims * (nax_h**3),\n",
    "                                                                                 ndim_diff)).cuda(dev)\n",
    "Nhalos_truth_tensor = torch.Tensor(((return_dict_train['N_halos_all'].reshape(nsims * (nax_h**3), 1)))).cuda(dev)\n",
    "\n",
    "\n",
    "\n"
   ]
  },
  {
   "cell_type": "code",
   "execution_count": 8,
   "metadata": {},
   "outputs": [
    {
     "name": "stdout",
     "output_type": "stream",
     "text": [
      "5\n"
     ]
    }
   ],
   "source": [
    "print(nc)\n"
   ]
  },
  {
   "cell_type": "code",
   "execution_count": 9,
   "metadata": {},
   "outputs": [],
   "source": [
    "save_bestfit_model_name = 'FINAL_COMBINED/model_save_ji' + str(ji) + '_nsd' + str(ns_d) + '_nb' + str(nb) + '_nf' + \\\n",
    "                str(nf) + '_nsh' + str(ns_h) + '_nsim' + str(nsims) + '_ncnn' + str(nc)\n",
    "\n",
    "bestfit_model = (torch.load(save_bestfit_model_name))\n",
    "model.load_state_dict(bestfit_model['state_dict'])\n",
    "optimizer.load_state_dict(bestfit_model['optimizer'])\n",
    "\n"
   ]
  },
  {
   "cell_type": "code",
   "execution_count": 10,
   "metadata": {},
   "outputs": [
    {
     "name": "stderr",
     "output_type": "stream",
     "text": [
      "  0%|          | 1/300 [00:02<14:00,  2.81s/it]"
     ]
    },
    {
     "name": "stdout",
     "output_type": "stream",
     "text": [
      "saving bf at: , with loss: -1.4961\n"
     ]
    },
    {
     "name": "stderr",
     "output_type": "stream",
     "text": [
      "  4%|▎         | 11/300 [00:12<04:31,  1.06it/s]"
     ]
    },
    {
     "name": "stdout",
     "output_type": "stream",
     "text": [
      "saving bf at: , with loss: -1.4968\n"
     ]
    },
    {
     "name": "stderr",
     "output_type": "stream",
     "text": [
      "  7%|▋         | 21/300 [00:21<04:17,  1.08it/s]"
     ]
    },
    {
     "name": "stdout",
     "output_type": "stream",
     "text": [
      "saving bf at: , with loss: -1.4971\n"
     ]
    },
    {
     "name": "stderr",
     "output_type": "stream",
     "text": [
      " 10%|█         | 31/300 [00:30<04:08,  1.08it/s]"
     ]
    },
    {
     "name": "stdout",
     "output_type": "stream",
     "text": [
      "saving bf at: , with loss: -1.4973\n"
     ]
    },
    {
     "name": "stderr",
     "output_type": "stream",
     "text": [
      " 14%|█▎        | 41/300 [00:39<03:59,  1.08it/s]"
     ]
    },
    {
     "name": "stdout",
     "output_type": "stream",
     "text": [
      "saving bf at: , with loss: -1.4975\n"
     ]
    },
    {
     "name": "stderr",
     "output_type": "stream",
     "text": [
      " 17%|█▋        | 51/300 [00:48<03:50,  1.08it/s]"
     ]
    },
    {
     "name": "stdout",
     "output_type": "stream",
     "text": [
      "saving bf at: , with loss: -1.4978\n"
     ]
    },
    {
     "name": "stderr",
     "output_type": "stream",
     "text": [
      " 20%|██        | 61/300 [00:57<03:40,  1.08it/s]"
     ]
    },
    {
     "name": "stdout",
     "output_type": "stream",
     "text": [
      "saving bf at: , with loss: -1.4979\n"
     ]
    },
    {
     "name": "stderr",
     "output_type": "stream",
     "text": [
      " 24%|██▎       | 71/300 [01:07<03:31,  1.08it/s]"
     ]
    },
    {
     "name": "stdout",
     "output_type": "stream",
     "text": [
      "saving bf at: , with loss: -1.498\n"
     ]
    },
    {
     "name": "stderr",
     "output_type": "stream",
     "text": [
      " 37%|███▋      | 111/300 [01:43<02:54,  1.08it/s]"
     ]
    },
    {
     "name": "stdout",
     "output_type": "stream",
     "text": [
      "saving bf at: , with loss: -1.498\n"
     ]
    },
    {
     "name": "stderr",
     "output_type": "stream",
     "text": [
      " 40%|████      | 121/300 [01:52<02:45,  1.08it/s]"
     ]
    },
    {
     "name": "stdout",
     "output_type": "stream",
     "text": [
      "saving bf at: , with loss: -1.4984\n"
     ]
    },
    {
     "name": "stderr",
     "output_type": "stream",
     "text": [
      " 57%|█████▋    | 171/300 [02:38<01:58,  1.08it/s]"
     ]
    },
    {
     "name": "stdout",
     "output_type": "stream",
     "text": [
      "saving bf at: , with loss: -1.4989\n"
     ]
    },
    {
     "name": "stderr",
     "output_type": "stream",
     "text": [
      " 90%|█████████ | 271/300 [04:10<00:26,  1.08it/s]"
     ]
    },
    {
     "name": "stdout",
     "output_type": "stream",
     "text": [
      "saving bf at: , with loss: -1.4992\n"
     ]
    },
    {
     "name": "stderr",
     "output_type": "stream",
     "text": [
      "100%|██████████| 300/300 [04:36<00:00,  1.08it/s]"
     ]
    },
    {
     "name": "stdout",
     "output_type": "stream",
     "text": [
      "saving bf at: , with loss: -1.5003\n"
     ]
    },
    {
     "name": "stderr",
     "output_type": "stream",
     "text": [
      "\n"
     ]
    }
   ],
   "source": [
    "ninit = 0\n",
    "niterations = 300\n",
    "# torch.autograd.set_detect_anomaly(False)\n",
    "for ito in tqdm(range(niterations)):\n",
    "    optimizer.zero_grad()\n",
    "    for g in optimizer.param_groups:\n",
    "        g['lr'] = 0.01\n",
    "\n",
    "    it = ito + ninit\n",
    "\n",
    "    loss = model(\n",
    "        X_Mdiff,\n",
    "        X_M1,\n",
    "        X_Nhalo,\n",
    "        cond_x=cond_tensor,\n",
    "        cond_x_nsh=cond_tensor_nsh,\n",
    "        mask_Mdiff_truth=mask_tensor_Mdiff_train,\n",
    "        mask_M1_truth=mask_tensor_M1_train,\n",
    "        Nhalos_truth=Nhalos_truth_tensor,\n",
    "        use_Ntot_samples=False,\n",
    "        use_M1_samples=False\n",
    "        )\n",
    "\n",
    "    loss.backward()\n",
    "    optimizer.step()\n",
    "\n",
    "    if (np.mod(it, int(niterations / 30)) == 0) or (it == niterations - 1):\n",
    "        if float(loss.cpu().detach().numpy()) < loss_min:\n",
    "            loss_min = float(loss.cpu().detach().numpy())\n",
    "            # print(loss1.detach().numpy(), loss2.detach().numpy(), loss3.detach().numpy())\n",
    "            print('saving bf at:', ', with loss:', np.round(loss_min, 4))\n",
    "            # print('saving bf at:', it, ', with loss:', np.round(loss_min, 9))\n",
    "            state = {'loss_min': loss_min, 'state_dict': model.state_dict(), 'optimizer': optimizer.state_dict()}\n",
    "\n",
    "            torch.save(\n",
    "                state, save_bestfit_model_name\n",
    "                )\n",
    "\n",
    "\n",
    "            "
   ]
  },
  {
   "cell_type": "code",
   "execution_count": 21,
   "metadata": {},
   "outputs": [],
   "source": [
    "cond_tensor = cond_tensor.to(dev)\n",
    "cond_tensor_nsh = cond_tensor_nsh.to(dev)\n",
    "Ntot_samp, M1_samp, M_diff_samp, mask_tensor_M1_samp, mask_tensor_Mdiff_samp = model.inverse(\n",
    "        cond_x=cond_tensor,\n",
    "        cond_x_nsh=cond_tensor_nsh,\n",
    "        use_truth_Nhalo=False,\n",
    "            use_truth_M1=False,\n",
    "            use_truth_Mdiff=False,    \n",
    "            mask_Mdiff_truth=mask_tensor_Mdiff_train,\n",
    "            mask_M1_truth=mask_tensor_M1_train,\n",
    "            Nhalos_truth=X_Nhalo,\n",
    "            M1_truth=X_M1\n",
    "        )\n",
    "\n",
    "\n",
    "\n",
    "\n",
    "\n",
    "\n"
   ]
  },
  {
   "cell_type": "code",
   "execution_count": 22,
   "metadata": {},
   "outputs": [
    {
     "data": {
      "text/plain": [
       "Text(0, 0.5, 'Histogram')"
      ]
     },
     "execution_count": 22,
     "metadata": {},
     "output_type": "execute_result"
    },
    {
     "data": {
      "image/png": "[encoded data removed]",
      "text/plain": [
       "<Figure size 432x288 with 1 Axes>"
      ]
     },
     "metadata": {
      "needs_background": "light"
     },
     "output_type": "display_data"
    }
   ],
   "source": [
    "pl.figure()\n",
    "indsel = np.where(cond_tensor_nsh.cpu().detach().numpy()[:,0] > 1.0)\n",
    "_ = pl.hist(Ntot_samp[indsel], histtype='step', bins=[0,1,2,3,4,5])\n",
    "_ = pl.hist(Nhalos_truth_tensor.cpu().detach().numpy()[indsel], bins=[0,1,2,3,4,5])\n",
    "xarr = np.arange(9)\n",
    "# yarr = 4e5*np.exp(-xarr)\n",
    "al, bt = 0.0, 1.5\n",
    "yarr = 4e5*np.power(1+xarr, al) * np.exp(-bt * xarr)\n",
    "# yarr = 4e5/xarr**(5)\n",
    "# pl.plot(xarr, yarr)\n",
    "# _ = pl.hist(X_Nhalo[:,0].cpu().detach().numpy())\n",
    "pl.yscale('log')\n",
    "pl.xlabel('Nhalo')\n",
    "pl.ylabel('Histogram')\n",
    "\n",
    "\n",
    "\n",
    "\n"
   ]
  },
  {
   "cell_type": "code",
   "execution_count": 23,
   "metadata": {},
   "outputs": [
    {
     "data": {
      "text/plain": [
       "Text(0, 0.5, 'Histogram')"
      ]
     },
     "execution_count": 23,
     "metadata": {},
     "output_type": "execute_result"
    },
    {
     "data": {
      "image/png": "[encoded data removed]",
      "text/plain": [
       "<Figure size 432x288 with 1 Axes>"
      ]
     },
     "metadata": {
      "needs_background": "light"
     },
     "output_type": "display_data"
    }
   ],
   "source": [
    "pl.figure()\n",
    "indp = (mask_tensor_M1_samp.cpu().detach().numpy()[:,0] > 0)\n",
    "_ = pl.hist(M1_samp.cpu().detach().numpy()[indp], range=(0,1), histtype='step')\n",
    "indp = (mask_tensor_M1_train.cpu().detach().numpy() > 0)\n",
    "_ = pl.hist(X_M1[:,0].cpu().detach().numpy()[indp], range=(0,1))\n",
    "pl.yscale('log')\n",
    "pl.xlabel('M1')\n",
    "pl.ylabel('Histogram')\n",
    "\n",
    "\n",
    "\n",
    "\n",
    "\n",
    "\n"
   ]
  },
  {
   "cell_type": "code",
   "execution_count": 24,
   "metadata": {},
   "outputs": [
    {
     "data": {
      "text/plain": [
       "Text(0, 0.5, 'Histogram')"
      ]
     },
     "execution_count": 24,
     "metadata": {},
     "output_type": "execute_result"
    },
    {
     "data": {
      "image/png": "[encoded data removed]",
      "text/plain": [
       "<Figure size 432x288 with 1 Axes>"
      ]
     },
     "metadata": {
      "needs_background": "light"
     },
     "output_type": "display_data"
    }
   ],
   "source": [
    "pl.figure()\n",
    "ind_M = 0\n",
    "\n",
    "indp = mask_tensor_Mdiff_samp[:, ind_M] > 0\n",
    "_ = pl.hist(M_diff_samp[indp,ind_M].cpu().detach().numpy(), range=(0,0.5), histtype='step')\n",
    "indp = mask_tensor_Mdiff_train[:, ind_M] > 0\n",
    "_ = pl.hist(X_Mdiff[indp,ind_M].cpu().detach().numpy(), range=(0,0.5))\n",
    "\n",
    "\n",
    "pl.yscale('log')\n",
    "pl.xlabel(r'Mj-Mi')\n",
    "pl.ylabel('Histogram')\n",
    "\n",
    "\n",
    "\n",
    "\n"
   ]
  },
  {
   "cell_type": "code",
   "execution_count": null,
   "metadata": {},
   "outputs": [],
   "source": []
  },
  {
   "cell_type": "code",
   "execution_count": null,
   "metadata": {},
   "outputs": [],
   "source": []
  }
 ],
 "metadata": {
  "kernelspec": {
   "display_name": "pytorch-1.9.0",
   "language": "python",
   "name": "pytorch-1.9.0"
  },
  "language_info": {
   "codemirror_mode": {
    "name": "ipython",
    "version": 3
   },
   "file_extension": ".py",
   "mimetype": "text/x-python",
   "name": "python",
   "nbconvert_exporter": "python",
   "pygments_lexer": "ipython3",
   "version": "3.8.11"
  }
 },
 "nbformat": 4,
 "nbformat_minor": 4
}
