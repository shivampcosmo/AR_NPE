{
 "cells": [
  {
   "cell_type": "code",
   "execution_count": 25,
   "metadata": {},
   "outputs": [
    {
     "name": "stdout",
     "output_type": "stream",
     "text": [
      "The autoreload extension is already loaded. To reload it, use:\n",
      "  %reload_ext autoreload\n"
     ]
    }
   ],
   "source": [
    "import os\n",
    "os.chdir('/global/cfs/cdirs/lsst/www/shivamp/AR_NPE/notebooks/TEST_FINALS/')\n",
    "import jax.numpy as jnp\n",
    "from jax import grad, jit, vmap\n",
    "import numpy as np\n",
    "from jax import vmap, grad\n",
    "from jax_cosmo import Cosmology\n",
    "from functools import partial\n",
    "from jax_cosmo.power import linear_matter_power\n",
    "from jax_cosmo.background import angular_diameter_distance, radial_comoving_distance\n",
    "import jax_cosmo.transfer as tklib\n",
    "import astropy.units as u\n",
    "from astropy import constants as const\n",
    "RHO_CRIT_0_MPC3 = 2.77536627245708E11\n",
    "G_new = ((const.G * (u.M_sun / u.Mpc**3) * (u.M_sun) / (u.Mpc)).to(u.eV / u.cm**3)).value\n",
    "import constants\n",
    "import jax_cosmo.background as bkgrd\n",
    "import jax_cosmo.transfer as tklib\n",
    "from jax_cosmo.scipy.integrate import romb\n",
    "from jax_cosmo.scipy.integrate import simps\n",
    "from jax_cosmo.scipy.interpolate import interp\n",
    "from mcfit import xi2P\n",
    "from colossus.halo import mass_so\n",
    "%matplotlib inline\n",
    "import matplotlib.pyplot as pl\n",
    "pl.rc('text', usetex=True)\n",
    "# Palatino\n",
    "pl.rc('font', family='DejaVu Sans')\n",
    "\n",
    "%load_ext autoreload\n",
    "%autoreload 2\n"
   ]
  },
  {
   "cell_type": "code",
   "execution_count": 63,
   "metadata": {},
   "outputs": [],
   "source": [
    "class HMF_jax:\n",
    "    def __init__(\n",
    "                self,\n",
    "                sim_params_dict,\n",
    "                halo_params_dict,\n",
    "                num_points_trapz_int=64\n",
    "            ):    \n",
    "        \n",
    "        self.cosmo_params = sim_params_dict['cosmo']\n",
    "\n",
    "        self.cosmo_jax = Cosmology(\n",
    "            Omega_c=self.cosmo_params['Om0'] - self.cosmo_params['Ob0'],\n",
    "            Omega_b=self.cosmo_params['Ob0'],\n",
    "            h=self.cosmo_params['H0'] / 100.,\n",
    "            sigma8=self.cosmo_params['sigma8'],\n",
    "            n_s=self.cosmo_params['ns'],\n",
    "            Omega_k=0.,\n",
    "            w0=self.cosmo_params['w0'],\n",
    "            wa=0.\n",
    "            )\n",
    "\n",
    "        zmin, zmax, nz = halo_params_dict['zmin'], halo_params_dict['zmax'], halo_params_dict['nz']\n",
    "        Mmin, Mmax, nM = halo_params_dict['Mmin'], halo_params_dict['Mmax'], halo_params_dict['nM']\n",
    "        dmin, dmax, nd = halo_params_dict['dmin'], halo_params_dict['dmax'], halo_params_dict['nd']\n",
    "        self.Rcond = halo_params_dict['Rcond']\n",
    "        self.z_array = jnp.linspace(zmin, zmax, nz)\n",
    "        self.M_array = jnp.logspace(np.log10(Mmin), np.log10(Mmax), nM)\n",
    "        self.deltam_array = jnp.exp(jnp.linspace(jnp.log(1+dmin+1e-3), jnp.log(1+dmax+1e-3), nd)) - 1.0\n",
    "        mdef = halo_params_dict['mdef']\n",
    "        r200c_mat = np.zeros((len(self.M_array), len(self.z_array)))\n",
    "        for jz in range(len(self.z_array)):\n",
    "            r200c_mat[:, jz] = (mass_so.M_to_R(self.M_array, self.z_array[jz], mdef) / (1000.))\n",
    "\n",
    "        self.r200c_mat = jnp.array(r200c_mat)\n",
    "\n",
    "        self.scale_fac_a_array = 1./(1. + self.z_array)\n",
    "        self.nM, self.nz, self.nd = len(self.M_array), len(self.z_array), len(self.deltam_array)\n",
    "\n",
    "\n",
    "        self.kPk_array = jnp.logspace(jnp.log10(1E-3), jnp.log10(100), 100)\n",
    "        self.plin_kz_mat = vmap(linear_matter_power,(None, None, 0))(self.cosmo_jax, self.kPk_array, self.scale_fac_a_array).T\n",
    "\n",
    "        rhom_z_array = (constants.RHO_CRIT_0_KPC3 * self.cosmo_params['Om0'] * (1.0 + self.z_array)**3) * 1E9\n",
    "        rhom_z_mat = jnp.repeat(rhom_z_array[:, None], self.nM, axis=1)\n",
    "        M_z_mat = jnp.repeat(self.M_array[None,:], self.nz, axis=0)\n",
    "\n",
    "        rhom_z_delta_mat = jnp.repeat(rhom_z_mat[:,:, None], self.nd, axis=2)\n",
    "        M_z_delta_mat = jnp.repeat(M_z_mat[:,:, None], self.nd, axis=2)\n",
    "\n",
    "\n",
    "        vmap_func1 = vmap(self.get_lgsigma_z, (0, None))\n",
    "        vmap_func2 = vmap(vmap_func1, (None, 0))\n",
    "        lgsigma_Mz_mat = vmap_func2(self.z_array, jnp.log(self.M_array)).T\n",
    "        self.sigma_Mz_mat = jnp.exp(lgsigma_Mz_mat)\n",
    "\n",
    "        grad_lgsigma = grad(self.get_lgsigma_z, argnums=1)\n",
    "        vmap_func1 = vmap(grad_lgsigma, (0, None))\n",
    "        vmap_func2 = vmap(vmap_func1, (None, 0))\n",
    "        self.dlgsig_dlnM_mat = vmap_func2(self.z_array, jnp.log(self.M_array)).T\n",
    "\n",
    "        vmap_func1 = vmap(self.get_fsigma_Mz, (0, None))\n",
    "        vmap_func2 = vmap(vmap_func1, (None, 0))\n",
    "        self.fsigma_Mz_mat = vmap_func2(jnp.arange(self.nz), jnp.arange(self.nM)).T\n",
    "\n",
    "        self.hmf_Mz_mat = -1 * self.fsigma_Mz_mat * (rhom_z_mat/M_z_mat) * self.dlgsig_dlnM_mat\n",
    "\n",
    "\n",
    "        vmap_func1 = vmap(self.get_lgsigmaprime_z, (0, None, None))\n",
    "        vmap_func2 = vmap(vmap_func1, (None, 0, None))\n",
    "        vmap_func3 = vmap(vmap_func2, (None, None, 0))        \n",
    "        lgsigma_Mzdeltam_mat = vmap_func3(self.z_array, jnp.log(self.M_array), self.deltam_array).T\n",
    "        self.sigma_Mzdeltam_mat = jnp.exp(lgsigma_Mzdeltam_mat)\n",
    "\n",
    "        grad_lgsigmadeltam = grad(self.get_lgsigmaprime_z, argnums=1)\n",
    "        vmap_func1 = vmap(grad_lgsigmadeltam, (0, None, None))\n",
    "        vmap_func2 = vmap(vmap_func1, (None, 0, None))\n",
    "        vmap_func3 = vmap(vmap_func2, (None, None, 0))        \n",
    "        self.dlgsig_dlnM_deltam_mat = vmap_func3(self.z_array, jnp.log(self.M_array), self.deltam_array).T\n",
    "\n",
    "        vmap_func1 = vmap(self.get_fsigma_Mzdeltam, (0, None, None))\n",
    "        vmap_func2 = vmap(vmap_func1, (None, 0, None))\n",
    "        vmap_func3 = vmap(vmap_func2, (None, None, 0))        \n",
    "        self.fsigma_Mzdeltam_mat = vmap_func3(jnp.arange(self.nz), jnp.arange(self.nM), jnp.arange(self.nd)).T\n",
    "\n",
    "        self.hmf_Mzdeltam_mat = -1 * self.fsigma_Mzdeltam_mat * (rhom_z_delta_mat/M_z_delta_mat) * self.dlgsig_dlnM_deltam_mat\n",
    "\n",
    "\n",
    "        \n",
    "    def get_rho_m(self, z):\n",
    "        return (constants.RHO_CRIT_0_KPC3 * self.cosmo_params['Om0'] * (1.0 + z)**3) * 1E9\n",
    "\n",
    "    def get_Ez(self, z):\n",
    "        zp1 = (1.0 + z)\n",
    "        t = (self.cosmo_params['Om0']) * zp1**3 + (1 - self.cosmo_params['Om0'])\n",
    "        E = jnp.sqrt(t)        \n",
    "        return E\n",
    "\n",
    "    def get_rho_c(self, z):\n",
    "        return constants.RHO_CRIT_0_KPC3 * self.get_Ez(z)**2  * 1E9      \n",
    "\n",
    "    @partial(jit, static_argnums=(0,))        \n",
    "    def get_lgsigma_z(self, z, lgM, kmin=0.0001, kmax=1000.0):\n",
    "        M = jnp.exp(lgM)\n",
    "        R = (3.0 * M / 4.0 / jnp.pi / self.get_rho_m(0.0))**(1.0 / 3.0)\n",
    "\n",
    "        jz = jnp.searchsorted(self.z_array, z)\n",
    "\n",
    "        def int_sigma(logk):\n",
    "            k = jnp.exp(logk)\n",
    "            x = k * R\n",
    "            w = 3.0 * (jnp.sin(x) - x * jnp.cos(x)) / (x * x * x)\n",
    "            pkz = jnp.exp(jnp.interp(logk, jnp.log(self.kPk_array), jnp.log(self.plin_kz_mat[:, jz])))\n",
    "            return k * (k * w) ** 2 * pkz\n",
    "\n",
    "        y = romb(int_sigma, jnp.log10(kmin), jnp.log10(kmax), divmax=7)\n",
    "        return jnp.log(jnp.sqrt(y / (2.0 * jnp.pi**2.0)))\n",
    "        \n",
    "    @partial(jit, static_argnums=(0,))        \n",
    "    def get_lgsigma_l_z(self, z, lgM, kmin=0.0001, kmax=1000.0):\n",
    "        M = jnp.exp(lgM)\n",
    "        R = (3.0 * M / 4.0 / jnp.pi / self.get_rho_m(0.0))**(1.0 / 3.0)\n",
    "\n",
    "        jz = jnp.searchsorted(self.z_array, z)\n",
    "\n",
    "        def int_sigma(logk):\n",
    "            k = jnp.exp(logk)\n",
    "            x = k * self.Rcond\n",
    "            w = 3.0 * (jnp.sin(x) - x * jnp.cos(x)) / (x * x * x)\n",
    "            pkz = jnp.exp(jnp.interp(logk, jnp.log(self.kPk_array), jnp.log(self.plin_kz_mat[:, jz])))\n",
    "            return k * (k * w) ** 2 * pkz\n",
    "\n",
    "        y = romb(int_sigma, jnp.log10(kmin), jnp.log10(kmax), divmax=7)\n",
    "        return jnp.log(jnp.sqrt(y / (2.0 * jnp.pi**2.0)))\n",
    "\n",
    "\n",
    "    @partial(jit, static_argnums=(0,))        \n",
    "    def get_lgsigmaprime_z(self, z, lgM, delta_m, kmin=0.0001, kmax=1000.0):\n",
    "\n",
    "        jz = jnp.searchsorted(self.z_array, z) \n",
    "\n",
    "        M = jnp.exp(lgM)\n",
    "        R_M = (3.0 * M / 4.0 / jnp.pi / self.get_rho_m(0.0))**(1.0 / 3.0)\n",
    "        def int_sigma_M(logk):\n",
    "            k = jnp.exp(logk)\n",
    "            x = k * R_M\n",
    "            w = 3.0 * (jnp.sin(x) - x * jnp.cos(x)) / (x * x * x)\n",
    "            pkz = jnp.exp(jnp.interp(logk, jnp.log(self.kPk_array), jnp.log(self.plin_kz_mat[:, jz])))\n",
    "            return k * (k * w) ** 2 * pkz\n",
    "\n",
    "        y = romb(int_sigma_M, jnp.log10(kmin), jnp.log10(kmax), divmax=7)\n",
    "        sigma_sqr = jnp.sqrt(y / (2.0 * jnp.pi**2.0))\n",
    "\n",
    "        def int_sigma_cond(logk):\n",
    "            k = jnp.exp(logk)\n",
    "            x = k * self.Rcond\n",
    "            w = 3.0 * (jnp.sin(x) - x * jnp.cos(x)) / (x * x * x)\n",
    "            pkz = jnp.exp(jnp.interp(logk, jnp.log(self.kPk_array), jnp.log(self.plin_kz_mat[:, jz])))\n",
    "            return k * (k * w) ** 2 * pkz\n",
    "\n",
    "        y = romb(int_sigma_cond, jnp.log10(kmin), jnp.log10(kmax), divmax=7)\n",
    "        sigma_l_sqr = jnp.sqrt(y / (2.0 * jnp.pi**2.0))\n",
    "\n",
    "        delta_c = constants.DELTA_COLLAPSE\n",
    "\n",
    "        delta_l = (delta_c/1.68647) * (1.68647 - (1.35/((1 + delta_m)**(2/3))) - 1.12431/((1 + delta_m)**(0.5)) + 0.78785/((1 + delta_m)**0.58661))\n",
    "\n",
    "        sigma_prime_sqr = (sigma_sqr - sigma_l_sqr) * (delta_c/(delta_c - delta_l))**2\n",
    "        # sigma_prime_sqr = (sigma_sqr - sigma_l_sqr)\n",
    "\n",
    "        return jnp.log(jnp.sqrt(sigma_prime_sqr))\n",
    "\n",
    "    @partial(jit, static_argnums=(0,))\n",
    "    def get_fsigma_Mz(self, jz, jM, mdef_delta=200):\n",
    "        '''Tinker 2008 mass function'''\n",
    "        sigma = self.sigma_Mz_mat[jz, jM]\n",
    "        z = self.z_array[jz]\n",
    "        rho_treshold = mdef_delta * self.get_rho_c(z)\n",
    "        Delta_m = round(rho_treshold / self.get_rho_m(z))\n",
    "\n",
    "        fit_Delta = jnp.array([200, 300, 400, 600, 800, 1200, 1600, 2400, 3200])\n",
    "        fit_A0 = jnp.array([0.186, 0.200, 0.212, 0.218, 0.248, 0.255, 0.260, 0.260, 0.260])\n",
    "        fit_a0 = jnp.array([1.47, 1.52, 1.56, 1.61, 1.87, 2.13, 2.30, 2.53, 2.66])\n",
    "        fit_b0 = jnp.array([2.57, 2.25, 2.05, 1.87, 1.59, 1.51, 1.46, 1.44, 1.41])\n",
    "        fit_c0 = jnp.array([1.19, 1.27, 1.34, 1.45, 1.58, 1.80, 1.97, 2.24, 2.44])\n",
    "            \n",
    "        \n",
    "        A0 = jnp.interp(Delta_m, fit_Delta, fit_A0)\n",
    "        a0 = jnp.interp(Delta_m, fit_Delta, fit_a0)\n",
    "        b0 = jnp.interp(Delta_m, fit_Delta, fit_b0)\n",
    "        c0 = jnp.interp(Delta_m, fit_Delta, fit_c0)\n",
    "        \n",
    "        alpha = 10**(-(0.75 / jnp.log10(Delta_m / 75.0))**1.2)\n",
    "        A = A0 * (1.0 + z)**-0.14\n",
    "        a = a0 * (1.0 + z)**-0.06\n",
    "        b = b0 * (1.0 + z)**-alpha\n",
    "        c = c0\n",
    "        f = A * ((sigma / b)**-a + 1.0) * jnp.exp(-c / sigma**2)\n",
    "        \n",
    "        return f\n",
    "\n",
    "\n",
    "    @partial(jit, static_argnums=(0,))\n",
    "    def get_fsigma_Mzdeltam(self, jz, jM, jd, mdef_delta=200):\n",
    "        '''Tinker 2008 mass function'''\n",
    "        sigma = self.sigma_Mzdeltam_mat[jz, jM, jd]\n",
    "        z = self.z_array[jz]\n",
    "        rho_treshold = mdef_delta * self.get_rho_c(z)\n",
    "        Delta_m = round(rho_treshold / self.get_rho_m(z))\n",
    "\n",
    "        fit_Delta = jnp.array([200, 300, 400, 600, 800, 1200, 1600, 2400, 3200])\n",
    "        fit_A0 = jnp.array([0.186, 0.200, 0.212, 0.218, 0.248, 0.255, 0.260, 0.260, 0.260])\n",
    "        fit_a0 = jnp.array([1.47, 1.52, 1.56, 1.61, 1.87, 2.13, 2.30, 2.53, 2.66])\n",
    "        fit_b0 = jnp.array([2.57, 2.25, 2.05, 1.87, 1.59, 1.51, 1.46, 1.44, 1.41])\n",
    "        fit_c0 = jnp.array([1.19, 1.27, 1.34, 1.45, 1.58, 1.80, 1.97, 2.24, 2.44])\n",
    "            \n",
    "        \n",
    "        A0 = jnp.interp(Delta_m, fit_Delta, fit_A0)\n",
    "        a0 = jnp.interp(Delta_m, fit_Delta, fit_a0)\n",
    "        b0 = jnp.interp(Delta_m, fit_Delta, fit_b0)\n",
    "        c0 = jnp.interp(Delta_m, fit_Delta, fit_c0)\n",
    "        \n",
    "        alpha = 10**(-(0.75 / jnp.log10(Delta_m / 75.0))**1.2)\n",
    "        A = A0 * (1.0 + z)**-0.14\n",
    "        a = a0 * (1.0 + z)**-0.06\n",
    "        b = b0 * (1.0 + z)**-alpha\n",
    "        c = c0\n",
    "        f = A * ((sigma / b)**-a + 1.0) * jnp.exp(-c / sigma**2)\n",
    "        \n",
    "        return f\n",
    "\n",
    "\n",
    "\n"
   ]
  },
  {
   "cell_type": "code",
   "execution_count": 64,
   "metadata": {},
   "outputs": [],
   "source": [
    "from colossus.cosmology import cosmology\n",
    "cosmo_params_dict = {'flat': True, 'H0': 67.2, 'Om0': 0.31, 'Ob0': 0.049, 'sigma8': 0.81, 'ns': 0.95, 'w0':-1.0}\n",
    "cosmo = cosmology.setCosmology('myCosmo', **cosmo_params_dict)\n",
    "sim_params_dict = {}\n",
    "sim_params_dict['cosmo'] = cosmo_params_dict\n",
    "\n",
    "halo_params_dict = {}\n",
    "halo_params_dict['dmin'], halo_params_dict['dmax'], halo_params_dict['nd'] = -1.0, 10, 16\n",
    "halo_params_dict['zmin'], halo_params_dict['zmax'], halo_params_dict['nz'] = 0, 0.5, 2\n",
    "halo_params_dict['Mmin'], halo_params_dict['Mmax'], halo_params_dict['nM'] = 1e13, 1e15, 17\n",
    "halo_params_dict['mdef'] = '200c'\n",
    "halo_params_dict['Rcond'] = 20.0\n",
    "\n",
    "\n",
    "\n"
   ]
  },
  {
   "cell_type": "code",
   "execution_count": 65,
   "metadata": {},
   "outputs": [
    {
     "name": "stdout",
     "output_type": "stream",
     "text": [
      "CPU times: user 53.5 s, sys: 3.98 s, total: 57.5 s\n",
      "Wall time: 15.7 s\n"
     ]
    }
   ],
   "source": [
    "%%time\n",
    "HMF_jax_test = HMF_jax(sim_params_dict, halo_params_dict)\n",
    "\n",
    "\n",
    "\n"
   ]
  },
  {
   "cell_type": "code",
   "execution_count": 66,
   "metadata": {},
   "outputs": [],
   "source": [
    "dndm_jax = HMF_jax_test.hmf_Mz_mat\n",
    "dndm_cond_jax = HMF_jax_test.hmf_Mzdeltam_mat\n",
    "\n",
    "\n",
    "\n"
   ]
  },
  {
   "cell_type": "code",
   "execution_count": 68,
   "metadata": {},
   "outputs": [
    {
     "data": {
      "image/png": "[encoded data removed]",
      "text/plain": [
       "<Figure size 700x700 with 1 Axes>"
      ]
     },
     "metadata": {},
     "output_type": "display_data"
    }
   ],
   "source": [
    "# dndm_jax.shape\n",
    "pl.figure()\n",
    "pl.plot(HMF_jax_test.M_array, dndm_jax[0,:])\n",
    "pl.plot(HMF_jax_test.M_array, dndm_cond_jax[0,:,10], ls='--')\n",
    "pl.plot(HMF_jax_test.M_array, dndm_cond_jax[0,:,15], ls='-.')\n",
    "pl.xscale('log')\n",
    "pl.yscale('log')\n",
    "\n",
    "\n",
    "\n"
   ]
  },
  {
   "cell_type": "code",
   "execution_count": 62,
   "metadata": {},
   "outputs": [
    {
     "data": {
      "text/plain": [
       "Array([2.01838956e-04, 1.48923777e-04, 1.09081416e-04, 7.90761385e-05,\n",
       "       5.66830873e-05, 4.00096863e-05, 2.77169181e-05, 1.87472404e-05,\n",
       "       1.22929011e-05, 7.74270960e-06, 4.60928892e-06, 2.54316764e-06,\n",
       "       1.25602295e-06, 5.27117648e-07, 1.71067190e-07, 3.60897737e-08,\n",
       "       3.41660733e-09], dtype=float64)"
      ]
     },
     "execution_count": 62,
     "metadata": {},
     "output_type": "execute_result"
    }
   ],
   "source": [
    "dndm_cond_jax[0,:,5]"
   ]
  },
  {
   "cell_type": "code",
   "execution_count": 51,
   "metadata": {},
   "outputs": [],
   "source": [
    "sigmaMz_jax = HMF_jax_test.sigma_Mz_mat\n",
    "sigmaMz_cond_jax = HMF_jax_test.sigma_Mzdeltam_mat\n",
    "\n",
    "\n",
    "\n"
   ]
  },
  {
   "cell_type": "code",
   "execution_count": 52,
   "metadata": {},
   "outputs": [
    {
     "data": {
      "image/png": "[encoded data removed]",
      "text/plain": [
       "<Figure size 700x700 with 1 Axes>"
      ]
     },
     "metadata": {},
     "output_type": "display_data"
    }
   ],
   "source": [
    "# dndm_jax.shape\n",
    "pl.figure()\n",
    "pl.plot(HMF_jax_test.M_array, sigmaMz_jax[0,:])\n",
    "pl.plot(HMF_jax_test.M_array, sigmaMz_cond_jax[0,:,10], ls='--')\n",
    "pl.plot(HMF_jax_test.M_array, sigmaMz_cond_jax[0,:,15], ls='-.')\n",
    "pl.xscale('log')\n",
    "pl.yscale('log')\n",
    "\n",
    "\n",
    "\n"
   ]
  },
  {
   "cell_type": "code",
   "execution_count": 53,
   "metadata": {},
   "outputs": [
    {
     "data": {
      "text/plain": [
       "Array([0.44893972, 0.3610386 , 0.24702335,        nan,        nan,\n",
       "              nan,        nan,        nan,        nan,        nan,\n",
       "              nan,        nan,        nan,        nan,        nan,\n",
       "              nan,        nan], dtype=float64)"
      ]
     },
     "execution_count": 53,
     "metadata": {},
     "output_type": "execute_result"
    }
   ],
   "source": [
    "sigmaMz_cond_jax[0,:,10]"
   ]
  },
  {
   "cell_type": "code",
   "execution_count": null,
   "metadata": {},
   "outputs": [],
   "source": []
  }
 ],
 "metadata": {
  "kernelspec": {
   "display_name": "jax_pm",
   "language": "python",
   "name": "jax_pm"
  },
  "language_info": {
   "codemirror_mode": {
    "name": "ipython",
    "version": 3
   },
   "file_extension": ".py",
   "mimetype": "text/x-python",
   "name": "python",
   "nbconvert_exporter": "python",
   "pygments_lexer": "ipython3",
   "version": "3.9.16"
  },
  "orig_nbformat": 4
 },
 "nbformat": 4,
 "nbformat_minor": 2
}
