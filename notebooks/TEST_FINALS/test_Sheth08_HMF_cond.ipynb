{
 "cells": [
  {
   "cell_type": "code",
   "execution_count": 1,
   "metadata": {},
   "outputs": [],
   "source": [
    "%reset\n",
    "# !module load texlive\n",
    "import sys, os\n",
    "os.environ[\"CUDA_VISIBLE_DEVICES\"] = \"0\"\n",
    "import matplotlib\n",
    "%matplotlib inline\n",
    "\n",
    "import pickle as pk\n",
    "import numpy as np\n",
    "import matplotlib.pyplot as pl\n",
    "pl.rc('text', usetex=False)\n",
    "# Palatino\n",
    "pl.rc('font', family='DejaVu Sans')\n",
    "import torch\n",
    "\n",
    "dev = torch.device(\"cuda\")\n",
    "# torch.cuda.set_device(dev)\n",
    "import torch.optim as optim\n",
    "from torch.distributions import MultivariateNormal\n",
    "from torch.distributions import Normal\n",
    "# change the root directory for this notebook\n",
    "\n",
    "root_dir = '/mnt/home/spandey/ceph/AR_NPE/'\n",
    "os.chdir(root_dir)\n",
    "import colossus\n",
    "import sys, os\n",
    "from nf.combined_models import COMBINED_Model\n",
    "from nf.all_models import *\n",
    "from nf.utils_data_prep import *\n",
    "from tqdm import tqdm\n",
    "%load_ext autoreload\n",
    "%autoreload 2\n",
    "\n",
    "\n"
   ]
  },
  {
   "cell_type": "code",
   "execution_count": 2,
   "metadata": {},
   "outputs": [
    {
     "name": "stdout",
     "output_type": "stream",
     "text": [
      "True\n"
     ]
    }
   ],
   "source": [
    "# # check if GPU is available\n",
    "print(torch.cuda.is_available())\n",
    "# # test how many cuda devices are available\n",
    "# print(torch.cuda.device_count())\n",
    "# # print names of the cuda devices available\n",
    "# for i in range(torch.cuda.device_count()):\n",
    "#     print(torch.cuda.get_device_name(i))\n",
    "\n",
    "\n",
    "\n"
   ]
  },
  {
   "cell_type": "code",
   "execution_count": 229,
   "metadata": {},
   "outputs": [],
   "source": [
    "import colossus\n",
    "# set cosmology\n",
    "from colossus.cosmology import cosmology\n",
    "params = {'flat': True, 'H0': 67.11, 'Om0': 0.3175, 'Ob0': 0.049, 'sigma8': 0.834, 'ns': 0.9624}\n",
    "cosmo = cosmology.setCosmology('myCosmo', **params)\n",
    "# get halo mass function:\n",
    "from colossus.lss import mass_function\n",
    "Mmin=13.1\n",
    "Mmax=16.0\n",
    "lgM_array = np.linspace(Mmin, Mmax, 1000)\n",
    "M_array = 10**lgM_array\n",
    "hmf_tinker = mass_function.massFunction(M_array, 0, mdef = '200c', model = 'tinker08', q_out = 'dndlnM')\n",
    "# hmf_sheth99 = mass_function.massFunction(M_array, 0, mdef = 'fof', model = 'bhattacharya11', q_out = 'dndlnM')\n",
    "hmf_bh11 = mass_function.massFunction(M_array, 0, mdef = 'fof', model = 'bhattacharya11', q_out = 'dndlnM')\n",
    "\n"
   ]
  },
  {
   "cell_type": "code",
   "execution_count": 230,
   "metadata": {},
   "outputs": [],
   "source": [
    "lgM_rescaled = (lgM_array - Mmin)/(Mmax-Mmin) -0.5\n",
    "\n"
   ]
  },
  {
   "cell_type": "code",
   "execution_count": 231,
   "metadata": {},
   "outputs": [],
   "source": [
    "import scipy as sp\n",
    "int_val = sp.integrate.simps(hmf_tinker, lgM_rescaled)\n",
    "hmf_tinker_pdf = hmf_tinker/int_val\n",
    "\n",
    "int_val = sp.integrate.simps(hmf_bh11, lgM_rescaled)\n",
    "hmf_bh11_pdf = hmf_bh11/int_val\n"
   ]
  },
  {
   "cell_type": "code",
   "execution_count": 232,
   "metadata": {},
   "outputs": [],
   "source": [
    "# define the cdf of the halo mass function\n",
    "hmf_bh11_cdf = np.zeros_like(hmf_bh11_pdf)\n",
    "for i in range(len(hmf_bh11_cdf)):\n",
    "    hmf_bh11_cdf[i] = sp.integrate.simps(hmf_bh11_pdf[:i+1], lgM_rescaled[:i+1])\n",
    "\n",
    "    \n"
   ]
  },
  {
   "cell_type": "code",
   "execution_count": 233,
   "metadata": {},
   "outputs": [],
   "source": [
    "# # sample from the cdf\n",
    "# n_samples = 100000\n",
    "# u = np.random.uniform(0, 1, n_samples)\n",
    "# lgM_samples = np.zeros_like(u)\n",
    "# for i in range(len(u)):\n",
    "#     lgM_samples[i] = lgM_rescaled[np.argmin(np.abs(hmf_cdf - u[i]))]\n"
   ]
  },
  {
   "cell_type": "code",
   "execution_count": 234,
   "metadata": {},
   "outputs": [],
   "source": [
    "# do the sampling by defining an inverse interpolation between cdf and lgM_rescaled\n",
    "n_samples = 1000000\n",
    "import numpy as np\n",
    "from scipy.interpolate import interp1d\n",
    "u = np.random.uniform(0, 1, n_samples)\n",
    "lgM_interp = interp1d(np.log(hmf_bh11_cdf[1:]), lgM_rescaled[1:], kind='linear', fill_value='extrapolate')\n",
    "# lgM_samples2 = lgM_interp(np.log(u))\n"
   ]
  },
  {
   "cell_type": "code",
   "execution_count": 235,
   "metadata": {},
   "outputs": [
    {
     "data": {
      "image/png": "[encoded data removed]",
      "text/plain": [
       "<Figure size 640x480 with 1 Axes>"
      ]
     },
     "metadata": {},
     "output_type": "display_data"
    }
   ],
   "source": [
    "lgM_samples2 = lgM_interp(np.log(u))\n",
    "pl.figure()\n",
    "pl.plot(lgM_rescaled, (hmf_bh11_pdf), label='Bhattacharya11')\n",
    "# _ = pl.hist(lgM_samples, bins=100, density=True, label='samples')\n",
    "_ = pl.hist(lgM_samples2, bins=100, density=True, label='samples interp', histtype='step')\n",
    "pl.xlabel(r'$\\log_{10} M_{\\rm halo}$ rescaled')\n",
    "pl.ylabel(r'$\\frac{dn}{d\\ln M}$ PDF')\n",
    "pl.legend()\n",
    "pl.yscale('log')\n",
    "\n"
   ]
  },
  {
   "cell_type": "code",
   "execution_count": 236,
   "metadata": {},
   "outputs": [
    {
     "data": {
      "text/plain": [
       "torch.Size([1, 1000])"
      ]
     },
     "execution_count": 236,
     "metadata": {},
     "output_type": "execute_result"
    }
   ],
   "source": [
    "torch.Tensor(np.array([lgM_rescaled])).shape\n",
    "# self.hmf_pdf_tointerp = torch.Tensor([hmf_pdf_tointerp])\n",
    "# self.hmf_cdf_tointerp = torch.Tensor([hmf_cdf_tointerp])\n"
   ]
  },
  {
   "cell_type": "code",
   "execution_count": 237,
   "metadata": {},
   "outputs": [],
   "source": [
    "ji = 0\n",
    "# ns_d = 128\n",
    "ns_d = 256\n",
    "# ns_d = 512\n",
    "nb = 8\n",
    "nax_d = ns_d // nb\n",
    "nf = 3\n",
    "layers_types = ['res', 'res', 'res', 'res']\n",
    "nc = 0\n",
    "for jl in range(len(layers_types)):\n",
    "    if layers_types[jl] == 'cnn':\n",
    "        nc += 1\n",
    "    elif layers_types[jl] == 'res':\n",
    "        nc += 2\n",
    "    else:\n",
    "        raise ValueError(\"layer type not supported\")\n",
    "\n",
    "# z=127 is the initial condition\n",
    "z_all = [0, 127, 'z_0_diff_sig_1', 'z_0_diff_sig_3']\n",
    "# z_all = [0]\n",
    "# ns_h = 128\n",
    "ns_h = 256\n",
    "nax_h = ns_h // nb\n",
    "\n",
    "nsims_per_batch = 64\n",
    "# nbatches_train = nb**3//nsims_per_batch\n",
    "nbatches_train = 8\n",
    "\n",
    "\n",
    "\n",
    "\n"
   ]
  },
  {
   "cell_type": "code",
   "execution_count": 238,
   "metadata": {},
   "outputs": [],
   "source": [
    "hidden_dim_MAF = 5\n",
    "learning_rate = 0.01\n",
    "K_M1 = 5\n",
    "B_M1 = 0.5\n",
    "nflows_M1_NSF = 5\n",
    "\n",
    "K_Mdiff = 5\n",
    "B_Mdiff = 3\n",
    "nflows_Mdiff_NSF = 3\n",
    "\n",
    "# base_dist_M1 = 'gumbel'\n",
    "# base_dist_M1 = 'gauss'\n",
    "base_dist_M1 = 'physical_hmf'\n",
    "base_dist_Mdiff = 'gumbel'\n",
    "ngauss_M1 = 5\n",
    "\n",
    "changelr = False\n",
    "ksize = nf\n",
    "nfeature_cnn = 4\n",
    "nout_cnn = 4 * nfeature_cnn\n",
    "ninp = len(z_all)\n",
    "num_cond = nout_cnn + ninp\n",
    "\n"
   ]
  },
  {
   "cell_type": "code",
   "execution_count": 239,
   "metadata": {},
   "outputs": [
    {
     "name": "stdout",
     "output_type": "stream",
     "text": [
      "0 64\n",
      "64 128\n",
      "128 192\n",
      "192 256\n",
      "256 320\n",
      "320 384\n",
      "384 448\n",
      "448 512\n"
     ]
    }
   ],
   "source": [
    "# Load the density data\n",
    "df_d_all_train, df_d_all_nsh_train, df_Mh_all_train, df_Nh_train = load_density_halo_data_NGP(\n",
    "    ji, ns_d, nb, nf, nc, z_all, ns_h,sdir='/mnt/home/spandey/ceph/Quijote/data_NGP_self'\n",
    "    )\n",
    "\n",
    "# # Prepare the density and halo data\n",
    "return_dict_train = prep_density_halo_cats_batched(\n",
    "    df_d_all_train, df_d_all_nsh_train, df_Mh_all_train, df_Nh_train, nsims=nsims_per_batch,\n",
    "    nbatches = nbatches_train\n",
    "    )\n",
    "\n",
    "\n"
   ]
  },
  {
   "cell_type": "code",
   "execution_count": 240,
   "metadata": {},
   "outputs": [
    {
     "data": {
      "text/plain": [
       "<matplotlib.legend.Legend at 0x1554548af4c0>"
      ]
     },
     "execution_count": 240,
     "metadata": {},
     "output_type": "execute_result"
    },
    {
     "data": {
      "image/png": "[encoded data removed]",
      "text/plain": [
       "<Figure size 640x480 with 1 Axes>"
      ]
     },
     "metadata": {},
     "output_type": "display_data"
    }
   ],
   "source": [
    "all_Mh = df_Mh_all_train.flatten()\n",
    "# select the ones that are non-zero\n",
    "all_Mh = all_Mh[all_Mh > 0]\n",
    "all_Mh_rescaled = (all_Mh - Mmin)/(Mmax-Mmin)\n",
    "# write a half gaussian distribution for the halo mass\n",
    "from scipy.stats import halfnorm\n",
    "pl.figure()\n",
    "_ = pl.hist(all_Mh_rescaled, bins=100, density=True, label='Simulation')\n",
    "# pl.plot(lgM_rescaled, (hmf_pdf), label='Sheth99')\n",
    "pl.plot(lgM_rescaled, (hmf_tinker_pdf), color='r', label='Tinker08')\n",
    "pl.plot(lgM_rescaled, (hmf_bh11_pdf), color='b', label='Bhattacharya11')\n",
    "pl.plot(lgM_rescaled, halfnorm.pdf(lgM_rescaled, 0.0, 0.2),\n",
    "       'k--', lw=2, alpha=0.6, label='halfnorm pdf')\n",
    "pl.xlabel(r'$\\log_{10} M_{\\rm halo}$ rescaled')\n",
    "pl.ylabel(r'$\\frac{dn}{d\\ln M}$ PDF')\n",
    "pl.yscale('log')\n",
    "pl.legend()\n",
    "\n",
    "\n",
    "\n",
    "\n"
   ]
  },
  {
   "cell_type": "code",
   "execution_count": 298,
   "metadata": {},
   "outputs": [],
   "source": [
    "# df_d_all_nsh_train.shape, df_Mh_all_train.shape\n",
    "delta_DM_0 = np.exp(df_d_all_nsh_train[:,0,...]) - 1\n",
    "# np.amin(delta_DM_0), np.amax(delta_DM_0)\n",
    "# delta_min, delta_max = -1.0, 200.0\n",
    "# delta_min, delta_max = 10.0, 50.0\n",
    "delta_min, delta_max = 5.0, 10.0\n",
    "indsel_delta = np.where((delta_DM_0 >= delta_min) & (delta_DM_0 <= delta_max))\n",
    "\n",
    "\n",
    "\n"
   ]
  },
  {
   "cell_type": "code",
   "execution_count": 299,
   "metadata": {},
   "outputs": [],
   "source": [
    "# df_d_all_nsh_train[:,3,...]"
   ]
  },
  {
   "cell_type": "code",
   "execution_count": 300,
   "metadata": {},
   "outputs": [],
   "source": [
    "# np.amin(delta_DM_0), np.amax(delta_DM_0)\n",
    "# df_d_all_nsh_train\n",
    "# np.exp(df_d_all_nsh_train[:,0,...]) - 1\n",
    "\n",
    "# df_d_all_nsh_train[:,0,...]\n"
   ]
  },
  {
   "cell_type": "code",
   "execution_count": 301,
   "metadata": {},
   "outputs": [],
   "source": [
    "df_Mh_all_train_sel = df_Mh_all_train[indsel_delta[0],indsel_delta[1],indsel_delta[2],indsel_delta[3],:]\n",
    "# indsel_delta[1].shape\n",
    "\n",
    "# df_Mh_all_train[0,0,:,:]\n",
    "\n",
    "df_Mh_all_train_flatten = df_Mh_all_train_sel.flatten()\n",
    "all_halo_masses = df_Mh_all_train_flatten[df_Mh_all_train_flatten !=0] \n",
    "Mmin = 13.1\n",
    "Mmax = 16.0\n",
    "all_halo_masses = -0.5 + (all_halo_masses - Mmin)/(Mmax - Mmin)\n",
    "\n"
   ]
  },
  {
   "cell_type": "code",
   "execution_count": 302,
   "metadata": {},
   "outputs": [
    {
     "data": {
      "text/plain": [
       "(-0.4936878598969557, 0.006663618416621775)"
      ]
     },
     "execution_count": 302,
     "metadata": {},
     "output_type": "execute_result"
    }
   ],
   "source": [
    "np.amin(all_halo_masses), np.amax(all_halo_masses)\n"
   ]
  },
  {
   "cell_type": "code",
   "execution_count": 303,
   "metadata": {},
   "outputs": [
    {
     "name": "stdout",
     "output_type": "stream",
     "text": [
      "\n"
     ]
    }
   ],
   "source": [
    "model_M_all = NSF_M_all_uncond(\n",
    "    K=K_M1,\n",
    "    B=B_M1,\n",
    "    nflows=nflows_M1_NSF,\n",
    "    base_dist=base_dist_M1,\n",
    "    ngauss=ngauss_M1,\n",
    "    # mu_pos=False\n",
    "    mu_pos=True,\n",
    "    lgM_rs_tointerp=lgM_rescaled,\n",
    "    hmf_pdf_tointerp=hmf_bh11_pdf,\n",
    "    hmf_cdf_tointerp=hmf_bh11_cdf    \n",
    "    )\n",
    "\n",
    "model_M_all.to(dev)\n",
    "print()\n"
   ]
  },
  {
   "cell_type": "code",
   "execution_count": 304,
   "metadata": {},
   "outputs": [],
   "source": [
    "# hmf_bh11_cdf\n",
    "# lgM_rescaled"
   ]
  },
  {
   "cell_type": "code",
   "execution_count": 305,
   "metadata": {},
   "outputs": [],
   "source": [
    "optimizer = optim.Adam(model_M_all.parameters(), lr=learning_rate)\n",
    "loss_all_it = []\n",
    "loss_min = 1e20\n",
    "\n",
    "\n",
    "\n"
   ]
  },
  {
   "cell_type": "code",
   "execution_count": 306,
   "metadata": {},
   "outputs": [],
   "source": [
    "X_M_all = torch.Tensor(np.array(all_halo_masses)).cuda(dev)\n",
    "\n"
   ]
  },
  {
   "cell_type": "code",
   "execution_count": 307,
   "metadata": {},
   "outputs": [],
   "source": [
    "save_bestfit_model_name = 'FINAL_FINAL_COMBINED/TEST_FINALS_M_all_UNCOND_nsf5_mixgaussplexp_BATCHED_model_save_ji' + str(ji) + '_nsd' + str(ns_d) + '_nb' + str(nb) + '_nf' + \\\n",
    "                str(nf) + '_nsh' + str(ns_h) + '_nsimperbatch' + str(nsims_per_batch) + '_nbatches' + str(nbatches_train)\n",
    "# save_bestfit_model_name = 'FINAL_FINAL_COMBINED/TEST_FINALS_M_all_UNCOND_nsf5_BATCHED_model_save_ji' + str(ji) + '_nsd' + str(ns_d) + '_nb' + str(nb) + '_nf' + \\\n",
    "#                 str(nf) + '_nsh' + str(ns_h) + '_nsimperbatch' + str(nsims_per_batch) + '_nbatches' + str(nbatches_train)\n",
    "\n",
    "# bestfit_model = (torch.load(save_bestfit_model_name))\n",
    "# model_M_all.load_state_dict(bestfit_model['state_dict'])\n",
    "# optimizer.load_state_dict(bestfit_model['optimizer'])\n",
    "\n"
   ]
  },
  {
   "cell_type": "code",
   "execution_count": 325,
   "metadata": {},
   "outputs": [
    {
     "name": "stderr",
     "output_type": "stream",
     "text": [
      "  5%|▌         | 104/2000 [00:03<00:57, 33.05it/s]"
     ]
    },
    {
     "name": "stdout",
     "output_type": "stream",
     "text": [
      "saving bf at: , with loss: -1.0756\n"
     ]
    },
    {
     "name": "stderr",
     "output_type": "stream",
     "text": [
      " 10%|█         | 204/2000 [00:06<00:54, 32.80it/s]"
     ]
    },
    {
     "name": "stdout",
     "output_type": "stream",
     "text": [
      "saving bf at: , with loss: -1.0756\n"
     ]
    },
    {
     "name": "stderr",
     "output_type": "stream",
     "text": [
      " 15%|█▌        | 304/2000 [00:09<00:51, 32.73it/s]"
     ]
    },
    {
     "name": "stdout",
     "output_type": "stream",
     "text": [
      "saving bf at: , with loss: -1.0756\n"
     ]
    },
    {
     "name": "stderr",
     "output_type": "stream",
     "text": [
      " 20%|██        | 404/2000 [00:12<00:48, 32.92it/s]"
     ]
    },
    {
     "name": "stdout",
     "output_type": "stream",
     "text": [
      "saving bf at: , with loss: -1.0756\n"
     ]
    },
    {
     "name": "stderr",
     "output_type": "stream",
     "text": [
      " 25%|██▌       | 504/2000 [00:15<00:45, 32.80it/s]"
     ]
    },
    {
     "name": "stdout",
     "output_type": "stream",
     "text": [
      "saving bf at: , with loss: -1.0757\n"
     ]
    },
    {
     "name": "stderr",
     "output_type": "stream",
     "text": [
      " 30%|███       | 604/2000 [00:18<00:42, 32.87it/s]"
     ]
    },
    {
     "name": "stdout",
     "output_type": "stream",
     "text": [
      "saving bf at: , with loss: -1.0757\n"
     ]
    },
    {
     "name": "stderr",
     "output_type": "stream",
     "text": [
      " 35%|███▌      | 704/2000 [00:21<00:39, 32.55it/s]"
     ]
    },
    {
     "name": "stdout",
     "output_type": "stream",
     "text": [
      "saving bf at: , with loss: -1.0757\n"
     ]
    },
    {
     "name": "stderr",
     "output_type": "stream",
     "text": [
      " 40%|████      | 804/2000 [00:24<00:36, 32.74it/s]"
     ]
    },
    {
     "name": "stdout",
     "output_type": "stream",
     "text": [
      "saving bf at: , with loss: -1.0757\n"
     ]
    },
    {
     "name": "stderr",
     "output_type": "stream",
     "text": [
      " 45%|████▌     | 904/2000 [00:27<00:33, 32.67it/s]"
     ]
    },
    {
     "name": "stdout",
     "output_type": "stream",
     "text": [
      "saving bf at: , with loss: -1.0757\n"
     ]
    },
    {
     "name": "stderr",
     "output_type": "stream",
     "text": [
      " 50%|█████     | 1004/2000 [00:30<00:30, 32.90it/s]"
     ]
    },
    {
     "name": "stdout",
     "output_type": "stream",
     "text": [
      "saving bf at: , with loss: -1.0757\n"
     ]
    },
    {
     "name": "stderr",
     "output_type": "stream",
     "text": [
      " 55%|█████▌    | 1104/2000 [00:33<00:27, 32.78it/s]"
     ]
    },
    {
     "name": "stdout",
     "output_type": "stream",
     "text": [
      "saving bf at: , with loss: -1.0757\n"
     ]
    },
    {
     "name": "stderr",
     "output_type": "stream",
     "text": [
      " 60%|██████    | 1204/2000 [00:36<00:24, 32.83it/s]"
     ]
    },
    {
     "name": "stdout",
     "output_type": "stream",
     "text": [
      "saving bf at: , with loss: -1.0757\n"
     ]
    },
    {
     "name": "stderr",
     "output_type": "stream",
     "text": [
      " 65%|██████▌   | 1304/2000 [00:39<00:21, 33.00it/s]"
     ]
    },
    {
     "name": "stdout",
     "output_type": "stream",
     "text": [
      "saving bf at: , with loss: -1.0757\n"
     ]
    },
    {
     "name": "stderr",
     "output_type": "stream",
     "text": [
      " 70%|███████   | 1404/2000 [00:42<00:18, 32.98it/s]"
     ]
    },
    {
     "name": "stdout",
     "output_type": "stream",
     "text": [
      "saving bf at: , with loss: -1.0757\n"
     ]
    },
    {
     "name": "stderr",
     "output_type": "stream",
     "text": [
      " 75%|███████▌  | 1504/2000 [00:45<00:15, 32.90it/s]"
     ]
    },
    {
     "name": "stdout",
     "output_type": "stream",
     "text": [
      "saving bf at: , with loss: -1.0757\n"
     ]
    },
    {
     "name": "stderr",
     "output_type": "stream",
     "text": [
      " 80%|████████  | 1604/2000 [00:48<00:12, 32.56it/s]"
     ]
    },
    {
     "name": "stdout",
     "output_type": "stream",
     "text": [
      "saving bf at: , with loss: -1.0758\n"
     ]
    },
    {
     "name": "stderr",
     "output_type": "stream",
     "text": [
      " 85%|████████▌ | 1704/2000 [00:51<00:09, 32.85it/s]"
     ]
    },
    {
     "name": "stdout",
     "output_type": "stream",
     "text": [
      "saving bf at: , with loss: -1.0758\n"
     ]
    },
    {
     "name": "stderr",
     "output_type": "stream",
     "text": [
      " 90%|█████████ | 1804/2000 [00:54<00:05, 32.96it/s]"
     ]
    },
    {
     "name": "stdout",
     "output_type": "stream",
     "text": [
      "saving bf at: , with loss: -1.0758\n"
     ]
    },
    {
     "name": "stderr",
     "output_type": "stream",
     "text": [
      " 95%|█████████▌| 1904/2000 [00:57<00:02, 33.04it/s]"
     ]
    },
    {
     "name": "stdout",
     "output_type": "stream",
     "text": [
      "saving bf at: , with loss: -1.0758\n"
     ]
    },
    {
     "name": "stderr",
     "output_type": "stream",
     "text": [
      "100%|██████████| 2000/2000 [01:00<00:00, 33.25it/s]"
     ]
    },
    {
     "name": "stdout",
     "output_type": "stream",
     "text": [
      "saving bf at: , with loss: -1.0758\n"
     ]
    },
    {
     "name": "stderr",
     "output_type": "stream",
     "text": [
      "\n"
     ]
    }
   ],
   "source": [
    "ninit = 0\n",
    "niterations = 2000\n",
    "\n",
    "# torch.autograd.set_detect_anomaly(False)\n",
    "for ito in tqdm(range(niterations)):\n",
    "    optimizer.zero_grad()\n",
    "    for g in optimizer.param_groups:\n",
    "        # g['lr'] = 0.00025\n",
    "        g['lr'] = 0.001\n",
    "\n",
    "    it = ito + ninit\n",
    "    logP_M_all, logdet_M_all, x_transf = model_M_all(X_M_all)\n",
    "    loss = torch.mean(-logP_M_all - logdet_M_all)\n",
    "\n",
    "    loss.backward()\n",
    "    optimizer.step()\n",
    "\n",
    "    if (np.mod(it, int(niterations / 20)) == 0) or (it == niterations - 1):\n",
    "        if float(loss.cpu().detach().numpy()) < loss_min:\n",
    "            loss_min = float(loss.cpu().detach().numpy())\n",
    "            # print(loss1.detach().numpy(), loss2.detach().numpy(), loss3.detach().numpy())\n",
    "            print('saving bf at:', ', with loss:', np.round(loss_min, 4))\n",
    "            # print('saving bf at:', it, ', with loss:', np.round(loss_min, 9))\n",
    "            state = {'loss_min': loss_min, 'state_dict': model_M_all.state_dict(), 'optimizer': optimizer.state_dict()}\n",
    "\n",
    "            torch.save(\n",
    "                state, save_bestfit_model_name\n",
    "                )\n",
    "\n",
    "\n",
    "            "
   ]
  },
  {
   "cell_type": "code",
   "execution_count": 326,
   "metadata": {},
   "outputs": [
    {
     "data": {
      "text/plain": [
       "tensor([-0.4065,  0.9745,  1.1191,  ...,  1.3933,  1.3774,  1.2343],\n",
       "       device='cuda:0', grad_fn=<AsStridedBackward0>)"
      ]
     },
     "execution_count": 326,
     "metadata": {},
     "output_type": "execute_result"
    }
   ],
   "source": [
    "logP_M_all\n"
   ]
  },
  {
   "cell_type": "code",
   "execution_count": 327,
   "metadata": {},
   "outputs": [],
   "source": [
    "# torch.Tensor(np.array([hmf_bh11_pdf])).to('cuda')\n",
    "# np.log(hmf_bh11_pdf)\n",
    "\n"
   ]
  },
  {
   "cell_type": "code",
   "execution_count": 328,
   "metadata": {},
   "outputs": [],
   "source": [
    "# cond_tensor.shape\n",
    "# train_M1\n",
    "# cond_tensor_nsh.shape\n",
    "x_samp = model_M_all.sample(len(all_halo_masses)).cpu().detach().numpy()\n",
    "\n"
   ]
  },
  {
   "cell_type": "code",
   "execution_count": 329,
   "metadata": {},
   "outputs": [],
   "source": [
    "# len(x_samp), len(all_halo_masses)"
   ]
  },
  {
   "cell_type": "code",
   "execution_count": 330,
   "metadata": {},
   "outputs": [],
   "source": [
    "# x_samp\n",
    "x_transf_np = x_transf.cpu().detach().numpy()\n"
   ]
  },
  {
   "cell_type": "code",
   "execution_count": 331,
   "metadata": {},
   "outputs": [
    {
     "data": {
      "text/plain": [
       "Text(0, 0.5, 'Histogram')"
      ]
     },
     "execution_count": 331,
     "metadata": {},
     "output_type": "execute_result"
    },
    {
     "data": {
      "image/png": "[encoded data removed]",
      "text/plain": [
       "<Figure size 800x700 with 1 Axes>"
      ]
     },
     "metadata": {},
     "output_type": "display_data"
    }
   ],
   "source": [
    "# x_samp.shape\n",
    "pl.figure(figsize=(8,7))\n",
    "# _ = pl.hist((x_samp)*(Mmax-Mmin) + Mmin, range=(Mmin,Mmax), bins=100, label='Sampled')\n",
    "# _ = pl.hist((x_transf_np)*(Mmax-Mmin) + Mmin, range=(Mmin,Mmax), bins=100, label='Transformed')\n",
    "# _ = pl.hist((all_halo_masses + 0.5 )*(Mmax - Mmin) + Mmin, histtype='step', density=True, range=(Mmin,Mmax), bins=100, label='Truth')\n",
    "# _ = pl.hist((x_samp + 0.5)*(Mmax-Mmin) + Mmin, bins=100, density=True, label='Sampled')\n",
    "_ = pl.hist((all_halo_masses + 0.5 )*(Mmax - Mmin) + Mmin, histtype='step', bins=100, label='Truth')\n",
    "_ = pl.hist((x_samp + 0.5)*(Mmax-Mmin) + Mmin, bins=100, label='Sampled')\n",
    "\n",
    "\n",
    "# pl.xscale('log')\n",
    "pl.legend(fontsize=18)\n",
    "pl.title(str(delta_min) + r'$ < \\delta <$' + str(delta_max), fontsize=18)\n",
    "pl.yscale('log')\n",
    "pl.xlabel(r'$\\log(M)$', fontsize=20)\n",
    "pl.ylabel(r'Histogram', fontsize=20)\n"
   ]
  },
  {
   "cell_type": "code",
   "execution_count": 75,
   "metadata": {},
   "outputs": [],
   "source": [
    "def interpolate(x: torch.Tensor, xp: torch.Tensor, fp: torch.Tensor) -> torch.Tensor:\n",
    "    \"\"\"One-dimensional linear interpolation for monotonically increasing sample\n",
    "    points.\n",
    "\n",
    "    Returns the one-dimensional piecewise linear interpolant to a function with\n",
    "    given discrete data points :math:`(xp, fp)`, evaluated at :math:`x`.\n",
    "\n",
    "    Args:\n",
    "        x: the :math:`x`-coordinates at which to evaluate the interpolated\n",
    "            values.\n",
    "        xp: the :math:`x`-coordinates of the data points, must be increasing.\n",
    "        fp: the :math:`y`-coordinates of the data points, same length as `xp`.\n",
    "\n",
    "    Returns:\n",
    "        the interpolated values, same size as `x`.\n",
    "    \"\"\"\n",
    "    m = (fp[:,1:] - fp[:,:-1]) / (xp[:,1:] - xp[:,:-1])  #slope\n",
    "    b = fp[:, :-1] - (m.mul(xp[:, :-1]) )\n",
    "\n",
    "    indicies = torch.sum(torch.ge(x[:, :, None], xp[:, None, :]), -1) - 1  #torch.ge:  x[i] >= xp[i] ? true: false\n",
    "    indicies = torch.clamp(indicies, 0, m.shape[-1] - 1)\n",
    "\n",
    "    line_idx = torch.linspace(0, indicies.shape[0], 1, device=indicies.device).to(torch.long)\n",
    "    line_idx = line_idx.expand(indicies.shape)\n",
    "    # idx = torch.cat([line_idx, indicies] , 0)\n",
    "    return m[line_idx, indicies].mul(x) + b[line_idx, indicies]\n",
    "\n",
    "    "
   ]
  },
  {
   "cell_type": "code",
   "execution_count": 76,
   "metadata": {},
   "outputs": [],
   "source": [
    "lgM_rs_tointerp = torch.Tensor(np.array([lgM_rescaled])).to('cuda')\n",
    "hmf_pdf_tointerp = torch.Tensor(np.log(np.array([hmf_bh11_pdf]))).to('cuda')\n",
    "hmf_cdf_tointerp = torch.Tensor(np.array([hmf_bh11_cdf])).to('cuda')\n",
    "\n",
    "\n"
   ]
  },
  {
   "cell_type": "code",
   "execution_count": 77,
   "metadata": {},
   "outputs": [],
   "source": [
    "logp_transf = (interpolate(x_transf[None,:], lgM_rs_tointerp, hmf_pdf_tointerp)[0,:])\n",
    "\n"
   ]
  },
  {
   "cell_type": "code",
   "execution_count": 78,
   "metadata": {},
   "outputs": [],
   "source": [
    "logp_orig = (interpolate(X_M_all[None,:], lgM_rs_tointerp, hmf_pdf_tointerp)[0,:])\n"
   ]
  },
  {
   "cell_type": "code",
   "execution_count": 79,
   "metadata": {},
   "outputs": [
    {
     "data": {
      "text/plain": [
       "tensor([1.7869, 0.0026, 1.4026,  ..., 1.0377, 1.1690, 1.4625], device='cuda:0')"
      ]
     },
     "execution_count": 79,
     "metadata": {},
     "output_type": "execute_result"
    }
   ],
   "source": [
    "logp_orig"
   ]
  },
  {
   "cell_type": "code",
   "execution_count": 80,
   "metadata": {},
   "outputs": [
    {
     "data": {
      "text/plain": [
       "tensor([1.3231, 0.6317, 1.2873,  ..., 1.2341, 1.2562, 1.2939], device='cuda:0',\n",
       "       grad_fn=<SliceBackward0>)"
      ]
     },
     "execution_count": 80,
     "metadata": {},
     "output_type": "execute_result"
    }
   ],
   "source": [
    "logp_transf"
   ]
  },
  {
   "cell_type": "code",
   "execution_count": 81,
   "metadata": {},
   "outputs": [
    {
     "data": {
      "image/png": "[encoded data removed]",
      "text/plain": [
       "<Figure size 640x480 with 1 Axes>"
      ]
     },
     "metadata": {},
     "output_type": "display_data"
    }
   ],
   "source": [
    "# X_M_all\n",
    "# torch.max(logp_orig), torch.min(logp_orig)\n",
    "pl.figure()\n",
    "_ = pl.hist(x_transf.cpu().detach().numpy(), bins=100, label='Transformed', histtype='step')\n",
    "_ = pl.hist(X_M_all.cpu().detach().numpy(), bins=100, label='Original')\n",
    "pl.yscale('log')\n"
   ]
  },
  {
   "cell_type": "code",
   "execution_count": 40,
   "metadata": {},
   "outputs": [
    {
     "data": {
      "text/plain": [
       "(tensor(20.3338, device='cuda:0', grad_fn=<MaxBackward1>),\n",
       " tensor(-6.4338, device='cuda:0', grad_fn=<MinBackward1>))"
      ]
     },
     "execution_count": 40,
     "metadata": {},
     "output_type": "execute_result"
    }
   ],
   "source": [
    "# torch.max(logp_transf), torch.min(logp_transf)\n"
   ]
  },
  {
   "cell_type": "code",
   "execution_count": 35,
   "metadata": {},
   "outputs": [
    {
     "data": {
      "text/plain": [
       "[<matplotlib.lines.Line2D at 0x15545001cbe0>]"
      ]
     },
     "execution_count": 35,
     "metadata": {},
     "output_type": "execute_result"
    },
    {
     "data": {
      "image/png": "[encoded data removed]",
      "text/plain": [
       "<Figure size 640x480 with 1 Axes>"
      ]
     },
     "metadata": {},
     "output_type": "display_data"
    }
   ],
   "source": [
    "# hmf_pdf_tointerp\n",
    "pl.figure()\n",
    "pl.plot(lgM_rescaled, np.log(hmf_bh11_pdf), label='BH11')\n"
   ]
  },
  {
   "cell_type": "code",
   "execution_count": null,
   "metadata": {},
   "outputs": [],
   "source": [
    "ntot = len(all_halo_masses)\n",
    "u = torch.rand(ntot)\n",
    "u = u.to('cuda')\n",
    "# import pdb; pdb.set_trace()\n",
    "# x = interpolate(torch.log(u)[None,:], torch.log(self.hmf_cdf_tointerp[:,1:]), self.lgM_rs_tointerp[:,1:])[0,:]\n",
    "x = interpolate((u)[None,:], (hmf_cdf_tointerp[:,1:]), lgM_rs_tointerp[:,1:])[0,:]\n"
   ]
  },
  {
   "cell_type": "code",
   "execution_count": null,
   "metadata": {},
   "outputs": [],
   "source": []
  },
  {
   "cell_type": "code",
   "execution_count": 57,
   "metadata": {},
   "outputs": [
    {
     "data": {
      "image/png": "[encoded data removed]",
      "text/plain": [
       "<Figure size 640x480 with 1 Axes>"
      ]
     },
     "metadata": {},
     "output_type": "display_data"
    }
   ],
   "source": [
    "# x\n",
    "pl.figure()\n",
    "_ = pl.hist(x.cpu().detach().numpy(), bins=100, range=(0,1), histtype='step', label='Interpolated')\n",
    "_ = pl.hist((all_halo_masses ), histtype='step', range=(0,1), bins=100, label='Truth')\n",
    "pl.yscale('log')\n"
   ]
  },
  {
   "cell_type": "code",
   "execution_count": 54,
   "metadata": {},
   "outputs": [
    {
     "data": {
      "text/plain": [
       "array([0.02058536, 0.2854707 , 0.08130646, ..., 0.13741934, 0.1174221 ,\n",
       "       0.07194368])"
      ]
     },
     "execution_count": 54,
     "metadata": {},
     "output_type": "execute_result"
    }
   ],
   "source": [
    "all_halo_masses"
   ]
  },
  {
   "cell_type": "code",
   "execution_count": null,
   "metadata": {},
   "outputs": [],
   "source": []
  }
 ],
 "metadata": {
  "kernelspec": {
   "display_name": ".venv",
   "language": "python",
   "name": "python3"
  },
  "language_info": {
   "codemirror_mode": {
    "name": "ipython",
    "version": 3
   },
   "file_extension": ".py",
   "mimetype": "text/x-python",
   "name": "python",
   "nbconvert_exporter": "python",
   "pygments_lexer": "ipython3",
   "version": "3.9.15"
  },
  "orig_nbformat": 4
 },
 "nbformat": 4,
 "nbformat_minor": 2
}
