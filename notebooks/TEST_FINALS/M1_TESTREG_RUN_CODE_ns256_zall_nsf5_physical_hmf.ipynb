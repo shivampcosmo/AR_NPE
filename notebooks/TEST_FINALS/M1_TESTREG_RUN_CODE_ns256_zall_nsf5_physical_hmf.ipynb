{
 "cells": [
  {
   "cell_type": "code",
   "execution_count": 1,
   "metadata": {
    "tags": []
   },
   "outputs": [],
   "source": [
    "%reset\n",
    "# !module load texlive\n",
    "import sys, os\n",
    "os.environ[\"CUDA_VISIBLE_DEVICES\"] = \"1\"\n",
    "import matplotlib\n",
    "%matplotlib inline\n",
    "\n",
    "import pickle as pk\n",
    "import numpy as np\n",
    "import matplotlib.pyplot as pl\n",
    "pl.rc('text', usetex=False)\n",
    "# Palatino\n",
    "pl.rc('font', family='DejaVu Sans')\n",
    "import torch\n",
    "\n",
    "dev = torch.device(\"cuda\")\n",
    "# torch.cuda.set_device(dev)\n",
    "import torch.optim as optim\n",
    "from torch.distributions import MultivariateNormal\n",
    "from torch.distributions import Normal\n",
    "# change the root directory for this notebook\n",
    "\n",
    "root_dir = '/mnt/home/spandey/ceph/AR_NPE/'\n",
    "os.chdir(root_dir)\n",
    "import colossus\n",
    "import sys, os\n",
    "from nf.combined_models import COMBINED_Model\n",
    "from nf.all_models import *\n",
    "from nf.utils_data_prep import *\n",
    "from tqdm import tqdm\n",
    "%load_ext autoreload\n",
    "%autoreload 2\n",
    "\n",
    "\n"
   ]
  },
  {
   "cell_type": "code",
   "execution_count": 2,
   "metadata": {},
   "outputs": [],
   "source": [
    "import colossus\n",
    "# set cosmology\n",
    "from colossus.cosmology import cosmology\n",
    "params = {'flat': True, 'H0': 67.11, 'Om0': 0.3175, 'Ob0': 0.049, 'sigma8': 0.834, 'ns': 0.9624}\n",
    "cosmo = cosmology.setCosmology('myCosmo', **params)\n",
    "# get halo mass function:\n",
    "from colossus.lss import mass_function\n",
    "Mmin=13.1\n",
    "Mmax=16.0\n",
    "lgM_array = np.linspace(Mmin, Mmax, 1000)\n",
    "M_array = 10**lgM_array\n",
    "# hmf_tinker = mass_function.massFunction(M_array, 0, mdef = '200c', model = 'tinker08', q_out = 'dndlnM')\n",
    "# hmf_sheth99 = mass_function.massFunction(M_array, 0, mdef = 'fof', model = 'bhattacharya11', q_out = 'dndlnM')\n",
    "hmf_bh11 = mass_function.massFunction(M_array, 0, mdef = 'fof', model = 'bhattacharya11', q_out = 'dndlnM')\n",
    "lgM_rescaled = (lgM_array - Mmin)/(Mmax-Mmin) -0.5\n",
    "\n",
    "int_val = sp.integrate.simps(hmf_bh11, lgM_rescaled)\n",
    "hmf_bh11_pdf = hmf_bh11/int_val\n",
    "# define the cdf of the halo mass function\n",
    "hmf_bh11_cdf = np.zeros_like(hmf_bh11_pdf)\n",
    "for i in range(len(hmf_bh11_cdf)):\n",
    "    hmf_bh11_cdf[i] = sp.integrate.simps(hmf_bh11_pdf[:i+1], lgM_rescaled[:i+1])\n",
    "\n",
    "    \n",
    "\n"
   ]
  },
  {
   "cell_type": "code",
   "execution_count": 3,
   "metadata": {
    "tags": []
   },
   "outputs": [],
   "source": [
    "ji = 0\n",
    "# ns_d = 128\n",
    "ns_d = 256\n",
    "# ns_d = 512\n",
    "nb = 8\n",
    "nax_d = ns_d // nb\n",
    "nf = 3\n",
    "layers_types = ['res', 'res', 'res', 'res']\n",
    "nc = 0\n",
    "for jl in range(len(layers_types)):\n",
    "    if layers_types[jl] == 'cnn':\n",
    "        nc += 1\n",
    "    elif layers_types[jl] == 'res':\n",
    "        nc += 2\n",
    "    else:\n",
    "        raise ValueError(\"layer type not supported\")\n",
    "\n",
    "# z=127 is the initial condition\n",
    "z_all = [0, 127, 'z_0_diff_sig_1', 'z_0_diff_sig_3']\n",
    "# z_all = [0]\n",
    "# ns_h = 128\n",
    "ns_h = 256\n",
    "nax_h = ns_h // nb\n",
    "\n",
    "nsims_per_batch = 32\n",
    "# nbatches_train = nb**3//nsims_per_batch\n",
    "nbatches_train = 16\n",
    "\n",
    "\n",
    "\n",
    "\n"
   ]
  },
  {
   "cell_type": "code",
   "execution_count": 4,
   "metadata": {
    "tags": []
   },
   "outputs": [],
   "source": [
    "hidden_dim_MAF = 5\n",
    "learning_rate = 0.01\n",
    "K_M1 = 5\n",
    "B_M1 = 0.5\n",
    "nflows_M1_NSF = 5\n",
    "\n",
    "K_Mdiff = 5\n",
    "B_Mdiff = 3\n",
    "nflows_Mdiff_NSF = 3\n",
    "\n",
    "# base_dist_M1 = 'gumbel'\n",
    "# base_dist_M1 = 'gauss'\n",
    "base_dist_M1 = 'physical_hmf'\n",
    "base_dist_Mdiff = 'gumbel'\n",
    "ngauss_M1 = 5\n",
    "\n",
    "changelr = False\n",
    "ksize = nf\n",
    "nfeature_cnn = 4\n",
    "nout_cnn = 4 * nfeature_cnn\n",
    "ninp = len(z_all)\n",
    "num_cond = nout_cnn + ninp\n",
    "\n"
   ]
  },
  {
   "cell_type": "code",
   "execution_count": 5,
   "metadata": {
    "tags": []
   },
   "outputs": [
    {
     "name": "stdout",
     "output_type": "stream",
     "text": [
      "0 32\n",
      "32 64\n",
      "64 96\n",
      "96 128\n",
      "128 160\n",
      "160 192\n",
      "192 224\n",
      "224 256\n",
      "256 288\n",
      "288 320\n",
      "320 352\n",
      "352 384\n",
      "384 416\n",
      "416 448\n",
      "448 480\n",
      "480 512\n"
     ]
    }
   ],
   "source": [
    "# Load the density data\n",
    "df_d_all_train, df_d_all_nsh_train, df_Mh_all_train, df_Nh_train = load_density_halo_data_NGP(\n",
    "    ji, ns_d, nb, nf, nc, z_all, ns_h,sdir='/mnt/home/spandey/ceph/Quijote/data_NGP_self'\n",
    "    )\n",
    "\n",
    "# # Prepare the density and halo data\n",
    "return_dict_train = prep_density_halo_cats_batched(\n",
    "    df_d_all_train, df_d_all_nsh_train, df_Mh_all_train, df_Nh_train, nsims=nsims_per_batch,\n",
    "    nbatches = nbatches_train, rescaleM_sub=-0.5\n",
    "    )\n",
    "\n",
    "\n",
    "\n"
   ]
  },
  {
   "cell_type": "code",
   "execution_count": 6,
   "metadata": {},
   "outputs": [
    {
     "data": {
      "text/plain": [
       "(32, 32768)"
      ]
     },
     "execution_count": 6,
     "metadata": {},
     "output_type": "execute_result"
    }
   ],
   "source": [
    "return_dict_train['mask_M1'][0].shape"
   ]
  },
  {
   "cell_type": "code",
   "execution_count": 7,
   "metadata": {
    "tags": []
   },
   "outputs": [],
   "source": [
    "# # return_dict_train['M1_halos_all_norm'][0].shape\n",
    "# # return_dict_train.keys()\n",
    "# pl.figure()\n",
    "# _ = pl.hist((return_dict_train['mask_M1'][0] * return_dict_train['M1_halos_all_norm'][0]).flatten(), bins=100, density=True)\n",
    "# pl.yscale('log')\n"
   ]
  },
  {
   "cell_type": "code",
   "execution_count": 32,
   "metadata": {
    "tags": []
   },
   "outputs": [
    {
     "name": "stdout",
     "output_type": "stream",
     "text": [
      "\n"
     ]
    }
   ],
   "source": [
    "model_Ntot = SumGaussModel(\n",
    "    hidden_dim=hidden_dim_MAF,\n",
    "    num_cond=num_cond,\n",
    "    ngauss=return_dict_train['ngauss_Nhalo'],\n",
    "    mu_all=return_dict_train['mu_all'],\n",
    "    sig_all=return_dict_train['sig_all'],\n",
    "    # base_dist=None\n",
    "    base_dist='pl_exp'    \n",
    "    )\n",
    "# model_Ntot.to(dev)\n",
    "\n",
    "model_M1 = NSF_M1_CNNcond(\n",
    "    K=K_M1,\n",
    "    B=B_M1,\n",
    "    hidden_dim=hidden_dim_MAF,\n",
    "    num_cond=num_cond + 1,\n",
    "    nflows=nflows_M1_NSF,\n",
    "    base_dist=base_dist_M1,\n",
    "    ngauss=ngauss_M1,\n",
    "    # mu_pos=False\n",
    "    mu_pos=True,\n",
    "    lgM_rs_tointerp=lgM_rescaled,\n",
    "    hmf_pdf_tointerp=hmf_bh11_pdf,\n",
    "    hmf_cdf_tointerp=hmf_bh11_cdf    \n",
    "    )\n",
    "\n",
    "model_M1.to(dev)\n",
    "\n",
    "model_M1Reg = M1_reg_model(\n",
    "    hidden_dim=hidden_dim_MAF,\n",
    "    num_cond=num_cond + 1,\n",
    "    )\n",
    "model_M1Reg.to(dev)\n",
    "\n",
    "ndim_diff = return_dict_train['M_diff_halos_all_norm_masked'][0].shape[2]\n",
    "model_Mdiff = NSF_Mdiff_CNNcond(\n",
    "    dim=ndim_diff,\n",
    "    K=K_Mdiff,\n",
    "    B=B_Mdiff,\n",
    "    hidden_dim=hidden_dim_MAF,\n",
    "    num_cond=num_cond + 2,\n",
    "    nflows=nflows_Mdiff_NSF,\n",
    "    base_dist=base_dist_Mdiff,\n",
    "    mu_pos=True\n",
    "    )\n",
    "# model_Mdiff.to(dev)\n",
    "\n",
    "print()\n",
    "\n"
   ]
  },
  {
   "cell_type": "code",
   "execution_count": 33,
   "metadata": {
    "tags": []
   },
   "outputs": [
    {
     "name": "stdout",
     "output_type": "stream",
     "text": [
      "\n"
     ]
    }
   ],
   "source": [
    "ndim = ndim_diff + 1\n",
    "model = COMBINED_Model(\n",
    "    None,\n",
    "    model_Mdiff,\n",
    "    # None,\n",
    "    model_M1,\n",
    "    model_Ntot,\n",
    "    ndim,\n",
    "    ksize,\n",
    "    ns_d,\n",
    "    ns_h,\n",
    "    nb,\n",
    "    ninp,\n",
    "    nfeature_cnn,\n",
    "    nout_cnn,\n",
    "    layers_types=layers_types,\n",
    "    act='tanh',\n",
    "    padding='valid',\n",
    "    sep_Ntot_cond=True,\n",
    "    sep_M1_cond=True,\n",
    "    sep_Mdiff_cond=True,\n",
    "    M1reg_model=model_M1Reg,\n",
    "    )\n",
    "\n",
    "model.to(dev)\n",
    "\n",
    "print()\n",
    "\n",
    "\n"
   ]
  },
  {
   "cell_type": "code",
   "execution_count": 34,
   "metadata": {
    "tags": []
   },
   "outputs": [
    {
     "data": {
      "text/plain": [
       "((16, 32, 4, 48, 48, 48), (16, 32, 4, 32, 32, 32))"
      ]
     },
     "execution_count": 34,
     "metadata": {},
     "output_type": "execute_result"
    }
   ],
   "source": [
    "np.array(return_dict_train['df_d_all']).shape, np.array(return_dict_train['df_d_all_nsh']).shape\n"
   ]
  },
  {
   "cell_type": "code",
   "execution_count": null,
   "metadata": {
    "tags": []
   },
   "outputs": [],
   "source": []
  },
  {
   "cell_type": "code",
   "execution_count": 35,
   "metadata": {
    "tags": []
   },
   "outputs": [],
   "source": [
    "# X_Mdiff.shape"
   ]
  },
  {
   "cell_type": "code",
   "execution_count": 36,
   "metadata": {
    "tags": []
   },
   "outputs": [],
   "source": [
    "optimizer = optim.Adam(model.parameters(), lr=learning_rate)\n",
    "loss_all_it = []\n",
    "loss_min = 1e20\n"
   ]
  },
  {
   "cell_type": "code",
   "execution_count": 116,
   "metadata": {
    "tags": []
   },
   "outputs": [],
   "source": [
    "# save_bestfit_model_name = 'FINAL_COMBINED/BATCHED_model_save_ji' + str(ji) + '_nsd' + str(ns_d) + '_nb' + str(nb) + '_nf' + \\\n",
    "#                 str(nf) + '_nsh' + str(ns_h) + '_nsimperbatch' + str(nsims_per_batch) + '_nbatches' + str(nbatches_train)\n",
    "save_bestfit_model_name = 'FINAL_FINAL_COMBINED/TEST_FINALS_M1_only_zall_nsf5_B11HMF_TESTREG_BATCHED_model_save_ji' + str(ji) + '_nsd' + str(ns_d) + '_nb' + str(nb) + '_nf' + \\\n",
    "                str(nf) + '_nc' + str(nc) + '_nsh' + str(ns_h) + '_nsimperbatch' + str(nsims_per_batch) + '_nbatches' + str(nbatches_train)\n",
    "\n",
    "bestfit_model = (torch.load(save_bestfit_model_name))\n",
    "model.load_state_dict(bestfit_model['state_dict'])\n",
    "optimizer.load_state_dict(bestfit_model['optimizer'])\n",
    "\n",
    "\n"
   ]
  },
  {
   "cell_type": "code",
   "execution_count": 117,
   "metadata": {
    "tags": []
   },
   "outputs": [],
   "source": [
    "# loss_min = 1e20\n",
    "# train_Ntot, train_M1, train_Mdiff = 1, 1, 0\n",
    "# train_Ntot, train_M1, train_Mdiff = 0, 0, 1\n",
    "# train_Ntot, train_M1, train_Mdiff = 0, 1, 0\n",
    "train_Ntot, train_M1, train_Mdiff, reg_M1 = 0, 0, 0, 1\n",
    "# train_Ntot, train_M1, train_Mdiff = 0, 0, 1\n",
    "\n"
   ]
  },
  {
   "cell_type": "code",
   "execution_count": 104,
   "metadata": {},
   "outputs": [
    {
     "name": "stdout",
     "output_type": "stream",
     "text": [
      "[ 9 13  5  7]\n"
     ]
    },
    {
     "name": "stderr",
     "output_type": "stream",
     "text": [
      "100%|██████████| 100/100 [00:27<00:00,  3.66it/s]\n"
     ]
    },
    {
     "name": "stdout",
     "output_type": "stream",
     "text": [
      "[1 8 3 6]\n"
     ]
    },
    {
     "name": "stderr",
     "output_type": "stream",
     "text": [
      "100%|██████████| 100/100 [00:27<00:00,  3.66it/s]\n"
     ]
    },
    {
     "name": "stdout",
     "output_type": "stream",
     "text": [
      "[10 15  0 11]\n"
     ]
    },
    {
     "name": "stderr",
     "output_type": "stream",
     "text": [
      "100%|██████████| 100/100 [00:27<00:00,  3.66it/s]\n"
     ]
    },
    {
     "name": "stdout",
     "output_type": "stream",
     "text": [
      "[ 2  4 12 14]\n"
     ]
    },
    {
     "name": "stderr",
     "output_type": "stream",
     "text": [
      "100%|██████████| 100/100 [00:27<00:00,  3.66it/s]\n"
     ]
    }
   ],
   "source": [
    "torch.cuda.empty_cache()\n",
    "ninit = 0\n",
    "niterations = 400\n",
    "\n",
    "nbatch_downsample_fac = 4\n",
    "batch_all = np.arange(nbatches_train)\n",
    "batch_all = np.random.permutation(batch_all)\n",
    "for jt_batch in range(nbatch_downsample_fac):\n",
    "    batch_min = jt_batch * (nbatches_train // nbatch_downsample_fac)\n",
    "    batch_max = (jt_batch + 1) * (nbatches_train // nbatch_downsample_fac)\n",
    "    nbatches_train_jt = batch_max - batch_min\n",
    "    batch_here = batch_all[batch_min:batch_max]\n",
    "    print(batch_here)\n",
    "    cond_tensor = torch.Tensor(np.array(return_dict_train['df_d_all'])[batch_here,...]).cuda(dev)\n",
    "    # cond_tensor_nsh = torch.Tensor(np.copy(return_dict_train['df_d_all_nsh'].reshape(nsims * (nax_h ** 3), ninp))).cuda(dev)\n",
    "    cond_nsh = np.moveaxis(np.array(return_dict_train['df_d_all_nsh'])[batch_here,...], 2, 5)\n",
    "    # print(cond_nsh.shape)\n",
    "    cond_tensor_nsh = torch.Tensor(np.array(cond_nsh).reshape(nbatches_train_jt,nsims_per_batch * (nax_h ** 3), ninp)).cuda(dev)\n",
    "    mask_tensor_M1_train = torch.Tensor(np.array(return_dict_train['mask_M1'])[batch_here,...].reshape(nbatches_train_jt,nsims_per_batch * (nax_h**3))).cuda(dev)\n",
    "    mask_tensor_Mdiff_train = torch.Tensor((np.array(return_dict_train['mask_M_diff'])[batch_here,...].reshape(nbatches_train_jt,nsims_per_batch * (nax_h**3),\n",
    "                                                                                    ndim_diff))).cuda(dev)\n",
    "\n",
    "    X_M1 = torch.Tensor((np.array(return_dict_train['M1_halos_all_norm'])[batch_here,...].reshape(nbatches_train_jt,nsims_per_batch * (nax_h**3), 1))).cuda(dev)\n",
    "    X_Nhalo = torch.Tensor(np.array(return_dict_train['Nhalo_train_mg_arr'])[batch_here,...].reshape(nbatches_train_jt,nsims_per_batch * (nax_h**3), 1)).cuda(dev)\n",
    "    X_Mdiff = torch.Tensor(np.array(return_dict_train['M_diff_halos_all_norm_masked'])[batch_here,...].reshape(nbatches_train_jt,nsims_per_batch * (nax_h**3),\n",
    "                                                                                    ndim_diff)).cuda(dev)\n",
    "    Nhalos_truth_tensor = torch.Tensor(((np.array(return_dict_train['N_halos_all'])[batch_here,...].reshape(nbatches_train_jt,nsims_per_batch * (nax_h**3), 1)))).cuda(dev)\n",
    "    torch.cuda.empty_cache()\n",
    "    # print(X_Mdiff.shape, X_M1.shape, X_Nhalo.shape, cond_tensor.shape, cond_tensor_nsh.shape, mask_tensor_Mdiff_train.shape, mask_tensor_M1_train.shape, Nhalos_truth_tensor.shape)\n",
    "    for ito in tqdm(range(niterations//nbatch_downsample_fac)):\n",
    "        optimizer.zero_grad()\n",
    "        for g in optimizer.param_groups:\n",
    "            # g['lr'] = 0.00025\n",
    "            g['lr'] = 0.0000025\n",
    "\n",
    "        it = ito + ninit\n",
    "\n",
    "        loss = model(\n",
    "            X_Mdiff,\n",
    "            X_M1,\n",
    "            X_Nhalo,\n",
    "            cond_x=cond_tensor,\n",
    "            cond_x_nsh=cond_tensor_nsh,\n",
    "            mask_Mdiff_truth_all=mask_tensor_Mdiff_train,\n",
    "            mask_M1_truth_all=mask_tensor_M1_train,\n",
    "            Nhalos_truth_all=Nhalos_truth_tensor,\n",
    "            use_Ntot_samples=False,\n",
    "            use_M1_samples=False,\n",
    "            reg_M1=reg_M1,\n",
    "            train_Ntot=train_Ntot,\n",
    "            train_M1=train_M1,\n",
    "            train_Mdiff=train_Mdiff       \n",
    "            )\n",
    "\n",
    "        loss.backward()\n",
    "        optimizer.step()\n",
    "\n",
    "        if (np.mod(it, int(niterations / 20)) == 0) or (it == niterations - 1):\n",
    "            if float(loss.cpu().detach().numpy()) < loss_min:\n",
    "                loss_min = float(loss.cpu().detach().numpy())\n",
    "                # print(loss1.detach().numpy(), loss2.detach().numpy(), loss3.detach().numpy())\n",
    "                print('saving bf at:', ', with loss:', np.round(loss_min, 6))\n",
    "                # print('saving bf at:', it, ', with loss:', np.round(loss_min, 9))\n",
    "                state = {'loss_min': loss_min, 'state_dict': model.state_dict(), 'optimizer': optimizer.state_dict()}\n",
    "\n",
    "                torch.save(\n",
    "                    state, save_bestfit_model_name\n",
    "                    )\n",
    "\n",
    "\n",
    "    torch.cuda.empty_cache()                \n",
    "\n",
    "\n",
    "                "
   ]
  },
  {
   "cell_type": "code",
   "execution_count": 105,
   "metadata": {},
   "outputs": [],
   "source": [
    "# X_M1.shape\n"
   ]
  },
  {
   "cell_type": "code",
   "execution_count": 106,
   "metadata": {
    "tags": []
   },
   "outputs": [],
   "source": [
    "# torch.cuda.empty_cache()\n",
    "# ninit = 0\n",
    "# niterations = 400\n",
    "\n",
    "# nbatch_downsample_fac = 4\n",
    "\n",
    "# for jt_batch in range(nbatch_downsample_fac):\n",
    "\n",
    "#     batch_min = jt_batch * (nbatches_train // nbatch_downsample_fac)\n",
    "#     batch_max = (jt_batch + 1) * (nbatches_train // nbatch_downsample_fac)\n",
    "#     nbatches_train_jt = batch_max - batch_min\n",
    "#     cond_tensor = torch.Tensor(np.array(return_dict_train['df_d_all'])[batch_min:batch_max,...]).cuda(dev)\n",
    "#     # cond_tensor_nsh = torch.Tensor(np.copy(return_dict_train['df_d_all_nsh'].reshape(nsims * (nax_h ** 3), ninp))).cuda(dev)\n",
    "#     cond_nsh = np.moveaxis(np.array(return_dict_train['df_d_all_nsh'])[batch_min:batch_max,...], 2, 5)\n",
    "#     # print(cond_nsh.shape)\n",
    "#     cond_tensor_nsh = torch.Tensor(np.array(cond_nsh).reshape(nbatches_train_jt,nsims_per_batch * (nax_h ** 3), ninp)).cuda(dev)\n",
    "#     mask_tensor_M1_train = torch.Tensor(np.array(return_dict_train['mask_M1'])[batch_min:batch_max,...].reshape(nbatches_train_jt,nsims_per_batch * (nax_h**3))).cuda(dev)\n",
    "#     mask_tensor_Mdiff_train = torch.Tensor((np.array(return_dict_train['mask_M_diff'])[batch_min:batch_max,...].reshape(nbatches_train_jt,nsims_per_batch * (nax_h**3),\n",
    "#                                                                                     ndim_diff))).cuda(dev)\n",
    "\n",
    "#     X_M1 = torch.Tensor((np.array(return_dict_train['M1_halos_all_norm'])[batch_min:batch_max,...].reshape(nbatches_train_jt,nsims_per_batch * (nax_h**3), 1))).cuda(dev)\n",
    "#     X_Nhalo = torch.Tensor(np.array(return_dict_train['Nhalo_train_mg_arr'])[batch_min:batch_max,...].reshape(nbatches_train_jt,nsims_per_batch * (nax_h**3), 1)).cuda(dev)\n",
    "#     X_Mdiff = torch.Tensor(np.array(return_dict_train['M_diff_halos_all_norm_masked'])[batch_min:batch_max,...].reshape(nbatches_train_jt,nsims_per_batch * (nax_h**3),\n",
    "#                                                                                     ndim_diff)).cuda(dev)\n",
    "#     Nhalos_truth_tensor = torch.Tensor(((np.array(return_dict_train['N_halos_all'])[batch_min:batch_max,...].reshape(nbatches_train_jt,nsims_per_batch * (nax_h**3), 1)))).cuda(dev)\n",
    "#     torch.cuda.empty_cache()\n",
    "#     # print(X_Mdiff.shape, X_M1.shape, X_Nhalo.shape, cond_tensor.shape, cond_tensor_nsh.shape, mask_tensor_Mdiff_train.shape, mask_tensor_M1_train.shape, Nhalos_truth_tensor.shape)\n",
    "#     for ito in tqdm(range(niterations//nbatch_downsample_fac)):\n",
    "#         optimizer.zero_grad()\n",
    "#         for g in optimizer.param_groups:\n",
    "#             # g['lr'] = 0.00025\n",
    "#             g['lr'] = 0.00025\n",
    "\n",
    "#         it = ito + ninit\n",
    "\n",
    "#         loss = model(\n",
    "#             X_Mdiff,\n",
    "#             X_M1,\n",
    "#             X_Nhalo,\n",
    "#             cond_x=cond_tensor,\n",
    "#             cond_x_nsh=cond_tensor_nsh,\n",
    "#             mask_Mdiff_truth_all=mask_tensor_Mdiff_train,\n",
    "#             mask_M1_truth_all=mask_tensor_M1_train,\n",
    "#             Nhalos_truth_all=Nhalos_truth_tensor,\n",
    "#             use_Ntot_samples=False,\n",
    "#             use_M1_samples=False,\n",
    "#             train_Ntot=train_Ntot,\n",
    "#             train_M1=train_M1,\n",
    "#             train_Mdiff=train_Mdiff       \n",
    "#             )\n",
    "\n",
    "#         loss.backward()\n",
    "#         optimizer.step()\n",
    "\n",
    "#         if (np.mod(it, int(niterations / 20)) == 0) or (it == niterations - 1):\n",
    "#             if float(loss.cpu().detach().numpy()) < loss_min:\n",
    "#                 loss_min = float(loss.cpu().detach().numpy())\n",
    "#                 # print(loss1.detach().numpy(), loss2.detach().numpy(), loss3.detach().numpy())\n",
    "#                 print('saving bf at:', ', with loss:', np.round(loss_min, 4))\n",
    "#                 # print('saving bf at:', it, ', with loss:', np.round(loss_min, 9))\n",
    "#                 state = {'loss_min': loss_min, 'state_dict': model.state_dict(), 'optimizer': optimizer.state_dict()}\n",
    "\n",
    "#                 torch.save(\n",
    "#                     state, save_bestfit_model_name\n",
    "#                     )\n",
    "\n",
    "\n",
    "#     torch.cuda.empty_cache()                \n",
    "\n",
    "\n",
    "                "
   ]
  },
  {
   "cell_type": "code",
   "execution_count": 107,
   "metadata": {
    "tags": []
   },
   "outputs": [],
   "source": [
    "torch.cuda.empty_cache()\n",
    "\n"
   ]
  },
  {
   "cell_type": "markdown",
   "metadata": {},
   "source": []
  },
  {
   "cell_type": "code",
   "execution_count": 108,
   "metadata": {
    "tags": []
   },
   "outputs": [],
   "source": [
    "# cond_tensor.shape\n",
    "# train_M1\n",
    "# cond_tensor_nsh[None,:].shape, cond_tensor_nsh.shape\n",
    "\n",
    "\n"
   ]
  },
  {
   "cell_type": "code",
   "execution_count": 109,
   "metadata": {},
   "outputs": [],
   "source": [
    "# cond_tensor = cond_tensor.to(dev)\n",
    "# cond_tensor_nsh = cond_tensor_nsh.to(dev)\n",
    "# Ntot_samp, M1_samp, M_diff_samp, mask_tensor_M1_samp, mask_tensor_Mdiff_samp, cond_inp_M1_out_samp = model.inverse(\n",
    "#         cond_x=cond_tensor,\n",
    "#         cond_x_nsh=cond_tensor_nsh,\n",
    "#         use_truth_Nhalo=1-train_Ntot,\n",
    "#             use_truth_M1=1-train_M1,\n",
    "#             use_truth_Mdiff=1-train_Mdiff,    \n",
    "#             mask_Mdiff_truth=mask_tensor_Mdiff_train,\n",
    "#             mask_M1_truth=mask_tensor_M1_train,\n",
    "#             Nhalos_truth=X_Nhalo,\n",
    "#             Mdiff_truth=X_Mdiff,\n",
    "#             M1_truth=X_M1,\n",
    "#             train_Ntot=train_Ntot,\n",
    "#             train_M1=train_M1,\n",
    "#             train_Mdiff=train_Mdiff \n",
    "#         )\n",
    "\n",
    "\n",
    "\n",
    "\n",
    "\n",
    "\n"
   ]
  },
  {
   "cell_type": "code",
   "execution_count": 110,
   "metadata": {},
   "outputs": [],
   "source": [
    "# train_Mdiff\n",
    "# Nhalos_truth_tensor.shape\n",
    "# 2097152/1048576\n",
    "# mask_tensor_M1_train.shape, X_M1.shape\n",
    "# cond_tensor.shape\n",
    "# nsim * nvox // nbatches\n",
    "# 128**3//8\n"
   ]
  },
  {
   "cell_type": "code",
   "execution_count": 111,
   "metadata": {},
   "outputs": [],
   "source": [
    "# np.amin(cond_tensor_nsh.cpu().detach().numpy()[:,0])\n"
   ]
  },
  {
   "cell_type": "code",
   "execution_count": 112,
   "metadata": {},
   "outputs": [],
   "source": [
    "# pl.figure()\n",
    "# jb = 0\n",
    "# indsel = np.where(cond_tensor_nsh[jb].cpu().detach().numpy()[:,0] > 0.0)\n",
    "# _ = pl.hist(Ntot_samp[jb][indsel], histtype='step', bins=[0,1,2,3,4,5,6,7])\n",
    "# _ = pl.hist(Nhalos_truth_tensor[jb].cpu().detach().numpy()[indsel], bins=[0,1,2,3,4,5,6,7])\n",
    "# # xarr = np.arange(9)\n",
    "# # yarr = 4e5*np.exp(-xarr)\n",
    "# # al, bt = 0.0, 1.5\n",
    "# # yarr = 4e5*np.power(1+xarr, al) * np.exp(-bt * xarr)\n",
    "# # yarr = 4e5/xarr**(5)\n",
    "# # pl.plot(xarr, yarr)\n",
    "# # _ = pl.hist(X_Nhalo[:,0].cpu().detach().numpy())\n",
    "# pl.yscale('log')\n",
    "# pl.xlabel('Nhalo')\n",
    "# pl.ylabel('Histogram')\n",
    "\n",
    "\n",
    "\n",
    "\n"
   ]
  },
  {
   "cell_type": "code",
   "execution_count": 113,
   "metadata": {},
   "outputs": [],
   "source": [
    "# mask_tensor_M1_samp[jb].cpu().detach().numpy().shape\n",
    "# M1_samp[0].shape, mask_tensor_M1_samp[0].shape\n",
    "# mask_tensor_M1_train[0].shape\n",
    "\n"
   ]
  },
  {
   "cell_type": "code",
   "execution_count": 114,
   "metadata": {},
   "outputs": [],
   "source": [
    "# jb = 0\n",
    "# pl.figure()\n",
    "# indp = (mask_tensor_M1_samp[jb][:,0].cpu().detach().numpy() > 0)\n",
    "# _ = pl.hist(0.5+M1_samp[jb].cpu().detach().numpy()[indp], bins=100, histtype='step')\n",
    "# indp = (mask_tensor_M1_train[jb].cpu().detach().numpy() > 0)\n",
    "# _ = pl.hist(0.5+X_M1[jb][:,0].cpu().detach().numpy()[indp], bins=100)\n",
    "# pl.yscale('log')\n",
    "# pl.xlabel('M1')\n",
    "# pl.xlim(0,1)\n",
    "# pl.ylabel('Histogram')\n",
    "\n",
    "\n",
    "\n",
    "\n",
    "\n",
    "\n"
   ]
  },
  {
   "cell_type": "code",
   "execution_count": 115,
   "metadata": {},
   "outputs": [],
   "source": [
    "# pl.figure()\n",
    "# ind_M = 0\n",
    "\n",
    "# indp = mask_tensor_Mdiff_samp[jb][:, ind_M] > 0\n",
    "# _ = pl.hist(M_diff_samp[jb][indp,ind_M].cpu().detach().numpy(), range=(0,0.5), histtype='step')\n",
    "# indp = mask_tensor_Mdiff_train[jb][:, ind_M] > 0\n",
    "# _ = pl.hist(X_Mdiff[jb][indp,ind_M].cpu().detach().numpy(), range=(0,0.5))\n",
    "\n",
    "\n",
    "# pl.yscale('log')\n",
    "# pl.xlabel(r'Mj-Mi')\n",
    "# pl.ylabel('Histogram')\n",
    "\n",
    "\n",
    "\n",
    "\n"
   ]
  },
  {
   "cell_type": "code",
   "execution_count": 118,
   "metadata": {},
   "outputs": [
    {
     "name": "stdout",
     "output_type": "stream",
     "text": [
      "0 64\n",
      "64 128\n",
      "128 192\n",
      "192 256\n",
      "256 320\n",
      "320 384\n",
      "384 448\n",
      "448 512\n"
     ]
    }
   ],
   "source": [
    "# now we load the test data\n",
    "nstart = 0\n",
    "nsims_test = 64\n",
    "df_d_all_test, df_d_all_nsh_test, df_Mh_all_test, df_Nh_test = load_density_halo_data_NGP(\n",
    "    0, ns_d, nb, nf, nc, z_all, ns_h,sdir='/mnt/home/spandey/ceph/Quijote/data_NGP_self'\n",
    "    )\n",
    "\n",
    "# things are too big to load all at once, so we load in batches\n",
    "nq = nb**3 // nsims_test\n",
    "save_subvol_Nhalo = np.zeros((nb**3, nax_h, nax_h, nax_h))\n",
    "save_subvol_Nhalo_truth = np.zeros((nb**3, nax_h, nax_h, nax_h))\n",
    "cond_z0_truth = np.zeros((nb**3, nax_h, nax_h, nax_h))\n",
    "save_subvol_M1 = np.zeros((nb**3, nax_h, nax_h, nax_h, 1))\n",
    "save_subvol_M1_truth = np.zeros((nb**3, nax_h, nax_h, nax_h, 1))\n",
    "save_subvol_Mdiff = np.zeros((nb**3, nax_h, nax_h, nax_h, ndim_diff))\n",
    "save_subvol_Mdiff_truth = np.zeros((nb**3, nax_h, nax_h, nax_h, ndim_diff))\n",
    "mask_subvol_Mtot = np.zeros((nb**3, nax_h, nax_h, nax_h, ndim_diff + 1))\n",
    "mask_subvol_Mtot_truth = np.zeros((nb**3, nax_h, nax_h, nax_h, ndim_diff + 1))\n",
    "\n",
    "nfeatures_M1_tot = 20\n",
    "cond_inp_M1_all = np.zeros((nb**3, nax_h, nax_h, nax_h, nfeatures_M1_tot))\n",
    "density_out_M1_loc_all_pad = np.zeros((nb**3, nax_h+6, nax_h+6, nax_h+6))\n",
    "density_out_M1_loc_all = np.zeros((nb**3, nax_h, nax_h, nax_h))\n",
    "\n",
    "nscount = 0\n",
    "for jq in range(nq):\n",
    "    # Load the density data\n",
    "\n",
    "\n",
    "    # Prepare the density and halo data\n",
    "    return_dict_test = prep_density_halo_cats(\n",
    "        df_d_all_test,\n",
    "        df_d_all_nsh_test,\n",
    "        df_Mh_all_test,\n",
    "        df_Nh_test,\n",
    "        nsims=nsims_test,\n",
    "        nstart=nscount,\n",
    "        rescaleM_sub=-0.5\n",
    "        )\n",
    "\n",
    "    cond_tensor_test = torch.Tensor(np.copy(np.array([return_dict_test['df_d_all']]))).cuda(dev)\n",
    "    cond_nsh_test = np.moveaxis(return_dict_test['df_d_all_nsh'], 1, 4)\n",
    "    cond_nsh_test = np.array([cond_nsh_test])\n",
    "    # print(np.array([cond_nsh_test]).shape)\n",
    "    cond_tensor_nsh_test = torch.Tensor(np.copy(cond_nsh_test.reshape(1,nsims_test * (nax_h ** 3), ninp))).cuda(dev)    \n",
    "    # cond_tensor_nsh_test = torch.Tensor(\n",
    "    #     np.copy(return_dict_test['df_d_all_nsh'].reshape(nsims_test * (nax_h**3), ninp))\n",
    "    #     ).cuda(dev)\n",
    "    mask_tensor_M1_test = torch.Tensor(np.copy(return_dict_test['mask_M1'].reshape(1,nsims_test * (nax_h**3)))).cuda(dev)\n",
    "    mask_tensor_Mdiff_test = torch.Tensor(\n",
    "        (return_dict_test['mask_M_diff'].reshape(1,nsims_test * (nax_h**3), ndim_diff))\n",
    "        ).cuda(dev)\n",
    "\n",
    "    X_M1_test = torch.Tensor((return_dict_test['M1_halos_all_norm'].reshape(1,nsims_test * (nax_h**3), 1))).cuda(dev)\n",
    "    X_Nhalo_test = torch.Tensor(return_dict_test['Nhalo_train_mg_arr'].reshape(1,nsims_test * (nax_h**3), 1)).cuda(dev)\n",
    "    X_Mdiff_test = torch.Tensor(\n",
    "        return_dict_test['M_diff_halos_all_norm_masked'].reshape(1,nsims_test * (nax_h**3), ndim_diff)\n",
    "        ).cuda(dev)\n",
    "    Nhalos_truth_tensor_test = torch.Tensor(((return_dict_test['N_halos_all'].reshape(1,nsims_test * (nax_h**3),\n",
    "                                                                                      1)))).cuda(dev)\n",
    "\n",
    "    Ntot_samp_test, M1_samp_test, M_diff_samp_test, mask_tensor_M1_samp_test, mask_tensor_Mdiff_samp_test, cond_inp_M1_test = model.inverse(\n",
    "        cond_x=cond_tensor_test,\n",
    "        cond_x_nsh=cond_tensor_nsh_test,\n",
    "        use_truth_Nhalo=1-train_Ntot,\n",
    "            use_truth_M1=1-train_M1,\n",
    "            use_truth_Mdiff=1-train_Mdiff, \n",
    "        mask_Mdiff_truth=mask_tensor_Mdiff_test,\n",
    "        mask_M1_truth=mask_tensor_M1_test,\n",
    "        Nhalos_truth=X_Nhalo_test,\n",
    "        M1_truth=X_M1_test,\n",
    "        Mdiff_truth=X_Mdiff_test,\n",
    "        train_Ntot=train_Ntot,\n",
    "        train_M1=train_M1,\n",
    "        train_Mdiff=train_Mdiff,\n",
    "        reg_M1=reg_M1\n",
    "        )\n",
    "    Ntot_samp_test = Ntot_samp_test[0][:,np.newaxis]\n",
    "    # print(Ntot_samp_test.shape)\n",
    "    save_subvol_Nhalo[nscount:nscount + nsims_test, ...] = Ntot_samp_test.reshape(nsims_test, nax_h, nax_h, nax_h)\n",
    "    save_subvol_Nhalo_truth[nscount:nscount + nsims_test, ...] = Nhalos_truth_tensor_test.cpu().detach().numpy().reshape(nsims_test, nax_h, nax_h, nax_h)\n",
    "    save_subvol_M1[nscount:nscount + nsims_test,\n",
    "                   ...] = (M1_samp_test[0] * mask_tensor_M1_samp_test[0][:,0]\n",
    "                          ).cpu().detach().numpy().reshape(nsims_test, nax_h, nax_h, nax_h, 1)\n",
    "    save_subvol_M1_truth[nscount:nscount + nsims_test,\n",
    "                   ...] = (X_M1_test[0][:,0] * mask_tensor_M1_test[0]\n",
    "                          ).cpu().detach().numpy().reshape(nsims_test, nax_h, nax_h, nax_h, 1)    \n",
    "    # cond_inp_M1_all[nscount:nscount + nsims_test,\n",
    "    #                ...] = cond_inp_M1_test[0].cpu().detach().numpy().reshape(nsims_test, nax_h, nax_h, nax_h, nfeatures_M1_tot)\n",
    "    # density_out_M1_loc_all_pad[nscount:nscount + nsims_test,...] = (cond_tensor_test[0,:,0,...].cpu().detach().numpy())\n",
    "    # density_out_M1_loc_all[nscount:nscount + nsims_test,...] = (cond_nsh_test[0,...,0])\n",
    "\n",
    "    save_subvol_Mdiff[nscount:nscount + nsims_test,\n",
    "                      ...] = (M_diff_samp_test[0] * mask_tensor_Mdiff_samp_test[0]\n",
    "                             ).cpu().detach().numpy().reshape(nsims_test, nax_h, nax_h, nax_h, ndim_diff)\n",
    "    \n",
    "    save_subvol_Mdiff_truth[nscount:nscount + nsims_test,\n",
    "                      ...] = (X_Mdiff_test[0] * mask_tensor_Mdiff_test[0]\n",
    "                             ).cpu().detach().numpy().reshape(nsims_test, nax_h, nax_h, nax_h, ndim_diff)\n",
    "    \n",
    "    mask_subvol_Mtot[nscount:nscount + nsims_test, ...,\n",
    "                     0] = mask_tensor_M1_samp_test[0].cpu().detach().numpy().reshape(nsims_test, nax_h, nax_h, nax_h)\n",
    "    mask_subvol_Mtot[\n",
    "        nscount:nscount + nsims_test, ...,\n",
    "        1:] = mask_tensor_Mdiff_samp_test[0].cpu().detach().numpy().reshape(nsims_test, nax_h, nax_h, nax_h, ndim_diff)\n",
    "\n",
    "    mask_subvol_Mtot_truth[nscount:nscount + nsims_test, ...,\n",
    "                     0] = mask_tensor_M1_test[0].cpu().detach().numpy().reshape(nsims_test, nax_h, nax_h, nax_h)\n",
    "    mask_subvol_Mtot_truth[\n",
    "        nscount:nscount + nsims_test, ...,\n",
    "        1:] = mask_tensor_Mdiff_test[0].cpu().detach().numpy().reshape(nsims_test, nax_h, nax_h, nax_h, ndim_diff)\n",
    "    \n",
    "    \n",
    "    cond_z0_truth[nscount:nscount + nsims_test, ...] = cond_tensor_nsh_test[0].cpu().detach().numpy().reshape(nsims_test, nax_h, nax_h, nax_h, ninp)[...,0]\n",
    "    # print(nscount, nscount + nsims_test)\n",
    "\n",
    "    nscount += nsims_test\n",
    "    torch.cuda.empty_cache()\n",
    "\n",
    "\n",
    "    \n",
    "    \n",
    "    "
   ]
  },
  {
   "cell_type": "code",
   "execution_count": 119,
   "metadata": {},
   "outputs": [],
   "source": [
    "save_subvol_Mtot = np.zeros((nb**3, nax_h, nax_h, nax_h, ndim_diff + 1))\n",
    "Mmin, Mmax = return_dict_test['Mmin'], return_dict_test['Mmax']\n",
    "for jd in range(ndim_diff + 1):\n",
    "    if jd == 0:\n",
    "        save_subvol_Mtot[..., jd] = (save_subvol_M1[..., 0] + 0.5) * (Mmax - Mmin) + Mmin\n",
    "    else:\n",
    "        save_subvol_Mtot[...,\n",
    "                         jd] = (save_subvol_Mtot[..., jd - 1]) - (save_subvol_Mdiff[..., jd - 1]) * (Mmax - Mmin)\n",
    "\n",
    "\n",
    "save_subvol_Mtot *= mask_subvol_Mtot\n",
    "\n",
    "ind_less_Mmin = save_subvol_Mtot < Mmin\n",
    "ind_greater_Mmax = save_subvol_Mtot > Mmax\n",
    "save_subvol_Mtot[ind_less_Mmin] = 0.0\n",
    "save_subvol_Mtot[ind_greater_Mmax] = 0.0\n",
    "\n",
    "\n",
    "        \n",
    "    \n",
    "    "
   ]
  },
  {
   "cell_type": "code",
   "execution_count": 120,
   "metadata": {},
   "outputs": [],
   "source": [
    "# save_subvol_M1\n"
   ]
  },
  {
   "cell_type": "code",
   "execution_count": 121,
   "metadata": {},
   "outputs": [],
   "source": [
    "save_subvol_Mtot_truth = np.zeros((nb**3, nax_h, nax_h, nax_h, ndim_diff + 1))\n",
    "Mmin, Mmax = return_dict_test['Mmin'], return_dict_test['Mmax']\n",
    "for jd in range(ndim_diff + 1):\n",
    "    if jd == 0:\n",
    "        save_subvol_Mtot_truth[..., jd] = (save_subvol_M1_truth[..., 0] + 0.5) * (Mmax - Mmin) + Mmin\n",
    "    else:\n",
    "        save_subvol_Mtot_truth[...,\n",
    "                         jd] = (save_subvol_Mtot_truth[..., jd - 1]) - (save_subvol_Mdiff_truth[..., jd - 1]) * (Mmax - Mmin)\n",
    "\n",
    "\n",
    "save_subvol_Mtot_truth *= mask_subvol_Mtot_truth\n",
    "\n",
    "# ind_less_Mmin = save_subvol_Mtot < Mmin\n",
    "# ind_greater_Mmax = save_subvol_Mtot > Mmax\n",
    "# save_subvol_Mtot[ind_less_Mmin] = Mmin\n",
    "# save_subvol_Mtot[ind_greater_Mmax] = Mmax\n",
    "\n",
    "\n",
    "        \n",
    "    \n",
    "    "
   ]
  },
  {
   "cell_type": "code",
   "execution_count": 122,
   "metadata": {},
   "outputs": [],
   "source": [
    "sdir='/mnt/home/spandey/ceph/Quijote/data_NGP_self'\n",
    "# load the halo data\n",
    "fname = sdir + '/' + str(0) + '/halos_subvol_res_' + str(ns_h) + '_z=0.pk'\n",
    "df_h = pk.load(open(fname, 'rb'))\n",
    "# This has information on the halo mass for all the halos in the voxel\n",
    "df_Mh_all_truth = df_h['M_halos']\n",
    "df_Mh_all_truth = np.flip(np.sort(df_Mh_all_truth, axis=-1), axis=-1)\n",
    "# This has information on the number of halos in the voxel\n",
    "df_Nh_truth = df_h['N_halos']\n",
    "\n",
    "fname = sdir + '/' + str(0) + '/halos_full_res_' + str(ns_h) + '_z=0.pk'\n",
    "df_h = pk.load(open(fname, 'rb'))\n",
    "df_Mh_all_truth_comb, df_Nh_truth_comb = df_h['M_halos_combined'], df_h['N_halos_combined']\n",
    "\n",
    "\n"
   ]
  },
  {
   "cell_type": "code",
   "execution_count": 126,
   "metadata": {},
   "outputs": [
    {
     "data": {
      "text/plain": [
       "Text(0.5, 1.0, '20.0$< \\\\delta_m < $200.0')"
      ]
     },
     "execution_count": 126,
     "metadata": {},
     "output_type": "execute_result"
    },
    {
     "data": {
      "image/png": "[encoded data removed]",
      "text/plain": [
       "<Figure size 800x600 with 1 Axes>"
      ]
     },
     "metadata": {},
     "output_type": "display_data"
    }
   ],
   "source": [
    "delta_all_z0 = np.exp(df_d_all_nsh_test[:,0,...])-1\n",
    "# delta_min_p, delta_max_p = -1.0, 500.0\n",
    "# delta_min_p, delta_max_p = -0.5, -0.0\n",
    "# delta_min_p, delta_max_p = 20.0, 100.0\n",
    "# delta_min_p, delta_max_p = 20.0, 200.0\n",
    "# delta_min_p, delta_max_p = -1.0, 1.0\n",
    "# delta_min_p, delta_max_p = 1.0, 5.0\n",
    "# delta_min_p, delta_max_p = 5.0, 20.0\n",
    "delta_min_p, delta_max_p = 20.0, 200.0\n",
    "# delta_min_p, delta_max_p = 3.0, 10.0\n",
    "indsel_dp = np.where((delta_all_z0 > delta_min_p) & (delta_all_z0 < delta_max_p))\n",
    "pl.figure(figsize=(8,6))\n",
    "bin_cents = np.linspace(13.1, 16.0, 40)\n",
    "bin_edges = 0.5*(bin_cents[1:] + bin_cents[:-1])\n",
    "delta_b = 0.5*(bin_cents[1] - bin_cents[0])\n",
    "bin_edges = np.insert(bin_edges,0, bin_cents[0] - delta_b)\n",
    "bin_edges = np.insert(bin_edges,len(bin_edges), bin_cents[-1] - delta_b)\n",
    "\n",
    "idim = 0\n",
    "M_idim_truth = df_Mh_all_truth[..., idim]\n",
    "\n",
    "hist_truth, _ = np.histogram(M_idim_truth[indsel_dp].flatten(), bins=bin_edges)\n",
    "# _ = pl.hist(df_Nh_truth[indsel_dp].flatten(), histtype='step', bins=[0,1,2,3,4,5,6,7,8], label='Truth')\n",
    "pl.plot(bin_cents, hist_truth, marker='s', color='k', ls='--', label='Truth')\n",
    "\n",
    "M_idim_samp = save_subvol_Mtot[..., idim]\n",
    "hist_samp, _ = np.histogram(M_idim_samp[indsel_dp].flatten(), bins=bin_edges)\n",
    "# _ = pl.hist(, bins=[0,1,2,3,4,5,6,7,8], label='Sampled')\n",
    "pl.plot(bin_cents, hist_samp, marker='o', color='b', ls='-', label='Sampled')\n",
    "pl.yscale('log')\n",
    "pl.legend(fontsize=15, frameon=False)\n",
    "pl.tick_params(axis='both', which='major', labelsize=15)\n",
    "pl.tick_params(axis='both', which='minor', labelsize=15)\n",
    "pl.xlabel(r'$M$' + str(idim + 1), size=18)\n",
    "pl.ylabel('Histogram', size=18)\n",
    "pl.title(str(delta_min_p) + r'$< \\delta_m < $' + str(delta_max_p), size=18)\n",
    "\n",
    "\n",
    "\n",
    "\n",
    "\n",
    "\n"
   ]
  },
  {
   "cell_type": "code",
   "execution_count": 127,
   "metadata": {},
   "outputs": [],
   "source": [
    "# delta_all_z0 = np.exp(df_d_all_nsh_test[:,0,...])-1\n",
    "# # delta_min_p, delta_max_p = -1.0, -0.5\n",
    "# # delta_min_p, delta_max_p = -0.5, -0.0\n",
    "# # delta_min_p, delta_max_p = -1.0, 0.0\n",
    "# # delta_min_p, delta_max_p = 0.0, 1.0\n",
    "# delta_min_p, delta_max_p = -1.0, 50.0\n",
    "# # delta_min_p, delta_max_p = 3.0, 10.0\n",
    "# indsel_dp = np.where((delta_all_z0 > delta_min_p) & (delta_all_z0 < delta_max_p))\n",
    "# pl.figure(figsize=(8,6))\n",
    "# bin_cents = np.linspace(13.3, 16.0, 10)\n",
    "# bin_edges = 0.5*(bin_cents[1:] + bin_cents[:-1])\n",
    "# delta_b = 0.5*(bin_cents[1] - bin_cents[0])\n",
    "# bin_edges = np.insert(bin_edges,0, bin_cents[0] - delta_b)\n",
    "# bin_edges = np.insert(bin_edges,len(bin_edges), bin_cents[-1] - delta_b)\n",
    "\n",
    "# idim = 0\n",
    "# M_idim_truth = df_Mh_all_truth[..., idim]\n",
    "\n",
    "# hist_truth, _ = np.histogram(M_idim_truth[indsel_dp].flatten(), bins=bin_edges)\n",
    "# # _ = pl.hist(df_Nh_truth[indsel_dp].flatten(), histtype='step', bins=[0,1,2,3,4,5,6,7,8], label='Truth')\n",
    "# pl.plot(bin_cents, hist_truth, marker='s', color='k', ls='--', label='Truth')\n",
    "\n",
    "# M_idim_samp = save_subvol_Mtot[..., idim]\n",
    "# hist_samp, _ = np.histogram(M_idim_samp[indsel_dp].flatten(), bins=bin_edges)\n",
    "# # _ = pl.hist(, bins=[0,1,2,3,4,5,6,7,8], label='Sampled')\n",
    "# pl.plot(bin_cents, hist_samp, marker='o', color='b', ls='-', label='Sampled')\n",
    "# pl.yscale('log')\n",
    "# pl.legend(fontsize=15, frameon=False)\n",
    "# pl.tick_params(axis='both', which='major', labelsize=15)\n",
    "# pl.tick_params(axis='both', which='minor', labelsize=15)\n",
    "# pl.xlabel(r'$M$' + str(idim + 1), size=18)\n",
    "# pl.ylabel('Histogram', size=18)\n",
    "# pl.title(str(delta_min_p) + r'$< \\delta_m < $' + str(delta_max_p), size=18)\n",
    "\n",
    "\n",
    "\n"
   ]
  },
  {
   "cell_type": "code",
   "execution_count": 128,
   "metadata": {},
   "outputs": [],
   "source": [
    "# # make a four panel figure with idim going from 0 to 3 in the rows:\n",
    "\n",
    "# delta_all_z0 = np.exp(df_d_all_nsh_test[:,0,...])-1\n",
    "# delta_min_p, delta_max_p = -1.0, 50.0\n",
    "# indsel_dp = np.where((delta_all_z0 > delta_min_p) & (delta_all_z0 < delta_max_p))\n",
    "# bin_cents = np.linspace(13.3, 16.0, 20)\n",
    "# bin_edges = 0.5*(bin_cents[1:] + bin_cents[:-1])\n",
    "# delta_b = 0.5*(bin_cents[1] - bin_cents[0])\n",
    "# bin_edges = np.insert(bin_edges,0, bin_cents[0] - delta_b)\n",
    "# bin_edges = np.insert(bin_edges,len(bin_edges), bin_cents[-1] - delta_b)\n",
    "\n",
    "# fig, ax = pl.subplots(1,4, figsize=(24,6), sharey=True, sharex=True)\n",
    "# for idim in range(4):\n",
    "#     M_idim_truth = df_Mh_all_truth[..., idim]\n",
    "#     hist_truth, _ = np.histogram(M_idim_truth[indsel_dp].flatten(), bins=bin_edges)\n",
    "#     ax[idim].plot(bin_cents, hist_truth, marker='s', color='k', ls='--', label='Truth')\n",
    "    \n",
    "#     M_idim_samp = save_subvol_Mtot[..., idim]\n",
    "#     hist_sampled, _ = np.histogram(M_idim_samp[indsel_dp].flatten(), bins=bin_edges)\n",
    "#     ax[idim].plot(bin_cents, hist_sampled, marker='o', color='b', ls='-', label='Sampled')\n",
    "#     ax[idim].set_yscale('log')\n",
    "#     ax[idim].tick_params(axis='both', which='major', labelsize=15)\n",
    "#     ax[idim].tick_params(axis='both', which='minor', labelsize=15)\n",
    "    \n",
    "#     if idim == 0:\n",
    "#         ax[idim].set_ylabel('Histogram', size=18)\n",
    "#     ax[idim].set_xlabel(r'$M$' + str(idim + 1), size=18)\n"
   ]
  },
  {
   "cell_type": "code",
   "execution_count": 129,
   "metadata": {},
   "outputs": [],
   "source": [
    "# delta_all_z0 = np.exp(df_d_all_nsh_test[:,0,...])-1\n",
    "# # delta_min_p, delta_max_p = -1.0, -0.5\n",
    "# # delta_min_p, delta_max_p = -0.5, -0.0\n",
    "# # delta_min_p, delta_max_p = -1.0, 0.0\n",
    "# # delta_min_p, delta_max_p = 0.0, 1.0\n",
    "# delta_min_p, delta_max_p = -1.0, 50.0\n",
    "# # delta_min_p, delta_max_p = 3.0, 10.0\n",
    "# indsel_dp = np.where((delta_all_z0 > delta_min_p) & (delta_all_z0 < delta_max_p))\n",
    "# pl.figure(figsize=(8,6))\n",
    "# bin_cents = np.linspace(13.3, 16.0, 10)\n",
    "# bin_edges = 0.5*(bin_cents[1:] + bin_cents[:-1])\n",
    "# delta_b = 0.5*(bin_cents[1] - bin_cents[0])\n",
    "# bin_edges = np.insert(bin_edges,0, bin_cents[0] - delta_b)\n",
    "# bin_edges = np.insert(bin_edges,len(bin_edges), bin_cents[-1] - delta_b)\n",
    "\n",
    "# idim = 1\n",
    "# M_idim_truth = df_Mh_all_truth[..., idim]\n",
    "\n",
    "# hist_truth, _ = np.histogram(M_idim_truth[indsel_dp].flatten(), bins=bin_edges)\n",
    "# # _ = pl.hist(df_Nh_truth[indsel_dp].flatten(), histtype='step', bins=[0,1,2,3,4,5,6,7,8], label='Truth')\n",
    "# pl.plot(bin_cents, hist_truth, marker='s', color='k', ls='--', label='Truth')\n",
    "\n",
    "# M_idim_samp = save_subvol_Mtot[..., idim]\n",
    "# hist_samp, _ = np.histogram(M_idim_samp[indsel_dp].flatten(), bins=bin_edges)\n",
    "# # _ = pl.hist(, bins=[0,1,2,3,4,5,6,7,8], label='Sampled')\n",
    "# pl.plot(bin_cents, hist_samp, marker='o', color='b', ls='-', label='Sampled')\n",
    "# pl.yscale('log')\n",
    "# pl.legend(fontsize=15, frameon=False)\n",
    "# pl.tick_params(axis='both', which='major', labelsize=15)\n",
    "# pl.tick_params(axis='both', which='minor', labelsize=15)\n",
    "# pl.xlabel(r'$M$' + str(idim + 1), size=18)\n",
    "# pl.ylabel('Histogram', size=18)\n",
    "# pl.title(str(delta_min_p) + r'$< \\delta_m < $' + str(delta_max_p), size=18)\n",
    "\n",
    "\n",
    "\n"
   ]
  },
  {
   "cell_type": "code",
   "execution_count": 130,
   "metadata": {},
   "outputs": [
    {
     "name": "stderr",
     "output_type": "stream",
     "text": [
      "100%|██████████| 8/8 [00:00<00:00, 16972.40it/s]\n"
     ]
    }
   ],
   "source": [
    "# create empty arrays for Nhalos and M_halos\n",
    "Nhalos = np.zeros((ns_h, ns_h, ns_h))\n",
    "M_halos = np.zeros((ns_h, ns_h, ns_h, ndim_diff + 1))\n",
    "M_halos_truth = np.zeros((ns_h, ns_h, ns_h, ndim_diff + 1))\n",
    "\n",
    "subvol_size = ns_h // nb\n",
    "\n",
    "ind_cart_lin = {}\n",
    "ind_lin_cart = {}\n",
    "jc = 0\n",
    "from tqdm import tqdm\n",
    "for jx in tqdm(range(nb)):\n",
    "    for jy in range(nb):\n",
    "        for jz in range(nb):\n",
    "            # get the sub-cube\n",
    "            ind_lin_cart[(jx, jy, jz)] = jc\n",
    "            ind_cart_lin[jc] = [jx, jy, jz]\n",
    "            jc += 1\n",
    "            \n",
    "\n",
    "# iterate over subvolumes\n",
    "jc = 0\n",
    "for jx in range(nb):\n",
    "    for jy in range(nb):\n",
    "        for jz in range(nb):\n",
    "            # update Nhalos and M_halos with subvolumes\n",
    "#             Nhalos[jx * subvol_size:(jx + 1) * subvol_size, jy * subvol_size:(jy + 1) * subvol_size,\n",
    "#                    jz * subvol_size:(jz + 1) * subvol_size] = save_subvol_Nhalo[jc]\n",
    "\n",
    "#             M_halos[jx * subvol_size:(jx + 1) * subvol_size, jy * subvol_size:(jy + 1) * subvol_size,\n",
    "#                     jz * subvol_size:(jz + 1) * subvol_size, :] = save_subvol_Mtot[jc]\n",
    "\n",
    "            Nhalos[jx * subvol_size:(jx + 1) * subvol_size, jy * subvol_size:(jy + 1) * subvol_size,\n",
    "                   jz * subvol_size:(jz + 1) * subvol_size] = save_subvol_Nhalo[ind_lin_cart[(jx, jy, jz)]]\n",
    "\n",
    "            M_halos[jx * subvol_size:(jx + 1) * subvol_size, jy * subvol_size:(jy + 1) * subvol_size,\n",
    "                    jz * subvol_size:(jz + 1) * subvol_size, :] = save_subvol_Mtot[ind_lin_cart[(jx, jy, jz)]]\n",
    "            \n",
    "            \n",
    "            jc += 1\n",
    "            \n",
    "            \n",
    "            "
   ]
  },
  {
   "cell_type": "code",
   "execution_count": 131,
   "metadata": {},
   "outputs": [
    {
     "name": "stderr",
     "output_type": "stream",
     "text": [
      "100%|██████████| 8/8 [00:00<00:00, 35098.78it/s]\n"
     ]
    }
   ],
   "source": [
    "# create empty arrays for Nhalos and M_halos\n",
    "Nhalos_truth_recomb = np.zeros((ns_h, ns_h, ns_h))\n",
    "M_halos_truth_recomb = np.zeros((ns_h, ns_h, ns_h, ndim_diff + 1))\n",
    "\n",
    "subvol_size = ns_h // nb\n",
    "\n",
    "ind_cart_lin = {}\n",
    "ind_lin_cart = {}\n",
    "jc = 0\n",
    "from tqdm import tqdm\n",
    "for jx in tqdm(range(nb)):\n",
    "    for jy in range(nb):\n",
    "        for jz in range(nb):\n",
    "            # get the sub-cube\n",
    "            ind_lin_cart[(jx, jy, jz)] = jc\n",
    "            ind_cart_lin[jc] = [jx, jy, jz]\n",
    "            jc += 1\n",
    "            \n",
    "\n",
    "# iterate over subvolumes\n",
    "jc = 0\n",
    "for jx in range(nb):\n",
    "    for jy in range(nb):\n",
    "        for jz in range(nb):\n",
    "            # update Nhalos and M_halos with subvolumes\n",
    "#             Nhalos[jx * subvol_size:(jx + 1) * subvol_size, jy * subvol_size:(jy + 1) * subvol_size,\n",
    "#                    jz * subvol_size:(jz + 1) * subvol_size] = save_subvol_Nhalo[jc]\n",
    "\n",
    "#             M_halos[jx * subvol_size:(jx + 1) * subvol_size, jy * subvol_size:(jy + 1) * subvol_size,\n",
    "#                     jz * subvol_size:(jz + 1) * subvol_size, :] = save_subvol_Mtot[jc]\n",
    "\n",
    "            Nhalos_truth_recomb[jx * subvol_size:(jx + 1) * subvol_size, jy * subvol_size:(jy + 1) * subvol_size,\n",
    "                   jz * subvol_size:(jz + 1) * subvol_size] = df_Nh_truth[ind_lin_cart[(jx, jy, jz)]]\n",
    "\n",
    "            M_halos_truth_recomb[jx * subvol_size:(jx + 1) * subvol_size, jy * subvol_size:(jy + 1) * subvol_size,\n",
    "                    jz * subvol_size:(jz + 1) * subvol_size, :] = df_Mh_all_truth[ind_lin_cart[(jx, jy, jz)]]\n",
    "            \n",
    "            \n",
    "            jc += 1\n",
    "            \n",
    "\n",
    "           \n",
    "            \n"
   ]
  },
  {
   "cell_type": "code",
   "execution_count": 132,
   "metadata": {},
   "outputs": [],
   "source": [
    "# # M_halos.shape\n",
    "M_halos[..., 1:] = M_halos_truth_recomb[...,1:]\n",
    "\n",
    "# M_halos_truth_recomb.shape\n"
   ]
  },
  {
   "cell_type": "code",
   "execution_count": 133,
   "metadata": {},
   "outputs": [
    {
     "data": {
      "text/plain": [
       "(0.0, 100.0)"
      ]
     },
     "execution_count": 133,
     "metadata": {},
     "output_type": "execute_result"
    },
    {
     "data": {
      "image/png": "[encoded data removed]",
      "text/plain": [
       "<Figure size 1800x800 with 3 Axes>"
      ]
     },
     "metadata": {},
     "output_type": "display_data"
    }
   ],
   "source": [
    "# Nhalos_truth_recomb.shape\n",
    "# pl.figure()\n",
    "# pl.imshow(np.log(np.abs(M_halos_truth_recomb[64,:,:,0] - M_halos[64,:,:,0])), origin='lower')\n",
    "# # pl.imshow(np.log(np.abs(M_halos_truth_recomb[64,:,:,0] - M_halos[64,:,:,0])), origin='lower')\n",
    "# pl.imshow(M_halos_truth_recomb[64,:,:,0], vmin=13, vmax=16, origin='lower')\n",
    "# pl.figure()\n",
    "# pl.imshow(, vmin=13, vmax=16, origin='lower')\n",
    "\n",
    "\n",
    "fig, axes = pl.subplots(nrows=1, ncols=3, figsize=(18, 8), sharex=True, sharey=True)\n",
    "fig.subplots_adjust(wspace=0.1, hspace=0.1)\n",
    "\n",
    "# axes[0].imshow(((mesh_truth.preview(axes=[0,1]))))\n",
    "# axes[0].set_title('Truth', size=18)\n",
    "xmin = 0\n",
    "xmax = 100\n",
    "axes[0].imshow(M_halos[80,:,:,0], vmin=13, vmax=16, origin='lower')\n",
    "axes[0].set_title('AR-NPE', size=18)\n",
    "axes[0].set_xlim(xmin,xmax)\n",
    "axes[0].set_ylim(xmin,xmax)\n",
    "\n",
    "axes[1].imshow(M_halos_truth_recomb[80,:,:,0], vmin=13, vmax=16, origin='lower')\n",
    "axes[1].set_title('Truth', size=18)\n",
    "axes[1].set_xlim(xmin,xmax)\n",
    "axes[1].set_ylim(xmin,xmax)\n",
    "\n",
    "# axes[2].imshow((np.abs(10**M_halos_truth_recomb[64,:,:,0] - 10**M_halos[64,:,:,0])/10**M_halos_truth_recomb[64,:,:,0]), vmin=0, vmax=1.0, origin='lower')\n",
    "axes[2].imshow((np.abs(M_halos[80,:,:,0] - M_halos_truth_recomb[80,:,:,0])), vmin=0, vmax=1, origin='lower')\n",
    "axes[2].set_title('AR-NPE - Truth', size=18)\n",
    "axes[2].set_xlim(xmin,xmax)\n",
    "axes[2].set_ylim(xmin,xmax)\n",
    "\n",
    "\n",
    "\n",
    "\n",
    "\n",
    "\n",
    "            "
   ]
  },
  {
   "cell_type": "code",
   "execution_count": 135,
   "metadata": {},
   "outputs": [],
   "source": [
    "# pl.figure()\n",
    "# pl.scatter(Nhalos[64,:,:].flatten() + 0.3*np.random.rand(len(Nhalos[64,:,:].flatten())), Nhalos_truth_recomb[64,:,:].flatten()+ 0.3*np.random.rand(len(Nhalos[64,:,:].flatten())), s=0.5)\n",
    "# pl.plot([0,4],[0,4], color='k', ls='--', lw=1)\n",
    "# pl.xlim(0,4)\n",
    "# pl.ylim(0,4)\n",
    "\n"
   ]
  },
  {
   "cell_type": "code",
   "execution_count": 136,
   "metadata": {},
   "outputs": [],
   "source": [
    "# create the meshgrid\n",
    "zv = 0.0\n",
    "av = 1. / (1 + zv)\n",
    "xall = (np.linspace(0, 1000, ns_h + 1))\n",
    "xarray = av * 0.5 * (xall[1:] + xall[:-1])\n",
    "yarray = np.copy(xarray)\n",
    "zarray = np.copy(xarray)\n",
    "x_cy, y_cy, z_cy = np.meshgrid(xarray, yarray, zarray, indexing='ij')\n",
    "\n",
    "\n"
   ]
  },
  {
   "cell_type": "code",
   "execution_count": 137,
   "metadata": {},
   "outputs": [],
   "source": [
    "# create the meshgrid\n",
    "zv = 0.0\n",
    "av = 1. / (1 + zv)\n",
    "xall = (np.linspace(0, 1000, ns_h + 1))\n",
    "xarray = av * 0.5 * (xall[1:] + xall[:-1])\n",
    "dx = (xall[1] - xall[0])\n",
    "yarray = np.copy(xarray)\n",
    "zarray = np.copy(xarray)\n",
    "x_cy, y_cy, z_cy = np.meshgrid(xarray, yarray, zarray, indexing='ij')\n",
    "\n",
    "x_h_mock, y_h_mock, z_h_mock, lgM_mock = [], [], [], []\n",
    "k = 0\n",
    "for jx in range(ns_h):\n",
    "    for jy in range(ns_h):\n",
    "        for jz in range(ns_h):\n",
    "                Nh_vox = int(Nhalos[jx, jy, jz])\n",
    "                if Nh_vox > 0:\n",
    "                    # for jh in range(Nh_vox):\n",
    "                    # x_h_mock.append(x_cy[jx, jy, jz]*np.random.rand(Nh_vox)*dx)\n",
    "                    # y_h_mock.append(y_cy[jx, jy, jz]*np.random.rand(Nh_vox)*dx)\n",
    "                    # z_h_mock.append(z_cy[jx, jy, jz]*np.random.rand(Nh_vox)*dx)\n",
    "                    x_h_mock.append(x_cy[jx, jy, jz]*np.ones(Nh_vox))\n",
    "                    y_h_mock.append(y_cy[jx, jy, jz]*np.ones(Nh_vox))\n",
    "                    z_h_mock.append(z_cy[jx, jy, jz]*np.ones(Nh_vox))\n",
    "                    \n",
    "                    lgM_mock.append((M_halos[jx, jy, jz, :Nh_vox]))\n",
    "                    k += Nh_vox\n",
    "\n",
    "# convert to numpy arrays\n",
    "x_h_mock = np.concatenate(x_h_mock)\n",
    "y_h_mock = np.concatenate(y_h_mock)\n",
    "z_h_mock = np.concatenate(z_h_mock)\n",
    "pos_h_mock = np.vstack((x_h_mock, y_h_mock, z_h_mock)).T\n",
    "lgMass_mock = np.concatenate(lgM_mock)\n",
    "# convert to float data type\n",
    "pos_h_mock = pos_h_mock.astype('float32')\n",
    "lgMass_mock = lgMass_mock.astype('float32')\n",
    "\n",
    "# import numpy as np\n",
    "# import h5py as h5\n",
    "# with h5.File('/global/cfs/cdirs/lsst/www/shivamp/AR_NPE/run_models/mock_halo_ns' + str(ns_h) + '.h5', 'w') as f:\n",
    "#     # create a new dataset and write the data to it\n",
    "#     f.create_dataset('x_h', data=x_h_mock)\n",
    "#     f.create_dataset('y_h', data=y_h_mock)\n",
    "#     f.create_dataset('z_h', data=z_h_mock)\n",
    "#     f.create_dataset('lgMass_mock', data=lgMass_mock)    \n",
    "#     f.close()\n",
    "\n",
    "    \n"
   ]
  },
  {
   "cell_type": "code",
   "execution_count": 139,
   "metadata": {},
   "outputs": [],
   "source": [
    "\n",
    "# sdir='/pscratch/sd/s/spandey/quijote/Snapshot_fid/Snapshot_fid_density'\n",
    "# # load the halo data\n",
    "# fname = sdir + '/' + str(0) + '/halo_data_dict_' + str(ns_h) + '.pk'\n",
    "# df_h = pk.load(open(fname, 'rb'))\n",
    "# # This has information on the halo mass for all the halos in the voxel\n",
    "# df_Mh_all_truth = df_h['M_halos']\n",
    "# df_Mh_all_truth = np.flip(np.sort(df_Mh_all_truth, axis=-1), axis=-1)\n",
    "# # This has information on the number of halos in the voxel\n",
    "# df_Nh_truth = df_h['N_halos']\n",
    "\n",
    "# df_Mh_all_truth_comb, df_Nh_truth_comb = df_h['M_halos_combined'], df_h['N_halos_combined']\n",
    "\n",
    "sdir='/mnt/home/spandey/ceph/Quijote/data_NGP_self'\n",
    "# load the halo data\n",
    "fname = sdir + '/' + str(0) + '/halos_subvol_res_' + str(ns_h) + '_z=0.pk'\n",
    "df_h = pk.load(open(fname, 'rb'))\n",
    "# This has information on the halo mass for all the halos in the voxel\n",
    "df_Mh_all_truth = df_h['M_halos']\n",
    "df_Mh_all_truth = np.flip(np.sort(df_Mh_all_truth, axis=-1), axis=-1)\n",
    "# This has information on the number of halos in the voxel\n",
    "df_Nh_truth = df_h['N_halos']\n",
    "\n",
    "fname = sdir + '/' + str(0) + '/halos_full_res_' + str(ns_h) + '_z=0.pk'\n",
    "df_h = pk.load(open(fname, 'rb'))\n",
    "df_Mh_all_truth_comb, df_Nh_truth_comb = df_h['M_halos_combined'], df_h['N_halos_combined']\n",
    "\n",
    "\n",
    "\n",
    "\n",
    "# create the meshgrid\n",
    "zv = 0.0\n",
    "av = 1. / (1 + zv)\n",
    "xall = (np.linspace(0, 1000, ns_h + 1))\n",
    "xarray = av * 0.5 * (xall[1:] + xall[:-1])\n",
    "dx = (xall[1] - xall[0])\n",
    "yarray = np.copy(xarray)\n",
    "zarray = np.copy(xarray)\n",
    "x_cy, y_cy, z_cy = np.meshgrid(xarray, yarray, zarray, indexing='ij')\n",
    "\n",
    "x_h_truth, y_h_truth, z_h_truth, lgM_truth = [], [], [], []\n",
    "for jx in range(ns_h):\n",
    "    for jy in range(ns_h):\n",
    "        for jz in range(ns_h):\n",
    "                Nh_vox = int(df_Nh_truth_comb[jx, jy, jz])\n",
    "                if Nh_vox > 0:\n",
    "                    # for jh in range(Nh_vox):\n",
    "                    # x_h_mock.append(x_cy[jx, jy, jz]*np.random.rand(Nh_vox)*dx)\n",
    "                    # y_h_mock.append(y_cy[jx, jy, jz]*np.random.rand(Nh_vox)*dx)\n",
    "                    # z_h_mock.append(z_cy[jx, jy, jz]*np.random.rand(Nh_vox)*dx)\n",
    "                    x_h_truth.append(x_cy[jx, jy, jz]*np.ones(Nh_vox))\n",
    "                    y_h_truth.append(y_cy[jx, jy, jz]*np.ones(Nh_vox))\n",
    "                    z_h_truth.append(z_cy[jx, jy, jz]*np.ones(Nh_vox))\n",
    "                    \n",
    "                    lgM_truth.append((df_Mh_all_truth_comb[jx, jy, jz, :Nh_vox]))\n",
    "\n",
    "# convert to numpy arrays\n",
    "x_h_truth = np.concatenate(x_h_truth)\n",
    "y_h_truth = np.concatenate(y_h_truth)\n",
    "z_h_truth = np.concatenate(z_h_truth)\n",
    "pos_h_truth = np.vstack((x_h_truth, y_h_truth, z_h_truth)).T\n",
    "lgMass_truth = np.concatenate(lgM_truth)\n",
    "# convert to float data type\n",
    "pos_h_truth = pos_h_truth.astype('float32')\n",
    "lgMass_truth = lgMass_truth.astype('float32')\n",
    "\n",
    "import numpy as np\n",
    "import h5py as h5\n",
    "with h5.File('/mnt/home/spandey/ceph/AR_NPE/FINAL_run_models/truth_halo_ns' + str(ns_h) + '.h5', 'w') as f:\n",
    "    # create a new dataset and write the data to it\n",
    "    f.create_dataset('x_h', data=x_h_truth)\n",
    "    f.create_dataset('y_h', data=y_h_truth)\n",
    "    f.create_dataset('z_h', data=z_h_truth)\n",
    "    f.create_dataset('lgMass_mock', data=lgMass_truth)    \n",
    "    f.close()\n",
    "\n",
    "    \n",
    "\n",
    "\n",
    "\n",
    "\n"
   ]
  },
  {
   "cell_type": "code",
   "execution_count": 140,
   "metadata": {},
   "outputs": [
    {
     "data": {
      "image/png": "[encoded data removed]",
      "text/plain": [
       "<Figure size 640x480 with 1 Axes>"
      ]
     },
     "metadata": {},
     "output_type": "display_data"
    }
   ],
   "source": [
    "# ns_h\n",
    "# pos_h_mock\n",
    "pl.figure()\n",
    "_ = pl.hist(lgMass_mock, range=(13, 16))\n",
    "_ = pl.hist(lgMass_truth, range=(13, 16),histtype='step')\n",
    "pl.yscale('log')\n",
    "\n",
    "\n",
    "\n",
    "\n"
   ]
  },
  {
   "cell_type": "code",
   "execution_count": 78,
   "metadata": {},
   "outputs": [],
   "source": [
    "# !pip install Pylians\n"
   ]
  },
  {
   "cell_type": "code",
   "execution_count": 141,
   "metadata": {},
   "outputs": [],
   "source": [
    "# import MAS_library as MASL\n",
    "import sys, os\n",
    "from tqdm import tqdm\n",
    "import readfof\n",
    "import numpy as np\n",
    "import pickle as pk \n",
    "# from nbodykit.lab import *\n",
    "import h5py as h5\n",
    "import numpy as np\n",
    "import Pk_library as PKL\n",
    "import MAS_library as MASL\n",
    "\n"
   ]
  },
  {
   "cell_type": "code",
   "execution_count": 152,
   "metadata": {},
   "outputs": [
    {
     "name": "stdout",
     "output_type": "stream",
     "text": [
      "5979\n",
      "\n",
      "Computing power spectrum of the field...\n",
      "Time to complete loop = 0.55\n",
      "Time taken = 0.72 seconds\n"
     ]
    }
   ],
   "source": [
    "import readfof\n",
    "import MAS_library as MASL\n",
    "snap_dir_base='/mnt/home/spandey/ceph/Quijote/Halos/fiducial'\n",
    "# load the corresponding halo catalogue\n",
    "snapdir = snap_dir_base + '/' + str(0)  #folder hosting the catalogue\n",
    "snapnum=4\n",
    "# determine the redshift of the catalogue\n",
    "# z_dict = {4: 0.0, 3: 0.5, 2: 1.0, 1: 2.0, 0: 3.0}\n",
    "# redshift = z_dict[snapnum]\n",
    "\n",
    "# read the halo catalogue\n",
    "FoF = readfof.FoF_catalog(snapdir, snapnum, long_ids=False, swap=False, SFR=False, read_IDs=False)\n",
    "\n",
    "# get the properties of the halos\n",
    "pos_h_truth = FoF.GroupPos / 1e3  #Halo positions in Mpc/h\n",
    "mass_truth = FoF.GroupMass * 1e10  #Halo masses in Msun/h\n",
    "\n",
    "lgMass_truth = np.log10(mass_truth)\n",
    "\n",
    "# Mmin_Pk, Mmax_Pk = 13.0, 100.0\n",
    "# Mmin_Pk, Mmax_Pk = 14.0, 14.5\n",
    "# Mmin_Pk, Mmax_Pk = 13.5, 14.0\n",
    "Mmin_Pk, Mmax_Pk = 14.5, 16.0\n",
    "# Mmin_Pk, Mmax_Pk = 13, 16\n",
    "indsel_Pk_truth = np.where((lgMass_truth > Mmin_Pk) & (lgMass_truth < Mmax_Pk))[0]\n",
    "print(len(indsel_Pk_truth))\n",
    "# density field parameters\n",
    "grid    = ns_h    #the 3D field will have grid x grid x grid voxels\n",
    "BoxSize = 1000.0 #Mpc/h ; size of box\n",
    "MAS     = 'CIC'  #mass-assigment scheme\n",
    "verbose = True   #print information on progress\n",
    "\n",
    "\n",
    "mesh_truth = np.zeros((grid, grid, grid), dtype=np.float32)\n",
    "pos_truth = pos_h_truth[indsel_Pk_truth,...]\n",
    "MASL.MA(pos_truth, mesh_truth, BoxSize, MAS)\n",
    "mesh_truth /= np.mean(mesh_truth, dtype=np.float64);  mesh_truth -= 1.0\n",
    "Pk_truth = PKL.Pk(mesh_truth, BoxSize, axis=0, MAS=MAS, threads=1)\n",
    "\n",
    "# df_nbkit = {}\n",
    "# lgM_samp = df_samp['lgM_samp_all_f']\n",
    "# df_nbkit['Position'] = np.vstack((df_samp['x_samp_all'], df_samp['y_samp_all'], df_samp['z_samp_all'])).T\n",
    "# df_nbkit['Position'] = pos_h_truth[indsel_Pk_truth,...]\n",
    "# np.vstack((df_samp['x_samp_all'], df_samp['y_samp_all'], df_samp['z_samp_all'])).T.shape\n",
    "# from nbodykit.source.catalog import ArrayCatalog\n",
    "# cat = ArrayCatalog(df_nbkit, BoxSize=1000.0)\n",
    "# mesh_truth = cat.to_mesh(window='nearest', Nmesh=grid, compensated=False, position='Position')\n",
    "# mesh_truth = cat.to_mesh(window='cic', Nmesh=grid, compensated=False, position='Position')\n",
    "# r = FFTPower(mesh_truth, mode='1d', dk=0.05)\n",
    "# Pk_truth = r.power\n",
    "\n",
    "\n",
    "\n",
    "\n",
    "\n",
    "\n",
    "\n"
   ]
  },
  {
   "cell_type": "code",
   "execution_count": 153,
   "metadata": {},
   "outputs": [
    {
     "name": "stdout",
     "output_type": "stream",
     "text": [
      "5979\n",
      "\n",
      "Computing power spectrum of the field...\n",
      "Time to complete loop = 0.55\n",
      "Time taken = 0.72 seconds\n"
     ]
    }
   ],
   "source": [
    "import numpy as np\n",
    "import h5py as h5\n",
    "\n",
    "with h5.File('/mnt/home/spandey/ceph/AR_NPE/FINAL_run_models/truth_halo_ns' + str(ns_h) + '.h5', 'r') as df:\n",
    "    pos_h_truth = np.vstack((df['x_h'][()],df['y_h'][()],df['z_h'][()])).T\n",
    "    lgMass_truth = df['lgMass_mock'][()]\n",
    "indsel_Pk_truth = np.where((lgMass_truth > Mmin_Pk) & (lgMass_truth < Mmax_Pk))[0]\n",
    "print(len(indsel_Pk_truth))\n",
    "# df_nbkit = {}\n",
    "# df_nbkit['Position'] = pos_h_truth[indsel_Pk_truth,...]\n",
    "# from nbodykit.source.catalog import ArrayCatalog\n",
    "# cat = ArrayCatalog(df_nbkit, BoxSize=1000.0)\n",
    "# mesh_truth2 = cat.to_mesh(window='nearest', Nmesh=grid, compensated=False, position='Position')\n",
    "# mesh_truth2 = cat.to_mesh(window='cic', Nmesh=grid, compensated=False, position='Position')\n",
    "# r = FFTPower(mesh_truth2, mode='1d', dk=0.05)\n",
    "# Pk_truth2 = r.power\n",
    "\n",
    "mesh_truth2 = np.zeros((grid, grid, grid), dtype=np.float32)\n",
    "pos_truth2 = (pos_h_truth[indsel_Pk_truth,...]).astype(np.float32)\n",
    "MASL.MA(pos_truth2, mesh_truth2, BoxSize, MAS)\n",
    "mesh_truth2 /= np.mean(mesh_truth2, dtype=np.float64);  mesh_truth2 -= 1.0\n",
    "Pk_truth2 = PKL.Pk(mesh_truth2, BoxSize, axis=0, MAS=MAS, threads=1)\n",
    "\n",
    "\n",
    "\n",
    "\n",
    "\n"
   ]
  },
  {
   "cell_type": "code",
   "execution_count": 154,
   "metadata": {},
   "outputs": [
    {
     "name": "stdout",
     "output_type": "stream",
     "text": [
      "4236\n",
      "\n",
      "Computing power spectrum of the field...\n",
      "Time to complete loop = 0.55\n",
      "Time taken = 0.72 seconds\n"
     ]
    }
   ],
   "source": [
    "import numpy as np\n",
    "import h5py as h5\n",
    "# df = h5.File('/global/cfs/cdirs/lsst/www/shivamp/AR_NPE/run_models/mock_halo_ns256.h5', 'r')\n",
    "# pos_h_mock = np.vstack((df['x_h'][()],df['y_h'][()],df['z_h'][()])).T\n",
    "# lgMass_mock = df['lgMass_mock'][()]\n",
    "\n",
    "\n",
    "indsel_Pk_mock = np.where((lgMass_mock > Mmin_Pk) & (lgMass_mock < Mmax_Pk))[0]\n",
    "print(len(indsel_Pk_mock))\n",
    "# df_nbkit = {}\n",
    "# df_nbkit['Position'] = pos_h_mock[indsel_Pk_mock,...]\n",
    "\n",
    "# from nbodykit.source.catalog import ArrayCatalog\n",
    "# cat = ArrayCatalog(df_nbkit, BoxSize=1000.0)\n",
    "# # mesh_mock = cat.to_mesh(window='nearest', Nmesh=grid, compensated=False, position='Position')\n",
    "# mesh_mock = cat.to_mesh(window='cic', Nmesh=grid, compensated=False, position='Position')\n",
    "# r = FFTPower(mesh_mock, mode='1d', dk=0.05)\n",
    "# Pk_mock = r.power\n",
    "\n",
    "\n",
    "mesh_mock = np.zeros((grid, grid, grid), dtype=np.float32)\n",
    "pos_mock = (pos_h_mock[indsel_Pk_mock,...]).astype(np.float32)\n",
    "MASL.MA(pos_mock, mesh_mock, BoxSize, MAS)\n",
    "mesh_mock /= np.mean(mesh_mock, dtype=np.float64);  mesh_mock -= 1.0\n",
    "Pk_mock = PKL.Pk(mesh_mock, BoxSize, axis=0, MAS=MAS, threads=1)\n",
    "\n",
    "\n",
    "\n",
    "\n",
    "\n"
   ]
  },
  {
   "cell_type": "code",
   "execution_count": 155,
   "metadata": {},
   "outputs": [
    {
     "data": {
      "text/plain": [
       "<matplotlib.legend.Legend at 0x15528ae2b130>"
      ]
     },
     "execution_count": 155,
     "metadata": {},
     "output_type": "execute_result"
    },
    {
     "data": {
      "image/png": "[encoded data removed]",
      "text/plain": [
       "<Figure size 640x480 with 1 Axes>"
      ]
     },
     "metadata": {},
     "output_type": "display_data"
    }
   ],
   "source": [
    "# ns_h\n",
    "# pos_h_mock\n",
    "pl.figure()\n",
    "# _ = pl.hist(lgMass_mock, range=(13.1, 16), bins=40)\n",
    "# _ = pl.hist(lgMass_truth, range=(13.1, 16),histtype='step', bins=40)\n",
    "_ = pl.hist(lgMass_mock, range=(Mmin_Pk, np.minimum(Mmax_Pk,16)), bins=40, label='AR-NPE')\n",
    "_ = pl.hist(lgMass_truth, range=(Mmin_Pk, np.minimum(Mmax_Pk,16)),histtype='step', bins=40, label='Truth')\n",
    "# pl.yscale('log')\n",
    "pl.legend()\n",
    "\n",
    "\n",
    "\n"
   ]
  },
  {
   "cell_type": "code",
   "execution_count": 156,
   "metadata": {},
   "outputs": [
    {
     "name": "stdout",
     "output_type": "stream",
     "text": [
      "\n",
      "Computing power spectra of the fields...\n",
      "Time FFTS = 0.39\n",
      "Time loop = 0.33\n",
      "Time taken = 0.72 seconds\n",
      "\n",
      "Computing power spectra of the fields...\n",
      "Time FFTS = 0.38\n",
      "Time loop = 0.33\n",
      "Time taken = 0.72 seconds\n",
      "\n",
      "Computing power spectra of the fields...\n",
      "Time FFTS = 0.38\n",
      "Time loop = 0.33\n",
      "Time taken = 0.72 seconds\n"
     ]
    }
   ],
   "source": [
    "# r = FFTPower(mesh_truth, second=mesh_mock, mode='1d', dk=0.05)\n",
    "# Pk_mockxtruth = r.power \n",
    "Pk_mockxtruth = PKL.XPk([mesh_truth,mesh_mock], BoxSize, axis=0, MAS=[MAS, MAS], threads=1)\n",
    "\n",
    "\n",
    "# r = FFTPower(mesh_truth2, second=mesh_mock, mode='1d', dk=0.05)\n",
    "# Pk_mockxtruth2 = r.power\n",
    "Pk_mockxtruth2 = PKL.XPk([mesh_truth2,mesh_mock], BoxSize, axis=0, MAS=[MAS, MAS], threads=1)\n",
    "# r = FFTPower(mesh_mock, second=mesh_truth2, mode='1d', dk=0.05)\n",
    "# Pk_mockxtruth2 = r.power\n",
    "\n",
    "\n",
    "# r = FFTPower(mesh_truth2, second=mesh_mock, mode='1d', dk=0.05)\n",
    "# Pk_mockxtruth2 = r.power\n",
    "# r = FFTPower(mesh_truth, second=mesh_truth2, mode='1d', dk=0.05)\n",
    "# Pk_truthxtruth2 = r.power\n",
    "Pk_truthxtruth2 = PKL.XPk([mesh_truth2,mesh_truth], BoxSize, axis=0, MAS=[MAS, MAS], threads=1)\n",
    "\n",
    "\n",
    "\n",
    "\n"
   ]
  },
  {
   "cell_type": "code",
   "execution_count": 157,
   "metadata": {},
   "outputs": [],
   "source": [
    "\n",
    "# mesh_mock\n",
    "# mesh_truth2"
   ]
  },
  {
   "cell_type": "code",
   "execution_count": 158,
   "metadata": {},
   "outputs": [
    {
     "data": {
      "text/plain": [
       "Text(0.5, 1.0, 'AR-NPE')"
      ]
     },
     "execution_count": 158,
     "metadata": {},
     "output_type": "execute_result"
    },
    {
     "data": {
      "image/png": "[encoded data removed]",
      "text/plain": [
       "<Figure size 1800x800 with 3 Axes>"
      ]
     },
     "metadata": {},
     "output_type": "display_data"
    }
   ],
   "source": [
    "fig, axes = pl.subplots(nrows=1, ncols=3, figsize=(18, 8), sharex=True, sharey=True)\n",
    "fig.subplots_adjust(wspace=0.1, hspace=0.1)\n",
    "\n",
    "# axes[0].imshow(((mesh_truth.preview(axes=[0,1]))), vmin=-1.0, vmax=200.0)\n",
    "axes[0].imshow(((mesh_truth[64,...])), vmin=-1.0, vmax=10.0)\n",
    "axes[0].set_title('Truth', size=18)\n",
    "# axes[0].imshow(((mesh_mock.preview(axes=[0,1]) - mesh_truth2.preview(axes=[0,1]))), vmin=-1.0, vmax=200.0)\n",
    "# axes[0].set_title('AR-NPE', size=18)\n",
    "\n",
    "# axes[1].imshow(((mesh_truth2.preview(axes=[0,1]))), vmin=-1.0, vmax=200.0)\n",
    "axes[1].imshow(((mesh_truth2[64,...])), vmin=-1.0, vmax=10.0)\n",
    "axes[1].set_title('Truth voxelized', size=18)\n",
    "# axes[2].imshow(((mesh_mock.preview(axes=[0,1]))), vmin=-1.0, vmax=200.0)\n",
    "axes[2].imshow(((mesh_mock[64,...])), vmin=-1.0, vmax=10.0)\n",
    "axes[2].set_title('AR-NPE', size=18)\n",
    "\n",
    "\n",
    "\n"
   ]
  },
  {
   "cell_type": "code",
   "execution_count": 159,
   "metadata": {},
   "outputs": [
    {
     "data": {
      "text/plain": [
       "(0.0, 32.0)"
      ]
     },
     "execution_count": 159,
     "metadata": {},
     "output_type": "execute_result"
    },
    {
     "data": {
      "image/png": "[encoded data removed]",
      "text/plain": [
       "<Figure size 1800x800 with 3 Axes>"
      ]
     },
     "metadata": {},
     "output_type": "display_data"
    }
   ],
   "source": [
    "fig, axes = pl.subplots(nrows=1, ncols=3, figsize=(18, 8), sharex=True, sharey=True)\n",
    "fig.subplots_adjust(wspace=0.1, hspace=0.1)\n",
    "xmin = 0\n",
    "xmax = 32\n",
    "# axes[0].imshow(((mesh_truth.preview(axes=[0,1]))))\n",
    "axes[0].imshow(((mesh_truth[64,...])))\n",
    "axes[0].set_title('Truth', size=18)\n",
    "axes[0].set_xlim(xmin,xmax)\n",
    "axes[0].set_ylim(xmin,xmax)\n",
    "# axes[1].imshow(((mesh_truth2.preview(axes=[0,1]))))\n",
    "axes[1].imshow(((mesh_truth2[64,...])))\n",
    "axes[1].set_title('Truth voxelized', size=18)\n",
    "axes[1].set_xlim(xmin,xmax)\n",
    "axes[2].set_ylim(xmin,xmax)\n",
    "# axes[2].imshow(((mesh_mock.preview(axes=[0,1]))))\n",
    "axes[2].imshow(((mesh_mock[64,...])))\n",
    "axes[2].set_title('AR-NPE', size=18)\n",
    "axes[2].set_xlim(xmin,xmax)\n",
    "axes[2].set_ylim(xmin,xmax)\n",
    "\n",
    "\n"
   ]
  },
  {
   "cell_type": "code",
   "execution_count": 160,
   "metadata": {},
   "outputs": [],
   "source": [
    "# import matplotlib.pyplot as plt\n",
    "\n",
    "# fig, axes = plt.subplots(nrows=3, ncols=1, figsize=(8, 18), sharex=True)\n",
    "# fig.subplots_adjust(wspace=0.1, hspace=0.1)\n",
    "# # First subplot\n",
    "# axes[0].loglog(Pk_truth['k'], Pk_truth['power'].real - Pk_truth.attrs['shotnoise'], label='Truth', color='b', ls='', marker='s', lw=2.0)\n",
    "# axes[0].loglog(Pk_truth2['k'], Pk_truth2['power'].real - Pk_truth2.attrs['shotnoise'], label='Truth-voxelized', color='r', ls='', marker='D', lw=2.0)\n",
    "# axes[0].loglog(Pk_mock['k'], (Pk_mock['power'].real - Pk_mock.attrs['shotnoise']), label='AR-NPE', color='k', ls='-', marker='o', lw=2.0)\n",
    "\n",
    "\n",
    "# # axes[0].loglog(Pk_truth['k'], Pk_truth['power'].real, label='Truth', color='b', ls='', marker='s', lw=2.0)\n",
    "# # axes[0].loglog(Pk_truth2['k'], Pk_truth2['power'].real, label='Truth-voxelized', color='r', ls='', marker='D', lw=2.0)\n",
    "# # axes[0].loglog(Pk_mock['k'], (Pk_mock['power'].real), label='AR-NPE', color='k', ls='-', marker='o', lw=2.0)\n",
    "\n",
    "# axes[0].legend(fontsize=16, loc='lower left')\n",
    "# # axes[0].set_xlabel(r\"$k$ [$h \\ \\mathrm{Mpc}^{-1}$]\", size=22)\n",
    "# axes[0].set_ylabel(r\"$P(k)$ [$h^{-3}\\mathrm{Mpc}^3$]\", size=18)\n",
    "# # axes[0].set_title(str(Mmin_Pk) + r'$< \\log(M) <$' + str(Mmax_Pk), size=18)\n",
    "# axes[0].tick_params(axis='both', labelsize=15)\n",
    "# # Second subplot\n",
    "# # axes[1].plot(Pk_mock['k'], (Pk_mock['power'].real - Pk_mock.attrs['shotnoise']) / (Pk_truth['power'].real  - Pk_truth.attrs['shotnoise'] ), label='AR-NPE/Truth', color='b', ls='-', marker='o', lw=2.0)\n",
    "# # axes[1].plot(Pk_mock['k'], (Pk_mock['power'].real - Pk_mock.attrs['shotnoise']) / (Pk_truth2['power'].real - Pk_truth2.attrs['shotnoise'] ), label='AR-NPE/Truth-voxelized', color='r', ls='--', marker='D', lw=2.0)\n",
    "\n",
    "# axes[1].plot(Pk_mock['k'], (Pk_mock['power'].real) / (Pk_truth['power'].real), label='AR-NPE/Truth', color='b', ls='-', marker='o', lw=2.0)\n",
    "# axes[1].plot(Pk_mock['k'], (Pk_mock['power'].real) / (Pk_truth2['power'].real), label='AR-NPE/Truth-voxelized', color='r', ls='--', marker='D', lw=2.0)\n",
    "\n",
    "\n",
    "# axes[1].legend(fontsize=16, loc='lower left')\n",
    "# # axes[1].set_xlabel(r\"$k$ [$h \\ \\mathrm{Mpc}^{-1}$]\", size=22)\n",
    "# axes[1].set_ylabel(r\"$P(k)$ ratio\", size=18)\n",
    "# axes[1].axhline(1.0, ls='--', color='k')\n",
    "# axes[1].set_ylim(0.8, 1.2)\n",
    "# axes[1].tick_params(axis='both', labelsize=15)\n",
    "# # axes[1].set_title(str(Mmin_Pk) + r'$< \\log(M) <$' + str(Mmax_Pk), size=20)\n",
    "\n",
    "# # Third subplot\n",
    "# axes[2].plot(Pk_mockxtruth['k'], (Pk_mockxtruth['power'].real) / (((Pk_mock['power'].real) * (Pk_truth['power'].real)) ** 0.5), label='Truth x AR-NPE', color='b', ls='-', marker='s', lw=2.0)\n",
    "# axes[2].plot(Pk_mockxtruth2['k'], (Pk_mockxtruth2['power'].real) / (((Pk_mock['power'].real) * (Pk_truth2['power'].real)) ** 0.5), label='Truth-voxelized x AR-NPE', color='r', ls='--', marker='D', lw=2.0)\n",
    "# # axes[2].plot(Pk_truthxtruth2['k'], (Pk_truthxtruth2['power'].real) / (((Pk_truth['power'].real) * (Pk_truth2['power'].real)) ** 0.5), label='Truth-voxelized x AR-NPE', color='r', ls='--', marker='s', lw=2.0)\n",
    "# # axes[2].set_ylim(0.9, 1.1)\n",
    "# axes[2].axhline(1.0, ls='--', color='k')\n",
    "# axes[2].set_xscale('log')\n",
    "# axes[2].legend(fontsize=16)\n",
    "# axes[2].set_xlabel(r\"$k$ [$h \\ \\mathrm{Mpc}^{-1}$]\", size=18)\n",
    "# axes[2].set_ylabel(r\"Cross-coeff\", size=18)\n",
    "# axes[2].tick_params(axis='both', labelsize=15)\n",
    "# plt.tight_layout()\n",
    "# # plt.savefig('/global/cfs/cdirs/lsst/www/shivamp/AR_NPE/figs/power_comp_ns_' + str(ns_h) + '_lgM' + str(Mmin_Pk) + '_' + str(Mmax_Pk) + '.png', dpi=300) \n",
    "\n",
    "                   "
   ]
  },
  {
   "cell_type": "code",
   "execution_count": 161,
   "metadata": {},
   "outputs": [
    {
     "data": {
      "image/png": "[encoded data removed]",
      "text/plain": [
       "<Figure size 1800x500 with 3 Axes>"
      ]
     },
     "metadata": {},
     "output_type": "display_data"
    }
   ],
   "source": [
    "import matplotlib.pyplot as plt\n",
    "\n",
    "fig, axes = plt.subplots(nrows=1, ncols=3, figsize=(18, 5), sharex=True)\n",
    "fig.subplots_adjust(wspace=0.1, hspace=0.1)\n",
    "# First subplot\n",
    "axes[0].loglog(Pk_truth.k3D, Pk_truth.Pk[:,0], label='Truth', color='b', ls='', marker='s', lw=2.0)\n",
    "axes[0].loglog(Pk_truth2.k3D, Pk_truth2.Pk[:,0], label='Truth-voxelized', color='r', ls='', marker='D', lw=2.0)\n",
    "axes[0].loglog(Pk_mock.k3D, Pk_mock.Pk[:,0], label='AR-NPE', color='k', ls='-', marker='o', lw=2.0)\n",
    "# axes[0].set_ylim(1e3, 1e5)\n",
    "axes[0].set_ylim(1e3, 1e6)\n",
    "\n",
    "# axes[0].loglog(Pk_truth['k'], Pk_truth['power'].real, label='Truth', color='b', ls='', marker='s', lw=2.0)\n",
    "# axes[0].loglog(Pk_truth2['k'], Pk_truth2['power'].real, label='Truth-voxelized', color='r', ls='', marker='D', lw=2.0)\n",
    "# axes[0].loglog(Pk_mock['k'], (Pk_mock['power'].real), label='AR-NPE', color='k', ls='-', marker='o', lw=2.0)\n",
    "\n",
    "axes[0].legend(fontsize=16, loc='lower left')\n",
    "# axes[0].set_xlabel(r\"$k$ [$h \\ \\mathrm{Mpc}^{-1}$]\", size=22)\n",
    "axes[0].set_ylabel(r\"$P(k)$ [$h^{-3}\\mathrm{Mpc}^3$]\", size=18)\n",
    "# axes[0].set_title(str(Mmin_Pk) + r'$< \\log(M) <$' + str(Mmax_Pk), size=18)\n",
    "axes[0].tick_params(axis='both', labelsize=15)\n",
    "# Second subplot\n",
    "# axes[1].plot(Pk_mock['k'], (Pk_mock['power'].real - Pk_mock.attrs['shotnoise']) / (Pk_truth['power'].real  - Pk_truth.attrs['shotnoise'] ), label='AR-NPE/Truth', color='b', ls='-', marker='o', lw=2.0)\n",
    "# axes[1].plot(Pk_mock['k'], (Pk_mock['power'].real - Pk_mock.attrs['shotnoise']) / (Pk_truth2['power'].real - Pk_truth2.attrs['shotnoise'] ), label='AR-NPE/Truth-voxelized', color='r', ls='--', marker='D', lw=2.0)\n",
    "\n",
    "axes[1].plot(Pk_mock.k3D, Pk_mock.Pk[:,0]/ Pk_truth.Pk[:,0], label='AR-NPE/Truth', color='b', ls='-', marker='o', lw=2.0)\n",
    "axes[1].plot(Pk_mock.k3D, Pk_mock.Pk[:,0]/ Pk_truth2.Pk[:,0], label='AR-NPE/Truth-voxelized', color='r', ls='--', marker='D', lw=2.0)\n",
    "\n",
    "\n",
    "axes[1].legend(fontsize=16, loc='lower left')\n",
    "# axes[1].set_xlabel(r\"$k$ [$h \\ \\mathrm{Mpc}^{-1}$]\", size=22)\n",
    "axes[1].set_ylabel(r\"$P(k)$ ratio\", size=18)\n",
    "axes[1].axhline(1.0, ls='--', color='k')\n",
    "# axes[1].set_ylim(0.8, 1.2)\n",
    "axes[1].set_ylim(0.6, 1.6)\n",
    "axes[1].tick_params(axis='both', labelsize=15)\n",
    "\n",
    "\n",
    "# Third subplot\n",
    "# axes[2].plot(Pk_mockxtruth['k'], (Pk_mockxtruth['power'].real) / (((Pk_mock['power'].real) * (Pk_truth['power'].real)) ** 0.5), label='Truth x AR-NPE', color='b', ls='-', marker='s', lw=2.0)\n",
    "# axes[2].plot(Pk_mockxtruth2['k'], (Pk_mockxtruth2['power'].real) / (((Pk_mock['power'].real) * (Pk_truth2['power'].real)) ** 0.5), label='Truth-voxelized x AR-NPE', color='r', ls='--', marker='D', lw=2.0)\n",
    "axes[2].plot(Pk_mockxtruth.k3D, (Pk_mockxtruth.Pk[:,0,0]) / (((Pk_mock.Pk[:,0]) * (Pk_truth.Pk[:,0])) ** 0.5), label='Truth x AR-NPE', color='b', ls='-', marker='s', lw=2.0)\n",
    "axes[2].plot(Pk_mockxtruth2.k3D, (Pk_mockxtruth2.Pk[:,0,0]) / (((Pk_mock.Pk[:,0]) * (Pk_truth2.Pk[:,0])) ** 0.5), label='Truth-voxelized x AR-NPE', color='r', ls='--', marker='D', lw=2.0)\n",
    "\n",
    "\n",
    "# axes[2].plot(Pk_truthxtruth2['k'], (Pk_truthxtruth2['power'].real) / (((Pk_truth['power'].real) * (Pk_truth2['power'].real)) ** 0.5), label='Truth-voxelized x AR-NPE', color='r', ls='--', marker='s', lw=2.0)\n",
    "# axes[2].set_ylim(0.9, 1.1)\n",
    "axes[2].set_ylim(0.7, 1.3)\n",
    "axes[2].axhline(1.0, ls='--', color='k')\n",
    "axes[2].set_xscale('log')\n",
    "axes[2].legend(fontsize=16)\n",
    "axes[0].set_xlabel(r\"$k$ [$h \\ \\mathrm{Mpc}^{-1}$]\", size=18)\n",
    "axes[1].set_xlabel(r\"$k$ [$h \\ \\mathrm{Mpc}^{-1}$]\", size=18)\n",
    "axes[2].set_xlabel(r\"$k$ [$h \\ \\mathrm{Mpc}^{-1}$]\", size=18)\n",
    "axes[2].set_ylabel(r\"Cross-coeff\", size=18)\n",
    "axes[2].tick_params(axis='both', labelsize=15)\n",
    "axes[2].set_xlim(0.01, 0.4)\n",
    "plt.suptitle(str(Mmin_Pk) + r'$< \\log(M) <$' + str(Mmax_Pk), size=20)\n",
    "plt.tight_layout()\n",
    "# plt.savefig('/global/cfs/cdirs/lsst/www/shivamp/AR_NPE/figs/power_comp_ns_' + str(ns_h) + '_lgM' + str(Mmin_Pk) + '_' + str(Mmax_Pk) + '.png', dpi=300) \n",
    "# plt.savefig('/global/cfs/cdirs/lsst/www/shivamp/AR_NPE/figs/power_comp_ns_' + str(ns_h) + '_lgM' + str(Mmin_Pk) + '_' + str(Mmax_Pk) + '.png', dpi=300) \n",
    "\n",
    "\n",
    "                   "
   ]
  },
  {
   "cell_type": "code",
   "execution_count": 75,
   "metadata": {},
   "outputs": [
    {
     "data": {
      "text/plain": [
       "(110,)"
      ]
     },
     "execution_count": 75,
     "metadata": {},
     "output_type": "execute_result"
    }
   ],
   "source": [
    "(((Pk_mock.Pk[:,0]) * (Pk_truth.Pk[:,0])) ** 0.5).shape"
   ]
  },
  {
   "cell_type": "code",
   "execution_count": 76,
   "metadata": {},
   "outputs": [
    {
     "data": {
      "text/plain": [
       "(110,)"
      ]
     },
     "execution_count": 76,
     "metadata": {},
     "output_type": "execute_result"
    }
   ],
   "source": [
    "Pk_mockxtruth.k3D.shape"
   ]
  },
  {
   "cell_type": "code",
   "execution_count": null,
   "metadata": {},
   "outputs": [],
   "source": []
  },
  {
   "cell_type": "code",
   "execution_count": null,
   "metadata": {},
   "outputs": [],
   "source": []
  },
  {
   "cell_type": "code",
   "execution_count": null,
   "metadata": {},
   "outputs": [],
   "source": []
  }
 ],
 "metadata": {
  "kernelspec": {
   "display_name": ".venv",
   "language": "python",
   "name": "python3"
  },
  "language_info": {
   "codemirror_mode": {
    "name": "ipython",
    "version": 3
   },
   "file_extension": ".py",
   "mimetype": "text/x-python",
   "name": "python",
   "nbconvert_exporter": "python",
   "pygments_lexer": "ipython3",
   "version": "3.9.15"
  }
 },
 "nbformat": 4,
 "nbformat_minor": 4
}
