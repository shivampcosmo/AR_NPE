{
 "cells": [
  {
   "cell_type": "code",
   "execution_count": 4,
   "metadata": {},
   "outputs": [],
   "source": [
    "import sys, os\n",
    "os.environ[\"CUDA_VISIBLE_DEVICES\"] = \"0\"\n",
    "# import pickle as pk\n",
    "import numpy as np\n",
    "import torch\n",
    "dev = torch.device(\"cuda\")\n",
    "import torch.optim as optim\n",
    "# from torch.distributions import MultivariateNormal\n",
    "# from torch.distributions import Normal\n",
    "root_dir = '/mnt/home/spandey/ceph/AR_NPE/'\n",
    "os.chdir(root_dir)\n",
    "# import colossus\n",
    "import sys, os\n",
    "# append the root_dir to the path\n",
    "sys.path.append(root_dir)\n",
    "from nf.combined_models import COMBINED_Model\n",
    "from nf.all_models import *\n",
    "from nf.utils_data_prep import *\n",
    "# from tqdm import tqdm\n",
    "# import pyyaml\n",
    "from colossus.cosmology import cosmology\n",
    "params = {'flat': True, 'H0': 67.11, 'Om0': 0.3175, 'Ob0': 0.049, 'sigma8': 0.834, 'ns': 0.9624}\n",
    "cosmo = cosmology.setCosmology('myCosmo', **params)\n",
    "# get halo mass function:\n",
    "from colossus.lss import mass_function\n",
    "from tqdm import tqdm\n",
    "    \n",
    "import yaml\n",
    "\n",
    "# autoreload modules\n",
    "%load_ext autoreload\n",
    "%autoreload 2\n",
    "\n"
   ]
  },
  {
   "cell_type": "code",
   "execution_count": 5,
   "metadata": {},
   "outputs": [],
   "source": [
    "import matplotlib\n",
    "%matplotlib inline\n",
    "import matplotlib.pyplot as pl\n"
   ]
  },
  {
   "cell_type": "code",
   "execution_count": 6,
   "metadata": {},
   "outputs": [],
   "source": [
    "# run_config_name = sys.argv[1]\n",
    "# run_config_name = 'run_test_128_condFPM_uniformcic_fof_lgMmin5e13_wL2norm_highknots.yaml'\n",
    "run_config_name = 'run_Ntot_M1_only_128_condFPM_uniformcic_fof_lgMmin1e13_wL2norm_highknots.yaml'\n",
    "\n",
    "with open(\"/mnt/home/spandey/ceph/AR_NPE/run_configs/\" + run_config_name,\"r\") as file_object:\n",
    "    config=yaml.load(file_object,Loader=yaml.SafeLoader)\n",
    "\n",
    "\n",
    "\n",
    "\n"
   ]
  },
  {
   "cell_type": "code",
   "execution_count": 7,
   "metadata": {},
   "outputs": [],
   "source": [
    "\n",
    "config_sims = config['sim_settings']\n",
    "ji_array = np.arange(int(config_sims['nsims']))\n",
    "ns_d = config_sims['ns_d']\n",
    "nb = config_sims['nb']\n",
    "nax_d =  ns_d // nb\n",
    "nf = config_sims['nf']\n",
    "layers_types = config_sims['layers_types']\n",
    "nc = 0\n",
    "for jl in range(len(layers_types)):\n",
    "    if layers_types[jl] == 'cnn':\n",
    "        nc += 1\n",
    "    elif layers_types[jl] == 'res':\n",
    "        nc += 2\n",
    "    else:\n",
    "        raise ValueError(\"layer type not supported\")\n",
    "\n",
    "z_all = config_sims['z_all']\n",
    "z_all_FP = config_sims['z_all_FP']\n",
    "ns_h = config_sims['ns_h']\n",
    "nax_h = ns_h // nb\n",
    "cond_sim = config_sims['cond_sim']\n",
    "\n",
    "nsims_per_batch = config_sims['nsims_per_batch']\n",
    "nbatches_train = config_sims['nbatches_train']\n",
    "\n",
    "mass_type = config_sims['mass_type']\n",
    "lgMmin = config_sims['lgMmin']\n",
    "lgMmax = config_sims['lgMmax']\n",
    "stype = config_sims['stype']\n",
    "rescale_sub = config_sims['rescale_sub']\n",
    "lgMmincutstr = config_sims['lgMmincutstr']\n",
    "subsel_highM1 = config_sims['subsel_highM1']\n",
    "nsubsel = config_sims['nsubsel']\n",
    "is_HR = config_sims['is_HR']\n",
    "\n",
    "try:\n",
    "    Nmax = config_sims['Nmax']\n",
    "except:\n",
    "    Nmax = 4\n",
    "\n",
    "config_net = config['network_settings']\n",
    "hidden_dim_MAF = config_net['hidden_dim_MAF']\n",
    "learning_rate = config_net['learning_rate']\n",
    "K_M1 = config_net['K_M1']\n",
    "B_M1 = config_net['B_M1']\n",
    "nflows_M1_NSF = config_net['nflows_M1_NSF']\n",
    "\n",
    "K_Mdiff = config_net['K_Mdiff']\n",
    "B_Mdiff = config_net['B_Mdiff']\n",
    "nflows_Mdiff_NSF = config_net['nflows_Mdiff_NSF']\n",
    "\n",
    "base_dist_Ntot = config_net['base_dist_Ntot']\n",
    "if base_dist_Ntot == 'None':\n",
    "    base_dist_Ntot = None\n",
    "base_dist_M1 = config_net['base_dist_M1']\n",
    "base_dist_Mdiff = config_net['base_dist_Mdiff']\n",
    "ngauss_M1 = config_net['ngauss_M1']\n",
    "\n",
    "changelr = config_net['changelr']\n",
    "ksize = nf\n",
    "nfeature_cnn = config_net['nfeature_cnn']\n",
    "nout_cnn = 4 * nfeature_cnn\n",
    "if cond_sim == 'fastpm':\n",
    "    ninp = len(z_all_FP)\n",
    "elif cond_sim == 'quijote':\n",
    "    ninp = len(z_all)\n",
    "else:\n",
    "    raise ValueError(\"cond_sim not supported\")\n",
    "\n",
    "num_cond = nout_cnn + ninp\n",
    "\n",
    "\n",
    "\n"
   ]
  },
  {
   "cell_type": "code",
   "execution_count": 8,
   "metadata": {},
   "outputs": [],
   "source": [
    "df_d_all_train, df_d_all_nsh_train, df_Mh_all_train, df_Nh_train, ind_subsel_train = load_density_halo_data_NGP(\n",
    "    ji_array, ns_d, nb, nf, nc, z_all, ns_h,sdir='/mnt/home/spandey/ceph/Quijote/data_NGP_self',\n",
    "    stype=stype, mass_type=mass_type, lgMmincutstr = lgMmincutstr, subsel_highM1=subsel_highM1, nsubsel=nsubsel, is_HR = is_HR\n",
    "    )\n",
    "\n",
    "# # Prepare the density and halo data\n",
    "return_dict_train = prep_density_halo_cats_batched(\n",
    "    df_d_all_train, df_d_all_nsh_train, df_Mh_all_train, df_Nh_train, nsims=nsims_per_batch,\n",
    "    nbatches = nbatches_train, Mmin=lgMmin, Mmax=lgMmax, rescaleM_sub=rescale_sub, Nmax=Nmax\n",
    "    )\n",
    "\n",
    "if cond_sim == 'fastpm':\n",
    "    df_d_all_train_FP, df_d_all_nsh_train_FP, df_Mh_all_train_FP, df_Nh_train_FP, ind_subsel_train_FP = load_density_halo_data_NGP(\n",
    "        ji_array, ns_d, nb, nf, nc, z_all_FP, ns_h, stype=stype,sdir='/mnt/home/spandey/ceph/Quijote/data_NGP_self/fastpm', subsel_highM1=subsel_highM1, ind_subsel=ind_subsel_train\n",
    "        )\n",
    "\n",
    "    # # Prepare the density and halo data\n",
    "    return_dict_train_FP = prep_density_halo_cats_batched(\n",
    "        df_d_all_train_FP, df_d_all_nsh_train_FP, df_Mh_all_train_FP, df_Nh_train_FP, nsims=nsims_per_batch,\n",
    "        nbatches = nbatches_train, Mmin=lgMmin, Mmax=lgMmax, rescaleM_sub=rescale_sub\n",
    "        )\n",
    "else:\n",
    "    return_dict_train_FP = None\n",
    "\n",
    "    "
   ]
  },
  {
   "cell_type": "code",
   "execution_count": 9,
   "metadata": {},
   "outputs": [
    {
     "data": {
      "text/plain": [
       "dict_keys(['df_d_all', 'df_d_all_nsh', 'M_halos_all_sort_norm', 'Mmin', 'Mmax', 'Nmax', 'mask_M_diff', 'mask_M1', 'M1_halos_all_norm', 'M_diff_halos_all_norm_masked', 'Nhalo_train_mg_arr', 'N_halos_all', 'mu_all', 'sig_all', 'ngauss_Nhalo'])"
      ]
     },
     "execution_count": 9,
     "metadata": {},
     "output_type": "execute_result"
    }
   ],
   "source": [
    "# len(ind_subsel_train_FP), len(ind_subsel_train)\n",
    "return_dict_train.keys()\n",
    "# df_d_all_train.shape\n",
    "# ji_array\n",
    "\n",
    "\n"
   ]
  },
  {
   "cell_type": "code",
   "execution_count": 10,
   "metadata": {},
   "outputs": [
    {
     "data": {
      "text/plain": [
       "((512, 16, 16, 16), (512, 4096))"
      ]
     },
     "execution_count": 10,
     "metadata": {},
     "output_type": "execute_result"
    }
   ],
   "source": [
    "# return_dict_train['df_d_all'].shape, return_dict_train_FP['df_d_all'].shape\n",
    "# return_dict_train['M_halos_all_sort_norm'].shape, return_dict_train_FP['M_halos_all_sort_norm'].shape\n",
    "# return_dict_train['M_diff_halos_all_norm_masked'].shape\n",
    "return_dict_train['df_d_all_nsh'][0,:,0,...].shape, return_dict_train['N_halos_all'][0,...].shape\n"
   ]
  },
  {
   "cell_type": "code",
   "execution_count": 11,
   "metadata": {},
   "outputs": [
    {
     "data": {
      "image/png": "[encoded data removed]",
      "text/plain": [
       "<Figure size 640x480 with 1 Axes>"
      ]
     },
     "metadata": {},
     "output_type": "display_data"
    }
   ],
   "source": [
    "pl.figure()\n",
    "_ = pl.scatter(return_dict_train['df_d_all_nsh'][0,:,0,...].flatten()[::100], return_dict_train['N_halos_all'][0,...].flatten()[::100], s=0.1)\n"
   ]
  },
  {
   "cell_type": "code",
   "execution_count": 12,
   "metadata": {},
   "outputs": [
    {
     "data": {
      "image/png": "[encoded data removed]",
      "text/plain": [
       "<Figure size 640x480 with 1 Axes>"
      ]
     },
     "metadata": {},
     "output_type": "display_data"
    }
   ],
   "source": [
    "pl.figure()\n",
    "_ = pl.scatter(return_dict_train['df_d_all_nsh'][0,:,0,...].flatten()[::100], return_dict_train['M1_halos_all_norm'][0,...].flatten()[::100], s=0.1)\n",
    "\n"
   ]
  },
  {
   "cell_type": "code",
   "execution_count": 54,
   "metadata": {},
   "outputs": [
    {
     "data": {
      "text/plain": [
       "(1, 2000)"
      ]
     },
     "execution_count": 54,
     "metadata": {},
     "output_type": "execute_result"
    },
    {
     "data": {
      "image/png": "[encoded data removed]",
      "text/plain": [
       "<Figure size 640x480 with 1 Axes>"
      ]
     },
     "metadata": {},
     "output_type": "display_data"
    }
   ],
   "source": [
    "pl.figure()\n",
    "_ = pl.hist(return_dict_train['M_diff_halos_all_norm_masked'][...,0].flatten(), bins=500, range=(0,1.0), histtype='step', label='z=0')\n",
    "_ = pl.hist(return_dict_train['M_diff_halos_all_norm_masked'][...,1].flatten(), bins=500, range=(0,1.0), alpha=0.3)\n",
    "_ = pl.hist(return_dict_train['M_diff_halos_all_norm_masked'][...,2].flatten(), bins=500, range=(0,1.0), alpha=0.3)\n",
    "_ = pl.hist(return_dict_train['M_diff_halos_all_norm_masked'][...,6].flatten(), bins=500, range=(0,1.0), alpha=0.3)\n",
    "pl.yscale('log')\n",
    "pl.ylim(1,2000)\n"
   ]
  },
  {
   "cell_type": "code",
   "execution_count": 67,
   "metadata": {},
   "outputs": [
    {
     "data": {
      "text/plain": [
       "2433"
      ]
     },
     "execution_count": 67,
     "metadata": {},
     "output_type": "execute_result"
    }
   ],
   "source": [
    "# return_dict_train['df_d_all'].shape\n",
    "# return_dict_train['M_diff_halos_all_norm_masked'].shape\n",
    "len(np.nonzero(return_dict_train['M_diff_halos_all_norm_masked'][...,3].flatten())[0])\n",
    "# len(return_dict_train['M_diff_halos_all_norm_masked'][...,6].flatten())\n",
    "\n"
   ]
  },
  {
   "cell_type": "code",
   "execution_count": 60,
   "metadata": {},
   "outputs": [
    {
     "data": {
      "text/plain": [
       "(array([     28,      32,      48, ..., 2097099, 2097102, 2097135]),)"
      ]
     },
     "execution_count": 60,
     "metadata": {},
     "output_type": "execute_result"
    }
   ],
   "source": [
    "np.nonzero(return_dict_train['M_diff_halos_all_norm_masked'][...,0].flatten())\n",
    "\n"
   ]
  },
  {
   "cell_type": "code",
   "execution_count": 33,
   "metadata": {},
   "outputs": [
    {
     "data": {
      "text/plain": [
       "<matplotlib.image.AxesImage at 0x1553e06ecd90>"
      ]
     },
     "execution_count": 33,
     "metadata": {},
     "output_type": "execute_result"
    },
    {
     "data": {
      "image/png": "[encoded data removed]",
      "text/plain": [
       "<Figure size 640x480 with 1 Axes>"
      ]
     },
     "metadata": {},
     "output_type": "display_data"
    },
    {
     "data": {
      "image/png": "[encoded data removed]",
      "text/plain": [
       "<Figure size 640x480 with 1 Axes>"
      ]
     },
     "metadata": {},
     "output_type": "display_data"
    }
   ],
   "source": [
    "indp = 109\n",
    "\n",
    "pl.figure()\n",
    "pl.imshow(return_dict_train['df_d_all_nsh'][0,indp, 0, 8, :, :])\n",
    "pl.figure()\n",
    "pl.imshow(return_dict_train_FP['df_d_all_nsh'][0,indp, 0, 8, :, :])\n",
    "\n"
   ]
  },
  {
   "cell_type": "code",
   "execution_count": 34,
   "metadata": {},
   "outputs": [
    {
     "data": {
      "text/plain": [
       "<matplotlib.image.AxesImage at 0x1553f8244790>"
      ]
     },
     "execution_count": 34,
     "metadata": {},
     "output_type": "execute_result"
    },
    {
     "data": {
      "image/png": "[encoded data removed]",
      "text/plain": [
       "<Figure size 640x480 with 1 Axes>"
      ]
     },
     "metadata": {},
     "output_type": "display_data"
    },
    {
     "data": {
      "image/png": "[encoded data removed]",
      "text/plain": [
       "<Figure size 640x480 with 1 Axes>"
      ]
     },
     "metadata": {},
     "output_type": "display_data"
    }
   ],
   "source": [
    "# indp = 10\n",
    "import matplotlib\n",
    "%matplotlib inline\n",
    "import matplotlib.pyplot as pl\n",
    "pl.figure()\n",
    "pl.imshow(return_dict_train['M_halos_all_sort_norm'][0,indp,:, 0].reshape(16,16,16)[8,:,:])\n",
    "pl.figure()\n",
    "pl.imshow(return_dict_train_FP['M_halos_all_sort_norm'][0,indp,:,0].reshape(16,16,16)[8,:,:])\n",
    "\n"
   ]
  },
  {
   "cell_type": "code",
   "execution_count": 13,
   "metadata": {},
   "outputs": [],
   "source": [
    "lgM_array = np.linspace(lgMmin, lgMmax, 1000)\n",
    "M_array = 10**lgM_array\n",
    "if '200c' in mass_type:\n",
    "    hmf = mass_function.massFunction(M_array, 0, mdef = '200c', model = 'tinker08', q_out = 'dndlnM')\n",
    "if 'vir' in mass_type:\n",
    "    hmf = mass_function.massFunction(M_array, 0, mdef = 'vir', model = 'tinker08', q_out = 'dndlnM')    \n",
    "if 'fof' in mass_type:\n",
    "    hmf = mass_function.massFunction(M_array, 0, mdef = 'fof', model = 'bhattacharya11', q_out = 'dndlnM')\n",
    "lgM_rescaled = rescale_sub + (lgM_array - lgMmin)/(lgMmax-lgMmin)\n",
    "\n",
    "int_val = sp.integrate.simps(hmf, lgM_rescaled)\n",
    "hmf_pdf = hmf/int_val\n",
    "# define the cdf of the halo mass function\n",
    "hmf_cdf = np.zeros_like(hmf_pdf)\n",
    "for i in range(len(hmf_cdf)):\n",
    "    hmf_cdf[i] = sp.integrate.simps(hmf_pdf[:i+1], lgM_rescaled[:i+1])\n",
    "\n",
    "\n",
    "# num_cond_Ntot = num_cond\n",
    "# model_Ntot = SumGaussModel(\n",
    "#     hidden_dim=hidden_dim_MAF,\n",
    "#     num_cond=num_cond_Ntot,\n",
    "#     ngauss=return_dict_train['ngauss_Nhalo'],\n",
    "#     mu_all=return_dict_train['mu_all'],\n",
    "#     sig_all=return_dict_train['sig_all'],\n",
    "#     base_dist=base_dist_Ntot   \n",
    "#     )\n",
    "\n",
    "# num_cond_M1 = num_cond + 1\n",
    "# # if conditioned on fastpm we will also give the fastpm fof M1 halos and its mask as conditional\n",
    "# if cond_sim == 'fastpm':\n",
    "#     num_cond_M1 += 2\n",
    "\n",
    "# model_M1 = NSF_M1_CNNcond(\n",
    "#     K=K_M1,\n",
    "#     B=B_M1,\n",
    "#     hidden_dim=hidden_dim_MAF,\n",
    "#     num_cond=num_cond_M1,\n",
    "#     nflows=nflows_M1_NSF,\n",
    "#     base_dist=base_dist_M1,\n",
    "#     ngauss=ngauss_M1,\n",
    "#     lgM_rs_tointerp=lgM_rescaled,\n",
    "#     hmf_pdf_tointerp=hmf_pdf,\n",
    "#     hmf_cdf_tointerp=hmf_cdf    \n",
    "#     )\n",
    "\n",
    "# ndim_diff = return_dict_train['M_diff_halos_all_norm_masked'][0].shape[2]\n",
    "# num_cond_Mdiff = num_cond + 2\n",
    "# model_Mdiff = NSF_Mdiff_CNNcond(\n",
    "#     dim=ndim_diff,\n",
    "#     K=K_Mdiff,\n",
    "#     B=B_Mdiff,\n",
    "#     hidden_dim=hidden_dim_MAF,\n",
    "#     num_cond=num_cond_Mdiff,\n",
    "#     nflows=nflows_Mdiff_NSF,\n",
    "#     base_dist=base_dist_Mdiff,\n",
    "#     mu_pos=True\n",
    "#     )\n",
    "\n",
    "# ndim = ndim_diff + 1\n",
    "# model = COMBINED_Model(\n",
    "#     None,\n",
    "#     model_Mdiff,\n",
    "#     # None,\n",
    "#     model_M1,\n",
    "#     model_Ntot,\n",
    "#     ndim,\n",
    "#     ksize,\n",
    "#     ns_d,\n",
    "#     ns_h,\n",
    "#     nb,\n",
    "#     ninp,\n",
    "#     nfeature_cnn,\n",
    "#     nout_cnn,\n",
    "#     layers_types=layers_types,\n",
    "#     act='tanh',\n",
    "#     padding='valid',\n",
    "#     sep_Ntot_cond=True,\n",
    "#     sep_M1_cond=True,\n",
    "#     sep_Mdiff_cond=True,\n",
    "#     num_cond_Ntot = num_cond_Ntot,\n",
    "#     num_cond_M1 = num_cond_M1,\n",
    "#     num_cond_Mdiff = num_cond_Mdiff\n",
    "#     )\n",
    "\n",
    "# model.to(dev)\n",
    "\n",
    "# print()\n"
   ]
  },
  {
   "cell_type": "code",
   "execution_count": 14,
   "metadata": {},
   "outputs": [],
   "source": [
    "# base_dist_Ntot\n"
   ]
  },
  {
   "cell_type": "code",
   "execution_count": 15,
   "metadata": {},
   "outputs": [],
   "source": [
    "from torch.utils.data import DataLoader, Dataset\n",
    "# class LoadCustomData(Dataset):\n",
    "#     def __init__(self, return_dict, return_dict_FP, all_gpu=False):\n",
    "#         if return_dict_FP is not None:\n",
    "#             self.cond_tensor = torch.Tensor(np.array(return_dict_FP['df_d_all']))\n",
    "#             cond_nsh = np.moveaxis(np.array(return_dict_FP['df_d_all_nsh']), 2, 5)\n",
    "#             self.cond_tensor_nsh = torch.Tensor((cond_nsh)).reshape(-1, nsims_per_batch * (nax_h ** 3), ninp)\n",
    "#         else:\n",
    "#             self.cond_tensor = torch.Tensor(np.array(return_dict['df_d_all']))\n",
    "#             cond_nsh = np.moveaxis(np.array(return_dict['df_d_all_nsh']), 2, 5)\n",
    "#             self.cond_tensor_nsh = torch.Tensor((cond_nsh)).reshape(-1, nsims_per_batch * (nax_h ** 3), ninp)\n",
    "\n",
    "#         self.mask_tensor_M1_train = torch.Tensor(np.array(return_dict['mask_M1'])).reshape(-1, nsims_per_batch * (nax_h**3))\n",
    "#         self.mask_tensor_Mdiff_train = torch.Tensor((np.array(return_dict['mask_M_diff']))).reshape(-1, nsims_per_batch * (nax_h**3), ndim_diff)\n",
    "\n",
    "#         self.X_M1 = torch.Tensor((np.array(return_dict['M1_halos_all_norm']))).reshape(-1, nsims_per_batch * (nax_h**3), 1)\n",
    "#         self.X_Nhalo = torch.Tensor(np.array(return_dict['Nhalo_train_mg_arr'])).reshape(-1, nsims_per_batch * (nax_h**3), 1)\n",
    "#         self.X_Mdiff = torch.Tensor(np.array(return_dict['M_diff_halos_all_norm_masked'])).reshape(-1, nsims_per_batch * (nax_h**3),ndim_diff)\n",
    "#         self.Nhalos_truth_tensor = torch.Tensor(((np.array(return_dict['N_halos_all'])))).reshape(-1, nsims_per_batch * (nax_h**3), 1)\n",
    "\n",
    "#         if return_dict_FP is not None:\n",
    "#             self.mask_tensor_M1_train_FP = torch.Tensor(np.array(return_dict_FP['mask_M1'])).reshape(-1, nsims_per_batch * (nax_h**3))\n",
    "#             self.X_M1_FP = torch.Tensor((np.array(return_dict_FP['M1_halos_all_norm']))).reshape(-1, nsims_per_batch * (nax_h**3), 1)\n",
    "#         else:\n",
    "#             self.mask_tensor_M1_train_FP = None\n",
    "#             self.X_M1_FP = None\n",
    "#         if all_gpu:\n",
    "            # self.cond_tensor = self.cond_tensor.cuda(dev)\n",
    "            # self.cond_tensor_nsh = self.cond_tensor_nsh.cuda(dev)\n",
    "            # self.mask_tensor_M1_train = self.mask_tensor_M1_train.cuda(dev)\n",
    "            # self.mask_tensor_Mdiff_train = self.mask_tensor_Mdiff_train.cuda(dev)\n",
    "            # self.X_M1 = self.X_M1.cuda(dev)\n",
    "            # self.X_Nhalo = self.X_Nhalo.cuda(dev)\n",
    "            # self.X_Mdiff = self.X_Mdiff.cuda(dev)\n",
    "            # self.Nhalos_truth_tensor = self.Nhalos_truth_tensor.cuda(dev)\n",
    "            # if return_dict_FP is not None:\n",
    "            #     self.mask_tensor_M1_train_FP = self.mask_tensor_M1_train_FP.cuda(dev)\n",
    "            #     self.X_M1_FP = self.X_M1_FP.cuda(dev)\n",
    "\n",
    "#     def __len__(self):\n",
    "#         return len(self.cond_tensor)\n",
    "\n",
    "#     def __getitem__(self, idx):\n",
    "#         cond_tensor = (self.cond_tensor[idx,...])\n",
    "#         cond_tensor_nsh = self.cond_tensor_nsh[idx,...]\n",
    "#         mask_tensor_M1_train = self.mask_tensor_M1_train[idx,...]\n",
    "#         mask_tensor_Mdiff_train =self.mask_tensor_Mdiff_train[idx,...]\n",
    "#         X_M1 = self.X_M1[idx,...]\n",
    "#         X_Nhalo = self.X_Nhalo[idx,...]\n",
    "#         X_Mdiff = self.X_Mdiff[idx,...]\n",
    "#         Nhalos_truth_tensor = self.Nhalos_truth_tensor[idx,...]\n",
    "#         if self.mask_tensor_M1_train_FP is not None:\n",
    "#             mask_tensor_M1_train_FP = self.mask_tensor_M1_train_FP[idx,...]\n",
    "#             X_M1_FP = self.X_M1_FP[idx,...]\n",
    "#         else:\n",
    "#             mask_tensor_M1_train_FP = torch.Tensor([-9999])\n",
    "#             X_M1_FP = torch.Tensor([-9999])\n",
    "\n",
    "#         return (cond_tensor, cond_tensor_nsh, mask_tensor_M1_train, mask_tensor_Mdiff_train, X_M1, X_Nhalo,\n",
    "#                  X_Mdiff, Nhalos_truth_tensor, mask_tensor_M1_train_FP, X_M1_FP)\n",
    "\n",
    "\n",
    "from torch.utils.data import DataLoader, Dataset\n",
    "\n",
    "\n",
    "ndim_diff = return_dict_train['M_diff_halos_all_norm_masked'][0].shape[2]\n",
    "\n",
    "if return_dict_train_FP is not None:\n",
    "    cond_tensor = torch.Tensor(np.array(return_dict_train_FP['df_d_all']))\n",
    "    cond_nsh = np.moveaxis(np.array(return_dict_train_FP['df_d_all_nsh']), 2, 5)\n",
    "    cond_tensor_nsh = torch.Tensor((cond_nsh)).reshape(-1, nsims_per_batch * (nax_h ** 3), ninp)\n",
    "else:\n",
    "    cond_tensor = torch.Tensor(np.array(return_dict_train['df_d_all']))\n",
    "    cond_nsh = np.moveaxis(np.array(return_dict_train['df_d_all_nsh']), 2, 5)\n",
    "    cond_tensor_nsh = torch.Tensor((cond_nsh)).reshape(-1, nsims_per_batch * (nax_h ** 3), ninp)\n",
    "\n",
    "mask_tensor_M1_train = torch.Tensor(np.array(return_dict_train['mask_M1'])).reshape(-1, nsims_per_batch * (nax_h**3))\n",
    "mask_tensor_Mdiff_train = torch.Tensor((np.array(return_dict_train['mask_M_diff']))).reshape(-1, nsims_per_batch * (nax_h**3), ndim_diff)\n",
    "\n",
    "X_M1 = torch.Tensor((np.array(return_dict_train['M1_halos_all_norm']))).reshape(-1, nsims_per_batch * (nax_h**3), 1)\n",
    "X_Nhalo = torch.Tensor(np.array(return_dict_train['Nhalo_train_mg_arr'])).reshape(-1, nsims_per_batch * (nax_h**3), 1)\n",
    "X_Mdiff = torch.Tensor(np.array(return_dict_train['M_diff_halos_all_norm_masked'])).reshape(-1, nsims_per_batch * (nax_h**3),ndim_diff)\n",
    "Nhalos_truth_tensor = torch.Tensor(((np.array(return_dict_train['N_halos_all'])))).reshape(-1, nsims_per_batch * (nax_h**3), 1)\n",
    "\n",
    "if return_dict_train_FP is not None:\n",
    "    mask_tensor_M1_train_FP = torch.Tensor(np.array(return_dict_train_FP['mask_M1'])).reshape(-1, nsims_per_batch * (nax_h**3))\n",
    "    X_M1_FP = torch.Tensor((np.array(return_dict_train_FP['M1_halos_all_norm']))).reshape(-1, nsims_per_batch * (nax_h**3), 1)\n",
    "else:\n",
    "    mask_tensor_M1_train_FP = None\n",
    "    X_M1_FP = None\n",
    "\n",
    "    \n",
    "cond_tensor = cond_tensor.cuda(dev)\n",
    "cond_tensor_nsh = cond_tensor_nsh.cuda(dev)\n",
    "mask_tensor_M1_train = mask_tensor_M1_train.cuda(dev)\n",
    "mask_tensor_Mdiff_train = mask_tensor_Mdiff_train.cuda(dev)\n",
    "X_M1 = X_M1.cuda(dev)\n",
    "X_Nhalo = X_Nhalo.cuda(dev)\n",
    "X_Mdiff = X_Mdiff.cuda(dev)\n",
    "\n",
    "\n",
    "Nhalos_truth_tensor = Nhalos_truth_tensor.cuda(dev)\n",
    "if return_dict_train_FP is not None:\n",
    "    mask_tensor_M1_train_FP = mask_tensor_M1_train_FP.cuda(dev)\n",
    "    X_M1_FP = X_M1_FP.cuda(dev)\n",
    "\n"
   ]
  },
  {
   "cell_type": "code",
   "execution_count": 16,
   "metadata": {},
   "outputs": [
    {
     "data": {
      "text/plain": [
       "tensor([[[-0.5000],\n",
       "         [-0.5000],\n",
       "         [-0.5000],\n",
       "         ...,\n",
       "         [-0.5000],\n",
       "         [-0.5000],\n",
       "         [-0.5000]]], device='cuda:0')"
      ]
     },
     "execution_count": 16,
     "metadata": {},
     "output_type": "execute_result"
    }
   ],
   "source": [
    "# torch.amin(Nhalos_truth_tensor), torch.amax(Nhalos_truth_tensor), return_dict_train['mu_all']\n",
    "X_M1_FP"
   ]
  },
  {
   "cell_type": "code",
   "execution_count": 10,
   "metadata": {},
   "outputs": [],
   "source": [
    "# # X_Nhalo.shape, cond_tensor_nsh.shape\n",
    "# np.array(return_dict_train['N_halos_all']).shape, cond_nsh.shape, np.array(return_dict_train['M1_halos_all_norm']).shape\n",
    "\n",
    "# Nhalos_3d = np.array(return_dict_train['N_halos_all']).reshape(-1, nsims_per_batch, nax_h, nax_h, nax_h)\n",
    "# Mhalos_3d = np.array(return_dict_train['M1_halos_all_norm']).reshape(-1, nsims_per_batch, nax_h, nax_h, nax_h)\n",
    "# delta_m_3d = cond_nsh[...,0]\n",
    "\n",
    "\n"
   ]
  },
  {
   "cell_type": "code",
   "execution_count": 11,
   "metadata": {},
   "outputs": [],
   "source": [
    "# # make a three panel plot\n",
    "# import matplotlib.pyplot as pl\n",
    "# import matplotlib\n",
    "# %matplotlib inline\n",
    "# indsim = 300\n",
    "# pl.figure()\n",
    "# pl.subplot(131)\n",
    "# pl.imshow(Nhalos_3d[0,indsim,0,...])\n",
    "# # pl.colorbar()\n",
    "# pl.subplot(132)\n",
    "# pl.imshow(Mhalos_3d[0,indsim,0,...])\n",
    "# # pl.colorbar()\n",
    "# pl.subplot(133)\n",
    "# pl.imshow(delta_m_3d[0,indsim,0,...])\n",
    "# # pl.colorbar()\n"
   ]
  },
  {
   "cell_type": "code",
   "execution_count": 12,
   "metadata": {},
   "outputs": [],
   "source": [
    "\n",
    "# delta_m = cond_tensor_nsh[0,:,0].cpu().numpy()\n",
    "# Nhalo = X_Nhalo[0,:,0].cpu().numpy()\n",
    "# indsel = np.where((delta_m > 3) & (delta_m < 100))[0]\n",
    "# pl.figure()\n",
    "# pl.scatter(delta_m[indsel], Nhalo[indsel], s=0.1)\n"
   ]
  },
  {
   "cell_type": "code",
   "execution_count": 13,
   "metadata": {},
   "outputs": [],
   "source": [
    "# np.amin(delta_m), np.amax(delta_m), np.amin(Nhalo), np.amax(Nhalo)\n",
    "\n"
   ]
  },
  {
   "cell_type": "code",
   "execution_count": null,
   "metadata": {},
   "outputs": [],
   "source": [
    "\n",
    "\n"
   ]
  },
  {
   "cell_type": "code",
   "execution_count": 17,
   "metadata": {},
   "outputs": [
    {
     "name": "stdout",
     "output_type": "stream",
     "text": [
      "/mnt/home/spandey/ceph/AR_NPE/TRAIN_ROCKSTAR_FOF/FINALTEST_SUBSEL_Ntot_M1only_plexp_ns_10_cond_sim_fastpm_nc4_mass_fof_KM1_8_stype_cic_L2normNtothist_False_L2normM1hist_False True\n"
     ]
    }
   ],
   "source": [
    "with open(\"/mnt/home/spandey/ceph/AR_NPE/run_configs/\" + run_config_name,\"r\") as file_object:\n",
    "    config=yaml.load(file_object,Loader=yaml.SafeLoader)\n",
    "\n",
    "config_train = config['train_settings']\n",
    "batch_size = config_train['batch_size_DL']\n",
    "all_gpu = config_train['all_gpu']\n",
    "\n",
    "try:\n",
    "    L2norm_Ntothist = config_train['L2norm_Ntothist']\n",
    "except:\n",
    "    L2norm_Ntothist = False\n",
    "\n",
    "try:\n",
    "    L2norm_M1hist = config_train['L2norm_M1hist']\n",
    "except:\n",
    "    L2norm_M1hist = False\n",
    "\n",
    "nflows_train = config_train['nflows_train']\n",
    "\n",
    "save_bestfit_model_dir = '/mnt/home/spandey/ceph/AR_NPE/' + 'TRAIN_ROCKSTAR_FOF/FINALTEST_SUBSEL_Ntot_M1only_plexp_ns_' + str(len(ji_array)) + \\\n",
    "                            '_cond_sim_' + cond_sim  \\\n",
    "                            + '_nc' + str(nc) + '_mass_' + mass_type + \\\n",
    "                            '_KM1_' + str(K_M1) + \\\n",
    "                            '_stype_' + stype + \\\n",
    "                            '_L2normNtothist_' + str(L2norm_Ntothist) + '_L2normM1hist_' + str(L2norm_M1hist)\n",
    "\n",
    "print(save_bestfit_model_dir, os.path.exists(save_bestfit_model_dir))\n",
    "# make directory if it doesn't exist\n",
    "import os\n",
    "if not os.path.exists(save_bestfit_model_dir):\n",
    "    os.makedirs(save_bestfit_model_dir)\n",
    "\n",
    "\n",
    "nepochs_Ntot_only = config_train['nepochs_Ntot_only']\n",
    "nepochs_Ntot_M1_only = config_train['nepochs_Ntot_M1_only']\n",
    "nepochs_all = config_train['nepochs_all']\n",
    "\n",
    "\n",
    "\n",
    "# save_bestfit_model_dir = '/mnt/home/spandey/ceph/AR_NPE/' + 'TRAIN_ROCKSTAR_FOF/FINALTEST_SUBSEL_TEST_FINALS_SIMPLE_BATCHED_model_save_nsim' + str(len(ji_array)) + \\\n",
    "#                             '_cond_sim_' + cond_sim + \\\n",
    "#                             '_nsd' + str(ns_d) + '_nc' + str(nc) + '_nsh' + str(ns_h) + '_mass_' + mass_type + \\\n",
    "#                             '_KM1_' + str(K_M1) + \\\n",
    "#                             '_stype_' + stype + '_nsimperbatch' + str(nsims_per_batch) + '_nbatches' + str(nbatches_train) + \\\n",
    "#                             '_L2normNtothist_' + str(L2norm_Ntothist) + '_L2normM1hist_' + str(L2norm_M1hist)\n",
    "\n",
    "# save_bestfit_model_dir = '/mnt/home/spandey/ceph/AR_NPE/' + 'TRAIN_ROCKSTAR_FOF/FINALTEST2_SUBSEL_ns_' + str(len(ji_array)) + \\\n",
    "#                             '_cond_sim_' + cond_sim  \\\n",
    "#                             + '_nc' + str(nc) + '_mass_' + mass_type + \\\n",
    "#                             '_KM1_' + str(K_M1) + \\\n",
    "#                             '_stype_' + stype + \\\n",
    "#                             '_L2normNtothist_' + str(L2norm_Ntothist) + '_L2normM1hist_' + str(L2norm_M1hist)\n",
    "\n",
    "# save_bestfit_model_dir = '/mnt/home/spandey/ceph/AR_NPE/' + 'TRAIN_ROCKSTAR_FOF/FINALTEST2_NOSUBSEL_plexp_ns_' + str(len(ji_array)) + \\\n",
    "#                             '_cond_sim_' + cond_sim  \\\n",
    "#                             + '_nc' + str(nc) + '_mass_' + mass_type + \\\n",
    "#                             '_KM1_' + str(K_M1) + \\\n",
    "#                             '_stype_' + stype + \\\n",
    "#                             '_L2normNtothist_' + str(L2norm_Ntothist) + '_L2normM1hist_' + str(L2norm_M1hist)\n",
    "\n",
    "# print(save_bestfit_model_dir, os.path.exists(save_bestfit_model_dir))\n",
    "# # make directory if it doesn't exist\n",
    "# import os\n",
    "# if not os.path.exists(save_bestfit_model_dir):\n",
    "#     os.makedirs(save_bestfit_model_dir)\n",
    "\n",
    "# start_with_bestfit = config_train['start_with_bestfit']\n",
    "\n",
    "# if start_with_bestfit:\n",
    "#     try:\n",
    "#         print('loading bestfit model')\n",
    "#         bestfit_model = (torch.load(save_bestfit_model_name))\n",
    "#         model.load_state_dict(bestfit_model['state_dict'])\n",
    "#         optimizer.load_state_dict(bestfit_model['optimizer'])\n",
    "#         scheduler.load_state_dict(bestfit_model['scheduler'])\n",
    "#         loss_min = bestfit_model['loss_min']\n",
    "#         loss = bestfit_model['loss']\n",
    "#         lr = bestfit_model['lr']\n",
    "#         epoch_tot_counter = bestfit_model['epoch_tot_counter']\n",
    "#         for g in optimizer.param_groups:\n",
    "#             # g['lr'] = lr\n",
    "#             g['lr'] = 0.01          \n",
    "\n",
    "#     except:\n",
    "#         print('no bestfit model found, running new')\n",
    "#         pass\n",
    "#         epoch_tot_counter = 0\n",
    "\n",
    "\n",
    "# dataset = LoadCustomData(return_dict_train, return_dict_train_FP, all_gpu=all_gpu)\n",
    "# dataloader = DataLoader(dataset, batch_size=batch_size, pin_memory=1 - all_gpu, num_workers=1)\n",
    "\n",
    "\n"
   ]
  },
  {
   "cell_type": "code",
   "execution_count": 15,
   "metadata": {},
   "outputs": [],
   "source": [
    "# X_M1_FP_jd\n"
   ]
  },
  {
   "cell_type": "code",
   "execution_count": 16,
   "metadata": {},
   "outputs": [],
   "source": [
    "# print(loss)\n",
    "# num_cond_M1\n"
   ]
  },
  {
   "cell_type": "code",
   "execution_count": 17,
   "metadata": {},
   "outputs": [
    {
     "name": "stdout",
     "output_type": "stream",
     "text": [
      "\n"
     ]
    },
    {
     "name": "stderr",
     "output_type": "stream",
     "text": [
      "  0%|          | 1/3000 [00:00<42:25,  1.18it/s]"
     ]
    },
    {
     "name": "stdout",
     "output_type": "stream",
     "text": [
      "saving bf at: , with loss: 14.75085 , at epoch: 0 learning rate: 0.001 , train_Ntot: 1 train_M1: 0 , train_Mdiff: 0 , epoch_tot_counter: 1\n"
     ]
    },
    {
     "name": "stderr",
     "output_type": "stream",
     "text": [
      " 10%|█         | 300/3000 [01:56<20:16,  2.22it/s]"
     ]
    },
    {
     "name": "stdout",
     "output_type": "stream",
     "text": [
      "saving bf at: , with loss: 1.88458 , at epoch: 300 learning rate: 0.001 , train_Ntot: 1 train_M1: 0 , train_Mdiff: 0 , epoch_tot_counter: 301\n"
     ]
    },
    {
     "name": "stderr",
     "output_type": "stream",
     "text": [
      " 20%|██        | 601/3000 [03:54<14:11,  2.82it/s]"
     ]
    },
    {
     "name": "stdout",
     "output_type": "stream",
     "text": [
      "saving bf at: , with loss: -0.18487 , at epoch: 600 learning rate: 0.001 , train_Ntot: 1 train_M1: 0 , train_Mdiff: 0 , epoch_tot_counter: 601\n"
     ]
    },
    {
     "name": "stderr",
     "output_type": "stream",
     "text": [
      " 30%|███       | 901/3000 [05:50<11:18,  3.09it/s]"
     ]
    },
    {
     "name": "stdout",
     "output_type": "stream",
     "text": [
      "saving bf at: , with loss: -0.53145 , at epoch: 900 learning rate: 0.001 , train_Ntot: 1 train_M1: 0 , train_Mdiff: 0 , epoch_tot_counter: 901\n"
     ]
    },
    {
     "name": "stderr",
     "output_type": "stream",
     "text": [
      " 40%|████      | 1201/3000 [07:38<06:14,  4.80it/s]"
     ]
    },
    {
     "name": "stdout",
     "output_type": "stream",
     "text": [
      "saving bf at: , with loss: -0.98092 , at epoch: 1200 learning rate: 0.001 , train_Ntot: 1 train_M1: 0 , train_Mdiff: 0 , epoch_tot_counter: 1201\n"
     ]
    },
    {
     "name": "stderr",
     "output_type": "stream",
     "text": [
      " 70%|███████   | 2100/3000 [10:31<02:48,  5.35it/s]"
     ]
    },
    {
     "name": "stdout",
     "output_type": "stream",
     "text": [
      "saving bf at: , with loss: -0.98329 , at epoch: 2100 learning rate: 0.001 , train_Ntot: 1 train_M1: 0 , train_Mdiff: 0 , epoch_tot_counter: 2101\n"
     ]
    },
    {
     "name": "stderr",
     "output_type": "stream",
     "text": [
      " 73%|███████▎  | 2191/3000 [10:49<02:31,  5.34it/s]"
     ]
    },
    {
     "name": "stdout",
     "output_type": "stream",
     "text": [
      "Epoch 02190: reducing learning rate of group 0 to 5.0000e-04.\n"
     ]
    },
    {
     "name": "stderr",
     "output_type": "stream",
     "text": [
      " 80%|████████  | 2401/3000 [11:29<01:56,  5.14it/s]"
     ]
    },
    {
     "name": "stdout",
     "output_type": "stream",
     "text": [
      "saving bf at: , with loss: -1.02927 , at epoch: 2400 learning rate: 0.0005 , train_Ntot: 1 train_M1: 0 , train_Mdiff: 0 , epoch_tot_counter: 2401\n"
     ]
    },
    {
     "name": "stderr",
     "output_type": "stream",
     "text": [
      " 99%|█████████▉| 2972/3000 [13:19<00:05,  5.35it/s]"
     ]
    },
    {
     "name": "stdout",
     "output_type": "stream",
     "text": [
      "Epoch 02971: reducing learning rate of group 0 to 2.5000e-04.\n"
     ]
    },
    {
     "name": "stderr",
     "output_type": "stream",
     "text": [
      "100%|██████████| 3000/3000 [13:24<00:00,  3.73it/s]\n",
      "  0%|          | 1/3000 [00:00<24:04,  2.08it/s]"
     ]
    },
    {
     "name": "stdout",
     "output_type": "stream",
     "text": [
      "saving bf at: , with loss: 1.37598 , at epoch: 0 learning rate: 0.001 , train_Ntot: 1 train_M1: 1 , train_Mdiff: 0 , epoch_tot_counter: 3001\n"
     ]
    },
    {
     "name": "stderr",
     "output_type": "stream",
     "text": [
      " 10%|█         | 301/3000 [05:14<48:39,  1.08s/it]  "
     ]
    },
    {
     "name": "stdout",
     "output_type": "stream",
     "text": [
      "saving bf at: , with loss: -0.33652 , at epoch: 300 learning rate: 0.001 , train_Ntot: 1 train_M1: 1 , train_Mdiff: 0 , epoch_tot_counter: 3301\n"
     ]
    },
    {
     "name": "stderr",
     "output_type": "stream",
     "text": [
      " 12%|█▏        | 372/3000 [06:37<47:00,  1.07s/it]  "
     ]
    },
    {
     "name": "stdout",
     "output_type": "stream",
     "text": [
      "Epoch 03372: reducing learning rate of group 0 to 5.0000e-04.\n"
     ]
    },
    {
     "name": "stderr",
     "output_type": "stream",
     "text": [
      " 20%|██        | 601/3000 [10:42<43:26,  1.09s/it]"
     ]
    },
    {
     "name": "stdout",
     "output_type": "stream",
     "text": [
      "saving bf at: , with loss: -0.68774 , at epoch: 600 learning rate: 0.0005 , train_Ntot: 1 train_M1: 1 , train_Mdiff: 0 , epoch_tot_counter: 3601\n"
     ]
    },
    {
     "name": "stderr",
     "output_type": "stream",
     "text": [
      " 26%|██▌       | 773/3000 [13:55<36:50,  1.01it/s]  "
     ]
    },
    {
     "name": "stdout",
     "output_type": "stream",
     "text": [
      "Epoch 03773: reducing learning rate of group 0 to 2.5000e-04.\n"
     ]
    },
    {
     "name": "stderr",
     "output_type": "stream",
     "text": [
      " 30%|███       | 901/3000 [16:30<42:53,  1.23s/it]"
     ]
    },
    {
     "name": "stdout",
     "output_type": "stream",
     "text": [
      "saving bf at: , with loss: -0.70233 , at epoch: 900 learning rate: 0.00025 , train_Ntot: 1 train_M1: 1 , train_Mdiff: 0 , epoch_tot_counter: 3901\n"
     ]
    },
    {
     "name": "stderr",
     "output_type": "stream",
     "text": [
      " 39%|███▉      | 1174/3000 [21:29<29:31,  1.03it/s]"
     ]
    },
    {
     "name": "stdout",
     "output_type": "stream",
     "text": [
      "Epoch 04174: reducing learning rate of group 0 to 1.2500e-04.\n"
     ]
    },
    {
     "name": "stderr",
     "output_type": "stream",
     "text": [
      " 52%|█████▎    | 1575/3000 [28:54<22:53,  1.04it/s]"
     ]
    },
    {
     "name": "stdout",
     "output_type": "stream",
     "text": [
      "Epoch 04575: reducing learning rate of group 0 to 6.2500e-05.\n"
     ]
    },
    {
     "name": "stderr",
     "output_type": "stream",
     "text": [
      " 66%|██████▌   | 1976/3000 [36:11<18:57,  1.11s/it]"
     ]
    },
    {
     "name": "stdout",
     "output_type": "stream",
     "text": [
      "Epoch 04976: reducing learning rate of group 0 to 3.1250e-05.\n"
     ]
    },
    {
     "name": "stderr",
     "output_type": "stream",
     "text": [
      " 70%|███████   | 2101/3000 [38:24<14:32,  1.03it/s]"
     ]
    },
    {
     "name": "stdout",
     "output_type": "stream",
     "text": [
      "saving bf at: , with loss: -0.71787 , at epoch: 2100 learning rate: 3.125e-05 , train_Ntot: 1 train_M1: 1 , train_Mdiff: 0 , epoch_tot_counter: 5101\n"
     ]
    },
    {
     "name": "stderr",
     "output_type": "stream",
     "text": [
      " 79%|███████▉  | 2377/3000 [42:53<09:58,  1.04it/s]"
     ]
    },
    {
     "name": "stdout",
     "output_type": "stream",
     "text": [
      "Epoch 05377: reducing learning rate of group 0 to 1.5625e-05.\n"
     ]
    },
    {
     "name": "stderr",
     "output_type": "stream",
     "text": [
      " 93%|█████████▎| 2778/3000 [49:22<03:33,  1.04it/s]"
     ]
    },
    {
     "name": "stdout",
     "output_type": "stream",
     "text": [
      "Epoch 05778: reducing learning rate of group 0 to 7.8125e-06.\n"
     ]
    },
    {
     "name": "stderr",
     "output_type": "stream",
     "text": [
      "100%|██████████| 3000/3000 [53:19<00:00,  1.07s/it]"
     ]
    },
    {
     "name": "stdout",
     "output_type": "stream",
     "text": [
      "saving bf at: , with loss: -0.77185 , at epoch: 2999 learning rate: 7.8125e-06 , train_Ntot: 1 train_M1: 1 , train_Mdiff: 0 , epoch_tot_counter: 6000\n"
     ]
    },
    {
     "name": "stderr",
     "output_type": "stream",
     "text": [
      "\n",
      "  0%|          | 1/8000 [00:01<4:20:44,  1.96s/it]"
     ]
    },
    {
     "name": "stdout",
     "output_type": "stream",
     "text": [
      "saving bf at: , with loss: -0.58257 , at epoch: 0 learning rate: 0.001 , train_Ntot: 1 train_M1: 1 , train_Mdiff: 1 , epoch_tot_counter: 6001\n"
     ]
    },
    {
     "name": "stderr",
     "output_type": "stream",
     "text": [
      "  2%|▏         | 179/8000 [06:21<3:59:43,  1.84s/it]"
     ]
    },
    {
     "name": "stdout",
     "output_type": "stream",
     "text": [
      "Epoch 06179: reducing learning rate of group 0 to 5.0000e-04.\n"
     ]
    },
    {
     "name": "stderr",
     "output_type": "stream",
     "text": [
      "  7%|▋         | 580/8000 [20:47<4:40:56,  2.27s/it]"
     ]
    },
    {
     "name": "stdout",
     "output_type": "stream",
     "text": [
      "Epoch 06580: reducing learning rate of group 0 to 2.5000e-04.\n"
     ]
    },
    {
     "name": "stderr",
     "output_type": "stream",
     "text": [
      " 10%|█         | 801/8000 [28:42<3:57:15,  1.98s/it]"
     ]
    },
    {
     "name": "stdout",
     "output_type": "stream",
     "text": [
      "saving bf at: , with loss: -0.83719 , at epoch: 800 learning rate: 0.00025 , train_Ntot: 1 train_M1: 1 , train_Mdiff: 1 , epoch_tot_counter: 6801\n"
     ]
    },
    {
     "name": "stderr",
     "output_type": "stream",
     "text": [
      " 12%|█▏        | 981/8000 [35:10<4:05:58,  2.10s/it]"
     ]
    },
    {
     "name": "stdout",
     "output_type": "stream",
     "text": [
      "Epoch 06981: reducing learning rate of group 0 to 1.2500e-04.\n"
     ]
    },
    {
     "name": "stderr",
     "output_type": "stream",
     "text": [
      " 17%|█▋        | 1382/8000 [46:19<2:55:14,  1.59s/it]"
     ]
    },
    {
     "name": "stdout",
     "output_type": "stream",
     "text": [
      "Epoch 07382: reducing learning rate of group 0 to 6.2500e-05.\n"
     ]
    },
    {
     "name": "stderr",
     "output_type": "stream",
     "text": [
      " 22%|██▏       | 1783/8000 [1:00:14<3:49:04,  2.21s/it]"
     ]
    },
    {
     "name": "stdout",
     "output_type": "stream",
     "text": [
      "Epoch 07783: reducing learning rate of group 0 to 3.1250e-05.\n"
     ]
    },
    {
     "name": "stderr",
     "output_type": "stream",
     "text": [
      " 27%|██▋       | 2184/8000 [1:14:30<3:35:34,  2.22s/it]"
     ]
    },
    {
     "name": "stdout",
     "output_type": "stream",
     "text": [
      "Epoch 08184: reducing learning rate of group 0 to 1.5625e-05.\n"
     ]
    },
    {
     "name": "stderr",
     "output_type": "stream",
     "text": [
      " 32%|███▏      | 2585/8000 [1:27:51<2:22:58,  1.58s/it]"
     ]
    },
    {
     "name": "stdout",
     "output_type": "stream",
     "text": [
      "Epoch 08585: reducing learning rate of group 0 to 7.8125e-06.\n"
     ]
    },
    {
     "name": "stderr",
     "output_type": "stream",
     "text": [
      " 37%|███▋      | 2986/8000 [1:39:19<2:34:25,  1.85s/it]"
     ]
    },
    {
     "name": "stdout",
     "output_type": "stream",
     "text": [
      "Epoch 08986: reducing learning rate of group 0 to 3.9063e-06.\n"
     ]
    },
    {
     "name": "stderr",
     "output_type": "stream",
     "text": [
      " 42%|████▏     | 3387/8000 [1:53:53<2:57:26,  2.31s/it]"
     ]
    },
    {
     "name": "stdout",
     "output_type": "stream",
     "text": [
      "Epoch 09387: reducing learning rate of group 0 to 1.9531e-06.\n"
     ]
    },
    {
     "name": "stderr",
     "output_type": "stream",
     "text": [
      " 47%|████▋     | 3788/8000 [2:08:21<2:20:21,  2.00s/it]"
     ]
    },
    {
     "name": "stdout",
     "output_type": "stream",
     "text": [
      "Epoch 09788: reducing learning rate of group 0 to 9.7656e-07.\n"
     ]
    },
    {
     "name": "stderr",
     "output_type": "stream",
     "text": [
      " 52%|█████▏    | 4189/8000 [2:21:19<1:46:37,  1.68s/it]"
     ]
    },
    {
     "name": "stdout",
     "output_type": "stream",
     "text": [
      "Epoch 10189: reducing learning rate of group 0 to 4.8828e-07.\n"
     ]
    },
    {
     "name": "stderr",
     "output_type": "stream",
     "text": [
      " 57%|█████▋    | 4590/8000 [2:34:19<2:00:29,  2.12s/it]"
     ]
    },
    {
     "name": "stdout",
     "output_type": "stream",
     "text": [
      "Epoch 10590: reducing learning rate of group 0 to 2.4414e-07.\n"
     ]
    },
    {
     "name": "stderr",
     "output_type": "stream",
     "text": [
      " 60%|██████    | 4801/8000 [2:41:53<2:03:30,  2.32s/it]"
     ]
    },
    {
     "name": "stdout",
     "output_type": "stream",
     "text": [
      "saving bf at: , with loss: -0.84145 , at epoch: 4800 learning rate: 2.44140625e-07 , train_Ntot: 1 train_M1: 1 , train_Mdiff: 1 , epoch_tot_counter: 10801\n"
     ]
    },
    {
     "name": "stderr",
     "output_type": "stream",
     "text": [
      " 62%|██████▏   | 4991/8000 [2:48:54<2:08:43,  2.57s/it]"
     ]
    },
    {
     "name": "stdout",
     "output_type": "stream",
     "text": [
      "Epoch 10991: reducing learning rate of group 0 to 1.2207e-07.\n"
     ]
    },
    {
     "name": "stderr",
     "output_type": "stream",
     "text": [
      " 66%|██████▋   | 5304/8000 [3:00:31<1:45:03,  2.34s/it]"
     ]
    }
   ],
   "source": [
    "nepochs_Ntot_only = config_train['nepochs_Ntot_only']\n",
    "nepochs_Ntot_M1_only = config_train['nepochs_Ntot_M1_only']\n",
    "nepochs_all = config_train['nepochs_all']\n",
    "\n",
    "\n",
    "nepochs_array = [nepochs_Ntot_only, nepochs_Ntot_M1_only, nepochs_all]\n",
    "train_Ntot_array = [1, 1, 1]\n",
    "train_M1_array = [0, 1, 1 ]\n",
    "train_Mdiff_array = [0, 0, 1]\n",
    "\n",
    "# nepochs_array = [nepochs_Ntot_only, nepochs_Ntot_M1_only]\n",
    "# train_Ntot_array = [1, 1, 1]\n",
    "# train_M1_array = [0, 1, 1]\n",
    "# train_Mdiff_array = [0, 0, 1]\n",
    "\n",
    "for jf in range(nflows_train):\n",
    "# for jf in np.arange(7,16):    \n",
    "    try:\n",
    "        epoch_tot_counter = 0\n",
    "        num_cond_Ntot = num_cond\n",
    "        \n",
    "        model_Ntot = SumGaussModel(\n",
    "            hidden_dim=hidden_dim_MAF,\n",
    "            num_cond=num_cond_Ntot,\n",
    "            ngauss=return_dict_train['ngauss_Nhalo'],\n",
    "            mu_all=return_dict_train['mu_all'],\n",
    "            sig_all=return_dict_train['sig_all'],\n",
    "            base_dist=base_dist_Ntot   \n",
    "            )\n",
    "\n",
    "        num_cond_M1 = num_cond + 1\n",
    "        # if conditioned on fastpm we will also give the fastpm fof M1 halos and its mask as conditional\n",
    "        if cond_sim == 'fastpm':\n",
    "            num_cond_M1 += 2\n",
    "\n",
    "        model_M1 = NSF_M1_CNNcond(\n",
    "            K=K_M1,\n",
    "            B=B_M1,\n",
    "            hidden_dim=hidden_dim_MAF,\n",
    "            num_cond=num_cond_M1,\n",
    "            nflows=nflows_M1_NSF,\n",
    "            base_dist=base_dist_M1,\n",
    "            ngauss=ngauss_M1,\n",
    "            lgM_rs_tointerp=lgM_rescaled,\n",
    "            hmf_pdf_tointerp=hmf_pdf,\n",
    "            hmf_cdf_tointerp=hmf_cdf    \n",
    "            )\n",
    "\n",
    "        ndim_diff = return_dict_train['M_diff_halos_all_norm_masked'][0].shape[2]\n",
    "        num_cond_Mdiff = num_cond + 2\n",
    "        model_Mdiff = NSF_Mdiff_CNNcond(\n",
    "            dim=ndim_diff,\n",
    "            K=K_Mdiff,\n",
    "            B=B_Mdiff,\n",
    "            hidden_dim=hidden_dim_MAF,\n",
    "            num_cond=num_cond_Mdiff,\n",
    "            nflows=nflows_Mdiff_NSF,\n",
    "            base_dist=base_dist_Mdiff,\n",
    "            mu_pos=True\n",
    "            )\n",
    "\n",
    "        ndim = ndim_diff + 1\n",
    "        model = COMBINED_Model(\n",
    "            None,\n",
    "            model_Mdiff,\n",
    "            # None,\n",
    "            model_M1,\n",
    "            model_Ntot,\n",
    "            ndim,\n",
    "            ksize,\n",
    "            ns_d,\n",
    "            ns_h,\n",
    "            nb,\n",
    "            ninp,\n",
    "            nfeature_cnn,\n",
    "            nout_cnn,\n",
    "            layers_types=layers_types,\n",
    "            act='tanh',\n",
    "            padding='valid',\n",
    "            sep_Ntot_cond=True,\n",
    "            sep_M1_cond=True,\n",
    "            sep_Mdiff_cond=True,\n",
    "            num_cond_Ntot = num_cond_Ntot,\n",
    "            num_cond_M1 = num_cond_M1,\n",
    "            num_cond_Mdiff = num_cond_Mdiff\n",
    "            )\n",
    "\n",
    "        model.to(dev)\n",
    "\n",
    "        print()\n",
    "\n",
    "        optimizer = optim.Adam(model.parameters(), lr=learning_rate)\n",
    "\n",
    "        loss_all_it = []\n",
    "        loss_min = 1e20\n",
    "        epoch_tot_counter = 0\n",
    "        scheduler = optim.lr_scheduler.ReduceLROnPlateau(optimizer, 'min', factor=0.5, patience=200, verbose=True, cooldown=200, min_lr=1e-8)\n",
    "\n",
    "\n",
    "\n",
    "        save_bestfit_model_name = save_bestfit_model_dir + '/flow_' + str(jf)\n",
    "        for jn in (range(len(nepochs_array))):\n",
    "            for g in optimizer.param_groups:\n",
    "                g['lr'] = 0.001        \n",
    "            loss_min = 1e20\n",
    "            torch.cuda.empty_cache()\n",
    "            ninit = 0\n",
    "            nepochs = nepochs_array[jn]\n",
    "            if nepochs > 0:\n",
    "                train_Ntot = train_Ntot_array[jn]\n",
    "                train_M1 = train_M1_array[jn]\n",
    "                train_Mdiff = train_Mdiff_array[jn]\n",
    "\n",
    "                # if jn > 0:\n",
    "                #     print('loading bestfit model')\n",
    "                #     bestfit_model = (torch.load(save_bestfit_model_name))\n",
    "                #     model.load_state_dict(bestfit_model['state_dict'])\n",
    "                #     optimizer.load_state_dict(bestfit_model['optimizer'])\n",
    "                #     scheduler.load_state_dict(bestfit_model['scheduler'])\n",
    "                #     # loss_min = bestfit_model['loss_min']\n",
    "                #     loss = bestfit_model['loss']\n",
    "                #     lr = bestfit_model['lr']\n",
    "                #     for g in optimizer.param_groups:\n",
    "                #         g['lr'] = learning_rate\n",
    "\n",
    "                for jt in tqdm(range(nepochs)):\n",
    "                    # for jd in range(len(dataloader)):\n",
    "                    torch.cuda.empty_cache()\n",
    "                    optimizer.zero_grad()\n",
    "                    cond_tensor_jd, cond_tensor_nsh_jd, mask_tensor_M1_train_jd, mask_tensor_Mdiff_train_jd, X_M1_jd, \\\n",
    "                        X_Nhalo_jd, X_Mdiff_jd, Nhalos_truth_tensor_jd, mask_tensor_M1_train_FP_jd, X_M1_FP_jd = cond_tensor, cond_tensor_nsh, mask_tensor_M1_train, mask_tensor_Mdiff_train, X_M1, \\\n",
    "                                X_Nhalo, X_Mdiff, Nhalos_truth_tensor, mask_tensor_M1_train_FP, X_M1_FP\n",
    "\n",
    "                    if cond_sim == 'quijote':               \n",
    "                        mask_tensor_M1_train_FP_jd = None\n",
    "                        X_M1_FP_jd = None\n",
    "                    \n",
    "                    torch.cuda.empty_cache()\n",
    "                    # if 1-all_gpu:\n",
    "                    # cond_tensor_jd = cond_tensor_jd.cuda(dev)\n",
    "                    # cond_tensor_nsh_jd = cond_tensor_nsh_jd.cuda(dev)\n",
    "                    # mask_tensor_M1_train_jd = mask_tensor_M1_train_jd.cuda(dev)\n",
    "                    # mask_tensor_Mdiff_train_jd = mask_tensor_Mdiff_train_jd.cuda(dev)\n",
    "                    # X_M1_jd = X_M1_jd.cuda(dev)\n",
    "                    # X_Nhalo_jd = X_Nhalo_jd.cuda(dev)\n",
    "                    # X_Mdiff_jd = X_Mdiff_jd.cuda(dev)\n",
    "                    # Nhalos_truth_tensor_jd = Nhalos_truth_tensor_jd.cuda(dev)\n",
    "                    # if mask_tensor_M1_train_FP_jd is not None:\n",
    "                    #     mask_tensor_M1_train_FP_jd = mask_tensor_M1_train_FP_jd.cuda(dev)\n",
    "                    #     X_M1_FP_jd = X_M1_FP_jd.cuda(dev)\n",
    "                    # torch.cuda.empty_cache()\n",
    "\n",
    "                    \n",
    "                    loss = model(\n",
    "                        X_Mdiff_jd,\n",
    "                        X_M1_jd,\n",
    "                        X_Nhalo_jd,\n",
    "                        cond_x=cond_tensor_jd,\n",
    "                        cond_x_nsh=cond_tensor_nsh_jd,\n",
    "                        mask_Mdiff_truth_all=mask_tensor_Mdiff_train_jd,\n",
    "                        mask_M1_truth_all=mask_tensor_M1_train_jd,\n",
    "                        Nhalos_truth_all=Nhalos_truth_tensor_jd,\n",
    "                        use_Ntot_samples=False,\n",
    "                        use_M1_samples=False,\n",
    "                        train_Ntot=train_Ntot,\n",
    "                        train_M1=train_M1,\n",
    "                        train_Mdiff=train_Mdiff,\n",
    "                        # x_Mdiff_FP=X_Mdiff_FP,\n",
    "                        x_M1_FP=X_M1_FP_jd,\n",
    "                        # x_Ntot_FP=X_Nhalo_FP,\n",
    "                        # Nhalos_truth_all_FP=Nhalos_truth_tensor_FP,\n",
    "                        # mask_Mdiff_truth_all_FP=mask_tensor_Mdiff_train_FP,\n",
    "                        mask_M1_truth_all_FP=mask_tensor_M1_train_FP_jd,\n",
    "                        L2norm_Ntothist=L2norm_Ntothist,\n",
    "                        L2norm_M1hist=L2norm_M1hist        \n",
    "                        )\n",
    "\n",
    "                    loss.backward()\n",
    "                    optimizer.step()\n",
    "                    scheduler.step(loss)\n",
    "                    epoch_tot_counter += 1\n",
    "                    if (np.mod(jt, int(nepochs / 10)) == 0) or (jt == nepochs - 1):\n",
    "                        if float(loss.cpu().detach().numpy()) < loss_min:\n",
    "                            loss_min = float(loss.cpu().detach().numpy())\n",
    "                            print('saving bf at:', ', with loss:', np.round(loss_min, 5), ', at epoch:', jt, \n",
    "                                'learning rate:', optimizer.param_groups[0]['lr'], ', train_Ntot:', train_Ntot, \n",
    "                                'train_M1:', train_M1, ', train_Mdiff:', train_Mdiff, ', epoch_tot_counter:', epoch_tot_counter)\n",
    "                            lr=optimizer.param_groups[0]['lr']\n",
    "                            # print(loss_min, lr)\n",
    "                            state = {'loss_min': loss_min, 'state_dict': model.state_dict(), 'optimizer': optimizer.state_dict(),\n",
    "                                    'scheduler': scheduler.state_dict(), 'loss':loss, 'lr':lr, 'epoch_tot_counter':epoch_tot_counter}\n",
    "\n",
    "                            torch.save(\n",
    "                                state, save_bestfit_model_name\n",
    "                                )\n",
    "    except:\n",
    "        print('failed at flow:', jf)\n",
    "        pass\n",
    "\n",
    "\n",
    "\n"
   ]
  },
  {
   "cell_type": "code",
   "execution_count": 18,
   "metadata": {},
   "outputs": [
    {
     "name": "stdout",
     "output_type": "stream",
     "text": [
      "\n"
     ]
    }
   ],
   "source": [
    "num_cond_Ntot = num_cond\n",
    "\n",
    "model_Ntot = SumGaussModel(\n",
    "    hidden_dim=hidden_dim_MAF,\n",
    "    num_cond=num_cond_Ntot,\n",
    "    ngauss=return_dict_train['ngauss_Nhalo'],\n",
    "    mu_all=return_dict_train['mu_all'],\n",
    "    sig_all=return_dict_train['sig_all'],\n",
    "    base_dist=base_dist_Ntot   \n",
    "    )\n",
    "\n",
    "num_cond_M1 = num_cond + 1\n",
    "# if conditioned on fastpm we will also give the fastpm fof M1 halos and its mask as conditional\n",
    "if cond_sim == 'fastpm':\n",
    "    num_cond_M1 += 2\n",
    "\n",
    "model_M1 = NSF_M1_CNNcond(\n",
    "    K=K_M1,\n",
    "    B=B_M1,\n",
    "    hidden_dim=hidden_dim_MAF,\n",
    "    num_cond=num_cond_M1,\n",
    "    nflows=nflows_M1_NSF,\n",
    "    base_dist=base_dist_M1,\n",
    "    ngauss=ngauss_M1,\n",
    "    lgM_rs_tointerp=lgM_rescaled,\n",
    "    hmf_pdf_tointerp=hmf_pdf,\n",
    "    hmf_cdf_tointerp=hmf_cdf    \n",
    "    )\n",
    "\n",
    "# ndim_diff = return_dict_train['M_diff_halos_all_norm_masked'][0].shape[2]\n",
    "# num_cond_Mdiff = num_cond + 2\n",
    "# model_Mdiff = NSF_Mdiff_CNNcond(\n",
    "#     dim=ndim_diff,\n",
    "#     K=K_Mdiff,\n",
    "#     B=B_Mdiff,\n",
    "#     hidden_dim=hidden_dim_MAF,\n",
    "#     num_cond=num_cond_Mdiff,\n",
    "#     nflows=nflows_Mdiff_NSF,\n",
    "#     base_dist=base_dist_Mdiff,\n",
    "#     mu_pos=True\n",
    "#     )\n",
    "\n",
    "ndim = ndim_diff + 1\n",
    "model = COMBINED_Model(\n",
    "    None,\n",
    "    None,\n",
    "    # None,\n",
    "    model_M1,\n",
    "    model_Ntot,\n",
    "    ndim,\n",
    "    ksize,\n",
    "    ns_d,\n",
    "    ns_h,\n",
    "    nb,\n",
    "    ninp,\n",
    "    nfeature_cnn,\n",
    "    nout_cnn,\n",
    "    layers_types=layers_types,\n",
    "    act='tanh',\n",
    "    padding='valid',\n",
    "    sep_Ntot_cond=True,\n",
    "    sep_M1_cond=True,\n",
    "    sep_Mdiff_cond=True,\n",
    "    num_cond_Ntot = num_cond_Ntot,\n",
    "    num_cond_M1 = num_cond_M1,\n",
    "    num_cond_Mdiff = None\n",
    "    )\n",
    "\n",
    "model.to(dev)\n",
    "print()\n",
    "\n",
    "\n",
    "optimizer = optim.Adam(model.parameters(), lr=learning_rate)\n",
    "\n",
    "loss_all_it = []\n",
    "loss_min = 1e20\n",
    "epoch_tot_counter = 0\n",
    "scheduler = optim.lr_scheduler.ReduceLROnPlateau(optimizer, 'min', factor=0.25, patience=100, verbose=True, cooldown=100, min_lr=1e-8)\n",
    "\n"
   ]
  },
  {
   "cell_type": "code",
   "execution_count": 47,
   "metadata": {},
   "outputs": [
    {
     "name": "stdout",
     "output_type": "stream",
     "text": [
      "loading bestfit model\n",
      "-1.441648006439209 6921 0.001\n"
     ]
    }
   ],
   "source": [
    "jf = 0\n",
    "save_bestfit_model_name = save_bestfit_model_dir + '/flow_' + str(jf)\n",
    "\n",
    "print('loading bestfit model')\n",
    "bestfit_model = (torch.load(save_bestfit_model_name))\n",
    "model.load_state_dict(bestfit_model['state_dict'])\n",
    "optimizer.load_state_dict(bestfit_model['optimizer'])\n",
    "scheduler.load_state_dict(bestfit_model['scheduler'])\n",
    "loss_min = bestfit_model['loss_min']\n",
    "loss = bestfit_model['loss']\n",
    "lr = bestfit_model['lr']\n",
    "epoch_tot_counter = bestfit_model['epoch_tot_counter']\n",
    "for g in optimizer.param_groups:\n",
    "    g['lr'] = lr\n",
    "\n",
    "print(loss_min, epoch_tot_counter, lr)\n",
    "\n",
    "\n"
   ]
  },
  {
   "cell_type": "code",
   "execution_count": 21,
   "metadata": {},
   "outputs": [
    {
     "data": {
      "text/plain": [
       "-1.4353162050247192"
      ]
     },
     "execution_count": 21,
     "metadata": {},
     "output_type": "execute_result"
    }
   ],
   "source": [
    "bestfit_model['loss_min']\n",
    "\n"
   ]
  },
  {
   "cell_type": "code",
   "execution_count": 13,
   "metadata": {},
   "outputs": [],
   "source": [
    "# jf = 0\n",
    "# save_bestfit_model_name = save_bestfit_model_dir + '/flow_' + str(jf)\n",
    "# for jn in (range(len(nepochs_array))):\n",
    "#     loss_min = 1e20\n",
    "#     torch.cuda.empty_cache()\n",
    "#     ninit = 0\n",
    "#     nepochs = nepochs_array[jn]\n",
    "#     for g in optimizer.param_groups:\n",
    "#         g['lr'] = 0.01\n",
    "\n",
    "#     if nepochs > 0:\n",
    "#         train_Ntot = train_Ntot_array[jn]\n",
    "#         train_M1 = train_M1_array[jn]\n",
    "#         train_Mdiff = train_Mdiff_array[jn]\n",
    "\n",
    "#         # if jn > 0:\n",
    "#         #     print('loading bestfit model')\n",
    "#         #     bestfit_model = (torch.load(save_bestfit_model_name))\n",
    "#         #     model.load_state_dict(bestfit_model['state_dict'])\n",
    "#         #     optimizer.load_state_dict(bestfit_model['optimizer'])\n",
    "#         #     scheduler.load_state_dict(bestfit_model['scheduler'])\n",
    "#         #     # loss_min = bestfit_model['loss_min']\n",
    "#         #     loss = bestfit_model['loss']\n",
    "#         #     lr = bestfit_model['lr']\n",
    "#         #     for g in optimizer.param_groups:\n",
    "#         #         g['lr'] = learning_rate\n",
    "\n",
    "#         for jt in tqdm(range(nepochs)):\n",
    "#             # for jd in range(len(dataloader)):\n",
    "#             torch.cuda.empty_cache()\n",
    "#             # optimizer.zero_grad()\n",
    "#             cond_tensor_jd, cond_tensor_nsh_jd, mask_tensor_M1_train_jd, mask_tensor_Mdiff_train_jd, X_M1_jd, \\\n",
    "#                 X_Nhalo_jd, X_Mdiff_jd, Nhalos_truth_tensor_jd, mask_tensor_M1_train_FP_jd, X_M1_FP_jd = cond_tensor, cond_tensor_nsh, mask_tensor_M1_train, mask_tensor_Mdiff_train, X_M1, \\\n",
    "#                         X_Nhalo, X_Mdiff, Nhalos_truth_tensor, mask_tensor_M1_train_FP, X_M1_FP\n",
    "\n",
    "#             if cond_sim == 'quijote':               \n",
    "#                 mask_tensor_M1_train_FP_jd = None\n",
    "#                 X_M1_FP_jd = None\n",
    "            \n",
    "#             torch.cuda.empty_cache()\n",
    "#             # if 1-all_gpu:\n",
    "#             # cond_tensor_jd = cond_tensor_jd.cuda(dev)\n",
    "#             # cond_tensor_nsh_jd = cond_tensor_nsh_jd.cuda(dev)\n",
    "#             # mask_tensor_M1_train_jd = mask_tensor_M1_train_jd.cuda(dev)\n",
    "#             # mask_tensor_Mdiff_train_jd = mask_tensor_Mdiff_train_jd.cuda(dev)\n",
    "#             # X_M1_jd = X_M1_jd.cuda(dev)\n",
    "#             # X_Nhalo_jd = X_Nhalo_jd.cuda(dev)\n",
    "#             # X_Mdiff_jd = X_Mdiff_jd.cuda(dev)\n",
    "#             # Nhalos_truth_tensor_jd = Nhalos_truth_tensor_jd.cuda(dev)\n",
    "#             # if mask_tensor_M1_train_FP_jd is not None:\n",
    "#             #     mask_tensor_M1_train_FP_jd = mask_tensor_M1_train_FP_jd.cuda(dev)\n",
    "#             #     X_M1_FP_jd = X_M1_FP_jd.cuda(dev)\n",
    "#             # torch.cuda.empty_cache()\n",
    "                            \n",
    "#             loss = model(\n",
    "#                 X_Mdiff_jd,\n",
    "#                 X_M1_jd,\n",
    "#                 X_Nhalo_jd,\n",
    "#                 cond_x=cond_tensor_jd,\n",
    "#                 cond_x_nsh=cond_tensor_nsh_jd,\n",
    "#                 mask_Mdiff_truth_all=mask_tensor_Mdiff_train_jd,\n",
    "#                 mask_M1_truth_all=mask_tensor_M1_train_jd,\n",
    "#                 Nhalos_truth_all=Nhalos_truth_tensor_jd,\n",
    "#                 use_Ntot_samples=False,\n",
    "#                 use_M1_samples=False,\n",
    "#                 train_Ntot=train_Ntot,\n",
    "#                 train_M1=train_M1,\n",
    "#                 train_Mdiff=train_Mdiff,\n",
    "#                 # x_Mdiff_FP=X_Mdiff_FP,\n",
    "#                 x_M1_FP=X_M1_FP_jd,\n",
    "#                 # x_Ntot_FP=X_Nhalo_FP,\n",
    "#                 # Nhalos_truth_all_FP=Nhalos_truth_tensor_FP,\n",
    "#                 # mask_Mdiff_truth_all_FP=mask_tensor_Mdiff_train_FP,\n",
    "#                 mask_M1_truth_all_FP=mask_tensor_M1_train_FP_jd,\n",
    "#                 L2norm_Ntothist=L2norm_Ntothist,\n",
    "#                 L2norm_M1hist=L2norm_M1hist        \n",
    "#                 )\n",
    "\n",
    "#             loss.backward()\n",
    "#             optimizer.step()\n",
    "#             scheduler.step(loss)\n",
    "#             epoch_tot_counter += 1\n",
    "#             if (np.mod(jt, int(nepochs / 50)) == 0) or (jt == nepochs - 1):\n",
    "#                 if float(loss.cpu().detach().numpy()) < loss_min:\n",
    "#                     loss_min = float(loss.cpu().detach().numpy())\n",
    "#                     print('saving bf at:', ', with loss:', np.round(loss_min, 5), ', at epoch:', jt, \n",
    "#                         'learning rate:', optimizer.param_groups[0]['lr'], ', train_Ntot:', train_Ntot, \n",
    "#                         'train_M1:', train_M1, ', train_Mdiff:', train_Mdiff, ', epoch_tot_counter:', epoch_tot_counter)\n",
    "#                     lr=optimizer.param_groups[0]['lr']\n",
    "#                     # print(loss_min, lr)\n",
    "#                     state = {'loss_min': loss_min, 'state_dict': model.state_dict(), 'optimizer': optimizer.state_dict(),\n",
    "#                             'scheduler': scheduler.state_dict(), 'loss':loss, 'lr':lr, 'epoch_tot_counter':epoch_tot_counter}\n",
    "\n",
    "#                     torch.save(\n",
    "#                         state, save_bestfit_model_name\n",
    "#                         )\n",
    "\n",
    "\n"
   ]
  },
  {
   "cell_type": "code",
   "execution_count": 19,
   "metadata": {},
   "outputs": [
    {
     "ename": "NameError",
     "evalue": "name 'cond_tensor_jd' is not defined",
     "output_type": "error",
     "traceback": [
      "\u001b[0;31m---------------------------------------------------------------------------\u001b[0m",
      "\u001b[0;31mNameError\u001b[0m                                 Traceback (most recent call last)",
      "\u001b[1;32m/mnt/home/spandey/ceph/AR_NPE/notebooks/TEST_ROCKSTAR_RUNS/FINAL_CHECK_Ntot_M1_only2.ipynb Cell 31\u001b[0m line \u001b[0;36m4\n\u001b[1;32m      <a href='vscode-notebook-cell://tunnel%2Brusty/mnt/home/spandey/ceph/AR_NPE/notebooks/TEST_ROCKSTAR_RUNS/FINAL_CHECK_Ntot_M1_only2.ipynb#X41sdnNjb2RlLXJlbW90ZQ%3D%3D?line=0'>1</a>\u001b[0m \u001b[39m# model_Ntot\u001b[39;00m\n\u001b[1;32m      <a href='vscode-notebook-cell://tunnel%2Brusty/mnt/home/spandey/ceph/AR_NPE/notebooks/TEST_ROCKSTAR_RUNS/FINAL_CHECK_Ntot_M1_only2.ipynb#X41sdnNjb2RlLXJlbW90ZQ%3D%3D?line=1'>2</a>\u001b[0m \u001b[39m# base_dist_Ntot\u001b[39;00m\n\u001b[1;32m      <a href='vscode-notebook-cell://tunnel%2Brusty/mnt/home/spandey/ceph/AR_NPE/notebooks/TEST_ROCKSTAR_RUNS/FINAL_CHECK_Ntot_M1_only2.ipynb#X41sdnNjb2RlLXJlbW90ZQ%3D%3D?line=2'>3</a>\u001b[0m \u001b[39m# 203968/1817977 \u001b[39;00m\n\u001b[0;32m----> <a href='vscode-notebook-cell://tunnel%2Brusty/mnt/home/spandey/ceph/AR_NPE/notebooks/TEST_ROCKSTAR_RUNS/FINAL_CHECK_Ntot_M1_only2.ipynb#X41sdnNjb2RlLXJlbW90ZQ%3D%3D?line=3'>4</a>\u001b[0m cond_out \u001b[39m=\u001b[39m model\u001b[39m.\u001b[39mconv_layers(cond_tensor_jd[\u001b[39m0\u001b[39m])\n\u001b[1;32m      <a href='vscode-notebook-cell://tunnel%2Brusty/mnt/home/spandey/ceph/AR_NPE/notebooks/TEST_ROCKSTAR_RUNS/FINAL_CHECK_Ntot_M1_only2.ipynb#X41sdnNjb2RlLXJlbW90ZQ%3D%3D?line=4'>5</a>\u001b[0m cond_out \u001b[39m=\u001b[39m torch\u001b[39m.\u001b[39mcat((cond_out, cond_tensor_nsh_jd[\u001b[39m0\u001b[39m]), dim\u001b[39m=\u001b[39m\u001b[39m1\u001b[39m)\n\u001b[1;32m      <a href='vscode-notebook-cell://tunnel%2Brusty/mnt/home/spandey/ceph/AR_NPE/notebooks/TEST_ROCKSTAR_RUNS/FINAL_CHECK_Ntot_M1_only2.ipynb#X41sdnNjb2RlLXJlbW90ZQ%3D%3D?line=5'>6</a>\u001b[0m \u001b[39m# if self.sep_Ntot_cond:\u001b[39;00m\n",
      "\u001b[0;31mNameError\u001b[0m: name 'cond_tensor_jd' is not defined"
     ]
    }
   ],
   "source": [
    "# model_Ntot\n",
    "# base_dist_Ntot\n",
    "# 203968/1817977 \n",
    "cond_out = model.conv_layers(cond_tensor_jd[0])\n",
    "cond_out = torch.cat((cond_out, cond_tensor_nsh_jd[0]), dim=1)\n",
    "# if self.sep_Ntot_cond:\n",
    "cond_out_Ntot = model.cond_Ntot_layer(cond_out)\n",
    "\n",
    "Ntot_samp_tensor = model_Ntot.inverse(cond_out_Ntot)\n",
    "Ntot_samp = np.maximum(np.round(Ntot_samp_tensor.cpu().detach().numpy()) - 1, 0).astype(int)\n",
    "pl.figure()\n",
    "_ = pl.hist(Ntot_samp, bins=100, density=True, alpha=0.5)\n",
    "_ = pl.hist(0.2+Nhalos_truth_tensor_jd[0,...].cpu().detach().numpy(), bins=100, density=True, alpha=0.5)\n",
    "pl.yscale('log')\n",
    "\n"
   ]
  },
  {
   "cell_type": "code",
   "execution_count": null,
   "metadata": {},
   "outputs": [],
   "source": [
    "# # model_Ntot\n",
    "# # base_dist_Ntot\n",
    "# # 203968/1817977 \n",
    "# cond_out = model.conv_layers(cond_tensor_jd[0])\n",
    "# cond_out = torch.cat((cond_out, cond_tensor_nsh_jd[0]), dim=1)\n",
    "# # if self.sep_Ntot_cond:\n",
    "# # cond_out_Ntot = model.cond_Ntot_layer(cond_out)\n",
    "# cond_inp_M1 = torch.cat([Nhalos_truth_tensor_jd[0], cond_out], dim=1)\n",
    "# cond_inp_M1 = torch.cat([cond_inp_M1, X_M1_FP_jd[0]], dim=1)\n",
    "# cond_inp_M1 = torch.cat([cond_inp_M1, mask_tensor_M1_train_FP_jd[0][:,None]], dim=1)\n",
    "# cond_inp_M1 = model.cond_M1_layer(cond_inp_M1)\n",
    "\n",
    "# # Ntot_samp_tensor = model_Ntot.inverse(cond_out_Ntot)\n",
    "# M1_samp, _ = model.M1_model.inverse(cond_inp_M1, mask_tensor_M1_samp)\n",
    "\n",
    "# Ntot_samp = np.maximum(np.round(Ntot_samp_tensor.cpu().detach().numpy()) - 1, 0).astype(int)\n",
    "# pl.figure()\n",
    "# _ = pl.hist(Ntot_samp, bins=100, density=True, alpha=0.5)\n",
    "# _ = pl.hist(0.2+Nhalos_truth_tensor_jd[0,...].cpu().detach().numpy(), bins=100, density=True, alpha=0.5)\n",
    "# pl.yscale('log')\n",
    "\n"
   ]
  },
  {
   "cell_type": "code",
   "execution_count": 8,
   "metadata": {},
   "outputs": [
    {
     "name": "stdout",
     "output_type": "stream",
     "text": [
      "\n"
     ]
    }
   ],
   "source": [
    "# # for jf in range(7):\n",
    "# #     save_bestfit_model_name = save_bestfit_model_dir + '/flow_' + str(jf)\n",
    "# #     bestfit_model = (torch.load(save_bestfit_model_name))\n",
    "# #     loss_min = bestfit_model['loss_min']\n",
    "# #     print(loss_min)\n",
    "\n",
    "# num_cond_Ntot = num_cond\n",
    "\n",
    "# model_Ntot = SumGaussModel(\n",
    "#     hidden_dim=hidden_dim_MAF,\n",
    "#     num_cond=num_cond_Ntot,\n",
    "#     ngauss=return_dict_train['ngauss_Nhalo'],\n",
    "#     mu_all=return_dict_train['mu_all'],\n",
    "#     sig_all=return_dict_train['sig_all'],\n",
    "#     base_dist=base_dist_Ntot   \n",
    "#     )\n",
    "\n",
    "# num_cond_M1 = num_cond + 1\n",
    "# # if conditioned on fastpm we will also give the fastpm fof M1 halos and its mask as conditional\n",
    "# if cond_sim == 'fastpm':\n",
    "#     num_cond_M1 += 2\n",
    "\n",
    "# model_M1 = NSF_M1_CNNcond(\n",
    "#     K=K_M1,\n",
    "#     B=B_M1,\n",
    "#     hidden_dim=hidden_dim_MAF,\n",
    "#     num_cond=num_cond_M1,\n",
    "#     nflows=nflows_M1_NSF,\n",
    "#     base_dist=base_dist_M1,\n",
    "#     ngauss=ngauss_M1,\n",
    "#     lgM_rs_tointerp=lgM_rescaled,\n",
    "#     hmf_pdf_tointerp=hmf_pdf,\n",
    "#     hmf_cdf_tointerp=hmf_cdf    \n",
    "#     )\n",
    "\n",
    "# ndim_diff = return_dict_train['M_diff_halos_all_norm_masked'][0].shape[2]\n",
    "# num_cond_Mdiff = num_cond + 2\n",
    "# model_Mdiff = NSF_Mdiff_CNNcond(\n",
    "#     dim=ndim_diff,\n",
    "#     K=K_Mdiff,\n",
    "#     B=B_Mdiff,\n",
    "#     hidden_dim=hidden_dim_MAF,\n",
    "#     num_cond=num_cond_Mdiff,\n",
    "#     nflows=nflows_Mdiff_NSF,\n",
    "#     base_dist=base_dist_Mdiff,\n",
    "#     mu_pos=True\n",
    "#     )\n",
    "\n",
    "# ndim = ndim_diff + 1\n",
    "# model = COMBINED_Model(\n",
    "#     None,\n",
    "#     model_Mdiff,\n",
    "#     # None,\n",
    "#     model_M1,\n",
    "#     model_Ntot,\n",
    "#     ndim,\n",
    "#     ksize,\n",
    "#     ns_d,\n",
    "#     ns_h,\n",
    "#     nb,\n",
    "#     ninp,\n",
    "#     nfeature_cnn,\n",
    "#     nout_cnn,\n",
    "#     layers_types=layers_types,\n",
    "#     act='tanh',\n",
    "#     padding='valid',\n",
    "#     sep_Ntot_cond=True,\n",
    "#     sep_M1_cond=True,\n",
    "#     sep_Mdiff_cond=True,\n",
    "#     num_cond_Ntot = num_cond_Ntot,\n",
    "#     num_cond_M1 = num_cond_M1,\n",
    "#     num_cond_Mdiff = num_cond_Mdiff\n",
    "#     )\n",
    "\n",
    "# model.to(dev)\n",
    "\n",
    "# print()\n",
    "\n",
    "# optimizer = optim.Adam(model.parameters(), lr=learning_rate)\n",
    "\n",
    "# loss_all_it = []\n",
    "# loss_min = 1e20\n",
    "# epoch_tot_counter = 0\n",
    "# scheduler = optim.lr_scheduler.ReduceLROnPlateau(optimizer, 'min', factor=0.5, patience=200, verbose=True, cooldown=200, min_lr=1e-8)\n",
    "\n",
    "# save_bestfit_model_name = save_bestfit_model_dir + '/flow_' + str(0)\n",
    "# bestfit_model = (torch.load(save_bestfit_model_name))\n",
    "# model.load_state_dict(bestfit_model['state_dict'])\n",
    "# optimizer.load_state_dict(bestfit_model['optimizer'])\n",
    "# scheduler.load_state_dict(bestfit_model['scheduler'])\n",
    "# # loss_min = bestfit_model['loss_min']\n",
    "# loss = bestfit_model['loss']\n"
   ]
  },
  {
   "cell_type": "code",
   "execution_count": 9,
   "metadata": {},
   "outputs": [
    {
     "name": "stdout",
     "output_type": "stream",
     "text": [
      "tensor([-1.2101], device='cuda:0', requires_grad=True)\n"
     ]
    }
   ],
   "source": [
    "print(loss)\n"
   ]
  },
  {
   "cell_type": "code",
   "execution_count": 10,
   "metadata": {},
   "outputs": [],
   "source": [
    "# print('loading bestfit model')\n",
    "# bestfit_model = (torch.load(save_bestfit_model_name))\n",
    "# model.load_state_dict(bestfit_model['state_dict'])\n",
    "# optimizer.load_state_dict(bestfit_model['optimizer'])\n",
    "# scheduler.load_state_dict(bestfit_model['scheduler'])\n",
    "# loss_min = bestfit_model['loss_min']\n",
    "# loss = bestfit_model['loss']\n",
    "# lr = bestfit_model['lr']\n",
    "# epoch_tot_counter = bestfit_model['epoch_tot_counter']\n",
    "# for g in optimizer.param_groups:\n",
    "#     g['lr'] = lr\n",
    "\n",
    "# print(loss_min, epoch_tot_counter, lr)\n",
    "\n",
    "\n"
   ]
  },
  {
   "cell_type": "code",
   "execution_count": 48,
   "metadata": {},
   "outputs": [
    {
     "name": "stdout",
     "output_type": "stream",
     "text": [
      "-1.441648006439209 6921 cic\n",
      "DOING SIM NUMBER:1\n",
      "[1731987  255616   77662   23411    6370    1640     367      82      10\n",
      "       1       5       1]\n",
      "[1727358  258423   79364   23661    6363    1535     355      79      10\n",
      "       2       2       0]\n"
     ]
    },
    {
     "name": "stderr",
     "output_type": "stream",
     "text": [
      "100%|██████████| 8/8 [00:00<00:00, 29826.16it/s]\n",
      "100%|██████████| 8/8 [00:00<00:00, 32832.13it/s]\n"
     ]
    },
    {
     "name": "stdout",
     "output_type": "stream",
     "text": [
      "\n",
      "Computing power spectrum of the field...\n",
      "Time to complete loop = 0.06\n",
      "Time taken = 0.09 seconds\n",
      "\n",
      "Computing power spectrum of the field...\n",
      "Time to complete loop = 0.06\n",
      "Time taken = 0.08 seconds\n",
      "\n",
      "Computing power spectra of the fields...\n",
      "Time FFTS = 0.04\n",
      "Time loop = 0.04\n",
      "Time taken = 0.09 seconds\n",
      "\n",
      "Computing power spectrum of the field...\n",
      "Time to complete loop = 0.06\n",
      "Time taken = 0.08 seconds\n",
      "\n",
      "Computing power spectrum of the field...\n",
      "Time to complete loop = 0.06\n",
      "Time taken = 0.07 seconds\n",
      "\n",
      "Computing power spectra of the fields...\n",
      "Time FFTS = 0.02\n",
      "Time loop = 0.04\n",
      "Time taken = 0.06 seconds\n",
      "\n",
      "Computing power spectrum of the field...\n",
      "Time to complete loop = 0.06\n",
      "Time taken = 0.07 seconds\n",
      "\n",
      "Computing power spectrum of the field...\n",
      "Time to complete loop = 0.06\n",
      "Time taken = 0.07 seconds\n",
      "\n",
      "Computing power spectra of the fields...\n",
      "Time FFTS = 0.02\n",
      "Time loop = 0.04\n",
      "Time taken = 0.06 seconds\n",
      "\n",
      "Computing power spectrum of the field...\n",
      "Time to complete loop = 0.06\n",
      "Time taken = 0.07 seconds\n",
      "\n",
      "Computing power spectrum of the field...\n",
      "Time to complete loop = 0.06\n",
      "Time taken = 0.07 seconds\n",
      "\n",
      "Computing power spectra of the fields...\n",
      "Time FFTS = 0.02\n",
      "Time loop = 0.04\n",
      "Time taken = 0.06 seconds\n",
      "\n",
      "Computing power spectrum of the field...\n",
      "Time to complete loop = 0.06\n",
      "Time taken = 0.07 seconds\n",
      "\n",
      "Computing power spectrum of the field...\n",
      "Time to complete loop = 0.06\n",
      "Time taken = 0.07 seconds\n",
      "\n",
      "Computing power spectra of the fields...\n",
      "Time FFTS = 0.02\n",
      "Time loop = 0.04\n",
      "Time taken = 0.06 seconds\n"
     ]
    }
   ],
   "source": [
    "import readfof\n",
    "import numpy as np\n",
    "import pickle as pk \n",
    "# from nbodykit.lab import *\n",
    "import h5py as h5\n",
    "import numpy as np\n",
    "import Pk_library as PKL\n",
    "import MAS_library as MASL\n",
    "import yaml\n",
    "\n",
    "print(loss_min, epoch_tot_counter, stype)\n",
    "\n",
    "train_Ntot, train_M1, train_Mdiff = 1, 1, 0\n",
    "# train_Ntot, train_M1, train_Mdiff = 1, 1, 0\n",
    "# train_Ntot, train_M1, train_Mdiff = 1, 0, 0\n",
    "isim_start = 1\n",
    "isim_end = 2\n",
    "isim_all = np.arange(isim_start, isim_end).astype(int)\n",
    "for ji in range(len(isim_all)):\n",
    "    saved_all_jsim = {}\n",
    "    # now we load the test data\n",
    "    isim = isim_all[ji]\n",
    "    print('DOING SIM NUMBER:' + str(isim))\n",
    "    nstart = 0\n",
    "    nsims_test = 512\n",
    "    df_d_all_test, df_d_all_nsh_test, df_Mh_all_test, df_Nh_test, _ = load_density_halo_data_NGP(\n",
    "        [isim], ns_d, nb, nf, nc, z_all, ns_h,sdir='/mnt/home/spandey/ceph/Quijote/data_NGP_self',\n",
    "        stype=stype, mass_type=mass_type, lgMmincutstr = lgMmincutstr, is_HR=is_HR\n",
    "        )\n",
    "\n",
    "    if cond_sim == 'fastpm':\n",
    "        df_d_all_test_FP, df_d_all_nsh_test_FP, df_Mh_all_test_FP, df_Nh_test_FP, _ = load_density_halo_data_NGP(\n",
    "            [isim], ns_d, nb, nf, nc, z_all_FP, ns_h,sdir='/mnt/home/spandey/ceph/Quijote/data_NGP_self/fastpm',\n",
    "            stype=stype\n",
    "            )\n",
    "\n",
    "    # things are too big to load all at once, so we load in batches\n",
    "    nq = nb**3 // nsims_test\n",
    "    save_subvol_Nhalo = np.zeros((nb**3, nax_h, nax_h, nax_h))\n",
    "    save_subvol_Nhalo_truth = np.zeros((nb**3, nax_h, nax_h, nax_h))\n",
    "    cond_z0_truth = np.zeros((nb**3, nax_h, nax_h, nax_h))\n",
    "    save_subvol_M1 = np.zeros((nb**3, nax_h, nax_h, nax_h, 1))\n",
    "    save_subvol_M1_truth = np.zeros((nb**3, nax_h, nax_h, nax_h, 1))\n",
    "    save_subvol_Mdiff = np.zeros((nb**3, nax_h, nax_h, nax_h, ndim_diff))\n",
    "    save_subvol_Mdiff_truth = np.zeros((nb**3, nax_h, nax_h, nax_h, ndim_diff))\n",
    "    mask_subvol_Mtot = np.zeros((nb**3, nax_h, nax_h, nax_h, ndim_diff + 1))\n",
    "    mask_subvol_Mtot_truth = np.zeros((nb**3, nax_h, nax_h, nax_h, ndim_diff + 1))\n",
    "\n",
    "    # nfeatures_M1_tot = 20\n",
    "    # cond_inp_M1_all = np.zeros((nb**3, nax_h, nax_h, nax_h, nfeatures_M1_tot))\n",
    "    density_out_M1_loc_all_pad = np.zeros((nb**3, nax_h+6, nax_h+6, nax_h+6))\n",
    "    density_out_M1_loc_all = np.zeros((nb**3, nax_h, nax_h, nax_h))\n",
    "\n",
    "    nscount = 0\n",
    "    for jq in range(nq):\n",
    "        # Load the density data\n",
    "\n",
    "\n",
    "        # Prepare the density and halo data\n",
    "        return_dict_test = prep_density_halo_cats(\n",
    "            df_d_all_test,\n",
    "            df_d_all_nsh_test,\n",
    "            df_Mh_all_test,\n",
    "            df_Nh_test,\n",
    "            nsims=nsims_test,\n",
    "            nstart=nscount,\n",
    "            Mmin=lgMmin, Mmax=lgMmax, rescaleM_sub=rescale_sub, Nmax=Nmax\n",
    "            )\n",
    "        \n",
    "        if cond_sim == 'fastpm':\n",
    "            return_dict_test_FP = prep_density_halo_cats(\n",
    "                df_d_all_test_FP,\n",
    "                df_d_all_nsh_test_FP,\n",
    "                df_Mh_all_test_FP,\n",
    "                df_Nh_test_FP,\n",
    "                nsims=nsims_test,\n",
    "                nstart=nscount,\n",
    "                Mmin=lgMmin, Mmax=lgMmax, rescaleM_sub=rescale_sub\n",
    "                )    \n",
    "\n",
    "        if cond_sim == 'fastpm':\n",
    "            cond_tensor_test = torch.Tensor(np.copy(np.array([return_dict_test_FP['df_d_all']]))).cuda(dev)\n",
    "            cond_nsh_test = np.moveaxis(return_dict_test_FP['df_d_all_nsh'], 1, 4)\n",
    "            cond_nsh_test = np.array([cond_nsh_test])\n",
    "            cond_tensor_nsh_test = torch.Tensor(np.copy(cond_nsh_test.reshape(1,nsims_test * (nax_h ** 3), ninp))).cuda(dev)    \n",
    "        else:\n",
    "            cond_tensor_test = torch.Tensor(np.copy(np.array([return_dict_test['df_d_all']]))).cuda(dev)\n",
    "            cond_nsh_test = np.moveaxis(return_dict_test['df_d_all_nsh'], 1, 4)\n",
    "            cond_nsh_test = np.array([cond_nsh_test])\n",
    "            cond_tensor_nsh_test = torch.Tensor(np.copy(cond_nsh_test.reshape(1,nsims_test * (nax_h ** 3), ninp))).cuda(dev)\n",
    "\n",
    "        mask_tensor_M1_test = torch.Tensor(np.copy(return_dict_test['mask_M1'].reshape(1,nsims_test * (nax_h**3)))).cuda(dev)\n",
    "        mask_tensor_Mdiff_test = torch.Tensor(\n",
    "            (return_dict_test['mask_M_diff'].reshape(1,nsims_test * (nax_h**3), ndim_diff))\n",
    "            ).cuda(dev)\n",
    "\n",
    "        X_M1_test = torch.Tensor((return_dict_test['M1_halos_all_norm'].reshape(1,nsims_test * (nax_h**3), 1))).cuda(dev)\n",
    "        X_Nhalo_test = torch.Tensor(return_dict_test['Nhalo_train_mg_arr'].reshape(1,nsims_test * (nax_h**3), 1)).cuda(dev)\n",
    "        X_Mdiff_test = torch.Tensor(\n",
    "            return_dict_test['M_diff_halos_all_norm_masked'].reshape(1,nsims_test * (nax_h**3), ndim_diff)\n",
    "            ).cuda(dev)\n",
    "        Nhalos_truth_tensor_test = torch.Tensor(((return_dict_test['N_halos_all'].reshape(1,nsims_test * (nax_h**3),\n",
    "                                                                                        1)))).cuda(dev)\n",
    "        \n",
    "        if cond_sim == 'fastpm':\n",
    "            mask_tensor_M1_test_FP = torch.Tensor(np.copy(return_dict_test_FP['mask_M1'].reshape(1,nsims_test * (nax_h**3)))).cuda(dev)\n",
    "            # mask_tensor_Mdiff_test_FP = torch.Tensor(\n",
    "            #     (return_dict_test_FP['mask_M_diff'].reshape(1,nsims_test * (nax_h**3), ndim_diff))\n",
    "            #     ).cuda(dev)\n",
    "\n",
    "            X_M1_test_FP = torch.Tensor((return_dict_test_FP['M1_halos_all_norm'].reshape(1,nsims_test * (nax_h**3), 1))).cuda(dev)\n",
    "            X_Nhalo_test_FP = torch.Tensor(return_dict_test_FP['Nhalo_train_mg_arr'].reshape(1,nsims_test * (nax_h**3), 1)).cuda(dev)\n",
    "            # X_Mdiff_test_FP = torch.Tensor(\n",
    "            #     return_dict_test_FP['M_diff_halos_all_norm_masked'].reshape(1,nsims_test * (nax_h**3), ndim_diff)\n",
    "            #     ).cuda(dev)\n",
    "            Nhalos_truth_tensor_test_FP = torch.Tensor(((return_dict_test_FP['N_halos_all'].reshape(1,nsims_test * (nax_h**3),\n",
    "                                                                                            1)))).cuda(dev)\n",
    "        else:\n",
    "            mask_tensor_M1_test_FP = None\n",
    "            mask_tensor_Mdiff_test_FP = None\n",
    "            X_M1_test_FP = None\n",
    "            X_Nhalo_test_FP = None\n",
    "            X_Mdiff_test_FP = None\n",
    "            Nhalos_truth_tensor_test_FP = None\n",
    "\n",
    "        Ntot_samp_test, M1_samp_test, M_diff_samp_test, mask_tensor_M1_samp_test, mask_tensor_Mdiff_samp_test, cond_inp_M1_test = model.inverse(\n",
    "            cond_x=cond_tensor_test,\n",
    "            cond_x_nsh=cond_tensor_nsh_test,\n",
    "            use_truth_Nhalo=1-train_Ntot,\n",
    "                use_truth_M1=1-train_M1,\n",
    "                use_truth_Mdiff=1-train_Mdiff, \n",
    "            mask_Mdiff_truth=mask_tensor_Mdiff_test,\n",
    "            mask_M1_truth=mask_tensor_M1_test,\n",
    "            Nhalos_truth=X_Nhalo_test,\n",
    "            M1_truth=X_M1_test,\n",
    "            Mdiff_truth=X_Mdiff_test,\n",
    "            train_Ntot=train_Ntot,\n",
    "            train_M1=train_M1,\n",
    "            train_Mdiff=train_Mdiff,\n",
    "            x_M1_FP=X_M1_test_FP,   \n",
    "            mask_M1_truth_all_FP=mask_tensor_M1_test_FP \n",
    "            )\n",
    "        Ntot_samp_test = Ntot_samp_test[0][:,np.newaxis]\n",
    "        # print(Ntot_samp_test.shape)\n",
    "        save_subvol_Nhalo[nscount:nscount + nsims_test, ...] = Ntot_samp_test.reshape(nsims_test, nax_h, nax_h, nax_h)\n",
    "        save_subvol_Nhalo_truth[nscount:nscount + nsims_test, ...] = Nhalos_truth_tensor_test.cpu().detach().numpy().reshape(nsims_test, nax_h, nax_h, nax_h)\n",
    "        save_subvol_M1[nscount:nscount + nsims_test,\n",
    "                    ...] = (M1_samp_test[0] * mask_tensor_M1_samp_test[0][:,0]\n",
    "                            ).cpu().detach().numpy().reshape(nsims_test, nax_h, nax_h, nax_h, 1)\n",
    "        save_subvol_M1_truth[nscount:nscount + nsims_test,\n",
    "                    ...] = (X_M1_test[0][:,0] * mask_tensor_M1_test[0]\n",
    "                            ).cpu().detach().numpy().reshape(nsims_test, nax_h, nax_h, nax_h, 1)    \n",
    "        # cond_inp_M1_all[nscount:nscount + nsims_test,\n",
    "        #                ...] = cond_inp_M1_test[0].cpu().detach().numpy().reshape(nsims_test, nax_h, nax_h, nax_h, nfeatures_M1_tot)\n",
    "        # density_out_M1_loc_all_pad[nscount:nscount + nsims_test,...] = (cond_tensor_test[0,:,0,...].cpu().detach().numpy())\n",
    "        # density_out_M1_loc_all[nscount:nscount + nsims_test,...] = (cond_nsh_test[0,...,0])\n",
    "\n",
    "        save_subvol_Mdiff[nscount:nscount + nsims_test,\n",
    "                        ...] = (M_diff_samp_test[0] * mask_tensor_Mdiff_samp_test[0]\n",
    "                                ).cpu().detach().numpy().reshape(nsims_test, nax_h, nax_h, nax_h, ndim_diff)\n",
    "        \n",
    "        save_subvol_Mdiff_truth[nscount:nscount + nsims_test,\n",
    "                        ...] = (X_Mdiff_test[0] * mask_tensor_Mdiff_test[0]\n",
    "                                ).cpu().detach().numpy().reshape(nsims_test, nax_h, nax_h, nax_h, ndim_diff)\n",
    "        \n",
    "        mask_subvol_Mtot[nscount:nscount + nsims_test, ...,\n",
    "                        0] = mask_tensor_M1_samp_test[0].cpu().detach().numpy().reshape(nsims_test, nax_h, nax_h, nax_h)\n",
    "        mask_subvol_Mtot[\n",
    "            nscount:nscount + nsims_test, ...,\n",
    "            1:] = mask_tensor_Mdiff_samp_test[0].cpu().detach().numpy().reshape(nsims_test, nax_h, nax_h, nax_h, ndim_diff)\n",
    "\n",
    "        mask_subvol_Mtot_truth[nscount:nscount + nsims_test, ...,\n",
    "                        0] = mask_tensor_M1_test[0].cpu().detach().numpy().reshape(nsims_test, nax_h, nax_h, nax_h)\n",
    "        mask_subvol_Mtot_truth[\n",
    "            nscount:nscount + nsims_test, ...,\n",
    "            1:] = mask_tensor_Mdiff_test[0].cpu().detach().numpy().reshape(nsims_test, nax_h, nax_h, nax_h, ndim_diff)\n",
    "        \n",
    "        \n",
    "        cond_z0_truth[nscount:nscount + nsims_test, ...] = cond_tensor_nsh_test[0].cpu().detach().numpy().reshape(nsims_test, nax_h, nax_h, nax_h, ninp)[...,0]\n",
    "        # print(nscount, nscount + nsims_test)\n",
    "\n",
    "        nscount += nsims_test\n",
    "        torch.cuda.empty_cache()\n",
    "\n",
    "\n",
    "    save_subvol_Mtot = np.zeros((nb**3, nax_h, nax_h, nax_h, ndim_diff + 1))\n",
    "    Mmin, Mmax = return_dict_test['Mmin'], return_dict_test['Mmax']\n",
    "    for jd in range(ndim_diff + 1):\n",
    "        if jd == 0:\n",
    "            save_subvol_Mtot[..., jd] = (save_subvol_M1[..., 0] + 0.5) * (Mmax - Mmin) + Mmin\n",
    "        else:\n",
    "            save_subvol_Mtot[...,\n",
    "                            jd] = (save_subvol_Mtot[..., jd - 1]) - (save_subvol_Mdiff[..., jd - 1]) * (Mmax - Mmin)\n",
    "\n",
    "\n",
    "    save_subvol_Mtot *= mask_subvol_Mtot\n",
    "\n",
    "    ind_less_Mmin = save_subvol_Mtot < Mmin\n",
    "    ind_greater_Mmax = save_subvol_Mtot > Mmax\n",
    "    save_subvol_Mtot[ind_less_Mmin] = 0.0\n",
    "    save_subvol_Mtot[ind_greater_Mmax] = 0.0\n",
    "\n",
    "\n",
    "    save_subvol_Mtot_truth = np.zeros((nb**3, nax_h, nax_h, nax_h, ndim_diff + 1))\n",
    "    Mmin, Mmax = return_dict_test['Mmin'], return_dict_test['Mmax']\n",
    "    for jd in range(ndim_diff + 1):\n",
    "        if jd == 0:\n",
    "            save_subvol_Mtot_truth[..., jd] = (save_subvol_M1_truth[..., 0] + 0.5) * (Mmax - Mmin) + Mmin\n",
    "        else:\n",
    "            save_subvol_Mtot_truth[...,\n",
    "                            jd] = (save_subvol_Mtot_truth[..., jd - 1]) - (save_subvol_Mdiff_truth[..., jd - 1]) * (Mmax - Mmin)\n",
    "\n",
    "\n",
    "    save_subvol_Mtot_truth *= mask_subvol_Mtot_truth\n",
    "                \n",
    "\n",
    "    sdir='/mnt/home/spandey/ceph/Quijote/data_NGP_self'\n",
    "    # load the halo data\n",
    "    if is_HR:\n",
    "        fname = sdir + '/' + str(isim) + '/halos_HR_' + str(mass_type) + '_lgMmincut_' + lgMmincutstr + '_subvol_res_' + str(ns_h) + '_z=0.pk'\n",
    "    else:\n",
    "        fname = sdir + '/' + str(isim) + '/halos_' + str(mass_type) + '_lgMmincut_' + lgMmincutstr + '_subvol_res_' + str(ns_h) + '_z=0.pk'\n",
    "    df_h_subvol = pk.load(open(fname, 'rb'))\n",
    "    # This has information on the halo mass for all the halos in the voxel\n",
    "    df_Mh_all_truth = df_h_subvol['M_halos']\n",
    "    df_Mh_all_truth = np.flip(np.sort(df_Mh_all_truth, axis=-1), axis=-1)\n",
    "    # This has information on the number of halos in the voxel\n",
    "    df_Nh_truth = df_h_subvol['N_halos']\n",
    "\n",
    "    if is_HR:\n",
    "        fname = sdir + '/' + str(isim) + '/halos_HR_' + str(mass_type) + '_lgMmincut_' + lgMmincutstr + '_full_res_' + str(ns_h) + '_z=0.pk'\n",
    "    else:\n",
    "        fname = sdir + '/' + str(isim) + '/halos_' + str(mass_type) + '_lgMmincut_' + lgMmincutstr + '_full_res_' + str(ns_h) + '_z=0.pk'\n",
    "    df_h_full = pk.load(open(fname, 'rb'))\n",
    "    df_Mh_all_truth_comb, df_Nh_truth_comb = df_h_full['M_halos_combined'], df_h_full['N_halos_combined']\n",
    "\n",
    "    delta_all_z0 = np.exp(df_d_all_nsh_test[:,0,...])-1\n",
    "\n",
    "    bin_cents = np.array(np.arange(Nmax + 1))\n",
    "    bin_edges = 0.5*(bin_cents[1:] + bin_cents[:-1])\n",
    "    bin_edges = np.insert(bin_edges,0, -0.5)\n",
    "    bin_edges = np.insert(bin_edges,len(bin_edges), bin_cents[-1] + 0.5)\n",
    "    saved_all_jsim['Nhalo_bin_cents'] = bin_cents\n",
    "    saved_all_jsim['Nhalo_bin_edges'] = bin_edges\n",
    "\n",
    "    delta_min_p, delta_max_p= -1.0, 500\n",
    "    indsel_dp = np.where((delta_all_z0 > delta_min_p) & (delta_all_z0 < delta_max_p))    \n",
    "    hist_truth_all, _ = np.histogram(df_Nh_truth[indsel_dp], bins=bin_edges)\n",
    "    hist_samp_all, _ = np.histogram(save_subvol_Nhalo[indsel_dp].flatten(), bins=bin_edges)\n",
    "    saved_all_jsim['hist_truth_all_Nhalo'] = hist_truth_all\n",
    "    saved_all_jsim['hist_samp_all_Nhalo'] = hist_samp_all\n",
    "    print(hist_samp_all)\n",
    "    print(hist_truth_all)\n",
    "\n",
    "    delta_min_p, delta_max_p= -1.0, 0\n",
    "    indsel_dp = np.where((delta_all_z0 > delta_min_p) & (delta_all_z0 < delta_max_p))    \n",
    "    hist_truth_low, _ = np.histogram(df_Nh_truth[indsel_dp], bins=bin_edges)\n",
    "    hist_samp_low, _ = np.histogram(save_subvol_Nhalo[indsel_dp].flatten(), bins=bin_edges)\n",
    "    saved_all_jsim['hist_truth_low_Nhalo'] = hist_truth_low\n",
    "    saved_all_jsim['hist_samp_low_Nhalo'] = hist_samp_low\n",
    "\n",
    "    delta_min_p, delta_max_p= 0.0, 2.0\n",
    "    indsel_dp = np.where((delta_all_z0 > delta_min_p) & (delta_all_z0 < delta_max_p))    \n",
    "    hist_truth_mid, _ = np.histogram(df_Nh_truth[indsel_dp], bins=bin_edges)\n",
    "    hist_samp_mid, _ = np.histogram(save_subvol_Nhalo[indsel_dp].flatten(), bins=bin_edges)\n",
    "    saved_all_jsim['hist_truth_mid_Nhalo'] = hist_truth_mid\n",
    "    saved_all_jsim['hist_samp_mid_Nhalo'] = hist_samp_mid\n",
    "\n",
    "    delta_min_p, delta_max_p= 2.0, 500\n",
    "    indsel_dp = np.where((delta_all_z0 > delta_min_p) & (delta_all_z0 < delta_max_p))    \n",
    "    hist_truth_high, _ = np.histogram(df_Nh_truth[indsel_dp], bins=bin_edges)\n",
    "    hist_samp_high, _ = np.histogram(save_subvol_Nhalo[indsel_dp].flatten(), bins=bin_edges)\n",
    "    saved_all_jsim['hist_truth_high_Nhalo'] = hist_truth_high\n",
    "    saved_all_jsim['hist_samp_high_Nhalo'] = hist_samp_high\n",
    "\n",
    "\n",
    "    delta_all_z0 = np.exp(df_d_all_nsh_test[:,0,...])-1\n",
    "    bin_cents_M = np.linspace(lgMmin, lgMmax, 20)[1:-1]\n",
    "    bin_edges_M = 0.5*(bin_cents_M[1:] + bin_cents_M[:-1])\n",
    "    delta_b = 0.5*(bin_cents_M[1] - bin_cents_M[0])\n",
    "    bin_edges_M = np.insert(bin_edges_M,0, bin_cents_M[0] - delta_b)\n",
    "    bin_edges_M = np.insert(bin_edges_M,len(bin_edges_M), bin_cents_M[-1] - delta_b)\n",
    "    saved_all_jsim['Mhalo_bin_cents'] = bin_cents_M\n",
    "    saved_all_jsim['Mhalo_bin_edges'] = bin_edges_M\n",
    "\n",
    "\n",
    "    delta_min_p, delta_max_p = -1.0, 500.0\n",
    "    indsel_dp = np.where((delta_all_z0 > delta_min_p) & (delta_all_z0 < delta_max_p))\n",
    "    hist_M_truth_all = np.zeros((4, len(bin_cents_M)))\n",
    "    hist_M_samp_all = np.zeros((4, len(bin_cents_M)))    \n",
    "    for idim in range(4):\n",
    "        M_idim_truth = df_Mh_all_truth[..., idim]\n",
    "        hist_truth, _ = np.histogram(M_idim_truth[indsel_dp].flatten(), bins=bin_edges_M)\n",
    "        hist_M_truth_all[idim, :] = hist_truth\n",
    "        \n",
    "        M_idim_samp = save_subvol_Mtot[..., idim]\n",
    "        hist_sampled, _ = np.histogram(M_idim_samp[indsel_dp].flatten(), bins=bin_edges_M)\n",
    "        hist_M_samp_all[idim, :] = hist_sampled\n",
    "    saved_all_jsim['hist_truth_all_Mhalo'] = hist_M_truth_all\n",
    "    saved_all_jsim['hist_samp_all_Mhalo'] = hist_M_samp_all\n",
    "\n",
    "    delta_min_p, delta_max_p = -1.0, 0.0\n",
    "    indsel_dp = np.where((delta_all_z0 > delta_min_p) & (delta_all_z0 < delta_max_p))\n",
    "    hist_M_truth_low = np.zeros((4, len(bin_cents_M)))\n",
    "    hist_M_samp_low = np.zeros((4, len(bin_cents_M)))\n",
    "    for idim in range(4):\n",
    "        M_idim_truth = df_Mh_all_truth[..., idim]\n",
    "        hist_truth, _ = np.histogram(M_idim_truth[indsel_dp].flatten(), bins=bin_edges_M)\n",
    "        hist_M_truth_low[idim, :] = hist_truth\n",
    "        \n",
    "        M_idim_samp = save_subvol_Mtot[..., idim]\n",
    "        hist_sampled, _ = np.histogram(M_idim_samp[indsel_dp].flatten(), bins=bin_edges_M)\n",
    "        hist_M_samp_low[idim, :] = hist_sampled\n",
    "    saved_all_jsim['hist_truth_low_Mhalo'] = hist_M_truth_low\n",
    "    saved_all_jsim['hist_samp_low_Mhalo'] = hist_M_samp_low\n",
    "\n",
    "    delta_min_p, delta_max_p = 0.0, 2.0\n",
    "    indsel_dp = np.where((delta_all_z0 > delta_min_p) & (delta_all_z0 < delta_max_p))\n",
    "    hist_M_truth_mid = np.zeros((4, len(bin_cents_M)))\n",
    "    hist_M_samp_mid = np.zeros((4, len(bin_cents_M)))\n",
    "    for idim in range(4):\n",
    "        M_idim_truth = df_Mh_all_truth[..., idim]\n",
    "        hist_truth, _ = np.histogram(M_idim_truth[indsel_dp].flatten(), bins=bin_edges_M)\n",
    "        hist_M_truth_mid[idim, :] = hist_truth\n",
    "        \n",
    "        M_idim_samp = save_subvol_Mtot[..., idim]\n",
    "        hist_sampled, _ = np.histogram(M_idim_samp[indsel_dp].flatten(), bins=bin_edges_M)\n",
    "        hist_M_samp_mid[idim, :] = hist_sampled\n",
    "    saved_all_jsim['hist_truth_mid_Mhalo'] = hist_M_truth_mid\n",
    "    saved_all_jsim['hist_samp_mid_Mhalo'] = hist_M_samp_mid\n",
    "\n",
    "    delta_min_p, delta_max_p = 2.0, 500.0\n",
    "    indsel_dp = np.where((delta_all_z0 > delta_min_p) & (delta_all_z0 < delta_max_p))\n",
    "    hist_M_truth_high = np.zeros((4, len(bin_cents_M)))\n",
    "    hist_M_samp_high = np.zeros((4, len(bin_cents_M)))\n",
    "    for idim in range(4):\n",
    "        M_idim_truth = df_Mh_all_truth[..., idim]\n",
    "        hist_truth, _ = np.histogram(M_idim_truth[indsel_dp].flatten(), bins=bin_edges_M)\n",
    "        hist_M_truth_high[idim, :] = hist_truth\n",
    "        \n",
    "        M_idim_samp = save_subvol_Mtot[..., idim]\n",
    "        hist_sampled, _ = np.histogram(M_idim_samp[indsel_dp].flatten(), bins=bin_edges_M)\n",
    "        hist_M_samp_high[idim, :] = hist_sampled\n",
    "    saved_all_jsim['hist_truth_high_Mhalo'] = hist_M_truth_high\n",
    "    saved_all_jsim['hist_samp_high_Mhalo'] = hist_M_samp_high\n",
    "\n",
    "    # # import pdb; pdb.set_trace()\n",
    "\n",
    "    # create empty arrays for Nhalos and M_halos\n",
    "    Nhalos = np.zeros((ns_h, ns_h, ns_h))\n",
    "    M_halos = np.zeros((ns_h, ns_h, ns_h, ndim_diff + 1))\n",
    "    M_halos_truth = np.zeros((ns_h, ns_h, ns_h, ndim_diff + 1))\n",
    "\n",
    "    subvol_size = ns_h // nb\n",
    "\n",
    "    ind_cart_lin = {}\n",
    "    ind_lin_cart = {}\n",
    "    jc = 0\n",
    "    from tqdm import tqdm\n",
    "    for jx in tqdm(range(nb)):\n",
    "        for jy in range(nb):\n",
    "            for jz in range(nb):\n",
    "                # get the sub-cube\n",
    "                ind_lin_cart[(jx, jy, jz)] = jc\n",
    "                ind_cart_lin[jc] = [jx, jy, jz]\n",
    "                jc += 1\n",
    "                \n",
    "\n",
    "    # iterate over subvolumes\n",
    "    jc = 0\n",
    "    for jx in range(nb):\n",
    "        for jy in range(nb):\n",
    "            for jz in range(nb):\n",
    "                Nhalos[jx * subvol_size:(jx + 1) * subvol_size, jy * subvol_size:(jy + 1) * subvol_size,\n",
    "                    jz * subvol_size:(jz + 1) * subvol_size] = save_subvol_Nhalo[ind_lin_cart[(jx, jy, jz)]]\n",
    "\n",
    "                M_halos[jx * subvol_size:(jx + 1) * subvol_size, jy * subvol_size:(jy + 1) * subvol_size,\n",
    "                        jz * subvol_size:(jz + 1) * subvol_size, :] = save_subvol_Mtot[ind_lin_cart[(jx, jy, jz)]]\n",
    "                \n",
    "                \n",
    "                jc += 1\n",
    "                \n",
    "    M_halos = M_halos[...,0]            \n",
    "    \n",
    "    # create empty arrays for Nhalos and M_halos\n",
    "    Nhalos_truth_recomb = np.zeros((ns_h, ns_h, ns_h))\n",
    "    M_halos_truth_recomb = np.zeros((ns_h, ns_h, ns_h, ndim_diff + 1))\n",
    "\n",
    "    subvol_size = ns_h // nb\n",
    "\n",
    "    ind_cart_lin = {}\n",
    "    ind_lin_cart = {}\n",
    "    jc = 0\n",
    "    from tqdm import tqdm\n",
    "    for jx in tqdm(range(nb)):\n",
    "        for jy in range(nb):\n",
    "            for jz in range(nb):\n",
    "                # get the sub-cube\n",
    "                ind_lin_cart[(jx, jy, jz)] = jc\n",
    "                ind_cart_lin[jc] = [jx, jy, jz]\n",
    "                jc += 1\n",
    "                \n",
    "\n",
    "    # iterate over subvolumes\n",
    "    jc = 0\n",
    "    for jx in range(nb):\n",
    "        for jy in range(nb):\n",
    "            for jz in range(nb):\n",
    "                Nhalos_truth_recomb[jx * subvol_size:(jx + 1) * subvol_size, jy * subvol_size:(jy + 1) * subvol_size,\n",
    "                    jz * subvol_size:(jz + 1) * subvol_size] = df_Nh_truth[ind_lin_cart[(jx, jy, jz)]]\n",
    "\n",
    "                M_halos_truth_recomb[jx * subvol_size:(jx + 1) * subvol_size, jy * subvol_size:(jy + 1) * subvol_size,\n",
    "                        jz * subvol_size:(jz + 1) * subvol_size, :] = df_Mh_all_truth[ind_lin_cart[(jx, jy, jz)]]\n",
    "                \n",
    "                \n",
    "                jc += 1\n",
    "    \n",
    "    M_halos_truth_recomb = M_halos_truth_recomb[...,0]\n",
    "                \n",
    "\n",
    "    # create the meshgrid\n",
    "    zv = 0.0\n",
    "    av = 1. / (1 + zv)\n",
    "    xall = (np.linspace(0, 1000, ns_h + 1))\n",
    "    xarray = av * 0.5 * (xall[1:] + xall[:-1])\n",
    "    yarray = np.copy(xarray)\n",
    "    zarray = np.copy(xarray)\n",
    "    x_cy, y_cy, z_cy = np.meshgrid(xarray, yarray, zarray, indexing='ij')\n",
    "\n",
    "\n",
    "    # create the meshgrid\n",
    "    zv = 0.0\n",
    "    av = 1. / (1 + zv)\n",
    "    xall = (np.linspace(0, 1000, ns_h + 1))\n",
    "    xarray = av * 0.5 * (xall[1:] + xall[:-1])\n",
    "    dx = (xall[1] - xall[0])\n",
    "    yarray = np.copy(xarray)\n",
    "    zarray = np.copy(xarray)\n",
    "    x_cy, y_cy, z_cy = np.meshgrid(xarray, yarray, zarray, indexing='ij')\n",
    "\n",
    "    x_h_mock, y_h_mock, z_h_mock, lgM_mock = [], [], [], []\n",
    "    k = 0\n",
    "    for jx in range(ns_h):\n",
    "        for jy in range(ns_h):\n",
    "            for jz in range(ns_h):\n",
    "                    Nh_vox = int(Nhalos[jx, jy, jz])\n",
    "                    if Nh_vox > 0:\n",
    "                        x_h_mock.append(x_cy[jx, jy, jz]*np.ones(Nh_vox))\n",
    "                        y_h_mock.append(y_cy[jx, jy, jz]*np.ones(Nh_vox))\n",
    "                        z_h_mock.append(z_cy[jx, jy, jz]*np.ones(Nh_vox))\n",
    "                        \n",
    "                        # lgM_mock.append((M_halos[jx, jy, jz, :Nh_vox]))\n",
    "                        lgM_mock.append((M_halos[jx, jy, jz])*np.ones(Nh_vox))\n",
    "                        k += Nh_vox\n",
    "\n",
    "    # convert to numpy arrays\n",
    "    x_h_mock = np.concatenate(x_h_mock)\n",
    "    y_h_mock = np.concatenate(y_h_mock)\n",
    "    z_h_mock = np.concatenate(z_h_mock)\n",
    "    pos_h_mock = np.vstack((x_h_mock, y_h_mock, z_h_mock)).T\n",
    "    lgMass_mock = np.concatenate(lgM_mock)\n",
    "    # lgMass_mock =lgM_mock\n",
    "    # convert to float data type\n",
    "    pos_h_mock = pos_h_mock.astype('float32')\n",
    "    lgMass_mock = lgMass_mock.astype('float32')\n",
    "\n",
    "\n",
    "    # sdir='/mnt/home/spandey/ceph/Quijote/data_NGP_self'\n",
    "    # # load the halo data\n",
    "    # fname = sdir + '/' + str(isim) + '/halos_' + str(mass_type) + '_subvol_res_' + str(ns_h) + '_z=0.pk'\n",
    "    # df_h = pk.load(open(fname, 'rb'))\n",
    "    # # This has information on the halo mass for all the halos in the voxel\n",
    "    # df_Mh_all_truth = df_h['M_halos']\n",
    "    # df_Mh_all_truth = np.flip(np.sort(df_Mh_all_truth, axis=-1), axis=-1)\n",
    "    # # This has information on the number of halos in the voxel\n",
    "    # df_Nh_truth = df_h['N_halos']\n",
    "\n",
    "    # fname = sdir + '/' + str(isim) + '/halos_' + str(mass_type) + '_full_res_' + str(ns_h) + '_z=0.pk'\n",
    "    # df_h = pk.load(open(fname, 'rb'))\n",
    "    # df_Mh_all_truth_comb, df_Nh_truth_comb = df_h['M_halos_combined'], df_h['N_halos_combined']\n",
    "\n",
    "    # create the meshgrid\n",
    "    zv = 0.0\n",
    "    av = 1. / (1 + zv)\n",
    "    xall = (np.linspace(0, 1000, ns_h + 1))\n",
    "    xarray = av * 0.5 * (xall[1:] + xall[:-1])\n",
    "    dx = (xall[1] - xall[0])\n",
    "    yarray = np.copy(xarray)\n",
    "    zarray = np.copy(xarray)\n",
    "    x_cy, y_cy, z_cy = np.meshgrid(xarray, yarray, zarray, indexing='ij')\n",
    "\n",
    "    x_h_truth, y_h_truth, z_h_truth, lgM_truth = [], [], [], []\n",
    "    for jx in range(ns_h):\n",
    "        for jy in range(ns_h):\n",
    "            for jz in range(ns_h):\n",
    "                    Nh_vox = int(df_Nh_truth_comb[jx, jy, jz])\n",
    "                    if Nh_vox > 0:\n",
    "                        x_h_truth.append(x_cy[jx, jy, jz]*np.ones(Nh_vox))\n",
    "                        y_h_truth.append(y_cy[jx, jy, jz]*np.ones(Nh_vox))\n",
    "                        z_h_truth.append(z_cy[jx, jy, jz]*np.ones(Nh_vox))\n",
    "                        \n",
    "                        # lgM_truth.append((df_Mh_all_truth_comb[jx, jy, jz, :Nh_vox]))\n",
    "                        lgM_truth.append((M_halos_truth_recomb[jx, jy, jz])*np.ones(Nh_vox))\n",
    "\n",
    "    # convert to numpy arrays\n",
    "    x_h_truth = np.concatenate(x_h_truth)\n",
    "    y_h_truth = np.concatenate(y_h_truth)\n",
    "    z_h_truth = np.concatenate(z_h_truth)\n",
    "    pos_h_truth = np.vstack((x_h_truth, y_h_truth, z_h_truth)).T\n",
    "    lgMass_truth = np.concatenate(lgM_truth)\n",
    "    # lgMass_truth = lgM_truth\n",
    "    # convert to float data type\n",
    "    pos_h_truth = pos_h_truth.astype('float32')\n",
    "    lgMass_truth = lgMass_truth.astype('float32')\n",
    "\n",
    "    grid    = ns_h    #the 3D field will have grid x grid x grid voxels\n",
    "    BoxSize = 1000.0 #Mpc/h ; size of box\n",
    "    MAS     = 'NGP'  #mass-assigment scheme\n",
    "    verbose = False   #print information on progress\n",
    "\n",
    "    # Mmin_Pk_all = np.array([13.0, 13.0, 13.5, 14.0, 14.5])\n",
    "    # Mmax_Pk_all = np.array([16.0, 13.5, 14.0, 14.5, 15.0])\n",
    "    Mmin_Pk_all = np.log10(np.array([1e13, 5e13, 7e13, 1e14, 5e14]))\n",
    "    Mmax_Pk_all = np.log10(np.array([1e16, 7e13, 1e14, 5e14, 1e15]))  \n",
    "    Mmin_Pk_all[0] = -1.0\n",
    "\n",
    "    saved_Pk_Bk = {}\n",
    "\n",
    "    for j in range(len(Mmin_Pk_all)):\n",
    "        saved_j = {}\n",
    "        Mmin_Pk, Mmax_Pk = Mmin_Pk_all[j], Mmax_Pk_all[j]\n",
    "        indsel_Pk_truth = np.where((lgMass_truth > Mmin_Pk) & (lgMass_truth < Mmax_Pk))[0]\n",
    "        mesh_truth2 = np.zeros((grid, grid, grid), dtype=np.float32)\n",
    "        pos_truth2 = (pos_h_truth[indsel_Pk_truth,...]).astype(np.float32)\n",
    "        MASL.MA(pos_truth2, mesh_truth2, BoxSize, MAS)\n",
    "        mesh_truth2 /= np.mean(mesh_truth2, dtype=np.float64);  mesh_truth2 -= 1.0\n",
    "        Pk_truth2 = PKL.Pk(mesh_truth2, BoxSize, axis=0, MAS=None, threads=1)\n",
    "\n",
    "        indsel_Pk_mock = np.where((lgMass_mock > Mmin_Pk) & (lgMass_mock < Mmax_Pk))[0]\n",
    "        mesh_mock = np.zeros((grid, grid, grid), dtype=np.float32)\n",
    "        pos_mock = (pos_h_mock[indsel_Pk_mock,...]).astype(np.float32)\n",
    "        MASL.MA(pos_mock, mesh_mock, BoxSize, MAS)\n",
    "        mesh_mock /= np.mean(mesh_mock, dtype=np.float64);  mesh_mock -= 1.0\n",
    "        Pk_mock = PKL.Pk(mesh_mock, BoxSize, axis=0, MAS=None, threads=1)    \n",
    "\n",
    "        Pk_mockxtruth2 = PKL.XPk([mesh_truth2,mesh_mock], BoxSize, axis=0, MAS=[None, None], threads=1)\n",
    "\n",
    "        saved_j['Pk_truth'] = Pk_truth2.Pk[:,0] - ((BoxSize**3)/len(indsel_Pk_truth))*np.ones_like(Pk_truth2.Pk[:,0])\n",
    "        saved_j['Pk_mock'] = Pk_mock.Pk[:,0] - ((BoxSize**3)/len(indsel_Pk_mock))*np.ones_like(Pk_mock.Pk[:,0])\n",
    "        saved_j['Pk_mockxtruth'] = Pk_mockxtruth2.XPk[:,0,0]\n",
    "        saved_j['k_Pk'] = Pk_mockxtruth2.k3D\n",
    "        \n",
    "\n",
    "    #     BoxSize = 1000.0 #Size of the density field in Mpc/h\n",
    "    #     threads = 1\n",
    "    #     theta   = np.linspace(0, np.pi, 16) #array with the angles between k1 and k2\n",
    "    #     saved_j['theta'] = theta\n",
    "\n",
    "    #     k1 = 0.03\n",
    "    #     k2 = 0.03\n",
    "    #     BBk = PKL.Bk(mesh_truth2, BoxSize, k1, k2, theta, None, threads)\n",
    "    #     Bk_truth_k0p03  = BBk.B     #bispectrum\n",
    "    #     Qk_truth_k0p03  = BBk.Q     #reduced bispectrum\n",
    "    #     BBk = PKL.Bk(mesh_mock, BoxSize, k1, k2, theta, None, threads)\n",
    "    #     Bk_mock_k0p03  = BBk.B     #bispectrum\n",
    "    #     Qk_mock_k0p03  = BBk.Q     #reduced bispectrum\n",
    "\n",
    "    #     saved_j['Bk_truth_k0p03'] = Bk_truth_k0p03\n",
    "    #     saved_j['Qk_truth_k0p03'] = Qk_truth_k0p03\n",
    "    #     saved_j['Bk_mock_k0p03'] = Bk_mock_k0p03\n",
    "    #     saved_j['Qk_mock_k0p03'] = Qk_mock_k0p03\n",
    "\n",
    "\n",
    "    #     k1 = 0.06\n",
    "    #     k2 = 0.06\n",
    "    #     BBk = PKL.Bk(mesh_truth2, BoxSize, k1, k2, theta, None, threads)\n",
    "    #     Bk_truth_k0p06  = BBk.B     #bispectrum\n",
    "    #     Qk_truth_k0p06  = BBk.Q     #reduced bispectrum\n",
    "    #     BBk = PKL.Bk(mesh_mock, BoxSize, k1, k2, theta, None, threads)\n",
    "    #     Bk_mock_k0p06  = BBk.B     #bispectrum\n",
    "    #     Qk_mock_k0p06  = BBk.Q     #reduced bispectrum\n",
    "\n",
    "    #     saved_j['Bk_truth_k0p06'] = Bk_truth_k0p06\n",
    "    #     saved_j['Qk_truth_k0p06'] = Qk_truth_k0p06\n",
    "    #     saved_j['Bk_mock_k0p06'] = Bk_mock_k0p06\n",
    "    #     saved_j['Qk_mock_k0p06'] = Qk_mock_k0p06\n",
    "\n",
    "    #     k1 = 0.1\n",
    "    #     k2 = 0.1\n",
    "    #     BBk = PKL.Bk(mesh_truth2, BoxSize, k1, k2, theta, None, threads)\n",
    "    #     Bk_truth_k0p1  = BBk.B     #bispectrum\n",
    "    #     Qk_truth_k0p1  = BBk.Q     #reduced bispectrum\n",
    "    #     BBk = PKL.Bk(mesh_mock, BoxSize, k1, k2, theta, None, threads)\n",
    "    #     Bk_mock_k0p1  = BBk.B     #bispectrum\n",
    "    #     Qk_mock_k0p1  = BBk.Q     #reduced bispectrum\n",
    "\n",
    "    #     saved_j['Bk_truth_k0p1'] = Bk_truth_k0p1\n",
    "    #     saved_j['Qk_truth_k0p1'] = Qk_truth_k0p1\n",
    "    #     saved_j['Bk_mock_k0p1'] = Bk_mock_k0p1\n",
    "    #     saved_j['Qk_mock_k0p1'] = Qk_mock_k0p1\n",
    "\n",
    "\n",
    "    #     k1 = 0.2\n",
    "    #     k2 = 0.2\n",
    "    #     BBk = PKL.Bk(mesh_truth2, BoxSize, k1, k2, theta, None, threads)\n",
    "    #     Bk_truth_k0p2  = BBk.B     #bispectrum\n",
    "    #     Qk_truth_k0p2  = BBk.Q     #reduced bispectrum\n",
    "    #     BBk = PKL.Bk(mesh_mock, BoxSize, k1, k2, theta, None, threads)\n",
    "    #     Bk_mock_k0p2  = BBk.B     #bispectrum\n",
    "    #     Qk_mock_k0p2  = BBk.Q     #reduced bispectrum\n",
    "\n",
    "    #     saved_j['Bk_truth_k0p2'] = Bk_truth_k0p2\n",
    "    #     saved_j['Qk_truth_k0p2'] = Qk_truth_k0p2\n",
    "    #     saved_j['Bk_mock_k0p2'] = Bk_mock_k0p2\n",
    "    #     saved_j['Qk_mock_k0p2'] = Qk_mock_k0p2\n",
    "\n",
    "\n",
    "    #     k1 = 0.3\n",
    "    #     k2 = 0.3\n",
    "    #     BBk = PKL.Bk(mesh_truth2, BoxSize, k1, k2, theta, None, threads)\n",
    "    #     Bk_truth_k0p3  = BBk.B     #bispectrum\n",
    "    #     Qk_truth_k0p3  = BBk.Q     #reduced bispectrum\n",
    "    #     BBk = PKL.Bk(mesh_mock, BoxSize, k1, k2, theta, None, threads)\n",
    "    #     Bk_mock_k0p3  = BBk.B     #bispectrum\n",
    "    #     Qk_mock_k0p3  = BBk.Q     #reduced bispectrum\n",
    "\n",
    "    #     saved_j['Bk_truth_k0p3'] = Bk_truth_k0p3\n",
    "    #     saved_j['Qk_truth_k0p3'] = Qk_truth_k0p3\n",
    "    #     saved_j['Bk_mock_k0p3'] = Bk_mock_k0p3\n",
    "    #     saved_j['Qk_mock_k0p3'] = Qk_mock_k0p3\n",
    "\n",
    "    #     # k1 = 0.4\n",
    "    #     # k2 = 0.4\n",
    "    #     # BBk = PKL.Bk(mesh_truth2, BoxSize, k1, k2, theta, None, threads)\n",
    "    #     # Bk_truth_k0p4  = BBk.B     #bispectrum\n",
    "    #     # Qk_truth_k0p4  = BBk.Q     #reduced bispectrum\n",
    "    #     # BBk = PKL.Bk(mesh_mock, BoxSize, k1, k2, theta, None, threads)\n",
    "    #     # Bk_mock_k0p4  = BBk.B     #bispectrum\n",
    "    #     # Qk_mock_k0p4  = BBk.Q     #reduced bispectrum\n",
    "\n",
    "    #     # saved_j['Bk_truth_k0p4'] = Bk_truth_k0p4\n",
    "    #     # saved_j['Qk_truth_k0p4'] = Qk_truth_k0p4\n",
    "    #     # saved_j['Bk_mock_k0p4'] = Bk_mock_k0p4\n",
    "    #     # saved_j['Qk_mock_k0p4'] = Qk_mock_k0p4\n",
    "    \n",
    "        saved_Pk_Bk[j] = saved_j\n",
    "\n",
    "    saved_all_jsim['Pk_Bk'] = saved_Pk_Bk\n",
    "\n",
    "    # # # sdir = '/mnt/home/spandey/ceph/AR_NPE/notebooks/SUMMARY_STATS_FIDSIMS_TEST_stype_' + str(stype) + '_mtype_' + str(mass_type) + '_condsim_' + str(cond_sim) + '/'\n",
    "    # # # sdir = '/mnt/home/spandey/ceph/AR_NPE/notebooks/SUMMARY_STATS_FIDSIMS_TEST_stype_' + str(stype) + '_mtype_' + str(mass_type) + '_condsim_' + str(cond_sim) + '_nc_' + str(nc) + '/'    \n",
    "    # # sdir = '/mnt/home/spandey/ceph/AR_NPE/notebooks/SUMMARY_STATS_FIDSIMS_TEST_stype_' + str(stype) + '_mtype_' + str(mass_type) + '_condsim_' + str(cond_sim) + '_nc_' + str(nc) + '_wL2norm_highknots' + '/'    \n",
    "    # # print(sdir)\n",
    "    # # # make directory if doesn't exist:\n",
    "    # # if not os.path.exists(sdir):\n",
    "    # #     os.makedirs(sdir)\n",
    "    # # import pickle as pk\n",
    "    # # fname = sdir + '/summary_stats_jsim_' + str(isim) + '.pk'\n",
    "    # # pk.dump(saved_all_jsim, open(fname, 'wb'))\n",
    "\n",
    "                    \n",
    "\n",
    "\n",
    "\n",
    "\n",
    "\n",
    "\n"
   ]
  },
  {
   "cell_type": "code",
   "execution_count": 41,
   "metadata": {},
   "outputs": [
    {
     "data": {
      "text/plain": [
       "259403.37224383917"
      ]
     },
     "execution_count": 41,
     "metadata": {},
     "output_type": "execute_result"
    }
   ],
   "source": [
    "# lgMmin, lgMmax\n",
    "# M_halos.shape\n",
    "# np.array(lgM_mock)\n",
    "# (BoxSize**3)/len(indsel_Pk_truth)\n"
   ]
  },
  {
   "cell_type": "code",
   "execution_count": 51,
   "metadata": {},
   "outputs": [],
   "source": [
    "# # model_Ntot\n",
    "# # base_dist_Ntot\n",
    "# # 203968/1817977 \n",
    "# cond_out = model.conv_layers(cond_tensor_jd[0])\n",
    "# cond_out = torch.cat((cond_out, cond_tensor_nsh_jd[0]), dim=1)\n",
    "# # if self.sep_Ntot_cond:\n",
    "# cond_out_Ntot = model.cond_Ntot_layer(cond_out)\n",
    "\n",
    "# Ntot_samp_tensor = model_Ntot.inverse(cond_out_Ntot)\n",
    "# pl.figure()\n",
    "# _ = pl.hist(Ntot_samp_tensor.cpu().detach().numpy(), bins=100, density=True, alpha=0.5)\n",
    "# _ = pl.hist(Nhalos_truth_tensor_jd[0,...].cpu().detach().numpy(), bins=100, density=True, alpha=0.5)\n",
    "# pl.yscale('log')\n"
   ]
  },
  {
   "cell_type": "code",
   "execution_count": 52,
   "metadata": {},
   "outputs": [],
   "source": [
    "# Nhalos_truth_tensor_jd.shape"
   ]
  },
  {
   "cell_type": "code",
   "execution_count": null,
   "metadata": {},
   "outputs": [],
   "source": []
  },
  {
   "cell_type": "code",
   "execution_count": 2,
   "metadata": {},
   "outputs": [],
   "source": [
    "import matplotlib.pyplot as pl\n",
    "import matplotlib\n",
    "%matplotlib inline\n",
    "\n",
    "\n"
   ]
  },
  {
   "cell_type": "code",
   "execution_count": 32,
   "metadata": {},
   "outputs": [
    {
     "data": {
      "image/png": "[encoded data removed]",
      "text/plain": [
       "<Figure size 640x480 with 1 Axes>"
      ]
     },
     "metadata": {},
     "output_type": "display_data"
    }
   ],
   "source": [
    "pl.figure()\n",
    "pl.plot(saved_all_jsim['Nhalo_bin_cents'], saved_all_jsim['hist_truth_high_Nhalo'])\n",
    "pl.plot(saved_all_jsim['Nhalo_bin_cents'], saved_all_jsim['hist_samp_high_Nhalo'], ls='--')\n",
    "pl.yscale('log')\n",
    "\n",
    "\n"
   ]
  },
  {
   "cell_type": "code",
   "execution_count": 33,
   "metadata": {},
   "outputs": [
    {
     "data": {
      "image/png": "[encoded data removed]",
      "text/plain": [
       "<Figure size 640x480 with 1 Axes>"
      ]
     },
     "metadata": {},
     "output_type": "display_data"
    }
   ],
   "source": [
    "pl.figure()\n",
    "pl.plot(saved_all_jsim['Mhalo_bin_cents'], saved_all_jsim['hist_truth_high_Mhalo'][0,:])\n",
    "pl.plot(saved_all_jsim['Mhalo_bin_cents'], saved_all_jsim['hist_samp_high_Mhalo'][0,:], ls='--')\n",
    "pl.yscale('log')\n",
    "\n",
    "\n"
   ]
  },
  {
   "cell_type": "code",
   "execution_count": 34,
   "metadata": {},
   "outputs": [
    {
     "data": {
      "image/png": "[encoded data removed]",
      "text/plain": [
       "<Figure size 640x480 with 1 Axes>"
      ]
     },
     "metadata": {},
     "output_type": "display_data"
    }
   ],
   "source": [
    "pl.figure()\n",
    "pl.plot(saved_all_jsim['Mhalo_bin_cents'], saved_all_jsim['hist_truth_all_Mhalo'][1,:])\n",
    "pl.plot(saved_all_jsim['Mhalo_bin_cents'], saved_all_jsim['hist_samp_all_Mhalo'][1,:], ls='--')\n",
    "pl.yscale('log')\n",
    "\n",
    "\n"
   ]
  },
  {
   "cell_type": "code",
   "execution_count": 49,
   "metadata": {},
   "outputs": [
    {
     "data": {
      "image/png": "[encoded data removed]",
      "text/plain": [
       "<Figure size 640x480 with 1 Axes>"
      ]
     },
     "metadata": {},
     "output_type": "display_data"
    }
   ],
   "source": [
    "pl.figure()\n",
    "pl.plot(saved_all_jsim['Pk_Bk'][3]['k_Pk'], saved_all_jsim['Pk_Bk'][3]['Pk_truth'])\n",
    "pl.plot(saved_all_jsim['Pk_Bk'][3]['k_Pk'], saved_all_jsim['Pk_Bk'][3]['Pk_mock'], ls='--')\n",
    "pl.plot(saved_all_jsim['Pk_Bk'][3]['k_Pk'], saved_all_jsim['Pk_Bk'][3]['Pk_mockxtruth'], ls=':')\n",
    "pl.yscale('log')\n",
    "pl.xscale('log')\n",
    "\n",
    "\n",
    "\n",
    "\n"
   ]
  },
  {
   "cell_type": "code",
   "execution_count": 15,
   "metadata": {},
   "outputs": [],
   "source": [
    "sdir='/mnt/home/spandey/ceph/Quijote/data_NGP_self'\n",
    "# load the halo data\n",
    "fname = sdir + '/' + str(isim) + '/halos_' + str(mass_type) + '_lgMmincut_' + lgMmincutstr + '_subvol_res_' + str(ns_h) + '_z=0.pk'\n",
    "df_h_subvol = pk.load(open(fname, 'rb'))\n",
    "# This has information on the halo mass for all the halos in the voxel\n",
    "df_Mh_all_truth = df_h_subvol['M_halos']\n",
    "df_Mh_all_truth = np.flip(np.sort(df_Mh_all_truth, axis=-1), axis=-1)\n",
    "# This has information on the number of halos in the voxel\n",
    "df_Nh_truth = df_h_subvol['N_halos']\n",
    "\n",
    "fname = sdir + '/' + str(isim) + '/halos_' + str(mass_type) + '_lgMmincut_' + lgMmincutstr + '_full_res_' + str(ns_h) + '_z=0.pk'\n",
    "df_h_full = pk.load(open(fname, 'rb'))\n",
    "df_Mh_all_truth_comb, df_Nh_truth_comb = df_h_full['M_halos_combined'], df_h_full['N_halos_combined']\n",
    "\n"
   ]
  },
  {
   "cell_type": "code",
   "execution_count": 16,
   "metadata": {},
   "outputs": [
    {
     "data": {
      "text/plain": [
       "(128, 128, 128, 4)"
      ]
     },
     "execution_count": 16,
     "metadata": {},
     "output_type": "execute_result"
    }
   ],
   "source": [
    "df_Mh_all_truth_comb.shape"
   ]
  },
  {
   "cell_type": "code",
   "execution_count": 17,
   "metadata": {},
   "outputs": [
    {
     "data": {
      "text/plain": [
       "(512, 16, 16, 16, 4)"
      ]
     },
     "execution_count": 17,
     "metadata": {},
     "output_type": "execute_result"
    }
   ],
   "source": [
    "df_Mh_all_truth.shape\n"
   ]
  },
  {
   "cell_type": "code",
   "execution_count": 14,
   "metadata": {},
   "outputs": [
    {
     "data": {
      "text/plain": [
       "'/mnt/home/spandey/ceph/Quijote/data_NGP_self/1/halos_fof_lgMmincut_5e13_full_res_128_z=0.pk'"
      ]
     },
     "execution_count": 14,
     "metadata": {},
     "output_type": "execute_result"
    }
   ],
   "source": [
    "fname\n"
   ]
  },
  {
   "cell_type": "code",
   "execution_count": null,
   "metadata": {},
   "outputs": [],
   "source": []
  }
 ],
 "metadata": {
  "kernelspec": {
   "display_name": ".venv",
   "language": "python",
   "name": "python3"
  },
  "language_info": {
   "codemirror_mode": {
    "name": "ipython",
    "version": 3
   },
   "file_extension": ".py",
   "mimetype": "text/x-python",
   "name": "python",
   "nbconvert_exporter": "python",
   "pygments_lexer": "ipython3",
   "version": "3.9.15"
  },
  "orig_nbformat": 4
 },
 "nbformat": 4,
 "nbformat_minor": 2
}
