{
 "cells": [
  {
   "cell_type": "code",
   "execution_count": 1,
   "metadata": {},
   "outputs": [],
   "source": [
    "import sys, os\n",
    "os.environ[\"CUDA_VISIBLE_DEVICES\"] = \"1\"\n",
    "# import pickle as pk\n",
    "import numpy as np\n",
    "import torch\n",
    "dev = torch.device(\"cuda\")\n",
    "import torch.optim as optim\n",
    "# from torch.distributions import MultivariateNormal\n",
    "# from torch.distributions import Normal\n",
    "root_dir = '/mnt/home/spandey/ceph/AR_NPE/'\n",
    "os.chdir(root_dir)\n",
    "# import colossus\n",
    "import sys, os\n",
    "# append the root_dir to the path\n",
    "sys.path.append(root_dir)\n",
    "from nf.combined_models import COMBINED_Model\n",
    "from nf.all_models import *\n",
    "from nf.utils_data_prep import *\n",
    "# from tqdm import tqdm\n",
    "# import pyyaml\n",
    "from colossus.cosmology import cosmology\n",
    "params = {'flat': True, 'H0': 67.11, 'Om0': 0.3175, 'Ob0': 0.049, 'sigma8': 0.834, 'ns': 0.9624}\n",
    "cosmo = cosmology.setCosmology('myCosmo', **params)\n",
    "# get halo mass function:\n",
    "from colossus.lss import mass_function\n",
    "from tqdm import tqdm\n",
    "    \n",
    "import yaml\n",
    "\n",
    "# autoreload modules\n",
    "%load_ext autoreload\n",
    "%autoreload 2\n",
    "\n"
   ]
  },
  {
   "cell_type": "code",
   "execution_count": 2,
   "metadata": {},
   "outputs": [],
   "source": [
    "import matplotlib\n",
    "%matplotlib inline\n",
    "import matplotlib.pyplot as pl\n"
   ]
  },
  {
   "cell_type": "code",
   "execution_count": 3,
   "metadata": {},
   "outputs": [],
   "source": [
    "# run_config_name = sys.argv[1]\n",
    "run_config_name = 'run_test_128_condFPM_uniformcic_fof_lgMmin5e13_wL2norm_highknots.yaml'\n",
    "\n",
    "with open(\"/mnt/home/spandey/ceph/AR_NPE/run_configs/\" + run_config_name,\"r\") as file_object:\n",
    "    config=yaml.load(file_object,Loader=yaml.SafeLoader)\n",
    "\n",
    "\n",
    "\n",
    "\n"
   ]
  },
  {
   "cell_type": "code",
   "execution_count": 4,
   "metadata": {},
   "outputs": [],
   "source": [
    "config_sims = config['sim_settings']\n",
    "ji_array = np.arange(int(config_sims['nsims']))\n",
    "ns_d = config_sims['ns_d']\n",
    "nb = config_sims['nb']\n",
    "nax_d =  ns_d // nb\n",
    "nf = config_sims['nf']\n",
    "layers_types = config_sims['layers_types']\n",
    "nc = 0\n",
    "for jl in range(len(layers_types)):\n",
    "    if layers_types[jl] == 'cnn':\n",
    "        nc += 1\n",
    "    elif layers_types[jl] == 'res':\n",
    "        nc += 2\n",
    "    else:\n",
    "        raise ValueError(\"layer type not supported\")\n",
    "\n",
    "z_all = config_sims['z_all']\n",
    "z_all_FP = config_sims['z_all_FP']\n",
    "ns_h = config_sims['ns_h']\n",
    "nax_h = ns_h // nb\n",
    "cond_sim = config_sims['cond_sim']\n",
    "\n",
    "nsims_per_batch = config_sims['nsims_per_batch']\n",
    "nbatches_train = config_sims['nbatches_train']\n",
    "\n",
    "mass_type = config_sims['mass_type']\n",
    "lgMmin = config_sims['lgMmin']\n",
    "lgMmax = config_sims['lgMmax']\n",
    "stype = config_sims['stype']\n",
    "rescale_sub = config_sims['rescale_sub']\n",
    "lgMmincutstr = config_sims['lgMmincutstr']\n",
    "subsel_highM1 = config_sims['subsel_highM1']\n",
    "nsubsel = config_sims['nsubsel']\n",
    "is_HR = config_sims['is_HR']\n",
    "\n",
    "try:\n",
    "    Nmax = config_sims['Nmax']\n",
    "except:\n",
    "    Nmax = 4\n",
    "\n",
    "config_net = config['network_settings']\n",
    "hidden_dim_MAF = config_net['hidden_dim_MAF']\n",
    "learning_rate = config_net['learning_rate']\n",
    "K_M1 = config_net['K_M1']\n",
    "B_M1 = config_net['B_M1']\n",
    "nflows_M1_NSF = config_net['nflows_M1_NSF']\n",
    "\n",
    "K_Mdiff = config_net['K_Mdiff']\n",
    "B_Mdiff = config_net['B_Mdiff']\n",
    "nflows_Mdiff_NSF = config_net['nflows_Mdiff_NSF']\n",
    "\n",
    "base_dist_Ntot = config_net['base_dist_Ntot']\n",
    "if base_dist_Ntot == 'None':\n",
    "    base_dist_Ntot = None\n",
    "base_dist_M1 = config_net['base_dist_M1']\n",
    "base_dist_Mdiff = config_net['base_dist_Mdiff']\n",
    "ngauss_M1 = config_net['ngauss_M1']\n",
    "\n",
    "changelr = config_net['changelr']\n",
    "ksize = nf\n",
    "nfeature_cnn = config_net['nfeature_cnn']\n",
    "nout_cnn = 4 * nfeature_cnn\n",
    "if cond_sim == 'fastpm':\n",
    "    ninp = len(z_all_FP)\n",
    "elif cond_sim == 'quijote':\n",
    "    ninp = len(z_all)\n",
    "else:\n",
    "    raise ValueError(\"cond_sim not supported\")\n",
    "\n",
    "num_cond = nout_cnn + ninp\n",
    "\n",
    "df_d_all_train, df_d_all_nsh_train, df_Mh_all_train, df_Nh_train, ind_subsel_train = load_density_halo_data_NGP(\n",
    "    ji_array, ns_d, nb, nf, nc, z_all, ns_h,sdir='/mnt/home/spandey/ceph/Quijote/data_NGP_self',\n",
    "    stype=stype, mass_type=mass_type, lgMmincutstr = lgMmincutstr, subsel_highM1=subsel_highM1, nsubsel=nsubsel\n",
    "    )\n",
    "\n",
    "# # Prepare the density and halo data\n",
    "return_dict_train = prep_density_halo_cats_batched(\n",
    "    df_d_all_train, df_d_all_nsh_train, df_Mh_all_train, df_Nh_train, nsims=nsims_per_batch,\n",
    "    nbatches = nbatches_train, Mmin=lgMmin, Mmax=lgMmax, rescaleM_sub=rescale_sub, Nmax=Nmax\n",
    "    )\n",
    "\n"
   ]
  },
  {
   "cell_type": "code",
   "execution_count": 5,
   "metadata": {},
   "outputs": [],
   "source": [
    "if cond_sim == 'fastpm':\n",
    "    df_d_all_train_FP, df_d_all_nsh_train_FP, df_Mh_all_train_FP, df_Nh_train_FP, ind_subsel_train_FP = load_density_halo_data_NGP(\n",
    "        ji_array, ns_d, nb, nf, nc, z_all_FP, ns_h, stype=stype,sdir='/mnt/home/spandey/ceph/Quijote/data_NGP_self/fastpm', subsel_highM1=subsel_highM1, ind_subsel=ind_subsel_train\n",
    "        )\n",
    "\n",
    "    # # Prepare the density and halo data\n",
    "    return_dict_train_FP = prep_density_halo_cats_batched(\n",
    "        df_d_all_train_FP, df_d_all_nsh_train_FP, df_Mh_all_train_FP, df_Nh_train_FP, nsims=nsims_per_batch,\n",
    "        nbatches = nbatches_train, Mmin=lgMmin, Mmax=lgMmax, rescaleM_sub=rescale_sub\n",
    "        )\n",
    "else:\n",
    "    return_dict_train_FP = None\n",
    "\n",
    "\n",
    "\n",
    "\n",
    "\n"
   ]
  },
  {
   "cell_type": "code",
   "execution_count": 6,
   "metadata": {},
   "outputs": [
    {
     "data": {
      "text/plain": [
       "dict_keys(['df_d_all', 'df_d_all_nsh', 'M_halos_all_sort_norm', 'Mmin', 'Mmax', 'Nmax', 'mask_M_diff', 'mask_M1', 'M1_halos_all_norm', 'M_diff_halos_all_norm_masked', 'Nhalo_train_mg_arr', 'N_halos_all', 'mu_all', 'sig_all', 'ngauss_Nhalo'])"
      ]
     },
     "execution_count": 6,
     "metadata": {},
     "output_type": "execute_result"
    }
   ],
   "source": [
    "# len(ind_subsel_train_FP), len(ind_subsel_train)\n",
    "return_dict_train.keys()\n",
    "# df_d_all_train.shape\n",
    "# ji_array\n",
    "\n",
    "\n"
   ]
  },
  {
   "cell_type": "code",
   "execution_count": 7,
   "metadata": {},
   "outputs": [
    {
     "data": {
      "text/plain": [
       "((512, 16, 16, 16), (512, 4096))"
      ]
     },
     "execution_count": 7,
     "metadata": {},
     "output_type": "execute_result"
    }
   ],
   "source": [
    "# return_dict_train['df_d_all'].shape, return_dict_train_FP['df_d_all'].shape\n",
    "# return_dict_train['M_halos_all_sort_norm'].shape, return_dict_train_FP['M_halos_all_sort_norm'].shape\n",
    "# return_dict_train['M_diff_halos_all_norm_masked'].shape\n",
    "return_dict_train['df_d_all_nsh'][0,:,0,...].shape, return_dict_train['N_halos_all'][0,...].shape\n"
   ]
  },
  {
   "cell_type": "code",
   "execution_count": 30,
   "metadata": {},
   "outputs": [
    {
     "data": {
      "image/png": "[encoded data removed]",
      "text/plain": [
       "<Figure size 640x480 with 1 Axes>"
      ]
     },
     "metadata": {},
     "output_type": "display_data"
    }
   ],
   "source": [
    "pl.figure()\n",
    "_ = pl.scatter(return_dict_train['df_d_all_nsh'][0,:,0,...].flatten()[::100], return_dict_train['N_halos_all'][0,...].flatten()[::100], s=0.1)\n"
   ]
  },
  {
   "cell_type": "code",
   "execution_count": 31,
   "metadata": {},
   "outputs": [
    {
     "data": {
      "image/png": "[encoded data removed]",
      "text/plain": [
       "<Figure size 640x480 with 1 Axes>"
      ]
     },
     "metadata": {},
     "output_type": "display_data"
    }
   ],
   "source": [
    "pl.figure()\n",
    "_ = pl.scatter(return_dict_train['df_d_all_nsh'][0,:,0,...].flatten()[::100], return_dict_train['M1_halos_all_norm'][0,...].flatten()[::100], s=0.1)\n",
    "\n"
   ]
  },
  {
   "cell_type": "code",
   "execution_count": 13,
   "metadata": {},
   "outputs": [
    {
     "data": {
      "image/png": "[encoded data removed]",
      "text/plain": [
       "<Figure size 640x480 with 1 Axes>"
      ]
     },
     "metadata": {},
     "output_type": "display_data"
    }
   ],
   "source": [
    "pl.figure()\n",
    "_ = pl.hist(return_dict_train['M_diff_halos_all_norm_masked'][...,0].flatten(), bins=50, range=(0,1.5), histtype='step', label='z=0')\n",
    "_ = pl.hist(return_dict_train['M_diff_halos_all_norm_masked'][...,1].flatten(), bins=50, range=(0,1.5), alpha=0.3)\n",
    "_ = pl.hist(return_dict_train['M_diff_halos_all_norm_masked'][...,2].flatten(), bins=50, range=(0,1.5), alpha=0.3)\n",
    "pl.yscale('log')\n"
   ]
  },
  {
   "cell_type": "code",
   "execution_count": 32,
   "metadata": {},
   "outputs": [
    {
     "data": {
      "text/plain": [
       "(1, 512, 4, 24, 24, 24)"
      ]
     },
     "execution_count": 32,
     "metadata": {},
     "output_type": "execute_result"
    }
   ],
   "source": [
    "return_dict_train['df_d_all'].shape"
   ]
  },
  {
   "cell_type": "code",
   "execution_count": 33,
   "metadata": {},
   "outputs": [
    {
     "data": {
      "text/plain": [
       "<matplotlib.image.AxesImage at 0x1553e06ecd90>"
      ]
     },
     "execution_count": 33,
     "metadata": {},
     "output_type": "execute_result"
    },
    {
     "data": {
      "image/png": "[encoded data removed]",
      "text/plain": [
       "<Figure size 640x480 with 1 Axes>"
      ]
     },
     "metadata": {},
     "output_type": "display_data"
    },
    {
     "data": {
      "image/png": "[encoded data removed]",
      "text/plain": [
       "<Figure size 640x480 with 1 Axes>"
      ]
     },
     "metadata": {},
     "output_type": "display_data"
    }
   ],
   "source": [
    "indp = 109\n",
    "\n",
    "pl.figure()\n",
    "pl.imshow(return_dict_train['df_d_all_nsh'][0,indp, 0, 8, :, :])\n",
    "pl.figure()\n",
    "pl.imshow(return_dict_train_FP['df_d_all_nsh'][0,indp, 0, 8, :, :])\n",
    "\n"
   ]
  },
  {
   "cell_type": "code",
   "execution_count": 34,
   "metadata": {},
   "outputs": [
    {
     "data": {
      "text/plain": [
       "<matplotlib.image.AxesImage at 0x1553f8244790>"
      ]
     },
     "execution_count": 34,
     "metadata": {},
     "output_type": "execute_result"
    },
    {
     "data": {
      "image/png": "[encoded data removed]",
      "text/plain": [
       "<Figure size 640x480 with 1 Axes>"
      ]
     },
     "metadata": {},
     "output_type": "display_data"
    },
    {
     "data": {
      "image/png": "[encoded data removed]",
      "text/plain": [
       "<Figure size 640x480 with 1 Axes>"
      ]
     },
     "metadata": {},
     "output_type": "display_data"
    }
   ],
   "source": [
    "# indp = 10\n",
    "import matplotlib\n",
    "%matplotlib inline\n",
    "import matplotlib.pyplot as pl\n",
    "pl.figure()\n",
    "pl.imshow(return_dict_train['M_halos_all_sort_norm'][0,indp,:, 0].reshape(16,16,16)[8,:,:])\n",
    "pl.figure()\n",
    "pl.imshow(return_dict_train_FP['M_halos_all_sort_norm'][0,indp,:,0].reshape(16,16,16)[8,:,:])\n",
    "\n"
   ]
  },
  {
   "cell_type": "code",
   "execution_count": 7,
   "metadata": {},
   "outputs": [],
   "source": [
    "lgM_array = np.linspace(lgMmin, lgMmax, 1000)\n",
    "M_array = 10**lgM_array\n",
    "if '200c' in mass_type:\n",
    "    hmf = mass_function.massFunction(M_array, 0, mdef = '200c', model = 'tinker08', q_out = 'dndlnM')\n",
    "if 'vir' in mass_type:\n",
    "    hmf = mass_function.massFunction(M_array, 0, mdef = 'vir', model = 'tinker08', q_out = 'dndlnM')    \n",
    "if 'fof' in mass_type:\n",
    "    hmf = mass_function.massFunction(M_array, 0, mdef = 'fof', model = 'bhattacharya11', q_out = 'dndlnM')\n",
    "lgM_rescaled = rescale_sub + (lgM_array - lgMmin)/(lgMmax-lgMmin)\n",
    "\n",
    "int_val = sp.integrate.simps(hmf, lgM_rescaled)\n",
    "hmf_pdf = hmf/int_val\n",
    "# define the cdf of the halo mass function\n",
    "hmf_cdf = np.zeros_like(hmf_pdf)\n",
    "for i in range(len(hmf_cdf)):\n",
    "    hmf_cdf[i] = sp.integrate.simps(hmf_pdf[:i+1], lgM_rescaled[:i+1])\n",
    "\n",
    "\n",
    "# num_cond_Ntot = num_cond\n",
    "# model_Ntot = SumGaussModel(\n",
    "#     hidden_dim=hidden_dim_MAF,\n",
    "#     num_cond=num_cond_Ntot,\n",
    "#     ngauss=return_dict_train['ngauss_Nhalo'],\n",
    "#     mu_all=return_dict_train['mu_all'],\n",
    "#     sig_all=return_dict_train['sig_all'],\n",
    "#     base_dist=base_dist_Ntot   \n",
    "#     )\n",
    "\n",
    "# num_cond_M1 = num_cond + 1\n",
    "# # if conditioned on fastpm we will also give the fastpm fof M1 halos and its mask as conditional\n",
    "# if cond_sim == 'fastpm':\n",
    "#     num_cond_M1 += 2\n",
    "\n",
    "# model_M1 = NSF_M1_CNNcond(\n",
    "#     K=K_M1,\n",
    "#     B=B_M1,\n",
    "#     hidden_dim=hidden_dim_MAF,\n",
    "#     num_cond=num_cond_M1,\n",
    "#     nflows=nflows_M1_NSF,\n",
    "#     base_dist=base_dist_M1,\n",
    "#     ngauss=ngauss_M1,\n",
    "#     lgM_rs_tointerp=lgM_rescaled,\n",
    "#     hmf_pdf_tointerp=hmf_pdf,\n",
    "#     hmf_cdf_tointerp=hmf_cdf    \n",
    "#     )\n",
    "\n",
    "# ndim_diff = return_dict_train['M_diff_halos_all_norm_masked'][0].shape[2]\n",
    "# num_cond_Mdiff = num_cond + 2\n",
    "# model_Mdiff = NSF_Mdiff_CNNcond(\n",
    "#     dim=ndim_diff,\n",
    "#     K=K_Mdiff,\n",
    "#     B=B_Mdiff,\n",
    "#     hidden_dim=hidden_dim_MAF,\n",
    "#     num_cond=num_cond_Mdiff,\n",
    "#     nflows=nflows_Mdiff_NSF,\n",
    "#     base_dist=base_dist_Mdiff,\n",
    "#     mu_pos=True\n",
    "#     )\n",
    "\n",
    "# ndim = ndim_diff + 1\n",
    "# model = COMBINED_Model(\n",
    "#     None,\n",
    "#     model_Mdiff,\n",
    "#     # None,\n",
    "#     model_M1,\n",
    "#     model_Ntot,\n",
    "#     ndim,\n",
    "#     ksize,\n",
    "#     ns_d,\n",
    "#     ns_h,\n",
    "#     nb,\n",
    "#     ninp,\n",
    "#     nfeature_cnn,\n",
    "#     nout_cnn,\n",
    "#     layers_types=layers_types,\n",
    "#     act='tanh',\n",
    "#     padding='valid',\n",
    "#     sep_Ntot_cond=True,\n",
    "#     sep_M1_cond=True,\n",
    "#     sep_Mdiff_cond=True,\n",
    "#     num_cond_Ntot = num_cond_Ntot,\n",
    "#     num_cond_M1 = num_cond_M1,\n",
    "#     num_cond_Mdiff = num_cond_Mdiff\n",
    "#     )\n",
    "\n",
    "# model.to(dev)\n",
    "\n",
    "# print()\n"
   ]
  },
  {
   "cell_type": "code",
   "execution_count": 8,
   "metadata": {},
   "outputs": [],
   "source": [
    "# base_dist_Ntot\n"
   ]
  },
  {
   "cell_type": "code",
   "execution_count": 9,
   "metadata": {},
   "outputs": [],
   "source": [
    "from torch.utils.data import DataLoader, Dataset\n",
    "# class LoadCustomData(Dataset):\n",
    "#     def __init__(self, return_dict, return_dict_FP, all_gpu=False):\n",
    "#         if return_dict_FP is not None:\n",
    "#             self.cond_tensor = torch.Tensor(np.array(return_dict_FP['df_d_all']))\n",
    "#             cond_nsh = np.moveaxis(np.array(return_dict_FP['df_d_all_nsh']), 2, 5)\n",
    "#             self.cond_tensor_nsh = torch.Tensor((cond_nsh)).reshape(-1, nsims_per_batch * (nax_h ** 3), ninp)\n",
    "#         else:\n",
    "#             self.cond_tensor = torch.Tensor(np.array(return_dict['df_d_all']))\n",
    "#             cond_nsh = np.moveaxis(np.array(return_dict['df_d_all_nsh']), 2, 5)\n",
    "#             self.cond_tensor_nsh = torch.Tensor((cond_nsh)).reshape(-1, nsims_per_batch * (nax_h ** 3), ninp)\n",
    "\n",
    "#         self.mask_tensor_M1_train = torch.Tensor(np.array(return_dict['mask_M1'])).reshape(-1, nsims_per_batch * (nax_h**3))\n",
    "#         self.mask_tensor_Mdiff_train = torch.Tensor((np.array(return_dict['mask_M_diff']))).reshape(-1, nsims_per_batch * (nax_h**3), ndim_diff)\n",
    "\n",
    "#         self.X_M1 = torch.Tensor((np.array(return_dict['M1_halos_all_norm']))).reshape(-1, nsims_per_batch * (nax_h**3), 1)\n",
    "#         self.X_Nhalo = torch.Tensor(np.array(return_dict['Nhalo_train_mg_arr'])).reshape(-1, nsims_per_batch * (nax_h**3), 1)\n",
    "#         self.X_Mdiff = torch.Tensor(np.array(return_dict['M_diff_halos_all_norm_masked'])).reshape(-1, nsims_per_batch * (nax_h**3),ndim_diff)\n",
    "#         self.Nhalos_truth_tensor = torch.Tensor(((np.array(return_dict['N_halos_all'])))).reshape(-1, nsims_per_batch * (nax_h**3), 1)\n",
    "\n",
    "#         if return_dict_FP is not None:\n",
    "#             self.mask_tensor_M1_train_FP = torch.Tensor(np.array(return_dict_FP['mask_M1'])).reshape(-1, nsims_per_batch * (nax_h**3))\n",
    "#             self.X_M1_FP = torch.Tensor((np.array(return_dict_FP['M1_halos_all_norm']))).reshape(-1, nsims_per_batch * (nax_h**3), 1)\n",
    "#         else:\n",
    "#             self.mask_tensor_M1_train_FP = None\n",
    "#             self.X_M1_FP = None\n",
    "#         if all_gpu:\n",
    "            # self.cond_tensor = self.cond_tensor.cuda(dev)\n",
    "            # self.cond_tensor_nsh = self.cond_tensor_nsh.cuda(dev)\n",
    "            # self.mask_tensor_M1_train = self.mask_tensor_M1_train.cuda(dev)\n",
    "            # self.mask_tensor_Mdiff_train = self.mask_tensor_Mdiff_train.cuda(dev)\n",
    "            # self.X_M1 = self.X_M1.cuda(dev)\n",
    "            # self.X_Nhalo = self.X_Nhalo.cuda(dev)\n",
    "            # self.X_Mdiff = self.X_Mdiff.cuda(dev)\n",
    "            # self.Nhalos_truth_tensor = self.Nhalos_truth_tensor.cuda(dev)\n",
    "            # if return_dict_FP is not None:\n",
    "            #     self.mask_tensor_M1_train_FP = self.mask_tensor_M1_train_FP.cuda(dev)\n",
    "            #     self.X_M1_FP = self.X_M1_FP.cuda(dev)\n",
    "\n",
    "#     def __len__(self):\n",
    "#         return len(self.cond_tensor)\n",
    "\n",
    "#     def __getitem__(self, idx):\n",
    "#         cond_tensor = (self.cond_tensor[idx,...])\n",
    "#         cond_tensor_nsh = self.cond_tensor_nsh[idx,...]\n",
    "#         mask_tensor_M1_train = self.mask_tensor_M1_train[idx,...]\n",
    "#         mask_tensor_Mdiff_train =self.mask_tensor_Mdiff_train[idx,...]\n",
    "#         X_M1 = self.X_M1[idx,...]\n",
    "#         X_Nhalo = self.X_Nhalo[idx,...]\n",
    "#         X_Mdiff = self.X_Mdiff[idx,...]\n",
    "#         Nhalos_truth_tensor = self.Nhalos_truth_tensor[idx,...]\n",
    "#         if self.mask_tensor_M1_train_FP is not None:\n",
    "#             mask_tensor_M1_train_FP = self.mask_tensor_M1_train_FP[idx,...]\n",
    "#             X_M1_FP = self.X_M1_FP[idx,...]\n",
    "#         else:\n",
    "#             mask_tensor_M1_train_FP = torch.Tensor([-9999])\n",
    "#             X_M1_FP = torch.Tensor([-9999])\n",
    "\n",
    "#         return (cond_tensor, cond_tensor_nsh, mask_tensor_M1_train, mask_tensor_Mdiff_train, X_M1, X_Nhalo,\n",
    "#                  X_Mdiff, Nhalos_truth_tensor, mask_tensor_M1_train_FP, X_M1_FP)\n",
    "\n",
    "\n",
    "ndim_diff = return_dict_train['M_diff_halos_all_norm_masked'][0].shape[2]\n",
    "\n",
    "if return_dict_train_FP is not None:\n",
    "    cond_tensor = torch.Tensor(np.array(return_dict_train_FP['df_d_all']))\n",
    "    cond_nsh = np.moveaxis(np.array(return_dict_train_FP['df_d_all_nsh']), 2, 5)\n",
    "    cond_tensor_nsh = torch.Tensor((cond_nsh)).reshape(-1, nsims_per_batch * (nax_h ** 3), ninp)\n",
    "else:\n",
    "    cond_tensor = torch.Tensor(np.array(return_dict_train['df_d_all']))\n",
    "    cond_nsh = np.moveaxis(np.array(return_dict_train['df_d_all_nsh']), 2, 5)\n",
    "    cond_tensor_nsh = torch.Tensor((cond_nsh)).reshape(-1, nsims_per_batch * (nax_h ** 3), ninp)\n",
    "\n",
    "mask_tensor_M1_train = torch.Tensor(np.array(return_dict_train['mask_M1'])).reshape(-1, nsims_per_batch * (nax_h**3))\n",
    "mask_tensor_Mdiff_train = torch.Tensor((np.array(return_dict_train['mask_M_diff']))).reshape(-1, nsims_per_batch * (nax_h**3), ndim_diff)\n",
    "\n",
    "X_M1 = torch.Tensor((np.array(return_dict_train['M1_halos_all_norm']))).reshape(-1, nsims_per_batch * (nax_h**3), 1)\n",
    "X_Nhalo = torch.Tensor(np.array(return_dict_train['Nhalo_train_mg_arr'])).reshape(-1, nsims_per_batch * (nax_h**3), 1)\n",
    "X_Mdiff = torch.Tensor(np.array(return_dict_train['M_diff_halos_all_norm_masked'])).reshape(-1, nsims_per_batch * (nax_h**3),ndim_diff)\n",
    "Nhalos_truth_tensor = torch.Tensor(((np.array(return_dict_train['N_halos_all'])))).reshape(-1, nsims_per_batch * (nax_h**3), 1)\n",
    "\n",
    "if return_dict_train_FP is not None:\n",
    "    mask_tensor_M1_train_FP = torch.Tensor(np.array(return_dict_train_FP['mask_M1'])).reshape(-1, nsims_per_batch * (nax_h**3))\n",
    "    X_M1_FP = torch.Tensor((np.array(return_dict_train_FP['M1_halos_all_norm']))).reshape(-1, nsims_per_batch * (nax_h**3), 1)\n",
    "else:\n",
    "    mask_tensor_M1_train_FP = None\n",
    "    X_M1_FP = None\n",
    "\n",
    "    \n",
    "cond_tensor = cond_tensor.cuda(dev)\n",
    "cond_tensor_nsh = cond_tensor_nsh.cuda(dev)\n",
    "mask_tensor_M1_train = mask_tensor_M1_train.cuda(dev)\n",
    "mask_tensor_Mdiff_train = mask_tensor_Mdiff_train.cuda(dev)\n",
    "X_M1 = X_M1.cuda(dev)\n",
    "X_Nhalo = X_Nhalo.cuda(dev)\n",
    "X_Mdiff = X_Mdiff.cuda(dev)\n",
    "\n",
    "# mask_tensor_M1_train = None\n",
    "# mask_tensor_Mdiff_train = None\n",
    "# X_M1 = None\n",
    "# X_Mdiff = None\n",
    "\n",
    "Nhalos_truth_tensor = Nhalos_truth_tensor.cuda(dev)\n",
    "if return_dict_train_FP is not None:\n",
    "    mask_tensor_M1_train_FP = mask_tensor_M1_train_FP.cuda(dev)\n",
    "    X_M1_FP = X_M1_FP.cuda(dev)\n",
    "    \n",
    "    \n",
    "\n",
    "\n"
   ]
  },
  {
   "cell_type": "code",
   "execution_count": 10,
   "metadata": {},
   "outputs": [
    {
     "data": {
      "text/plain": [
       "tensor([[[-0.5000],\n",
       "         [-0.5000],\n",
       "         [-0.5000],\n",
       "         ...,\n",
       "         [-0.5000],\n",
       "         [-0.5000],\n",
       "         [-0.5000]]], device='cuda:0')"
      ]
     },
     "execution_count": 10,
     "metadata": {},
     "output_type": "execute_result"
    }
   ],
   "source": [
    "# torch.amin(Nhalos_truth_tensor), torch.amax(Nhalos_truth_tensor), return_dict_train['mu_all']\n",
    "X_M1_FP"
   ]
  },
  {
   "cell_type": "code",
   "execution_count": 11,
   "metadata": {},
   "outputs": [],
   "source": [
    "# # X_Nhalo.shape, cond_tensor_nsh.shape\n",
    "# np.array(return_dict_train['N_halos_all']).shape, cond_nsh.shape, np.array(return_dict_train['M1_halos_all_norm']).shape\n",
    "\n",
    "# Nhalos_3d = np.array(return_dict_train['N_halos_all']).reshape(-1, nsims_per_batch, nax_h, nax_h, nax_h)\n",
    "# Mhalos_3d = np.array(return_dict_train['M1_halos_all_norm']).reshape(-1, nsims_per_batch, nax_h, nax_h, nax_h)\n",
    "# delta_m_3d = cond_nsh[...,0]\n",
    "\n",
    "\n"
   ]
  },
  {
   "cell_type": "code",
   "execution_count": 12,
   "metadata": {},
   "outputs": [],
   "source": [
    "# # make a three panel plot\n",
    "# import matplotlib.pyplot as pl\n",
    "# import matplotlib\n",
    "# %matplotlib inline\n",
    "# indsim = 300\n",
    "# pl.figure()\n",
    "# pl.subplot(131)\n",
    "# pl.imshow(Nhalos_3d[0,indsim,0,...])\n",
    "# # pl.colorbar()\n",
    "# pl.subplot(132)\n",
    "# pl.imshow(Mhalos_3d[0,indsim,0,...])\n",
    "# # pl.colorbar()\n",
    "# pl.subplot(133)\n",
    "# pl.imshow(delta_m_3d[0,indsim,0,...])\n",
    "# # pl.colorbar()\n"
   ]
  },
  {
   "cell_type": "code",
   "execution_count": 13,
   "metadata": {},
   "outputs": [],
   "source": [
    "\n",
    "# delta_m = cond_tensor_nsh[0,:,0].cpu().numpy()\n",
    "# Nhalo = X_Nhalo[0,:,0].cpu().numpy()\n",
    "# indsel = np.where((delta_m > 3) & (delta_m < 100))[0]\n",
    "# pl.figure()\n",
    "# pl.scatter(delta_m[indsel], Nhalo[indsel], s=0.1)\n"
   ]
  },
  {
   "cell_type": "code",
   "execution_count": 14,
   "metadata": {},
   "outputs": [],
   "source": [
    "# np.amin(delta_m), np.amax(delta_m), np.amin(Nhalo), np.amax(Nhalo)\n",
    "\n"
   ]
  },
  {
   "cell_type": "code",
   "execution_count": null,
   "metadata": {},
   "outputs": [],
   "source": [
    "\n",
    "\n"
   ]
  },
  {
   "cell_type": "code",
   "execution_count": 10,
   "metadata": {},
   "outputs": [
    {
     "name": "stdout",
     "output_type": "stream",
     "text": [
      "/mnt/home/spandey/ceph/AR_NPE/TRAIN_ROCKSTAR_FOF/FINALTEST_SUBSEL_plexp_ns_10_cond_sim_fastpm_nc4_mass_fof_KM1_10_stype_uniform_cic_L2normNtothist_True_L2normM1hist_True True\n"
     ]
    }
   ],
   "source": [
    "with open(\"/mnt/home/spandey/ceph/AR_NPE/run_configs/\" + run_config_name,\"r\") as file_object:\n",
    "    config=yaml.load(file_object,Loader=yaml.SafeLoader)\n",
    "\n",
    "config_train = config['train_settings']\n",
    "batch_size = config_train['batch_size_DL']\n",
    "all_gpu = config_train['all_gpu']\n",
    "\n",
    "try:\n",
    "    L2norm_Ntothist = config_train['L2norm_Ntothist']\n",
    "except:\n",
    "    L2norm_Ntothist = False\n",
    "\n",
    "try:\n",
    "    L2norm_M1hist = config_train['L2norm_M1hist']\n",
    "except:\n",
    "    L2norm_M1hist = False\n",
    "\n",
    "nflows_train = config_train['nflows_train']\n",
    "\n",
    "# save_bestfit_model_dir = '/mnt/home/spandey/ceph/AR_NPE/' + 'TRAIN_ROCKSTAR_FOF/FINALTEST_SUBSEL_TEST_FINALS_SIMPLE_BATCHED_model_save_nsim' + str(len(ji_array)) + \\\n",
    "#                             '_cond_sim_' + cond_sim + \\\n",
    "#                             '_nsd' + str(ns_d) + '_nc' + str(nc) + '_nsh' + str(ns_h) + '_mass_' + mass_type + \\\n",
    "#                             '_KM1_' + str(K_M1) + \\\n",
    "#                             '_stype_' + stype + '_nsimperbatch' + str(nsims_per_batch) + '_nbatches' + str(nbatches_train) + \\\n",
    "#                             '_L2normNtothist_' + str(L2norm_Ntothist) + '_L2normM1hist_' + str(L2norm_M1hist)\n",
    "\n",
    "# save_bestfit_model_dir = '/mnt/home/spandey/ceph/AR_NPE/' + 'TRAIN_ROCKSTAR_FOF/FINALTEST2_SUBSEL_ns_' + str(len(ji_array)) + \\\n",
    "#                             '_cond_sim_' + cond_sim  \\\n",
    "#                             + '_nc' + str(nc) + '_mass_' + mass_type + \\\n",
    "#                             '_KM1_' + str(K_M1) + \\\n",
    "#                             '_stype_' + stype + \\\n",
    "#                             '_L2normNtothist_' + str(L2norm_Ntothist) + '_L2normM1hist_' + str(L2norm_M1hist)\n",
    "\n",
    "save_bestfit_model_dir = '/mnt/home/spandey/ceph/AR_NPE/' + 'TRAIN_ROCKSTAR_FOF/FINALTEST_SUBSEL_plexp_ns_' + str(len(ji_array)) + \\\n",
    "                            '_cond_sim_' + cond_sim  \\\n",
    "                            + '_nc' + str(nc) + '_mass_' + mass_type + \\\n",
    "                            '_KM1_' + str(K_M1) + \\\n",
    "                            '_stype_' + stype + \\\n",
    "                            '_L2normNtothist_' + str(L2norm_Ntothist) + '_L2normM1hist_' + str(L2norm_M1hist)\n",
    "\n",
    "print(save_bestfit_model_dir, os.path.exists(save_bestfit_model_dir))\n",
    "# make directory if it doesn't exist\n",
    "import os\n",
    "if not os.path.exists(save_bestfit_model_dir):\n",
    "    os.makedirs(save_bestfit_model_dir)\n",
    "\n",
    "# start_with_bestfit = config_train['start_with_bestfit']\n",
    "\n",
    "# if start_with_bestfit:\n",
    "#     try:\n",
    "#         print('loading bestfit model')\n",
    "#         bestfit_model = (torch.load(save_bestfit_model_name))\n",
    "#         model.load_state_dict(bestfit_model['state_dict'])\n",
    "#         optimizer.load_state_dict(bestfit_model['optimizer'])\n",
    "#         scheduler.load_state_dict(bestfit_model['scheduler'])\n",
    "#         loss_min = bestfit_model['loss_min']\n",
    "#         loss = bestfit_model['loss']\n",
    "#         lr = bestfit_model['lr']\n",
    "#         epoch_tot_counter = bestfit_model['epoch_tot_counter']\n",
    "#         for g in optimizer.param_groups:\n",
    "#             # g['lr'] = lr\n",
    "#             g['lr'] = 0.01          \n",
    "\n",
    "#     except:\n",
    "#         print('no bestfit model found, running new')\n",
    "#         pass\n",
    "#         epoch_tot_counter = 0\n",
    "\n",
    "\n",
    "# dataset = LoadCustomData(return_dict_train, return_dict_train_FP, all_gpu=all_gpu)\n",
    "# dataloader = DataLoader(dataset, batch_size=batch_size, pin_memory=1 - all_gpu, num_workers=1)\n",
    "\n",
    "\n"
   ]
  },
  {
   "cell_type": "code",
   "execution_count": 11,
   "metadata": {},
   "outputs": [],
   "source": [
    "# X_M1_FP_jd\n"
   ]
  },
  {
   "cell_type": "code",
   "execution_count": 12,
   "metadata": {},
   "outputs": [],
   "source": [
    "# print(loss)\n",
    "# num_cond_M1\n"
   ]
  },
  {
   "cell_type": "code",
   "execution_count": 13,
   "metadata": {},
   "outputs": [
    {
     "name": "stdout",
     "output_type": "stream",
     "text": [
      "\n"
     ]
    },
    {
     "name": "stderr",
     "output_type": "stream",
     "text": [
      "  0%|          | 1/2000 [00:00<11:37,  2.87it/s]"
     ]
    },
    {
     "name": "stdout",
     "output_type": "stream",
     "text": [
      "saving bf at: , with loss: 73.10574 , at epoch: 0 learning rate: 0.001 , train_Ntot: 1 train_M1: 0 , train_Mdiff: 0 , epoch_tot_counter: 1\n"
     ]
    },
    {
     "name": "stderr",
     "output_type": "stream",
     "text": [
      " 10%|█         | 202/2000 [00:38<05:37,  5.33it/s]"
     ]
    },
    {
     "name": "stdout",
     "output_type": "stream",
     "text": [
      "saving bf at: , with loss: 8.90526 , at epoch: 200 learning rate: 0.001 , train_Ntot: 1 train_M1: 0 , train_Mdiff: 0 , epoch_tot_counter: 201\n"
     ]
    },
    {
     "name": "stderr",
     "output_type": "stream",
     "text": [
      " 20%|██        | 402/2000 [01:16<05:00,  5.32it/s]"
     ]
    },
    {
     "name": "stdout",
     "output_type": "stream",
     "text": [
      "saving bf at: , with loss: 1.64215 , at epoch: 400 learning rate: 0.001 , train_Ntot: 1 train_M1: 0 , train_Mdiff: 0 , epoch_tot_counter: 401\n"
     ]
    },
    {
     "name": "stderr",
     "output_type": "stream",
     "text": [
      " 30%|███       | 602/2000 [01:54<04:23,  5.32it/s]"
     ]
    },
    {
     "name": "stdout",
     "output_type": "stream",
     "text": [
      "saving bf at: , with loss: 0.04916 , at epoch: 600 learning rate: 0.001 , train_Ntot: 1 train_M1: 0 , train_Mdiff: 0 , epoch_tot_counter: 601\n"
     ]
    },
    {
     "name": "stderr",
     "output_type": "stream",
     "text": [
      " 40%|████      | 802/2000 [02:33<03:45,  5.30it/s]"
     ]
    },
    {
     "name": "stdout",
     "output_type": "stream",
     "text": [
      "saving bf at: , with loss: -0.46691 , at epoch: 800 learning rate: 0.001 , train_Ntot: 1 train_M1: 0 , train_Mdiff: 0 , epoch_tot_counter: 801\n"
     ]
    },
    {
     "name": "stderr",
     "output_type": "stream",
     "text": [
      " 50%|█████     | 1002/2000 [03:11<03:06,  5.34it/s]"
     ]
    },
    {
     "name": "stdout",
     "output_type": "stream",
     "text": [
      "saving bf at: , with loss: -0.57105 , at epoch: 1000 learning rate: 0.001 , train_Ntot: 1 train_M1: 0 , train_Mdiff: 0 , epoch_tot_counter: 1001\n"
     ]
    },
    {
     "name": "stderr",
     "output_type": "stream",
     "text": [
      " 55%|█████▍    | 1094/2000 [03:29<02:53,  5.22it/s]\n"
     ]
    },
    {
     "name": "stdout",
     "output_type": "stream",
     "text": [
      "failed at flow: 0\n",
      "\n"
     ]
    },
    {
     "name": "stderr",
     "output_type": "stream",
     "text": [
      "  0%|          | 1/2000 [00:00<05:50,  5.71it/s]"
     ]
    },
    {
     "name": "stdout",
     "output_type": "stream",
     "text": [
      "saving bf at: , with loss: 50.94564 , at epoch: 0 learning rate: 0.001 , train_Ntot: 1 train_M1: 0 , train_Mdiff: 0 , epoch_tot_counter: 1\n"
     ]
    },
    {
     "name": "stderr",
     "output_type": "stream",
     "text": [
      " 10%|█         | 202/2000 [00:38<05:37,  5.33it/s]"
     ]
    },
    {
     "name": "stdout",
     "output_type": "stream",
     "text": [
      "saving bf at: , with loss: 10.55158 , at epoch: 200 learning rate: 0.001 , train_Ntot: 1 train_M1: 0 , train_Mdiff: 0 , epoch_tot_counter: 201\n"
     ]
    },
    {
     "name": "stderr",
     "output_type": "stream",
     "text": [
      " 20%|██        | 402/2000 [01:16<04:59,  5.34it/s]"
     ]
    },
    {
     "name": "stdout",
     "output_type": "stream",
     "text": [
      "saving bf at: , with loss: 2.43978 , at epoch: 400 learning rate: 0.001 , train_Ntot: 1 train_M1: 0 , train_Mdiff: 0 , epoch_tot_counter: 401\n"
     ]
    },
    {
     "name": "stderr",
     "output_type": "stream",
     "text": [
      " 30%|███       | 602/2000 [01:54<04:21,  5.35it/s]"
     ]
    },
    {
     "name": "stdout",
     "output_type": "stream",
     "text": [
      "saving bf at: , with loss: -0.01511 , at epoch: 600 learning rate: 0.001 , train_Ntot: 1 train_M1: 0 , train_Mdiff: 0 , epoch_tot_counter: 601\n"
     ]
    },
    {
     "name": "stderr",
     "output_type": "stream",
     "text": [
      " 40%|████      | 802/2000 [02:33<03:44,  5.33it/s]"
     ]
    },
    {
     "name": "stdout",
     "output_type": "stream",
     "text": [
      "saving bf at: , with loss: -0.56619 , at epoch: 800 learning rate: 0.001 , train_Ntot: 1 train_M1: 0 , train_Mdiff: 0 , epoch_tot_counter: 801\n"
     ]
    },
    {
     "name": "stderr",
     "output_type": "stream",
     "text": [
      " 50%|█████     | 1002/2000 [03:11<03:06,  5.35it/s]"
     ]
    },
    {
     "name": "stdout",
     "output_type": "stream",
     "text": [
      "saving bf at: , with loss: -0.74897 , at epoch: 1000 learning rate: 0.001 , train_Ntot: 1 train_M1: 0 , train_Mdiff: 0 , epoch_tot_counter: 1001\n"
     ]
    },
    {
     "name": "stderr",
     "output_type": "stream",
     "text": [
      " 70%|███████   | 1401/2000 [04:28<03:01,  3.30it/s]"
     ]
    },
    {
     "name": "stdout",
     "output_type": "stream",
     "text": [
      "saving bf at: , with loss: -0.86091 , at epoch: 1400 learning rate: 0.001 , train_Ntot: 1 train_M1: 0 , train_Mdiff: 0 , epoch_tot_counter: 1401\n"
     ]
    },
    {
     "name": "stderr",
     "output_type": "stream",
     "text": [
      " 76%|███████▋  | 1525/2000 [04:51<01:27,  5.43it/s]"
     ]
    },
    {
     "name": "stdout",
     "output_type": "stream",
     "text": [
      "Epoch 01524: reducing learning rate of group 0 to 5.0000e-04.\n"
     ]
    },
    {
     "name": "stderr",
     "output_type": "stream",
     "text": [
      " 80%|████████  | 1602/2000 [05:06<01:14,  5.35it/s]"
     ]
    },
    {
     "name": "stdout",
     "output_type": "stream",
     "text": [
      "saving bf at: , with loss: -0.96223 , at epoch: 1600 learning rate: 0.0005 , train_Ntot: 1 train_M1: 0 , train_Mdiff: 0 , epoch_tot_counter: 1601\n"
     ]
    },
    {
     "name": "stderr",
     "output_type": "stream",
     "text": [
      " 97%|█████████▋| 1940/2000 [06:10<00:11,  5.40it/s]"
     ]
    },
    {
     "name": "stdout",
     "output_type": "stream",
     "text": [
      "Epoch 01939: reducing learning rate of group 0 to 2.5000e-04.\n"
     ]
    },
    {
     "name": "stderr",
     "output_type": "stream",
     "text": [
      "100%|██████████| 2000/2000 [06:22<00:00,  5.23it/s]\n",
      "  0%|          | 1/2000 [00:00<15:10,  2.20it/s]"
     ]
    },
    {
     "name": "stdout",
     "output_type": "stream",
     "text": [
      "saving bf at: , with loss: 0.68154 , at epoch: 0 learning rate: 0.001 , train_Ntot: 1 train_M1: 1 , train_Mdiff: 0 , epoch_tot_counter: 2001\n"
     ]
    },
    {
     "name": "stderr",
     "output_type": "stream",
     "text": [
      " 10%|█         | 201/2000 [03:17<28:57,  1.04it/s]"
     ]
    },
    {
     "name": "stdout",
     "output_type": "stream",
     "text": [
      "saving bf at: , with loss: -0.40035 , at epoch: 200 learning rate: 0.001 , train_Ntot: 1 train_M1: 1 , train_Mdiff: 0 , epoch_tot_counter: 2201\n"
     ]
    },
    {
     "name": "stderr",
     "output_type": "stream",
     "text": [
      " 17%|█▋        | 340/2000 [05:32<26:24,  1.05it/s]"
     ]
    },
    {
     "name": "stdout",
     "output_type": "stream",
     "text": [
      "Epoch 02340: reducing learning rate of group 0 to 5.0000e-04.\n"
     ]
    },
    {
     "name": "stderr",
     "output_type": "stream",
     "text": [
      " 20%|██        | 401/2000 [06:32<25:34,  1.04it/s]"
     ]
    },
    {
     "name": "stdout",
     "output_type": "stream",
     "text": [
      "saving bf at: , with loss: -0.54116 , at epoch: 400 learning rate: 0.0005 , train_Ntot: 1 train_M1: 1 , train_Mdiff: 0 , epoch_tot_counter: 2401\n"
     ]
    },
    {
     "name": "stderr",
     "output_type": "stream",
     "text": [
      " 30%|███       | 601/2000 [09:48<22:29,  1.04it/s]"
     ]
    },
    {
     "name": "stdout",
     "output_type": "stream",
     "text": [
      "saving bf at: , with loss: -0.54274 , at epoch: 600 learning rate: 0.0005 , train_Ntot: 1 train_M1: 1 , train_Mdiff: 0 , epoch_tot_counter: 2601\n"
     ]
    },
    {
     "name": "stderr",
     "output_type": "stream",
     "text": [
      " 37%|███▋      | 741/2000 [12:05<21:16,  1.01s/it]"
     ]
    },
    {
     "name": "stdout",
     "output_type": "stream",
     "text": [
      "Epoch 02741: reducing learning rate of group 0 to 2.5000e-04.\n"
     ]
    },
    {
     "name": "stderr",
     "output_type": "stream",
     "text": [
      " 40%|████      | 801/2000 [13:04<19:16,  1.04it/s]"
     ]
    },
    {
     "name": "stdout",
     "output_type": "stream",
     "text": [
      "saving bf at: , with loss: -0.64591 , at epoch: 800 learning rate: 0.00025 , train_Ntot: 1 train_M1: 1 , train_Mdiff: 0 , epoch_tot_counter: 2801\n"
     ]
    },
    {
     "name": "stderr",
     "output_type": "stream",
     "text": [
      " 50%|█████     | 1001/2000 [16:20<16:02,  1.04it/s]"
     ]
    },
    {
     "name": "stdout",
     "output_type": "stream",
     "text": [
      "saving bf at: , with loss: -0.79664 , at epoch: 1000 learning rate: 0.00025 , train_Ntot: 1 train_M1: 1 , train_Mdiff: 0 , epoch_tot_counter: 3001\n"
     ]
    },
    {
     "name": "stderr",
     "output_type": "stream",
     "text": [
      " 57%|█████▋    | 1142/2000 [18:38<14:44,  1.03s/it]"
     ]
    },
    {
     "name": "stdout",
     "output_type": "stream",
     "text": [
      "Epoch 03142: reducing learning rate of group 0 to 1.2500e-04.\n"
     ]
    },
    {
     "name": "stderr",
     "output_type": "stream",
     "text": [
      " 77%|███████▋  | 1543/2000 [25:11<07:47,  1.02s/it]"
     ]
    },
    {
     "name": "stdout",
     "output_type": "stream",
     "text": [
      "Epoch 03543: reducing learning rate of group 0 to 6.2500e-05.\n"
     ]
    },
    {
     "name": "stderr",
     "output_type": "stream",
     "text": [
      " 97%|█████████▋| 1944/2000 [31:44<00:55,  1.02it/s]"
     ]
    },
    {
     "name": "stdout",
     "output_type": "stream",
     "text": [
      "Epoch 03944: reducing learning rate of group 0 to 3.1250e-05.\n"
     ]
    },
    {
     "name": "stderr",
     "output_type": "stream",
     "text": [
      "100%|██████████| 2000/2000 [32:39<00:00,  1.02it/s]\n"
     ]
    },
    {
     "name": "stdout",
     "output_type": "stream",
     "text": [
      "\n"
     ]
    },
    {
     "name": "stderr",
     "output_type": "stream",
     "text": [
      "  0%|          | 1/2000 [00:00<07:25,  4.48it/s]"
     ]
    },
    {
     "name": "stdout",
     "output_type": "stream",
     "text": [
      "saving bf at: , with loss: 12.57858 , at epoch: 0 learning rate: 0.001 , train_Ntot: 1 train_M1: 0 , train_Mdiff: 0 , epoch_tot_counter: 1\n"
     ]
    },
    {
     "name": "stderr",
     "output_type": "stream",
     "text": [
      " 10%|█         | 202/2000 [00:38<05:36,  5.34it/s]"
     ]
    },
    {
     "name": "stdout",
     "output_type": "stream",
     "text": [
      "saving bf at: , with loss: 3.14575 , at epoch: 200 learning rate: 0.001 , train_Ntot: 1 train_M1: 0 , train_Mdiff: 0 , epoch_tot_counter: 201\n"
     ]
    },
    {
     "name": "stderr",
     "output_type": "stream",
     "text": [
      " 20%|██        | 402/2000 [01:16<04:56,  5.39it/s]"
     ]
    },
    {
     "name": "stdout",
     "output_type": "stream",
     "text": [
      "saving bf at: , with loss: 1.48164 , at epoch: 400 learning rate: 0.001 , train_Ntot: 1 train_M1: 0 , train_Mdiff: 0 , epoch_tot_counter: 401\n"
     ]
    },
    {
     "name": "stderr",
     "output_type": "stream",
     "text": [
      " 30%|███       | 602/2000 [01:54<04:19,  5.39it/s]"
     ]
    },
    {
     "name": "stdout",
     "output_type": "stream",
     "text": [
      "saving bf at: , with loss: -0.10687 , at epoch: 600 learning rate: 0.001 , train_Ntot: 1 train_M1: 0 , train_Mdiff: 0 , epoch_tot_counter: 601\n"
     ]
    },
    {
     "name": "stderr",
     "output_type": "stream",
     "text": [
      " 40%|████      | 802/2000 [02:33<03:47,  5.28it/s]"
     ]
    },
    {
     "name": "stdout",
     "output_type": "stream",
     "text": [
      "saving bf at: , with loss: -0.5649 , at epoch: 800 learning rate: 0.001 , train_Ntot: 1 train_M1: 0 , train_Mdiff: 0 , epoch_tot_counter: 801\n"
     ]
    },
    {
     "name": "stderr",
     "output_type": "stream",
     "text": [
      " 50%|█████     | 1002/2000 [03:11<03:04,  5.39it/s]"
     ]
    },
    {
     "name": "stdout",
     "output_type": "stream",
     "text": [
      "saving bf at: , with loss: -0.66551 , at epoch: 1000 learning rate: 0.001 , train_Ntot: 1 train_M1: 0 , train_Mdiff: 0 , epoch_tot_counter: 1001\n"
     ]
    },
    {
     "name": "stderr",
     "output_type": "stream",
     "text": [
      " 60%|██████    | 1201/2000 [03:48<02:32,  5.23it/s]"
     ]
    },
    {
     "name": "stdout",
     "output_type": "stream",
     "text": [
      "saving bf at: , with loss: -0.92522 , at epoch: 1200 learning rate: 0.001 , train_Ntot: 1 train_M1: 0 , train_Mdiff: 0 , epoch_tot_counter: 1201\n"
     ]
    },
    {
     "name": "stderr",
     "output_type": "stream",
     "text": [
      " 88%|████████▊ | 1752/2000 [05:33<00:45,  5.40it/s]"
     ]
    },
    {
     "name": "stdout",
     "output_type": "stream",
     "text": [
      "Epoch 01751: reducing learning rate of group 0 to 5.0000e-04.\n"
     ]
    },
    {
     "name": "stderr",
     "output_type": "stream",
     "text": [
      "100%|██████████| 2000/2000 [06:20<00:00,  5.26it/s]\n",
      "  0%|          | 1/2000 [00:00<17:42,  1.88it/s]"
     ]
    },
    {
     "name": "stdout",
     "output_type": "stream",
     "text": [
      "saving bf at: , with loss: 0.9399 , at epoch: 0 learning rate: 0.001 , train_Ntot: 1 train_M1: 1 , train_Mdiff: 0 , epoch_tot_counter: 2001\n"
     ]
    },
    {
     "name": "stderr",
     "output_type": "stream",
     "text": [
      "  8%|▊         | 152/2000 [02:28<29:26,  1.05it/s]"
     ]
    },
    {
     "name": "stdout",
     "output_type": "stream",
     "text": [
      "Epoch 02152: reducing learning rate of group 0 to 5.0000e-04.\n"
     ]
    },
    {
     "name": "stderr",
     "output_type": "stream",
     "text": [
      " 10%|█         | 201/2000 [03:16<29:19,  1.02it/s]"
     ]
    },
    {
     "name": "stdout",
     "output_type": "stream",
     "text": [
      "saving bf at: , with loss: -0.27159 , at epoch: 200 learning rate: 0.0005 , train_Ntot: 1 train_M1: 1 , train_Mdiff: 0 , epoch_tot_counter: 2201\n"
     ]
    },
    {
     "name": "stderr",
     "output_type": "stream",
     "text": [
      " 20%|██        | 401/2000 [06:29<25:35,  1.04it/s]"
     ]
    },
    {
     "name": "stdout",
     "output_type": "stream",
     "text": [
      "saving bf at: , with loss: -0.39053 , at epoch: 400 learning rate: 0.0005 , train_Ntot: 1 train_M1: 1 , train_Mdiff: 0 , epoch_tot_counter: 2401\n"
     ]
    },
    {
     "name": "stderr",
     "output_type": "stream",
     "text": [
      " 28%|██▊       | 553/2000 [08:56<23:04,  1.05it/s]"
     ]
    },
    {
     "name": "stdout",
     "output_type": "stream",
     "text": [
      "Epoch 02553: reducing learning rate of group 0 to 2.5000e-04.\n"
     ]
    },
    {
     "name": "stderr",
     "output_type": "stream",
     "text": [
      " 30%|███       | 601/2000 [09:43<23:40,  1.02s/it]"
     ]
    },
    {
     "name": "stdout",
     "output_type": "stream",
     "text": [
      "saving bf at: , with loss: -0.55304 , at epoch: 600 learning rate: 0.00025 , train_Ntot: 1 train_M1: 1 , train_Mdiff: 0 , epoch_tot_counter: 2601\n"
     ]
    },
    {
     "name": "stderr",
     "output_type": "stream",
     "text": [
      " 40%|████      | 801/2000 [12:56<19:10,  1.04it/s]"
     ]
    },
    {
     "name": "stdout",
     "output_type": "stream",
     "text": [
      "saving bf at: , with loss: -0.66739 , at epoch: 800 learning rate: 0.00025 , train_Ntot: 1 train_M1: 1 , train_Mdiff: 0 , epoch_tot_counter: 2801\n"
     ]
    },
    {
     "name": "stderr",
     "output_type": "stream",
     "text": [
      " 48%|████▊     | 954/2000 [15:24<16:40,  1.05it/s]"
     ]
    },
    {
     "name": "stdout",
     "output_type": "stream",
     "text": [
      "Epoch 02954: reducing learning rate of group 0 to 1.2500e-04.\n"
     ]
    },
    {
     "name": "stderr",
     "output_type": "stream",
     "text": [
      " 50%|█████     | 1001/2000 [16:10<16:39,  1.00s/it]"
     ]
    },
    {
     "name": "stdout",
     "output_type": "stream",
     "text": [
      "saving bf at: , with loss: -0.71607 , at epoch: 1000 learning rate: 0.000125 , train_Ntot: 1 train_M1: 1 , train_Mdiff: 0 , epoch_tot_counter: 3001\n"
     ]
    },
    {
     "name": "stderr",
     "output_type": "stream",
     "text": [
      " 60%|██████    | 1201/2000 [19:23<12:46,  1.04it/s]"
     ]
    },
    {
     "name": "stdout",
     "output_type": "stream",
     "text": [
      "saving bf at: , with loss: -0.78631 , at epoch: 1200 learning rate: 0.000125 , train_Ntot: 1 train_M1: 1 , train_Mdiff: 0 , epoch_tot_counter: 3201\n"
     ]
    },
    {
     "name": "stderr",
     "output_type": "stream",
     "text": [
      " 68%|██████▊   | 1355/2000 [21:52<10:18,  1.04it/s]"
     ]
    },
    {
     "name": "stdout",
     "output_type": "stream",
     "text": [
      "Epoch 03355: reducing learning rate of group 0 to 6.2500e-05.\n"
     ]
    },
    {
     "name": "stderr",
     "output_type": "stream",
     "text": [
      " 88%|████████▊ | 1756/2000 [28:21<03:53,  1.04it/s]"
     ]
    },
    {
     "name": "stdout",
     "output_type": "stream",
     "text": [
      "Epoch 03756: reducing learning rate of group 0 to 3.1250e-05.\n"
     ]
    },
    {
     "name": "stderr",
     "output_type": "stream",
     "text": [
      "100%|██████████| 2000/2000 [32:20<00:00,  1.03it/s]\n"
     ]
    },
    {
     "name": "stdout",
     "output_type": "stream",
     "text": [
      "\n"
     ]
    },
    {
     "name": "stderr",
     "output_type": "stream",
     "text": [
      "  0%|          | 1/2000 [00:00<07:23,  4.51it/s]"
     ]
    },
    {
     "name": "stdout",
     "output_type": "stream",
     "text": [
      "saving bf at: , with loss: 49.97948 , at epoch: 0 learning rate: 0.001 , train_Ntot: 1 train_M1: 0 , train_Mdiff: 0 , epoch_tot_counter: 1\n"
     ]
    },
    {
     "name": "stderr",
     "output_type": "stream",
     "text": [
      " 10%|█         | 202/2000 [00:38<05:41,  5.26it/s]"
     ]
    },
    {
     "name": "stdout",
     "output_type": "stream",
     "text": [
      "saving bf at: , with loss: 4.08545 , at epoch: 200 learning rate: 0.001 , train_Ntot: 1 train_M1: 0 , train_Mdiff: 0 , epoch_tot_counter: 201\n"
     ]
    },
    {
     "name": "stderr",
     "output_type": "stream",
     "text": [
      " 20%|██        | 401/2000 [01:15<05:04,  5.26it/s]"
     ]
    },
    {
     "name": "stdout",
     "output_type": "stream",
     "text": [
      "saving bf at: , with loss: 0.40199 , at epoch: 400 learning rate: 0.001 , train_Ntot: 1 train_M1: 0 , train_Mdiff: 0 , epoch_tot_counter: 401\n"
     ]
    },
    {
     "name": "stderr",
     "output_type": "stream",
     "text": [
      " 30%|███       | 602/2000 [01:54<04:22,  5.33it/s]"
     ]
    },
    {
     "name": "stdout",
     "output_type": "stream",
     "text": [
      "saving bf at: , with loss: 0.10916 , at epoch: 600 learning rate: 0.001 , train_Ntot: 1 train_M1: 0 , train_Mdiff: 0 , epoch_tot_counter: 601\n"
     ]
    },
    {
     "name": "stderr",
     "output_type": "stream",
     "text": [
      " 40%|████      | 802/2000 [02:32<03:43,  5.35it/s]"
     ]
    },
    {
     "name": "stdout",
     "output_type": "stream",
     "text": [
      "saving bf at: , with loss: -0.73571 , at epoch: 800 learning rate: 0.001 , train_Ntot: 1 train_M1: 0 , train_Mdiff: 0 , epoch_tot_counter: 801\n"
     ]
    },
    {
     "name": "stderr",
     "output_type": "stream",
     "text": [
      " 50%|█████     | 1002/2000 [03:10<03:06,  5.36it/s]"
     ]
    },
    {
     "name": "stdout",
     "output_type": "stream",
     "text": [
      "saving bf at: , with loss: -0.80861 , at epoch: 1000 learning rate: 0.001 , train_Ntot: 1 train_M1: 0 , train_Mdiff: 0 , epoch_tot_counter: 1001\n"
     ]
    },
    {
     "name": "stderr",
     "output_type": "stream",
     "text": [
      " 60%|██████    | 1201/2000 [03:47<02:37,  5.09it/s]"
     ]
    },
    {
     "name": "stdout",
     "output_type": "stream",
     "text": [
      "saving bf at: , with loss: -0.8516 , at epoch: 1200 learning rate: 0.001 , train_Ntot: 1 train_M1: 0 , train_Mdiff: 0 , epoch_tot_counter: 1201\n"
     ]
    },
    {
     "name": "stderr",
     "output_type": "stream",
     "text": [
      " 80%|████████  | 1602/2000 [05:04<01:14,  5.32it/s]"
     ]
    },
    {
     "name": "stdout",
     "output_type": "stream",
     "text": [
      "saving bf at: , with loss: -0.94994 , at epoch: 1600 learning rate: 0.001 , train_Ntot: 1 train_M1: 0 , train_Mdiff: 0 , epoch_tot_counter: 1601\n"
     ]
    },
    {
     "name": "stderr",
     "output_type": "stream",
     "text": [
      "100%|██████████| 2000/2000 [06:19<00:00,  5.27it/s]\n",
      "  0%|          | 1/2000 [00:00<13:48,  2.41it/s]"
     ]
    },
    {
     "name": "stdout",
     "output_type": "stream",
     "text": [
      "saving bf at: , with loss: 0.74523 , at epoch: 0 learning rate: 0.001 , train_Ntot: 1 train_M1: 1 , train_Mdiff: 0 , epoch_tot_counter: 2001\n"
     ]
    },
    {
     "name": "stderr",
     "output_type": "stream",
     "text": [
      "  6%|▌         | 121/2000 [01:57<29:58,  1.04it/s]"
     ]
    },
    {
     "name": "stdout",
     "output_type": "stream",
     "text": [
      "Epoch 02121: reducing learning rate of group 0 to 5.0000e-04.\n"
     ]
    },
    {
     "name": "stderr",
     "output_type": "stream",
     "text": [
      " 10%|█         | 201/2000 [03:15<28:48,  1.04it/s]"
     ]
    },
    {
     "name": "stdout",
     "output_type": "stream",
     "text": [
      "saving bf at: , with loss: -0.24487 , at epoch: 200 learning rate: 0.0005 , train_Ntot: 1 train_M1: 1 , train_Mdiff: 0 , epoch_tot_counter: 2201\n"
     ]
    },
    {
     "name": "stderr",
     "output_type": "stream",
     "text": [
      " 20%|██        | 401/2000 [06:31<26:29,  1.01it/s]"
     ]
    },
    {
     "name": "stdout",
     "output_type": "stream",
     "text": [
      "saving bf at: , with loss: -0.31894 , at epoch: 400 learning rate: 0.0005 , train_Ntot: 1 train_M1: 1 , train_Mdiff: 0 , epoch_tot_counter: 2401\n"
     ]
    },
    {
     "name": "stderr",
     "output_type": "stream",
     "text": [
      " 26%|██▌       | 522/2000 [08:28<23:32,  1.05it/s]"
     ]
    },
    {
     "name": "stdout",
     "output_type": "stream",
     "text": [
      "Epoch 02522: reducing learning rate of group 0 to 2.5000e-04.\n"
     ]
    },
    {
     "name": "stderr",
     "output_type": "stream",
     "text": [
      " 30%|███       | 601/2000 [09:46<22:22,  1.04it/s]"
     ]
    },
    {
     "name": "stdout",
     "output_type": "stream",
     "text": [
      "saving bf at: , with loss: -0.49269 , at epoch: 600 learning rate: 0.00025 , train_Ntot: 1 train_M1: 1 , train_Mdiff: 0 , epoch_tot_counter: 2601\n"
     ]
    },
    {
     "name": "stderr",
     "output_type": "stream",
     "text": [
      " 40%|████      | 801/2000 [13:02<19:10,  1.04it/s]"
     ]
    },
    {
     "name": "stdout",
     "output_type": "stream",
     "text": [
      "saving bf at: , with loss: -0.6614 , at epoch: 800 learning rate: 0.00025 , train_Ntot: 1 train_M1: 1 , train_Mdiff: 0 , epoch_tot_counter: 2801\n"
     ]
    },
    {
     "name": "stderr",
     "output_type": "stream",
     "text": [
      " 46%|████▌     | 923/2000 [15:01<18:20,  1.02s/it]"
     ]
    },
    {
     "name": "stdout",
     "output_type": "stream",
     "text": [
      "Epoch 02923: reducing learning rate of group 0 to 1.2500e-04.\n"
     ]
    },
    {
     "name": "stderr",
     "output_type": "stream",
     "text": [
      " 66%|██████▌   | 1324/2000 [21:33<11:29,  1.02s/it]"
     ]
    },
    {
     "name": "stdout",
     "output_type": "stream",
     "text": [
      "Epoch 03324: reducing learning rate of group 0 to 6.2500e-05.\n"
     ]
    },
    {
     "name": "stderr",
     "output_type": "stream",
     "text": [
      " 86%|████████▋ | 1725/2000 [28:04<04:23,  1.04it/s]"
     ]
    },
    {
     "name": "stdout",
     "output_type": "stream",
     "text": [
      "Epoch 03725: reducing learning rate of group 0 to 3.1250e-05.\n"
     ]
    },
    {
     "name": "stderr",
     "output_type": "stream",
     "text": [
      "100%|██████████| 2000/2000 [32:30<00:00,  1.03it/s]\n"
     ]
    },
    {
     "name": "stdout",
     "output_type": "stream",
     "text": [
      "\n"
     ]
    },
    {
     "name": "stderr",
     "output_type": "stream",
     "text": [
      "  0%|          | 1/2000 [00:00<07:28,  4.46it/s]"
     ]
    },
    {
     "name": "stdout",
     "output_type": "stream",
     "text": [
      "saving bf at: , with loss: 25.83418 , at epoch: 0 learning rate: 0.001 , train_Ntot: 1 train_M1: 0 , train_Mdiff: 0 , epoch_tot_counter: 1\n"
     ]
    },
    {
     "name": "stderr",
     "output_type": "stream",
     "text": [
      " 10%|█         | 202/2000 [00:39<05:38,  5.31it/s]"
     ]
    },
    {
     "name": "stdout",
     "output_type": "stream",
     "text": [
      "saving bf at: , with loss: 4.86747 , at epoch: 200 learning rate: 0.001 , train_Ntot: 1 train_M1: 0 , train_Mdiff: 0 , epoch_tot_counter: 201\n"
     ]
    },
    {
     "name": "stderr",
     "output_type": "stream",
     "text": [
      " 20%|██        | 401/2000 [01:17<06:15,  4.26it/s]"
     ]
    },
    {
     "name": "stdout",
     "output_type": "stream",
     "text": [
      "saving bf at: , with loss: 1.63196 , at epoch: 400 learning rate: 0.001 , train_Ntot: 1 train_M1: 0 , train_Mdiff: 0 , epoch_tot_counter: 401\n"
     ]
    },
    {
     "name": "stderr",
     "output_type": "stream",
     "text": [
      " 30%|███       | 602/2000 [01:56<04:24,  5.28it/s]"
     ]
    },
    {
     "name": "stdout",
     "output_type": "stream",
     "text": [
      "saving bf at: , with loss: 0.114 , at epoch: 600 learning rate: 0.001 , train_Ntot: 1 train_M1: 0 , train_Mdiff: 0 , epoch_tot_counter: 601\n"
     ]
    },
    {
     "name": "stderr",
     "output_type": "stream",
     "text": [
      " 40%|████      | 802/2000 [02:34<05:42,  3.50it/s]"
     ]
    },
    {
     "name": "stdout",
     "output_type": "stream",
     "text": [
      "saving bf at: , with loss: -0.69581 , at epoch: 800 learning rate: 0.001 , train_Ntot: 1 train_M1: 0 , train_Mdiff: 0 , epoch_tot_counter: 801\n"
     ]
    },
    {
     "name": "stderr",
     "output_type": "stream",
     "text": [
      " 70%|███████   | 1402/2000 [04:29<01:53,  5.28it/s]"
     ]
    },
    {
     "name": "stdout",
     "output_type": "stream",
     "text": [
      "saving bf at: , with loss: -0.8039 , at epoch: 1400 learning rate: 0.001 , train_Ntot: 1 train_M1: 0 , train_Mdiff: 0 , epoch_tot_counter: 1401\n"
     ]
    },
    {
     "name": "stderr",
     "output_type": "stream",
     "text": [
      " 90%|█████████ | 1802/2000 [05:47<00:37,  5.34it/s]"
     ]
    },
    {
     "name": "stdout",
     "output_type": "stream",
     "text": [
      "saving bf at: , with loss: -0.86355 , at epoch: 1800 learning rate: 0.001 , train_Ntot: 1 train_M1: 0 , train_Mdiff: 0 , epoch_tot_counter: 1801\n"
     ]
    },
    {
     "name": "stderr",
     "output_type": "stream",
     "text": [
      "100%|██████████| 2000/2000 [06:53<00:00,  4.84it/s]\n",
      "  0%|          | 1/2000 [00:00<30:55,  1.08it/s]"
     ]
    },
    {
     "name": "stdout",
     "output_type": "stream",
     "text": [
      "saving bf at: , with loss: 1.20192 , at epoch: 0 learning rate: 0.001 , train_Ntot: 1 train_M1: 1 , train_Mdiff: 0 , epoch_tot_counter: 2001\n"
     ]
    },
    {
     "name": "stderr",
     "output_type": "stream",
     "text": [
      "  7%|▋         | 148/2000 [02:39<39:43,  1.29s/it]"
     ]
    },
    {
     "name": "stdout",
     "output_type": "stream",
     "text": [
      "Epoch 02148: reducing learning rate of group 0 to 5.0000e-04.\n"
     ]
    },
    {
     "name": "stderr",
     "output_type": "stream",
     "text": [
      " 10%|█         | 201/2000 [03:33<29:05,  1.03it/s]"
     ]
    },
    {
     "name": "stdout",
     "output_type": "stream",
     "text": [
      "saving bf at: , with loss: -0.33742 , at epoch: 200 learning rate: 0.0005 , train_Ntot: 1 train_M1: 1 , train_Mdiff: 0 , epoch_tot_counter: 2201\n"
     ]
    },
    {
     "name": "stderr",
     "output_type": "stream",
     "text": [
      " 27%|██▋       | 549/2000 [09:52<23:35,  1.02it/s]"
     ]
    },
    {
     "name": "stdout",
     "output_type": "stream",
     "text": [
      "Epoch 02549: reducing learning rate of group 0 to 2.5000e-04.\n"
     ]
    },
    {
     "name": "stderr",
     "output_type": "stream",
     "text": [
      " 30%|███       | 601/2000 [10:58<32:12,  1.38s/it]"
     ]
    },
    {
     "name": "stdout",
     "output_type": "stream",
     "text": [
      "saving bf at: , with loss: -0.43456 , at epoch: 600 learning rate: 0.00025 , train_Ntot: 1 train_M1: 1 , train_Mdiff: 0 , epoch_tot_counter: 2601\n"
     ]
    },
    {
     "name": "stderr",
     "output_type": "stream",
     "text": [
      " 40%|████      | 801/2000 [14:41<19:40,  1.02it/s]"
     ]
    },
    {
     "name": "stdout",
     "output_type": "stream",
     "text": [
      "saving bf at: , with loss: -0.45574 , at epoch: 800 learning rate: 0.00025 , train_Ntot: 1 train_M1: 1 , train_Mdiff: 0 , epoch_tot_counter: 2801\n"
     ]
    },
    {
     "name": "stderr",
     "output_type": "stream",
     "text": [
      " 48%|████▊     | 950/2000 [17:37<16:48,  1.04it/s]"
     ]
    },
    {
     "name": "stdout",
     "output_type": "stream",
     "text": [
      "Epoch 02950: reducing learning rate of group 0 to 1.2500e-04.\n"
     ]
    },
    {
     "name": "stderr",
     "output_type": "stream",
     "text": [
      " 60%|██████    | 1201/2000 [22:01<16:25,  1.23s/it]"
     ]
    },
    {
     "name": "stdout",
     "output_type": "stream",
     "text": [
      "saving bf at: , with loss: -0.57478 , at epoch: 1200 learning rate: 0.000125 , train_Ntot: 1 train_M1: 1 , train_Mdiff: 0 , epoch_tot_counter: 3201\n"
     ]
    },
    {
     "name": "stderr",
     "output_type": "stream",
     "text": [
      " 68%|██████▊   | 1351/2000 [24:51<12:03,  1.12s/it]"
     ]
    },
    {
     "name": "stdout",
     "output_type": "stream",
     "text": [
      "Epoch 03351: reducing learning rate of group 0 to 6.2500e-05.\n"
     ]
    },
    {
     "name": "stderr",
     "output_type": "stream",
     "text": [
      " 70%|███████   | 1401/2000 [25:50<12:31,  1.26s/it]"
     ]
    },
    {
     "name": "stdout",
     "output_type": "stream",
     "text": [
      "saving bf at: , with loss: -0.62365 , at epoch: 1400 learning rate: 6.25e-05 , train_Ntot: 1 train_M1: 1 , train_Mdiff: 0 , epoch_tot_counter: 3401\n"
     ]
    },
    {
     "name": "stderr",
     "output_type": "stream",
     "text": [
      " 88%|████████▊ | 1752/2000 [32:21<04:05,  1.01it/s]"
     ]
    },
    {
     "name": "stdout",
     "output_type": "stream",
     "text": [
      "Epoch 03752: reducing learning rate of group 0 to 3.1250e-05.\n"
     ]
    },
    {
     "name": "stderr",
     "output_type": "stream",
     "text": [
      "100%|██████████| 2000/2000 [36:44<00:00,  1.10s/it]"
     ]
    },
    {
     "name": "stdout",
     "output_type": "stream",
     "text": [
      "saving bf at: , with loss: -0.63951 , at epoch: 1999 learning rate: 3.125e-05 , train_Ntot: 1 train_M1: 1 , train_Mdiff: 0 , epoch_tot_counter: 4000\n",
      "\n"
     ]
    },
    {
     "name": "stderr",
     "output_type": "stream",
     "text": [
      "\n",
      "  0%|          | 1/2000 [00:00<14:25,  2.31it/s]"
     ]
    },
    {
     "name": "stdout",
     "output_type": "stream",
     "text": [
      "saving bf at: , with loss: 13.25427 , at epoch: 0 learning rate: 0.001 , train_Ntot: 1 train_M1: 0 , train_Mdiff: 0 , epoch_tot_counter: 1\n"
     ]
    },
    {
     "name": "stderr",
     "output_type": "stream",
     "text": [
      " 10%|█         | 201/2000 [01:18<11:36,  2.58it/s]"
     ]
    },
    {
     "name": "stdout",
     "output_type": "stream",
     "text": [
      "saving bf at: , with loss: 2.02668 , at epoch: 200 learning rate: 0.001 , train_Ntot: 1 train_M1: 0 , train_Mdiff: 0 , epoch_tot_counter: 201\n"
     ]
    },
    {
     "name": "stderr",
     "output_type": "stream",
     "text": [
      " 20%|██        | 401/2000 [02:37<11:21,  2.35it/s]"
     ]
    },
    {
     "name": "stdout",
     "output_type": "stream",
     "text": [
      "saving bf at: , with loss: 0.20383 , at epoch: 400 learning rate: 0.001 , train_Ntot: 1 train_M1: 0 , train_Mdiff: 0 , epoch_tot_counter: 401\n"
     ]
    },
    {
     "name": "stderr",
     "output_type": "stream",
     "text": [
      " 30%|███       | 601/2000 [03:54<10:29,  2.22it/s]"
     ]
    },
    {
     "name": "stdout",
     "output_type": "stream",
     "text": [
      "saving bf at: , with loss: -0.62512 , at epoch: 600 learning rate: 0.001 , train_Ntot: 1 train_M1: 0 , train_Mdiff: 0 , epoch_tot_counter: 601\n"
     ]
    },
    {
     "name": "stderr",
     "output_type": "stream",
     "text": [
      " 40%|████      | 800/2000 [05:12<09:04,  2.20it/s]"
     ]
    },
    {
     "name": "stdout",
     "output_type": "stream",
     "text": [
      "saving bf at: , with loss: -0.69483 , at epoch: 800 learning rate: 0.001 , train_Ntot: 1 train_M1: 0 , train_Mdiff: 0 , epoch_tot_counter: 801\n"
     ]
    },
    {
     "name": "stderr",
     "output_type": "stream",
     "text": [
      " 50%|█████     | 1001/2000 [06:31<08:43,  1.91it/s]"
     ]
    },
    {
     "name": "stdout",
     "output_type": "stream",
     "text": [
      "saving bf at: , with loss: -0.78196 , at epoch: 1000 learning rate: 0.001 , train_Ntot: 1 train_M1: 0 , train_Mdiff: 0 , epoch_tot_counter: 1001\n"
     ]
    },
    {
     "name": "stderr",
     "output_type": "stream",
     "text": [
      " 70%|███████   | 1401/2000 [09:07<03:15,  3.07it/s]"
     ]
    },
    {
     "name": "stdout",
     "output_type": "stream",
     "text": [
      "saving bf at: , with loss: -0.9382 , at epoch: 1400 learning rate: 0.001 , train_Ntot: 1 train_M1: 0 , train_Mdiff: 0 , epoch_tot_counter: 1401\n"
     ]
    },
    {
     "name": "stderr",
     "output_type": "stream",
     "text": [
      " 89%|████████▉ | 1777/2000 [11:31<01:32,  2.41it/s]"
     ]
    },
    {
     "name": "stdout",
     "output_type": "stream",
     "text": [
      "Epoch 01776: reducing learning rate of group 0 to 5.0000e-04.\n"
     ]
    },
    {
     "name": "stderr",
     "output_type": "stream",
     "text": [
      "100%|██████████| 2000/2000 [12:57<00:00,  2.57it/s]\n",
      "  0%|          | 1/2000 [00:01<37:01,  1.11s/it]"
     ]
    },
    {
     "name": "stdout",
     "output_type": "stream",
     "text": [
      "saving bf at: , with loss: 1.08351 , at epoch: 0 learning rate: 0.001 , train_Ntot: 1 train_M1: 1 , train_Mdiff: 0 , epoch_tot_counter: 2001\n"
     ]
    },
    {
     "name": "stderr",
     "output_type": "stream",
     "text": [
      "  9%|▉         | 177/2000 [03:20<34:20,  1.13s/it]"
     ]
    },
    {
     "name": "stdout",
     "output_type": "stream",
     "text": [
      "Epoch 02177: reducing learning rate of group 0 to 5.0000e-04.\n"
     ]
    },
    {
     "name": "stderr",
     "output_type": "stream",
     "text": [
      " 10%|█         | 201/2000 [03:49<36:24,  1.21s/it]"
     ]
    },
    {
     "name": "stdout",
     "output_type": "stream",
     "text": [
      "saving bf at: , with loss: -0.34769 , at epoch: 200 learning rate: 0.0005 , train_Ntot: 1 train_M1: 1 , train_Mdiff: 0 , epoch_tot_counter: 2201\n"
     ]
    },
    {
     "name": "stderr",
     "output_type": "stream",
     "text": [
      " 20%|██        | 401/2000 [07:45<31:09,  1.17s/it]"
     ]
    },
    {
     "name": "stdout",
     "output_type": "stream",
     "text": [
      "saving bf at: , with loss: -0.40204 , at epoch: 400 learning rate: 0.0005 , train_Ntot: 1 train_M1: 1 , train_Mdiff: 0 , epoch_tot_counter: 2401\n"
     ]
    },
    {
     "name": "stderr",
     "output_type": "stream",
     "text": [
      " 29%|██▉       | 578/2000 [11:16<27:04,  1.14s/it]"
     ]
    },
    {
     "name": "stdout",
     "output_type": "stream",
     "text": [
      "Epoch 02578: reducing learning rate of group 0 to 2.5000e-04.\n"
     ]
    },
    {
     "name": "stderr",
     "output_type": "stream",
     "text": [
      " 30%|███       | 601/2000 [11:44<27:26,  1.18s/it]"
     ]
    },
    {
     "name": "stdout",
     "output_type": "stream",
     "text": [
      "saving bf at: , with loss: -0.56926 , at epoch: 600 learning rate: 0.00025 , train_Ntot: 1 train_M1: 1 , train_Mdiff: 0 , epoch_tot_counter: 2601\n"
     ]
    },
    {
     "name": "stderr",
     "output_type": "stream",
     "text": [
      " 40%|████      | 801/2000 [15:42<23:32,  1.18s/it]"
     ]
    },
    {
     "name": "stdout",
     "output_type": "stream",
     "text": [
      "saving bf at: , with loss: -0.63141 , at epoch: 800 learning rate: 0.00025 , train_Ntot: 1 train_M1: 1 , train_Mdiff: 0 , epoch_tot_counter: 2801\n"
     ]
    },
    {
     "name": "stderr",
     "output_type": "stream",
     "text": [
      " 49%|████▉     | 979/2000 [19:16<19:47,  1.16s/it]"
     ]
    },
    {
     "name": "stdout",
     "output_type": "stream",
     "text": [
      "Epoch 02979: reducing learning rate of group 0 to 1.2500e-04.\n"
     ]
    },
    {
     "name": "stderr",
     "output_type": "stream",
     "text": [
      " 50%|█████     | 1001/2000 [19:42<19:14,  1.16s/it]"
     ]
    },
    {
     "name": "stdout",
     "output_type": "stream",
     "text": [
      "saving bf at: , with loss: -0.67727 , at epoch: 1000 learning rate: 0.000125 , train_Ntot: 1 train_M1: 1 , train_Mdiff: 0 , epoch_tot_counter: 3001\n"
     ]
    },
    {
     "name": "stderr",
     "output_type": "stream",
     "text": [
      " 69%|██████▉   | 1380/2000 [27:11<12:38,  1.22s/it]"
     ]
    },
    {
     "name": "stdout",
     "output_type": "stream",
     "text": [
      "Epoch 03380: reducing learning rate of group 0 to 6.2500e-05.\n"
     ]
    },
    {
     "name": "stderr",
     "output_type": "stream",
     "text": [
      " 80%|████████  | 1601/2000 [31:32<07:05,  1.07s/it]"
     ]
    },
    {
     "name": "stdout",
     "output_type": "stream",
     "text": [
      "saving bf at: , with loss: -0.69494 , at epoch: 1600 learning rate: 6.25e-05 , train_Ntot: 1 train_M1: 1 , train_Mdiff: 0 , epoch_tot_counter: 3601\n"
     ]
    },
    {
     "name": "stderr",
     "output_type": "stream",
     "text": [
      " 89%|████████▉ | 1781/2000 [35:07<04:15,  1.17s/it]"
     ]
    },
    {
     "name": "stdout",
     "output_type": "stream",
     "text": [
      "Epoch 03781: reducing learning rate of group 0 to 3.1250e-05.\n"
     ]
    },
    {
     "name": "stderr",
     "output_type": "stream",
     "text": [
      "100%|██████████| 2000/2000 [39:27<00:00,  1.18s/it]\n"
     ]
    },
    {
     "name": "stdout",
     "output_type": "stream",
     "text": [
      "\n"
     ]
    },
    {
     "name": "stderr",
     "output_type": "stream",
     "text": [
      "  0%|          | 1/2000 [00:00<07:44,  4.30it/s]"
     ]
    },
    {
     "name": "stdout",
     "output_type": "stream",
     "text": [
      "saving bf at: , with loss: 10.42616 , at epoch: 0 learning rate: 0.001 , train_Ntot: 1 train_M1: 0 , train_Mdiff: 0 , epoch_tot_counter: 1\n"
     ]
    },
    {
     "name": "stderr",
     "output_type": "stream",
     "text": [
      " 10%|█         | 201/2000 [01:00<11:38,  2.58it/s]"
     ]
    },
    {
     "name": "stdout",
     "output_type": "stream",
     "text": [
      "saving bf at: , with loss: 2.32391 , at epoch: 200 learning rate: 0.001 , train_Ntot: 1 train_M1: 0 , train_Mdiff: 0 , epoch_tot_counter: 201\n"
     ]
    },
    {
     "name": "stderr",
     "output_type": "stream",
     "text": [
      " 20%|██        | 401/2000 [01:59<06:22,  4.18it/s]"
     ]
    },
    {
     "name": "stdout",
     "output_type": "stream",
     "text": [
      "saving bf at: , with loss: -0.04561 , at epoch: 400 learning rate: 0.001 , train_Ntot: 1 train_M1: 0 , train_Mdiff: 0 , epoch_tot_counter: 401\n"
     ]
    },
    {
     "name": "stderr",
     "output_type": "stream",
     "text": [
      " 30%|███       | 602/2000 [02:59<05:55,  3.93it/s]"
     ]
    },
    {
     "name": "stdout",
     "output_type": "stream",
     "text": [
      "saving bf at: , with loss: -0.42873 , at epoch: 600 learning rate: 0.001 , train_Ntot: 1 train_M1: 0 , train_Mdiff: 0 , epoch_tot_counter: 601\n"
     ]
    },
    {
     "name": "stderr",
     "output_type": "stream",
     "text": [
      " 40%|████      | 801/2000 [03:59<08:04,  2.48it/s]"
     ]
    },
    {
     "name": "stdout",
     "output_type": "stream",
     "text": [
      "saving bf at: , with loss: -0.53507 , at epoch: 800 learning rate: 0.001 , train_Ntot: 1 train_M1: 0 , train_Mdiff: 0 , epoch_tot_counter: 801\n"
     ]
    },
    {
     "name": "stderr",
     "output_type": "stream",
     "text": [
      " 50%|█████     | 1001/2000 [04:58<03:55,  4.24it/s]"
     ]
    },
    {
     "name": "stdout",
     "output_type": "stream",
     "text": [
      "saving bf at: , with loss: -0.8575 , at epoch: 1000 learning rate: 0.001 , train_Ntot: 1 train_M1: 0 , train_Mdiff: 0 , epoch_tot_counter: 1001\n"
     ]
    },
    {
     "name": "stderr",
     "output_type": "stream",
     "text": [
      " 58%|█████▊    | 1151/2000 [05:43<04:14,  3.34it/s]"
     ]
    },
    {
     "name": "stdout",
     "output_type": "stream",
     "text": [
      "Epoch 01151: reducing learning rate of group 0 to 5.0000e-04.\n"
     ]
    },
    {
     "name": "stderr",
     "output_type": "stream",
     "text": [
      " 80%|████████  | 1602/2000 [07:57<02:09,  3.07it/s]"
     ]
    },
    {
     "name": "stdout",
     "output_type": "stream",
     "text": [
      "saving bf at: , with loss: -0.86288 , at epoch: 1600 learning rate: 0.0005 , train_Ntot: 1 train_M1: 0 , train_Mdiff: 0 , epoch_tot_counter: 1601\n"
     ]
    },
    {
     "name": "stderr",
     "output_type": "stream",
     "text": [
      " 87%|████████▋ | 1738/2000 [08:38<01:14,  3.51it/s]"
     ]
    },
    {
     "name": "stdout",
     "output_type": "stream",
     "text": [
      "Epoch 01737: reducing learning rate of group 0 to 2.5000e-04.\n"
     ]
    },
    {
     "name": "stderr",
     "output_type": "stream",
     "text": [
      " 90%|█████████ | 1800/2000 [08:56<00:44,  4.48it/s]"
     ]
    },
    {
     "name": "stdout",
     "output_type": "stream",
     "text": [
      "saving bf at: , with loss: -0.97617 , at epoch: 1800 learning rate: 0.00025 , train_Ntot: 1 train_M1: 0 , train_Mdiff: 0 , epoch_tot_counter: 1801\n"
     ]
    },
    {
     "name": "stderr",
     "output_type": "stream",
     "text": [
      "100%|██████████| 2000/2000 [09:57<00:00,  3.35it/s]\n",
      "  0%|          | 1/2000 [00:00<16:12,  2.06it/s]"
     ]
    },
    {
     "name": "stdout",
     "output_type": "stream",
     "text": [
      "saving bf at: , with loss: 0.67061 , at epoch: 0 learning rate: 0.001 , train_Ntot: 1 train_M1: 1 , train_Mdiff: 0 , epoch_tot_counter: 2001\n"
     ]
    },
    {
     "name": "stderr",
     "output_type": "stream",
     "text": [
      "  8%|▊         | 161/2000 [03:10<38:52,  1.27s/it]"
     ]
    },
    {
     "name": "stdout",
     "output_type": "stream",
     "text": [
      "Epoch 02161: reducing learning rate of group 0 to 5.0000e-04.\n"
     ]
    },
    {
     "name": "stderr",
     "output_type": "stream",
     "text": [
      " 10%|█         | 201/2000 [03:58<35:12,  1.17s/it]"
     ]
    },
    {
     "name": "stdout",
     "output_type": "stream",
     "text": [
      "saving bf at: , with loss: -0.57166 , at epoch: 200 learning rate: 0.0005 , train_Ntot: 1 train_M1: 1 , train_Mdiff: 0 , epoch_tot_counter: 2201\n"
     ]
    },
    {
     "name": "stderr",
     "output_type": "stream",
     "text": [
      " 20%|██        | 401/2000 [07:57<30:48,  1.16s/it]"
     ]
    },
    {
     "name": "stdout",
     "output_type": "stream",
     "text": [
      "saving bf at: , with loss: -0.59826 , at epoch: 400 learning rate: 0.0005 , train_Ntot: 1 train_M1: 1 , train_Mdiff: 0 , epoch_tot_counter: 2401\n"
     ]
    },
    {
     "name": "stderr",
     "output_type": "stream",
     "text": [
      " 28%|██▊       | 562/2000 [11:07<28:50,  1.20s/it]"
     ]
    },
    {
     "name": "stdout",
     "output_type": "stream",
     "text": [
      "Epoch 02562: reducing learning rate of group 0 to 2.5000e-04.\n"
     ]
    },
    {
     "name": "stderr",
     "output_type": "stream",
     "text": [
      " 40%|████      | 801/2000 [15:48<26:28,  1.33s/it]"
     ]
    },
    {
     "name": "stdout",
     "output_type": "stream",
     "text": [
      "saving bf at: , with loss: -0.63282 , at epoch: 800 learning rate: 0.00025 , train_Ntot: 1 train_M1: 1 , train_Mdiff: 0 , epoch_tot_counter: 2801\n"
     ]
    },
    {
     "name": "stderr",
     "output_type": "stream",
     "text": [
      " 48%|████▊     | 963/2000 [19:01<20:09,  1.17s/it]"
     ]
    },
    {
     "name": "stdout",
     "output_type": "stream",
     "text": [
      "Epoch 02963: reducing learning rate of group 0 to 1.2500e-04.\n"
     ]
    },
    {
     "name": "stderr",
     "output_type": "stream",
     "text": [
      " 50%|█████     | 1001/2000 [19:46<20:57,  1.26s/it]"
     ]
    },
    {
     "name": "stdout",
     "output_type": "stream",
     "text": [
      "saving bf at: , with loss: -0.65127 , at epoch: 1000 learning rate: 0.000125 , train_Ntot: 1 train_M1: 1 , train_Mdiff: 0 , epoch_tot_counter: 3001\n"
     ]
    },
    {
     "name": "stderr",
     "output_type": "stream",
     "text": [
      " 60%|██████    | 1201/2000 [23:43<15:46,  1.18s/it]"
     ]
    },
    {
     "name": "stdout",
     "output_type": "stream",
     "text": [
      "saving bf at: , with loss: -0.77285 , at epoch: 1200 learning rate: 0.000125 , train_Ntot: 1 train_M1: 1 , train_Mdiff: 0 , epoch_tot_counter: 3201\n"
     ]
    },
    {
     "name": "stderr",
     "output_type": "stream",
     "text": [
      " 68%|██████▊   | 1364/2000 [26:58<13:30,  1.27s/it]"
     ]
    },
    {
     "name": "stdout",
     "output_type": "stream",
     "text": [
      "Epoch 03364: reducing learning rate of group 0 to 6.2500e-05.\n"
     ]
    },
    {
     "name": "stderr",
     "output_type": "stream",
     "text": [
      " 88%|████████▊ | 1765/2000 [34:50<04:58,  1.27s/it]"
     ]
    },
    {
     "name": "stdout",
     "output_type": "stream",
     "text": [
      "Epoch 03765: reducing learning rate of group 0 to 3.1250e-05.\n"
     ]
    },
    {
     "name": "stderr",
     "output_type": "stream",
     "text": [
      " 90%|█████████ | 1801/2000 [35:33<03:40,  1.11s/it]"
     ]
    },
    {
     "name": "stdout",
     "output_type": "stream",
     "text": [
      "saving bf at: , with loss: -0.80311 , at epoch: 1800 learning rate: 3.125e-05 , train_Ntot: 1 train_M1: 1 , train_Mdiff: 0 , epoch_tot_counter: 3801\n"
     ]
    },
    {
     "name": "stderr",
     "output_type": "stream",
     "text": [
      "100%|██████████| 2000/2000 [39:30<00:00,  1.19s/it]\n"
     ]
    },
    {
     "name": "stdout",
     "output_type": "stream",
     "text": [
      "\n"
     ]
    },
    {
     "name": "stderr",
     "output_type": "stream",
     "text": [
      "  0%|          | 1/2000 [00:00<07:56,  4.20it/s]"
     ]
    },
    {
     "name": "stdout",
     "output_type": "stream",
     "text": [
      "saving bf at: , with loss: 16.92896 , at epoch: 0 learning rate: 0.001 , train_Ntot: 1 train_M1: 0 , train_Mdiff: 0 , epoch_tot_counter: 1\n"
     ]
    },
    {
     "name": "stderr",
     "output_type": "stream",
     "text": [
      " 10%|█         | 201/2000 [01:00<11:23,  2.63it/s]"
     ]
    },
    {
     "name": "stdout",
     "output_type": "stream",
     "text": [
      "saving bf at: , with loss: 3.2969 , at epoch: 200 learning rate: 0.001 , train_Ntot: 1 train_M1: 0 , train_Mdiff: 0 , epoch_tot_counter: 201\n"
     ]
    },
    {
     "name": "stderr",
     "output_type": "stream",
     "text": [
      " 20%|██        | 402/2000 [02:00<07:28,  3.57it/s]"
     ]
    },
    {
     "name": "stdout",
     "output_type": "stream",
     "text": [
      "saving bf at: , with loss: 0.45856 , at epoch: 400 learning rate: 0.001 , train_Ntot: 1 train_M1: 0 , train_Mdiff: 0 , epoch_tot_counter: 401\n"
     ]
    },
    {
     "name": "stderr",
     "output_type": "stream",
     "text": [
      " 30%|███       | 602/2000 [02:59<07:38,  3.05it/s]"
     ]
    },
    {
     "name": "stdout",
     "output_type": "stream",
     "text": [
      "saving bf at: , with loss: 0.2416 , at epoch: 600 learning rate: 0.001 , train_Ntot: 1 train_M1: 0 , train_Mdiff: 0 , epoch_tot_counter: 601\n"
     ]
    },
    {
     "name": "stderr",
     "output_type": "stream",
     "text": [
      " 40%|████      | 801/2000 [03:58<04:32,  4.40it/s]"
     ]
    },
    {
     "name": "stdout",
     "output_type": "stream",
     "text": [
      "saving bf at: , with loss: -0.36648 , at epoch: 800 learning rate: 0.001 , train_Ntot: 1 train_M1: 0 , train_Mdiff: 0 , epoch_tot_counter: 801\n"
     ]
    },
    {
     "name": "stderr",
     "output_type": "stream",
     "text": [
      " 50%|█████     | 1001/2000 [04:58<07:23,  2.25it/s]"
     ]
    },
    {
     "name": "stdout",
     "output_type": "stream",
     "text": [
      "saving bf at: , with loss: -0.77291 , at epoch: 1000 learning rate: 0.001 , train_Ntot: 1 train_M1: 0 , train_Mdiff: 0 , epoch_tot_counter: 1001\n"
     ]
    },
    {
     "name": "stderr",
     "output_type": "stream",
     "text": [
      " 60%|██████    | 1201/2000 [05:58<04:31,  2.95it/s]"
     ]
    },
    {
     "name": "stdout",
     "output_type": "stream",
     "text": [
      "saving bf at: , with loss: -0.90502 , at epoch: 1200 learning rate: 0.001 , train_Ntot: 1 train_M1: 0 , train_Mdiff: 0 , epoch_tot_counter: 1201\n"
     ]
    },
    {
     "name": "stderr",
     "output_type": "stream",
     "text": [
      "100%|██████████| 2000/2000 [09:56<00:00,  3.35it/s]\n"
     ]
    },
    {
     "name": "stdout",
     "output_type": "stream",
     "text": [
      "saving bf at: , with loss: -1.01882 , at epoch: 1999 learning rate: 0.001 , train_Ntot: 1 train_M1: 0 , train_Mdiff: 0 , epoch_tot_counter: 2000\n"
     ]
    },
    {
     "name": "stderr",
     "output_type": "stream",
     "text": [
      "  0%|          | 1/2000 [00:00<14:02,  2.37it/s]"
     ]
    },
    {
     "name": "stdout",
     "output_type": "stream",
     "text": [
      "saving bf at: , with loss: 1.46033 , at epoch: 0 learning rate: 0.001 , train_Ntot: 1 train_M1: 1 , train_Mdiff: 0 , epoch_tot_counter: 2001\n"
     ]
    },
    {
     "name": "stderr",
     "output_type": "stream",
     "text": [
      " 10%|▉         | 191/2000 [03:43<35:13,  1.17s/it]"
     ]
    },
    {
     "name": "stdout",
     "output_type": "stream",
     "text": [
      "Epoch 02191: reducing learning rate of group 0 to 5.0000e-04.\n"
     ]
    },
    {
     "name": "stderr",
     "output_type": "stream",
     "text": [
      " 10%|█         | 201/2000 [03:55<38:14,  1.28s/it]"
     ]
    },
    {
     "name": "stdout",
     "output_type": "stream",
     "text": [
      "saving bf at: , with loss: -0.50897 , at epoch: 200 learning rate: 0.0005 , train_Ntot: 1 train_M1: 1 , train_Mdiff: 0 , epoch_tot_counter: 2201\n"
     ]
    },
    {
     "name": "stderr",
     "output_type": "stream",
     "text": [
      " 30%|██▉       | 592/2000 [11:39<27:19,  1.16s/it]"
     ]
    },
    {
     "name": "stdout",
     "output_type": "stream",
     "text": [
      "Epoch 02592: reducing learning rate of group 0 to 2.5000e-04.\n"
     ]
    },
    {
     "name": "stderr",
     "output_type": "stream",
     "text": [
      " 40%|████      | 801/2000 [15:47<23:38,  1.18s/it]"
     ]
    },
    {
     "name": "stdout",
     "output_type": "stream",
     "text": [
      "saving bf at: , with loss: -0.57471 , at epoch: 800 learning rate: 0.00025 , train_Ntot: 1 train_M1: 1 , train_Mdiff: 0 , epoch_tot_counter: 2801\n"
     ]
    },
    {
     "name": "stderr",
     "output_type": "stream",
     "text": [
      " 50%|████▉     | 993/2000 [19:37<19:53,  1.18s/it]"
     ]
    },
    {
     "name": "stdout",
     "output_type": "stream",
     "text": [
      "Epoch 02993: reducing learning rate of group 0 to 1.2500e-04.\n"
     ]
    },
    {
     "name": "stderr",
     "output_type": "stream",
     "text": [
      " 50%|█████     | 1001/2000 [19:46<18:41,  1.12s/it]"
     ]
    },
    {
     "name": "stdout",
     "output_type": "stream",
     "text": [
      "saving bf at: , with loss: -0.6177 , at epoch: 1000 learning rate: 0.000125 , train_Ntot: 1 train_M1: 1 , train_Mdiff: 0 , epoch_tot_counter: 3001\n"
     ]
    },
    {
     "name": "stderr",
     "output_type": "stream",
     "text": [
      " 70%|██████▉   | 1394/2000 [27:32<11:59,  1.19s/it]"
     ]
    },
    {
     "name": "stdout",
     "output_type": "stream",
     "text": [
      "Epoch 03394: reducing learning rate of group 0 to 6.2500e-05.\n"
     ]
    },
    {
     "name": "stderr",
     "output_type": "stream",
     "text": [
      " 80%|████████  | 1601/2000 [31:41<07:28,  1.12s/it]"
     ]
    },
    {
     "name": "stdout",
     "output_type": "stream",
     "text": [
      "saving bf at: , with loss: -0.64674 , at epoch: 1600 learning rate: 6.25e-05 , train_Ntot: 1 train_M1: 1 , train_Mdiff: 0 , epoch_tot_counter: 3601\n"
     ]
    },
    {
     "name": "stderr",
     "output_type": "stream",
     "text": [
      " 90%|████████▉ | 1795/2000 [35:37<04:21,  1.28s/it]"
     ]
    },
    {
     "name": "stdout",
     "output_type": "stream",
     "text": [
      "Epoch 03795: reducing learning rate of group 0 to 3.1250e-05.\n"
     ]
    },
    {
     "name": "stderr",
     "output_type": "stream",
     "text": [
      " 90%|█████████ | 1801/2000 [35:45<04:14,  1.28s/it]"
     ]
    },
    {
     "name": "stdout",
     "output_type": "stream",
     "text": [
      "saving bf at: , with loss: -0.79942 , at epoch: 1800 learning rate: 3.125e-05 , train_Ntot: 1 train_M1: 1 , train_Mdiff: 0 , epoch_tot_counter: 3801\n"
     ]
    },
    {
     "name": "stderr",
     "output_type": "stream",
     "text": [
      "100%|██████████| 2000/2000 [39:43<00:00,  1.19s/it]\n"
     ]
    },
    {
     "name": "stdout",
     "output_type": "stream",
     "text": [
      "\n"
     ]
    },
    {
     "name": "stderr",
     "output_type": "stream",
     "text": [
      "  0%|          | 1/2000 [00:00<24:31,  1.36it/s]"
     ]
    },
    {
     "name": "stdout",
     "output_type": "stream",
     "text": [
      "saving bf at: , with loss: 20.74333 , at epoch: 0 learning rate: 0.001 , train_Ntot: 1 train_M1: 0 , train_Mdiff: 0 , epoch_tot_counter: 1\n"
     ]
    },
    {
     "name": "stderr",
     "output_type": "stream",
     "text": [
      " 10%|█         | 202/2000 [01:00<07:45,  3.87it/s]"
     ]
    },
    {
     "name": "stdout",
     "output_type": "stream",
     "text": [
      "saving bf at: , with loss: 0.87976 , at epoch: 200 learning rate: 0.001 , train_Ntot: 1 train_M1: 0 , train_Mdiff: 0 , epoch_tot_counter: 201\n"
     ]
    },
    {
     "name": "stderr",
     "output_type": "stream",
     "text": [
      " 20%|██        | 401/2000 [02:00<06:18,  4.22it/s]"
     ]
    },
    {
     "name": "stdout",
     "output_type": "stream",
     "text": [
      "saving bf at: , with loss: -0.53191 , at epoch: 400 learning rate: 0.001 , train_Ntot: 1 train_M1: 0 , train_Mdiff: 0 , epoch_tot_counter: 401\n"
     ]
    },
    {
     "name": "stderr",
     "output_type": "stream",
     "text": [
      " 30%|███       | 601/2000 [03:00<05:18,  4.39it/s]"
     ]
    },
    {
     "name": "stdout",
     "output_type": "stream",
     "text": [
      "saving bf at: , with loss: -0.59427 , at epoch: 600 learning rate: 0.001 , train_Ntot: 1 train_M1: 0 , train_Mdiff: 0 , epoch_tot_counter: 601\n"
     ]
    },
    {
     "name": "stderr",
     "output_type": "stream",
     "text": [
      " 50%|█████     | 1001/2000 [04:59<04:02,  4.12it/s]"
     ]
    },
    {
     "name": "stdout",
     "output_type": "stream",
     "text": [
      "saving bf at: , with loss: -0.84322 , at epoch: 1000 learning rate: 0.001 , train_Ntot: 1 train_M1: 0 , train_Mdiff: 0 , epoch_tot_counter: 1001\n"
     ]
    },
    {
     "name": "stderr",
     "output_type": "stream",
     "text": [
      " 60%|██████    | 1202/2000 [05:59<03:05,  4.30it/s]"
     ]
    },
    {
     "name": "stdout",
     "output_type": "stream",
     "text": [
      "saving bf at: , with loss: -0.99633 , at epoch: 1200 learning rate: 0.001 , train_Ntot: 1 train_M1: 0 , train_Mdiff: 0 , epoch_tot_counter: 1201\n"
     ]
    },
    {
     "name": "stderr",
     "output_type": "stream",
     "text": [
      " 65%|██████▍   | 1297/2000 [06:28<03:54,  3.00it/s]"
     ]
    },
    {
     "name": "stdout",
     "output_type": "stream",
     "text": [
      "Epoch 01296: reducing learning rate of group 0 to 5.0000e-04.\n"
     ]
    },
    {
     "name": "stderr",
     "output_type": "stream",
     "text": [
      " 80%|████████  | 1602/2000 [07:59<01:34,  4.22it/s]"
     ]
    },
    {
     "name": "stdout",
     "output_type": "stream",
     "text": [
      "saving bf at: , with loss: -1.02304 , at epoch: 1600 learning rate: 0.0005 , train_Ntot: 1 train_M1: 0 , train_Mdiff: 0 , epoch_tot_counter: 1601\n"
     ]
    },
    {
     "name": "stderr",
     "output_type": "stream",
     "text": [
      " 86%|████████▌ | 1721/2000 [08:33<01:17,  3.60it/s]"
     ]
    },
    {
     "name": "stdout",
     "output_type": "stream",
     "text": [
      "Epoch 01720: reducing learning rate of group 0 to 2.5000e-04.\n"
     ]
    },
    {
     "name": "stderr",
     "output_type": "stream",
     "text": [
      "100%|██████████| 2000/2000 [09:57<00:00,  3.35it/s]\n",
      "  0%|          | 1/2000 [00:00<14:06,  2.36it/s]"
     ]
    },
    {
     "name": "stdout",
     "output_type": "stream",
     "text": [
      "saving bf at: , with loss: 1.26941 , at epoch: 0 learning rate: 0.001 , train_Ntot: 1 train_M1: 1 , train_Mdiff: 0 , epoch_tot_counter: 2001\n"
     ]
    },
    {
     "name": "stderr",
     "output_type": "stream",
     "text": [
      "  6%|▌         | 121/2000 [02:24<40:12,  1.28s/it]"
     ]
    },
    {
     "name": "stdout",
     "output_type": "stream",
     "text": [
      "Epoch 02121: reducing learning rate of group 0 to 5.0000e-04.\n"
     ]
    },
    {
     "name": "stderr",
     "output_type": "stream",
     "text": [
      " 10%|█         | 201/2000 [04:02<35:04,  1.17s/it]"
     ]
    },
    {
     "name": "stdout",
     "output_type": "stream",
     "text": [
      "saving bf at: , with loss: -0.18951 , at epoch: 200 learning rate: 0.0005 , train_Ntot: 1 train_M1: 1 , train_Mdiff: 0 , epoch_tot_counter: 2201\n"
     ]
    },
    {
     "name": "stderr",
     "output_type": "stream",
     "text": [
      " 20%|██        | 401/2000 [08:02<31:36,  1.19s/it]"
     ]
    },
    {
     "name": "stdout",
     "output_type": "stream",
     "text": [
      "saving bf at: , with loss: -0.37725 , at epoch: 400 learning rate: 0.0005 , train_Ntot: 1 train_M1: 1 , train_Mdiff: 0 , epoch_tot_counter: 2401\n"
     ]
    },
    {
     "name": "stderr",
     "output_type": "stream",
     "text": [
      " 26%|██▌       | 522/2000 [10:25<30:43,  1.25s/it]"
     ]
    },
    {
     "name": "stdout",
     "output_type": "stream",
     "text": [
      "Epoch 02522: reducing learning rate of group 0 to 2.5000e-04.\n"
     ]
    },
    {
     "name": "stderr",
     "output_type": "stream",
     "text": [
      " 30%|███       | 601/2000 [11:57<27:50,  1.19s/it]"
     ]
    },
    {
     "name": "stdout",
     "output_type": "stream",
     "text": [
      "saving bf at: , with loss: -0.53978 , at epoch: 600 learning rate: 0.00025 , train_Ntot: 1 train_M1: 1 , train_Mdiff: 0 , epoch_tot_counter: 2601\n"
     ]
    },
    {
     "name": "stderr",
     "output_type": "stream",
     "text": [
      " 46%|████▌     | 923/2000 [18:25<21:17,  1.19s/it]"
     ]
    },
    {
     "name": "stdout",
     "output_type": "stream",
     "text": [
      "Epoch 02923: reducing learning rate of group 0 to 1.2500e-04.\n"
     ]
    },
    {
     "name": "stderr",
     "output_type": "stream",
     "text": [
      " 50%|█████     | 1001/2000 [19:58<18:31,  1.11s/it]"
     ]
    },
    {
     "name": "stdout",
     "output_type": "stream",
     "text": [
      "saving bf at: , with loss: -0.7162 , at epoch: 1000 learning rate: 0.000125 , train_Ntot: 1 train_M1: 1 , train_Mdiff: 0 , epoch_tot_counter: 3001\n"
     ]
    },
    {
     "name": "stderr",
     "output_type": "stream",
     "text": [
      " 66%|██████▌   | 1324/2000 [26:31<14:31,  1.29s/it]"
     ]
    },
    {
     "name": "stdout",
     "output_type": "stream",
     "text": [
      "Epoch 03324: reducing learning rate of group 0 to 6.2500e-05.\n"
     ]
    },
    {
     "name": "stderr",
     "output_type": "stream",
     "text": [
      " 80%|████████  | 1601/2000 [32:07<07:38,  1.15s/it]"
     ]
    },
    {
     "name": "stdout",
     "output_type": "stream",
     "text": [
      "saving bf at: , with loss: -0.73589 , at epoch: 1600 learning rate: 6.25e-05 , train_Ntot: 1 train_M1: 1 , train_Mdiff: 0 , epoch_tot_counter: 3601\n"
     ]
    },
    {
     "name": "stderr",
     "output_type": "stream",
     "text": [
      " 86%|████████▋ | 1725/2000 [34:35<05:20,  1.17s/it]"
     ]
    },
    {
     "name": "stdout",
     "output_type": "stream",
     "text": [
      "Epoch 03725: reducing learning rate of group 0 to 3.1250e-05.\n"
     ]
    },
    {
     "name": "stderr",
     "output_type": "stream",
     "text": [
      " 90%|█████████ | 1801/2000 [36:05<03:58,  1.20s/it]"
     ]
    },
    {
     "name": "stdout",
     "output_type": "stream",
     "text": [
      "saving bf at: , with loss: -0.7401 , at epoch: 1800 learning rate: 3.125e-05 , train_Ntot: 1 train_M1: 1 , train_Mdiff: 0 , epoch_tot_counter: 3801\n"
     ]
    },
    {
     "name": "stderr",
     "output_type": "stream",
     "text": [
      "100%|█████████▉| 1997/2000 [40:00<00:03,  1.31s/it]"
     ]
    }
   ],
   "source": [
    "nepochs_Ntot_only = config_train['nepochs_Ntot_only']\n",
    "nepochs_Ntot_M1_only = config_train['nepochs_Ntot_M1_only']\n",
    "nepochs_all = config_train['nepochs_all']\n",
    "\n",
    "\n",
    "# nepochs_array = [nepochs_Ntot_only, nepochs_Ntot_M1_only, nepochs_all]\n",
    "# train_Ntot_array = [1, 1, 1]\n",
    "# train_M1_array = [0, 1, 1 ]\n",
    "# train_Mdiff_array = [0, 0, 1]\n",
    "\n",
    "nepochs_array = [nepochs_Ntot_only, nepochs_Ntot_M1_only]\n",
    "train_Ntot_array = [1, 1]\n",
    "train_M1_array = [0, 1]\n",
    "train_Mdiff_array = [0, 0]\n",
    "\n",
    "for jf in range(nflows_train):\n",
    "# for jf in np.arange(7,16):    \n",
    "    try:\n",
    "        epoch_tot_counter = 0\n",
    "        num_cond_Ntot = num_cond\n",
    "        \n",
    "        model_Ntot = SumGaussModel(\n",
    "            hidden_dim=hidden_dim_MAF,\n",
    "            num_cond=num_cond_Ntot,\n",
    "            ngauss=return_dict_train['ngauss_Nhalo'],\n",
    "            mu_all=return_dict_train['mu_all'],\n",
    "            sig_all=return_dict_train['sig_all'],\n",
    "            base_dist=base_dist_Ntot   \n",
    "            )\n",
    "\n",
    "        num_cond_M1 = num_cond + 1\n",
    "        # if conditioned on fastpm we will also give the fastpm fof M1 halos and its mask as conditional\n",
    "        if cond_sim == 'fastpm':\n",
    "            num_cond_M1 += 2\n",
    "\n",
    "        model_M1 = NSF_M1_CNNcond(\n",
    "            K=K_M1,\n",
    "            B=B_M1,\n",
    "            hidden_dim=hidden_dim_MAF,\n",
    "            num_cond=num_cond_M1,\n",
    "            nflows=nflows_M1_NSF,\n",
    "            base_dist=base_dist_M1,\n",
    "            ngauss=ngauss_M1,\n",
    "            lgM_rs_tointerp=lgM_rescaled,\n",
    "            hmf_pdf_tointerp=hmf_pdf,\n",
    "            hmf_cdf_tointerp=hmf_cdf    \n",
    "            )\n",
    "\n",
    "        # ndim_diff = return_dict_train['M_diff_halos_all_norm_masked'][0].shape[2]\n",
    "        # num_cond_Mdiff = num_cond + 2\n",
    "        # model_Mdiff = NSF_Mdiff_CNNcond(\n",
    "        #     dim=ndim_diff,\n",
    "        #     K=K_Mdiff,\n",
    "        #     B=B_Mdiff,\n",
    "        #     hidden_dim=hidden_dim_MAF,\n",
    "        #     num_cond=num_cond_Mdiff,\n",
    "        #     nflows=nflows_Mdiff_NSF,\n",
    "        #     base_dist=base_dist_Mdiff,\n",
    "        #     mu_pos=True\n",
    "        #     )\n",
    "\n",
    "        ndim = ndim_diff + 1\n",
    "        model = COMBINED_Model(\n",
    "            None,\n",
    "            None,\n",
    "            # None,\n",
    "            model_M1,\n",
    "            model_Ntot,\n",
    "            ndim,\n",
    "            ksize,\n",
    "            ns_d,\n",
    "            ns_h,\n",
    "            nb,\n",
    "            ninp,\n",
    "            nfeature_cnn,\n",
    "            nout_cnn,\n",
    "            layers_types=layers_types,\n",
    "            act='tanh',\n",
    "            padding='valid',\n",
    "            sep_Ntot_cond=True,\n",
    "            sep_M1_cond=True,\n",
    "            sep_Mdiff_cond=True,\n",
    "            num_cond_Ntot = num_cond_Ntot,\n",
    "            num_cond_M1 = num_cond_M1,\n",
    "            num_cond_Mdiff = None\n",
    "            )\n",
    "\n",
    "        model.to(dev)\n",
    "\n",
    "        print()\n",
    "\n",
    "        optimizer = optim.Adam(model.parameters(), lr=learning_rate)\n",
    "\n",
    "        loss_all_it = []\n",
    "        loss_min = 1e20\n",
    "        epoch_tot_counter = 0\n",
    "        scheduler = optim.lr_scheduler.ReduceLROnPlateau(optimizer, 'min', factor=0.5, patience=200, verbose=True, cooldown=200, min_lr=1e-8)\n",
    "\n",
    "\n",
    "\n",
    "        save_bestfit_model_name = save_bestfit_model_dir + '/flow_' + str(jf)\n",
    "        for jn in (range(len(nepochs_array))):\n",
    "            for g in optimizer.param_groups:\n",
    "                g['lr'] = 0.001        \n",
    "            loss_min = 1e20\n",
    "            torch.cuda.empty_cache()\n",
    "            ninit = 0\n",
    "            nepochs = nepochs_array[jn]\n",
    "            if nepochs > 0:\n",
    "                train_Ntot = train_Ntot_array[jn]\n",
    "                train_M1 = train_M1_array[jn]\n",
    "                train_Mdiff = train_Mdiff_array[jn]\n",
    "\n",
    "                # if jn > 0:\n",
    "                #     print('loading bestfit model')\n",
    "                #     bestfit_model = (torch.load(save_bestfit_model_name))\n",
    "                #     model.load_state_dict(bestfit_model['state_dict'])\n",
    "                #     optimizer.load_state_dict(bestfit_model['optimizer'])\n",
    "                #     scheduler.load_state_dict(bestfit_model['scheduler'])\n",
    "                #     # loss_min = bestfit_model['loss_min']\n",
    "                #     loss = bestfit_model['loss']\n",
    "                #     lr = bestfit_model['lr']\n",
    "                #     for g in optimizer.param_groups:\n",
    "                #         g['lr'] = learning_rate\n",
    "\n",
    "                for jt in tqdm(range(nepochs)):\n",
    "                    # for jd in range(len(dataloader)):\n",
    "                    torch.cuda.empty_cache()\n",
    "                    optimizer.zero_grad()\n",
    "                    cond_tensor_jd, cond_tensor_nsh_jd, mask_tensor_M1_train_jd, mask_tensor_Mdiff_train_jd, X_M1_jd, \\\n",
    "                        X_Nhalo_jd, X_Mdiff_jd, Nhalos_truth_tensor_jd, mask_tensor_M1_train_FP_jd, X_M1_FP_jd = cond_tensor, cond_tensor_nsh, mask_tensor_M1_train, mask_tensor_Mdiff_train, X_M1, \\\n",
    "                                X_Nhalo, X_Mdiff, Nhalos_truth_tensor, mask_tensor_M1_train_FP, X_M1_FP\n",
    "\n",
    "                    if cond_sim == 'quijote':               \n",
    "                        mask_tensor_M1_train_FP_jd = None\n",
    "                        X_M1_FP_jd = None\n",
    "                    \n",
    "                    torch.cuda.empty_cache()\n",
    "                    # if 1-all_gpu:\n",
    "                    # cond_tensor_jd = cond_tensor_jd.cuda(dev)\n",
    "                    # cond_tensor_nsh_jd = cond_tensor_nsh_jd.cuda(dev)\n",
    "                    # mask_tensor_M1_train_jd = mask_tensor_M1_train_jd.cuda(dev)\n",
    "                    # mask_tensor_Mdiff_train_jd = mask_tensor_Mdiff_train_jd.cuda(dev)\n",
    "                    # X_M1_jd = X_M1_jd.cuda(dev)\n",
    "                    # X_Nhalo_jd = X_Nhalo_jd.cuda(dev)\n",
    "                    # X_Mdiff_jd = X_Mdiff_jd.cuda(dev)\n",
    "                    # Nhalos_truth_tensor_jd = Nhalos_truth_tensor_jd.cuda(dev)\n",
    "                    # if mask_tensor_M1_train_FP_jd is not None:\n",
    "                    #     mask_tensor_M1_train_FP_jd = mask_tensor_M1_train_FP_jd.cuda(dev)\n",
    "                    #     X_M1_FP_jd = X_M1_FP_jd.cuda(dev)\n",
    "                    # torch.cuda.empty_cache()\n",
    "\n",
    "                    \n",
    "                    loss = model(\n",
    "                        X_Mdiff_jd,\n",
    "                        X_M1_jd,\n",
    "                        X_Nhalo_jd,\n",
    "                        cond_x=cond_tensor_jd,\n",
    "                        cond_x_nsh=cond_tensor_nsh_jd,\n",
    "                        mask_Mdiff_truth_all=mask_tensor_Mdiff_train_jd,\n",
    "                        mask_M1_truth_all=mask_tensor_M1_train_jd,\n",
    "                        Nhalos_truth_all=Nhalos_truth_tensor_jd,\n",
    "                        use_Ntot_samples=False,\n",
    "                        use_M1_samples=False,\n",
    "                        train_Ntot=train_Ntot,\n",
    "                        train_M1=train_M1,\n",
    "                        train_Mdiff=train_Mdiff,\n",
    "                        # x_Mdiff_FP=X_Mdiff_FP,\n",
    "                        x_M1_FP=X_M1_FP_jd,\n",
    "                        # x_Ntot_FP=X_Nhalo_FP,\n",
    "                        # Nhalos_truth_all_FP=Nhalos_truth_tensor_FP,\n",
    "                        # mask_Mdiff_truth_all_FP=mask_tensor_Mdiff_train_FP,\n",
    "                        mask_M1_truth_all_FP=mask_tensor_M1_train_FP_jd,\n",
    "                        L2norm_Ntothist=L2norm_Ntothist,\n",
    "                        L2norm_M1hist=L2norm_M1hist        \n",
    "                        )\n",
    "\n",
    "                    loss.backward()\n",
    "                    optimizer.step()\n",
    "                    scheduler.step(loss)\n",
    "                    epoch_tot_counter += 1\n",
    "                    if (np.mod(jt, int(nepochs / 10)) == 0) or (jt == nepochs - 1):\n",
    "                        if float(loss.cpu().detach().numpy()) < loss_min:\n",
    "                            loss_min = float(loss.cpu().detach().numpy())\n",
    "                            print('saving bf at:', ', with loss:', np.round(loss_min, 5), ', at epoch:', jt, \n",
    "                                'learning rate:', optimizer.param_groups[0]['lr'], ', train_Ntot:', train_Ntot, \n",
    "                                'train_M1:', train_M1, ', train_Mdiff:', train_Mdiff, ', epoch_tot_counter:', epoch_tot_counter)\n",
    "                            lr=optimizer.param_groups[0]['lr']\n",
    "                            # print(loss_min, lr)\n",
    "                            state = {'loss_min': loss_min, 'state_dict': model.state_dict(), 'optimizer': optimizer.state_dict(),\n",
    "                                    'scheduler': scheduler.state_dict(), 'loss':loss, 'lr':lr, 'epoch_tot_counter':epoch_tot_counter}\n",
    "\n",
    "                            torch.save(\n",
    "                                state, save_bestfit_model_name\n",
    "                                )\n",
    "    except:\n",
    "        print('failed at flow:', jf)\n",
    "        pass\n",
    "\n",
    "\n",
    "\n"
   ]
  },
  {
   "cell_type": "code",
   "execution_count": 14,
   "metadata": {},
   "outputs": [
    {
     "name": "stdout",
     "output_type": "stream",
     "text": [
      "\n"
     ]
    },
    {
     "name": "stderr",
     "output_type": "stream",
     "text": [
      "  0%|          | 1/3000 [00:00<17:04,  2.93it/s]"
     ]
    },
    {
     "name": "stdout",
     "output_type": "stream",
     "text": [
      "saving bf at: , with loss: 22.42293 , at epoch: 0 learning rate: 0.01 , train_Ntot: 1 train_M1: 0 , train_Mdiff: 0 , epoch_tot_counter: 1\n"
     ]
    },
    {
     "name": "stderr",
     "output_type": "stream",
     "text": [
      "  2%|▏         | 62/3000 [00:12<09:03,  5.41it/s]"
     ]
    },
    {
     "name": "stdout",
     "output_type": "stream",
     "text": [
      "saving bf at: , with loss: 10.75252 , at epoch: 60 learning rate: 0.01 , train_Ntot: 1 train_M1: 0 , train_Mdiff: 0 , epoch_tot_counter: 61\n"
     ]
    },
    {
     "name": "stderr",
     "output_type": "stream",
     "text": [
      "  4%|▍         | 122/3000 [00:23<08:52,  5.40it/s]"
     ]
    },
    {
     "name": "stdout",
     "output_type": "stream",
     "text": [
      "saving bf at: , with loss: 8.45812 , at epoch: 120 learning rate: 0.01 , train_Ntot: 1 train_M1: 0 , train_Mdiff: 0 , epoch_tot_counter: 121\n"
     ]
    },
    {
     "name": "stderr",
     "output_type": "stream",
     "text": [
      "  7%|▋         | 221/3000 [00:42<08:28,  5.46it/s]"
     ]
    },
    {
     "name": "stdout",
     "output_type": "stream",
     "text": [
      "Epoch 00220: reducing learning rate of group 0 to 5.0000e-03.\n"
     ]
    },
    {
     "name": "stderr",
     "output_type": "stream",
     "text": [
      " 21%|██        | 622/3000 [01:57<07:13,  5.49it/s]"
     ]
    },
    {
     "name": "stdout",
     "output_type": "stream",
     "text": [
      "Epoch 00621: reducing learning rate of group 0 to 2.5000e-03.\n"
     ]
    },
    {
     "name": "stderr",
     "output_type": "stream",
     "text": [
      " 21%|██▏       | 639/3000 [02:00<07:26,  5.28it/s]\n"
     ]
    },
    {
     "ename": "KeyboardInterrupt",
     "evalue": "",
     "output_type": "error",
     "traceback": [
      "\u001b[0;31m---------------------------------------------------------------------------\u001b[0m",
      "\u001b[0;31mKeyboardInterrupt\u001b[0m                         Traceback (most recent call last)",
      "\u001b[1;32m/mnt/home/spandey/ceph/AR_NPE/notebooks/TEST_ROCKSTAR_RUNS/FINAL_CHECK_Ntot_M1_only.ipynb Cell 27\u001b[0m line \u001b[0;36m1\n\u001b[1;32m    <a href='vscode-notebook-cell://tunnel%2Brusty/mnt/home/spandey/ceph/AR_NPE/notebooks/TEST_ROCKSTAR_RUNS/FINAL_CHECK_Ntot_M1_only.ipynb#X62sdnNjb2RlLXJlbW90ZQ%3D%3D?line=136'>137</a>\u001b[0m torch\u001b[39m.\u001b[39mcuda\u001b[39m.\u001b[39mempty_cache()\n\u001b[1;32m    <a href='vscode-notebook-cell://tunnel%2Brusty/mnt/home/spandey/ceph/AR_NPE/notebooks/TEST_ROCKSTAR_RUNS/FINAL_CHECK_Ntot_M1_only.ipynb#X62sdnNjb2RlLXJlbW90ZQ%3D%3D?line=137'>138</a>\u001b[0m \u001b[39m# if 1-all_gpu:\u001b[39;00m\n\u001b[1;32m    <a href='vscode-notebook-cell://tunnel%2Brusty/mnt/home/spandey/ceph/AR_NPE/notebooks/TEST_ROCKSTAR_RUNS/FINAL_CHECK_Ntot_M1_only.ipynb#X62sdnNjb2RlLXJlbW90ZQ%3D%3D?line=138'>139</a>\u001b[0m \u001b[39m# cond_tensor_jd = cond_tensor_jd.cuda(dev)\u001b[39;00m\n\u001b[1;32m    <a href='vscode-notebook-cell://tunnel%2Brusty/mnt/home/spandey/ceph/AR_NPE/notebooks/TEST_ROCKSTAR_RUNS/FINAL_CHECK_Ntot_M1_only.ipynb#X62sdnNjb2RlLXJlbW90ZQ%3D%3D?line=139'>140</a>\u001b[0m \u001b[39m# cond_tensor_nsh_jd = cond_tensor_nsh_jd.cuda(dev)\u001b[39;00m\n\u001b[0;32m   (...)\u001b[0m\n\u001b[1;32m    <a href='vscode-notebook-cell://tunnel%2Brusty/mnt/home/spandey/ceph/AR_NPE/notebooks/TEST_ROCKSTAR_RUNS/FINAL_CHECK_Ntot_M1_only.ipynb#X62sdnNjb2RlLXJlbW90ZQ%3D%3D?line=148'>149</a>\u001b[0m \u001b[39m#     X_M1_FP_jd = X_M1_FP_jd.cuda(dev)\u001b[39;00m\n\u001b[1;32m    <a href='vscode-notebook-cell://tunnel%2Brusty/mnt/home/spandey/ceph/AR_NPE/notebooks/TEST_ROCKSTAR_RUNS/FINAL_CHECK_Ntot_M1_only.ipynb#X62sdnNjb2RlLXJlbW90ZQ%3D%3D?line=149'>150</a>\u001b[0m \u001b[39m# torch.cuda.empty_cache()\u001b[39;00m\n\u001b[0;32m--> <a href='vscode-notebook-cell://tunnel%2Brusty/mnt/home/spandey/ceph/AR_NPE/notebooks/TEST_ROCKSTAR_RUNS/FINAL_CHECK_Ntot_M1_only.ipynb#X62sdnNjb2RlLXJlbW90ZQ%3D%3D?line=151'>152</a>\u001b[0m loss \u001b[39m=\u001b[39m model(\n\u001b[1;32m    <a href='vscode-notebook-cell://tunnel%2Brusty/mnt/home/spandey/ceph/AR_NPE/notebooks/TEST_ROCKSTAR_RUNS/FINAL_CHECK_Ntot_M1_only.ipynb#X62sdnNjb2RlLXJlbW90ZQ%3D%3D?line=152'>153</a>\u001b[0m     X_Mdiff_jd,\n\u001b[1;32m    <a href='vscode-notebook-cell://tunnel%2Brusty/mnt/home/spandey/ceph/AR_NPE/notebooks/TEST_ROCKSTAR_RUNS/FINAL_CHECK_Ntot_M1_only.ipynb#X62sdnNjb2RlLXJlbW90ZQ%3D%3D?line=153'>154</a>\u001b[0m     X_M1_jd,\n\u001b[1;32m    <a href='vscode-notebook-cell://tunnel%2Brusty/mnt/home/spandey/ceph/AR_NPE/notebooks/TEST_ROCKSTAR_RUNS/FINAL_CHECK_Ntot_M1_only.ipynb#X62sdnNjb2RlLXJlbW90ZQ%3D%3D?line=154'>155</a>\u001b[0m     X_Nhalo_jd,\n\u001b[1;32m    <a href='vscode-notebook-cell://tunnel%2Brusty/mnt/home/spandey/ceph/AR_NPE/notebooks/TEST_ROCKSTAR_RUNS/FINAL_CHECK_Ntot_M1_only.ipynb#X62sdnNjb2RlLXJlbW90ZQ%3D%3D?line=155'>156</a>\u001b[0m     cond_x\u001b[39m=\u001b[39;49mcond_tensor_jd,\n\u001b[1;32m    <a href='vscode-notebook-cell://tunnel%2Brusty/mnt/home/spandey/ceph/AR_NPE/notebooks/TEST_ROCKSTAR_RUNS/FINAL_CHECK_Ntot_M1_only.ipynb#X62sdnNjb2RlLXJlbW90ZQ%3D%3D?line=156'>157</a>\u001b[0m     cond_x_nsh\u001b[39m=\u001b[39;49mcond_tensor_nsh_jd,\n\u001b[1;32m    <a href='vscode-notebook-cell://tunnel%2Brusty/mnt/home/spandey/ceph/AR_NPE/notebooks/TEST_ROCKSTAR_RUNS/FINAL_CHECK_Ntot_M1_only.ipynb#X62sdnNjb2RlLXJlbW90ZQ%3D%3D?line=157'>158</a>\u001b[0m     mask_Mdiff_truth_all\u001b[39m=\u001b[39;49mmask_tensor_Mdiff_train_jd,\n\u001b[1;32m    <a href='vscode-notebook-cell://tunnel%2Brusty/mnt/home/spandey/ceph/AR_NPE/notebooks/TEST_ROCKSTAR_RUNS/FINAL_CHECK_Ntot_M1_only.ipynb#X62sdnNjb2RlLXJlbW90ZQ%3D%3D?line=158'>159</a>\u001b[0m     mask_M1_truth_all\u001b[39m=\u001b[39;49mmask_tensor_M1_train_jd,\n\u001b[1;32m    <a href='vscode-notebook-cell://tunnel%2Brusty/mnt/home/spandey/ceph/AR_NPE/notebooks/TEST_ROCKSTAR_RUNS/FINAL_CHECK_Ntot_M1_only.ipynb#X62sdnNjb2RlLXJlbW90ZQ%3D%3D?line=159'>160</a>\u001b[0m     Nhalos_truth_all\u001b[39m=\u001b[39;49mNhalos_truth_tensor_jd,\n\u001b[1;32m    <a href='vscode-notebook-cell://tunnel%2Brusty/mnt/home/spandey/ceph/AR_NPE/notebooks/TEST_ROCKSTAR_RUNS/FINAL_CHECK_Ntot_M1_only.ipynb#X62sdnNjb2RlLXJlbW90ZQ%3D%3D?line=160'>161</a>\u001b[0m     use_Ntot_samples\u001b[39m=\u001b[39;49m\u001b[39mFalse\u001b[39;49;00m,\n\u001b[1;32m    <a href='vscode-notebook-cell://tunnel%2Brusty/mnt/home/spandey/ceph/AR_NPE/notebooks/TEST_ROCKSTAR_RUNS/FINAL_CHECK_Ntot_M1_only.ipynb#X62sdnNjb2RlLXJlbW90ZQ%3D%3D?line=161'>162</a>\u001b[0m     use_M1_samples\u001b[39m=\u001b[39;49m\u001b[39mFalse\u001b[39;49;00m,\n\u001b[1;32m    <a href='vscode-notebook-cell://tunnel%2Brusty/mnt/home/spandey/ceph/AR_NPE/notebooks/TEST_ROCKSTAR_RUNS/FINAL_CHECK_Ntot_M1_only.ipynb#X62sdnNjb2RlLXJlbW90ZQ%3D%3D?line=162'>163</a>\u001b[0m     train_Ntot\u001b[39m=\u001b[39;49mtrain_Ntot,\n\u001b[1;32m    <a href='vscode-notebook-cell://tunnel%2Brusty/mnt/home/spandey/ceph/AR_NPE/notebooks/TEST_ROCKSTAR_RUNS/FINAL_CHECK_Ntot_M1_only.ipynb#X62sdnNjb2RlLXJlbW90ZQ%3D%3D?line=163'>164</a>\u001b[0m     train_M1\u001b[39m=\u001b[39;49mtrain_M1,\n\u001b[1;32m    <a href='vscode-notebook-cell://tunnel%2Brusty/mnt/home/spandey/ceph/AR_NPE/notebooks/TEST_ROCKSTAR_RUNS/FINAL_CHECK_Ntot_M1_only.ipynb#X62sdnNjb2RlLXJlbW90ZQ%3D%3D?line=164'>165</a>\u001b[0m     train_Mdiff\u001b[39m=\u001b[39;49mtrain_Mdiff,\n\u001b[1;32m    <a href='vscode-notebook-cell://tunnel%2Brusty/mnt/home/spandey/ceph/AR_NPE/notebooks/TEST_ROCKSTAR_RUNS/FINAL_CHECK_Ntot_M1_only.ipynb#X62sdnNjb2RlLXJlbW90ZQ%3D%3D?line=165'>166</a>\u001b[0m     \u001b[39m# x_Mdiff_FP=X_Mdiff_FP,\u001b[39;49;00m\n\u001b[1;32m    <a href='vscode-notebook-cell://tunnel%2Brusty/mnt/home/spandey/ceph/AR_NPE/notebooks/TEST_ROCKSTAR_RUNS/FINAL_CHECK_Ntot_M1_only.ipynb#X62sdnNjb2RlLXJlbW90ZQ%3D%3D?line=166'>167</a>\u001b[0m     x_M1_FP\u001b[39m=\u001b[39;49mX_M1_FP_jd,\n\u001b[1;32m    <a href='vscode-notebook-cell://tunnel%2Brusty/mnt/home/spandey/ceph/AR_NPE/notebooks/TEST_ROCKSTAR_RUNS/FINAL_CHECK_Ntot_M1_only.ipynb#X62sdnNjb2RlLXJlbW90ZQ%3D%3D?line=167'>168</a>\u001b[0m     \u001b[39m# x_Ntot_FP=X_Nhalo_FP,\u001b[39;49;00m\n\u001b[1;32m    <a href='vscode-notebook-cell://tunnel%2Brusty/mnt/home/spandey/ceph/AR_NPE/notebooks/TEST_ROCKSTAR_RUNS/FINAL_CHECK_Ntot_M1_only.ipynb#X62sdnNjb2RlLXJlbW90ZQ%3D%3D?line=168'>169</a>\u001b[0m     \u001b[39m# Nhalos_truth_all_FP=Nhalos_truth_tensor_FP,\u001b[39;49;00m\n\u001b[1;32m    <a href='vscode-notebook-cell://tunnel%2Brusty/mnt/home/spandey/ceph/AR_NPE/notebooks/TEST_ROCKSTAR_RUNS/FINAL_CHECK_Ntot_M1_only.ipynb#X62sdnNjb2RlLXJlbW90ZQ%3D%3D?line=169'>170</a>\u001b[0m     \u001b[39m# mask_Mdiff_truth_all_FP=mask_tensor_Mdiff_train_FP,\u001b[39;49;00m\n\u001b[1;32m    <a href='vscode-notebook-cell://tunnel%2Brusty/mnt/home/spandey/ceph/AR_NPE/notebooks/TEST_ROCKSTAR_RUNS/FINAL_CHECK_Ntot_M1_only.ipynb#X62sdnNjb2RlLXJlbW90ZQ%3D%3D?line=170'>171</a>\u001b[0m     mask_M1_truth_all_FP\u001b[39m=\u001b[39;49mmask_tensor_M1_train_FP_jd,\n\u001b[1;32m    <a href='vscode-notebook-cell://tunnel%2Brusty/mnt/home/spandey/ceph/AR_NPE/notebooks/TEST_ROCKSTAR_RUNS/FINAL_CHECK_Ntot_M1_only.ipynb#X62sdnNjb2RlLXJlbW90ZQ%3D%3D?line=171'>172</a>\u001b[0m     L2norm_Ntothist\u001b[39m=\u001b[39;49mL2norm_Ntothist,\n\u001b[1;32m    <a href='vscode-notebook-cell://tunnel%2Brusty/mnt/home/spandey/ceph/AR_NPE/notebooks/TEST_ROCKSTAR_RUNS/FINAL_CHECK_Ntot_M1_only.ipynb#X62sdnNjb2RlLXJlbW90ZQ%3D%3D?line=172'>173</a>\u001b[0m     L2norm_M1hist\u001b[39m=\u001b[39;49mL2norm_M1hist        \n\u001b[1;32m    <a href='vscode-notebook-cell://tunnel%2Brusty/mnt/home/spandey/ceph/AR_NPE/notebooks/TEST_ROCKSTAR_RUNS/FINAL_CHECK_Ntot_M1_only.ipynb#X62sdnNjb2RlLXJlbW90ZQ%3D%3D?line=173'>174</a>\u001b[0m     )\n\u001b[1;32m    <a href='vscode-notebook-cell://tunnel%2Brusty/mnt/home/spandey/ceph/AR_NPE/notebooks/TEST_ROCKSTAR_RUNS/FINAL_CHECK_Ntot_M1_only.ipynb#X62sdnNjb2RlLXJlbW90ZQ%3D%3D?line=175'>176</a>\u001b[0m loss\u001b[39m.\u001b[39mbackward()\n\u001b[1;32m    <a href='vscode-notebook-cell://tunnel%2Brusty/mnt/home/spandey/ceph/AR_NPE/notebooks/TEST_ROCKSTAR_RUNS/FINAL_CHECK_Ntot_M1_only.ipynb#X62sdnNjb2RlLXJlbW90ZQ%3D%3D?line=176'>177</a>\u001b[0m optimizer\u001b[39m.\u001b[39mstep()\n",
      "File \u001b[0;32m~/ceph/.venv/lib/python3.9/site-packages/torch/nn/modules/module.py:1501\u001b[0m, in \u001b[0;36mModule._call_impl\u001b[0;34m(self, *args, **kwargs)\u001b[0m\n\u001b[1;32m   1496\u001b[0m \u001b[39m# If we don't have any hooks, we want to skip the rest of the logic in\u001b[39;00m\n\u001b[1;32m   1497\u001b[0m \u001b[39m# this function, and just call forward.\u001b[39;00m\n\u001b[1;32m   1498\u001b[0m \u001b[39mif\u001b[39;00m \u001b[39mnot\u001b[39;00m (\u001b[39mself\u001b[39m\u001b[39m.\u001b[39m_backward_hooks \u001b[39mor\u001b[39;00m \u001b[39mself\u001b[39m\u001b[39m.\u001b[39m_backward_pre_hooks \u001b[39mor\u001b[39;00m \u001b[39mself\u001b[39m\u001b[39m.\u001b[39m_forward_hooks \u001b[39mor\u001b[39;00m \u001b[39mself\u001b[39m\u001b[39m.\u001b[39m_forward_pre_hooks\n\u001b[1;32m   1499\u001b[0m         \u001b[39mor\u001b[39;00m _global_backward_pre_hooks \u001b[39mor\u001b[39;00m _global_backward_hooks\n\u001b[1;32m   1500\u001b[0m         \u001b[39mor\u001b[39;00m _global_forward_hooks \u001b[39mor\u001b[39;00m _global_forward_pre_hooks):\n\u001b[0;32m-> 1501\u001b[0m     \u001b[39mreturn\u001b[39;00m forward_call(\u001b[39m*\u001b[39;49margs, \u001b[39m*\u001b[39;49m\u001b[39m*\u001b[39;49mkwargs)\n\u001b[1;32m   1502\u001b[0m \u001b[39m# Do not call functions when jit is used\u001b[39;00m\n\u001b[1;32m   1503\u001b[0m full_backward_hooks, non_full_backward_hooks \u001b[39m=\u001b[39m [], []\n",
      "File \u001b[0;32m/mnt/ceph/users/spandey/AR_NPE/nf/combined_models.py:154\u001b[0m, in \u001b[0;36mCOMBINED_Model.forward\u001b[0;34m(self, x_Mdiff, x_M1, x_Ntot, cond_x, cond_x_nsh, mask_Mdiff_truth_all, mask_M1_truth_all, Nhalos_truth_all, use_Ntot_samples, use_M1_samples, reg_M1, train_Ntot, train_M1, train_Mdiff, x_Mdiff_FP, x_M1_FP, x_Ntot_FP, Nhalos_truth_all_FP, mask_Mdiff_truth_all_FP, mask_M1_truth_all_FP, L2norm_M1hist, L2norm_Ntothist, delta_low, delta_mid1, delta_mid2, Ntot_hist_min, Ntot_hist_max, nbins_Ntot, nbins_M1, M1_hist_min, M1_hist_max)\u001b[0m\n\u001b[1;32m    151\u001b[0m     loss_Ntot \u001b[39m+\u001b[39m\u001b[39m=\u001b[39m \u001b[39m-\u001b[39m\u001b[39mself\u001b[39m\u001b[39m.\u001b[39mNtot_model\u001b[39m.\u001b[39mforward(x_Ntot[jb], cond_out_Ntot)\n\u001b[1;32m    153\u001b[0m \u001b[39mif\u001b[39;00m use_Ntot_samples \u001b[39mor\u001b[39;00m L2norm_Ntothist:\n\u001b[0;32m--> 154\u001b[0m     Ntot_samp_tensor \u001b[39m=\u001b[39m \u001b[39mself\u001b[39;49m\u001b[39m.\u001b[39;49mNtot_model\u001b[39m.\u001b[39;49minverse(cond_out_Ntot)\n\u001b[1;32m    156\u001b[0m \u001b[39mif\u001b[39;00m L2norm_Ntothist:\n\u001b[1;32m    157\u001b[0m     delta_z0_here \u001b[39m=\u001b[39m cond_x_nsh[jb][:,\u001b[39m0\u001b[39m]\n",
      "File \u001b[0;32m/mnt/ceph/users/spandey/AR_NPE/nf/all_models.py:213\u001b[0m, in \u001b[0;36mSumGaussModel.inverse\u001b[0;34m(self, cond_inp)\u001b[0m\n\u001b[1;32m    209\u001b[0m \u001b[39m# bt = out[:, self.ngauss + 1]\u001b[39;00m\n\u001b[1;32m    210\u001b[0m \u001b[39m# bt = 5*(1 + nn.Tanh()(bt))\u001b[39;00m\n\u001b[1;32m    211\u001b[0m \u001b[39m# we first predict the base distirbution given the alpha and beta of the form mu**alpha * exp(-beta*mu)\u001b[39;00m\n\u001b[1;32m    212\u001b[0m base_pws \u001b[39m=\u001b[39m torch\u001b[39m.\u001b[39mzeros(out\u001b[39m.\u001b[39mshape[\u001b[39m0\u001b[39m], \u001b[39mself\u001b[39m\u001b[39m.\u001b[39mngauss)\n\u001b[0;32m--> 213\u001b[0m base_pws \u001b[39m=\u001b[39m base_pws\u001b[39m.\u001b[39;49mto(\u001b[39m'\u001b[39;49m\u001b[39mcuda\u001b[39;49m\u001b[39m'\u001b[39;49m)\n\u001b[1;32m    214\u001b[0m \u001b[39mfor\u001b[39;00m i \u001b[39min\u001b[39;00m \u001b[39mrange\u001b[39m(\u001b[39mself\u001b[39m\u001b[39m.\u001b[39mngauss):\n\u001b[1;32m    215\u001b[0m     base_pws[:, i] \u001b[39m=\u001b[39m torch\u001b[39m.\u001b[39mpow(\u001b[39mself\u001b[39m\u001b[39m.\u001b[39mmu_all[i], al) \u001b[39m*\u001b[39m torch\u001b[39m.\u001b[39mexp(\u001b[39m-\u001b[39mbt \u001b[39m*\u001b[39m \u001b[39mself\u001b[39m\u001b[39m.\u001b[39mmu_all[i])\n",
      "\u001b[0;31mKeyboardInterrupt\u001b[0m: "
     ]
    }
   ],
   "source": [
    "# nepochs_Ntot_only = config_train['nepochs_Ntot_only']\n",
    "# nepochs_Ntot_M1_only = config_train['nepochs_Ntot_M1_only']\n",
    "# nepochs_all = config_train['nepochs_all']\n",
    "\n",
    "\n",
    "# # nepochs_array = [nepochs_Ntot_only, nepochs_Ntot_M1_only, nepochs_all]\n",
    "# # train_Ntot_array = [1, 1, 1]\n",
    "# # train_M1_array = [0, 1, 1 ]\n",
    "# # train_Mdiff_array = [0, 0, 1]\n",
    "\n",
    "# nepochs_array = [nepochs_Ntot_only, nepochs_Ntot_M1_only]\n",
    "# train_Ntot_array = [1, 1]\n",
    "# train_M1_array = [0, 1]\n",
    "# train_Mdiff_array = [0, 0]\n",
    "\n",
    "# # for jf in range(nflows_train):\n",
    "# # # for jf in np.arange(7,16):    \n",
    "# epoch_tot_counter = 0\n",
    "# num_cond_Ntot = num_cond\n",
    "\n",
    "# model_Ntot = SumGaussModel(\n",
    "#     hidden_dim=hidden_dim_MAF,\n",
    "#     num_cond=num_cond_Ntot,\n",
    "#     ngauss=return_dict_train['ngauss_Nhalo'],\n",
    "#     mu_all=return_dict_train['mu_all'],\n",
    "#     sig_all=return_dict_train['sig_all'],\n",
    "#     base_dist=base_dist_Ntot   \n",
    "#     )\n",
    "\n",
    "# num_cond_M1 = num_cond + 1\n",
    "# # if conditioned on fastpm we will also give the fastpm fof M1 halos and its mask as conditional\n",
    "# if cond_sim == 'fastpm':\n",
    "#     num_cond_M1 += 2\n",
    "\n",
    "# model_M1 = NSF_M1_CNNcond(\n",
    "#     K=K_M1,\n",
    "#     B=B_M1,\n",
    "#     hidden_dim=hidden_dim_MAF,\n",
    "#     num_cond=num_cond_M1,\n",
    "#     nflows=nflows_M1_NSF,\n",
    "#     base_dist=base_dist_M1,\n",
    "#     ngauss=ngauss_M1,\n",
    "#     lgM_rs_tointerp=lgM_rescaled,\n",
    "#     hmf_pdf_tointerp=hmf_pdf,\n",
    "#     hmf_cdf_tointerp=hmf_cdf    \n",
    "#     )\n",
    "\n",
    "# #     # ndim_diff = return_dict_train['M_diff_halos_all_norm_masked'][0].shape[2]\n",
    "# #     # num_cond_Mdiff = num_cond + 2\n",
    "# #     # model_Mdiff = NSF_Mdiff_CNNcond(\n",
    "# #     #     dim=ndim_diff,\n",
    "# #     #     K=K_Mdiff,\n",
    "# #     #     B=B_Mdiff,\n",
    "# #     #     hidden_dim=hidden_dim_MAF,\n",
    "# #     #     num_cond=num_cond_Mdiff,\n",
    "# #     #     nflows=nflows_Mdiff_NSF,\n",
    "# #     #     base_dist=base_dist_Mdiff,\n",
    "# #     #     mu_pos=True\n",
    "# #     #     )\n",
    "\n",
    "# ndim = ndim_diff + 1\n",
    "# model = COMBINED_Model(\n",
    "#     None,\n",
    "#     None,\n",
    "#     # None,\n",
    "#     model_M1,\n",
    "#     model_Ntot,\n",
    "#     ndim,\n",
    "#     ksize,\n",
    "#     ns_d,\n",
    "#     ns_h,\n",
    "#     nb,\n",
    "#     ninp,\n",
    "#     nfeature_cnn,\n",
    "#     nout_cnn,\n",
    "#     layers_types=layers_types,\n",
    "#     act='tanh',\n",
    "#     padding='valid',\n",
    "#     sep_Ntot_cond=True,\n",
    "#     sep_M1_cond=True,\n",
    "#     sep_Mdiff_cond=True,\n",
    "#     num_cond_Ntot = num_cond_Ntot,\n",
    "#     num_cond_M1 = num_cond_M1,\n",
    "#     num_cond_Mdiff = None\n",
    "#     )\n",
    "\n",
    "# model.to(dev)\n",
    "\n",
    "# print()\n",
    "\n",
    "# optimizer = optim.Adam(model.parameters(), lr=learning_rate)\n",
    "\n",
    "# loss_all_it = []\n",
    "# loss_min = 1e20\n",
    "# epoch_tot_counter = 0\n",
    "# scheduler = optim.lr_scheduler.ReduceLROnPlateau(optimizer, 'min', factor=0.5, patience=200, verbose=True, cooldown=200, min_lr=1e-8)\n",
    "\n",
    "\n",
    "\n",
    "\n",
    "\n"
   ]
  },
  {
   "cell_type": "code",
   "execution_count": 15,
   "metadata": {},
   "outputs": [
    {
     "name": "stderr",
     "output_type": "stream",
     "text": [
      "  0%|          | 1/3000 [00:00<07:06,  7.03it/s]"
     ]
    },
    {
     "name": "stdout",
     "output_type": "stream",
     "text": [
      "saving bf at: , with loss: 111.43813 , at epoch: 0 learning rate: 0.01 , train_Ntot: 1 train_M1: 0 , train_Mdiff: 0 , epoch_tot_counter: 640\n"
     ]
    },
    {
     "name": "stderr",
     "output_type": "stream",
     "text": [
      "  2%|▏         | 61/3000 [00:11<09:18,  5.26it/s]"
     ]
    },
    {
     "name": "stdout",
     "output_type": "stream",
     "text": [
      "saving bf at: , with loss: 76.41739 , at epoch: 60 learning rate: 0.01 , train_Ntot: 1 train_M1: 0 , train_Mdiff: 0 , epoch_tot_counter: 700\n"
     ]
    },
    {
     "name": "stderr",
     "output_type": "stream",
     "text": [
      " 13%|█▎        | 384/3000 [01:13<08:03,  5.41it/s]"
     ]
    },
    {
     "name": "stdout",
     "output_type": "stream",
     "text": [
      "Epoch 01022: reducing learning rate of group 0 to 5.0000e-03.\n"
     ]
    },
    {
     "name": "stderr",
     "output_type": "stream",
     "text": [
      " 26%|██▌       | 785/3000 [02:30<06:54,  5.34it/s]"
     ]
    },
    {
     "name": "stdout",
     "output_type": "stream",
     "text": [
      "Epoch 01423: reducing learning rate of group 0 to 2.5000e-03.\n"
     ]
    },
    {
     "name": "stderr",
     "output_type": "stream",
     "text": [
      " 40%|███▉      | 1186/3000 [03:46<05:36,  5.39it/s]"
     ]
    },
    {
     "name": "stdout",
     "output_type": "stream",
     "text": [
      "Epoch 01824: reducing learning rate of group 0 to 1.2500e-03.\n"
     ]
    },
    {
     "name": "stderr",
     "output_type": "stream",
     "text": [
      " 42%|████▏     | 1261/3000 [04:01<05:30,  5.26it/s]"
     ]
    },
    {
     "name": "stdout",
     "output_type": "stream",
     "text": [
      "saving bf at: , with loss: 67.89249 , at epoch: 1260 learning rate: 0.00125 , train_Ntot: 1 train_M1: 0 , train_Mdiff: 0 , epoch_tot_counter: 1900\n"
     ]
    },
    {
     "name": "stderr",
     "output_type": "stream",
     "text": [
      " 44%|████▍     | 1321/3000 [04:12<05:19,  5.25it/s]"
     ]
    },
    {
     "name": "stdout",
     "output_type": "stream",
     "text": [
      "saving bf at: , with loss: 58.55696 , at epoch: 1320 learning rate: 0.00125 , train_Ntot: 1 train_M1: 0 , train_Mdiff: 0 , epoch_tot_counter: 1960\n"
     ]
    },
    {
     "name": "stderr",
     "output_type": "stream",
     "text": [
      " 46%|████▌     | 1382/3000 [04:24<05:03,  5.34it/s]"
     ]
    },
    {
     "name": "stdout",
     "output_type": "stream",
     "text": [
      "saving bf at: , with loss: 52.46259 , at epoch: 1380 learning rate: 0.00125 , train_Ntot: 1 train_M1: 0 , train_Mdiff: 0 , epoch_tot_counter: 2020\n"
     ]
    },
    {
     "name": "stderr",
     "output_type": "stream",
     "text": [
      " 48%|████▊     | 1442/3000 [04:36<04:54,  5.30it/s]"
     ]
    },
    {
     "name": "stdout",
     "output_type": "stream",
     "text": [
      "saving bf at: , with loss: 39.06268 , at epoch: 1440 learning rate: 0.00125 , train_Ntot: 1 train_M1: 0 , train_Mdiff: 0 , epoch_tot_counter: 2080\n"
     ]
    },
    {
     "name": "stderr",
     "output_type": "stream",
     "text": [
      " 50%|█████     | 1501/3000 [04:46<04:45,  5.26it/s]"
     ]
    },
    {
     "name": "stdout",
     "output_type": "stream",
     "text": [
      "saving bf at: , with loss: 30.344 , at epoch: 1500 learning rate: 0.00125 , train_Ntot: 1 train_M1: 0 , train_Mdiff: 0 , epoch_tot_counter: 2140\n"
     ]
    },
    {
     "name": "stderr",
     "output_type": "stream",
     "text": [
      " 52%|█████▏    | 1562/3000 [04:59<04:29,  5.34it/s]"
     ]
    },
    {
     "name": "stdout",
     "output_type": "stream",
     "text": [
      "saving bf at: , with loss: 25.96766 , at epoch: 1560 learning rate: 0.00125 , train_Ntot: 1 train_M1: 0 , train_Mdiff: 0 , epoch_tot_counter: 2200\n"
     ]
    },
    {
     "name": "stderr",
     "output_type": "stream",
     "text": [
      " 53%|█████▎    | 1587/3000 [05:03<04:22,  5.39it/s]"
     ]
    },
    {
     "name": "stdout",
     "output_type": "stream",
     "text": [
      "Epoch 02225: reducing learning rate of group 0 to 6.2500e-04.\n"
     ]
    },
    {
     "name": "stderr",
     "output_type": "stream",
     "text": [
      " 54%|█████▍    | 1622/3000 [05:10<04:19,  5.32it/s]"
     ]
    },
    {
     "name": "stdout",
     "output_type": "stream",
     "text": [
      "saving bf at: , with loss: 24.98999 , at epoch: 1620 learning rate: 0.000625 , train_Ntot: 1 train_M1: 0 , train_Mdiff: 0 , epoch_tot_counter: 2260\n"
     ]
    },
    {
     "name": "stderr",
     "output_type": "stream",
     "text": [
      " 56%|█████▌    | 1681/3000 [05:22<04:12,  5.22it/s]"
     ]
    },
    {
     "name": "stdout",
     "output_type": "stream",
     "text": [
      "saving bf at: , with loss: 24.2748 , at epoch: 1680 learning rate: 0.000625 , train_Ntot: 1 train_M1: 0 , train_Mdiff: 0 , epoch_tot_counter: 2320\n"
     ]
    },
    {
     "name": "stderr",
     "output_type": "stream",
     "text": [
      " 60%|██████    | 1802/3000 [05:44<03:46,  5.30it/s]"
     ]
    },
    {
     "name": "stdout",
     "output_type": "stream",
     "text": [
      "saving bf at: , with loss: 24.12584 , at epoch: 1800 learning rate: 0.000625 , train_Ntot: 1 train_M1: 0 , train_Mdiff: 0 , epoch_tot_counter: 2440\n"
     ]
    },
    {
     "name": "stderr",
     "output_type": "stream",
     "text": [
      " 66%|██████▋   | 1988/3000 [06:21<03:15,  5.19it/s]"
     ]
    },
    {
     "name": "stdout",
     "output_type": "stream",
     "text": [
      "Epoch 02626: reducing learning rate of group 0 to 3.1250e-04.\n"
     ]
    },
    {
     "name": "stderr",
     "output_type": "stream",
     "text": [
      " 68%|██████▊   | 2041/3000 [06:31<03:03,  5.23it/s]"
     ]
    },
    {
     "name": "stdout",
     "output_type": "stream",
     "text": [
      "saving bf at: , with loss: 23.56777 , at epoch: 2040 learning rate: 0.0003125 , train_Ntot: 1 train_M1: 0 , train_Mdiff: 0 , epoch_tot_counter: 2680\n"
     ]
    },
    {
     "name": "stderr",
     "output_type": "stream",
     "text": [
      " 74%|███████▍  | 2222/3000 [07:05<02:25,  5.33it/s]"
     ]
    },
    {
     "name": "stdout",
     "output_type": "stream",
     "text": [
      "saving bf at: , with loss: 23.54078 , at epoch: 2220 learning rate: 0.0003125 , train_Ntot: 1 train_M1: 0 , train_Mdiff: 0 , epoch_tot_counter: 2860\n"
     ]
    },
    {
     "name": "stderr",
     "output_type": "stream",
     "text": [
      " 76%|███████▌  | 2281/3000 [07:16<02:16,  5.27it/s]"
     ]
    },
    {
     "name": "stdout",
     "output_type": "stream",
     "text": [
      "saving bf at: , with loss: 21.84839 , at epoch: 2280 learning rate: 0.0003125 , train_Ntot: 1 train_M1: 0 , train_Mdiff: 0 , epoch_tot_counter: 2920\n"
     ]
    },
    {
     "name": "stderr",
     "output_type": "stream",
     "text": [
      " 80%|███████▉  | 2389/3000 [07:37<01:53,  5.40it/s]"
     ]
    },
    {
     "name": "stdout",
     "output_type": "stream",
     "text": [
      "Epoch 03027: reducing learning rate of group 0 to 1.5625e-04.\n"
     ]
    },
    {
     "name": "stderr",
     "output_type": "stream",
     "text": [
      " 82%|████████▏ | 2462/3000 [07:52<01:42,  5.26it/s]"
     ]
    },
    {
     "name": "stdout",
     "output_type": "stream",
     "text": [
      "saving bf at: , with loss: 21.46058 , at epoch: 2460 learning rate: 0.00015625 , train_Ntot: 1 train_M1: 0 , train_Mdiff: 0 , epoch_tot_counter: 3100\n"
     ]
    },
    {
     "name": "stderr",
     "output_type": "stream",
     "text": [
      " 84%|████████▍ | 2522/3000 [08:03<01:29,  5.33it/s]"
     ]
    },
    {
     "name": "stdout",
     "output_type": "stream",
     "text": [
      "saving bf at: , with loss: 17.83286 , at epoch: 2520 learning rate: 0.00015625 , train_Ntot: 1 train_M1: 0 , train_Mdiff: 0 , epoch_tot_counter: 3160\n"
     ]
    },
    {
     "name": "stderr",
     "output_type": "stream",
     "text": [
      " 88%|████████▊ | 2642/3000 [08:26<01:07,  5.32it/s]"
     ]
    },
    {
     "name": "stdout",
     "output_type": "stream",
     "text": [
      "saving bf at: , with loss: 17.31768 , at epoch: 2640 learning rate: 0.00015625 , train_Ntot: 1 train_M1: 0 , train_Mdiff: 0 , epoch_tot_counter: 3280\n"
     ]
    },
    {
     "name": "stderr",
     "output_type": "stream",
     "text": [
      " 90%|█████████ | 2702/3000 [08:37<00:56,  5.32it/s]"
     ]
    },
    {
     "name": "stdout",
     "output_type": "stream",
     "text": [
      "saving bf at: , with loss: 16.15508 , at epoch: 2700 learning rate: 0.00015625 , train_Ntot: 1 train_M1: 0 , train_Mdiff: 0 , epoch_tot_counter: 3340\n"
     ]
    },
    {
     "name": "stderr",
     "output_type": "stream",
     "text": [
      " 93%|█████████▎| 2790/3000 [08:54<00:38,  5.41it/s]"
     ]
    },
    {
     "name": "stdout",
     "output_type": "stream",
     "text": [
      "Epoch 03428: reducing learning rate of group 0 to 7.8125e-05.\n"
     ]
    },
    {
     "name": "stderr",
     "output_type": "stream",
     "text": [
      " 94%|█████████▍| 2822/3000 [09:00<00:33,  5.33it/s]"
     ]
    },
    {
     "name": "stdout",
     "output_type": "stream",
     "text": [
      "saving bf at: , with loss: 14.71304 , at epoch: 2820 learning rate: 7.8125e-05 , train_Ntot: 1 train_M1: 0 , train_Mdiff: 0 , epoch_tot_counter: 3460\n"
     ]
    },
    {
     "name": "stderr",
     "output_type": "stream",
     "text": [
      " 96%|█████████▌| 2882/3000 [09:11<00:22,  5.32it/s]"
     ]
    },
    {
     "name": "stdout",
     "output_type": "stream",
     "text": [
      "saving bf at: , with loss: 13.06717 , at epoch: 2880 learning rate: 7.8125e-05 , train_Ntot: 1 train_M1: 0 , train_Mdiff: 0 , epoch_tot_counter: 3520\n"
     ]
    },
    {
     "name": "stderr",
     "output_type": "stream",
     "text": [
      "100%|██████████| 3000/3000 [09:34<00:00,  5.22it/s]\n"
     ]
    },
    {
     "name": "stdout",
     "output_type": "stream",
     "text": [
      "saving bf at: , with loss: 12.54808 , at epoch: 2999 learning rate: 7.8125e-05 , train_Ntot: 1 train_M1: 0 , train_Mdiff: 0 , epoch_tot_counter: 3639\n"
     ]
    },
    {
     "name": "stderr",
     "output_type": "stream",
     "text": [
      "  0%|          | 1/2000 [00:00<14:48,  2.25it/s]"
     ]
    },
    {
     "name": "stdout",
     "output_type": "stream",
     "text": [
      "saving bf at: , with loss: 15.70918 , at epoch: 0 learning rate: 0.01 , train_Ntot: 1 train_M1: 1 , train_Mdiff: 0 , epoch_tot_counter: 3640\n"
     ]
    },
    {
     "name": "stderr",
     "output_type": "stream",
     "text": [
      "  2%|▏         | 41/2000 [00:39<31:23,  1.04it/s]"
     ]
    },
    {
     "name": "stdout",
     "output_type": "stream",
     "text": [
      "saving bf at: , with loss: 14.70178 , at epoch: 40 learning rate: 0.01 , train_Ntot: 1 train_M1: 1 , train_Mdiff: 0 , epoch_tot_counter: 3680\n"
     ]
    },
    {
     "name": "stderr",
     "output_type": "stream",
     "text": [
      " 10%|▉         | 190/2000 [03:05<28:51,  1.05it/s]"
     ]
    },
    {
     "name": "stdout",
     "output_type": "stream",
     "text": [
      "Epoch 03829: reducing learning rate of group 0 to 5.0000e-03.\n"
     ]
    },
    {
     "name": "stderr",
     "output_type": "stream",
     "text": [
      " 30%|██▉       | 591/2000 [09:38<22:27,  1.05it/s]"
     ]
    },
    {
     "name": "stdout",
     "output_type": "stream",
     "text": [
      "Epoch 04230: reducing learning rate of group 0 to 2.5000e-03.\n"
     ]
    },
    {
     "name": "stderr",
     "output_type": "stream",
     "text": [
      " 50%|████▉     | 992/2000 [16:10<16:01,  1.05it/s]"
     ]
    },
    {
     "name": "stdout",
     "output_type": "stream",
     "text": [
      "Epoch 04631: reducing learning rate of group 0 to 1.2500e-03.\n"
     ]
    },
    {
     "name": "stderr",
     "output_type": "stream",
     "text": [
      " 60%|█████▉    | 1192/2000 [19:28<13:11,  1.02it/s]\n"
     ]
    },
    {
     "ename": "KeyboardInterrupt",
     "evalue": "",
     "output_type": "error",
     "traceback": [
      "\u001b[0;31m---------------------------------------------------------------------------\u001b[0m",
      "\u001b[0;31mKeyboardInterrupt\u001b[0m                         Traceback (most recent call last)",
      "\u001b[1;32m/mnt/home/spandey/ceph/AR_NPE/notebooks/TEST_ROCKSTAR_RUNS/FINAL_CHECK_Ntot_M1_only.ipynb Cell 28\u001b[0m line \u001b[0;36m5\n\u001b[1;32m     <a href='vscode-notebook-cell://tunnel%2Brusty/mnt/home/spandey/ceph/AR_NPE/notebooks/TEST_ROCKSTAR_RUNS/FINAL_CHECK_Ntot_M1_only.ipynb#X63sdnNjb2RlLXJlbW90ZQ%3D%3D?line=39'>40</a>\u001b[0m torch\u001b[39m.\u001b[39mcuda\u001b[39m.\u001b[39mempty_cache()\n\u001b[1;32m     <a href='vscode-notebook-cell://tunnel%2Brusty/mnt/home/spandey/ceph/AR_NPE/notebooks/TEST_ROCKSTAR_RUNS/FINAL_CHECK_Ntot_M1_only.ipynb#X63sdnNjb2RlLXJlbW90ZQ%3D%3D?line=40'>41</a>\u001b[0m \u001b[39m# if 1-all_gpu:\u001b[39;00m\n\u001b[1;32m     <a href='vscode-notebook-cell://tunnel%2Brusty/mnt/home/spandey/ceph/AR_NPE/notebooks/TEST_ROCKSTAR_RUNS/FINAL_CHECK_Ntot_M1_only.ipynb#X63sdnNjb2RlLXJlbW90ZQ%3D%3D?line=41'>42</a>\u001b[0m \u001b[39m# cond_tensor_jd = cond_tensor_jd.cuda(dev)\u001b[39;00m\n\u001b[1;32m     <a href='vscode-notebook-cell://tunnel%2Brusty/mnt/home/spandey/ceph/AR_NPE/notebooks/TEST_ROCKSTAR_RUNS/FINAL_CHECK_Ntot_M1_only.ipynb#X63sdnNjb2RlLXJlbW90ZQ%3D%3D?line=42'>43</a>\u001b[0m \u001b[39m# cond_tensor_nsh_jd = cond_tensor_nsh_jd.cuda(dev)\u001b[39;00m\n\u001b[0;32m   (...)\u001b[0m\n\u001b[1;32m     <a href='vscode-notebook-cell://tunnel%2Brusty/mnt/home/spandey/ceph/AR_NPE/notebooks/TEST_ROCKSTAR_RUNS/FINAL_CHECK_Ntot_M1_only.ipynb#X63sdnNjb2RlLXJlbW90ZQ%3D%3D?line=51'>52</a>\u001b[0m \u001b[39m#     X_M1_FP_jd = X_M1_FP_jd.cuda(dev)\u001b[39;00m\n\u001b[1;32m     <a href='vscode-notebook-cell://tunnel%2Brusty/mnt/home/spandey/ceph/AR_NPE/notebooks/TEST_ROCKSTAR_RUNS/FINAL_CHECK_Ntot_M1_only.ipynb#X63sdnNjb2RlLXJlbW90ZQ%3D%3D?line=52'>53</a>\u001b[0m \u001b[39m# torch.cuda.empty_cache()\u001b[39;00m\n\u001b[0;32m---> <a href='vscode-notebook-cell://tunnel%2Brusty/mnt/home/spandey/ceph/AR_NPE/notebooks/TEST_ROCKSTAR_RUNS/FINAL_CHECK_Ntot_M1_only.ipynb#X63sdnNjb2RlLXJlbW90ZQ%3D%3D?line=54'>55</a>\u001b[0m loss \u001b[39m=\u001b[39m model(\n\u001b[1;32m     <a href='vscode-notebook-cell://tunnel%2Brusty/mnt/home/spandey/ceph/AR_NPE/notebooks/TEST_ROCKSTAR_RUNS/FINAL_CHECK_Ntot_M1_only.ipynb#X63sdnNjb2RlLXJlbW90ZQ%3D%3D?line=55'>56</a>\u001b[0m     X_Mdiff_jd,\n\u001b[1;32m     <a href='vscode-notebook-cell://tunnel%2Brusty/mnt/home/spandey/ceph/AR_NPE/notebooks/TEST_ROCKSTAR_RUNS/FINAL_CHECK_Ntot_M1_only.ipynb#X63sdnNjb2RlLXJlbW90ZQ%3D%3D?line=56'>57</a>\u001b[0m     X_M1_jd,\n\u001b[1;32m     <a href='vscode-notebook-cell://tunnel%2Brusty/mnt/home/spandey/ceph/AR_NPE/notebooks/TEST_ROCKSTAR_RUNS/FINAL_CHECK_Ntot_M1_only.ipynb#X63sdnNjb2RlLXJlbW90ZQ%3D%3D?line=57'>58</a>\u001b[0m     X_Nhalo_jd,\n\u001b[1;32m     <a href='vscode-notebook-cell://tunnel%2Brusty/mnt/home/spandey/ceph/AR_NPE/notebooks/TEST_ROCKSTAR_RUNS/FINAL_CHECK_Ntot_M1_only.ipynb#X63sdnNjb2RlLXJlbW90ZQ%3D%3D?line=58'>59</a>\u001b[0m     cond_x\u001b[39m=\u001b[39;49mcond_tensor_jd,\n\u001b[1;32m     <a href='vscode-notebook-cell://tunnel%2Brusty/mnt/home/spandey/ceph/AR_NPE/notebooks/TEST_ROCKSTAR_RUNS/FINAL_CHECK_Ntot_M1_only.ipynb#X63sdnNjb2RlLXJlbW90ZQ%3D%3D?line=59'>60</a>\u001b[0m     cond_x_nsh\u001b[39m=\u001b[39;49mcond_tensor_nsh_jd,\n\u001b[1;32m     <a href='vscode-notebook-cell://tunnel%2Brusty/mnt/home/spandey/ceph/AR_NPE/notebooks/TEST_ROCKSTAR_RUNS/FINAL_CHECK_Ntot_M1_only.ipynb#X63sdnNjb2RlLXJlbW90ZQ%3D%3D?line=60'>61</a>\u001b[0m     mask_Mdiff_truth_all\u001b[39m=\u001b[39;49mmask_tensor_Mdiff_train_jd,\n\u001b[1;32m     <a href='vscode-notebook-cell://tunnel%2Brusty/mnt/home/spandey/ceph/AR_NPE/notebooks/TEST_ROCKSTAR_RUNS/FINAL_CHECK_Ntot_M1_only.ipynb#X63sdnNjb2RlLXJlbW90ZQ%3D%3D?line=61'>62</a>\u001b[0m     mask_M1_truth_all\u001b[39m=\u001b[39;49mmask_tensor_M1_train_jd,\n\u001b[1;32m     <a href='vscode-notebook-cell://tunnel%2Brusty/mnt/home/spandey/ceph/AR_NPE/notebooks/TEST_ROCKSTAR_RUNS/FINAL_CHECK_Ntot_M1_only.ipynb#X63sdnNjb2RlLXJlbW90ZQ%3D%3D?line=62'>63</a>\u001b[0m     Nhalos_truth_all\u001b[39m=\u001b[39;49mNhalos_truth_tensor_jd,\n\u001b[1;32m     <a href='vscode-notebook-cell://tunnel%2Brusty/mnt/home/spandey/ceph/AR_NPE/notebooks/TEST_ROCKSTAR_RUNS/FINAL_CHECK_Ntot_M1_only.ipynb#X63sdnNjb2RlLXJlbW90ZQ%3D%3D?line=63'>64</a>\u001b[0m     use_Ntot_samples\u001b[39m=\u001b[39;49m\u001b[39mFalse\u001b[39;49;00m,\n\u001b[1;32m     <a href='vscode-notebook-cell://tunnel%2Brusty/mnt/home/spandey/ceph/AR_NPE/notebooks/TEST_ROCKSTAR_RUNS/FINAL_CHECK_Ntot_M1_only.ipynb#X63sdnNjb2RlLXJlbW90ZQ%3D%3D?line=64'>65</a>\u001b[0m     use_M1_samples\u001b[39m=\u001b[39;49m\u001b[39mFalse\u001b[39;49;00m,\n\u001b[1;32m     <a href='vscode-notebook-cell://tunnel%2Brusty/mnt/home/spandey/ceph/AR_NPE/notebooks/TEST_ROCKSTAR_RUNS/FINAL_CHECK_Ntot_M1_only.ipynb#X63sdnNjb2RlLXJlbW90ZQ%3D%3D?line=65'>66</a>\u001b[0m     train_Ntot\u001b[39m=\u001b[39;49mtrain_Ntot,\n\u001b[1;32m     <a href='vscode-notebook-cell://tunnel%2Brusty/mnt/home/spandey/ceph/AR_NPE/notebooks/TEST_ROCKSTAR_RUNS/FINAL_CHECK_Ntot_M1_only.ipynb#X63sdnNjb2RlLXJlbW90ZQ%3D%3D?line=66'>67</a>\u001b[0m     train_M1\u001b[39m=\u001b[39;49mtrain_M1,\n\u001b[1;32m     <a href='vscode-notebook-cell://tunnel%2Brusty/mnt/home/spandey/ceph/AR_NPE/notebooks/TEST_ROCKSTAR_RUNS/FINAL_CHECK_Ntot_M1_only.ipynb#X63sdnNjb2RlLXJlbW90ZQ%3D%3D?line=67'>68</a>\u001b[0m     train_Mdiff\u001b[39m=\u001b[39;49mtrain_Mdiff,\n\u001b[1;32m     <a href='vscode-notebook-cell://tunnel%2Brusty/mnt/home/spandey/ceph/AR_NPE/notebooks/TEST_ROCKSTAR_RUNS/FINAL_CHECK_Ntot_M1_only.ipynb#X63sdnNjb2RlLXJlbW90ZQ%3D%3D?line=68'>69</a>\u001b[0m     \u001b[39m# x_Mdiff_FP=X_Mdiff_FP,\u001b[39;49;00m\n\u001b[1;32m     <a href='vscode-notebook-cell://tunnel%2Brusty/mnt/home/spandey/ceph/AR_NPE/notebooks/TEST_ROCKSTAR_RUNS/FINAL_CHECK_Ntot_M1_only.ipynb#X63sdnNjb2RlLXJlbW90ZQ%3D%3D?line=69'>70</a>\u001b[0m     x_M1_FP\u001b[39m=\u001b[39;49mX_M1_FP_jd,\n\u001b[1;32m     <a href='vscode-notebook-cell://tunnel%2Brusty/mnt/home/spandey/ceph/AR_NPE/notebooks/TEST_ROCKSTAR_RUNS/FINAL_CHECK_Ntot_M1_only.ipynb#X63sdnNjb2RlLXJlbW90ZQ%3D%3D?line=70'>71</a>\u001b[0m     \u001b[39m# x_Ntot_FP=X_Nhalo_FP,\u001b[39;49;00m\n\u001b[1;32m     <a href='vscode-notebook-cell://tunnel%2Brusty/mnt/home/spandey/ceph/AR_NPE/notebooks/TEST_ROCKSTAR_RUNS/FINAL_CHECK_Ntot_M1_only.ipynb#X63sdnNjb2RlLXJlbW90ZQ%3D%3D?line=71'>72</a>\u001b[0m     \u001b[39m# Nhalos_truth_all_FP=Nhalos_truth_tensor_FP,\u001b[39;49;00m\n\u001b[1;32m     <a href='vscode-notebook-cell://tunnel%2Brusty/mnt/home/spandey/ceph/AR_NPE/notebooks/TEST_ROCKSTAR_RUNS/FINAL_CHECK_Ntot_M1_only.ipynb#X63sdnNjb2RlLXJlbW90ZQ%3D%3D?line=72'>73</a>\u001b[0m     \u001b[39m# mask_Mdiff_truth_all_FP=mask_tensor_Mdiff_train_FP,\u001b[39;49;00m\n\u001b[1;32m     <a href='vscode-notebook-cell://tunnel%2Brusty/mnt/home/spandey/ceph/AR_NPE/notebooks/TEST_ROCKSTAR_RUNS/FINAL_CHECK_Ntot_M1_only.ipynb#X63sdnNjb2RlLXJlbW90ZQ%3D%3D?line=73'>74</a>\u001b[0m     mask_M1_truth_all_FP\u001b[39m=\u001b[39;49mmask_tensor_M1_train_FP_jd,\n\u001b[1;32m     <a href='vscode-notebook-cell://tunnel%2Brusty/mnt/home/spandey/ceph/AR_NPE/notebooks/TEST_ROCKSTAR_RUNS/FINAL_CHECK_Ntot_M1_only.ipynb#X63sdnNjb2RlLXJlbW90ZQ%3D%3D?line=74'>75</a>\u001b[0m     L2norm_Ntothist\u001b[39m=\u001b[39;49mL2norm_Ntothist,\n\u001b[1;32m     <a href='vscode-notebook-cell://tunnel%2Brusty/mnt/home/spandey/ceph/AR_NPE/notebooks/TEST_ROCKSTAR_RUNS/FINAL_CHECK_Ntot_M1_only.ipynb#X63sdnNjb2RlLXJlbW90ZQ%3D%3D?line=75'>76</a>\u001b[0m     L2norm_M1hist\u001b[39m=\u001b[39;49mL2norm_M1hist        \n\u001b[1;32m     <a href='vscode-notebook-cell://tunnel%2Brusty/mnt/home/spandey/ceph/AR_NPE/notebooks/TEST_ROCKSTAR_RUNS/FINAL_CHECK_Ntot_M1_only.ipynb#X63sdnNjb2RlLXJlbW90ZQ%3D%3D?line=76'>77</a>\u001b[0m     )\n\u001b[1;32m     <a href='vscode-notebook-cell://tunnel%2Brusty/mnt/home/spandey/ceph/AR_NPE/notebooks/TEST_ROCKSTAR_RUNS/FINAL_CHECK_Ntot_M1_only.ipynb#X63sdnNjb2RlLXJlbW90ZQ%3D%3D?line=78'>79</a>\u001b[0m loss\u001b[39m.\u001b[39mbackward()\n\u001b[1;32m     <a href='vscode-notebook-cell://tunnel%2Brusty/mnt/home/spandey/ceph/AR_NPE/notebooks/TEST_ROCKSTAR_RUNS/FINAL_CHECK_Ntot_M1_only.ipynb#X63sdnNjb2RlLXJlbW90ZQ%3D%3D?line=79'>80</a>\u001b[0m optimizer\u001b[39m.\u001b[39mstep()\n",
      "File \u001b[0;32m~/ceph/.venv/lib/python3.9/site-packages/torch/nn/modules/module.py:1501\u001b[0m, in \u001b[0;36mModule._call_impl\u001b[0;34m(self, *args, **kwargs)\u001b[0m\n\u001b[1;32m   1496\u001b[0m \u001b[39m# If we don't have any hooks, we want to skip the rest of the logic in\u001b[39;00m\n\u001b[1;32m   1497\u001b[0m \u001b[39m# this function, and just call forward.\u001b[39;00m\n\u001b[1;32m   1498\u001b[0m \u001b[39mif\u001b[39;00m \u001b[39mnot\u001b[39;00m (\u001b[39mself\u001b[39m\u001b[39m.\u001b[39m_backward_hooks \u001b[39mor\u001b[39;00m \u001b[39mself\u001b[39m\u001b[39m.\u001b[39m_backward_pre_hooks \u001b[39mor\u001b[39;00m \u001b[39mself\u001b[39m\u001b[39m.\u001b[39m_forward_hooks \u001b[39mor\u001b[39;00m \u001b[39mself\u001b[39m\u001b[39m.\u001b[39m_forward_pre_hooks\n\u001b[1;32m   1499\u001b[0m         \u001b[39mor\u001b[39;00m _global_backward_pre_hooks \u001b[39mor\u001b[39;00m _global_backward_hooks\n\u001b[1;32m   1500\u001b[0m         \u001b[39mor\u001b[39;00m _global_forward_hooks \u001b[39mor\u001b[39;00m _global_forward_pre_hooks):\n\u001b[0;32m-> 1501\u001b[0m     \u001b[39mreturn\u001b[39;00m forward_call(\u001b[39m*\u001b[39;49margs, \u001b[39m*\u001b[39;49m\u001b[39m*\u001b[39;49mkwargs)\n\u001b[1;32m   1502\u001b[0m \u001b[39m# Do not call functions when jit is used\u001b[39;00m\n\u001b[1;32m   1503\u001b[0m full_backward_hooks, non_full_backward_hooks \u001b[39m=\u001b[39m [], []\n",
      "File \u001b[0;32m/mnt/ceph/users/spandey/AR_NPE/nf/combined_models.py:276\u001b[0m, in \u001b[0;36mCOMBINED_Model.forward\u001b[0;34m(self, x_Mdiff, x_M1, x_Ntot, cond_x, cond_x_nsh, mask_Mdiff_truth_all, mask_M1_truth_all, Nhalos_truth_all, use_Ntot_samples, use_M1_samples, reg_M1, train_Ntot, train_M1, train_Mdiff, x_Mdiff_FP, x_M1_FP, x_Ntot_FP, Nhalos_truth_all_FP, mask_Mdiff_truth_all_FP, mask_M1_truth_all_FP, L2norm_M1hist, L2norm_Ntothist, delta_low, delta_mid1, delta_mid2, Ntot_hist_min, Ntot_hist_max, nbins_Ntot, nbins_M1, M1_hist_min, M1_hist_max)\u001b[0m\n\u001b[1;32m    272\u001b[0m \u001b[39m# import pdb; pdb.set_trace()\u001b[39;00m\n\u001b[1;32m    273\u001b[0m \u001b[39mif\u001b[39;00m use_M1_samples \u001b[39mor\u001b[39;00m L2norm_M1hist:\n\u001b[1;32m    274\u001b[0m     \u001b[39m# M1_samp = self.M1_model.inverse(cond_inp_M1, mask_M1_truth).detach().numpy()\u001b[39;00m\n\u001b[1;32m    275\u001b[0m     \u001b[39m# M1_samp = np.maximum(M1_samp, 0)\u001b[39;00m\n\u001b[0;32m--> 276\u001b[0m     M1_samp, _ \u001b[39m=\u001b[39m \u001b[39mself\u001b[39;49m\u001b[39m.\u001b[39;49mM1_model\u001b[39m.\u001b[39;49minverse(cond_inp_M1, mask_M1_truth[:,\u001b[39mNone\u001b[39;49;00m])\n\u001b[1;32m    278\u001b[0m \u001b[39mif\u001b[39;00m L2norm_M1hist:\n\u001b[1;32m    279\u001b[0m     ind_M1_unmasked \u001b[39m=\u001b[39m torch\u001b[39m.\u001b[39mwhere(mask_M1_truth \u001b[39m>\u001b[39m \u001b[39m0\u001b[39m)[\u001b[39m0\u001b[39m]\n",
      "File \u001b[0;32m/mnt/ceph/users/spandey/AR_NPE/nf/all_models.py:505\u001b[0m, in \u001b[0;36mNSF_M1_CNNcond.inverse\u001b[0;34m(self, cond_inp, mask)\u001b[0m\n\u001b[1;32m    503\u001b[0m \u001b[39melif\u001b[39;00m \u001b[39mself\u001b[39m\u001b[39m.\u001b[39mbase_dist \u001b[39m==\u001b[39m \u001b[39m'\u001b[39m\u001b[39mphysical_hmf\u001b[39m\u001b[39m'\u001b[39m:\n\u001b[1;32m    504\u001b[0m     u \u001b[39m=\u001b[39m torch\u001b[39m.\u001b[39mrand(cond_inp\u001b[39m.\u001b[39mshape[\u001b[39m0\u001b[39m])\n\u001b[0;32m--> 505\u001b[0m     u \u001b[39m=\u001b[39m u\u001b[39m.\u001b[39;49mto(\u001b[39m'\u001b[39;49m\u001b[39mcuda\u001b[39;49m\u001b[39m'\u001b[39;49m)\n\u001b[1;32m    506\u001b[0m     \u001b[39m# import pdb; pdb.set_trace()\u001b[39;00m\n\u001b[1;32m    507\u001b[0m     \u001b[39m# x = interpolate(torch.log(u)[None,:], torch.log(self.hmf_cdf_tointerp[:,1:]), self.lgM_rs_tointerp[:,1:])[0,:]\u001b[39;00m\n\u001b[1;32m    508\u001b[0m     x \u001b[39m=\u001b[39m interpolate((u)[\u001b[39mNone\u001b[39;00m,:], (\u001b[39mself\u001b[39m\u001b[39m.\u001b[39mhmf_cdf_tointerp[:,\u001b[39m1\u001b[39m:]), \u001b[39mself\u001b[39m\u001b[39m.\u001b[39mlgM_rs_tointerp[:,\u001b[39m1\u001b[39m:])[\u001b[39m0\u001b[39m,:]\n",
      "\u001b[0;31mKeyboardInterrupt\u001b[0m: "
     ]
    }
   ],
   "source": [
    "jf = 0\n",
    "save_bestfit_model_name = save_bestfit_model_dir + '/flow_' + str(jf)\n",
    "for jn in (range(len(nepochs_array))):\n",
    "    loss_min = 1e20\n",
    "    torch.cuda.empty_cache()\n",
    "    ninit = 0\n",
    "    nepochs = nepochs_array[jn]\n",
    "    for g in optimizer.param_groups:\n",
    "        g['lr'] = 0.01\n",
    "\n",
    "    if nepochs > 0:\n",
    "        train_Ntot = train_Ntot_array[jn]\n",
    "        train_M1 = train_M1_array[jn]\n",
    "        train_Mdiff = train_Mdiff_array[jn]\n",
    "\n",
    "        # if jn > 0:\n",
    "        #     print('loading bestfit model')\n",
    "        #     bestfit_model = (torch.load(save_bestfit_model_name))\n",
    "        #     model.load_state_dict(bestfit_model['state_dict'])\n",
    "        #     optimizer.load_state_dict(bestfit_model['optimizer'])\n",
    "        #     scheduler.load_state_dict(bestfit_model['scheduler'])\n",
    "        #     # loss_min = bestfit_model['loss_min']\n",
    "        #     loss = bestfit_model['loss']\n",
    "        #     lr = bestfit_model['lr']\n",
    "        #     for g in optimizer.param_groups:\n",
    "        #         g['lr'] = learning_rate\n",
    "\n",
    "        for jt in tqdm(range(nepochs)):\n",
    "            # for jd in range(len(dataloader)):\n",
    "            torch.cuda.empty_cache()\n",
    "            # optimizer.zero_grad()\n",
    "            cond_tensor_jd, cond_tensor_nsh_jd, mask_tensor_M1_train_jd, mask_tensor_Mdiff_train_jd, X_M1_jd, \\\n",
    "                X_Nhalo_jd, X_Mdiff_jd, Nhalos_truth_tensor_jd, mask_tensor_M1_train_FP_jd, X_M1_FP_jd = cond_tensor, cond_tensor_nsh, mask_tensor_M1_train, mask_tensor_Mdiff_train, X_M1, \\\n",
    "                        X_Nhalo, X_Mdiff, Nhalos_truth_tensor, mask_tensor_M1_train_FP, X_M1_FP\n",
    "\n",
    "            if cond_sim == 'quijote':               \n",
    "                mask_tensor_M1_train_FP_jd = None\n",
    "                X_M1_FP_jd = None\n",
    "            \n",
    "            torch.cuda.empty_cache()\n",
    "            # if 1-all_gpu:\n",
    "            # cond_tensor_jd = cond_tensor_jd.cuda(dev)\n",
    "            # cond_tensor_nsh_jd = cond_tensor_nsh_jd.cuda(dev)\n",
    "            # mask_tensor_M1_train_jd = mask_tensor_M1_train_jd.cuda(dev)\n",
    "            # mask_tensor_Mdiff_train_jd = mask_tensor_Mdiff_train_jd.cuda(dev)\n",
    "            # X_M1_jd = X_M1_jd.cuda(dev)\n",
    "            # X_Nhalo_jd = X_Nhalo_jd.cuda(dev)\n",
    "            # X_Mdiff_jd = X_Mdiff_jd.cuda(dev)\n",
    "            # Nhalos_truth_tensor_jd = Nhalos_truth_tensor_jd.cuda(dev)\n",
    "            # if mask_tensor_M1_train_FP_jd is not None:\n",
    "            #     mask_tensor_M1_train_FP_jd = mask_tensor_M1_train_FP_jd.cuda(dev)\n",
    "            #     X_M1_FP_jd = X_M1_FP_jd.cuda(dev)\n",
    "            # torch.cuda.empty_cache()\n",
    "                            \n",
    "            loss = model(\n",
    "                X_Mdiff_jd,\n",
    "                X_M1_jd,\n",
    "                X_Nhalo_jd,\n",
    "                cond_x=cond_tensor_jd,\n",
    "                cond_x_nsh=cond_tensor_nsh_jd,\n",
    "                mask_Mdiff_truth_all=mask_tensor_Mdiff_train_jd,\n",
    "                mask_M1_truth_all=mask_tensor_M1_train_jd,\n",
    "                Nhalos_truth_all=Nhalos_truth_tensor_jd,\n",
    "                use_Ntot_samples=False,\n",
    "                use_M1_samples=False,\n",
    "                train_Ntot=train_Ntot,\n",
    "                train_M1=train_M1,\n",
    "                train_Mdiff=train_Mdiff,\n",
    "                # x_Mdiff_FP=X_Mdiff_FP,\n",
    "                x_M1_FP=X_M1_FP_jd,\n",
    "                # x_Ntot_FP=X_Nhalo_FP,\n",
    "                # Nhalos_truth_all_FP=Nhalos_truth_tensor_FP,\n",
    "                # mask_Mdiff_truth_all_FP=mask_tensor_Mdiff_train_FP,\n",
    "                mask_M1_truth_all_FP=mask_tensor_M1_train_FP_jd,\n",
    "                L2norm_Ntothist=L2norm_Ntothist,\n",
    "                L2norm_M1hist=L2norm_M1hist        \n",
    "                )\n",
    "\n",
    "            loss.backward()\n",
    "            optimizer.step()\n",
    "            scheduler.step(loss)\n",
    "            epoch_tot_counter += 1\n",
    "            if (np.mod(jt, int(nepochs / 50)) == 0) or (jt == nepochs - 1):\n",
    "                if float(loss.cpu().detach().numpy()) < loss_min:\n",
    "                    loss_min = float(loss.cpu().detach().numpy())\n",
    "                    print('saving bf at:', ', with loss:', np.round(loss_min, 5), ', at epoch:', jt, \n",
    "                        'learning rate:', optimizer.param_groups[0]['lr'], ', train_Ntot:', train_Ntot, \n",
    "                        'train_M1:', train_M1, ', train_Mdiff:', train_Mdiff, ', epoch_tot_counter:', epoch_tot_counter)\n",
    "                    lr=optimizer.param_groups[0]['lr']\n",
    "                    # print(loss_min, lr)\n",
    "                    state = {'loss_min': loss_min, 'state_dict': model.state_dict(), 'optimizer': optimizer.state_dict(),\n",
    "                            'scheduler': scheduler.state_dict(), 'loss':loss, 'lr':lr, 'epoch_tot_counter':epoch_tot_counter}\n",
    "\n",
    "                    torch.save(\n",
    "                        state, save_bestfit_model_name\n",
    "                        )\n",
    "\n",
    "\n"
   ]
  },
  {
   "cell_type": "code",
   "execution_count": 16,
   "metadata": {},
   "outputs": [
    {
     "data": {
      "image/png": "[encoded data removed]",
      "text/plain": [
       "<Figure size 640x480 with 1 Axes>"
      ]
     },
     "metadata": {},
     "output_type": "display_data"
    }
   ],
   "source": [
    "# model_Ntot\n",
    "# base_dist_Ntot\n",
    "# 203968/1817977 \n",
    "cond_out = model.conv_layers(cond_tensor_jd[0])\n",
    "cond_out = torch.cat((cond_out, cond_tensor_nsh_jd[0]), dim=1)\n",
    "# if self.sep_Ntot_cond:\n",
    "cond_out_Ntot = model.cond_Ntot_layer(cond_out)\n",
    "\n",
    "Ntot_samp_tensor = model_Ntot.inverse(cond_out_Ntot)\n",
    "Ntot_samp = np.maximum(np.round(Ntot_samp_tensor.cpu().detach().numpy()) - 1, 0).astype(int)\n",
    "pl.figure()\n",
    "_ = pl.hist(Ntot_samp, bins=100, density=True, alpha=0.5)\n",
    "_ = pl.hist(0.2+Nhalos_truth_tensor_jd[0,...].cpu().detach().numpy(), bins=100, density=True, alpha=0.5)\n",
    "pl.yscale('log')\n",
    "\n"
   ]
  },
  {
   "cell_type": "code",
   "execution_count": null,
   "metadata": {},
   "outputs": [],
   "source": [
    "# # model_Ntot\n",
    "# # base_dist_Ntot\n",
    "# # 203968/1817977 \n",
    "# cond_out = model.conv_layers(cond_tensor_jd[0])\n",
    "# cond_out = torch.cat((cond_out, cond_tensor_nsh_jd[0]), dim=1)\n",
    "# # if self.sep_Ntot_cond:\n",
    "# # cond_out_Ntot = model.cond_Ntot_layer(cond_out)\n",
    "# cond_inp_M1 = torch.cat([Nhalos_truth_tensor_jd[0], cond_out], dim=1)\n",
    "# cond_inp_M1 = torch.cat([cond_inp_M1, X_M1_FP_jd[0]], dim=1)\n",
    "# cond_inp_M1 = torch.cat([cond_inp_M1, mask_tensor_M1_train_FP_jd[0][:,None]], dim=1)\n",
    "# cond_inp_M1 = model.cond_M1_layer(cond_inp_M1)\n",
    "\n",
    "# # Ntot_samp_tensor = model_Ntot.inverse(cond_out_Ntot)\n",
    "# M1_samp, _ = model.M1_model.inverse(cond_inp_M1, mask_tensor_M1_samp)\n",
    "\n",
    "# Ntot_samp = np.maximum(np.round(Ntot_samp_tensor.cpu().detach().numpy()) - 1, 0).astype(int)\n",
    "# pl.figure()\n",
    "# _ = pl.hist(Ntot_samp, bins=100, density=True, alpha=0.5)\n",
    "# _ = pl.hist(0.2+Nhalos_truth_tensor_jd[0,...].cpu().detach().numpy(), bins=100, density=True, alpha=0.5)\n",
    "# pl.yscale('log')\n",
    "\n"
   ]
  },
  {
   "cell_type": "code",
   "execution_count": 8,
   "metadata": {},
   "outputs": [
    {
     "name": "stdout",
     "output_type": "stream",
     "text": [
      "\n"
     ]
    }
   ],
   "source": [
    "# # for jf in range(7):\n",
    "# #     save_bestfit_model_name = save_bestfit_model_dir + '/flow_' + str(jf)\n",
    "# #     bestfit_model = (torch.load(save_bestfit_model_name))\n",
    "# #     loss_min = bestfit_model['loss_min']\n",
    "# #     print(loss_min)\n",
    "\n",
    "# num_cond_Ntot = num_cond\n",
    "\n",
    "# model_Ntot = SumGaussModel(\n",
    "#     hidden_dim=hidden_dim_MAF,\n",
    "#     num_cond=num_cond_Ntot,\n",
    "#     ngauss=return_dict_train['ngauss_Nhalo'],\n",
    "#     mu_all=return_dict_train['mu_all'],\n",
    "#     sig_all=return_dict_train['sig_all'],\n",
    "#     base_dist=base_dist_Ntot   \n",
    "#     )\n",
    "\n",
    "# num_cond_M1 = num_cond + 1\n",
    "# # if conditioned on fastpm we will also give the fastpm fof M1 halos and its mask as conditional\n",
    "# if cond_sim == 'fastpm':\n",
    "#     num_cond_M1 += 2\n",
    "\n",
    "# model_M1 = NSF_M1_CNNcond(\n",
    "#     K=K_M1,\n",
    "#     B=B_M1,\n",
    "#     hidden_dim=hidden_dim_MAF,\n",
    "#     num_cond=num_cond_M1,\n",
    "#     nflows=nflows_M1_NSF,\n",
    "#     base_dist=base_dist_M1,\n",
    "#     ngauss=ngauss_M1,\n",
    "#     lgM_rs_tointerp=lgM_rescaled,\n",
    "#     hmf_pdf_tointerp=hmf_pdf,\n",
    "#     hmf_cdf_tointerp=hmf_cdf    \n",
    "#     )\n",
    "\n",
    "# ndim_diff = return_dict_train['M_diff_halos_all_norm_masked'][0].shape[2]\n",
    "# num_cond_Mdiff = num_cond + 2\n",
    "# model_Mdiff = NSF_Mdiff_CNNcond(\n",
    "#     dim=ndim_diff,\n",
    "#     K=K_Mdiff,\n",
    "#     B=B_Mdiff,\n",
    "#     hidden_dim=hidden_dim_MAF,\n",
    "#     num_cond=num_cond_Mdiff,\n",
    "#     nflows=nflows_Mdiff_NSF,\n",
    "#     base_dist=base_dist_Mdiff,\n",
    "#     mu_pos=True\n",
    "#     )\n",
    "\n",
    "# ndim = ndim_diff + 1\n",
    "# model = COMBINED_Model(\n",
    "#     None,\n",
    "#     model_Mdiff,\n",
    "#     # None,\n",
    "#     model_M1,\n",
    "#     model_Ntot,\n",
    "#     ndim,\n",
    "#     ksize,\n",
    "#     ns_d,\n",
    "#     ns_h,\n",
    "#     nb,\n",
    "#     ninp,\n",
    "#     nfeature_cnn,\n",
    "#     nout_cnn,\n",
    "#     layers_types=layers_types,\n",
    "#     act='tanh',\n",
    "#     padding='valid',\n",
    "#     sep_Ntot_cond=True,\n",
    "#     sep_M1_cond=True,\n",
    "#     sep_Mdiff_cond=True,\n",
    "#     num_cond_Ntot = num_cond_Ntot,\n",
    "#     num_cond_M1 = num_cond_M1,\n",
    "#     num_cond_Mdiff = num_cond_Mdiff\n",
    "#     )\n",
    "\n",
    "# model.to(dev)\n",
    "\n",
    "# print()\n",
    "\n",
    "# optimizer = optim.Adam(model.parameters(), lr=learning_rate)\n",
    "\n",
    "# loss_all_it = []\n",
    "# loss_min = 1e20\n",
    "# epoch_tot_counter = 0\n",
    "# scheduler = optim.lr_scheduler.ReduceLROnPlateau(optimizer, 'min', factor=0.5, patience=200, verbose=True, cooldown=200, min_lr=1e-8)\n",
    "\n",
    "# save_bestfit_model_name = save_bestfit_model_dir + '/flow_' + str(0)\n",
    "# bestfit_model = (torch.load(save_bestfit_model_name))\n",
    "# model.load_state_dict(bestfit_model['state_dict'])\n",
    "# optimizer.load_state_dict(bestfit_model['optimizer'])\n",
    "# scheduler.load_state_dict(bestfit_model['scheduler'])\n",
    "# # loss_min = bestfit_model['loss_min']\n",
    "# loss = bestfit_model['loss']\n"
   ]
  },
  {
   "cell_type": "code",
   "execution_count": 9,
   "metadata": {},
   "outputs": [
    {
     "name": "stdout",
     "output_type": "stream",
     "text": [
      "tensor([-1.2101], device='cuda:0', requires_grad=True)\n"
     ]
    }
   ],
   "source": [
    "print(loss)\n"
   ]
  },
  {
   "cell_type": "code",
   "execution_count": 10,
   "metadata": {},
   "outputs": [],
   "source": [
    "# print('loading bestfit model')\n",
    "# bestfit_model = (torch.load(save_bestfit_model_name))\n",
    "# model.load_state_dict(bestfit_model['state_dict'])\n",
    "# optimizer.load_state_dict(bestfit_model['optimizer'])\n",
    "# scheduler.load_state_dict(bestfit_model['scheduler'])\n",
    "# loss_min = bestfit_model['loss_min']\n",
    "# loss = bestfit_model['loss']\n",
    "# lr = bestfit_model['lr']\n",
    "# epoch_tot_counter = bestfit_model['epoch_tot_counter']\n",
    "# for g in optimizer.param_groups:\n",
    "#     g['lr'] = lr\n",
    "\n",
    "# print(loss_min, epoch_tot_counter, lr)\n",
    "\n",
    "\n"
   ]
  },
  {
   "cell_type": "code",
   "execution_count": 20,
   "metadata": {},
   "outputs": [
    {
     "name": "stdout",
     "output_type": "stream",
     "text": [
      "0.4250197410583496 5000 uniform_cic\n",
      "DOING SIM NUMBER:1\n",
      "[1730211  256729   78552   23130    6386    1671     370      76      21\n",
      "       0       3       3]\n",
      "[1727358  258423   79364   23661    6363    1535     355      79      10\n",
      "       2       2       0]\n"
     ]
    }
   ],
   "source": [
    "import readfof\n",
    "import numpy as np\n",
    "import pickle as pk \n",
    "# from nbodykit.lab import *\n",
    "import h5py as h5\n",
    "import numpy as np\n",
    "import Pk_library as PKL\n",
    "import MAS_library as MASL\n",
    "import yaml\n",
    "\n",
    "print(loss_min, epoch_tot_counter, stype)\n",
    "\n",
    "train_Ntot, train_M1, train_Mdiff = 1, 1, 0\n",
    "# train_Ntot, train_M1, train_Mdiff = 1, 1, 0\n",
    "# train_Ntot, train_M1, train_Mdiff = 1, 0, 0\n",
    "isim_start = 1\n",
    "isim_end = 2\n",
    "isim_all = np.arange(isim_start, isim_end).astype(int)\n",
    "for ji in range(len(isim_all)):\n",
    "    saved_all_jsim = {}\n",
    "    # now we load the test data\n",
    "    isim = isim_all[ji]\n",
    "    print('DOING SIM NUMBER:' + str(isim))\n",
    "    nstart = 0\n",
    "    nsims_test = 512\n",
    "    df_d_all_test, df_d_all_nsh_test, df_Mh_all_test, df_Nh_test, _ = load_density_halo_data_NGP(\n",
    "        [isim], ns_d, nb, nf, nc, z_all, ns_h,sdir='/mnt/home/spandey/ceph/Quijote/data_NGP_self',\n",
    "        stype=stype, mass_type=mass_type, lgMmincutstr = lgMmincutstr\n",
    "        )\n",
    "\n",
    "    if cond_sim == 'fastpm':\n",
    "        df_d_all_test_FP, df_d_all_nsh_test_FP, df_Mh_all_test_FP, df_Nh_test_FP, _ = load_density_halo_data_NGP(\n",
    "            [isim], ns_d, nb, nf, nc, z_all_FP, ns_h,sdir='/mnt/home/spandey/ceph/Quijote/data_NGP_self/fastpm',\n",
    "            stype=stype\n",
    "            )\n",
    "\n",
    "    # things are too big to load all at once, so we load in batches\n",
    "    nq = nb**3 // nsims_test\n",
    "    save_subvol_Nhalo = np.zeros((nb**3, nax_h, nax_h, nax_h))\n",
    "    save_subvol_Nhalo_truth = np.zeros((nb**3, nax_h, nax_h, nax_h))\n",
    "    cond_z0_truth = np.zeros((nb**3, nax_h, nax_h, nax_h))\n",
    "    save_subvol_M1 = np.zeros((nb**3, nax_h, nax_h, nax_h, 1))\n",
    "    save_subvol_M1_truth = np.zeros((nb**3, nax_h, nax_h, nax_h, 1))\n",
    "    save_subvol_Mdiff = np.zeros((nb**3, nax_h, nax_h, nax_h, ndim_diff))\n",
    "    save_subvol_Mdiff_truth = np.zeros((nb**3, nax_h, nax_h, nax_h, ndim_diff))\n",
    "    mask_subvol_Mtot = np.zeros((nb**3, nax_h, nax_h, nax_h, ndim_diff + 1))\n",
    "    mask_subvol_Mtot_truth = np.zeros((nb**3, nax_h, nax_h, nax_h, ndim_diff + 1))\n",
    "\n",
    "    # nfeatures_M1_tot = 20\n",
    "    # cond_inp_M1_all = np.zeros((nb**3, nax_h, nax_h, nax_h, nfeatures_M1_tot))\n",
    "    density_out_M1_loc_all_pad = np.zeros((nb**3, nax_h+6, nax_h+6, nax_h+6))\n",
    "    density_out_M1_loc_all = np.zeros((nb**3, nax_h, nax_h, nax_h))\n",
    "\n",
    "    nscount = 0\n",
    "    for jq in range(nq):\n",
    "        # Load the density data\n",
    "\n",
    "\n",
    "        # Prepare the density and halo data\n",
    "        return_dict_test = prep_density_halo_cats(\n",
    "            df_d_all_test,\n",
    "            df_d_all_nsh_test,\n",
    "            df_Mh_all_test,\n",
    "            df_Nh_test,\n",
    "            nsims=nsims_test,\n",
    "            nstart=nscount,\n",
    "            Mmin=lgMmin, Mmax=lgMmax, rescaleM_sub=rescale_sub, Nmax=Nmax\n",
    "            )\n",
    "        \n",
    "        if cond_sim == 'fastpm':\n",
    "            return_dict_test_FP = prep_density_halo_cats(\n",
    "                df_d_all_test_FP,\n",
    "                df_d_all_nsh_test_FP,\n",
    "                df_Mh_all_test_FP,\n",
    "                df_Nh_test_FP,\n",
    "                nsims=nsims_test,\n",
    "                nstart=nscount,\n",
    "                Mmin=lgMmin, Mmax=lgMmax, rescaleM_sub=rescale_sub\n",
    "                )    \n",
    "\n",
    "        if cond_sim == 'fastpm':\n",
    "            cond_tensor_test = torch.Tensor(np.copy(np.array([return_dict_test_FP['df_d_all']]))).cuda(dev)\n",
    "            cond_nsh_test = np.moveaxis(return_dict_test_FP['df_d_all_nsh'], 1, 4)\n",
    "            cond_nsh_test = np.array([cond_nsh_test])\n",
    "            cond_tensor_nsh_test = torch.Tensor(np.copy(cond_nsh_test.reshape(1,nsims_test * (nax_h ** 3), ninp))).cuda(dev)    \n",
    "        else:\n",
    "            cond_tensor_test = torch.Tensor(np.copy(np.array([return_dict_test['df_d_all']]))).cuda(dev)\n",
    "            cond_nsh_test = np.moveaxis(return_dict_test['df_d_all_nsh'], 1, 4)\n",
    "            cond_nsh_test = np.array([cond_nsh_test])\n",
    "            cond_tensor_nsh_test = torch.Tensor(np.copy(cond_nsh_test.reshape(1,nsims_test * (nax_h ** 3), ninp))).cuda(dev)\n",
    "\n",
    "        mask_tensor_M1_test = torch.Tensor(np.copy(return_dict_test['mask_M1'].reshape(1,nsims_test * (nax_h**3)))).cuda(dev)\n",
    "        mask_tensor_Mdiff_test = torch.Tensor(\n",
    "            (return_dict_test['mask_M_diff'].reshape(1,nsims_test * (nax_h**3), ndim_diff))\n",
    "            ).cuda(dev)\n",
    "\n",
    "        X_M1_test = torch.Tensor((return_dict_test['M1_halos_all_norm'].reshape(1,nsims_test * (nax_h**3), 1))).cuda(dev)\n",
    "        X_Nhalo_test = torch.Tensor(return_dict_test['Nhalo_train_mg_arr'].reshape(1,nsims_test * (nax_h**3), 1)).cuda(dev)\n",
    "        X_Mdiff_test = torch.Tensor(\n",
    "            return_dict_test['M_diff_halos_all_norm_masked'].reshape(1,nsims_test * (nax_h**3), ndim_diff)\n",
    "            ).cuda(dev)\n",
    "        Nhalos_truth_tensor_test = torch.Tensor(((return_dict_test['N_halos_all'].reshape(1,nsims_test * (nax_h**3),\n",
    "                                                                                        1)))).cuda(dev)\n",
    "        \n",
    "        if cond_sim == 'fastpm':\n",
    "            mask_tensor_M1_test_FP = torch.Tensor(np.copy(return_dict_test_FP['mask_M1'].reshape(1,nsims_test * (nax_h**3)))).cuda(dev)\n",
    "            # mask_tensor_Mdiff_test_FP = torch.Tensor(\n",
    "            #     (return_dict_test_FP['mask_M_diff'].reshape(1,nsims_test * (nax_h**3), ndim_diff))\n",
    "            #     ).cuda(dev)\n",
    "\n",
    "            X_M1_test_FP = torch.Tensor((return_dict_test_FP['M1_halos_all_norm'].reshape(1,nsims_test * (nax_h**3), 1))).cuda(dev)\n",
    "            X_Nhalo_test_FP = torch.Tensor(return_dict_test_FP['Nhalo_train_mg_arr'].reshape(1,nsims_test * (nax_h**3), 1)).cuda(dev)\n",
    "            # X_Mdiff_test_FP = torch.Tensor(\n",
    "            #     return_dict_test_FP['M_diff_halos_all_norm_masked'].reshape(1,nsims_test * (nax_h**3), ndim_diff)\n",
    "            #     ).cuda(dev)\n",
    "            Nhalos_truth_tensor_test_FP = torch.Tensor(((return_dict_test_FP['N_halos_all'].reshape(1,nsims_test * (nax_h**3),\n",
    "                                                                                            1)))).cuda(dev)\n",
    "        else:\n",
    "            mask_tensor_M1_test_FP = None\n",
    "            mask_tensor_Mdiff_test_FP = None\n",
    "            X_M1_test_FP = None\n",
    "            X_Nhalo_test_FP = None\n",
    "            X_Mdiff_test_FP = None\n",
    "            Nhalos_truth_tensor_test_FP = None\n",
    "\n",
    "        Ntot_samp_test, M1_samp_test, M_diff_samp_test, mask_tensor_M1_samp_test, mask_tensor_Mdiff_samp_test, cond_inp_M1_test = model.inverse(\n",
    "            cond_x=cond_tensor_test,\n",
    "            cond_x_nsh=cond_tensor_nsh_test,\n",
    "            use_truth_Nhalo=1-train_Ntot,\n",
    "                use_truth_M1=1-train_M1,\n",
    "                use_truth_Mdiff=1-train_Mdiff, \n",
    "            mask_Mdiff_truth=mask_tensor_Mdiff_test,\n",
    "            mask_M1_truth=mask_tensor_M1_test,\n",
    "            Nhalos_truth=X_Nhalo_test,\n",
    "            M1_truth=X_M1_test,\n",
    "            Mdiff_truth=X_Mdiff_test,\n",
    "            train_Ntot=train_Ntot,\n",
    "            train_M1=train_M1,\n",
    "            train_Mdiff=train_Mdiff,\n",
    "            x_M1_FP=X_M1_test_FP,   \n",
    "            mask_M1_truth_all_FP=mask_tensor_M1_test_FP \n",
    "            )\n",
    "        Ntot_samp_test = Ntot_samp_test[0][:,np.newaxis]\n",
    "        # print(Ntot_samp_test.shape)\n",
    "        save_subvol_Nhalo[nscount:nscount + nsims_test, ...] = Ntot_samp_test.reshape(nsims_test, nax_h, nax_h, nax_h)\n",
    "        save_subvol_Nhalo_truth[nscount:nscount + nsims_test, ...] = Nhalos_truth_tensor_test.cpu().detach().numpy().reshape(nsims_test, nax_h, nax_h, nax_h)\n",
    "        save_subvol_M1[nscount:nscount + nsims_test,\n",
    "                    ...] = (M1_samp_test[0] * mask_tensor_M1_samp_test[0][:,0]\n",
    "                            ).cpu().detach().numpy().reshape(nsims_test, nax_h, nax_h, nax_h, 1)\n",
    "        save_subvol_M1_truth[nscount:nscount + nsims_test,\n",
    "                    ...] = (X_M1_test[0][:,0] * mask_tensor_M1_test[0]\n",
    "                            ).cpu().detach().numpy().reshape(nsims_test, nax_h, nax_h, nax_h, 1)    \n",
    "        # cond_inp_M1_all[nscount:nscount + nsims_test,\n",
    "        #                ...] = cond_inp_M1_test[0].cpu().detach().numpy().reshape(nsims_test, nax_h, nax_h, nax_h, nfeatures_M1_tot)\n",
    "        # density_out_M1_loc_all_pad[nscount:nscount + nsims_test,...] = (cond_tensor_test[0,:,0,...].cpu().detach().numpy())\n",
    "        # density_out_M1_loc_all[nscount:nscount + nsims_test,...] = (cond_nsh_test[0,...,0])\n",
    "\n",
    "        save_subvol_Mdiff[nscount:nscount + nsims_test,\n",
    "                        ...] = (M_diff_samp_test[0] * mask_tensor_Mdiff_samp_test[0]\n",
    "                                ).cpu().detach().numpy().reshape(nsims_test, nax_h, nax_h, nax_h, ndim_diff)\n",
    "        \n",
    "        save_subvol_Mdiff_truth[nscount:nscount + nsims_test,\n",
    "                        ...] = (X_Mdiff_test[0] * mask_tensor_Mdiff_test[0]\n",
    "                                ).cpu().detach().numpy().reshape(nsims_test, nax_h, nax_h, nax_h, ndim_diff)\n",
    "        \n",
    "        mask_subvol_Mtot[nscount:nscount + nsims_test, ...,\n",
    "                        0] = mask_tensor_M1_samp_test[0].cpu().detach().numpy().reshape(nsims_test, nax_h, nax_h, nax_h)\n",
    "        mask_subvol_Mtot[\n",
    "            nscount:nscount + nsims_test, ...,\n",
    "            1:] = mask_tensor_Mdiff_samp_test[0].cpu().detach().numpy().reshape(nsims_test, nax_h, nax_h, nax_h, ndim_diff)\n",
    "\n",
    "        mask_subvol_Mtot_truth[nscount:nscount + nsims_test, ...,\n",
    "                        0] = mask_tensor_M1_test[0].cpu().detach().numpy().reshape(nsims_test, nax_h, nax_h, nax_h)\n",
    "        mask_subvol_Mtot_truth[\n",
    "            nscount:nscount + nsims_test, ...,\n",
    "            1:] = mask_tensor_Mdiff_test[0].cpu().detach().numpy().reshape(nsims_test, nax_h, nax_h, nax_h, ndim_diff)\n",
    "        \n",
    "        \n",
    "        cond_z0_truth[nscount:nscount + nsims_test, ...] = cond_tensor_nsh_test[0].cpu().detach().numpy().reshape(nsims_test, nax_h, nax_h, nax_h, ninp)[...,0]\n",
    "        # print(nscount, nscount + nsims_test)\n",
    "\n",
    "        nscount += nsims_test\n",
    "        torch.cuda.empty_cache()\n",
    "\n",
    "\n",
    "    save_subvol_Mtot = np.zeros((nb**3, nax_h, nax_h, nax_h, ndim_diff + 1))\n",
    "    Mmin, Mmax = return_dict_test['Mmin'], return_dict_test['Mmax']\n",
    "    for jd in range(ndim_diff + 1):\n",
    "        if jd == 0:\n",
    "            save_subvol_Mtot[..., jd] = (save_subvol_M1[..., 0] + 0.5) * (Mmax - Mmin) + Mmin\n",
    "        else:\n",
    "            save_subvol_Mtot[...,\n",
    "                            jd] = (save_subvol_Mtot[..., jd - 1]) - (save_subvol_Mdiff[..., jd - 1]) * (Mmax - Mmin)\n",
    "\n",
    "\n",
    "    save_subvol_Mtot *= mask_subvol_Mtot\n",
    "\n",
    "    ind_less_Mmin = save_subvol_Mtot < Mmin\n",
    "    ind_greater_Mmax = save_subvol_Mtot > Mmax\n",
    "    save_subvol_Mtot[ind_less_Mmin] = 0.0\n",
    "    save_subvol_Mtot[ind_greater_Mmax] = 0.0\n",
    "\n",
    "\n",
    "    save_subvol_Mtot_truth = np.zeros((nb**3, nax_h, nax_h, nax_h, ndim_diff + 1))\n",
    "    Mmin, Mmax = return_dict_test['Mmin'], return_dict_test['Mmax']\n",
    "    for jd in range(ndim_diff + 1):\n",
    "        if jd == 0:\n",
    "            save_subvol_Mtot_truth[..., jd] = (save_subvol_M1_truth[..., 0] + 0.5) * (Mmax - Mmin) + Mmin\n",
    "        else:\n",
    "            save_subvol_Mtot_truth[...,\n",
    "                            jd] = (save_subvol_Mtot_truth[..., jd - 1]) - (save_subvol_Mdiff_truth[..., jd - 1]) * (Mmax - Mmin)\n",
    "\n",
    "\n",
    "    save_subvol_Mtot_truth *= mask_subvol_Mtot_truth\n",
    "                \n",
    "\n",
    "    sdir='/mnt/home/spandey/ceph/Quijote/data_NGP_self'\n",
    "    # load the halo data\n",
    "    if is_HR:\n",
    "        fname = sdir + '/' + str(isim) + '/halos_HR_' + str(mass_type) + '_lgMmincut_' + lgMmincutstr + '_subvol_res_' + str(ns_h) + '_z=0.pk'\n",
    "    else:\n",
    "        fname = sdir + '/' + str(isim) + '/halos_' + str(mass_type) + '_lgMmincut_' + lgMmincutstr + '_subvol_res_' + str(ns_h) + '_z=0.pk'\n",
    "    df_h_subvol = pk.load(open(fname, 'rb'))\n",
    "    # This has information on the halo mass for all the halos in the voxel\n",
    "    df_Mh_all_truth = df_h_subvol['M_halos']\n",
    "    df_Mh_all_truth = np.flip(np.sort(df_Mh_all_truth, axis=-1), axis=-1)\n",
    "    # This has information on the number of halos in the voxel\n",
    "    df_Nh_truth = df_h_subvol['N_halos']\n",
    "\n",
    "    if is_HR:\n",
    "        fname = sdir + '/' + str(isim) + '/halos_HR_' + str(mass_type) + '_lgMmincut_' + lgMmincutstr + '_full_res_' + str(ns_h) + '_z=0.pk'\n",
    "    else:\n",
    "        fname = sdir + '/' + str(isim) + '/halos_' + str(mass_type) + '_lgMmincut_' + lgMmincutstr + '_full_res_' + str(ns_h) + '_z=0.pk'\n",
    "    df_h_full = pk.load(open(fname, 'rb'))\n",
    "    df_Mh_all_truth_comb, df_Nh_truth_comb = df_h_full['M_halos_combined'], df_h_full['N_halos_combined']\n",
    "\n",
    "    delta_all_z0 = np.exp(df_d_all_nsh_test[:,0,...])-1\n",
    "\n",
    "    bin_cents = np.array(np.arange(Nmax + 1))\n",
    "    bin_edges = 0.5*(bin_cents[1:] + bin_cents[:-1])\n",
    "    bin_edges = np.insert(bin_edges,0, -0.5)\n",
    "    bin_edges = np.insert(bin_edges,len(bin_edges), bin_cents[-1] + 0.5)\n",
    "    saved_all_jsim['Nhalo_bin_cents'] = bin_cents\n",
    "    saved_all_jsim['Nhalo_bin_edges'] = bin_edges\n",
    "\n",
    "    delta_min_p, delta_max_p= -1.0, 500\n",
    "    indsel_dp = np.where((delta_all_z0 > delta_min_p) & (delta_all_z0 < delta_max_p))    \n",
    "    hist_truth_all, _ = np.histogram(df_Nh_truth[indsel_dp], bins=bin_edges)\n",
    "    hist_samp_all, _ = np.histogram(save_subvol_Nhalo[indsel_dp].flatten(), bins=bin_edges)\n",
    "    saved_all_jsim['hist_truth_all_Nhalo'] = hist_truth_all\n",
    "    saved_all_jsim['hist_samp_all_Nhalo'] = hist_samp_all\n",
    "    print(hist_samp_all)\n",
    "    print(hist_truth_all)\n",
    "\n",
    "    delta_min_p, delta_max_p= -1.0, 0\n",
    "    indsel_dp = np.where((delta_all_z0 > delta_min_p) & (delta_all_z0 < delta_max_p))    \n",
    "    hist_truth_low, _ = np.histogram(df_Nh_truth[indsel_dp], bins=bin_edges)\n",
    "    hist_samp_low, _ = np.histogram(save_subvol_Nhalo[indsel_dp].flatten(), bins=bin_edges)\n",
    "    saved_all_jsim['hist_truth_low_Nhalo'] = hist_truth_low\n",
    "    saved_all_jsim['hist_samp_low_Nhalo'] = hist_samp_low\n",
    "\n",
    "    delta_min_p, delta_max_p= 0.0, 2.0\n",
    "    indsel_dp = np.where((delta_all_z0 > delta_min_p) & (delta_all_z0 < delta_max_p))    \n",
    "    hist_truth_mid, _ = np.histogram(df_Nh_truth[indsel_dp], bins=bin_edges)\n",
    "    hist_samp_mid, _ = np.histogram(save_subvol_Nhalo[indsel_dp].flatten(), bins=bin_edges)\n",
    "    saved_all_jsim['hist_truth_mid_Nhalo'] = hist_truth_mid\n",
    "    saved_all_jsim['hist_samp_mid_Nhalo'] = hist_samp_mid\n",
    "\n",
    "    delta_min_p, delta_max_p= 2.0, 500\n",
    "    indsel_dp = np.where((delta_all_z0 > delta_min_p) & (delta_all_z0 < delta_max_p))    \n",
    "    hist_truth_high, _ = np.histogram(df_Nh_truth[indsel_dp], bins=bin_edges)\n",
    "    hist_samp_high, _ = np.histogram(save_subvol_Nhalo[indsel_dp].flatten(), bins=bin_edges)\n",
    "    saved_all_jsim['hist_truth_high_Nhalo'] = hist_truth_high\n",
    "    saved_all_jsim['hist_samp_high_Nhalo'] = hist_samp_high\n",
    "\n",
    "\n",
    "    delta_all_z0 = np.exp(df_d_all_nsh_test[:,0,...])-1\n",
    "    bin_cents_M = np.linspace(lgMmin, lgMmax, 20)[1:-1]\n",
    "    bin_edges_M = 0.5*(bin_cents_M[1:] + bin_cents_M[:-1])\n",
    "    delta_b = 0.5*(bin_cents_M[1] - bin_cents_M[0])\n",
    "    bin_edges_M = np.insert(bin_edges_M,0, bin_cents_M[0] - delta_b)\n",
    "    bin_edges_M = np.insert(bin_edges_M,len(bin_edges_M), bin_cents_M[-1] - delta_b)\n",
    "    saved_all_jsim['Mhalo_bin_cents'] = bin_cents_M\n",
    "    saved_all_jsim['Mhalo_bin_edges'] = bin_edges_M\n",
    "\n",
    "\n",
    "    delta_min_p, delta_max_p = -1.0, 500.0\n",
    "    indsel_dp = np.where((delta_all_z0 > delta_min_p) & (delta_all_z0 < delta_max_p))\n",
    "    hist_M_truth_all = np.zeros((4, len(bin_cents_M)))\n",
    "    hist_M_samp_all = np.zeros((4, len(bin_cents_M)))    \n",
    "    for idim in range(4):\n",
    "        M_idim_truth = df_Mh_all_truth[..., idim]\n",
    "        hist_truth, _ = np.histogram(M_idim_truth[indsel_dp].flatten(), bins=bin_edges_M)\n",
    "        hist_M_truth_all[idim, :] = hist_truth\n",
    "        \n",
    "        M_idim_samp = save_subvol_Mtot[..., idim]\n",
    "        hist_sampled, _ = np.histogram(M_idim_samp[indsel_dp].flatten(), bins=bin_edges_M)\n",
    "        hist_M_samp_all[idim, :] = hist_sampled\n",
    "    saved_all_jsim['hist_truth_all_Mhalo'] = hist_M_truth_all\n",
    "    saved_all_jsim['hist_samp_all_Mhalo'] = hist_M_samp_all\n",
    "\n",
    "    delta_min_p, delta_max_p = -1.0, 0.0\n",
    "    indsel_dp = np.where((delta_all_z0 > delta_min_p) & (delta_all_z0 < delta_max_p))\n",
    "    hist_M_truth_low = np.zeros((4, len(bin_cents_M)))\n",
    "    hist_M_samp_low = np.zeros((4, len(bin_cents_M)))\n",
    "    for idim in range(4):\n",
    "        M_idim_truth = df_Mh_all_truth[..., idim]\n",
    "        hist_truth, _ = np.histogram(M_idim_truth[indsel_dp].flatten(), bins=bin_edges_M)\n",
    "        hist_M_truth_low[idim, :] = hist_truth\n",
    "        \n",
    "        M_idim_samp = save_subvol_Mtot[..., idim]\n",
    "        hist_sampled, _ = np.histogram(M_idim_samp[indsel_dp].flatten(), bins=bin_edges_M)\n",
    "        hist_M_samp_low[idim, :] = hist_sampled\n",
    "    saved_all_jsim['hist_truth_low_Mhalo'] = hist_M_truth_low\n",
    "    saved_all_jsim['hist_samp_low_Mhalo'] = hist_M_samp_low\n",
    "\n",
    "    delta_min_p, delta_max_p = 0.0, 2.0\n",
    "    indsel_dp = np.where((delta_all_z0 > delta_min_p) & (delta_all_z0 < delta_max_p))\n",
    "    hist_M_truth_mid = np.zeros((4, len(bin_cents_M)))\n",
    "    hist_M_samp_mid = np.zeros((4, len(bin_cents_M)))\n",
    "    for idim in range(4):\n",
    "        M_idim_truth = df_Mh_all_truth[..., idim]\n",
    "        hist_truth, _ = np.histogram(M_idim_truth[indsel_dp].flatten(), bins=bin_edges_M)\n",
    "        hist_M_truth_mid[idim, :] = hist_truth\n",
    "        \n",
    "        M_idim_samp = save_subvol_Mtot[..., idim]\n",
    "        hist_sampled, _ = np.histogram(M_idim_samp[indsel_dp].flatten(), bins=bin_edges_M)\n",
    "        hist_M_samp_mid[idim, :] = hist_sampled\n",
    "    saved_all_jsim['hist_truth_mid_Mhalo'] = hist_M_truth_mid\n",
    "    saved_all_jsim['hist_samp_mid_Mhalo'] = hist_M_samp_mid\n",
    "\n",
    "    delta_min_p, delta_max_p = 2.0, 500.0\n",
    "    indsel_dp = np.where((delta_all_z0 > delta_min_p) & (delta_all_z0 < delta_max_p))\n",
    "    hist_M_truth_high = np.zeros((4, len(bin_cents_M)))\n",
    "    hist_M_samp_high = np.zeros((4, len(bin_cents_M)))\n",
    "    for idim in range(4):\n",
    "        M_idim_truth = df_Mh_all_truth[..., idim]\n",
    "        hist_truth, _ = np.histogram(M_idim_truth[indsel_dp].flatten(), bins=bin_edges_M)\n",
    "        hist_M_truth_high[idim, :] = hist_truth\n",
    "        \n",
    "        M_idim_samp = save_subvol_Mtot[..., idim]\n",
    "        hist_sampled, _ = np.histogram(M_idim_samp[indsel_dp].flatten(), bins=bin_edges_M)\n",
    "        hist_M_samp_high[idim, :] = hist_sampled\n",
    "    saved_all_jsim['hist_truth_high_Mhalo'] = hist_M_truth_high\n",
    "    saved_all_jsim['hist_samp_high_Mhalo'] = hist_M_samp_high\n",
    "\n",
    "    # # import pdb; pdb.set_trace()\n",
    "\n",
    "    # # create empty arrays for Nhalos and M_halos\n",
    "    # Nhalos = np.zeros((ns_h, ns_h, ns_h))\n",
    "    # M_halos = np.zeros((ns_h, ns_h, ns_h, ndim_diff + 1))\n",
    "    # M_halos_truth = np.zeros((ns_h, ns_h, ns_h, ndim_diff + 1))\n",
    "\n",
    "    # subvol_size = ns_h // nb\n",
    "\n",
    "    # ind_cart_lin = {}\n",
    "    # ind_lin_cart = {}\n",
    "    # jc = 0\n",
    "    # from tqdm import tqdm\n",
    "    # for jx in tqdm(range(nb)):\n",
    "    #     for jy in range(nb):\n",
    "    #         for jz in range(nb):\n",
    "    #             # get the sub-cube\n",
    "    #             ind_lin_cart[(jx, jy, jz)] = jc\n",
    "    #             ind_cart_lin[jc] = [jx, jy, jz]\n",
    "    #             jc += 1\n",
    "                \n",
    "\n",
    "    # # iterate over subvolumes\n",
    "    # jc = 0\n",
    "    # for jx in range(nb):\n",
    "    #     for jy in range(nb):\n",
    "    #         for jz in range(nb):\n",
    "    #             Nhalos[jx * subvol_size:(jx + 1) * subvol_size, jy * subvol_size:(jy + 1) * subvol_size,\n",
    "    #                 jz * subvol_size:(jz + 1) * subvol_size] = save_subvol_Nhalo[ind_lin_cart[(jx, jy, jz)]]\n",
    "\n",
    "    #             M_halos[jx * subvol_size:(jx + 1) * subvol_size, jy * subvol_size:(jy + 1) * subvol_size,\n",
    "    #                     jz * subvol_size:(jz + 1) * subvol_size, :] = save_subvol_Mtot[ind_lin_cart[(jx, jy, jz)]]\n",
    "                \n",
    "                \n",
    "    #             jc += 1\n",
    "                \n",
    "                \n",
    "    \n",
    "    # # create empty arrays for Nhalos and M_halos\n",
    "    # Nhalos_truth_recomb = np.zeros((ns_h, ns_h, ns_h))\n",
    "    # M_halos_truth_recomb = np.zeros((ns_h, ns_h, ns_h, ndim_diff + 1))\n",
    "\n",
    "    # subvol_size = ns_h // nb\n",
    "\n",
    "    # ind_cart_lin = {}\n",
    "    # ind_lin_cart = {}\n",
    "    # jc = 0\n",
    "    # from tqdm import tqdm\n",
    "    # for jx in tqdm(range(nb)):\n",
    "    #     for jy in range(nb):\n",
    "    #         for jz in range(nb):\n",
    "    #             # get the sub-cube\n",
    "    #             ind_lin_cart[(jx, jy, jz)] = jc\n",
    "    #             ind_cart_lin[jc] = [jx, jy, jz]\n",
    "    #             jc += 1\n",
    "                \n",
    "\n",
    "    # # iterate over subvolumes\n",
    "    # jc = 0\n",
    "    # for jx in range(nb):\n",
    "    #     for jy in range(nb):\n",
    "    #         for jz in range(nb):\n",
    "    #             Nhalos_truth_recomb[jx * subvol_size:(jx + 1) * subvol_size, jy * subvol_size:(jy + 1) * subvol_size,\n",
    "    #                 jz * subvol_size:(jz + 1) * subvol_size] = df_Nh_truth[ind_lin_cart[(jx, jy, jz)]]\n",
    "\n",
    "    #             M_halos_truth_recomb[jx * subvol_size:(jx + 1) * subvol_size, jy * subvol_size:(jy + 1) * subvol_size,\n",
    "    #                     jz * subvol_size:(jz + 1) * subvol_size, :] = df_Mh_all_truth[ind_lin_cart[(jx, jy, jz)]]\n",
    "                \n",
    "                \n",
    "    #             jc += 1\n",
    "                \n",
    "\n",
    "    # # create the meshgrid\n",
    "    # zv = 0.0\n",
    "    # av = 1. / (1 + zv)\n",
    "    # xall = (np.linspace(0, 1000, ns_h + 1))\n",
    "    # xarray = av * 0.5 * (xall[1:] + xall[:-1])\n",
    "    # yarray = np.copy(xarray)\n",
    "    # zarray = np.copy(xarray)\n",
    "    # x_cy, y_cy, z_cy = np.meshgrid(xarray, yarray, zarray, indexing='ij')\n",
    "\n",
    "\n",
    "    # # create the meshgrid\n",
    "    # zv = 0.0\n",
    "    # av = 1. / (1 + zv)\n",
    "    # xall = (np.linspace(0, 1000, ns_h + 1))\n",
    "    # xarray = av * 0.5 * (xall[1:] + xall[:-1])\n",
    "    # dx = (xall[1] - xall[0])\n",
    "    # yarray = np.copy(xarray)\n",
    "    # zarray = np.copy(xarray)\n",
    "    # x_cy, y_cy, z_cy = np.meshgrid(xarray, yarray, zarray, indexing='ij')\n",
    "\n",
    "    # x_h_mock, y_h_mock, z_h_mock, lgM_mock = [], [], [], []\n",
    "    # k = 0\n",
    "    # for jx in range(ns_h):\n",
    "    #     for jy in range(ns_h):\n",
    "    #         for jz in range(ns_h):\n",
    "    #                 Nh_vox = int(Nhalos[jx, jy, jz])\n",
    "    #                 if Nh_vox > 0:\n",
    "    #                     x_h_mock.append(x_cy[jx, jy, jz]*np.ones(Nh_vox))\n",
    "    #                     y_h_mock.append(y_cy[jx, jy, jz]*np.ones(Nh_vox))\n",
    "    #                     z_h_mock.append(z_cy[jx, jy, jz]*np.ones(Nh_vox))\n",
    "                        \n",
    "    #                     lgM_mock.append((M_halos[jx, jy, jz, :Nh_vox]))\n",
    "    #                     k += Nh_vox\n",
    "\n",
    "    # # convert to numpy arrays\n",
    "    # x_h_mock = np.concatenate(x_h_mock)\n",
    "    # y_h_mock = np.concatenate(y_h_mock)\n",
    "    # z_h_mock = np.concatenate(z_h_mock)\n",
    "    # pos_h_mock = np.vstack((x_h_mock, y_h_mock, z_h_mock)).T\n",
    "    # lgMass_mock = np.concatenate(lgM_mock)\n",
    "    # # convert to float data type\n",
    "    # pos_h_mock = pos_h_mock.astype('float32')\n",
    "    # lgMass_mock = lgMass_mock.astype('float32')\n",
    "\n",
    "\n",
    "    # # sdir='/mnt/home/spandey/ceph/Quijote/data_NGP_self'\n",
    "    # # # load the halo data\n",
    "    # # fname = sdir + '/' + str(isim) + '/halos_' + str(mass_type) + '_subvol_res_' + str(ns_h) + '_z=0.pk'\n",
    "    # # df_h = pk.load(open(fname, 'rb'))\n",
    "    # # # This has information on the halo mass for all the halos in the voxel\n",
    "    # # df_Mh_all_truth = df_h['M_halos']\n",
    "    # # df_Mh_all_truth = np.flip(np.sort(df_Mh_all_truth, axis=-1), axis=-1)\n",
    "    # # # This has information on the number of halos in the voxel\n",
    "    # # df_Nh_truth = df_h['N_halos']\n",
    "\n",
    "    # # fname = sdir + '/' + str(isim) + '/halos_' + str(mass_type) + '_full_res_' + str(ns_h) + '_z=0.pk'\n",
    "    # # df_h = pk.load(open(fname, 'rb'))\n",
    "    # # df_Mh_all_truth_comb, df_Nh_truth_comb = df_h['M_halos_combined'], df_h['N_halos_combined']\n",
    "\n",
    "    # # create the meshgrid\n",
    "    # zv = 0.0\n",
    "    # av = 1. / (1 + zv)\n",
    "    # xall = (np.linspace(0, 1000, ns_h + 1))\n",
    "    # xarray = av * 0.5 * (xall[1:] + xall[:-1])\n",
    "    # dx = (xall[1] - xall[0])\n",
    "    # yarray = np.copy(xarray)\n",
    "    # zarray = np.copy(xarray)\n",
    "    # x_cy, y_cy, z_cy = np.meshgrid(xarray, yarray, zarray, indexing='ij')\n",
    "\n",
    "    # x_h_truth, y_h_truth, z_h_truth, lgM_truth = [], [], [], []\n",
    "    # for jx in range(ns_h):\n",
    "    #     for jy in range(ns_h):\n",
    "    #         for jz in range(ns_h):\n",
    "    #                 Nh_vox = int(df_Nh_truth_comb[jx, jy, jz])\n",
    "    #                 if Nh_vox > 0:\n",
    "    #                     x_h_truth.append(x_cy[jx, jy, jz]*np.ones(Nh_vox))\n",
    "    #                     y_h_truth.append(y_cy[jx, jy, jz]*np.ones(Nh_vox))\n",
    "    #                     z_h_truth.append(z_cy[jx, jy, jz]*np.ones(Nh_vox))\n",
    "                        \n",
    "    #                     lgM_truth.append((df_Mh_all_truth_comb[jx, jy, jz, :Nh_vox]))\n",
    "\n",
    "    # # convert to numpy arrays\n",
    "    # x_h_truth = np.concatenate(x_h_truth)\n",
    "    # y_h_truth = np.concatenate(y_h_truth)\n",
    "    # z_h_truth = np.concatenate(z_h_truth)\n",
    "    # pos_h_truth = np.vstack((x_h_truth, y_h_truth, z_h_truth)).T\n",
    "    # lgMass_truth = np.concatenate(lgM_truth)\n",
    "    # # convert to float data type\n",
    "    # pos_h_truth = pos_h_truth.astype('float32')\n",
    "    # lgMass_truth = lgMass_truth.astype('float32')\n",
    "\n",
    "    # grid    = ns_h    #the 3D field will have grid x grid x grid voxels\n",
    "    # BoxSize = 1000.0 #Mpc/h ; size of box\n",
    "    # MAS     = 'NGP'  #mass-assigment scheme\n",
    "    # verbose = True   #print information on progress\n",
    "\n",
    "    # # Mmin_Pk_all = np.array([13.0, 13.0, 13.5, 14.0, 14.5])\n",
    "    # # Mmax_Pk_all = np.array([16.0, 13.5, 14.0, 14.5, 15.0])\n",
    "    # Mmin_Pk_all = np.log10(np.array([1e13, 5e13, 7e13, 1e14, 5e14]))\n",
    "    # Mmax_Pk_all = np.log10(np.array([1e16, 7e13, 1e14, 5e14, 1e15]))    \n",
    "\n",
    "    # saved_Pk_Bk = {}\n",
    "\n",
    "    # for j in range(len(Mmin_Pk_all)):\n",
    "    #     saved_j = {}\n",
    "    #     Mmin_Pk, Mmax_Pk = Mmin_Pk_all[j], Mmax_Pk_all[j]\n",
    "    #     indsel_Pk_truth = np.where((lgMass_truth > Mmin_Pk) & (lgMass_truth < Mmax_Pk))[0]\n",
    "    #     mesh_truth2 = np.zeros((grid, grid, grid), dtype=np.float32)\n",
    "    #     pos_truth2 = (pos_h_truth[indsel_Pk_truth,...]).astype(np.float32)\n",
    "    #     MASL.MA(pos_truth2, mesh_truth2, BoxSize, MAS)\n",
    "    #     mesh_truth2 /= np.mean(mesh_truth2, dtype=np.float64);  mesh_truth2 -= 1.0\n",
    "    #     Pk_truth2 = PKL.Pk(mesh_truth2, BoxSize, axis=0, MAS=None, threads=1)\n",
    "\n",
    "    #     indsel_Pk_mock = np.where((lgMass_mock > Mmin_Pk) & (lgMass_mock < Mmax_Pk))[0]\n",
    "    #     mesh_mock = np.zeros((grid, grid, grid), dtype=np.float32)\n",
    "    #     pos_mock = (pos_h_mock[indsel_Pk_mock,...]).astype(np.float32)\n",
    "    #     MASL.MA(pos_mock, mesh_mock, BoxSize, MAS)\n",
    "    #     mesh_mock /= np.mean(mesh_mock, dtype=np.float64);  mesh_mock -= 1.0\n",
    "    #     Pk_mock = PKL.Pk(mesh_mock, BoxSize, axis=0, MAS=None, threads=1)    \n",
    "\n",
    "    #     Pk_mockxtruth2 = PKL.XPk([mesh_truth2,mesh_mock], BoxSize, axis=0, MAS=[None, None], threads=1)\n",
    "\n",
    "    #     saved_j['Pk_truth'] = Pk_truth2.Pk[:,0]\n",
    "    #     saved_j['Pk_mock'] = Pk_mock.Pk[:,0]\n",
    "    #     saved_j['Pk_mockxtruth'] = Pk_mockxtruth2.XPk[:,0,0]\n",
    "    #     saved_j['k_Pk'] = Pk_mockxtruth2.k3D\n",
    "        \n",
    "\n",
    "    #     BoxSize = 1000.0 #Size of the density field in Mpc/h\n",
    "    #     threads = 1\n",
    "    #     theta   = np.linspace(0, np.pi, 16) #array with the angles between k1 and k2\n",
    "    #     saved_j['theta'] = theta\n",
    "\n",
    "    #     k1 = 0.03\n",
    "    #     k2 = 0.03\n",
    "    #     BBk = PKL.Bk(mesh_truth2, BoxSize, k1, k2, theta, None, threads)\n",
    "    #     Bk_truth_k0p03  = BBk.B     #bispectrum\n",
    "    #     Qk_truth_k0p03  = BBk.Q     #reduced bispectrum\n",
    "    #     BBk = PKL.Bk(mesh_mock, BoxSize, k1, k2, theta, None, threads)\n",
    "    #     Bk_mock_k0p03  = BBk.B     #bispectrum\n",
    "    #     Qk_mock_k0p03  = BBk.Q     #reduced bispectrum\n",
    "\n",
    "    #     saved_j['Bk_truth_k0p03'] = Bk_truth_k0p03\n",
    "    #     saved_j['Qk_truth_k0p03'] = Qk_truth_k0p03\n",
    "    #     saved_j['Bk_mock_k0p03'] = Bk_mock_k0p03\n",
    "    #     saved_j['Qk_mock_k0p03'] = Qk_mock_k0p03\n",
    "\n",
    "\n",
    "    #     k1 = 0.06\n",
    "    #     k2 = 0.06\n",
    "    #     BBk = PKL.Bk(mesh_truth2, BoxSize, k1, k2, theta, None, threads)\n",
    "    #     Bk_truth_k0p06  = BBk.B     #bispectrum\n",
    "    #     Qk_truth_k0p06  = BBk.Q     #reduced bispectrum\n",
    "    #     BBk = PKL.Bk(mesh_mock, BoxSize, k1, k2, theta, None, threads)\n",
    "    #     Bk_mock_k0p06  = BBk.B     #bispectrum\n",
    "    #     Qk_mock_k0p06  = BBk.Q     #reduced bispectrum\n",
    "\n",
    "    #     saved_j['Bk_truth_k0p06'] = Bk_truth_k0p06\n",
    "    #     saved_j['Qk_truth_k0p06'] = Qk_truth_k0p06\n",
    "    #     saved_j['Bk_mock_k0p06'] = Bk_mock_k0p06\n",
    "    #     saved_j['Qk_mock_k0p06'] = Qk_mock_k0p06\n",
    "\n",
    "    #     k1 = 0.1\n",
    "    #     k2 = 0.1\n",
    "    #     BBk = PKL.Bk(mesh_truth2, BoxSize, k1, k2, theta, None, threads)\n",
    "    #     Bk_truth_k0p1  = BBk.B     #bispectrum\n",
    "    #     Qk_truth_k0p1  = BBk.Q     #reduced bispectrum\n",
    "    #     BBk = PKL.Bk(mesh_mock, BoxSize, k1, k2, theta, None, threads)\n",
    "    #     Bk_mock_k0p1  = BBk.B     #bispectrum\n",
    "    #     Qk_mock_k0p1  = BBk.Q     #reduced bispectrum\n",
    "\n",
    "    #     saved_j['Bk_truth_k0p1'] = Bk_truth_k0p1\n",
    "    #     saved_j['Qk_truth_k0p1'] = Qk_truth_k0p1\n",
    "    #     saved_j['Bk_mock_k0p1'] = Bk_mock_k0p1\n",
    "    #     saved_j['Qk_mock_k0p1'] = Qk_mock_k0p1\n",
    "\n",
    "\n",
    "    #     k1 = 0.2\n",
    "    #     k2 = 0.2\n",
    "    #     BBk = PKL.Bk(mesh_truth2, BoxSize, k1, k2, theta, None, threads)\n",
    "    #     Bk_truth_k0p2  = BBk.B     #bispectrum\n",
    "    #     Qk_truth_k0p2  = BBk.Q     #reduced bispectrum\n",
    "    #     BBk = PKL.Bk(mesh_mock, BoxSize, k1, k2, theta, None, threads)\n",
    "    #     Bk_mock_k0p2  = BBk.B     #bispectrum\n",
    "    #     Qk_mock_k0p2  = BBk.Q     #reduced bispectrum\n",
    "\n",
    "    #     saved_j['Bk_truth_k0p2'] = Bk_truth_k0p2\n",
    "    #     saved_j['Qk_truth_k0p2'] = Qk_truth_k0p2\n",
    "    #     saved_j['Bk_mock_k0p2'] = Bk_mock_k0p2\n",
    "    #     saved_j['Qk_mock_k0p2'] = Qk_mock_k0p2\n",
    "\n",
    "\n",
    "    #     k1 = 0.3\n",
    "    #     k2 = 0.3\n",
    "    #     BBk = PKL.Bk(mesh_truth2, BoxSize, k1, k2, theta, None, threads)\n",
    "    #     Bk_truth_k0p3  = BBk.B     #bispectrum\n",
    "    #     Qk_truth_k0p3  = BBk.Q     #reduced bispectrum\n",
    "    #     BBk = PKL.Bk(mesh_mock, BoxSize, k1, k2, theta, None, threads)\n",
    "    #     Bk_mock_k0p3  = BBk.B     #bispectrum\n",
    "    #     Qk_mock_k0p3  = BBk.Q     #reduced bispectrum\n",
    "\n",
    "    #     saved_j['Bk_truth_k0p3'] = Bk_truth_k0p3\n",
    "    #     saved_j['Qk_truth_k0p3'] = Qk_truth_k0p3\n",
    "    #     saved_j['Bk_mock_k0p3'] = Bk_mock_k0p3\n",
    "    #     saved_j['Qk_mock_k0p3'] = Qk_mock_k0p3\n",
    "\n",
    "    #     # k1 = 0.4\n",
    "    #     # k2 = 0.4\n",
    "    #     # BBk = PKL.Bk(mesh_truth2, BoxSize, k1, k2, theta, None, threads)\n",
    "    #     # Bk_truth_k0p4  = BBk.B     #bispectrum\n",
    "    #     # Qk_truth_k0p4  = BBk.Q     #reduced bispectrum\n",
    "    #     # BBk = PKL.Bk(mesh_mock, BoxSize, k1, k2, theta, None, threads)\n",
    "    #     # Bk_mock_k0p4  = BBk.B     #bispectrum\n",
    "    #     # Qk_mock_k0p4  = BBk.Q     #reduced bispectrum\n",
    "\n",
    "    #     # saved_j['Bk_truth_k0p4'] = Bk_truth_k0p4\n",
    "    #     # saved_j['Qk_truth_k0p4'] = Qk_truth_k0p4\n",
    "    #     # saved_j['Bk_mock_k0p4'] = Bk_mock_k0p4\n",
    "    #     # saved_j['Qk_mock_k0p4'] = Qk_mock_k0p4\n",
    "    \n",
    "    #     saved_Pk_Bk[j] = saved_j\n",
    "\n",
    "    # saved_all_jsim['Pk_Bk'] = saved_Pk_Bk\n",
    "\n",
    "    # # # sdir = '/mnt/home/spandey/ceph/AR_NPE/notebooks/SUMMARY_STATS_FIDSIMS_TEST_stype_' + str(stype) + '_mtype_' + str(mass_type) + '_condsim_' + str(cond_sim) + '/'\n",
    "    # # # sdir = '/mnt/home/spandey/ceph/AR_NPE/notebooks/SUMMARY_STATS_FIDSIMS_TEST_stype_' + str(stype) + '_mtype_' + str(mass_type) + '_condsim_' + str(cond_sim) + '_nc_' + str(nc) + '/'    \n",
    "    # # sdir = '/mnt/home/spandey/ceph/AR_NPE/notebooks/SUMMARY_STATS_FIDSIMS_TEST_stype_' + str(stype) + '_mtype_' + str(mass_type) + '_condsim_' + str(cond_sim) + '_nc_' + str(nc) + '_wL2norm_highknots' + '/'    \n",
    "    # # print(sdir)\n",
    "    # # # make directory if doesn't exist:\n",
    "    # # if not os.path.exists(sdir):\n",
    "    # #     os.makedirs(sdir)\n",
    "    # # import pickle as pk\n",
    "    # # fname = sdir + '/summary_stats_jsim_' + str(isim) + '.pk'\n",
    "    # # pk.dump(saved_all_jsim, open(fname, 'wb'))\n",
    "\n",
    "                    \n",
    "\n",
    "\n",
    "\n",
    "\n",
    "\n",
    "\n"
   ]
  },
  {
   "cell_type": "code",
   "execution_count": 51,
   "metadata": {},
   "outputs": [],
   "source": [
    "# # model_Ntot\n",
    "# # base_dist_Ntot\n",
    "# # 203968/1817977 \n",
    "# cond_out = model.conv_layers(cond_tensor_jd[0])\n",
    "# cond_out = torch.cat((cond_out, cond_tensor_nsh_jd[0]), dim=1)\n",
    "# # if self.sep_Ntot_cond:\n",
    "# cond_out_Ntot = model.cond_Ntot_layer(cond_out)\n",
    "\n",
    "# Ntot_samp_tensor = model_Ntot.inverse(cond_out_Ntot)\n",
    "# pl.figure()\n",
    "# _ = pl.hist(Ntot_samp_tensor.cpu().detach().numpy(), bins=100, density=True, alpha=0.5)\n",
    "# _ = pl.hist(Nhalos_truth_tensor_jd[0,...].cpu().detach().numpy(), bins=100, density=True, alpha=0.5)\n",
    "# pl.yscale('log')\n"
   ]
  },
  {
   "cell_type": "code",
   "execution_count": 52,
   "metadata": {},
   "outputs": [],
   "source": [
    "# Nhalos_truth_tensor_jd.shape"
   ]
  },
  {
   "cell_type": "code",
   "execution_count": null,
   "metadata": {},
   "outputs": [],
   "source": []
  },
  {
   "cell_type": "code",
   "execution_count": 21,
   "metadata": {},
   "outputs": [],
   "source": [
    "import matplotlib.pyplot as pl\n",
    "import matplotlib\n",
    "%matplotlib inline\n",
    "\n",
    "\n"
   ]
  },
  {
   "cell_type": "code",
   "execution_count": 22,
   "metadata": {},
   "outputs": [
    {
     "data": {
      "image/png": "[encoded data removed]",
      "text/plain": [
       "<Figure size 640x480 with 1 Axes>"
      ]
     },
     "metadata": {},
     "output_type": "display_data"
    }
   ],
   "source": [
    "pl.figure()\n",
    "pl.plot(saved_all_jsim['Nhalo_bin_cents'], saved_all_jsim['hist_truth_high_Nhalo'])\n",
    "pl.plot(saved_all_jsim['Nhalo_bin_cents'], saved_all_jsim['hist_samp_high_Nhalo'], ls='--')\n",
    "pl.yscale('log')\n",
    "\n",
    "\n"
   ]
  },
  {
   "cell_type": "code",
   "execution_count": 24,
   "metadata": {},
   "outputs": [
    {
     "data": {
      "image/png": "[encoded data removed]",
      "text/plain": [
       "<Figure size 640x480 with 1 Axes>"
      ]
     },
     "metadata": {},
     "output_type": "display_data"
    }
   ],
   "source": [
    "pl.figure()\n",
    "pl.plot(saved_all_jsim['Mhalo_bin_cents'], saved_all_jsim['hist_truth_high_Mhalo'][0,:])\n",
    "pl.plot(saved_all_jsim['Mhalo_bin_cents'], saved_all_jsim['hist_samp_high_Mhalo'][0,:], ls='--')\n",
    "pl.yscale('log')\n",
    "\n",
    "\n"
   ]
  },
  {
   "cell_type": "code",
   "execution_count": 27,
   "metadata": {},
   "outputs": [
    {
     "data": {
      "image/png": "[encoded data removed]",
      "text/plain": [
       "<Figure size 640x480 with 1 Axes>"
      ]
     },
     "metadata": {},
     "output_type": "display_data"
    }
   ],
   "source": [
    "pl.figure()\n",
    "pl.plot(saved_all_jsim['Mhalo_bin_cents'], saved_all_jsim['hist_truth_all_Mhalo'][1,:])\n",
    "pl.plot(saved_all_jsim['Mhalo_bin_cents'], saved_all_jsim['hist_samp_all_Mhalo'][1,:], ls='--')\n",
    "pl.yscale('log')\n",
    "\n",
    "\n"
   ]
  },
  {
   "cell_type": "code",
   "execution_count": 15,
   "metadata": {},
   "outputs": [],
   "source": [
    "sdir='/mnt/home/spandey/ceph/Quijote/data_NGP_self'\n",
    "# load the halo data\n",
    "fname = sdir + '/' + str(isim) + '/halos_' + str(mass_type) + '_lgMmincut_' + lgMmincutstr + '_subvol_res_' + str(ns_h) + '_z=0.pk'\n",
    "df_h_subvol = pk.load(open(fname, 'rb'))\n",
    "# This has information on the halo mass for all the halos in the voxel\n",
    "df_Mh_all_truth = df_h_subvol['M_halos']\n",
    "df_Mh_all_truth = np.flip(np.sort(df_Mh_all_truth, axis=-1), axis=-1)\n",
    "# This has information on the number of halos in the voxel\n",
    "df_Nh_truth = df_h_subvol['N_halos']\n",
    "\n",
    "fname = sdir + '/' + str(isim) + '/halos_' + str(mass_type) + '_lgMmincut_' + lgMmincutstr + '_full_res_' + str(ns_h) + '_z=0.pk'\n",
    "df_h_full = pk.load(open(fname, 'rb'))\n",
    "df_Mh_all_truth_comb, df_Nh_truth_comb = df_h_full['M_halos_combined'], df_h_full['N_halos_combined']\n",
    "\n"
   ]
  },
  {
   "cell_type": "code",
   "execution_count": 16,
   "metadata": {},
   "outputs": [
    {
     "data": {
      "text/plain": [
       "(128, 128, 128, 4)"
      ]
     },
     "execution_count": 16,
     "metadata": {},
     "output_type": "execute_result"
    }
   ],
   "source": [
    "df_Mh_all_truth_comb.shape"
   ]
  },
  {
   "cell_type": "code",
   "execution_count": 17,
   "metadata": {},
   "outputs": [
    {
     "data": {
      "text/plain": [
       "(512, 16, 16, 16, 4)"
      ]
     },
     "execution_count": 17,
     "metadata": {},
     "output_type": "execute_result"
    }
   ],
   "source": [
    "df_Mh_all_truth.shape\n"
   ]
  },
  {
   "cell_type": "code",
   "execution_count": 14,
   "metadata": {},
   "outputs": [
    {
     "data": {
      "text/plain": [
       "'/mnt/home/spandey/ceph/Quijote/data_NGP_self/1/halos_fof_lgMmincut_5e13_full_res_128_z=0.pk'"
      ]
     },
     "execution_count": 14,
     "metadata": {},
     "output_type": "execute_result"
    }
   ],
   "source": [
    "fname\n"
   ]
  },
  {
   "cell_type": "code",
   "execution_count": null,
   "metadata": {},
   "outputs": [],
   "source": []
  }
 ],
 "metadata": {
  "kernelspec": {
   "display_name": ".venv",
   "language": "python",
   "name": "python3"
  },
  "language_info": {
   "codemirror_mode": {
    "name": "ipython",
    "version": 3
   },
   "file_extension": ".py",
   "mimetype": "text/x-python",
   "name": "python",
   "nbconvert_exporter": "python",
   "pygments_lexer": "ipython3",
   "version": "3.9.15"
  },
  "orig_nbformat": 4
 },
 "nbformat": 4,
 "nbformat_minor": 2
}
