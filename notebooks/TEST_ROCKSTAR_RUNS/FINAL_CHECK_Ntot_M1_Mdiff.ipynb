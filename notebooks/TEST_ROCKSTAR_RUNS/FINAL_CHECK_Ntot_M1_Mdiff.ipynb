{
 "cells": [
  {
   "cell_type": "code",
   "execution_count": 1,
   "metadata": {},
   "outputs": [],
   "source": [
    "import sys, os\n",
    "os.environ[\"CUDA_VISIBLE_DEVICES\"] = \"0\"\n",
    "# import pickle as pk\n",
    "import numpy as np\n",
    "import torch\n",
    "dev = torch.device(\"cuda\")\n",
    "import torch.optim as optim\n",
    "# from torch.distributions import MultivariateNormal\n",
    "# from torch.distributions import Normal\n",
    "root_dir = '/mnt/home/spandey/ceph/AR_NPE/'\n",
    "os.chdir(root_dir)\n",
    "# import colossus\n",
    "import sys, os\n",
    "# append the root_dir to the path\n",
    "sys.path.append(root_dir)\n",
    "from nf.combined_models import COMBINED_Model\n",
    "from nf.all_models import *\n",
    "from nf.utils_data_prep import *\n",
    "# from tqdm import tqdm\n",
    "# import pyyaml\n",
    "from colossus.cosmology import cosmology\n",
    "params = {'flat': True, 'H0': 67.11, 'Om0': 0.3175, 'Ob0': 0.049, 'sigma8': 0.834, 'ns': 0.9624}\n",
    "cosmo = cosmology.setCosmology('myCosmo', **params)\n",
    "# get halo mass function:\n",
    "from colossus.lss import mass_function\n",
    "from tqdm import tqdm\n",
    "    \n",
    "import yaml\n",
    "\n",
    "# autoreload modules\n",
    "%load_ext autoreload\n",
    "%autoreload 2\n",
    "\n",
    "\n"
   ]
  },
  {
   "cell_type": "code",
   "execution_count": 2,
   "metadata": {},
   "outputs": [],
   "source": [
    "import matplotlib\n",
    "%matplotlib inline\n",
    "import matplotlib.pyplot as pl\n"
   ]
  },
  {
   "cell_type": "code",
   "execution_count": 3,
   "metadata": {},
   "outputs": [],
   "source": [
    "# run_config_name = sys.argv[1]\n",
    "# run_config_name = 'run_test_128_condFPM_uniformcic_fof_lgMmin5e13_wL2norm_highknots.yaml'\n",
    "# run_config_name = 'run_Ntot_M1_Mdiff_128_condFPM_uniformcic_fof_lgMmin1e13_wL2norm_highknots.yaml'\n",
    "run_config_name = 'LONGTRAIN_run_Ntot_M1_Mdiff_128_condFPMFOF_cic_200c_lgMmin1e13_Nmax6_nc4.yaml'\n",
    "\n",
    "with open(\"/mnt/home/spandey/ceph/AR_NPE/run_configs/\" + run_config_name,\"r\") as file_object:\n",
    "    config=yaml.load(file_object,Loader=yaml.SafeLoader)\n",
    "\n",
    "\n",
    "\n",
    "\n"
   ]
  },
  {
   "cell_type": "code",
   "execution_count": 4,
   "metadata": {},
   "outputs": [],
   "source": [
    "\n",
    "config_sims = config['sim_settings']\n",
    "ji_array = np.arange(int(config_sims['nsims']))\n",
    "ns_d = config_sims['ns_d']\n",
    "nb = config_sims['nb']\n",
    "nax_d =  ns_d // nb\n",
    "nf = config_sims['nf']\n",
    "layers_types = config_sims['layers_types']\n",
    "nc = 0\n",
    "for jl in range(len(layers_types)):\n",
    "    if layers_types[jl] == 'cnn':\n",
    "        nc += 1\n",
    "    elif layers_types[jl] == 'res':\n",
    "        nc += 2\n",
    "    else:\n",
    "        raise ValueError(\"layer type not supported\")\n",
    "\n",
    "z_all = config_sims['z_all']\n",
    "z_all_FP = config_sims['z_all_FP']\n",
    "ns_h = config_sims['ns_h']\n",
    "nax_h = ns_h // nb\n",
    "cond_sim = config_sims['cond_sim']\n",
    "\n",
    "nsims_per_batch = config_sims['nsims_per_batch']\n",
    "nbatches_train = config_sims['nbatches_train']\n",
    "\n",
    "mass_type = config_sims['mass_type']\n",
    "lgMmin = config_sims['lgMmin']\n",
    "lgMmax = config_sims['lgMmax']\n",
    "stype = config_sims['stype']\n",
    "rescale_sub = config_sims['rescale_sub']\n",
    "lgMmincutstr = config_sims['lgMmincutstr']\n",
    "subsel_highM1 = config_sims['subsel_highM1']\n",
    "nsubsel = config_sims['nsubsel']\n",
    "is_HR = config_sims['is_HR']\n",
    "\n",
    "try:\n",
    "    Nmax = config_sims['Nmax']\n",
    "except:\n",
    "    Nmax = 4\n",
    "\n",
    "config_net = config['network_settings']\n",
    "hidden_dim_MAF = config_net['hidden_dim_MAF']\n",
    "learning_rate = config_net['learning_rate']\n",
    "K_M1 = config_net['K_M1']\n",
    "B_M1 = config_net['B_M1']\n",
    "nflows_M1_NSF = config_net['nflows_M1_NSF']\n",
    "\n",
    "K_Mdiff = config_net['K_Mdiff']\n",
    "B_Mdiff = config_net['B_Mdiff']\n",
    "nflows_Mdiff_NSF = config_net['nflows_Mdiff_NSF']\n",
    "\n",
    "base_dist_Ntot = config_net['base_dist_Ntot']\n",
    "if base_dist_Ntot == 'None':\n",
    "    base_dist_Ntot = None\n",
    "base_dist_M1 = config_net['base_dist_M1']\n",
    "base_dist_Mdiff = config_net['base_dist_Mdiff']\n",
    "ngauss_M1 = config_net['ngauss_M1']\n",
    "\n",
    "changelr = config_net['changelr']\n",
    "ksize = nf\n",
    "nfeature_cnn = config_net['nfeature_cnn']\n",
    "nout_cnn = 4 * nfeature_cnn\n",
    "if cond_sim == 'fastpm':\n",
    "    ninp = len(z_all_FP)\n",
    "elif cond_sim == 'quijote':\n",
    "    ninp = len(z_all)\n",
    "else:\n",
    "    raise ValueError(\"cond_sim not supported\")\n",
    "\n",
    "num_cond = nout_cnn + ninp\n",
    "\n",
    "\n",
    "df_d_all_train, df_d_all_nsh_train, df_Mh_all_train, df_Nh_train, ind_subsel_train = load_density_halo_data_NGP(\n",
    "    ji_array, ns_d, nb, nf, nc, z_all, ns_h,sdir='/mnt/home/spandey/ceph/Quijote/data_NGP_self',\n",
    "    stype=stype, mass_type=mass_type, lgMmincutstr = lgMmincutstr, subsel_highM1=subsel_highM1, nsubsel=nsubsel, is_HR = is_HR\n",
    "    )\n",
    "\n",
    "# # Prepare the density and halo data\n",
    "return_dict_train = prep_density_halo_cats_batched(\n",
    "    df_d_all_train, df_d_all_nsh_train, df_Mh_all_train, df_Nh_train, nsims=nsims_per_batch,\n",
    "    nbatches = nbatches_train, Mmin=lgMmin, Mmax=lgMmax, rescaleM_sub=rescale_sub, Nmax=Nmax\n",
    "    )\n",
    "\n",
    "if cond_sim == 'fastpm':\n",
    "    df_d_all_train_FP, df_d_all_nsh_train_FP, df_Mh_all_train_FP, df_Nh_train_FP, ind_subsel_train_FP = load_density_halo_data_NGP(\n",
    "        ji_array, ns_d, nb, nf, nc, z_all_FP, ns_h, stype=stype,sdir='/mnt/home/spandey/ceph/Quijote/data_NGP_self/fastpm', subsel_highM1=subsel_highM1, ind_subsel=ind_subsel_train\n",
    "        )\n",
    "\n",
    "    # # Prepare the density and halo data\n",
    "    return_dict_train_FP = prep_density_halo_cats_batched(\n",
    "        df_d_all_train_FP, df_d_all_nsh_train_FP, df_Mh_all_train_FP, df_Nh_train_FP, nsims=nsims_per_batch,\n",
    "        nbatches = nbatches_train, Mmin=lgMmin, Mmax=lgMmax, rescaleM_sub=rescale_sub\n",
    "        )\n",
    "else:\n",
    "    return_dict_train_FP = None\n",
    "\n",
    "    \n"
   ]
  },
  {
   "cell_type": "code",
   "execution_count": 5,
   "metadata": {},
   "outputs": [
    {
     "data": {
      "text/plain": [
       "6"
      ]
     },
     "execution_count": 5,
     "metadata": {},
     "output_type": "execute_result"
    }
   ],
   "source": [
    "# is_HR\n",
    "# stype\n",
    "Nmax\n",
    "# mass_type\n",
    "\n",
    "\n"
   ]
  },
  {
   "cell_type": "code",
   "execution_count": null,
   "metadata": {},
   "outputs": [],
   "source": []
  },
  {
   "cell_type": "code",
   "execution_count": 6,
   "metadata": {},
   "outputs": [
    {
     "data": {
      "text/plain": [
       "dict_keys(['df_d_all', 'df_d_all_nsh', 'M_halos_all_sort_norm', 'Mmin', 'Mmax', 'Nmax', 'mask_M_diff', 'mask_M1', 'M1_halos_all_norm', 'M_diff_halos_all_norm_masked', 'Nhalo_train_mg_arr', 'N_halos_all', 'mu_all', 'sig_all', 'ngauss_Nhalo'])"
      ]
     },
     "execution_count": 6,
     "metadata": {},
     "output_type": "execute_result"
    }
   ],
   "source": [
    "# len(ind_subsel_train_FP), len(ind_subsel_train)\n",
    "return_dict_train.keys()\n",
    "# df_d_all_train.shape\n",
    "# ji_array\n",
    "\n",
    "\n"
   ]
  },
  {
   "cell_type": "code",
   "execution_count": 7,
   "metadata": {},
   "outputs": [
    {
     "data": {
      "text/plain": [
       "((512, 16, 16, 16), (512, 4096))"
      ]
     },
     "execution_count": 7,
     "metadata": {},
     "output_type": "execute_result"
    }
   ],
   "source": [
    "# return_dict_train['df_d_all'].shape, return_dict_train_FP['df_d_all'].shape\n",
    "# return_dict_train['M_halos_all_sort_norm'].shape, return_dict_train_FP['M_halos_all_sort_norm'].shape\n",
    "# return_dict_train['M_diff_halos_all_norm_masked'].shape\n",
    "return_dict_train['df_d_all_nsh'][0,:,0,...].shape, return_dict_train['N_halos_all'][0,...].shape\n"
   ]
  },
  {
   "cell_type": "code",
   "execution_count": 8,
   "metadata": {},
   "outputs": [
    {
     "data": {
      "text/plain": [
       "6"
      ]
     },
     "execution_count": 8,
     "metadata": {},
     "output_type": "execute_result"
    }
   ],
   "source": [
    "# np.amax(return_dict_train['N_halos_all'])\n",
    "Nmax\n"
   ]
  },
  {
   "cell_type": "code",
   "execution_count": 9,
   "metadata": {},
   "outputs": [
    {
     "data": {
      "image/png": "[encoded data removed]",
      "text/plain": [
       "<Figure size 640x480 with 1 Axes>"
      ]
     },
     "metadata": {},
     "output_type": "display_data"
    }
   ],
   "source": [
    "pl.figure()\n",
    "_ = pl.scatter(return_dict_train['df_d_all_nsh'][0,:,0,...].flatten()[::100], return_dict_train['N_halos_all'][0,...].flatten()[::100], s=0.1)\n"
   ]
  },
  {
   "cell_type": "code",
   "execution_count": 10,
   "metadata": {},
   "outputs": [
    {
     "data": {
      "image/png": "[encoded data removed]",
      "text/plain": [
       "<Figure size 640x480 with 1 Axes>"
      ]
     },
     "metadata": {},
     "output_type": "display_data"
    }
   ],
   "source": [
    "pl.figure()\n",
    "_ = pl.scatter(return_dict_train['df_d_all_nsh'][0,:,0,...].flatten()[::100], return_dict_train['M1_halos_all_norm'][0,...].flatten()[::100], s=0.1)\n",
    "\n"
   ]
  },
  {
   "cell_type": "code",
   "execution_count": 11,
   "metadata": {},
   "outputs": [
    {
     "data": {
      "image/png": "[encoded data removed]",
      "text/plain": [
       "<Figure size 640x480 with 1 Axes>"
      ]
     },
     "metadata": {},
     "output_type": "display_data"
    }
   ],
   "source": [
    "# lgMmin\n",
    "# return_dict_train_FP['M1_halos_all_norm']\n",
    "delta_all = return_dict_train['df_d_all_nsh'][0,:,0,...].reshape(512, 4096)\n",
    "indsel = np.where(delta_all > 2.5)\n",
    "pl.figure()\n",
    "_ = pl.hist(return_dict_train_FP['M1_halos_all_norm'][0,...][indsel].flatten(), bins=100, alpha=0.5, label='FP')\n",
    "_ = pl.hist(return_dict_train['M1_halos_all_norm'][0,...][indsel].flatten(), bins=100, alpha=0.5, label='PM')\n",
    "pl.yscale('log')\n"
   ]
  },
  {
   "cell_type": "code",
   "execution_count": 14,
   "metadata": {},
   "outputs": [
    {
     "data": {
      "image/png": "[encoded data removed]",
      "text/plain": [
       "<Figure size 640x480 with 1 Axes>"
      ]
     },
     "metadata": {},
     "output_type": "display_data"
    }
   ],
   "source": [
    "pl.figure()\n",
    "_ = pl.hist(return_dict_train['M_diff_halos_all_norm_masked'][...,0].flatten(), bins=50, range=(0,1.5), histtype='step', label='z=0')\n",
    "_ = pl.hist(return_dict_train['M_diff_halos_all_norm_masked'][...,1].flatten(), bins=50, range=(0,1.5), alpha=0.3)\n",
    "_ = pl.hist(return_dict_train['M_diff_halos_all_norm_masked'][...,2].flatten(), bins=50, range=(0,1.5), alpha=0.3)\n",
    "pl.yscale('log')\n"
   ]
  },
  {
   "cell_type": "code",
   "execution_count": 15,
   "metadata": {},
   "outputs": [
    {
     "data": {
      "text/plain": [
       "(1, 512, 4, 32, 32, 32)"
      ]
     },
     "execution_count": 15,
     "metadata": {},
     "output_type": "execute_result"
    }
   ],
   "source": [
    "return_dict_train['df_d_all'].shape"
   ]
  },
  {
   "cell_type": "code",
   "execution_count": 16,
   "metadata": {},
   "outputs": [
    {
     "data": {
      "text/plain": [
       "<matplotlib.image.AxesImage at 0x1554514e9e50>"
      ]
     },
     "execution_count": 16,
     "metadata": {},
     "output_type": "execute_result"
    },
    {
     "data": {
      "image/png": "[encoded data removed]",
      "text/plain": [
       "<Figure size 640x480 with 1 Axes>"
      ]
     },
     "metadata": {},
     "output_type": "display_data"
    },
    {
     "data": {
      "image/png": "[encoded data removed]",
      "text/plain": [
       "<Figure size 640x480 with 1 Axes>"
      ]
     },
     "metadata": {},
     "output_type": "display_data"
    }
   ],
   "source": [
    "indp = 109\n",
    "\n",
    "pl.figure()\n",
    "pl.imshow(return_dict_train['df_d_all_nsh'][0,indp, 0, 8, :, :])\n",
    "pl.figure()\n",
    "pl.imshow(return_dict_train_FP['df_d_all_nsh'][0,indp, 0, 8, :, :])\n",
    "\n"
   ]
  },
  {
   "cell_type": "code",
   "execution_count": 17,
   "metadata": {},
   "outputs": [
    {
     "data": {
      "text/plain": [
       "<matplotlib.image.AxesImage at 0x1554513e1d00>"
      ]
     },
     "execution_count": 17,
     "metadata": {},
     "output_type": "execute_result"
    },
    {
     "data": {
      "image/png": "[encoded data removed]",
      "text/plain": [
       "<Figure size 640x480 with 1 Axes>"
      ]
     },
     "metadata": {},
     "output_type": "display_data"
    },
    {
     "data": {
      "image/png": "[encoded data removed]",
      "text/plain": [
       "<Figure size 640x480 with 1 Axes>"
      ]
     },
     "metadata": {},
     "output_type": "display_data"
    }
   ],
   "source": [
    "# indp = 10\n",
    "import matplotlib\n",
    "%matplotlib inline\n",
    "import matplotlib.pyplot as pl\n",
    "pl.figure()\n",
    "pl.imshow(return_dict_train['M_halos_all_sort_norm'][0,indp,:, 0].reshape(16,16,16)[8,:,:])\n",
    "pl.figure()\n",
    "pl.imshow(return_dict_train_FP['M_halos_all_sort_norm'][0,indp,:,0].reshape(16,16,16)[8,:,:])\n",
    "\n"
   ]
  },
  {
   "cell_type": "code",
   "execution_count": 12,
   "metadata": {},
   "outputs": [],
   "source": [
    "lgM_array = np.linspace(lgMmin, lgMmax, 1000)\n",
    "M_array = 10**lgM_array\n",
    "if '200c' in mass_type:\n",
    "    hmf = mass_function.massFunction(M_array, 0, mdef = '200c', model = 'tinker08', q_out = 'dndlnM')\n",
    "if 'vir' in mass_type:\n",
    "    hmf = mass_function.massFunction(M_array, 0, mdef = 'vir', model = 'tinker08', q_out = 'dndlnM')    \n",
    "if 'fof' in mass_type:\n",
    "    hmf = mass_function.massFunction(M_array, 0, mdef = 'fof', model = 'bhattacharya11', q_out = 'dndlnM')\n",
    "lgM_rescaled = rescale_sub + (lgM_array - lgMmin)/(lgMmax-lgMmin)\n",
    "\n",
    "int_val = sp.integrate.simps(hmf, lgM_rescaled)\n",
    "hmf_pdf = hmf/int_val\n",
    "# define the cdf of the halo mass function\n",
    "hmf_cdf = np.zeros_like(hmf_pdf)\n",
    "for i in range(len(hmf_cdf)):\n",
    "    hmf_cdf[i] = sp.integrate.simps(hmf_pdf[:i+1], lgM_rescaled[:i+1])\n",
    "\n",
    "\n",
    "# num_cond_Ntot = num_cond\n",
    "# model_Ntot = SumGaussModel(\n",
    "#     hidden_dim=hidden_dim_MAF,\n",
    "#     num_cond=num_cond_Ntot,\n",
    "#     ngauss=return_dict_train['ngauss_Nhalo'],\n",
    "#     mu_all=return_dict_train['mu_all'],\n",
    "#     sig_all=return_dict_train['sig_all'],\n",
    "#     base_dist=base_dist_Ntot   \n",
    "#     )\n",
    "\n",
    "# num_cond_M1 = num_cond + 1\n",
    "# # if conditioned on fastpm we will also give the fastpm fof M1 halos and its mask as conditional\n",
    "# if cond_sim == 'fastpm':\n",
    "#     num_cond_M1 += 2\n",
    "\n",
    "# model_M1 = NSF_M1_CNNcond(\n",
    "#     K=K_M1,\n",
    "#     B=B_M1,\n",
    "#     hidden_dim=hidden_dim_MAF,\n",
    "#     num_cond=num_cond_M1,\n",
    "#     nflows=nflows_M1_NSF,\n",
    "#     base_dist=base_dist_M1,\n",
    "#     ngauss=ngauss_M1,\n",
    "#     lgM_rs_tointerp=lgM_rescaled,\n",
    "#     hmf_pdf_tointerp=hmf_pdf,\n",
    "#     hmf_cdf_tointerp=hmf_cdf    \n",
    "#     )\n",
    "\n",
    "# ndim_diff = return_dict_train['M_diff_halos_all_norm_masked'][0].shape[2]\n",
    "# num_cond_Mdiff = num_cond + 2\n",
    "# model_Mdiff = NSF_Mdiff_CNNcond(\n",
    "#     dim=ndim_diff,\n",
    "#     K=K_Mdiff,\n",
    "#     B=B_Mdiff,\n",
    "#     hidden_dim=hidden_dim_MAF,\n",
    "#     num_cond=num_cond_Mdiff,\n",
    "#     nflows=nflows_Mdiff_NSF,\n",
    "#     base_dist=base_dist_Mdiff,\n",
    "#     mu_pos=True\n",
    "#     )\n",
    "\n",
    "# ndim = ndim_diff + 1\n",
    "# model = COMBINED_Model(\n",
    "#     None,\n",
    "#     model_Mdiff,\n",
    "#     # None,\n",
    "#     model_M1,\n",
    "#     model_Ntot,\n",
    "#     ndim,\n",
    "#     ksize,\n",
    "#     ns_d,\n",
    "#     ns_h,\n",
    "#     nb,\n",
    "#     ninp,\n",
    "#     nfeature_cnn,\n",
    "#     nout_cnn,\n",
    "#     layers_types=layers_types,\n",
    "#     act='tanh',\n",
    "#     padding='valid',\n",
    "#     sep_Ntot_cond=True,\n",
    "#     sep_M1_cond=True,\n",
    "#     sep_Mdiff_cond=True,\n",
    "#     num_cond_Ntot = num_cond_Ntot,\n",
    "#     num_cond_M1 = num_cond_M1,\n",
    "#     num_cond_Mdiff = num_cond_Mdiff\n",
    "#     )\n",
    "\n",
    "# model.to(dev)\n",
    "\n",
    "# print()\n"
   ]
  },
  {
   "cell_type": "code",
   "execution_count": 13,
   "metadata": {},
   "outputs": [],
   "source": [
    "# base_dist_Ntot\n"
   ]
  },
  {
   "cell_type": "code",
   "execution_count": 14,
   "metadata": {},
   "outputs": [],
   "source": [
    "from torch.utils.data import DataLoader, Dataset\n",
    "# class LoadCustomData(Dataset):\n",
    "#     def __init__(self, return_dict, return_dict_FP, all_gpu=False):\n",
    "#         if return_dict_FP is not None:\n",
    "#             self.cond_tensor = torch.Tensor(np.array(return_dict_FP['df_d_all']))\n",
    "#             cond_nsh = np.moveaxis(np.array(return_dict_FP['df_d_all_nsh']), 2, 5)\n",
    "#             self.cond_tensor_nsh = torch.Tensor((cond_nsh)).reshape(-1, nsims_per_batch * (nax_h ** 3), ninp)\n",
    "#         else:\n",
    "#             self.cond_tensor = torch.Tensor(np.array(return_dict['df_d_all']))\n",
    "#             cond_nsh = np.moveaxis(np.array(return_dict['df_d_all_nsh']), 2, 5)\n",
    "#             self.cond_tensor_nsh = torch.Tensor((cond_nsh)).reshape(-1, nsims_per_batch * (nax_h ** 3), ninp)\n",
    "\n",
    "#         self.mask_tensor_M1_train = torch.Tensor(np.array(return_dict['mask_M1'])).reshape(-1, nsims_per_batch * (nax_h**3))\n",
    "#         self.mask_tensor_Mdiff_train = torch.Tensor((np.array(return_dict['mask_M_diff']))).reshape(-1, nsims_per_batch * (nax_h**3), ndim_diff)\n",
    "\n",
    "#         self.X_M1 = torch.Tensor((np.array(return_dict['M1_halos_all_norm']))).reshape(-1, nsims_per_batch * (nax_h**3), 1)\n",
    "#         self.X_Nhalo = torch.Tensor(np.array(return_dict['Nhalo_train_mg_arr'])).reshape(-1, nsims_per_batch * (nax_h**3), 1)\n",
    "#         self.X_Mdiff = torch.Tensor(np.array(return_dict['M_diff_halos_all_norm_masked'])).reshape(-1, nsims_per_batch * (nax_h**3),ndim_diff)\n",
    "#         self.Nhalos_truth_tensor = torch.Tensor(((np.array(return_dict['N_halos_all'])))).reshape(-1, nsims_per_batch * (nax_h**3), 1)\n",
    "\n",
    "#         if return_dict_FP is not None:\n",
    "#             self.mask_tensor_M1_train_FP = torch.Tensor(np.array(return_dict_FP['mask_M1'])).reshape(-1, nsims_per_batch * (nax_h**3))\n",
    "#             self.X_M1_FP = torch.Tensor((np.array(return_dict_FP['M1_halos_all_norm']))).reshape(-1, nsims_per_batch * (nax_h**3), 1)\n",
    "#         else:\n",
    "#             self.mask_tensor_M1_train_FP = None\n",
    "#             self.X_M1_FP = None\n",
    "#         if all_gpu:\n",
    "            # self.cond_tensor = self.cond_tensor.cuda(dev)\n",
    "            # self.cond_tensor_nsh = self.cond_tensor_nsh.cuda(dev)\n",
    "            # self.mask_tensor_M1_train = self.mask_tensor_M1_train.cuda(dev)\n",
    "            # self.mask_tensor_Mdiff_train = self.mask_tensor_Mdiff_train.cuda(dev)\n",
    "            # self.X_M1 = self.X_M1.cuda(dev)\n",
    "            # self.X_Nhalo = self.X_Nhalo.cuda(dev)\n",
    "            # self.X_Mdiff = self.X_Mdiff.cuda(dev)\n",
    "            # self.Nhalos_truth_tensor = self.Nhalos_truth_tensor.cuda(dev)\n",
    "            # if return_dict_FP is not None:\n",
    "            #     self.mask_tensor_M1_train_FP = self.mask_tensor_M1_train_FP.cuda(dev)\n",
    "            #     self.X_M1_FP = self.X_M1_FP.cuda(dev)\n",
    "\n",
    "#     def __len__(self):\n",
    "#         return len(self.cond_tensor)\n",
    "\n",
    "#     def __getitem__(self, idx):\n",
    "#         cond_tensor = (self.cond_tensor[idx,...])\n",
    "#         cond_tensor_nsh = self.cond_tensor_nsh[idx,...]\n",
    "#         mask_tensor_M1_train = self.mask_tensor_M1_train[idx,...]\n",
    "#         mask_tensor_Mdiff_train =self.mask_tensor_Mdiff_train[idx,...]\n",
    "#         X_M1 = self.X_M1[idx,...]\n",
    "#         X_Nhalo = self.X_Nhalo[idx,...]\n",
    "#         X_Mdiff = self.X_Mdiff[idx,...]\n",
    "#         Nhalos_truth_tensor = self.Nhalos_truth_tensor[idx,...]\n",
    "#         if self.mask_tensor_M1_train_FP is not None:\n",
    "#             mask_tensor_M1_train_FP = self.mask_tensor_M1_train_FP[idx,...]\n",
    "#             X_M1_FP = self.X_M1_FP[idx,...]\n",
    "#         else:\n",
    "#             mask_tensor_M1_train_FP = torch.Tensor([-9999])\n",
    "#             X_M1_FP = torch.Tensor([-9999])\n",
    "\n",
    "#         return (cond_tensor, cond_tensor_nsh, mask_tensor_M1_train, mask_tensor_Mdiff_train, X_M1, X_Nhalo,\n",
    "#                  X_Mdiff, Nhalos_truth_tensor, mask_tensor_M1_train_FP, X_M1_FP)\n",
    "\n",
    "\n",
    "from torch.utils.data import DataLoader, Dataset\n",
    "\n",
    "\n",
    "ndim_diff = return_dict_train['M_diff_halos_all_norm_masked'][0].shape[2]\n",
    "\n",
    "if return_dict_train_FP is not None:\n",
    "    cond_tensor = torch.Tensor(np.array(return_dict_train_FP['df_d_all']))\n",
    "    cond_nsh = np.moveaxis(np.array(return_dict_train_FP['df_d_all_nsh']), 2, 5)\n",
    "    cond_tensor_nsh = torch.Tensor((cond_nsh)).reshape(-1, nsims_per_batch * (nax_h ** 3), ninp)\n",
    "else:\n",
    "    cond_tensor = torch.Tensor(np.array(return_dict_train['df_d_all']))\n",
    "    cond_nsh = np.moveaxis(np.array(return_dict_train['df_d_all_nsh']), 2, 5)\n",
    "    cond_tensor_nsh = torch.Tensor((cond_nsh)).reshape(-1, nsims_per_batch * (nax_h ** 3), ninp)\n",
    "\n",
    "mask_tensor_M1_train = torch.Tensor(np.array(return_dict_train['mask_M1'])).reshape(-1, nsims_per_batch * (nax_h**3))\n",
    "mask_tensor_Mdiff_train = torch.Tensor((np.array(return_dict_train['mask_M_diff']))).reshape(-1, nsims_per_batch * (nax_h**3), ndim_diff)\n",
    "\n",
    "X_M1 = torch.Tensor((np.array(return_dict_train['M1_halos_all_norm']))).reshape(-1, nsims_per_batch * (nax_h**3), 1)\n",
    "X_Nhalo = torch.Tensor(np.array(return_dict_train['Nhalo_train_mg_arr'])).reshape(-1, nsims_per_batch * (nax_h**3), 1)\n",
    "X_Mdiff = torch.Tensor(np.array(return_dict_train['M_diff_halos_all_norm_masked'])).reshape(-1, nsims_per_batch * (nax_h**3),ndim_diff)\n",
    "Nhalos_truth_tensor = torch.Tensor(((np.array(return_dict_train['N_halos_all'])))).reshape(-1, nsims_per_batch * (nax_h**3), 1)\n",
    "\n",
    "if return_dict_train_FP is not None:\n",
    "    mask_tensor_M1_train_FP = torch.Tensor(np.array(return_dict_train_FP['mask_M1'])).reshape(-1, nsims_per_batch * (nax_h**3))\n",
    "    X_M1_FP = torch.Tensor((np.array(return_dict_train_FP['M1_halos_all_norm']))).reshape(-1, nsims_per_batch * (nax_h**3), 1)\n",
    "else:\n",
    "    mask_tensor_M1_train_FP = None\n",
    "    X_M1_FP = None\n",
    "\n",
    "    \n",
    "cond_tensor = cond_tensor.cuda(dev)\n",
    "cond_tensor_nsh = cond_tensor_nsh.cuda(dev)\n",
    "mask_tensor_M1_train = mask_tensor_M1_train.cuda(dev)\n",
    "mask_tensor_Mdiff_train = mask_tensor_Mdiff_train.cuda(dev)\n",
    "X_M1 = X_M1.cuda(dev)\n",
    "X_Nhalo = X_Nhalo.cuda(dev)\n",
    "X_Mdiff = X_Mdiff.cuda(dev)\n",
    "\n",
    "\n",
    "Nhalos_truth_tensor = Nhalos_truth_tensor.cuda(dev)\n",
    "if return_dict_train_FP is not None:\n",
    "    mask_tensor_M1_train_FP = mask_tensor_M1_train_FP.cuda(dev)\n",
    "    X_M1_FP = X_M1_FP.cuda(dev)\n",
    "\n"
   ]
  },
  {
   "cell_type": "code",
   "execution_count": 15,
   "metadata": {},
   "outputs": [
    {
     "data": {
      "text/plain": [
       "(tensor(0., device='cuda:0'),\n",
       " tensor(6., device='cuda:0'),\n",
       " array([1, 2, 3, 4, 5, 6, 7]))"
      ]
     },
     "execution_count": 15,
     "metadata": {},
     "output_type": "execute_result"
    }
   ],
   "source": [
    "torch.amin(Nhalos_truth_tensor), torch.amax(Nhalos_truth_tensor), return_dict_train['mu_all']\n"
   ]
  },
  {
   "cell_type": "code",
   "execution_count": 12,
   "metadata": {},
   "outputs": [],
   "source": [
    "# # X_Nhalo.shape, cond_tensor_nsh.shape\n",
    "# np.array(return_dict_train['N_halos_all']).shape, cond_nsh.shape, np.array(return_dict_train['M1_halos_all_norm']).shape\n",
    "\n",
    "# Nhalos_3d = np.array(return_dict_train['N_halos_all']).reshape(-1, nsims_per_batch, nax_h, nax_h, nax_h)\n",
    "# Mhalos_3d = np.array(return_dict_train['M1_halos_all_norm']).reshape(-1, nsims_per_batch, nax_h, nax_h, nax_h)\n",
    "# delta_m_3d = cond_nsh[...,0]\n",
    "\n",
    "\n"
   ]
  },
  {
   "cell_type": "code",
   "execution_count": 13,
   "metadata": {},
   "outputs": [],
   "source": [
    "# # make a three panel plot\n",
    "# import matplotlib.pyplot as pl\n",
    "# import matplotlib\n",
    "# %matplotlib inline\n",
    "# indsim = 300\n",
    "# pl.figure()\n",
    "# pl.subplot(131)\n",
    "# pl.imshow(Nhalos_3d[0,indsim,0,...])\n",
    "# # pl.colorbar()\n",
    "# pl.subplot(132)\n",
    "# pl.imshow(Mhalos_3d[0,indsim,0,...])\n",
    "# # pl.colorbar()\n",
    "# pl.subplot(133)\n",
    "# pl.imshow(delta_m_3d[0,indsim,0,...])\n",
    "# # pl.colorbar()\n"
   ]
  },
  {
   "cell_type": "code",
   "execution_count": 14,
   "metadata": {},
   "outputs": [],
   "source": [
    "\n",
    "# delta_m = cond_tensor_nsh[0,:,0].cpu().numpy()\n",
    "# Nhalo = X_Nhalo[0,:,0].cpu().numpy()\n",
    "# indsel = np.where((delta_m > 3) & (delta_m < 100))[0]\n",
    "# pl.figure()\n",
    "# pl.scatter(delta_m[indsel], Nhalo[indsel], s=0.1)\n"
   ]
  },
  {
   "cell_type": "code",
   "execution_count": 15,
   "metadata": {},
   "outputs": [],
   "source": [
    "# np.amin(delta_m), np.amax(delta_m), np.amin(Nhalo), np.amax(Nhalo)\n",
    "\n"
   ]
  },
  {
   "cell_type": "code",
   "execution_count": null,
   "metadata": {},
   "outputs": [],
   "source": [
    "\n",
    "\n"
   ]
  },
  {
   "cell_type": "code",
   "execution_count": 16,
   "metadata": {},
   "outputs": [
    {
     "name": "stdout",
     "output_type": "stream",
     "text": [
      "/mnt/home/spandey/ceph/AR_NPE/TRAIN_ROCKSTAR_FOF/LONGTRAIN_CLIPPED_FINALTEST_SUBSEL_Ntot_M1_Mdiff_plexp_ns_10_cond_sim_fastpm_nc4_mass_rockstar_200c_KM1_8_stype_cic_L2normNtothist_False_L2normM1hist_False_Nmax6_COND_FPMFOF False\n"
     ]
    }
   ],
   "source": [
    "with open(\"/mnt/home/spandey/ceph/AR_NPE/run_configs/\" + run_config_name,\"r\") as file_object:\n",
    "    config=yaml.load(file_object,Loader=yaml.SafeLoader)\n",
    "\n",
    "config_train = config['train_settings']\n",
    "batch_size = config_train['batch_size_DL']\n",
    "all_gpu = config_train['all_gpu']\n",
    "\n",
    "try:\n",
    "    L2norm_Ntothist = config_train['L2norm_Ntothist']\n",
    "except:\n",
    "    L2norm_Ntothist = False\n",
    "\n",
    "try:\n",
    "    L2norm_M1hist = config_train['L2norm_M1hist']\n",
    "except:\n",
    "    L2norm_M1hist = False\n",
    "\n",
    "nflows_train = config_train['nflows_train']\n",
    "\n",
    "# save_bestfit_model_dir = '/mnt/home/spandey/ceph/AR_NPE/' + 'TRAIN_ROCKSTAR_FOF/CLIPPED_FINALTEST_SUBSEL_Ntot_M1_Mdiff_plexp_ns_' + str(len(ji_array)) + \\\n",
    "#                             '_cond_sim_' + cond_sim  \\\n",
    "#                             + '_nc' + str(nc) + '_mass_' + mass_type + \\\n",
    "#                             '_KM1_' + str(K_M1) + \\\n",
    "#                             '_stype_' + stype + \\\n",
    "#                             '_L2normNtothist_' + str(L2norm_Ntothist) + '_L2normM1hist_' + str(L2norm_M1hist) + '_TRY2'\n",
    "\n",
    "save_string = config_train['save_string']\n",
    "\n",
    "save_bestfit_model_dir = '/mnt/home/spandey/ceph/AR_NPE/' + 'TRAIN_ROCKSTAR_FOF/LONGTRAIN_CLIPPED_FINALTEST_SUBSEL_Ntot_M1_Mdiff_plexp_ns_' + str(len(ji_array)) + \\\n",
    "                            '_cond_sim_' + cond_sim  \\\n",
    "                            + '_nc' + str(nc) + '_mass_' + mass_type + \\\n",
    "                            '_KM1_' + str(K_M1) + \\\n",
    "                            '_stype_' + stype + \\\n",
    "                            '_L2normNtothist_' + str(L2norm_Ntothist) + '_L2normM1hist_' + str(L2norm_M1hist) + '_Nmax' + str(Nmax) + save_string\n",
    "\n",
    "\n",
    "print(save_bestfit_model_dir, os.path.exists(save_bestfit_model_dir))\n",
    "# make directory if it doesn't exist\n",
    "import os\n",
    "if not os.path.exists(save_bestfit_model_dir):\n",
    "    os.makedirs(save_bestfit_model_dir)\n",
    "\n",
    "\n",
    "nepochs_Ntot_only = config_train['nepochs_Ntot_only']\n",
    "nepochs_Ntot_M1_only = config_train['nepochs_Ntot_M1_only']\n",
    "nepochs_all = config_train['nepochs_all']\n",
    "\n",
    "\n",
    "\n",
    "# save_bestfit_model_dir = '/mnt/home/spandey/ceph/AR_NPE/' + 'TRAIN_ROCKSTAR_FOF/FINALTEST_SUBSEL_TEST_FINALS_SIMPLE_BATCHED_model_save_nsim' + str(len(ji_array)) + \\\n",
    "#                             '_cond_sim_' + cond_sim + \\\n",
    "#                             '_nsd' + str(ns_d) + '_nc' + str(nc) + '_nsh' + str(ns_h) + '_mass_' + mass_type + \\\n",
    "#                             '_KM1_' + str(K_M1) + \\\n",
    "#                             '_stype_' + stype + '_nsimperbatch' + str(nsims_per_batch) + '_nbatches' + str(nbatches_train) + \\\n",
    "#                             '_L2normNtothist_' + str(L2norm_Ntothist) + '_L2normM1hist_' + str(L2norm_M1hist)\n",
    "\n",
    "# save_bestfit_model_dir = '/mnt/home/spandey/ceph/AR_NPE/' + 'TRAIN_ROCKSTAR_FOF/FINALTEST2_SUBSEL_ns_' + str(len(ji_array)) + \\\n",
    "#                             '_cond_sim_' + cond_sim  \\\n",
    "#                             + '_nc' + str(nc) + '_mass_' + mass_type + \\\n",
    "#                             '_KM1_' + str(K_M1) + \\\n",
    "#                             '_stype_' + stype + \\\n",
    "#                             '_L2normNtothist_' + str(L2norm_Ntothist) + '_L2normM1hist_' + str(L2norm_M1hist)\n",
    "\n",
    "# save_bestfit_model_dir = '/mnt/home/spandey/ceph/AR_NPE/' + 'TRAIN_ROCKSTAR_FOF/FINALTEST2_NOSUBSEL_plexp_ns_' + str(len(ji_array)) + \\\n",
    "#                             '_cond_sim_' + cond_sim  \\\n",
    "#                             + '_nc' + str(nc) + '_mass_' + mass_type + \\\n",
    "#                             '_KM1_' + str(K_M1) + \\\n",
    "#                             '_stype_' + stype + \\\n",
    "#                             '_L2normNtothist_' + str(L2norm_Ntothist) + '_L2normM1hist_' + str(L2norm_M1hist)\n",
    "\n",
    "# print(save_bestfit_model_dir, os.path.exists(save_bestfit_model_dir))\n",
    "# # make directory if it doesn't exist\n",
    "# import os\n",
    "# if not os.path.exists(save_bestfit_model_dir):\n",
    "#     os.makedirs(save_bestfit_model_dir)\n",
    "\n",
    "# start_with_bestfit = config_train['start_with_bestfit']\n",
    "\n",
    "# if start_with_bestfit:\n",
    "#     try:\n",
    "#         print('loading bestfit model')\n",
    "#         bestfit_model = (torch.load(save_bestfit_model_name))\n",
    "#         model.load_state_dict(bestfit_model['state_dict'])\n",
    "#         optimizer.load_state_dict(bestfit_model['optimizer'])\n",
    "#         scheduler.load_state_dict(bestfit_model['scheduler'])\n",
    "#         loss_min = bestfit_model['loss_min']\n",
    "#         loss = bestfit_model['loss']\n",
    "#         lr = bestfit_model['lr']\n",
    "#         epoch_tot_counter = bestfit_model['epoch_tot_counter']\n",
    "#         for g in optimizer.param_groups:\n",
    "#             # g['lr'] = lr\n",
    "#             g['lr'] = 0.01          \n",
    "\n",
    "#     except:\n",
    "#         print('no bestfit model found, running new')\n",
    "#         pass\n",
    "#         epoch_tot_counter = 0\n",
    "\n",
    "\n",
    "# dataset = LoadCustomData(return_dict_train, return_dict_train_FP, all_gpu=all_gpu)\n",
    "# dataloader = DataLoader(dataset, batch_size=batch_size, pin_memory=1 - all_gpu, num_workers=1)\n",
    "\n",
    "\n"
   ]
  },
  {
   "cell_type": "code",
   "execution_count": 11,
   "metadata": {},
   "outputs": [
    {
     "name": "stdout",
     "output_type": "stream",
     "text": [
      "\n"
     ]
    }
   ],
   "source": [
    "num_cond_Ntot = num_cond\n",
    "\n",
    "model_Ntot = SumGaussModel(\n",
    "    hidden_dim=hidden_dim_MAF,\n",
    "    num_cond=num_cond_Ntot,\n",
    "    ngauss=return_dict_train['ngauss_Nhalo'],\n",
    "    mu_all=return_dict_train['mu_all'],\n",
    "    sig_all=return_dict_train['sig_all'],\n",
    "    base_dist=base_dist_Ntot   \n",
    "    )\n",
    "\n",
    "num_cond_M1 = num_cond + 1\n",
    "# if conditioned on fastpm we will also give the fastpm fof M1 halos and its mask as conditional\n",
    "if cond_sim == 'fastpm':\n",
    "    num_cond_M1 += 2\n",
    "\n",
    "model_M1 = NSF_M1_CNNcond(\n",
    "    K=K_M1,\n",
    "    B=B_M1,\n",
    "    hidden_dim=hidden_dim_MAF,\n",
    "    num_cond=num_cond_M1,\n",
    "    nflows=nflows_M1_NSF,\n",
    "    base_dist=base_dist_M1,\n",
    "    ngauss=ngauss_M1,\n",
    "    lgM_rs_tointerp=lgM_rescaled,\n",
    "    hmf_pdf_tointerp=hmf_pdf,\n",
    "    hmf_cdf_tointerp=hmf_cdf    \n",
    "    )\n",
    "\n",
    "ndim_diff = return_dict_train['M_diff_halos_all_norm_masked'][0].shape[2]\n",
    "num_cond_Mdiff = num_cond + 2\n",
    "model_Mdiff = NSF_Mdiff_CNNcond(\n",
    "    dim=ndim_diff,\n",
    "    K=K_Mdiff,\n",
    "    B=B_Mdiff,\n",
    "    hidden_dim=hidden_dim_MAF,\n",
    "    num_cond=num_cond_Mdiff,\n",
    "    nflows=nflows_Mdiff_NSF,\n",
    "    base_dist=base_dist_Mdiff,\n",
    "    mu_pos=True\n",
    "    )\n",
    "\n",
    "ndim = ndim_diff + 1\n",
    "model = COMBINED_Model(\n",
    "    None,\n",
    "    model_Mdiff,\n",
    "    # None,\n",
    "    model_M1,\n",
    "    model_Ntot,\n",
    "    ndim,\n",
    "    ksize,\n",
    "    ns_d,\n",
    "    ns_h,\n",
    "    nb,\n",
    "    ninp,\n",
    "    nfeature_cnn,\n",
    "    nout_cnn,\n",
    "    layers_types=layers_types,\n",
    "    act='tanh',\n",
    "    padding='valid',\n",
    "    sep_Ntot_cond=True,\n",
    "    sep_M1_cond=True,\n",
    "    sep_Mdiff_cond=True,\n",
    "    num_cond_Ntot = num_cond_Ntot,\n",
    "    num_cond_M1 = num_cond_M1,\n",
    "    num_cond_Mdiff = num_cond_Mdiff\n",
    "    )\n",
    "\n",
    "model.to(dev)\n",
    "print()\n",
    "\n",
    "\n",
    "optimizer = optim.Adam(model.parameters(), lr=learning_rate)\n",
    "\n",
    "loss_all_it = []\n",
    "loss_min = 1e20\n",
    "epoch_tot_counter = 0\n",
    "scheduler = optim.lr_scheduler.ReduceLROnPlateau(optimizer, 'min', factor=0.25, patience=100, verbose=True, cooldown=100, min_lr=1e-8)\n",
    "\n",
    "\n",
    "\n"
   ]
  },
  {
   "cell_type": "code",
   "execution_count": 12,
   "metadata": {},
   "outputs": [
    {
     "name": "stdout",
     "output_type": "stream",
     "text": [
      "loading bestfit model\n",
      "-1.499788761138916 8881 0.00025\n"
     ]
    }
   ],
   "source": [
    "jf = 1\n",
    "save_bestfit_model_name = save_bestfit_model_dir + '/flow_' + str(jf)\n",
    "\n",
    "print('loading bestfit model')\n",
    "bestfit_model = (torch.load(save_bestfit_model_name))\n",
    "model.load_state_dict(bestfit_model['state_dict'])\n",
    "optimizer.load_state_dict(bestfit_model['optimizer'])\n",
    "scheduler.load_state_dict(bestfit_model['scheduler'])\n",
    "loss_min = bestfit_model['loss_min']\n",
    "loss = bestfit_model['loss']\n",
    "lr = bestfit_model['lr']\n",
    "epoch_tot_counter = bestfit_model['epoch_tot_counter']\n",
    "for g in optimizer.param_groups:\n",
    "    g['lr'] = lr\n",
    "    # g['lr'] = 0.001/4.\n",
    "\n",
    "print(loss_min, epoch_tot_counter, lr)\n",
    "\n",
    "\n",
    "\n",
    "\n"
   ]
  },
  {
   "cell_type": "code",
   "execution_count": 17,
   "metadata": {},
   "outputs": [
    {
     "data": {
      "text/plain": [
       "(20000, 10000, 28000)"
      ]
     },
     "execution_count": 17,
     "metadata": {},
     "output_type": "execute_result"
    }
   ],
   "source": [
    "# print(loss)\n",
    "\n",
    "# nepochs_Ntot_only = 1000\n",
    "# L2norm_Ntothist = True\n",
    "# print(nflows_train, nepochs_Ntot_only, nepochs_Ntot_M1_only, L2norm_Ntothist, L2norm_M1hist)\n",
    "nepochs_Ntot_only, nepochs_Ntot_M1_only, nepochs_all\n"
   ]
  },
  {
   "cell_type": "code",
   "execution_count": null,
   "metadata": {},
   "outputs": [
    {
     "name": "stdout",
     "output_type": "stream",
     "text": [
      "doing flow  0\n",
      "\n"
     ]
    },
    {
     "name": "stderr",
     "output_type": "stream",
     "text": [
      "  0%|          | 1/20000 [00:01<8:20:36,  1.50s/it]"
     ]
    },
    {
     "name": "stdout",
     "output_type": "stream",
     "text": [
      "saving bf at: , with loss: -0.9671 , at epoch: 0 learning rate: 0.001 , train_Ntot: 1 train_M1: 0 , train_Mdiff: 0 , epoch_tot_counter: 1\n"
     ]
    },
    {
     "name": "stderr",
     "output_type": "stream",
     "text": [
      "  1%|          | 102/20000 [00:12<46:20,  7.16it/s] "
     ]
    },
    {
     "name": "stdout",
     "output_type": "stream",
     "text": [
      "saving bf at: , with loss: -1.162 , at epoch: 100 learning rate: 0.001 , train_Ntot: 1 train_M1: 0 , train_Mdiff: 0 , epoch_tot_counter: 101\n"
     ]
    },
    {
     "name": "stderr",
     "output_type": "stream",
     "text": [
      "  1%|          | 201/20000 [00:22<34:27,  9.58it/s]  "
     ]
    },
    {
     "name": "stdout",
     "output_type": "stream",
     "text": [
      "saving bf at: , with loss: -1.21243 , at epoch: 200 learning rate: 0.001 , train_Ntot: 1 train_M1: 0 , train_Mdiff: 0 , epoch_tot_counter: 201\n"
     ]
    },
    {
     "name": "stderr",
     "output_type": "stream",
     "text": [
      "  2%|▏         | 301/20000 [00:32<32:28, 10.11it/s]"
     ]
    },
    {
     "name": "stdout",
     "output_type": "stream",
     "text": [
      "saving bf at: , with loss: -1.23821 , at epoch: 300 learning rate: 0.001 , train_Ntot: 1 train_M1: 0 , train_Mdiff: 0 , epoch_tot_counter: 301\n"
     ]
    },
    {
     "name": "stderr",
     "output_type": "stream",
     "text": [
      "  2%|▏         | 402/20000 [00:43<34:07,  9.57it/s]  "
     ]
    },
    {
     "name": "stdout",
     "output_type": "stream",
     "text": [
      "saving bf at: , with loss: -1.25433 , at epoch: 400 learning rate: 0.001 , train_Ntot: 1 train_M1: 0 , train_Mdiff: 0 , epoch_tot_counter: 401\n"
     ]
    },
    {
     "name": "stderr",
     "output_type": "stream",
     "text": [
      "  3%|▎         | 502/20000 [00:53<33:03,  9.83it/s]"
     ]
    },
    {
     "name": "stdout",
     "output_type": "stream",
     "text": [
      "saving bf at: , with loss: -1.26242 , at epoch: 500 learning rate: 0.001 , train_Ntot: 1 train_M1: 0 , train_Mdiff: 0 , epoch_tot_counter: 501\n"
     ]
    },
    {
     "name": "stderr",
     "output_type": "stream",
     "text": [
      "  3%|▎         | 601/20000 [01:03<33:14,  9.73it/s]"
     ]
    },
    {
     "name": "stdout",
     "output_type": "stream",
     "text": [
      "saving bf at: , with loss: -1.2678 , at epoch: 600 learning rate: 0.001 , train_Ntot: 1 train_M1: 0 , train_Mdiff: 0 , epoch_tot_counter: 601\n"
     ]
    },
    {
     "name": "stderr",
     "output_type": "stream",
     "text": [
      "  4%|▎         | 701/20000 [01:14<33:22,  9.64it/s]  "
     ]
    },
    {
     "name": "stdout",
     "output_type": "stream",
     "text": [
      "saving bf at: , with loss: -1.27136 , at epoch: 700 learning rate: 0.001 , train_Ntot: 1 train_M1: 0 , train_Mdiff: 0 , epoch_tot_counter: 701\n"
     ]
    },
    {
     "name": "stderr",
     "output_type": "stream",
     "text": [
      "  4%|▍         | 802/20000 [01:24<32:22,  9.88it/s]"
     ]
    },
    {
     "name": "stdout",
     "output_type": "stream",
     "text": [
      "saving bf at: , with loss: -1.27425 , at epoch: 800 learning rate: 0.001 , train_Ntot: 1 train_M1: 0 , train_Mdiff: 0 , epoch_tot_counter: 801\n"
     ]
    },
    {
     "name": "stderr",
     "output_type": "stream",
     "text": [
      "  5%|▍         | 902/20000 [01:34<32:01,  9.94it/s]"
     ]
    },
    {
     "name": "stdout",
     "output_type": "stream",
     "text": [
      "saving bf at: , with loss: -1.2764 , at epoch: 900 learning rate: 0.001 , train_Ntot: 1 train_M1: 0 , train_Mdiff: 0 , epoch_tot_counter: 901\n"
     ]
    },
    {
     "name": "stderr",
     "output_type": "stream",
     "text": [
      "  5%|▌         | 1002/20000 [01:45<32:09,  9.84it/s] "
     ]
    },
    {
     "name": "stdout",
     "output_type": "stream",
     "text": [
      "saving bf at: , with loss: -1.27792 , at epoch: 1000 learning rate: 0.001 , train_Ntot: 1 train_M1: 0 , train_Mdiff: 0 , epoch_tot_counter: 1001\n"
     ]
    },
    {
     "name": "stderr",
     "output_type": "stream",
     "text": [
      "  6%|▌         | 1101/20000 [01:55<32:10,  9.79it/s]"
     ]
    },
    {
     "name": "stdout",
     "output_type": "stream",
     "text": [
      "saving bf at: , with loss: -1.27893 , at epoch: 1100 learning rate: 0.001 , train_Ntot: 1 train_M1: 0 , train_Mdiff: 0 , epoch_tot_counter: 1101\n"
     ]
    },
    {
     "name": "stderr",
     "output_type": "stream",
     "text": [
      "  6%|▌         | 1202/20000 [02:05<31:55,  9.81it/s]"
     ]
    },
    {
     "name": "stdout",
     "output_type": "stream",
     "text": [
      "saving bf at: , with loss: -1.28098 , at epoch: 1200 learning rate: 0.001 , train_Ntot: 1 train_M1: 0 , train_Mdiff: 0 , epoch_tot_counter: 1201\n"
     ]
    },
    {
     "name": "stderr",
     "output_type": "stream",
     "text": [
      "  7%|▋         | 1301/20000 [02:16<33:05,  9.42it/s]"
     ]
    },
    {
     "name": "stdout",
     "output_type": "stream",
     "text": [
      "saving bf at: , with loss: -1.28135 , at epoch: 1300 learning rate: 0.001 , train_Ntot: 1 train_M1: 0 , train_Mdiff: 0 , epoch_tot_counter: 1301\n"
     ]
    },
    {
     "name": "stderr",
     "output_type": "stream",
     "text": [
      "  7%|▋         | 1402/20000 [02:26<31:42,  9.78it/s]"
     ]
    },
    {
     "name": "stdout",
     "output_type": "stream",
     "text": [
      "saving bf at: , with loss: -1.28314 , at epoch: 1400 learning rate: 0.001 , train_Ntot: 1 train_M1: 0 , train_Mdiff: 0 , epoch_tot_counter: 1401\n"
     ]
    },
    {
     "name": "stderr",
     "output_type": "stream",
     "text": [
      "  8%|▊         | 1502/20000 [02:36<31:46,  9.70it/s]"
     ]
    },
    {
     "name": "stdout",
     "output_type": "stream",
     "text": [
      "saving bf at: , with loss: -1.28403 , at epoch: 1500 learning rate: 0.001 , train_Ntot: 1 train_M1: 0 , train_Mdiff: 0 , epoch_tot_counter: 1501\n"
     ]
    },
    {
     "name": "stderr",
     "output_type": "stream",
     "text": [
      "  9%|▊         | 1702/20000 [02:57<31:16,  9.75it/s]  "
     ]
    },
    {
     "name": "stdout",
     "output_type": "stream",
     "text": [
      "saving bf at: , with loss: -1.28505 , at epoch: 1700 learning rate: 0.001 , train_Ntot: 1 train_M1: 0 , train_Mdiff: 0 , epoch_tot_counter: 1701\n"
     ]
    },
    {
     "name": "stderr",
     "output_type": "stream",
     "text": [
      "  9%|▉         | 1801/20000 [03:07<31:24,  9.66it/s]"
     ]
    },
    {
     "name": "stdout",
     "output_type": "stream",
     "text": [
      "saving bf at: , with loss: -1.28594 , at epoch: 1800 learning rate: 0.001 , train_Ntot: 1 train_M1: 0 , train_Mdiff: 0 , epoch_tot_counter: 1801\n"
     ]
    },
    {
     "name": "stderr",
     "output_type": "stream",
     "text": [
      " 10%|▉         | 1902/20000 [03:18<30:34,  9.87it/s]  "
     ]
    },
    {
     "name": "stdout",
     "output_type": "stream",
     "text": [
      "saving bf at: , with loss: -1.28632 , at epoch: 1900 learning rate: 0.001 , train_Ntot: 1 train_M1: 0 , train_Mdiff: 0 , epoch_tot_counter: 1901\n"
     ]
    },
    {
     "name": "stderr",
     "output_type": "stream",
     "text": [
      " 10%|█         | 2002/20000 [03:28<30:27,  9.85it/s]"
     ]
    },
    {
     "name": "stdout",
     "output_type": "stream",
     "text": [
      "saving bf at: , with loss: -1.28677 , at epoch: 2000 learning rate: 0.001 , train_Ntot: 1 train_M1: 0 , train_Mdiff: 0 , epoch_tot_counter: 2001\n"
     ]
    },
    {
     "name": "stderr",
     "output_type": "stream",
     "text": [
      " 11%|█         | 2202/20000 [03:49<29:54,  9.92it/s]  "
     ]
    },
    {
     "name": "stdout",
     "output_type": "stream",
     "text": [
      "saving bf at: , with loss: -1.28757 , at epoch: 2200 learning rate: 0.001 , train_Ntot: 1 train_M1: 0 , train_Mdiff: 0 , epoch_tot_counter: 2201\n"
     ]
    },
    {
     "name": "stderr",
     "output_type": "stream",
     "text": [
      " 12%|█▏        | 2302/20000 [03:59<29:41,  9.93it/s]"
     ]
    },
    {
     "name": "stdout",
     "output_type": "stream",
     "text": [
      "saving bf at: , with loss: -1.28812 , at epoch: 2300 learning rate: 0.001 , train_Ntot: 1 train_M1: 0 , train_Mdiff: 0 , epoch_tot_counter: 2301\n"
     ]
    },
    {
     "name": "stderr",
     "output_type": "stream",
     "text": [
      " 12%|█▏        | 2401/20000 [04:09<30:09,  9.73it/s]"
     ]
    },
    {
     "name": "stdout",
     "output_type": "stream",
     "text": [
      "saving bf at: , with loss: -1.28857 , at epoch: 2400 learning rate: 0.001 , train_Ntot: 1 train_M1: 0 , train_Mdiff: 0 , epoch_tot_counter: 2401\n"
     ]
    },
    {
     "name": "stderr",
     "output_type": "stream",
     "text": [
      " 13%|█▎        | 2602/20000 [04:30<29:17,  9.90it/s]  "
     ]
    },
    {
     "name": "stdout",
     "output_type": "stream",
     "text": [
      "saving bf at: , with loss: -1.28951 , at epoch: 2600 learning rate: 0.001 , train_Ntot: 1 train_M1: 0 , train_Mdiff: 0 , epoch_tot_counter: 2601\n"
     ]
    },
    {
     "name": "stderr",
     "output_type": "stream",
     "text": [
      " 14%|█▎        | 2701/20000 [04:39<35:30,  8.12it/s]"
     ]
    },
    {
     "name": "stdout",
     "output_type": "stream",
     "text": [
      "saving bf at: , with loss: -1.28985 , at epoch: 2700 learning rate: 0.001 , train_Ntot: 1 train_M1: 0 , train_Mdiff: 0 , epoch_tot_counter: 2701\n"
     ]
    },
    {
     "name": "stderr",
     "output_type": "stream",
     "text": [
      " 14%|█▍        | 2802/20000 [04:50<28:34, 10.03it/s]  "
     ]
    },
    {
     "name": "stdout",
     "output_type": "stream",
     "text": [
      "saving bf at: , with loss: -1.29019 , at epoch: 2800 learning rate: 0.001 , train_Ntot: 1 train_M1: 0 , train_Mdiff: 0 , epoch_tot_counter: 2801\n"
     ]
    },
    {
     "name": "stderr",
     "output_type": "stream",
     "text": [
      " 15%|█▍        | 2902/20000 [05:00<29:50,  9.55it/s]"
     ]
    },
    {
     "name": "stdout",
     "output_type": "stream",
     "text": [
      "saving bf at: , with loss: -1.29026 , at epoch: 2900 learning rate: 0.001 , train_Ntot: 1 train_M1: 0 , train_Mdiff: 0 , epoch_tot_counter: 2901\n"
     ]
    },
    {
     "name": "stderr",
     "output_type": "stream",
     "text": [
      " 15%|█▌        | 3002/20000 [05:12<45:09,  6.27it/s]  "
     ]
    },
    {
     "name": "stdout",
     "output_type": "stream",
     "text": [
      "saving bf at: , with loss: -1.29069 , at epoch: 3000 learning rate: 0.001 , train_Ntot: 1 train_M1: 0 , train_Mdiff: 0 , epoch_tot_counter: 3001\n"
     ]
    },
    {
     "name": "stderr",
     "output_type": "stream",
     "text": [
      " 16%|█▌        | 3102/20000 [05:22<30:06,  9.35it/s]"
     ]
    },
    {
     "name": "stdout",
     "output_type": "stream",
     "text": [
      "saving bf at: , with loss: -1.29088 , at epoch: 3100 learning rate: 0.001 , train_Ntot: 1 train_M1: 0 , train_Mdiff: 0 , epoch_tot_counter: 3101\n"
     ]
    },
    {
     "name": "stderr",
     "output_type": "stream",
     "text": [
      " 16%|█▌        | 3201/20000 [05:33<30:28,  9.19it/s]"
     ]
    },
    {
     "name": "stdout",
     "output_type": "stream",
     "text": [
      "saving bf at: , with loss: -1.2911 , at epoch: 3200 learning rate: 0.001 , train_Ntot: 1 train_M1: 0 , train_Mdiff: 0 , epoch_tot_counter: 3201\n"
     ]
    },
    {
     "name": "stderr",
     "output_type": "stream",
     "text": [
      " 18%|█▊        | 3502/20000 [06:05<29:28,  9.33it/s]  "
     ]
    },
    {
     "name": "stdout",
     "output_type": "stream",
     "text": [
      "saving bf at: , with loss: -1.29165 , at epoch: 3500 learning rate: 0.001 , train_Ntot: 1 train_M1: 0 , train_Mdiff: 0 , epoch_tot_counter: 3501\n"
     ]
    },
    {
     "name": "stderr",
     "output_type": "stream",
     "text": [
      " 18%|█▊        | 3602/20000 [06:16<28:53,  9.46it/s]  "
     ]
    },
    {
     "name": "stdout",
     "output_type": "stream",
     "text": [
      "saving bf at: , with loss: -1.29167 , at epoch: 3600 learning rate: 0.001 , train_Ntot: 1 train_M1: 0 , train_Mdiff: 0 , epoch_tot_counter: 3601\n"
     ]
    },
    {
     "name": "stderr",
     "output_type": "stream",
     "text": [
      " 19%|█▊        | 3702/20000 [06:27<28:41,  9.47it/s]"
     ]
    },
    {
     "name": "stdout",
     "output_type": "stream",
     "text": [
      "saving bf at: , with loss: -1.29195 , at epoch: 3700 learning rate: 0.001 , train_Ntot: 1 train_M1: 0 , train_Mdiff: 0 , epoch_tot_counter: 3701\n"
     ]
    },
    {
     "name": "stderr",
     "output_type": "stream",
     "text": [
      " 19%|█▉        | 3802/20000 [06:37<28:31,  9.46it/s]"
     ]
    },
    {
     "name": "stdout",
     "output_type": "stream",
     "text": [
      "saving bf at: , with loss: -1.29203 , at epoch: 3800 learning rate: 0.001 , train_Ntot: 1 train_M1: 0 , train_Mdiff: 0 , epoch_tot_counter: 3801\n"
     ]
    },
    {
     "name": "stderr",
     "output_type": "stream",
     "text": [
      " 20%|█▉        | 3902/20000 [06:49<28:27,  9.43it/s]  "
     ]
    },
    {
     "name": "stdout",
     "output_type": "stream",
     "text": [
      "saving bf at: , with loss: -1.29217 , at epoch: 3900 learning rate: 0.001 , train_Ntot: 1 train_M1: 0 , train_Mdiff: 0 , epoch_tot_counter: 3901\n"
     ]
    },
    {
     "name": "stderr",
     "output_type": "stream",
     "text": [
      " 21%|██        | 4102/20000 [07:09<36:28,  7.26it/s]"
     ]
    },
    {
     "name": "stdout",
     "output_type": "stream",
     "text": [
      "saving bf at: , with loss: -1.29241 , at epoch: 4100 learning rate: 0.001 , train_Ntot: 1 train_M1: 0 , train_Mdiff: 0 , epoch_tot_counter: 4101\n"
     ]
    },
    {
     "name": "stderr",
     "output_type": "stream",
     "text": [
      " 21%|██        | 4202/20000 [07:21<28:35,  9.21it/s]  "
     ]
    },
    {
     "name": "stdout",
     "output_type": "stream",
     "text": [
      "saving bf at: , with loss: -1.29256 , at epoch: 4200 learning rate: 0.001 , train_Ntot: 1 train_M1: 0 , train_Mdiff: 0 , epoch_tot_counter: 4201\n"
     ]
    },
    {
     "name": "stderr",
     "output_type": "stream",
     "text": [
      " 22%|██▏       | 4402/20000 [07:43<28:04,  9.26it/s]  "
     ]
    },
    {
     "name": "stdout",
     "output_type": "stream",
     "text": [
      "saving bf at: , with loss: -1.29263 , at epoch: 4400 learning rate: 0.001 , train_Ntot: 1 train_M1: 0 , train_Mdiff: 0 , epoch_tot_counter: 4401\n"
     ]
    },
    {
     "name": "stderr",
     "output_type": "stream",
     "text": [
      " 23%|██▎       | 4502/20000 [07:53<28:14,  9.15it/s]"
     ]
    },
    {
     "name": "stdout",
     "output_type": "stream",
     "text": [
      "saving bf at: , with loss: -1.29285 , at epoch: 4500 learning rate: 0.001 , train_Ntot: 1 train_M1: 0 , train_Mdiff: 0 , epoch_tot_counter: 4501\n"
     ]
    },
    {
     "name": "stderr",
     "output_type": "stream",
     "text": [
      " 23%|██▎       | 4602/20000 [08:04<27:03,  9.49it/s]"
     ]
    },
    {
     "name": "stdout",
     "output_type": "stream",
     "text": [
      "saving bf at: , with loss: -1.29293 , at epoch: 4600 learning rate: 0.001 , train_Ntot: 1 train_M1: 0 , train_Mdiff: 0 , epoch_tot_counter: 4601\n"
     ]
    },
    {
     "name": "stderr",
     "output_type": "stream",
     "text": [
      " 24%|██▍       | 4801/20000 [08:26<27:49,  9.10it/s]  "
     ]
    },
    {
     "name": "stdout",
     "output_type": "stream",
     "text": [
      "saving bf at: , with loss: -1.29308 , at epoch: 4800 learning rate: 0.001 , train_Ntot: 1 train_M1: 0 , train_Mdiff: 0 , epoch_tot_counter: 4801\n"
     ]
    },
    {
     "name": "stderr",
     "output_type": "stream",
     "text": [
      " 25%|██▍       | 4902/20000 [08:36<26:50,  9.38it/s]"
     ]
    },
    {
     "name": "stdout",
     "output_type": "stream",
     "text": [
      "saving bf at: , with loss: -1.29318 , at epoch: 4900 learning rate: 0.001 , train_Ntot: 1 train_M1: 0 , train_Mdiff: 0 , epoch_tot_counter: 4901\n"
     ]
    },
    {
     "name": "stderr",
     "output_type": "stream",
     "text": [
      " 25%|██▌       | 5002/20000 [08:48<26:24,  9.47it/s]  "
     ]
    },
    {
     "name": "stdout",
     "output_type": "stream",
     "text": [
      "saving bf at: , with loss: -1.29318 , at epoch: 5000 learning rate: 0.001 , train_Ntot: 1 train_M1: 0 , train_Mdiff: 0 , epoch_tot_counter: 5001\n"
     ]
    },
    {
     "name": "stderr",
     "output_type": "stream",
     "text": [
      " 26%|██▌       | 5202/20000 [09:08<26:54,  9.17it/s]"
     ]
    },
    {
     "name": "stdout",
     "output_type": "stream",
     "text": [
      "saving bf at: , with loss: -1.29346 , at epoch: 5200 learning rate: 0.001 , train_Ntot: 1 train_M1: 0 , train_Mdiff: 0 , epoch_tot_counter: 5201\n"
     ]
    },
    {
     "name": "stderr",
     "output_type": "stream",
     "text": [
      " 27%|██▋       | 5402/20000 [09:30<25:48,  9.42it/s]  "
     ]
    },
    {
     "name": "stdout",
     "output_type": "stream",
     "text": [
      "saving bf at: , with loss: -1.2935 , at epoch: 5400 learning rate: 0.001 , train_Ntot: 1 train_M1: 0 , train_Mdiff: 0 , epoch_tot_counter: 5401\n"
     ]
    },
    {
     "name": "stderr",
     "output_type": "stream",
     "text": [
      " 28%|██▊       | 5501/20000 [09:41<57:21,  4.21it/s]"
     ]
    },
    {
     "name": "stdout",
     "output_type": "stream",
     "text": [
      "saving bf at: , with loss: -1.29353 , at epoch: 5500 learning rate: 0.001 , train_Ntot: 1 train_M1: 0 , train_Mdiff: 0 , epoch_tot_counter: 5501\n"
     ]
    },
    {
     "name": "stderr",
     "output_type": "stream",
     "text": [
      " 28%|██▊       | 5601/20000 [09:52<25:32,  9.40it/s]  "
     ]
    },
    {
     "name": "stdout",
     "output_type": "stream",
     "text": [
      "saving bf at: , with loss: -1.29374 , at epoch: 5600 learning rate: 0.001 , train_Ntot: 1 train_M1: 0 , train_Mdiff: 0 , epoch_tot_counter: 5601\n"
     ]
    },
    {
     "name": "stderr",
     "output_type": "stream",
     "text": [
      " 29%|██▉       | 5801/20000 [10:14<25:46,  9.18it/s]  "
     ]
    },
    {
     "name": "stdout",
     "output_type": "stream",
     "text": [
      "saving bf at: , with loss: -1.29379 , at epoch: 5800 learning rate: 0.001 , train_Ntot: 1 train_M1: 0 , train_Mdiff: 0 , epoch_tot_counter: 5801\n"
     ]
    },
    {
     "name": "stderr",
     "output_type": "stream",
     "text": [
      " 30%|██▉       | 5901/20000 [10:24<25:50,  9.09it/s]"
     ]
    },
    {
     "name": "stdout",
     "output_type": "stream",
     "text": [
      "saving bf at: , with loss: -1.29393 , at epoch: 5900 learning rate: 0.001 , train_Ntot: 1 train_M1: 0 , train_Mdiff: 0 , epoch_tot_counter: 5901\n"
     ]
    },
    {
     "name": "stderr",
     "output_type": "stream",
     "text": [
      " 31%|███       | 6201/20000 [10:56<24:34,  9.36it/s]  "
     ]
    },
    {
     "name": "stdout",
     "output_type": "stream",
     "text": [
      "saving bf at: , with loss: -1.29409 , at epoch: 6200 learning rate: 0.001 , train_Ntot: 1 train_M1: 0 , train_Mdiff: 0 , epoch_tot_counter: 6201\n"
     ]
    },
    {
     "name": "stderr",
     "output_type": "stream",
     "text": [
      " 32%|███▏      | 6302/20000 [11:07<24:03,  9.49it/s]"
     ]
    },
    {
     "name": "stdout",
     "output_type": "stream",
     "text": [
      "saving bf at: , with loss: -1.29412 , at epoch: 6300 learning rate: 0.001 , train_Ntot: 1 train_M1: 0 , train_Mdiff: 0 , epoch_tot_counter: 6301\n"
     ]
    },
    {
     "name": "stderr",
     "output_type": "stream",
     "text": [
      " 33%|███▎      | 6502/20000 [11:28<24:20,  9.24it/s]  "
     ]
    },
    {
     "name": "stdout",
     "output_type": "stream",
     "text": [
      "saving bf at: , with loss: -1.29417 , at epoch: 6500 learning rate: 0.001 , train_Ntot: 1 train_M1: 0 , train_Mdiff: 0 , epoch_tot_counter: 6501\n"
     ]
    },
    {
     "name": "stderr",
     "output_type": "stream",
     "text": [
      " 33%|███▎      | 6601/20000 [11:39<24:25,  9.14it/s]"
     ]
    },
    {
     "name": "stdout",
     "output_type": "stream",
     "text": [
      "saving bf at: , with loss: -1.29426 , at epoch: 6600 learning rate: 0.001 , train_Ntot: 1 train_M1: 0 , train_Mdiff: 0 , epoch_tot_counter: 6601\n"
     ]
    },
    {
     "name": "stderr",
     "output_type": "stream",
     "text": [
      " 36%|███▌      | 7102/20000 [12:33<23:16,  9.24it/s]  "
     ]
    },
    {
     "name": "stdout",
     "output_type": "stream",
     "text": [
      "saving bf at: , with loss: -1.29437 , at epoch: 7100 learning rate: 0.001 , train_Ntot: 1 train_M1: 0 , train_Mdiff: 0 , epoch_tot_counter: 7101\n"
     ]
    },
    {
     "name": "stderr",
     "output_type": "stream",
     "text": [
      " 36%|███▌      | 7202/20000 [12:44<23:07,  9.23it/s]  "
     ]
    },
    {
     "name": "stdout",
     "output_type": "stream",
     "text": [
      "saving bf at: , with loss: -1.29454 , at epoch: 7200 learning rate: 0.001 , train_Ntot: 1 train_M1: 0 , train_Mdiff: 0 , epoch_tot_counter: 7201\n"
     ]
    },
    {
     "name": "stderr",
     "output_type": "stream",
     "text": [
      " 37%|███▋      | 7302/20000 [12:55<22:08,  9.56it/s]"
     ]
    },
    {
     "name": "stdout",
     "output_type": "stream",
     "text": [
      "saving bf at: , with loss: -1.2946 , at epoch: 7300 learning rate: 0.001 , train_Ntot: 1 train_M1: 0 , train_Mdiff: 0 , epoch_tot_counter: 7301\n"
     ]
    },
    {
     "name": "stderr",
     "output_type": "stream",
     "text": [
      " 37%|███▋      | 7402/20000 [13:05<22:22,  9.38it/s]"
     ]
    },
    {
     "name": "stdout",
     "output_type": "stream",
     "text": [
      "saving bf at: , with loss: -1.29465 , at epoch: 7400 learning rate: 0.001 , train_Ntot: 1 train_M1: 0 , train_Mdiff: 0 , epoch_tot_counter: 7401\n"
     ]
    },
    {
     "name": "stderr",
     "output_type": "stream",
     "text": [
      " 38%|███▊      | 7502/20000 [13:16<22:02,  9.45it/s]"
     ]
    },
    {
     "name": "stdout",
     "output_type": "stream",
     "text": [
      "saving bf at: , with loss: -1.29466 , at epoch: 7500 learning rate: 0.001 , train_Ntot: 1 train_M1: 0 , train_Mdiff: 0 , epoch_tot_counter: 7501\n"
     ]
    },
    {
     "name": "stderr",
     "output_type": "stream",
     "text": [
      " 38%|███▊      | 7602/20000 [13:27<22:08,  9.33it/s]"
     ]
    },
    {
     "name": "stdout",
     "output_type": "stream",
     "text": [
      "saving bf at: , with loss: -1.2947 , at epoch: 7600 learning rate: 0.001 , train_Ntot: 1 train_M1: 0 , train_Mdiff: 0 , epoch_tot_counter: 7601\n"
     ]
    },
    {
     "name": "stderr",
     "output_type": "stream",
     "text": [
      " 40%|███▉      | 7902/20000 [13:59<21:53,  9.21it/s]"
     ]
    },
    {
     "name": "stdout",
     "output_type": "stream",
     "text": [
      "saving bf at: , with loss: -1.29478 , at epoch: 7900 learning rate: 0.001 , train_Ntot: 1 train_M1: 0 , train_Mdiff: 0 , epoch_tot_counter: 7901\n"
     ]
    },
    {
     "name": "stderr",
     "output_type": "stream",
     "text": [
      " 40%|████      | 8002/20000 [14:09<27:33,  7.26it/s]"
     ]
    },
    {
     "name": "stdout",
     "output_type": "stream",
     "text": [
      "saving bf at: , with loss: -1.29481 , at epoch: 8000 learning rate: 0.001 , train_Ntot: 1 train_M1: 0 , train_Mdiff: 0 , epoch_tot_counter: 8001\n"
     ]
    },
    {
     "name": "stderr",
     "output_type": "stream",
     "text": [
      " 41%|████      | 8201/20000 [14:31<21:24,  9.19it/s]"
     ]
    },
    {
     "name": "stdout",
     "output_type": "stream",
     "text": [
      "saving bf at: , with loss: -1.29488 , at epoch: 8200 learning rate: 0.001 , train_Ntot: 1 train_M1: 0 , train_Mdiff: 0 , epoch_tot_counter: 8201\n"
     ]
    },
    {
     "name": "stderr",
     "output_type": "stream",
     "text": [
      " 42%|████▏     | 8401/20000 [14:52<21:43,  8.90it/s]"
     ]
    },
    {
     "name": "stdout",
     "output_type": "stream",
     "text": [
      "saving bf at: , with loss: -1.29489 , at epoch: 8400 learning rate: 0.001 , train_Ntot: 1 train_M1: 0 , train_Mdiff: 0 , epoch_tot_counter: 8401\n"
     ]
    },
    {
     "name": "stderr",
     "output_type": "stream",
     "text": [
      " 43%|████▎     | 8502/20000 [15:03<20:40,  9.27it/s]"
     ]
    },
    {
     "name": "stdout",
     "output_type": "stream",
     "text": [
      "saving bf at: , with loss: -1.29501 , at epoch: 8500 learning rate: 0.001 , train_Ntot: 1 train_M1: 0 , train_Mdiff: 0 , epoch_tot_counter: 8501\n"
     ]
    },
    {
     "name": "stderr",
     "output_type": "stream",
     "text": [
      " 43%|████▎     | 8602/20000 [15:14<20:07,  9.44it/s]"
     ]
    },
    {
     "name": "stdout",
     "output_type": "stream",
     "text": [
      "saving bf at: , with loss: -1.29506 , at epoch: 8600 learning rate: 0.001 , train_Ntot: 1 train_M1: 0 , train_Mdiff: 0 , epoch_tot_counter: 8601\n"
     ]
    },
    {
     "name": "stderr",
     "output_type": "stream",
     "text": [
      " 44%|████▎     | 8702/20000 [15:25<20:20,  9.26it/s]"
     ]
    },
    {
     "name": "stdout",
     "output_type": "stream",
     "text": [
      "saving bf at: , with loss: -1.29507 , at epoch: 8700 learning rate: 0.001 , train_Ntot: 1 train_M1: 0 , train_Mdiff: 0 , epoch_tot_counter: 8701\n"
     ]
    },
    {
     "name": "stderr",
     "output_type": "stream",
     "text": [
      " 45%|████▍     | 8902/20000 [15:47<19:42,  9.39it/s]"
     ]
    },
    {
     "name": "stdout",
     "output_type": "stream",
     "text": [
      "saving bf at: , with loss: -1.2951 , at epoch: 8900 learning rate: 0.001 , train_Ntot: 1 train_M1: 0 , train_Mdiff: 0 , epoch_tot_counter: 8901\n"
     ]
    },
    {
     "name": "stderr",
     "output_type": "stream",
     "text": [
      " 45%|████▌     | 9002/20000 [15:57<19:45,  9.28it/s]"
     ]
    },
    {
     "name": "stdout",
     "output_type": "stream",
     "text": [
      "saving bf at: , with loss: -1.29513 , at epoch: 9000 learning rate: 0.001 , train_Ntot: 1 train_M1: 0 , train_Mdiff: 0 , epoch_tot_counter: 9001\n"
     ]
    },
    {
     "name": "stderr",
     "output_type": "stream",
     "text": [
      " 47%|████▋     | 9301/20000 [16:29<19:43,  9.04it/s]"
     ]
    },
    {
     "name": "stdout",
     "output_type": "stream",
     "text": [
      "saving bf at: , with loss: -1.29528 , at epoch: 9300 learning rate: 0.001 , train_Ntot: 1 train_M1: 0 , train_Mdiff: 0 , epoch_tot_counter: 9301\n"
     ]
    },
    {
     "name": "stderr",
     "output_type": "stream",
     "text": [
      " 49%|████▊     | 9702/20000 [17:12<20:20,  8.44it/s]"
     ]
    },
    {
     "name": "stdout",
     "output_type": "stream",
     "text": [
      "saving bf at: , with loss: -1.29538 , at epoch: 9700 learning rate: 0.001 , train_Ntot: 1 train_M1: 0 , train_Mdiff: 0 , epoch_tot_counter: 9701\n"
     ]
    },
    {
     "name": "stderr",
     "output_type": "stream",
     "text": [
      " 52%|█████▏    | 10302/20000 [18:16<17:12,  9.39it/s]"
     ]
    },
    {
     "name": "stdout",
     "output_type": "stream",
     "text": [
      "saving bf at: , with loss: -1.29555 , at epoch: 10300 learning rate: 0.001 , train_Ntot: 1 train_M1: 0 , train_Mdiff: 0 , epoch_tot_counter: 10301\n"
     ]
    },
    {
     "name": "stderr",
     "output_type": "stream",
     "text": [
      " 53%|█████▎    | 10502/20000 [18:37<16:59,  9.32it/s]"
     ]
    },
    {
     "name": "stdout",
     "output_type": "stream",
     "text": [
      "saving bf at: , with loss: -1.29561 , at epoch: 10500 learning rate: 0.001 , train_Ntot: 1 train_M1: 0 , train_Mdiff: 0 , epoch_tot_counter: 10501\n"
     ]
    },
    {
     "name": "stderr",
     "output_type": "stream",
     "text": [
      " 55%|█████▍    | 10902/20000 [19:20<16:19,  9.29it/s]"
     ]
    },
    {
     "name": "stdout",
     "output_type": "stream",
     "text": [
      "saving bf at: , with loss: -1.29566 , at epoch: 10900 learning rate: 0.001 , train_Ntot: 1 train_M1: 0 , train_Mdiff: 0 , epoch_tot_counter: 10901\n"
     ]
    },
    {
     "name": "stderr",
     "output_type": "stream",
     "text": [
      " 56%|█████▌    | 11202/20000 [19:52<15:33,  9.42it/s]"
     ]
    },
    {
     "name": "stdout",
     "output_type": "stream",
     "text": [
      "saving bf at: , with loss: -1.29574 , at epoch: 11200 learning rate: 0.001 , train_Ntot: 1 train_M1: 0 , train_Mdiff: 0 , epoch_tot_counter: 11201\n"
     ]
    },
    {
     "name": "stderr",
     "output_type": "stream",
     "text": [
      " 57%|█████▋    | 11401/20000 [20:14<15:13,  9.41it/s]"
     ]
    },
    {
     "name": "stdout",
     "output_type": "stream",
     "text": [
      "saving bf at: , with loss: -1.2958 , at epoch: 11400 learning rate: 0.001 , train_Ntot: 1 train_M1: 0 , train_Mdiff: 0 , epoch_tot_counter: 11401\n"
     ]
    },
    {
     "name": "stderr",
     "output_type": "stream",
     "text": [
      " 58%|█████▊    | 11502/20000 [20:25<15:14,  9.29it/s]"
     ]
    },
    {
     "name": "stdout",
     "output_type": "stream",
     "text": [
      "saving bf at: , with loss: -1.29582 , at epoch: 11500 learning rate: 0.001 , train_Ntot: 1 train_M1: 0 , train_Mdiff: 0 , epoch_tot_counter: 11501\n"
     ]
    },
    {
     "name": "stderr",
     "output_type": "stream",
     "text": [
      " 59%|█████▊    | 11701/20000 [20:46<15:12,  9.10it/s]"
     ]
    },
    {
     "name": "stdout",
     "output_type": "stream",
     "text": [
      "saving bf at: , with loss: -1.29587 , at epoch: 11700 learning rate: 0.001 , train_Ntot: 1 train_M1: 0 , train_Mdiff: 0 , epoch_tot_counter: 11701\n"
     ]
    },
    {
     "name": "stderr",
     "output_type": "stream",
     "text": [
      " 59%|█████▉    | 11802/20000 [20:57<14:35,  9.36it/s]"
     ]
    },
    {
     "name": "stdout",
     "output_type": "stream",
     "text": [
      "saving bf at: , with loss: -1.29591 , at epoch: 11800 learning rate: 0.001 , train_Ntot: 1 train_M1: 0 , train_Mdiff: 0 , epoch_tot_counter: 11801\n"
     ]
    },
    {
     "name": "stderr",
     "output_type": "stream",
     "text": [
      " 60%|██████    | 12002/20000 [21:18<14:10,  9.40it/s]"
     ]
    },
    {
     "name": "stdout",
     "output_type": "stream",
     "text": [
      "saving bf at: , with loss: -1.29595 , at epoch: 12000 learning rate: 0.001 , train_Ntot: 1 train_M1: 0 , train_Mdiff: 0 , epoch_tot_counter: 12001\n"
     ]
    },
    {
     "name": "stderr",
     "output_type": "stream",
     "text": [
      " 61%|██████    | 12102/20000 [21:29<14:17,  9.21it/s]"
     ]
    },
    {
     "name": "stdout",
     "output_type": "stream",
     "text": [
      "saving bf at: , with loss: -1.29597 , at epoch: 12100 learning rate: 0.001 , train_Ntot: 1 train_M1: 0 , train_Mdiff: 0 , epoch_tot_counter: 12101\n"
     ]
    },
    {
     "name": "stderr",
     "output_type": "stream",
     "text": [
      " 61%|██████    | 12219/20000 [21:42<21:19,  6.08it/s]"
     ]
    },
    {
     "name": "stdout",
     "output_type": "stream",
     "text": [
      "Epoch 12218: reducing learning rate of group 0 to 2.5000e-04.\n"
     ]
    },
    {
     "name": "stderr",
     "output_type": "stream",
     "text": [
      " 62%|██████▏   | 12420/20000 [22:02<13:07,  9.62it/s]"
     ]
    },
    {
     "name": "stdout",
     "output_type": "stream",
     "text": [
      "Epoch 12419: reducing learning rate of group 0 to 6.2500e-05.\n"
     ]
    },
    {
     "name": "stderr",
     "output_type": "stream",
     "text": [
      " 63%|██████▎   | 12621/20000 [22:24<12:32,  9.80it/s]"
     ]
    },
    {
     "name": "stdout",
     "output_type": "stream",
     "text": [
      "Epoch 12620: reducing learning rate of group 0 to 1.5625e-05.\n"
     ]
    },
    {
     "name": "stderr",
     "output_type": "stream",
     "text": [
      " 64%|██████▍   | 12822/20000 [22:46<12:24,  9.65it/s]"
     ]
    },
    {
     "name": "stdout",
     "output_type": "stream",
     "text": [
      "Epoch 12821: reducing learning rate of group 0 to 3.9063e-06.\n"
     ]
    },
    {
     "name": "stderr",
     "output_type": "stream",
     "text": [
      " 65%|██████▌   | 13023/20000 [23:06<12:07,  9.60it/s]"
     ]
    },
    {
     "name": "stdout",
     "output_type": "stream",
     "text": [
      "Epoch 13022: reducing learning rate of group 0 to 9.7656e-07.\n"
     ]
    },
    {
     "name": "stderr",
     "output_type": "stream",
     "text": [
      " 66%|██████▌   | 13224/20000 [23:28<11:39,  9.69it/s]"
     ]
    },
    {
     "name": "stdout",
     "output_type": "stream",
     "text": [
      "Epoch 13223: reducing learning rate of group 0 to 2.4414e-07.\n"
     ]
    },
    {
     "name": "stderr",
     "output_type": "stream",
     "text": [
      " 67%|██████▋   | 13426/20000 [23:50<11:13,  9.77it/s]"
     ]
    },
    {
     "name": "stdout",
     "output_type": "stream",
     "text": [
      "Epoch 13424: reducing learning rate of group 0 to 6.1035e-08.\n"
     ]
    },
    {
     "name": "stderr",
     "output_type": "stream",
     "text": [
      " 68%|██████▊   | 13626/20000 [24:12<22:29,  4.72it/s]"
     ]
    },
    {
     "name": "stdout",
     "output_type": "stream",
     "text": [
      "Epoch 13625: reducing learning rate of group 0 to 1.5259e-08.\n"
     ]
    },
    {
     "name": "stderr",
     "output_type": "stream",
     "text": [
      "100%|██████████| 20000/20000 [35:33<00:00,  9.37it/s]\n",
      "  0%|          | 1/10000 [00:00<2:43:08,  1.02it/s]"
     ]
    },
    {
     "name": "stdout",
     "output_type": "stream",
     "text": [
      "saving bf at: , with loss: -1.36196 , at epoch: 0 learning rate: 1.52587890625e-08 , train_Ntot: 1 train_M1: 1 , train_Mdiff: 0 , epoch_tot_counter: 20001\n"
     ]
    },
    {
     "name": "stderr",
     "output_type": "stream",
     "text": [
      "  1%|          | 51/10000 [00:35<1:46:49,  1.55it/s]"
     ]
    },
    {
     "name": "stdout",
     "output_type": "stream",
     "text": [
      "saving bf at: , with loss: -1.36197 , at epoch: 50 learning rate: 1.52587890625e-08 , train_Ntot: 1 train_M1: 1 , train_Mdiff: 0 , epoch_tot_counter: 20051\n"
     ]
    },
    {
     "name": "stderr",
     "output_type": "stream",
     "text": [
      "  1%|          | 101/10000 [01:12<2:22:13,  1.16it/s]"
     ]
    },
    {
     "name": "stdout",
     "output_type": "stream",
     "text": [
      "saving bf at: , with loss: -1.36197 , at epoch: 100 learning rate: 1.52587890625e-08 , train_Ntot: 1 train_M1: 1 , train_Mdiff: 0 , epoch_tot_counter: 20101\n"
     ]
    },
    {
     "name": "stderr",
     "output_type": "stream",
     "text": [
      "  2%|▏         | 151/10000 [01:48<2:01:09,  1.35it/s]"
     ]
    },
    {
     "name": "stdout",
     "output_type": "stream",
     "text": [
      "saving bf at: , with loss: -1.36197 , at epoch: 150 learning rate: 1.52587890625e-08 , train_Ntot: 1 train_M1: 1 , train_Mdiff: 0 , epoch_tot_counter: 20151\n"
     ]
    },
    {
     "name": "stderr",
     "output_type": "stream",
     "text": [
      "  2%|▏         | 201/10000 [02:24<1:41:19,  1.61it/s]"
     ]
    },
    {
     "name": "stdout",
     "output_type": "stream",
     "text": [
      "saving bf at: , with loss: -1.36197 , at epoch: 200 learning rate: 1.52587890625e-08 , train_Ntot: 1 train_M1: 1 , train_Mdiff: 0 , epoch_tot_counter: 20201\n"
     ]
    },
    {
     "name": "stderr",
     "output_type": "stream",
     "text": [
      "  2%|▏         | 241/10000 [02:54<1:57:43,  1.38it/s]\n"
     ]
    },
    {
     "ename": "KeyboardInterrupt",
     "evalue": "",
     "output_type": "error",
     "traceback": [
      "\u001b[0;31m---------------------------------------------------------------------------\u001b[0m",
      "\u001b[0;31mKeyboardInterrupt\u001b[0m                         Traceback (most recent call last)",
      "\u001b[1;32m/mnt/home/spandey/ceph/AR_NPE/notebooks/TEST_ROCKSTAR_RUNS/FINAL_CHECK_Ntot_M1_Mdiff.ipynb Cell 30\u001b[0m line \u001b[0;36m1\n\u001b[1;32m    <a href='vscode-notebook-cell://tunnel%2Brusty/mnt/home/spandey/ceph/AR_NPE/notebooks/TEST_ROCKSTAR_RUNS/FINAL_CHECK_Ntot_M1_Mdiff.ipynb#X41sdnNjb2RlLXJlbW90ZQ%3D%3D?line=128'>129</a>\u001b[0m torch\u001b[39m.\u001b[39mcuda\u001b[39m.\u001b[39mempty_cache()\n\u001b[1;32m    <a href='vscode-notebook-cell://tunnel%2Brusty/mnt/home/spandey/ceph/AR_NPE/notebooks/TEST_ROCKSTAR_RUNS/FINAL_CHECK_Ntot_M1_Mdiff.ipynb#X41sdnNjb2RlLXJlbW90ZQ%3D%3D?line=129'>130</a>\u001b[0m \u001b[39m# if 1-all_gpu:\u001b[39;00m\n\u001b[1;32m    <a href='vscode-notebook-cell://tunnel%2Brusty/mnt/home/spandey/ceph/AR_NPE/notebooks/TEST_ROCKSTAR_RUNS/FINAL_CHECK_Ntot_M1_Mdiff.ipynb#X41sdnNjb2RlLXJlbW90ZQ%3D%3D?line=130'>131</a>\u001b[0m \u001b[39m# cond_tensor_jd = cond_tensor_jd.cuda(dev)\u001b[39;00m\n\u001b[1;32m    <a href='vscode-notebook-cell://tunnel%2Brusty/mnt/home/spandey/ceph/AR_NPE/notebooks/TEST_ROCKSTAR_RUNS/FINAL_CHECK_Ntot_M1_Mdiff.ipynb#X41sdnNjb2RlLXJlbW90ZQ%3D%3D?line=131'>132</a>\u001b[0m \u001b[39m# cond_tensor_nsh_jd = cond_tensor_nsh_jd.cuda(dev)\u001b[39;00m\n\u001b[0;32m   (...)\u001b[0m\n\u001b[1;32m    <a href='vscode-notebook-cell://tunnel%2Brusty/mnt/home/spandey/ceph/AR_NPE/notebooks/TEST_ROCKSTAR_RUNS/FINAL_CHECK_Ntot_M1_Mdiff.ipynb#X41sdnNjb2RlLXJlbW90ZQ%3D%3D?line=140'>141</a>\u001b[0m \u001b[39m#     X_M1_FP_jd = X_M1_FP_jd.cuda(dev)\u001b[39;00m\n\u001b[1;32m    <a href='vscode-notebook-cell://tunnel%2Brusty/mnt/home/spandey/ceph/AR_NPE/notebooks/TEST_ROCKSTAR_RUNS/FINAL_CHECK_Ntot_M1_Mdiff.ipynb#X41sdnNjb2RlLXJlbW90ZQ%3D%3D?line=141'>142</a>\u001b[0m \u001b[39m# torch.cuda.empty_cache()\u001b[39;00m\n\u001b[0;32m--> <a href='vscode-notebook-cell://tunnel%2Brusty/mnt/home/spandey/ceph/AR_NPE/notebooks/TEST_ROCKSTAR_RUNS/FINAL_CHECK_Ntot_M1_Mdiff.ipynb#X41sdnNjb2RlLXJlbW90ZQ%3D%3D?line=143'>144</a>\u001b[0m loss \u001b[39m=\u001b[39m model(\n\u001b[1;32m    <a href='vscode-notebook-cell://tunnel%2Brusty/mnt/home/spandey/ceph/AR_NPE/notebooks/TEST_ROCKSTAR_RUNS/FINAL_CHECK_Ntot_M1_Mdiff.ipynb#X41sdnNjb2RlLXJlbW90ZQ%3D%3D?line=144'>145</a>\u001b[0m     X_Mdiff_jd,\n\u001b[1;32m    <a href='vscode-notebook-cell://tunnel%2Brusty/mnt/home/spandey/ceph/AR_NPE/notebooks/TEST_ROCKSTAR_RUNS/FINAL_CHECK_Ntot_M1_Mdiff.ipynb#X41sdnNjb2RlLXJlbW90ZQ%3D%3D?line=145'>146</a>\u001b[0m     X_M1_jd,\n\u001b[1;32m    <a href='vscode-notebook-cell://tunnel%2Brusty/mnt/home/spandey/ceph/AR_NPE/notebooks/TEST_ROCKSTAR_RUNS/FINAL_CHECK_Ntot_M1_Mdiff.ipynb#X41sdnNjb2RlLXJlbW90ZQ%3D%3D?line=146'>147</a>\u001b[0m     X_Nhalo_jd,\n\u001b[1;32m    <a href='vscode-notebook-cell://tunnel%2Brusty/mnt/home/spandey/ceph/AR_NPE/notebooks/TEST_ROCKSTAR_RUNS/FINAL_CHECK_Ntot_M1_Mdiff.ipynb#X41sdnNjb2RlLXJlbW90ZQ%3D%3D?line=147'>148</a>\u001b[0m     cond_x\u001b[39m=\u001b[39;49mcond_tensor_jd,\n\u001b[1;32m    <a href='vscode-notebook-cell://tunnel%2Brusty/mnt/home/spandey/ceph/AR_NPE/notebooks/TEST_ROCKSTAR_RUNS/FINAL_CHECK_Ntot_M1_Mdiff.ipynb#X41sdnNjb2RlLXJlbW90ZQ%3D%3D?line=148'>149</a>\u001b[0m     cond_x_nsh\u001b[39m=\u001b[39;49mcond_tensor_nsh_jd,\n\u001b[1;32m    <a href='vscode-notebook-cell://tunnel%2Brusty/mnt/home/spandey/ceph/AR_NPE/notebooks/TEST_ROCKSTAR_RUNS/FINAL_CHECK_Ntot_M1_Mdiff.ipynb#X41sdnNjb2RlLXJlbW90ZQ%3D%3D?line=149'>150</a>\u001b[0m     mask_Mdiff_truth_all\u001b[39m=\u001b[39;49mmask_tensor_Mdiff_train_jd,\n\u001b[1;32m    <a href='vscode-notebook-cell://tunnel%2Brusty/mnt/home/spandey/ceph/AR_NPE/notebooks/TEST_ROCKSTAR_RUNS/FINAL_CHECK_Ntot_M1_Mdiff.ipynb#X41sdnNjb2RlLXJlbW90ZQ%3D%3D?line=150'>151</a>\u001b[0m     mask_M1_truth_all\u001b[39m=\u001b[39;49mmask_tensor_M1_train_jd,\n\u001b[1;32m    <a href='vscode-notebook-cell://tunnel%2Brusty/mnt/home/spandey/ceph/AR_NPE/notebooks/TEST_ROCKSTAR_RUNS/FINAL_CHECK_Ntot_M1_Mdiff.ipynb#X41sdnNjb2RlLXJlbW90ZQ%3D%3D?line=151'>152</a>\u001b[0m     Nhalos_truth_all\u001b[39m=\u001b[39;49mNhalos_truth_tensor_jd,\n\u001b[1;32m    <a href='vscode-notebook-cell://tunnel%2Brusty/mnt/home/spandey/ceph/AR_NPE/notebooks/TEST_ROCKSTAR_RUNS/FINAL_CHECK_Ntot_M1_Mdiff.ipynb#X41sdnNjb2RlLXJlbW90ZQ%3D%3D?line=152'>153</a>\u001b[0m     use_Ntot_samples\u001b[39m=\u001b[39;49m\u001b[39mFalse\u001b[39;49;00m,\n\u001b[1;32m    <a href='vscode-notebook-cell://tunnel%2Brusty/mnt/home/spandey/ceph/AR_NPE/notebooks/TEST_ROCKSTAR_RUNS/FINAL_CHECK_Ntot_M1_Mdiff.ipynb#X41sdnNjb2RlLXJlbW90ZQ%3D%3D?line=153'>154</a>\u001b[0m     use_M1_samples\u001b[39m=\u001b[39;49m\u001b[39mFalse\u001b[39;49;00m,\n\u001b[1;32m    <a href='vscode-notebook-cell://tunnel%2Brusty/mnt/home/spandey/ceph/AR_NPE/notebooks/TEST_ROCKSTAR_RUNS/FINAL_CHECK_Ntot_M1_Mdiff.ipynb#X41sdnNjb2RlLXJlbW90ZQ%3D%3D?line=154'>155</a>\u001b[0m     train_Ntot\u001b[39m=\u001b[39;49mtrain_Ntot,\n\u001b[1;32m    <a href='vscode-notebook-cell://tunnel%2Brusty/mnt/home/spandey/ceph/AR_NPE/notebooks/TEST_ROCKSTAR_RUNS/FINAL_CHECK_Ntot_M1_Mdiff.ipynb#X41sdnNjb2RlLXJlbW90ZQ%3D%3D?line=155'>156</a>\u001b[0m     train_M1\u001b[39m=\u001b[39;49mtrain_M1,\n\u001b[1;32m    <a href='vscode-notebook-cell://tunnel%2Brusty/mnt/home/spandey/ceph/AR_NPE/notebooks/TEST_ROCKSTAR_RUNS/FINAL_CHECK_Ntot_M1_Mdiff.ipynb#X41sdnNjb2RlLXJlbW90ZQ%3D%3D?line=156'>157</a>\u001b[0m     train_Mdiff\u001b[39m=\u001b[39;49mtrain_Mdiff,\n\u001b[1;32m    <a href='vscode-notebook-cell://tunnel%2Brusty/mnt/home/spandey/ceph/AR_NPE/notebooks/TEST_ROCKSTAR_RUNS/FINAL_CHECK_Ntot_M1_Mdiff.ipynb#X41sdnNjb2RlLXJlbW90ZQ%3D%3D?line=157'>158</a>\u001b[0m     \u001b[39m# x_Mdiff_FP=X_Mdiff_FP,\u001b[39;49;00m\n\u001b[1;32m    <a href='vscode-notebook-cell://tunnel%2Brusty/mnt/home/spandey/ceph/AR_NPE/notebooks/TEST_ROCKSTAR_RUNS/FINAL_CHECK_Ntot_M1_Mdiff.ipynb#X41sdnNjb2RlLXJlbW90ZQ%3D%3D?line=158'>159</a>\u001b[0m     x_M1_FP\u001b[39m=\u001b[39;49mX_M1_FP_jd,\n\u001b[1;32m    <a href='vscode-notebook-cell://tunnel%2Brusty/mnt/home/spandey/ceph/AR_NPE/notebooks/TEST_ROCKSTAR_RUNS/FINAL_CHECK_Ntot_M1_Mdiff.ipynb#X41sdnNjb2RlLXJlbW90ZQ%3D%3D?line=159'>160</a>\u001b[0m     \u001b[39m# x_Ntot_FP=X_Nhalo_FP,\u001b[39;49;00m\n\u001b[1;32m    <a href='vscode-notebook-cell://tunnel%2Brusty/mnt/home/spandey/ceph/AR_NPE/notebooks/TEST_ROCKSTAR_RUNS/FINAL_CHECK_Ntot_M1_Mdiff.ipynb#X41sdnNjb2RlLXJlbW90ZQ%3D%3D?line=160'>161</a>\u001b[0m     \u001b[39m# Nhalos_truth_all_FP=Nhalos_truth_tensor_FP,\u001b[39;49;00m\n\u001b[1;32m    <a href='vscode-notebook-cell://tunnel%2Brusty/mnt/home/spandey/ceph/AR_NPE/notebooks/TEST_ROCKSTAR_RUNS/FINAL_CHECK_Ntot_M1_Mdiff.ipynb#X41sdnNjb2RlLXJlbW90ZQ%3D%3D?line=161'>162</a>\u001b[0m     \u001b[39m# mask_Mdiff_truth_all_FP=mask_tensor_Mdiff_train_FP,\u001b[39;49;00m\n\u001b[1;32m    <a href='vscode-notebook-cell://tunnel%2Brusty/mnt/home/spandey/ceph/AR_NPE/notebooks/TEST_ROCKSTAR_RUNS/FINAL_CHECK_Ntot_M1_Mdiff.ipynb#X41sdnNjb2RlLXJlbW90ZQ%3D%3D?line=162'>163</a>\u001b[0m     mask_M1_truth_all_FP\u001b[39m=\u001b[39;49mmask_tensor_M1_train_FP_jd,\n\u001b[1;32m    <a href='vscode-notebook-cell://tunnel%2Brusty/mnt/home/spandey/ceph/AR_NPE/notebooks/TEST_ROCKSTAR_RUNS/FINAL_CHECK_Ntot_M1_Mdiff.ipynb#X41sdnNjb2RlLXJlbW90ZQ%3D%3D?line=163'>164</a>\u001b[0m     L2norm_Ntothist\u001b[39m=\u001b[39;49mL2norm_Ntothist,\n\u001b[1;32m    <a href='vscode-notebook-cell://tunnel%2Brusty/mnt/home/spandey/ceph/AR_NPE/notebooks/TEST_ROCKSTAR_RUNS/FINAL_CHECK_Ntot_M1_Mdiff.ipynb#X41sdnNjb2RlLXJlbW90ZQ%3D%3D?line=164'>165</a>\u001b[0m     L2norm_M1hist\u001b[39m=\u001b[39;49mL2norm_M1hist        \n\u001b[1;32m    <a href='vscode-notebook-cell://tunnel%2Brusty/mnt/home/spandey/ceph/AR_NPE/notebooks/TEST_ROCKSTAR_RUNS/FINAL_CHECK_Ntot_M1_Mdiff.ipynb#X41sdnNjb2RlLXJlbW90ZQ%3D%3D?line=165'>166</a>\u001b[0m     )\n\u001b[1;32m    <a href='vscode-notebook-cell://tunnel%2Brusty/mnt/home/spandey/ceph/AR_NPE/notebooks/TEST_ROCKSTAR_RUNS/FINAL_CHECK_Ntot_M1_Mdiff.ipynb#X41sdnNjb2RlLXJlbW90ZQ%3D%3D?line=167'>168</a>\u001b[0m loss\u001b[39m.\u001b[39mbackward()\n\u001b[1;32m    <a href='vscode-notebook-cell://tunnel%2Brusty/mnt/home/spandey/ceph/AR_NPE/notebooks/TEST_ROCKSTAR_RUNS/FINAL_CHECK_Ntot_M1_Mdiff.ipynb#X41sdnNjb2RlLXJlbW90ZQ%3D%3D?line=168'>169</a>\u001b[0m optimizer\u001b[39m.\u001b[39mstep()\n",
      "File \u001b[0;32m~/ceph/.venv/lib/python3.9/site-packages/torch/nn/modules/module.py:1501\u001b[0m, in \u001b[0;36mModule._call_impl\u001b[0;34m(self, *args, **kwargs)\u001b[0m\n\u001b[1;32m   1496\u001b[0m \u001b[39m# If we don't have any hooks, we want to skip the rest of the logic in\u001b[39;00m\n\u001b[1;32m   1497\u001b[0m \u001b[39m# this function, and just call forward.\u001b[39;00m\n\u001b[1;32m   1498\u001b[0m \u001b[39mif\u001b[39;00m \u001b[39mnot\u001b[39;00m (\u001b[39mself\u001b[39m\u001b[39m.\u001b[39m_backward_hooks \u001b[39mor\u001b[39;00m \u001b[39mself\u001b[39m\u001b[39m.\u001b[39m_backward_pre_hooks \u001b[39mor\u001b[39;00m \u001b[39mself\u001b[39m\u001b[39m.\u001b[39m_forward_hooks \u001b[39mor\u001b[39;00m \u001b[39mself\u001b[39m\u001b[39m.\u001b[39m_forward_pre_hooks\n\u001b[1;32m   1499\u001b[0m         \u001b[39mor\u001b[39;00m _global_backward_pre_hooks \u001b[39mor\u001b[39;00m _global_backward_hooks\n\u001b[1;32m   1500\u001b[0m         \u001b[39mor\u001b[39;00m _global_forward_hooks \u001b[39mor\u001b[39;00m _global_forward_pre_hooks):\n\u001b[0;32m-> 1501\u001b[0m     \u001b[39mreturn\u001b[39;00m forward_call(\u001b[39m*\u001b[39;49margs, \u001b[39m*\u001b[39;49m\u001b[39m*\u001b[39;49mkwargs)\n\u001b[1;32m   1502\u001b[0m \u001b[39m# Do not call functions when jit is used\u001b[39;00m\n\u001b[1;32m   1503\u001b[0m full_backward_hooks, non_full_backward_hooks \u001b[39m=\u001b[39m [], []\n",
      "File \u001b[0;32m/mnt/ceph/users/spandey/AR_NPE/nf/combined_models.py:269\u001b[0m, in \u001b[0;36mCOMBINED_Model.forward\u001b[0;34m(self, x_Mdiff, x_M1, x_Ntot, cond_x, cond_x_nsh, mask_Mdiff_truth_all, mask_M1_truth_all, Nhalos_truth_all, use_Ntot_samples, use_M1_samples, reg_M1, train_Ntot, train_M1, train_Mdiff, x_Mdiff_FP, x_M1_FP, x_Ntot_FP, Nhalos_truth_all_FP, mask_Mdiff_truth_all_FP, mask_M1_truth_all_FP, L2norm_M1hist, L2norm_Ntothist, delta_low, delta_mid1, delta_mid2, Ntot_hist_min, Ntot_hist_max, nbins_Ntot, nbins_M1, M1_hist_min, M1_hist_max)\u001b[0m\n\u001b[1;32m    266\u001b[0m \u001b[39mif\u001b[39;00m train_M1:\n\u001b[1;32m    267\u001b[0m     \u001b[39mif\u001b[39;00m jb \u001b[39m==\u001b[39m \u001b[39m0\u001b[39m:\n\u001b[1;32m    268\u001b[0m         \u001b[39m# import pdb; pdb.set_trace()\u001b[39;00m\n\u001b[0;32m--> 269\u001b[0m         loss_M1 \u001b[39m=\u001b[39m \u001b[39m-\u001b[39m(\u001b[39mself\u001b[39;49m\u001b[39m.\u001b[39;49mM1_model\u001b[39m.\u001b[39;49mforward(x_M1[jb], cond_inp_M1)) \u001b[39m*\u001b[39m mask_M1_truth\n\u001b[1;32m    270\u001b[0m     \u001b[39melse\u001b[39;00m:\n\u001b[1;32m    271\u001b[0m         loss_M1 \u001b[39m+\u001b[39m\u001b[39m=\u001b[39m \u001b[39m-\u001b[39m(\u001b[39mself\u001b[39m\u001b[39m.\u001b[39mM1_model\u001b[39m.\u001b[39mforward(x_M1[jb], cond_inp_M1)) \u001b[39m*\u001b[39m mask_M1_truth\n",
      "File \u001b[0;32m/mnt/ceph/users/spandey/AR_NPE/nf/all_models.py:446\u001b[0m, in \u001b[0;36mNSF_M1_CNNcond.forward\u001b[0;34m(self, x, cond_inp)\u001b[0m\n\u001b[1;32m    441\u001b[0m     logp[torch\u001b[39m.\u001b[39misnan(logp) \u001b[39m|\u001b[39m torch\u001b[39m.\u001b[39misinf(logp)] \u001b[39m=\u001b[39m \u001b[39m-\u001b[39m\u001b[39m100\u001b[39m\n\u001b[1;32m    442\u001b[0m \u001b[39melif\u001b[39;00m \u001b[39mself\u001b[39m\u001b[39m.\u001b[39mbase_dist \u001b[39m==\u001b[39m \u001b[39m'\u001b[39m\u001b[39mphysical_hmf\u001b[39m\u001b[39m'\u001b[39m:\n\u001b[1;32m    443\u001b[0m     \u001b[39m# use the interpolation function to get the logp\u001b[39;00m\n\u001b[1;32m    444\u001b[0m     \u001b[39m# add another axis to x\u001b[39;00m\n\u001b[1;32m    445\u001b[0m     \u001b[39m# import pdb; pdb.set_trace()\u001b[39;00m\n\u001b[0;32m--> 446\u001b[0m     logp \u001b[39m=\u001b[39m (interpolate(x[\u001b[39mNone\u001b[39;49;00m,:], \u001b[39mself\u001b[39;49m\u001b[39m.\u001b[39;49mlgM_rs_tointerp, \u001b[39mself\u001b[39;49m\u001b[39m.\u001b[39;49mhmf_pdf_tointerp))[\u001b[39m0\u001b[39m,:]\n\u001b[1;32m    447\u001b[0m     \u001b[39m# import pdb; pdb.set_trace()\u001b[39;00m\n\u001b[1;32m    448\u001b[0m     logp[torch\u001b[39m.\u001b[39misnan(logp) \u001b[39m|\u001b[39m torch\u001b[39m.\u001b[39misinf(logp)] \u001b[39m=\u001b[39m \u001b[39m-\u001b[39m\u001b[39m100\u001b[39m\n",
      "File \u001b[0;32m/mnt/ceph/users/spandey/AR_NPE/nf/all_models.py:31\u001b[0m, in \u001b[0;36minterpolate\u001b[0;34m(x, xp, fp)\u001b[0m\n\u001b[1;32m     28\u001b[0m m \u001b[39m=\u001b[39m (fp[:,\u001b[39m1\u001b[39m:] \u001b[39m-\u001b[39m fp[:,:\u001b[39m-\u001b[39m\u001b[39m1\u001b[39m]) \u001b[39m/\u001b[39m (xp[:,\u001b[39m1\u001b[39m:] \u001b[39m-\u001b[39m xp[:,:\u001b[39m-\u001b[39m\u001b[39m1\u001b[39m])  \u001b[39m#slope\u001b[39;00m\n\u001b[1;32m     29\u001b[0m b \u001b[39m=\u001b[39m fp[:, :\u001b[39m-\u001b[39m\u001b[39m1\u001b[39m] \u001b[39m-\u001b[39m (m\u001b[39m.\u001b[39mmul(xp[:, :\u001b[39m-\u001b[39m\u001b[39m1\u001b[39m]) )\n\u001b[0;32m---> 31\u001b[0m indicies \u001b[39m=\u001b[39m torch\u001b[39m.\u001b[39;49msum(torch\u001b[39m.\u001b[39;49mge(x[:, :, \u001b[39mNone\u001b[39;49;00m], xp[:, \u001b[39mNone\u001b[39;49;00m, :]), \u001b[39m-\u001b[39;49m\u001b[39m1\u001b[39;49m) \u001b[39m-\u001b[39m \u001b[39m1\u001b[39m  \u001b[39m#torch.ge:  x[i] >= xp[i] ? true: false\u001b[39;00m\n\u001b[1;32m     32\u001b[0m indicies \u001b[39m=\u001b[39m torch\u001b[39m.\u001b[39mclamp(indicies, \u001b[39m0\u001b[39m, m\u001b[39m.\u001b[39mshape[\u001b[39m-\u001b[39m\u001b[39m1\u001b[39m] \u001b[39m-\u001b[39m \u001b[39m1\u001b[39m)\n\u001b[1;32m     34\u001b[0m line_idx \u001b[39m=\u001b[39m torch\u001b[39m.\u001b[39mlinspace(\u001b[39m0\u001b[39m, indicies\u001b[39m.\u001b[39mshape[\u001b[39m0\u001b[39m], \u001b[39m1\u001b[39m, device\u001b[39m=\u001b[39mindicies\u001b[39m.\u001b[39mdevice)\u001b[39m.\u001b[39mto(torch\u001b[39m.\u001b[39mlong)\n",
      "\u001b[0;31mKeyboardInterrupt\u001b[0m: "
     ]
    }
   ],
   "source": [
    "nepochs_array = [nepochs_Ntot_only, nepochs_Ntot_M1_only, nepochs_all]\n",
    "train_Ntot_array = [1, 1, 1]\n",
    "train_M1_array = [0, 1, 1]\n",
    "train_Mdiff_array = [0, 0, 1]\n",
    "\n",
    "# for jf in range(nflows_train):\n",
    "for jf in range(1,10):\n",
    "# for jf in np.arange(7,16):   \n",
    "# for jf in np.arange(0,7):\n",
    "    try:\n",
    "        print('doing flow ', jf)\n",
    "        epoch_tot_counter = 0\n",
    "        num_cond_Ntot = num_cond\n",
    "        \n",
    "        model_Ntot = SumGaussModel(\n",
    "            hidden_dim=hidden_dim_MAF,\n",
    "            num_cond=num_cond_Ntot,\n",
    "            ngauss=return_dict_train['ngauss_Nhalo'],\n",
    "            mu_all=return_dict_train['mu_all'],\n",
    "            sig_all=return_dict_train['sig_all'],\n",
    "            base_dist=base_dist_Ntot   \n",
    "            )\n",
    "\n",
    "        num_cond_M1 = num_cond + 1\n",
    "        # if conditioned on fastpm we will also give the fastpm fof M1 halos and its mask as conditional\n",
    "        if cond_sim == 'fastpm':\n",
    "            num_cond_M1 += 2\n",
    "\n",
    "        model_M1 = NSF_M1_CNNcond(\n",
    "            K=K_M1,\n",
    "            B=B_M1,\n",
    "            hidden_dim=hidden_dim_MAF,\n",
    "            num_cond=num_cond_M1,\n",
    "            nflows=nflows_M1_NSF,\n",
    "            base_dist=base_dist_M1,\n",
    "            ngauss=ngauss_M1,\n",
    "            lgM_rs_tointerp=lgM_rescaled,\n",
    "            hmf_pdf_tointerp=hmf_pdf,\n",
    "            hmf_cdf_tointerp=hmf_cdf    \n",
    "            )\n",
    "\n",
    "        ndim_diff = return_dict_train['M_diff_halos_all_norm_masked'][0].shape[2]\n",
    "        num_cond_Mdiff = num_cond + 2\n",
    "        model_Mdiff = NSF_Mdiff_CNNcond(\n",
    "            dim=ndim_diff,\n",
    "            K=K_Mdiff,\n",
    "            B=B_Mdiff,\n",
    "            hidden_dim=hidden_dim_MAF,\n",
    "            num_cond=num_cond_Mdiff,\n",
    "            nflows=nflows_Mdiff_NSF,\n",
    "            base_dist=base_dist_Mdiff,\n",
    "            mu_pos=True\n",
    "            )\n",
    "\n",
    "        ndim = ndim_diff + 1\n",
    "        model = COMBINED_Model(\n",
    "            None,\n",
    "            model_Mdiff,\n",
    "            # None,\n",
    "            model_M1,\n",
    "            model_Ntot,\n",
    "            ndim,\n",
    "            ksize,\n",
    "            ns_d,\n",
    "            ns_h,\n",
    "            nb,\n",
    "            ninp,\n",
    "            nfeature_cnn,\n",
    "            nout_cnn,\n",
    "            layers_types=layers_types,\n",
    "            act='tanh',\n",
    "            padding='valid',\n",
    "            sep_Ntot_cond=True,\n",
    "            sep_M1_cond=True,\n",
    "            sep_Mdiff_cond=True,\n",
    "            num_cond_Ntot = num_cond_Ntot,\n",
    "            num_cond_M1 = num_cond_M1,\n",
    "            num_cond_Mdiff = num_cond_Mdiff\n",
    "            )\n",
    "\n",
    "        model.to(dev)\n",
    "\n",
    "        print()\n",
    "\n",
    "        optimizer = optim.Adam(model.parameters(), lr=learning_rate)\n",
    "\n",
    "        loss_all_it = []\n",
    "        loss_min = 1e20\n",
    "        epoch_tot_counter = 0\n",
    "        scheduler = optim.lr_scheduler.ReduceLROnPlateau(optimizer, 'min', factor=0.25, patience=100, verbose=True, cooldown=100, min_lr=1e-8)\n",
    "\n",
    "\n",
    "\n",
    "        save_bestfit_model_name = save_bestfit_model_dir + '/flow_' + str(jf)\n",
    "        for jn in (range(len(nepochs_array))):\n",
    "            loss_min = 1e20\n",
    "            torch.cuda.empty_cache()\n",
    "            ninit = 0\n",
    "            nepochs = nepochs_array[jn]\n",
    "            if nepochs > 0:\n",
    "                train_Ntot = train_Ntot_array[jn]\n",
    "                train_M1 = train_M1_array[jn]\n",
    "                train_Mdiff = train_Mdiff_array[jn]\n",
    "\n",
    "                # if jn > 0:\n",
    "                #     print('loading bestfit model')\n",
    "                #     bestfit_model = (torch.load(save_bestfit_model_name))\n",
    "                #     model.load_state_dict(bestfit_model['state_dict'])\n",
    "                #     optimizer.load_state_dict(bestfit_model['optimizer'])\n",
    "                #     scheduler.load_state_dict(bestfit_model['scheduler'])\n",
    "                #     # loss_min = bestfit_model['loss_min']\n",
    "                #     loss = bestfit_model['loss']\n",
    "                #     lr = bestfit_model['lr']\n",
    "                for g in optimizer.param_groups:\n",
    "                    g['lr'] = learning_rate\n",
    "\n",
    "                for jt in tqdm(range(nepochs)):\n",
    "                    # for jd in range(len(dataloader)):\n",
    "                    torch.cuda.empty_cache()\n",
    "                    optimizer.zero_grad()\n",
    "                    cond_tensor_jd, cond_tensor_nsh_jd, mask_tensor_M1_train_jd, mask_tensor_Mdiff_train_jd, X_M1_jd, \\\n",
    "                        X_Nhalo_jd, X_Mdiff_jd, Nhalos_truth_tensor_jd, mask_tensor_M1_train_FP_jd, X_M1_FP_jd = cond_tensor, cond_tensor_nsh, mask_tensor_M1_train, mask_tensor_Mdiff_train, X_M1, \\\n",
    "                                X_Nhalo, X_Mdiff, Nhalos_truth_tensor, mask_tensor_M1_train_FP, X_M1_FP\n",
    "\n",
    "                    if cond_sim == 'quijote':               \n",
    "                        mask_tensor_M1_train_FP_jd = None\n",
    "                        X_M1_FP_jd = None\n",
    "                    \n",
    "                    torch.cuda.empty_cache()\n",
    "                    # if 1-all_gpu:\n",
    "                    # cond_tensor_jd = cond_tensor_jd.cuda(dev)\n",
    "                    # cond_tensor_nsh_jd = cond_tensor_nsh_jd.cuda(dev)\n",
    "                    # mask_tensor_M1_train_jd = mask_tensor_M1_train_jd.cuda(dev)\n",
    "                    # mask_tensor_Mdiff_train_jd = mask_tensor_Mdiff_train_jd.cuda(dev)\n",
    "                    # X_M1_jd = X_M1_jd.cuda(dev)\n",
    "                    # X_Nhalo_jd = X_Nhalo_jd.cuda(dev)\n",
    "                    # X_Mdiff_jd = X_Mdiff_jd.cuda(dev)\n",
    "                    # Nhalos_truth_tensor_jd = Nhalos_truth_tensor_jd.cuda(dev)\n",
    "                    # if mask_tensor_M1_train_FP_jd is not None:\n",
    "                    #     mask_tensor_M1_train_FP_jd = mask_tensor_M1_train_FP_jd.cuda(dev)\n",
    "                    #     X_M1_FP_jd = X_M1_FP_jd.cuda(dev)\n",
    "                    # torch.cuda.empty_cache()\n",
    "                                    \n",
    "                    loss = model(\n",
    "                        X_Mdiff_jd,\n",
    "                        X_M1_jd,\n",
    "                        X_Nhalo_jd,\n",
    "                        cond_x=cond_tensor_jd,\n",
    "                        cond_x_nsh=cond_tensor_nsh_jd,\n",
    "                        mask_Mdiff_truth_all=mask_tensor_Mdiff_train_jd,\n",
    "                        mask_M1_truth_all=mask_tensor_M1_train_jd,\n",
    "                        Nhalos_truth_all=Nhalos_truth_tensor_jd,\n",
    "                        use_Ntot_samples=False,\n",
    "                        use_M1_samples=False,\n",
    "                        train_Ntot=train_Ntot,\n",
    "                        train_M1=train_M1,\n",
    "                        train_Mdiff=train_Mdiff,\n",
    "                        # x_Mdiff_FP=X_Mdiff_FP,\n",
    "                        x_M1_FP=X_M1_FP_jd,\n",
    "                        # x_Ntot_FP=X_Nhalo_FP,\n",
    "                        # Nhalos_truth_all_FP=Nhalos_truth_tensor_FP,\n",
    "                        # mask_Mdiff_truth_all_FP=mask_tensor_Mdiff_train_FP,\n",
    "                        mask_M1_truth_all_FP=mask_tensor_M1_train_FP_jd,\n",
    "                        L2norm_Ntothist=L2norm_Ntothist,\n",
    "                        L2norm_M1hist=L2norm_M1hist        \n",
    "                        )\n",
    "\n",
    "                    loss.backward()\n",
    "                    optimizer.step()\n",
    "                    scheduler.step(loss)\n",
    "                    epoch_tot_counter += 1\n",
    "                    if (np.mod(jt, int(nepochs / 200)) == 0) or (jt == nepochs - 1):\n",
    "                        if float(loss.cpu().detach().numpy()) < loss_min:\n",
    "                            loss_min = float(loss.cpu().detach().numpy())\n",
    "                            print('saving bf at:', ', with loss:', np.round(loss_min, 5), ', at epoch:', jt, \n",
    "                                'learning rate:', optimizer.param_groups[0]['lr'], ', train_Ntot:', train_Ntot, \n",
    "                                'train_M1:', train_M1, ', train_Mdiff:', train_Mdiff, ', epoch_tot_counter:', epoch_tot_counter)\n",
    "                            lr=optimizer.param_groups[0]['lr']\n",
    "                            # print(loss_min, lr)\n",
    "                            state = {'loss_min': loss_min, 'state_dict': model.state_dict(), 'optimizer': optimizer.state_dict(),\n",
    "                                    'scheduler': scheduler.state_dict(), 'loss':loss, 'lr':lr, 'epoch_tot_counter':epoch_tot_counter}\n",
    "\n",
    "                            torch.save(\n",
    "                                state, save_bestfit_model_name\n",
    "                                )\n",
    "    except Exception as e:\n",
    "        print(e)\n",
    "        print('error in flow:', jf)\n",
    "        pass\n",
    "\n",
    "\n"
   ]
  },
  {
   "cell_type": "code",
   "execution_count": 19,
   "metadata": {},
   "outputs": [
    {
     "name": "stderr",
     "output_type": "stream",
     "text": [
      "  0%|          | 1/8000 [00:00<44:54,  2.97it/s]"
     ]
    },
    {
     "name": "stdout",
     "output_type": "stream",
     "text": [
      "saving bf at: , with loss: -1.36197 , at epoch: 0 learning rate: 0.001 , train_Ntot: 1 train_M1: 1 , train_Mdiff: 0 , epoch_tot_counter: 20242\n"
     ]
    },
    {
     "name": "stderr",
     "output_type": "stream",
     "text": [
      "  1%|          | 41/8000 [00:29<1:38:46,  1.34it/s]"
     ]
    },
    {
     "name": "stdout",
     "output_type": "stream",
     "text": [
      "saving bf at: , with loss: -1.36724 , at epoch: 40 learning rate: 0.001 , train_Ntot: 1 train_M1: 1 , train_Mdiff: 0 , epoch_tot_counter: 20282\n"
     ]
    },
    {
     "name": "stderr",
     "output_type": "stream",
     "text": [
      "  1%|          | 81/8000 [00:58<1:40:05,  1.32it/s]"
     ]
    },
    {
     "name": "stdout",
     "output_type": "stream",
     "text": [
      "saving bf at: , with loss: -1.3927 , at epoch: 80 learning rate: 0.001 , train_Ntot: 1 train_M1: 1 , train_Mdiff: 0 , epoch_tot_counter: 20322\n"
     ]
    },
    {
     "name": "stderr",
     "output_type": "stream",
     "text": [
      "  2%|▏         | 121/8000 [01:26<1:16:36,  1.71it/s]"
     ]
    },
    {
     "name": "stdout",
     "output_type": "stream",
     "text": [
      "saving bf at: , with loss: -1.41221 , at epoch: 120 learning rate: 0.001 , train_Ntot: 1 train_M1: 1 , train_Mdiff: 0 , epoch_tot_counter: 20362\n"
     ]
    },
    {
     "name": "stderr",
     "output_type": "stream",
     "text": [
      "  2%|▏         | 161/8000 [01:56<1:29:47,  1.46it/s]"
     ]
    },
    {
     "name": "stdout",
     "output_type": "stream",
     "text": [
      "saving bf at: , with loss: -1.42257 , at epoch: 160 learning rate: 0.001 , train_Ntot: 1 train_M1: 1 , train_Mdiff: 0 , epoch_tot_counter: 20402\n"
     ]
    },
    {
     "name": "stderr",
     "output_type": "stream",
     "text": [
      "  3%|▎         | 201/8000 [02:26<1:56:34,  1.12it/s]"
     ]
    },
    {
     "name": "stdout",
     "output_type": "stream",
     "text": [
      "saving bf at: , with loss: -1.42782 , at epoch: 200 learning rate: 0.001 , train_Ntot: 1 train_M1: 1 , train_Mdiff: 0 , epoch_tot_counter: 20442\n"
     ]
    },
    {
     "name": "stderr",
     "output_type": "stream",
     "text": [
      "  3%|▎         | 241/8000 [02:55<2:09:28,  1.00s/it]"
     ]
    },
    {
     "name": "stdout",
     "output_type": "stream",
     "text": [
      "saving bf at: , with loss: -1.43035 , at epoch: 240 learning rate: 0.001 , train_Ntot: 1 train_M1: 1 , train_Mdiff: 0 , epoch_tot_counter: 20482\n"
     ]
    },
    {
     "name": "stderr",
     "output_type": "stream",
     "text": [
      "  4%|▎         | 281/8000 [03:24<1:37:09,  1.32it/s]"
     ]
    },
    {
     "name": "stdout",
     "output_type": "stream",
     "text": [
      "saving bf at: , with loss: -1.4342 , at epoch: 280 learning rate: 0.001 , train_Ntot: 1 train_M1: 1 , train_Mdiff: 0 , epoch_tot_counter: 20522\n"
     ]
    },
    {
     "name": "stderr",
     "output_type": "stream",
     "text": [
      "  5%|▍         | 361/8000 [04:22<1:39:35,  1.28it/s]"
     ]
    },
    {
     "name": "stdout",
     "output_type": "stream",
     "text": [
      "saving bf at: , with loss: -1.43839 , at epoch: 360 learning rate: 0.001 , train_Ntot: 1 train_M1: 1 , train_Mdiff: 0 , epoch_tot_counter: 20602\n"
     ]
    },
    {
     "name": "stderr",
     "output_type": "stream",
     "text": [
      "  5%|▌         | 401/8000 [04:51<1:18:25,  1.61it/s]"
     ]
    },
    {
     "name": "stdout",
     "output_type": "stream",
     "text": [
      "saving bf at: , with loss: -1.44061 , at epoch: 400 learning rate: 0.001 , train_Ntot: 1 train_M1: 1 , train_Mdiff: 0 , epoch_tot_counter: 20642\n"
     ]
    },
    {
     "name": "stderr",
     "output_type": "stream",
     "text": [
      "  6%|▌         | 441/8000 [05:20<1:18:07,  1.61it/s]"
     ]
    },
    {
     "name": "stdout",
     "output_type": "stream",
     "text": [
      "saving bf at: , with loss: -1.44232 , at epoch: 440 learning rate: 0.001 , train_Ntot: 1 train_M1: 1 , train_Mdiff: 0 , epoch_tot_counter: 20682\n"
     ]
    },
    {
     "name": "stderr",
     "output_type": "stream",
     "text": [
      "  6%|▌         | 481/8000 [05:50<1:17:55,  1.61it/s]"
     ]
    },
    {
     "name": "stdout",
     "output_type": "stream",
     "text": [
      "saving bf at: , with loss: -1.44292 , at epoch: 480 learning rate: 0.001 , train_Ntot: 1 train_M1: 1 , train_Mdiff: 0 , epoch_tot_counter: 20722\n"
     ]
    },
    {
     "name": "stderr",
     "output_type": "stream",
     "text": [
      "  7%|▋         | 521/8000 [06:19<1:17:36,  1.61it/s]"
     ]
    },
    {
     "name": "stdout",
     "output_type": "stream",
     "text": [
      "saving bf at: , with loss: -1.44421 , at epoch: 520 learning rate: 0.001 , train_Ntot: 1 train_M1: 1 , train_Mdiff: 0 , epoch_tot_counter: 20762\n"
     ]
    },
    {
     "name": "stderr",
     "output_type": "stream",
     "text": [
      "  7%|▋         | 561/8000 [06:48<1:16:50,  1.61it/s]"
     ]
    },
    {
     "name": "stdout",
     "output_type": "stream",
     "text": [
      "saving bf at: , with loss: -1.44526 , at epoch: 560 learning rate: 0.001 , train_Ntot: 1 train_M1: 1 , train_Mdiff: 0 , epoch_tot_counter: 20802\n"
     ]
    },
    {
     "name": "stderr",
     "output_type": "stream",
     "text": [
      "  8%|▊         | 641/8000 [07:47<1:33:51,  1.31it/s]"
     ]
    },
    {
     "name": "stdout",
     "output_type": "stream",
     "text": [
      "saving bf at: , with loss: -1.44669 , at epoch: 640 learning rate: 0.001 , train_Ntot: 1 train_M1: 1 , train_Mdiff: 0 , epoch_tot_counter: 20882\n"
     ]
    },
    {
     "name": "stderr",
     "output_type": "stream",
     "text": [
      "  9%|▊         | 681/8000 [08:16<1:34:53,  1.29it/s]"
     ]
    },
    {
     "name": "stdout",
     "output_type": "stream",
     "text": [
      "saving bf at: , with loss: -1.4473 , at epoch: 680 learning rate: 0.001 , train_Ntot: 1 train_M1: 1 , train_Mdiff: 0 , epoch_tot_counter: 20922\n"
     ]
    },
    {
     "name": "stderr",
     "output_type": "stream",
     "text": [
      "  9%|▉         | 721/8000 [08:45<1:31:50,  1.32it/s]"
     ]
    },
    {
     "name": "stdout",
     "output_type": "stream",
     "text": [
      "saving bf at: , with loss: -1.44781 , at epoch: 720 learning rate: 0.001 , train_Ntot: 1 train_M1: 1 , train_Mdiff: 0 , epoch_tot_counter: 20962\n"
     ]
    },
    {
     "name": "stderr",
     "output_type": "stream",
     "text": [
      " 10%|▉         | 761/8000 [09:15<1:40:07,  1.21it/s]"
     ]
    },
    {
     "name": "stdout",
     "output_type": "stream",
     "text": [
      "saving bf at: , with loss: -1.44838 , at epoch: 760 learning rate: 0.001 , train_Ntot: 1 train_M1: 1 , train_Mdiff: 0 , epoch_tot_counter: 21002\n"
     ]
    },
    {
     "name": "stderr",
     "output_type": "stream",
     "text": [
      " 10%|█         | 801/8000 [09:44<1:29:22,  1.34it/s]"
     ]
    },
    {
     "name": "stdout",
     "output_type": "stream",
     "text": [
      "saving bf at: , with loss: -1.44863 , at epoch: 800 learning rate: 0.001 , train_Ntot: 1 train_M1: 1 , train_Mdiff: 0 , epoch_tot_counter: 21042\n"
     ]
    },
    {
     "name": "stderr",
     "output_type": "stream",
     "text": [
      " 11%|█         | 841/8000 [10:13<1:29:15,  1.34it/s]"
     ]
    },
    {
     "name": "stdout",
     "output_type": "stream",
     "text": [
      "saving bf at: , with loss: -1.44921 , at epoch: 840 learning rate: 0.001 , train_Ntot: 1 train_M1: 1 , train_Mdiff: 0 , epoch_tot_counter: 21082\n"
     ]
    },
    {
     "name": "stderr",
     "output_type": "stream",
     "text": [
      " 11%|█         | 881/8000 [10:42<1:30:11,  1.32it/s]"
     ]
    },
    {
     "name": "stdout",
     "output_type": "stream",
     "text": [
      "saving bf at: , with loss: -1.44936 , at epoch: 880 learning rate: 0.001 , train_Ntot: 1 train_M1: 1 , train_Mdiff: 0 , epoch_tot_counter: 21122\n"
     ]
    },
    {
     "name": "stderr",
     "output_type": "stream",
     "text": [
      " 12%|█▏        | 921/8000 [11:12<1:30:21,  1.31it/s]"
     ]
    },
    {
     "name": "stdout",
     "output_type": "stream",
     "text": [
      "saving bf at: , with loss: -1.44941 , at epoch: 920 learning rate: 0.001 , train_Ntot: 1 train_M1: 1 , train_Mdiff: 0 , epoch_tot_counter: 21162\n"
     ]
    },
    {
     "name": "stderr",
     "output_type": "stream",
     "text": [
      " 12%|█▏        | 961/8000 [11:41<1:13:13,  1.60it/s]"
     ]
    },
    {
     "name": "stdout",
     "output_type": "stream",
     "text": [
      "saving bf at: , with loss: -1.45005 , at epoch: 960 learning rate: 0.001 , train_Ntot: 1 train_M1: 1 , train_Mdiff: 0 , epoch_tot_counter: 21202\n"
     ]
    },
    {
     "name": "stderr",
     "output_type": "stream",
     "text": [
      " 13%|█▎        | 1001/8000 [12:11<1:27:58,  1.33it/s]"
     ]
    },
    {
     "name": "stdout",
     "output_type": "stream",
     "text": [
      "saving bf at: , with loss: -1.45044 , at epoch: 1000 learning rate: 0.001 , train_Ntot: 1 train_M1: 1 , train_Mdiff: 0 , epoch_tot_counter: 21242\n"
     ]
    },
    {
     "name": "stderr",
     "output_type": "stream",
     "text": [
      " 13%|█▎        | 1041/8000 [12:40<1:12:40,  1.60it/s]"
     ]
    },
    {
     "name": "stdout",
     "output_type": "stream",
     "text": [
      "saving bf at: , with loss: -1.45075 , at epoch: 1040 learning rate: 0.001 , train_Ntot: 1 train_M1: 1 , train_Mdiff: 0 , epoch_tot_counter: 21282\n"
     ]
    },
    {
     "name": "stderr",
     "output_type": "stream",
     "text": [
      " 14%|█▎        | 1081/8000 [13:09<1:29:52,  1.28it/s]"
     ]
    },
    {
     "name": "stdout",
     "output_type": "stream",
     "text": [
      "saving bf at: , with loss: -1.4512 , at epoch: 1080 learning rate: 0.001 , train_Ntot: 1 train_M1: 1 , train_Mdiff: 0 , epoch_tot_counter: 21322\n"
     ]
    },
    {
     "name": "stderr",
     "output_type": "stream",
     "text": [
      " 14%|█▍        | 1121/8000 [13:39<1:29:14,  1.28it/s]"
     ]
    },
    {
     "name": "stdout",
     "output_type": "stream",
     "text": [
      "saving bf at: , with loss: -1.45161 , at epoch: 1120 learning rate: 0.001 , train_Ntot: 1 train_M1: 1 , train_Mdiff: 0 , epoch_tot_counter: 21362\n"
     ]
    },
    {
     "name": "stderr",
     "output_type": "stream",
     "text": [
      " 15%|█▍        | 1161/8000 [14:09<1:26:25,  1.32it/s]"
     ]
    },
    {
     "name": "stdout",
     "output_type": "stream",
     "text": [
      "saving bf at: , with loss: -1.45199 , at epoch: 1160 learning rate: 0.001 , train_Ntot: 1 train_M1: 1 , train_Mdiff: 0 , epoch_tot_counter: 21402\n"
     ]
    },
    {
     "name": "stderr",
     "output_type": "stream",
     "text": [
      " 15%|█▌        | 1201/8000 [14:38<1:25:22,  1.33it/s]"
     ]
    },
    {
     "name": "stdout",
     "output_type": "stream",
     "text": [
      "saving bf at: , with loss: -1.45221 , at epoch: 1200 learning rate: 0.001 , train_Ntot: 1 train_M1: 1 , train_Mdiff: 0 , epoch_tot_counter: 21442\n"
     ]
    },
    {
     "name": "stderr",
     "output_type": "stream",
     "text": [
      " 16%|█▌        | 1241/8000 [15:07<1:24:54,  1.33it/s]"
     ]
    },
    {
     "name": "stdout",
     "output_type": "stream",
     "text": [
      "saving bf at: , with loss: -1.45286 , at epoch: 1240 learning rate: 0.001 , train_Ntot: 1 train_M1: 1 , train_Mdiff: 0 , epoch_tot_counter: 21482\n"
     ]
    },
    {
     "name": "stderr",
     "output_type": "stream",
     "text": [
      " 16%|█▌        | 1281/8000 [15:37<1:24:34,  1.32it/s]"
     ]
    },
    {
     "name": "stdout",
     "output_type": "stream",
     "text": [
      "saving bf at: , with loss: -1.45319 , at epoch: 1280 learning rate: 0.001 , train_Ntot: 1 train_M1: 1 , train_Mdiff: 0 , epoch_tot_counter: 21522\n"
     ]
    },
    {
     "name": "stderr",
     "output_type": "stream",
     "text": [
      " 17%|█▋        | 1321/8000 [16:06<1:26:33,  1.29it/s]"
     ]
    },
    {
     "name": "stdout",
     "output_type": "stream",
     "text": [
      "saving bf at: , with loss: -1.45323 , at epoch: 1320 learning rate: 0.001 , train_Ntot: 1 train_M1: 1 , train_Mdiff: 0 , epoch_tot_counter: 21562\n"
     ]
    },
    {
     "name": "stderr",
     "output_type": "stream",
     "text": [
      " 17%|█▋        | 1361/8000 [16:35<1:27:46,  1.26it/s]"
     ]
    },
    {
     "name": "stdout",
     "output_type": "stream",
     "text": [
      "saving bf at: , with loss: -1.45411 , at epoch: 1360 learning rate: 0.001 , train_Ntot: 1 train_M1: 1 , train_Mdiff: 0 , epoch_tot_counter: 21602\n"
     ]
    },
    {
     "name": "stderr",
     "output_type": "stream",
     "text": [
      " 18%|█▊        | 1441/8000 [17:34<1:08:07,  1.60it/s]"
     ]
    },
    {
     "name": "stdout",
     "output_type": "stream",
     "text": [
      "saving bf at: , with loss: -1.45492 , at epoch: 1440 learning rate: 0.001 , train_Ntot: 1 train_M1: 1 , train_Mdiff: 0 , epoch_tot_counter: 21682\n"
     ]
    },
    {
     "name": "stderr",
     "output_type": "stream",
     "text": [
      " 19%|█▊        | 1481/8000 [18:03<1:23:15,  1.31it/s]"
     ]
    },
    {
     "name": "stdout",
     "output_type": "stream",
     "text": [
      "saving bf at: , with loss: -1.4553 , at epoch: 1480 learning rate: 0.001 , train_Ntot: 1 train_M1: 1 , train_Mdiff: 0 , epoch_tot_counter: 21722\n"
     ]
    },
    {
     "name": "stderr",
     "output_type": "stream",
     "text": [
      " 19%|█▉        | 1521/8000 [18:33<1:24:21,  1.28it/s]"
     ]
    },
    {
     "name": "stdout",
     "output_type": "stream",
     "text": [
      "saving bf at: , with loss: -1.45569 , at epoch: 1520 learning rate: 0.001 , train_Ntot: 1 train_M1: 1 , train_Mdiff: 0 , epoch_tot_counter: 21762\n"
     ]
    },
    {
     "name": "stderr",
     "output_type": "stream",
     "text": [
      " 20%|█▉        | 1561/8000 [19:01<1:08:09,  1.57it/s]"
     ]
    },
    {
     "name": "stdout",
     "output_type": "stream",
     "text": [
      "saving bf at: , with loss: -1.456 , at epoch: 1560 learning rate: 0.001 , train_Ntot: 1 train_M1: 1 , train_Mdiff: 0 , epoch_tot_counter: 21802\n"
     ]
    },
    {
     "name": "stderr",
     "output_type": "stream",
     "text": [
      " 21%|██        | 1641/8000 [20:00<1:20:14,  1.32it/s]"
     ]
    },
    {
     "name": "stdout",
     "output_type": "stream",
     "text": [
      "saving bf at: , with loss: -1.45674 , at epoch: 1640 learning rate: 0.001 , train_Ntot: 1 train_M1: 1 , train_Mdiff: 0 , epoch_tot_counter: 21882\n"
     ]
    },
    {
     "name": "stderr",
     "output_type": "stream",
     "text": [
      " 21%|██        | 1681/8000 [20:29<1:22:49,  1.27it/s]"
     ]
    },
    {
     "name": "stdout",
     "output_type": "stream",
     "text": [
      "saving bf at: , with loss: -1.45706 , at epoch: 1680 learning rate: 0.001 , train_Ntot: 1 train_M1: 1 , train_Mdiff: 0 , epoch_tot_counter: 21922\n"
     ]
    },
    {
     "name": "stderr",
     "output_type": "stream",
     "text": [
      " 23%|██▎       | 1801/8000 [21:58<1:43:46,  1.00s/it]"
     ]
    },
    {
     "name": "stdout",
     "output_type": "stream",
     "text": [
      "saving bf at: , with loss: -1.45793 , at epoch: 1800 learning rate: 0.001 , train_Ntot: 1 train_M1: 1 , train_Mdiff: 0 , epoch_tot_counter: 22042\n"
     ]
    },
    {
     "name": "stderr",
     "output_type": "stream",
     "text": [
      " 23%|██▎       | 1841/8000 [22:27<1:16:09,  1.35it/s]"
     ]
    },
    {
     "name": "stdout",
     "output_type": "stream",
     "text": [
      "saving bf at: , with loss: -1.45816 , at epoch: 1840 learning rate: 0.001 , train_Ntot: 1 train_M1: 1 , train_Mdiff: 0 , epoch_tot_counter: 22082\n"
     ]
    },
    {
     "name": "stderr",
     "output_type": "stream",
     "text": [
      " 24%|██▎       | 1881/8000 [22:56<1:25:23,  1.19it/s]"
     ]
    },
    {
     "name": "stdout",
     "output_type": "stream",
     "text": [
      "saving bf at: , with loss: -1.45842 , at epoch: 1880 learning rate: 0.001 , train_Ntot: 1 train_M1: 1 , train_Mdiff: 0 , epoch_tot_counter: 22122\n"
     ]
    },
    {
     "name": "stderr",
     "output_type": "stream",
     "text": [
      " 25%|██▍       | 1961/8000 [23:54<1:15:29,  1.33it/s]"
     ]
    },
    {
     "name": "stdout",
     "output_type": "stream",
     "text": [
      "saving bf at: , with loss: -1.45894 , at epoch: 1960 learning rate: 0.001 , train_Ntot: 1 train_M1: 1 , train_Mdiff: 0 , epoch_tot_counter: 22202\n"
     ]
    },
    {
     "name": "stderr",
     "output_type": "stream",
     "text": [
      " 25%|██▌       | 2001/8000 [24:23<1:02:10,  1.61it/s]"
     ]
    },
    {
     "name": "stdout",
     "output_type": "stream",
     "text": [
      "saving bf at: , with loss: -1.45906 , at epoch: 2000 learning rate: 0.001 , train_Ntot: 1 train_M1: 1 , train_Mdiff: 0 , epoch_tot_counter: 22242\n"
     ]
    },
    {
     "name": "stderr",
     "output_type": "stream",
     "text": [
      " 26%|██▌       | 2081/8000 [25:21<1:01:50,  1.60it/s]"
     ]
    },
    {
     "name": "stdout",
     "output_type": "stream",
     "text": [
      "saving bf at: , with loss: -1.45969 , at epoch: 2080 learning rate: 0.001 , train_Ntot: 1 train_M1: 1 , train_Mdiff: 0 , epoch_tot_counter: 22322\n"
     ]
    },
    {
     "name": "stderr",
     "output_type": "stream",
     "text": [
      " 27%|██▋       | 2121/8000 [25:51<1:14:42,  1.31it/s]"
     ]
    },
    {
     "name": "stdout",
     "output_type": "stream",
     "text": [
      "saving bf at: , with loss: -1.45994 , at epoch: 2120 learning rate: 0.001 , train_Ntot: 1 train_M1: 1 , train_Mdiff: 0 , epoch_tot_counter: 22362\n"
     ]
    },
    {
     "name": "stderr",
     "output_type": "stream",
     "text": [
      " 28%|██▊       | 2201/8000 [26:50<1:12:11,  1.34it/s]"
     ]
    },
    {
     "name": "stdout",
     "output_type": "stream",
     "text": [
      "saving bf at: , with loss: -1.46032 , at epoch: 2200 learning rate: 0.001 , train_Ntot: 1 train_M1: 1 , train_Mdiff: 0 , epoch_tot_counter: 22442\n"
     ]
    },
    {
     "name": "stderr",
     "output_type": "stream",
     "text": [
      " 29%|██▊       | 2281/8000 [27:48<59:17,  1.61it/s]  "
     ]
    },
    {
     "name": "stdout",
     "output_type": "stream",
     "text": [
      "saving bf at: , with loss: -1.46097 , at epoch: 2280 learning rate: 0.001 , train_Ntot: 1 train_M1: 1 , train_Mdiff: 0 , epoch_tot_counter: 22522\n"
     ]
    },
    {
     "name": "stderr",
     "output_type": "stream",
     "text": [
      " 30%|██▉       | 2361/8000 [28:46<1:07:29,  1.39it/s]"
     ]
    },
    {
     "name": "stdout",
     "output_type": "stream",
     "text": [
      "saving bf at: , with loss: -1.4613 , at epoch: 2360 learning rate: 0.001 , train_Ntot: 1 train_M1: 1 , train_Mdiff: 0 , epoch_tot_counter: 22602\n"
     ]
    },
    {
     "name": "stderr",
     "output_type": "stream",
     "text": [
      " 30%|███       | 2401/8000 [29:16<1:10:38,  1.32it/s]"
     ]
    },
    {
     "name": "stdout",
     "output_type": "stream",
     "text": [
      "saving bf at: , with loss: -1.46157 , at epoch: 2400 learning rate: 0.001 , train_Ntot: 1 train_M1: 1 , train_Mdiff: 0 , epoch_tot_counter: 22642\n"
     ]
    },
    {
     "name": "stderr",
     "output_type": "stream",
     "text": [
      " 31%|███       | 2481/8000 [30:14<57:14,  1.61it/s]  "
     ]
    },
    {
     "name": "stdout",
     "output_type": "stream",
     "text": [
      "saving bf at: , with loss: -1.46182 , at epoch: 2480 learning rate: 0.001 , train_Ntot: 1 train_M1: 1 , train_Mdiff: 0 , epoch_tot_counter: 22722\n"
     ]
    },
    {
     "name": "stderr",
     "output_type": "stream",
     "text": [
      " 32%|███▏      | 2521/8000 [30:44<1:08:04,  1.34it/s]"
     ]
    },
    {
     "name": "stdout",
     "output_type": "stream",
     "text": [
      "saving bf at: , with loss: -1.46194 , at epoch: 2520 learning rate: 0.001 , train_Ntot: 1 train_M1: 1 , train_Mdiff: 0 , epoch_tot_counter: 22762\n"
     ]
    },
    {
     "name": "stderr",
     "output_type": "stream",
     "text": [
      " 33%|███▎      | 2601/8000 [31:42<1:08:16,  1.32it/s]"
     ]
    },
    {
     "name": "stdout",
     "output_type": "stream",
     "text": [
      "saving bf at: , with loss: -1.46234 , at epoch: 2600 learning rate: 0.001 , train_Ntot: 1 train_M1: 1 , train_Mdiff: 0 , epoch_tot_counter: 22842\n"
     ]
    },
    {
     "name": "stderr",
     "output_type": "stream",
     "text": [
      " 33%|███▎      | 2641/8000 [32:11<1:09:09,  1.29it/s]"
     ]
    },
    {
     "name": "stdout",
     "output_type": "stream",
     "text": [
      "saving bf at: , with loss: -1.46237 , at epoch: 2640 learning rate: 0.001 , train_Ntot: 1 train_M1: 1 , train_Mdiff: 0 , epoch_tot_counter: 22882\n"
     ]
    },
    {
     "name": "stderr",
     "output_type": "stream",
     "text": [
      " 34%|███▎      | 2681/8000 [32:40<1:10:39,  1.25it/s]"
     ]
    },
    {
     "name": "stdout",
     "output_type": "stream",
     "text": [
      "saving bf at: , with loss: -1.46241 , at epoch: 2680 learning rate: 0.001 , train_Ntot: 1 train_M1: 1 , train_Mdiff: 0 , epoch_tot_counter: 22922\n"
     ]
    },
    {
     "name": "stderr",
     "output_type": "stream",
     "text": [
      " 34%|███▍      | 2721/8000 [33:09<54:55,  1.60it/s]  "
     ]
    },
    {
     "name": "stdout",
     "output_type": "stream",
     "text": [
      "saving bf at: , with loss: -1.46285 , at epoch: 2720 learning rate: 0.001 , train_Ntot: 1 train_M1: 1 , train_Mdiff: 0 , epoch_tot_counter: 22962\n"
     ]
    },
    {
     "name": "stderr",
     "output_type": "stream",
     "text": [
      " 35%|███▍      | 2761/8000 [33:39<1:06:35,  1.31it/s]"
     ]
    },
    {
     "name": "stdout",
     "output_type": "stream",
     "text": [
      "saving bf at: , with loss: -1.46294 , at epoch: 2760 learning rate: 0.001 , train_Ntot: 1 train_M1: 1 , train_Mdiff: 0 , epoch_tot_counter: 23002\n"
     ]
    },
    {
     "name": "stderr",
     "output_type": "stream",
     "text": [
      " 35%|███▌      | 2801/8000 [34:08<1:05:50,  1.32it/s]"
     ]
    },
    {
     "name": "stdout",
     "output_type": "stream",
     "text": [
      "saving bf at: , with loss: -1.46311 , at epoch: 2800 learning rate: 0.001 , train_Ntot: 1 train_M1: 1 , train_Mdiff: 0 , epoch_tot_counter: 23042\n"
     ]
    },
    {
     "name": "stderr",
     "output_type": "stream",
     "text": [
      " 36%|███▌      | 2881/8000 [35:06<1:06:01,  1.29it/s]"
     ]
    },
    {
     "name": "stdout",
     "output_type": "stream",
     "text": [
      "saving bf at: , with loss: -1.46337 , at epoch: 2880 learning rate: 0.001 , train_Ntot: 1 train_M1: 1 , train_Mdiff: 0 , epoch_tot_counter: 23122\n"
     ]
    },
    {
     "name": "stderr",
     "output_type": "stream",
     "text": [
      " 37%|███▋      | 2921/8000 [35:35<1:04:50,  1.31it/s]"
     ]
    },
    {
     "name": "stdout",
     "output_type": "stream",
     "text": [
      "saving bf at: , with loss: -1.46337 , at epoch: 2920 learning rate: 0.001 , train_Ntot: 1 train_M1: 1 , train_Mdiff: 0 , epoch_tot_counter: 23162\n"
     ]
    },
    {
     "name": "stderr",
     "output_type": "stream",
     "text": [
      " 37%|███▋      | 2961/8000 [36:04<1:03:08,  1.33it/s]"
     ]
    },
    {
     "name": "stdout",
     "output_type": "stream",
     "text": [
      "saving bf at: , with loss: -1.46355 , at epoch: 2960 learning rate: 0.001 , train_Ntot: 1 train_M1: 1 , train_Mdiff: 0 , epoch_tot_counter: 23202\n"
     ]
    },
    {
     "name": "stderr",
     "output_type": "stream",
     "text": [
      " 38%|███▊      | 3001/8000 [36:33<1:01:30,  1.35it/s]"
     ]
    },
    {
     "name": "stdout",
     "output_type": "stream",
     "text": [
      "saving bf at: , with loss: -1.46366 , at epoch: 3000 learning rate: 0.001 , train_Ntot: 1 train_M1: 1 , train_Mdiff: 0 , epoch_tot_counter: 23242\n"
     ]
    },
    {
     "name": "stderr",
     "output_type": "stream",
     "text": [
      " 38%|███▊      | 3041/8000 [37:03<1:01:40,  1.34it/s]"
     ]
    },
    {
     "name": "stdout",
     "output_type": "stream",
     "text": [
      "saving bf at: , with loss: -1.46386 , at epoch: 3040 learning rate: 0.001 , train_Ntot: 1 train_M1: 1 , train_Mdiff: 0 , epoch_tot_counter: 23282\n"
     ]
    },
    {
     "name": "stderr",
     "output_type": "stream",
     "text": [
      " 39%|███▉      | 3121/8000 [38:01<1:08:20,  1.19it/s]"
     ]
    },
    {
     "name": "stdout",
     "output_type": "stream",
     "text": [
      "saving bf at: , with loss: -1.46411 , at epoch: 3120 learning rate: 0.001 , train_Ntot: 1 train_M1: 1 , train_Mdiff: 0 , epoch_tot_counter: 23362\n"
     ]
    },
    {
     "name": "stderr",
     "output_type": "stream",
     "text": [
      " 40%|████      | 3201/8000 [38:59<49:39,  1.61it/s]  "
     ]
    },
    {
     "name": "stdout",
     "output_type": "stream",
     "text": [
      "saving bf at: , with loss: -1.46433 , at epoch: 3200 learning rate: 0.001 , train_Ntot: 1 train_M1: 1 , train_Mdiff: 0 , epoch_tot_counter: 23442\n"
     ]
    },
    {
     "name": "stderr",
     "output_type": "stream",
     "text": [
      " 41%|████      | 3281/8000 [39:57<49:29,  1.59it/s]  "
     ]
    },
    {
     "name": "stdout",
     "output_type": "stream",
     "text": [
      "saving bf at: , with loss: -1.46453 , at epoch: 3280 learning rate: 0.001 , train_Ntot: 1 train_M1: 1 , train_Mdiff: 0 , epoch_tot_counter: 23522\n"
     ]
    },
    {
     "name": "stderr",
     "output_type": "stream",
     "text": [
      " 42%|████▏     | 3361/8000 [40:55<58:10,  1.33it/s]  "
     ]
    },
    {
     "name": "stdout",
     "output_type": "stream",
     "text": [
      "saving bf at: , with loss: -1.46464 , at epoch: 3360 learning rate: 0.001 , train_Ntot: 1 train_M1: 1 , train_Mdiff: 0 , epoch_tot_counter: 23602\n"
     ]
    },
    {
     "name": "stderr",
     "output_type": "stream",
     "text": [
      " 43%|████▎     | 3401/8000 [41:24<49:30,  1.55it/s]  "
     ]
    },
    {
     "name": "stdout",
     "output_type": "stream",
     "text": [
      "saving bf at: , with loss: -1.46466 , at epoch: 3400 learning rate: 0.001 , train_Ntot: 1 train_M1: 1 , train_Mdiff: 0 , epoch_tot_counter: 23642\n"
     ]
    },
    {
     "name": "stderr",
     "output_type": "stream",
     "text": [
      " 43%|████▎     | 3441/8000 [41:53<56:39,  1.34it/s]  "
     ]
    },
    {
     "name": "stdout",
     "output_type": "stream",
     "text": [
      "saving bf at: , with loss: -1.46482 , at epoch: 3440 learning rate: 0.001 , train_Ntot: 1 train_M1: 1 , train_Mdiff: 0 , epoch_tot_counter: 23682\n"
     ]
    },
    {
     "name": "stderr",
     "output_type": "stream",
     "text": [
      " 44%|████▎     | 3481/8000 [42:22<1:01:32,  1.22it/s]"
     ]
    },
    {
     "name": "stdout",
     "output_type": "stream",
     "text": [
      "saving bf at: , with loss: -1.46492 , at epoch: 3480 learning rate: 0.001 , train_Ntot: 1 train_M1: 1 , train_Mdiff: 0 , epoch_tot_counter: 23722\n"
     ]
    },
    {
     "name": "stderr",
     "output_type": "stream",
     "text": [
      " 44%|████▍     | 3521/8000 [42:51<46:14,  1.61it/s]  "
     ]
    },
    {
     "name": "stdout",
     "output_type": "stream",
     "text": [
      "saving bf at: , with loss: -1.46503 , at epoch: 3520 learning rate: 0.001 , train_Ntot: 1 train_M1: 1 , train_Mdiff: 0 , epoch_tot_counter: 23762\n"
     ]
    },
    {
     "name": "stderr",
     "output_type": "stream",
     "text": [
      " 45%|████▍     | 3561/8000 [43:20<47:55,  1.54it/s]  "
     ]
    },
    {
     "name": "stdout",
     "output_type": "stream",
     "text": [
      "saving bf at: , with loss: -1.4652 , at epoch: 3560 learning rate: 0.001 , train_Ntot: 1 train_M1: 1 , train_Mdiff: 0 , epoch_tot_counter: 23802\n"
     ]
    },
    {
     "name": "stderr",
     "output_type": "stream",
     "text": [
      " 46%|████▌     | 3641/8000 [44:19<54:13,  1.34it/s]  "
     ]
    },
    {
     "name": "stdout",
     "output_type": "stream",
     "text": [
      "saving bf at: , with loss: -1.46537 , at epoch: 3640 learning rate: 0.001 , train_Ntot: 1 train_M1: 1 , train_Mdiff: 0 , epoch_tot_counter: 23882\n"
     ]
    },
    {
     "name": "stderr",
     "output_type": "stream",
     "text": [
      " 47%|████▋     | 3721/8000 [45:17<53:33,  1.33it/s]  "
     ]
    },
    {
     "name": "stdout",
     "output_type": "stream",
     "text": [
      "saving bf at: , with loss: -1.46551 , at epoch: 3720 learning rate: 0.001 , train_Ntot: 1 train_M1: 1 , train_Mdiff: 0 , epoch_tot_counter: 23962\n"
     ]
    },
    {
     "name": "stderr",
     "output_type": "stream",
     "text": [
      " 48%|████▊     | 3801/8000 [46:16<57:36,  1.21it/s]  "
     ]
    },
    {
     "name": "stdout",
     "output_type": "stream",
     "text": [
      "saving bf at: , with loss: -1.46569 , at epoch: 3800 learning rate: 0.001 , train_Ntot: 1 train_M1: 1 , train_Mdiff: 0 , epoch_tot_counter: 24042\n"
     ]
    },
    {
     "name": "stderr",
     "output_type": "stream",
     "text": [
      " 48%|████▊     | 3841/8000 [46:45<52:03,  1.33it/s]  "
     ]
    },
    {
     "name": "stdout",
     "output_type": "stream",
     "text": [
      "saving bf at: , with loss: -1.46576 , at epoch: 3840 learning rate: 0.001 , train_Ntot: 1 train_M1: 1 , train_Mdiff: 0 , epoch_tot_counter: 24082\n"
     ]
    },
    {
     "name": "stderr",
     "output_type": "stream",
     "text": [
      " 50%|████▉     | 3961/8000 [48:13<52:13,  1.29it/s]  "
     ]
    },
    {
     "name": "stdout",
     "output_type": "stream",
     "text": [
      "saving bf at: , with loss: -1.46589 , at epoch: 3960 learning rate: 0.001 , train_Ntot: 1 train_M1: 1 , train_Mdiff: 0 , epoch_tot_counter: 24202\n"
     ]
    },
    {
     "name": "stderr",
     "output_type": "stream",
     "text": [
      " 51%|█████     | 4041/8000 [49:10<48:12,  1.37it/s]"
     ]
    },
    {
     "name": "stdout",
     "output_type": "stream",
     "text": [
      "saving bf at: , with loss: -1.46615 , at epoch: 4040 learning rate: 0.001 , train_Ntot: 1 train_M1: 1 , train_Mdiff: 0 , epoch_tot_counter: 24282\n"
     ]
    },
    {
     "name": "stderr",
     "output_type": "stream",
     "text": [
      " 52%|█████▏    | 4121/8000 [50:09<51:01,  1.27it/s]"
     ]
    },
    {
     "name": "stdout",
     "output_type": "stream",
     "text": [
      "saving bf at: , with loss: -1.46628 , at epoch: 4120 learning rate: 0.001 , train_Ntot: 1 train_M1: 1 , train_Mdiff: 0 , epoch_tot_counter: 24362\n"
     ]
    },
    {
     "name": "stderr",
     "output_type": "stream",
     "text": [
      " 52%|█████▏    | 4161/8000 [50:37<40:56,  1.56it/s]"
     ]
    },
    {
     "name": "stdout",
     "output_type": "stream",
     "text": [
      "saving bf at: , with loss: -1.46635 , at epoch: 4160 learning rate: 0.001 , train_Ntot: 1 train_M1: 1 , train_Mdiff: 0 , epoch_tot_counter: 24402\n"
     ]
    },
    {
     "name": "stderr",
     "output_type": "stream",
     "text": [
      " 54%|█████▎    | 4281/8000 [52:05<47:48,  1.30it/s]  "
     ]
    },
    {
     "name": "stdout",
     "output_type": "stream",
     "text": [
      "saving bf at: , with loss: -1.46647 , at epoch: 4280 learning rate: 0.001 , train_Ntot: 1 train_M1: 1 , train_Mdiff: 0 , epoch_tot_counter: 24522\n"
     ]
    },
    {
     "name": "stderr",
     "output_type": "stream",
     "text": [
      " 54%|█████▍    | 4321/8000 [52:34<36:53,  1.66it/s]"
     ]
    },
    {
     "name": "stdout",
     "output_type": "stream",
     "text": [
      "saving bf at: , with loss: -1.46656 , at epoch: 4320 learning rate: 0.001 , train_Ntot: 1 train_M1: 1 , train_Mdiff: 0 , epoch_tot_counter: 24562\n"
     ]
    },
    {
     "name": "stderr",
     "output_type": "stream",
     "text": [
      " 56%|█████▌    | 4441/8000 [54:02<50:13,  1.18it/s]"
     ]
    },
    {
     "name": "stdout",
     "output_type": "stream",
     "text": [
      "saving bf at: , with loss: -1.46674 , at epoch: 4440 learning rate: 0.001 , train_Ntot: 1 train_M1: 1 , train_Mdiff: 0 , epoch_tot_counter: 24682\n"
     ]
    },
    {
     "name": "stderr",
     "output_type": "stream",
     "text": [
      " 56%|█████▌    | 4481/8000 [54:30<36:33,  1.60it/s]"
     ]
    },
    {
     "name": "stdout",
     "output_type": "stream",
     "text": [
      "saving bf at: , with loss: -1.46682 , at epoch: 4480 learning rate: 0.001 , train_Ntot: 1 train_M1: 1 , train_Mdiff: 0 , epoch_tot_counter: 24722\n"
     ]
    },
    {
     "name": "stderr",
     "output_type": "stream",
     "text": [
      " 57%|█████▋    | 4561/8000 [55:29<39:20,  1.46it/s]  "
     ]
    },
    {
     "name": "stdout",
     "output_type": "stream",
     "text": [
      "saving bf at: , with loss: -1.46695 , at epoch: 4560 learning rate: 0.001 , train_Ntot: 1 train_M1: 1 , train_Mdiff: 0 , epoch_tot_counter: 24802\n"
     ]
    },
    {
     "name": "stderr",
     "output_type": "stream",
     "text": [
      " 58%|█████▊    | 4641/8000 [56:27<42:25,  1.32it/s]"
     ]
    },
    {
     "name": "stdout",
     "output_type": "stream",
     "text": [
      "saving bf at: , with loss: -1.46708 , at epoch: 4640 learning rate: 0.001 , train_Ntot: 1 train_M1: 1 , train_Mdiff: 0 , epoch_tot_counter: 24882\n"
     ]
    },
    {
     "name": "stderr",
     "output_type": "stream",
     "text": [
      " 59%|█████▊    | 4681/8000 [56:56<42:01,  1.32it/s]"
     ]
    },
    {
     "name": "stdout",
     "output_type": "stream",
     "text": [
      "saving bf at: , with loss: -1.46708 , at epoch: 4680 learning rate: 0.001 , train_Ntot: 1 train_M1: 1 , train_Mdiff: 0 , epoch_tot_counter: 24922\n"
     ]
    },
    {
     "name": "stderr",
     "output_type": "stream",
     "text": [
      " 59%|█████▉    | 4721/8000 [57:26<41:46,  1.31it/s]"
     ]
    },
    {
     "name": "stdout",
     "output_type": "stream",
     "text": [
      "saving bf at: , with loss: -1.46718 , at epoch: 4720 learning rate: 0.001 , train_Ntot: 1 train_M1: 1 , train_Mdiff: 0 , epoch_tot_counter: 24962\n"
     ]
    },
    {
     "name": "stderr",
     "output_type": "stream",
     "text": [
      " 61%|██████    | 4841/8000 [58:53<41:08,  1.28it/s]"
     ]
    },
    {
     "name": "stdout",
     "output_type": "stream",
     "text": [
      "saving bf at: , with loss: -1.46732 , at epoch: 4840 learning rate: 0.001 , train_Ntot: 1 train_M1: 1 , train_Mdiff: 0 , epoch_tot_counter: 25082\n"
     ]
    },
    {
     "name": "stderr",
     "output_type": "stream",
     "text": [
      " 61%|██████    | 4881/8000 [59:21<32:12,  1.61it/s]"
     ]
    },
    {
     "name": "stdout",
     "output_type": "stream",
     "text": [
      "saving bf at: , with loss: -1.46738 , at epoch: 4880 learning rate: 0.001 , train_Ntot: 1 train_M1: 1 , train_Mdiff: 0 , epoch_tot_counter: 25122\n"
     ]
    },
    {
     "name": "stderr",
     "output_type": "stream",
     "text": [
      " 62%|██████▏   | 4961/8000 [1:00:20<37:58,  1.33it/s]"
     ]
    },
    {
     "name": "stdout",
     "output_type": "stream",
     "text": [
      "saving bf at: , with loss: -1.46747 , at epoch: 4960 learning rate: 0.001 , train_Ntot: 1 train_M1: 1 , train_Mdiff: 0 , epoch_tot_counter: 25202\n"
     ]
    },
    {
     "name": "stderr",
     "output_type": "stream",
     "text": [
      " 63%|██████▎   | 5041/8000 [1:01:18<37:33,  1.31it/s]"
     ]
    },
    {
     "name": "stdout",
     "output_type": "stream",
     "text": [
      "saving bf at: , with loss: -1.46756 , at epoch: 5040 learning rate: 0.001 , train_Ntot: 1 train_M1: 1 , train_Mdiff: 0 , epoch_tot_counter: 25282\n"
     ]
    },
    {
     "name": "stderr",
     "output_type": "stream",
     "text": [
      " 64%|██████▎   | 5081/8000 [1:01:46<30:16,  1.61it/s]"
     ]
    },
    {
     "name": "stdout",
     "output_type": "stream",
     "text": [
      "saving bf at: , with loss: -1.46767 , at epoch: 5080 learning rate: 0.001 , train_Ntot: 1 train_M1: 1 , train_Mdiff: 0 , epoch_tot_counter: 25322\n"
     ]
    },
    {
     "name": "stderr",
     "output_type": "stream",
     "text": [
      " 65%|██████▍   | 5161/8000 [1:02:45<36:58,  1.28it/s]"
     ]
    },
    {
     "name": "stdout",
     "output_type": "stream",
     "text": [
      "saving bf at: , with loss: -1.4677 , at epoch: 5160 learning rate: 0.001 , train_Ntot: 1 train_M1: 1 , train_Mdiff: 0 , epoch_tot_counter: 25402\n"
     ]
    },
    {
     "name": "stderr",
     "output_type": "stream",
     "text": [
      " 65%|██████▌   | 5201/8000 [1:03:14<35:15,  1.32it/s]"
     ]
    },
    {
     "name": "stdout",
     "output_type": "stream",
     "text": [
      "saving bf at: , with loss: -1.46782 , at epoch: 5200 learning rate: 0.001 , train_Ntot: 1 train_M1: 1 , train_Mdiff: 0 , epoch_tot_counter: 25442\n"
     ]
    },
    {
     "name": "stderr",
     "output_type": "stream",
     "text": [
      " 66%|██████▌   | 5281/8000 [1:04:12<31:08,  1.45it/s]"
     ]
    },
    {
     "name": "stdout",
     "output_type": "stream",
     "text": [
      "saving bf at: , with loss: -1.46783 , at epoch: 5280 learning rate: 0.001 , train_Ntot: 1 train_M1: 1 , train_Mdiff: 0 , epoch_tot_counter: 25522\n"
     ]
    },
    {
     "name": "stderr",
     "output_type": "stream",
     "text": [
      " 67%|██████▋   | 5321/8000 [1:04:41<34:01,  1.31it/s]"
     ]
    },
    {
     "name": "stdout",
     "output_type": "stream",
     "text": [
      "saving bf at: , with loss: -1.46786 , at epoch: 5320 learning rate: 0.001 , train_Ntot: 1 train_M1: 1 , train_Mdiff: 0 , epoch_tot_counter: 25562\n"
     ]
    },
    {
     "name": "stderr",
     "output_type": "stream",
     "text": [
      " 68%|██████▊   | 5401/8000 [1:05:39<32:53,  1.32it/s]"
     ]
    },
    {
     "name": "stdout",
     "output_type": "stream",
     "text": [
      "saving bf at: , with loss: -1.46803 , at epoch: 5400 learning rate: 0.001 , train_Ntot: 1 train_M1: 1 , train_Mdiff: 0 , epoch_tot_counter: 25642\n"
     ]
    },
    {
     "name": "stderr",
     "output_type": "stream",
     "text": [
      " 68%|██████▊   | 5441/8000 [1:06:08<32:21,  1.32it/s]"
     ]
    },
    {
     "name": "stdout",
     "output_type": "stream",
     "text": [
      "saving bf at: , with loss: -1.46805 , at epoch: 5440 learning rate: 0.001 , train_Ntot: 1 train_M1: 1 , train_Mdiff: 0 , epoch_tot_counter: 25682\n"
     ]
    },
    {
     "name": "stderr",
     "output_type": "stream",
     "text": [
      " 69%|██████▊   | 5481/8000 [1:06:37<31:34,  1.33it/s]"
     ]
    },
    {
     "name": "stdout",
     "output_type": "stream",
     "text": [
      "saving bf at: , with loss: -1.46813 , at epoch: 5480 learning rate: 0.001 , train_Ntot: 1 train_M1: 1 , train_Mdiff: 0 , epoch_tot_counter: 25722\n"
     ]
    },
    {
     "name": "stderr",
     "output_type": "stream",
     "text": [
      " 70%|██████▉   | 5561/8000 [1:07:35<30:44,  1.32it/s]"
     ]
    },
    {
     "name": "stdout",
     "output_type": "stream",
     "text": [
      "saving bf at: , with loss: -1.46815 , at epoch: 5560 learning rate: 0.001 , train_Ntot: 1 train_M1: 1 , train_Mdiff: 0 , epoch_tot_counter: 25802\n"
     ]
    },
    {
     "name": "stderr",
     "output_type": "stream",
     "text": [
      " 70%|███████   | 5601/8000 [1:08:04<25:06,  1.59it/s]"
     ]
    },
    {
     "name": "stdout",
     "output_type": "stream",
     "text": [
      "saving bf at: , with loss: -1.46823 , at epoch: 5600 learning rate: 0.001 , train_Ntot: 1 train_M1: 1 , train_Mdiff: 0 , epoch_tot_counter: 25842\n"
     ]
    },
    {
     "name": "stderr",
     "output_type": "stream",
     "text": [
      " 71%|███████   | 5641/8000 [1:08:33<28:40,  1.37it/s]"
     ]
    },
    {
     "name": "stdout",
     "output_type": "stream",
     "text": [
      "saving bf at: , with loss: -1.46827 , at epoch: 5640 learning rate: 0.001 , train_Ntot: 1 train_M1: 1 , train_Mdiff: 0 , epoch_tot_counter: 25882\n"
     ]
    },
    {
     "name": "stderr",
     "output_type": "stream",
     "text": [
      " 72%|███████▏  | 5721/8000 [1:09:32<28:21,  1.34it/s]"
     ]
    },
    {
     "name": "stdout",
     "output_type": "stream",
     "text": [
      "saving bf at: , with loss: -1.4684 , at epoch: 5720 learning rate: 0.001 , train_Ntot: 1 train_M1: 1 , train_Mdiff: 0 , epoch_tot_counter: 25962\n"
     ]
    },
    {
     "name": "stderr",
     "output_type": "stream",
     "text": [
      " 73%|███████▎  | 5801/8000 [1:10:30<32:33,  1.13it/s]"
     ]
    },
    {
     "name": "stdout",
     "output_type": "stream",
     "text": [
      "saving bf at: , with loss: -1.46847 , at epoch: 5800 learning rate: 0.001 , train_Ntot: 1 train_M1: 1 , train_Mdiff: 0 , epoch_tot_counter: 26042\n"
     ]
    },
    {
     "name": "stderr",
     "output_type": "stream",
     "text": [
      " 74%|███████▎  | 5881/8000 [1:11:28<27:47,  1.27it/s]"
     ]
    },
    {
     "name": "stdout",
     "output_type": "stream",
     "text": [
      "saving bf at: , with loss: -1.46856 , at epoch: 5880 learning rate: 0.001 , train_Ntot: 1 train_M1: 1 , train_Mdiff: 0 , epoch_tot_counter: 26122\n"
     ]
    },
    {
     "name": "stderr",
     "output_type": "stream",
     "text": [
      " 74%|███████▍  | 5921/8000 [1:11:57<21:27,  1.62it/s]"
     ]
    },
    {
     "name": "stdout",
     "output_type": "stream",
     "text": [
      "saving bf at: , with loss: -1.46867 , at epoch: 5920 learning rate: 0.001 , train_Ntot: 1 train_M1: 1 , train_Mdiff: 0 , epoch_tot_counter: 26162\n"
     ]
    },
    {
     "name": "stderr",
     "output_type": "stream",
     "text": [
      " 77%|███████▋  | 6161/8000 [1:14:51<23:31,  1.30it/s]"
     ]
    },
    {
     "name": "stdout",
     "output_type": "stream",
     "text": [
      "saving bf at: , with loss: -1.46891 , at epoch: 6160 learning rate: 0.001 , train_Ntot: 1 train_M1: 1 , train_Mdiff: 0 , epoch_tot_counter: 26402\n"
     ]
    },
    {
     "name": "stderr",
     "output_type": "stream",
     "text": [
      " 79%|███████▊  | 6281/8000 [1:16:18<22:30,  1.27it/s]"
     ]
    },
    {
     "name": "stdout",
     "output_type": "stream",
     "text": [
      "saving bf at: , with loss: -1.46896 , at epoch: 6280 learning rate: 0.001 , train_Ntot: 1 train_M1: 1 , train_Mdiff: 0 , epoch_tot_counter: 26522\n"
     ]
    },
    {
     "name": "stderr",
     "output_type": "stream",
     "text": [
      " 80%|███████▉  | 6361/8000 [1:17:16<17:33,  1.56it/s]"
     ]
    },
    {
     "name": "stdout",
     "output_type": "stream",
     "text": [
      "saving bf at: , with loss: -1.46902 , at epoch: 6360 learning rate: 0.001 , train_Ntot: 1 train_M1: 1 , train_Mdiff: 0 , epoch_tot_counter: 26602\n"
     ]
    },
    {
     "name": "stderr",
     "output_type": "stream",
     "text": [
      " 80%|████████  | 6401/8000 [1:17:46<19:55,  1.34it/s]"
     ]
    },
    {
     "name": "stdout",
     "output_type": "stream",
     "text": [
      "saving bf at: , with loss: -1.4691 , at epoch: 6400 learning rate: 0.001 , train_Ntot: 1 train_M1: 1 , train_Mdiff: 0 , epoch_tot_counter: 26642\n"
     ]
    },
    {
     "name": "stderr",
     "output_type": "stream",
     "text": [
      " 81%|████████  | 6481/8000 [1:18:44<19:09,  1.32it/s]"
     ]
    },
    {
     "name": "stdout",
     "output_type": "stream",
     "text": [
      "saving bf at: , with loss: -1.46921 , at epoch: 6480 learning rate: 0.001 , train_Ntot: 1 train_M1: 1 , train_Mdiff: 0 , epoch_tot_counter: 26722\n"
     ]
    },
    {
     "name": "stderr",
     "output_type": "stream",
     "text": [
      " 82%|████████▏ | 6561/8000 [1:19:41<15:12,  1.58it/s]"
     ]
    },
    {
     "name": "stdout",
     "output_type": "stream",
     "text": [
      "saving bf at: , with loss: -1.46922 , at epoch: 6560 learning rate: 0.001 , train_Ntot: 1 train_M1: 1 , train_Mdiff: 0 , epoch_tot_counter: 26802\n"
     ]
    },
    {
     "name": "stderr",
     "output_type": "stream",
     "text": [
      " 83%|████████▎ | 6601/8000 [1:20:11<17:40,  1.32it/s]"
     ]
    },
    {
     "name": "stdout",
     "output_type": "stream",
     "text": [
      "saving bf at: , with loss: -1.46924 , at epoch: 6600 learning rate: 0.001 , train_Ntot: 1 train_M1: 1 , train_Mdiff: 0 , epoch_tot_counter: 26842\n"
     ]
    },
    {
     "name": "stderr",
     "output_type": "stream",
     "text": [
      " 83%|████████▎ | 6641/8000 [1:20:40<17:04,  1.33it/s]"
     ]
    },
    {
     "name": "stdout",
     "output_type": "stream",
     "text": [
      "saving bf at: , with loss: -1.46937 , at epoch: 6640 learning rate: 0.001 , train_Ntot: 1 train_M1: 1 , train_Mdiff: 0 , epoch_tot_counter: 26882\n"
     ]
    },
    {
     "name": "stderr",
     "output_type": "stream",
     "text": [
      " 85%|████████▍ | 6761/8000 [1:22:07<15:11,  1.36it/s]"
     ]
    },
    {
     "name": "stdout",
     "output_type": "stream",
     "text": [
      "saving bf at: , with loss: -1.46941 , at epoch: 6760 learning rate: 0.001 , train_Ntot: 1 train_M1: 1 , train_Mdiff: 0 , epoch_tot_counter: 27002\n"
     ]
    },
    {
     "name": "stderr",
     "output_type": "stream",
     "text": [
      " 85%|████████▌ | 6801/8000 [1:22:36<15:02,  1.33it/s]"
     ]
    },
    {
     "name": "stdout",
     "output_type": "stream",
     "text": [
      "saving bf at: , with loss: -1.46947 , at epoch: 6800 learning rate: 0.001 , train_Ntot: 1 train_M1: 1 , train_Mdiff: 0 , epoch_tot_counter: 27042\n"
     ]
    },
    {
     "name": "stderr",
     "output_type": "stream",
     "text": [
      " 86%|████████▌ | 6881/8000 [1:23:35<15:47,  1.18it/s]"
     ]
    },
    {
     "name": "stdout",
     "output_type": "stream",
     "text": [
      "saving bf at: , with loss: -1.46958 , at epoch: 6880 learning rate: 0.001 , train_Ntot: 1 train_M1: 1 , train_Mdiff: 0 , epoch_tot_counter: 27122\n"
     ]
    },
    {
     "name": "stderr",
     "output_type": "stream",
     "text": [
      " 87%|████████▋ | 6961/8000 [1:24:33<13:03,  1.33it/s]"
     ]
    },
    {
     "name": "stdout",
     "output_type": "stream",
     "text": [
      "saving bf at: , with loss: -1.46967 , at epoch: 6960 learning rate: 0.001 , train_Ntot: 1 train_M1: 1 , train_Mdiff: 0 , epoch_tot_counter: 27202\n"
     ]
    },
    {
     "name": "stderr",
     "output_type": "stream",
     "text": [
      " 89%|████████▊ | 7086/8000 [1:26:04<11:20,  1.34it/s]"
     ]
    }
   ],
   "source": [
    "train_Ntot = 1\n",
    "train_M1 = 1\n",
    "train_Mdiff = 0\n",
    "nepochs = 8000\n",
    "# if jn > 0:\n",
    "#     print('loading bestfit model')\n",
    "#     bestfit_model = (torch.load(save_bestfit_model_name))\n",
    "#     model.load_state_dict(bestfit_model['state_dict'])\n",
    "#     optimizer.load_state_dict(bestfit_model['optimizer'])\n",
    "#     scheduler.load_state_dict(bestfit_model['scheduler'])\n",
    "#     # loss_min = bestfit_model['loss_min']\n",
    "#     loss = bestfit_model['loss']\n",
    "#     lr = bestfit_model['lr']\n",
    "for g in optimizer.param_groups:\n",
    "    g['lr'] = learning_rate\n",
    "\n",
    "for jt in tqdm(range(nepochs)):\n",
    "    # for jd in range(len(dataloader)):\n",
    "    torch.cuda.empty_cache()\n",
    "    optimizer.zero_grad()\n",
    "    cond_tensor_jd, cond_tensor_nsh_jd, mask_tensor_M1_train_jd, mask_tensor_Mdiff_train_jd, X_M1_jd, \\\n",
    "        X_Nhalo_jd, X_Mdiff_jd, Nhalos_truth_tensor_jd, mask_tensor_M1_train_FP_jd, X_M1_FP_jd = cond_tensor, cond_tensor_nsh, mask_tensor_M1_train, mask_tensor_Mdiff_train, X_M1, \\\n",
    "                X_Nhalo, X_Mdiff, Nhalos_truth_tensor, mask_tensor_M1_train_FP, X_M1_FP\n",
    "\n",
    "    if cond_sim == 'quijote':               \n",
    "        mask_tensor_M1_train_FP_jd = None\n",
    "        X_M1_FP_jd = None\n",
    "    \n",
    "    torch.cuda.empty_cache()\n",
    "    # if 1-all_gpu:\n",
    "    # cond_tensor_jd = cond_tensor_jd.cuda(dev)\n",
    "    # cond_tensor_nsh_jd = cond_tensor_nsh_jd.cuda(dev)\n",
    "    # mask_tensor_M1_train_jd = mask_tensor_M1_train_jd.cuda(dev)\n",
    "    # mask_tensor_Mdiff_train_jd = mask_tensor_Mdiff_train_jd.cuda(dev)\n",
    "    # X_M1_jd = X_M1_jd.cuda(dev)\n",
    "    # X_Nhalo_jd = X_Nhalo_jd.cuda(dev)\n",
    "    # X_Mdiff_jd = X_Mdiff_jd.cuda(dev)\n",
    "    # Nhalos_truth_tensor_jd = Nhalos_truth_tensor_jd.cuda(dev)\n",
    "    # if mask_tensor_M1_train_FP_jd is not None:\n",
    "    #     mask_tensor_M1_train_FP_jd = mask_tensor_M1_train_FP_jd.cuda(dev)\n",
    "    #     X_M1_FP_jd = X_M1_FP_jd.cuda(dev)\n",
    "    # torch.cuda.empty_cache()\n",
    "                    \n",
    "    loss = model(\n",
    "        X_Mdiff_jd,\n",
    "        X_M1_jd,\n",
    "        X_Nhalo_jd,\n",
    "        cond_x=cond_tensor_jd,\n",
    "        cond_x_nsh=cond_tensor_nsh_jd,\n",
    "        mask_Mdiff_truth_all=mask_tensor_Mdiff_train_jd,\n",
    "        mask_M1_truth_all=mask_tensor_M1_train_jd,\n",
    "        Nhalos_truth_all=Nhalos_truth_tensor_jd,\n",
    "        use_Ntot_samples=False,\n",
    "        use_M1_samples=False,\n",
    "        train_Ntot=train_Ntot,\n",
    "        train_M1=train_M1,\n",
    "        train_Mdiff=train_Mdiff,\n",
    "        # x_Mdiff_FP=X_Mdiff_FP,\n",
    "        x_M1_FP=X_M1_FP_jd,\n",
    "        # x_Ntot_FP=X_Nhalo_FP,\n",
    "        # Nhalos_truth_all_FP=Nhalos_truth_tensor_FP,\n",
    "        # mask_Mdiff_truth_all_FP=mask_tensor_Mdiff_train_FP,\n",
    "        mask_M1_truth_all_FP=mask_tensor_M1_train_FP_jd,\n",
    "        L2norm_Ntothist=L2norm_Ntothist,\n",
    "        L2norm_M1hist=L2norm_M1hist        \n",
    "        )\n",
    "\n",
    "    loss.backward()\n",
    "    optimizer.step()\n",
    "    scheduler.step(loss)\n",
    "    epoch_tot_counter += 1\n",
    "    if (np.mod(jt, int(nepochs / 200)) == 0) or (jt == nepochs - 1):\n",
    "        if float(loss.cpu().detach().numpy()) < loss_min:\n",
    "            loss_min = float(loss.cpu().detach().numpy())\n",
    "            print('saving bf at:', ', with loss:', np.round(loss_min, 5), ', at epoch:', jt, \n",
    "                'learning rate:', optimizer.param_groups[0]['lr'], ', train_Ntot:', train_Ntot, \n",
    "                'train_M1:', train_M1, ', train_Mdiff:', train_Mdiff, ', epoch_tot_counter:', epoch_tot_counter)\n",
    "            lr=optimizer.param_groups[0]['lr']\n",
    "            # print(loss_min, lr)\n",
    "            state = {'loss_min': loss_min, 'state_dict': model.state_dict(), 'optimizer': optimizer.state_dict(),\n",
    "                    'scheduler': scheduler.state_dict(), 'loss':loss, 'lr':lr, 'epoch_tot_counter':epoch_tot_counter}\n",
    "\n",
    "            torch.save(\n",
    "                state, save_bestfit_model_name\n",
    "                )\n",
    "\n",
    "\n"
   ]
  },
  {
   "cell_type": "code",
   "execution_count": 19,
   "metadata": {},
   "outputs": [
    {
     "data": {
      "text/plain": [
       "-1.5923969745635986"
      ]
     },
     "execution_count": 19,
     "metadata": {},
     "output_type": "execute_result"
    }
   ],
   "source": [
    "# loss_min\n",
    "\n",
    "\n"
   ]
  },
  {
   "cell_type": "code",
   "execution_count": null,
   "metadata": {},
   "outputs": [
    {
     "name": "stderr",
     "output_type": "stream",
     "text": [
      "  0%|          | 1/12000 [00:01<4:07:35,  1.24s/it]"
     ]
    },
    {
     "name": "stdout",
     "output_type": "stream",
     "text": [
      "saving bf at: , with loss: -1.56047 , at epoch: 0 learning rate: 0.00025 , train_Ntot: 1 train_M1: 1 , train_Mdiff: 1 , epoch_tot_counter: 9001\n"
     ]
    },
    {
     "name": "stderr",
     "output_type": "stream",
     "text": [
      "  0%|          | 41/12000 [00:47<3:59:08,  1.20s/it]"
     ]
    },
    {
     "name": "stdout",
     "output_type": "stream",
     "text": [
      "saving bf at: , with loss: -1.56103 , at epoch: 40 learning rate: 0.00025 , train_Ntot: 1 train_M1: 1 , train_Mdiff: 1 , epoch_tot_counter: 9041\n"
     ]
    },
    {
     "name": "stderr",
     "output_type": "stream",
     "text": [
      "  1%|          | 81/12000 [01:33<3:50:52,  1.16s/it]"
     ]
    },
    {
     "name": "stdout",
     "output_type": "stream",
     "text": [
      "saving bf at: , with loss: -1.56151 , at epoch: 80 learning rate: 0.00025 , train_Ntot: 1 train_M1: 1 , train_Mdiff: 1 , epoch_tot_counter: 9081\n"
     ]
    },
    {
     "name": "stderr",
     "output_type": "stream",
     "text": [
      "  1%|          | 121/12000 [02:19<3:55:35,  1.19s/it]"
     ]
    },
    {
     "name": "stdout",
     "output_type": "stream",
     "text": [
      "saving bf at: , with loss: -1.56201 , at epoch: 120 learning rate: 0.00025 , train_Ntot: 1 train_M1: 1 , train_Mdiff: 1 , epoch_tot_counter: 9121\n"
     ]
    },
    {
     "name": "stderr",
     "output_type": "stream",
     "text": [
      "  1%|▏         | 161/12000 [03:05<3:46:46,  1.15s/it]"
     ]
    },
    {
     "name": "stdout",
     "output_type": "stream",
     "text": [
      "saving bf at: , with loss: -1.56236 , at epoch: 160 learning rate: 0.00025 , train_Ntot: 1 train_M1: 1 , train_Mdiff: 1 , epoch_tot_counter: 9161\n"
     ]
    },
    {
     "name": "stderr",
     "output_type": "stream",
     "text": [
      "  2%|▏         | 201/12000 [03:51<3:50:22,  1.17s/it]"
     ]
    },
    {
     "name": "stdout",
     "output_type": "stream",
     "text": [
      "saving bf at: , with loss: -1.56291 , at epoch: 200 learning rate: 0.00025 , train_Ntot: 1 train_M1: 1 , train_Mdiff: 1 , epoch_tot_counter: 9201\n"
     ]
    },
    {
     "name": "stderr",
     "output_type": "stream",
     "text": [
      "  2%|▏         | 241/12000 [04:37<3:46:32,  1.16s/it]"
     ]
    },
    {
     "name": "stdout",
     "output_type": "stream",
     "text": [
      "saving bf at: , with loss: -1.56326 , at epoch: 240 learning rate: 0.00025 , train_Ntot: 1 train_M1: 1 , train_Mdiff: 1 , epoch_tot_counter: 9241\n"
     ]
    },
    {
     "name": "stderr",
     "output_type": "stream",
     "text": [
      "  2%|▏         | 281/12000 [05:24<3:48:02,  1.17s/it]"
     ]
    },
    {
     "name": "stdout",
     "output_type": "stream",
     "text": [
      "saving bf at: , with loss: -1.56358 , at epoch: 280 learning rate: 0.00025 , train_Ntot: 1 train_M1: 1 , train_Mdiff: 1 , epoch_tot_counter: 9281\n"
     ]
    },
    {
     "name": "stderr",
     "output_type": "stream",
     "text": [
      "  3%|▎         | 321/12000 [06:10<3:46:44,  1.16s/it]"
     ]
    },
    {
     "name": "stdout",
     "output_type": "stream",
     "text": [
      "saving bf at: , with loss: -1.56424 , at epoch: 320 learning rate: 0.00025 , train_Ntot: 1 train_M1: 1 , train_Mdiff: 1 , epoch_tot_counter: 9321\n"
     ]
    },
    {
     "name": "stderr",
     "output_type": "stream",
     "text": [
      "  3%|▎         | 361/12000 [06:57<3:48:23,  1.18s/it]"
     ]
    },
    {
     "name": "stdout",
     "output_type": "stream",
     "text": [
      "saving bf at: , with loss: -1.56468 , at epoch: 360 learning rate: 0.00025 , train_Ntot: 1 train_M1: 1 , train_Mdiff: 1 , epoch_tot_counter: 9361\n"
     ]
    },
    {
     "name": "stderr",
     "output_type": "stream",
     "text": [
      "  3%|▎         | 401/12000 [07:44<3:44:13,  1.16s/it]"
     ]
    },
    {
     "name": "stdout",
     "output_type": "stream",
     "text": [
      "saving bf at: , with loss: -1.56508 , at epoch: 400 learning rate: 0.00025 , train_Ntot: 1 train_M1: 1 , train_Mdiff: 1 , epoch_tot_counter: 9401\n"
     ]
    },
    {
     "name": "stderr",
     "output_type": "stream",
     "text": [
      "  4%|▎         | 441/12000 [08:30<3:50:26,  1.20s/it]"
     ]
    },
    {
     "name": "stdout",
     "output_type": "stream",
     "text": [
      "saving bf at: , with loss: -1.5655 , at epoch: 440 learning rate: 0.00025 , train_Ntot: 1 train_M1: 1 , train_Mdiff: 1 , epoch_tot_counter: 9441\n"
     ]
    },
    {
     "name": "stderr",
     "output_type": "stream",
     "text": [
      "  4%|▍         | 480/12000 [09:15<3:40:47,  1.15s/it]"
     ]
    },
    {
     "name": "stdout",
     "output_type": "stream",
     "text": [
      "saving bf at: , with loss: -1.56587 , at epoch: 480 learning rate: 0.00025 , train_Ntot: 1 train_M1: 1 , train_Mdiff: 1 , epoch_tot_counter: 9481\n"
     ]
    },
    {
     "name": "stderr",
     "output_type": "stream",
     "text": [
      "  4%|▍         | 521/12000 [10:03<3:41:05,  1.16s/it]"
     ]
    },
    {
     "name": "stdout",
     "output_type": "stream",
     "text": [
      "saving bf at: , with loss: -1.56605 , at epoch: 520 learning rate: 0.00025 , train_Ntot: 1 train_M1: 1 , train_Mdiff: 1 , epoch_tot_counter: 9521\n"
     ]
    },
    {
     "name": "stderr",
     "output_type": "stream",
     "text": [
      "  5%|▍         | 561/12000 [10:50<3:41:01,  1.16s/it]"
     ]
    },
    {
     "name": "stdout",
     "output_type": "stream",
     "text": [
      "saving bf at: , with loss: -1.56662 , at epoch: 560 learning rate: 0.00025 , train_Ntot: 1 train_M1: 1 , train_Mdiff: 1 , epoch_tot_counter: 9561\n"
     ]
    },
    {
     "name": "stderr",
     "output_type": "stream",
     "text": [
      "  5%|▌         | 601/12000 [11:36<3:41:57,  1.17s/it]"
     ]
    },
    {
     "name": "stdout",
     "output_type": "stream",
     "text": [
      "saving bf at: , with loss: -1.56703 , at epoch: 600 learning rate: 0.00025 , train_Ntot: 1 train_M1: 1 , train_Mdiff: 1 , epoch_tot_counter: 9601\n"
     ]
    },
    {
     "name": "stderr",
     "output_type": "stream",
     "text": [
      "  6%|▌         | 681/12000 [13:08<3:38:48,  1.16s/it]"
     ]
    },
    {
     "name": "stdout",
     "output_type": "stream",
     "text": [
      "saving bf at: , with loss: -1.56763 , at epoch: 680 learning rate: 0.00025 , train_Ntot: 1 train_M1: 1 , train_Mdiff: 1 , epoch_tot_counter: 9681\n"
     ]
    },
    {
     "name": "stderr",
     "output_type": "stream",
     "text": [
      "  6%|▌         | 720/12000 [13:53<3:43:51,  1.19s/it]"
     ]
    },
    {
     "name": "stdout",
     "output_type": "stream",
     "text": [
      "saving bf at: , with loss: -1.56796 , at epoch: 720 learning rate: 0.00025 , train_Ntot: 1 train_M1: 1 , train_Mdiff: 1 , epoch_tot_counter: 9721\n"
     ]
    },
    {
     "name": "stderr",
     "output_type": "stream",
     "text": [
      "  6%|▋         | 761/12000 [14:41<3:36:04,  1.15s/it]"
     ]
    },
    {
     "name": "stdout",
     "output_type": "stream",
     "text": [
      "saving bf at: , with loss: -1.56836 , at epoch: 760 learning rate: 0.00025 , train_Ntot: 1 train_M1: 1 , train_Mdiff: 1 , epoch_tot_counter: 9761\n"
     ]
    },
    {
     "name": "stderr",
     "output_type": "stream",
     "text": [
      "  7%|▋         | 801/12000 [15:28<3:38:17,  1.17s/it]"
     ]
    },
    {
     "name": "stdout",
     "output_type": "stream",
     "text": [
      "saving bf at: , with loss: -1.56859 , at epoch: 800 learning rate: 0.00025 , train_Ntot: 1 train_M1: 1 , train_Mdiff: 1 , epoch_tot_counter: 9801\n"
     ]
    },
    {
     "name": "stderr",
     "output_type": "stream",
     "text": [
      "  7%|▋         | 841/12000 [16:15<3:34:35,  1.15s/it]"
     ]
    },
    {
     "name": "stdout",
     "output_type": "stream",
     "text": [
      "saving bf at: , with loss: -1.56894 , at epoch: 840 learning rate: 0.00025 , train_Ntot: 1 train_M1: 1 , train_Mdiff: 1 , epoch_tot_counter: 9841\n"
     ]
    },
    {
     "name": "stderr",
     "output_type": "stream",
     "text": [
      "  7%|▋         | 881/12000 [17:02<3:35:49,  1.16s/it]"
     ]
    },
    {
     "name": "stdout",
     "output_type": "stream",
     "text": [
      "saving bf at: , with loss: -1.56926 , at epoch: 880 learning rate: 0.00025 , train_Ntot: 1 train_M1: 1 , train_Mdiff: 1 , epoch_tot_counter: 9881\n"
     ]
    },
    {
     "name": "stderr",
     "output_type": "stream",
     "text": [
      "  8%|▊         | 921/12000 [17:48<3:33:32,  1.16s/it]"
     ]
    },
    {
     "name": "stdout",
     "output_type": "stream",
     "text": [
      "saving bf at: , with loss: -1.56954 , at epoch: 920 learning rate: 0.00025 , train_Ntot: 1 train_M1: 1 , train_Mdiff: 1 , epoch_tot_counter: 9921\n"
     ]
    },
    {
     "name": "stderr",
     "output_type": "stream",
     "text": [
      "  8%|▊         | 961/12000 [18:35<3:33:18,  1.16s/it]"
     ]
    },
    {
     "name": "stdout",
     "output_type": "stream",
     "text": [
      "saving bf at: , with loss: -1.56975 , at epoch: 960 learning rate: 0.00025 , train_Ntot: 1 train_M1: 1 , train_Mdiff: 1 , epoch_tot_counter: 9961\n"
     ]
    },
    {
     "name": "stderr",
     "output_type": "stream",
     "text": [
      "  8%|▊         | 1001/12000 [19:22<3:46:28,  1.24s/it]"
     ]
    },
    {
     "name": "stdout",
     "output_type": "stream",
     "text": [
      "saving bf at: , with loss: -1.57006 , at epoch: 1000 learning rate: 0.00025 , train_Ntot: 1 train_M1: 1 , train_Mdiff: 1 , epoch_tot_counter: 10001\n"
     ]
    },
    {
     "name": "stderr",
     "output_type": "stream",
     "text": [
      "  9%|▊         | 1041/12000 [20:08<3:31:50,  1.16s/it]"
     ]
    },
    {
     "name": "stdout",
     "output_type": "stream",
     "text": [
      "saving bf at: , with loss: -1.57029 , at epoch: 1040 learning rate: 0.00025 , train_Ntot: 1 train_M1: 1 , train_Mdiff: 1 , epoch_tot_counter: 10041\n"
     ]
    },
    {
     "name": "stderr",
     "output_type": "stream",
     "text": [
      "  9%|▉         | 1081/12000 [20:56<3:44:02,  1.23s/it]"
     ]
    },
    {
     "name": "stdout",
     "output_type": "stream",
     "text": [
      "saving bf at: , with loss: -1.57044 , at epoch: 1080 learning rate: 0.00025 , train_Ntot: 1 train_M1: 1 , train_Mdiff: 1 , epoch_tot_counter: 10081\n"
     ]
    },
    {
     "name": "stderr",
     "output_type": "stream",
     "text": [
      "  9%|▉         | 1121/12000 [21:42<3:32:52,  1.17s/it]"
     ]
    },
    {
     "name": "stdout",
     "output_type": "stream",
     "text": [
      "saving bf at: , with loss: -1.57062 , at epoch: 1120 learning rate: 0.00025 , train_Ntot: 1 train_M1: 1 , train_Mdiff: 1 , epoch_tot_counter: 10121\n"
     ]
    },
    {
     "name": "stderr",
     "output_type": "stream",
     "text": [
      " 10%|▉         | 1161/12000 [22:29<3:33:09,  1.18s/it]"
     ]
    },
    {
     "name": "stdout",
     "output_type": "stream",
     "text": [
      "saving bf at: , with loss: -1.57099 , at epoch: 1160 learning rate: 0.00025 , train_Ntot: 1 train_M1: 1 , train_Mdiff: 1 , epoch_tot_counter: 10161\n"
     ]
    },
    {
     "name": "stderr",
     "output_type": "stream",
     "text": [
      " 10%|█         | 1201/12000 [23:16<3:29:03,  1.16s/it]"
     ]
    },
    {
     "name": "stdout",
     "output_type": "stream",
     "text": [
      "saving bf at: , with loss: -1.57124 , at epoch: 1200 learning rate: 0.00025 , train_Ntot: 1 train_M1: 1 , train_Mdiff: 1 , epoch_tot_counter: 10201\n"
     ]
    },
    {
     "name": "stderr",
     "output_type": "stream",
     "text": [
      " 10%|█         | 1241/12000 [24:03<3:28:30,  1.16s/it]"
     ]
    },
    {
     "name": "stdout",
     "output_type": "stream",
     "text": [
      "saving bf at: , with loss: -1.57147 , at epoch: 1240 learning rate: 0.00025 , train_Ntot: 1 train_M1: 1 , train_Mdiff: 1 , epoch_tot_counter: 10241\n"
     ]
    },
    {
     "name": "stderr",
     "output_type": "stream",
     "text": [
      " 11%|█         | 1280/12000 [24:48<3:26:15,  1.15s/it]"
     ]
    },
    {
     "name": "stdout",
     "output_type": "stream",
     "text": [
      "saving bf at: , with loss: -1.5716 , at epoch: 1280 learning rate: 0.00025 , train_Ntot: 1 train_M1: 1 , train_Mdiff: 1 , epoch_tot_counter: 10281\n"
     ]
    },
    {
     "name": "stderr",
     "output_type": "stream",
     "text": [
      " 11%|█         | 1321/12000 [25:36<3:26:52,  1.16s/it]"
     ]
    },
    {
     "name": "stdout",
     "output_type": "stream",
     "text": [
      "saving bf at: , with loss: -1.57185 , at epoch: 1320 learning rate: 0.00025 , train_Ntot: 1 train_M1: 1 , train_Mdiff: 1 , epoch_tot_counter: 10321\n"
     ]
    },
    {
     "name": "stderr",
     "output_type": "stream",
     "text": [
      " 11%|█▏        | 1361/12000 [26:23<4:01:06,  1.36s/it]"
     ]
    },
    {
     "name": "stdout",
     "output_type": "stream",
     "text": [
      "saving bf at: , with loss: -1.57197 , at epoch: 1360 learning rate: 0.00025 , train_Ntot: 1 train_M1: 1 , train_Mdiff: 1 , epoch_tot_counter: 10361\n"
     ]
    },
    {
     "name": "stderr",
     "output_type": "stream",
     "text": [
      " 12%|█▏        | 1401/12000 [27:10<3:29:11,  1.18s/it]"
     ]
    },
    {
     "name": "stdout",
     "output_type": "stream",
     "text": [
      "saving bf at: , with loss: -1.57227 , at epoch: 1400 learning rate: 0.00025 , train_Ntot: 1 train_M1: 1 , train_Mdiff: 1 , epoch_tot_counter: 10401\n"
     ]
    },
    {
     "name": "stderr",
     "output_type": "stream",
     "text": [
      " 12%|█▏        | 1441/12000 [27:57<3:51:26,  1.32s/it]"
     ]
    },
    {
     "name": "stdout",
     "output_type": "stream",
     "text": [
      "saving bf at: , with loss: -1.57241 , at epoch: 1440 learning rate: 0.00025 , train_Ntot: 1 train_M1: 1 , train_Mdiff: 1 , epoch_tot_counter: 10441\n"
     ]
    },
    {
     "name": "stderr",
     "output_type": "stream",
     "text": [
      " 12%|█▏        | 1481/12000 [28:44<3:23:14,  1.16s/it]"
     ]
    },
    {
     "name": "stdout",
     "output_type": "stream",
     "text": [
      "saving bf at: , with loss: -1.57253 , at epoch: 1480 learning rate: 0.00025 , train_Ntot: 1 train_M1: 1 , train_Mdiff: 1 , epoch_tot_counter: 10481\n"
     ]
    },
    {
     "name": "stderr",
     "output_type": "stream",
     "text": [
      " 13%|█▎        | 1520/12000 [29:30<3:25:42,  1.18s/it]"
     ]
    },
    {
     "name": "stdout",
     "output_type": "stream",
     "text": [
      "saving bf at: , with loss: -1.57279 , at epoch: 1520 learning rate: 0.00025 , train_Ntot: 1 train_M1: 1 , train_Mdiff: 1 , epoch_tot_counter: 10521\n"
     ]
    },
    {
     "name": "stderr",
     "output_type": "stream",
     "text": [
      " 13%|█▎        | 1560/12000 [30:16<3:19:01,  1.14s/it]"
     ]
    },
    {
     "name": "stdout",
     "output_type": "stream",
     "text": [
      "saving bf at: , with loss: -1.57304 , at epoch: 1560 learning rate: 0.00025 , train_Ntot: 1 train_M1: 1 , train_Mdiff: 1 , epoch_tot_counter: 10561\n"
     ]
    },
    {
     "name": "stderr",
     "output_type": "stream",
     "text": [
      " 13%|█▎        | 1601/12000 [31:04<3:21:16,  1.16s/it]"
     ]
    },
    {
     "name": "stdout",
     "output_type": "stream",
     "text": [
      "saving bf at: , with loss: -1.57323 , at epoch: 1600 learning rate: 0.00025 , train_Ntot: 1 train_M1: 1 , train_Mdiff: 1 , epoch_tot_counter: 10601\n"
     ]
    },
    {
     "name": "stderr",
     "output_type": "stream",
     "text": [
      " 14%|█▎        | 1641/12000 [31:51<3:32:01,  1.23s/it]"
     ]
    },
    {
     "name": "stdout",
     "output_type": "stream",
     "text": [
      "saving bf at: , with loss: -1.57336 , at epoch: 1640 learning rate: 0.00025 , train_Ntot: 1 train_M1: 1 , train_Mdiff: 1 , epoch_tot_counter: 10641\n"
     ]
    },
    {
     "name": "stderr",
     "output_type": "stream",
     "text": [
      " 14%|█▍        | 1681/12000 [32:38<3:19:38,  1.16s/it]"
     ]
    },
    {
     "name": "stdout",
     "output_type": "stream",
     "text": [
      "saving bf at: , with loss: -1.5735 , at epoch: 1680 learning rate: 0.00025 , train_Ntot: 1 train_M1: 1 , train_Mdiff: 1 , epoch_tot_counter: 10681\n"
     ]
    },
    {
     "name": "stderr",
     "output_type": "stream",
     "text": [
      " 14%|█▍        | 1721/12000 [33:24<3:17:49,  1.15s/it]"
     ]
    },
    {
     "name": "stdout",
     "output_type": "stream",
     "text": [
      "saving bf at: , with loss: -1.57375 , at epoch: 1720 learning rate: 0.00025 , train_Ntot: 1 train_M1: 1 , train_Mdiff: 1 , epoch_tot_counter: 10721\n"
     ]
    },
    {
     "name": "stderr",
     "output_type": "stream",
     "text": [
      " 15%|█▍        | 1761/12000 [34:10<3:18:14,  1.16s/it]"
     ]
    },
    {
     "name": "stdout",
     "output_type": "stream",
     "text": [
      "saving bf at: , with loss: -1.57393 , at epoch: 1760 learning rate: 0.00025 , train_Ntot: 1 train_M1: 1 , train_Mdiff: 1 , epoch_tot_counter: 10761\n"
     ]
    },
    {
     "name": "stderr",
     "output_type": "stream",
     "text": [
      " 15%|█▌        | 1801/12000 [34:56<3:24:50,  1.21s/it]"
     ]
    },
    {
     "name": "stdout",
     "output_type": "stream",
     "text": [
      "saving bf at: , with loss: -1.57408 , at epoch: 1800 learning rate: 0.00025 , train_Ntot: 1 train_M1: 1 , train_Mdiff: 1 , epoch_tot_counter: 10801\n"
     ]
    },
    {
     "name": "stderr",
     "output_type": "stream",
     "text": [
      " 15%|█▌        | 1841/12000 [35:42<3:24:38,  1.21s/it]"
     ]
    },
    {
     "name": "stdout",
     "output_type": "stream",
     "text": [
      "saving bf at: , with loss: -1.57423 , at epoch: 1840 learning rate: 0.00025 , train_Ntot: 1 train_M1: 1 , train_Mdiff: 1 , epoch_tot_counter: 10841\n"
     ]
    },
    {
     "name": "stderr",
     "output_type": "stream",
     "text": [
      " 16%|█▌        | 1921/12000 [37:16<3:14:24,  1.16s/it]"
     ]
    },
    {
     "name": "stdout",
     "output_type": "stream",
     "text": [
      "saving bf at: , with loss: -1.57452 , at epoch: 1920 learning rate: 0.00025 , train_Ntot: 1 train_M1: 1 , train_Mdiff: 1 , epoch_tot_counter: 10921\n"
     ]
    },
    {
     "name": "stderr",
     "output_type": "stream",
     "text": [
      " 16%|█▋        | 1961/12000 [38:03<3:16:41,  1.18s/it]"
     ]
    },
    {
     "name": "stdout",
     "output_type": "stream",
     "text": [
      "saving bf at: , with loss: -1.57472 , at epoch: 1960 learning rate: 0.00025 , train_Ntot: 1 train_M1: 1 , train_Mdiff: 1 , epoch_tot_counter: 10961\n"
     ]
    },
    {
     "name": "stderr",
     "output_type": "stream",
     "text": [
      " 17%|█▋        | 2001/12000 [38:49<3:13:18,  1.16s/it]"
     ]
    },
    {
     "name": "stdout",
     "output_type": "stream",
     "text": [
      "saving bf at: , with loss: -1.57479 , at epoch: 2000 learning rate: 0.00025 , train_Ntot: 1 train_M1: 1 , train_Mdiff: 1 , epoch_tot_counter: 11001\n"
     ]
    },
    {
     "name": "stderr",
     "output_type": "stream",
     "text": [
      " 17%|█▋        | 2041/12000 [39:37<3:13:03,  1.16s/it]"
     ]
    },
    {
     "name": "stdout",
     "output_type": "stream",
     "text": [
      "saving bf at: , with loss: -1.57499 , at epoch: 2040 learning rate: 0.00025 , train_Ntot: 1 train_M1: 1 , train_Mdiff: 1 , epoch_tot_counter: 11041\n"
     ]
    },
    {
     "name": "stderr",
     "output_type": "stream",
     "text": [
      " 17%|█▋        | 2081/12000 [40:24<3:13:48,  1.17s/it]"
     ]
    },
    {
     "name": "stdout",
     "output_type": "stream",
     "text": [
      "saving bf at: , with loss: -1.57515 , at epoch: 2080 learning rate: 0.00025 , train_Ntot: 1 train_M1: 1 , train_Mdiff: 1 , epoch_tot_counter: 11081\n"
     ]
    },
    {
     "name": "stderr",
     "output_type": "stream",
     "text": [
      " 18%|█▊        | 2121/12000 [41:10<3:13:07,  1.17s/it]"
     ]
    },
    {
     "name": "stdout",
     "output_type": "stream",
     "text": [
      "saving bf at: , with loss: -1.57518 , at epoch: 2120 learning rate: 0.00025 , train_Ntot: 1 train_M1: 1 , train_Mdiff: 1 , epoch_tot_counter: 11121\n"
     ]
    },
    {
     "name": "stderr",
     "output_type": "stream",
     "text": [
      " 18%|█▊        | 2161/12000 [41:57<3:13:28,  1.18s/it]"
     ]
    },
    {
     "name": "stdout",
     "output_type": "stream",
     "text": [
      "saving bf at: , with loss: -1.57532 , at epoch: 2160 learning rate: 0.00025 , train_Ntot: 1 train_M1: 1 , train_Mdiff: 1 , epoch_tot_counter: 11161\n"
     ]
    },
    {
     "name": "stderr",
     "output_type": "stream",
     "text": [
      " 18%|█▊        | 2201/12000 [42:44<3:09:22,  1.16s/it]"
     ]
    },
    {
     "name": "stdout",
     "output_type": "stream",
     "text": [
      "saving bf at: , with loss: -1.57554 , at epoch: 2200 learning rate: 0.00025 , train_Ntot: 1 train_M1: 1 , train_Mdiff: 1 , epoch_tot_counter: 11201\n"
     ]
    },
    {
     "name": "stderr",
     "output_type": "stream",
     "text": [
      " 19%|█▊        | 2241/12000 [43:31<3:23:36,  1.25s/it]"
     ]
    },
    {
     "name": "stdout",
     "output_type": "stream",
     "text": [
      "saving bf at: , with loss: -1.5756 , at epoch: 2240 learning rate: 0.00025 , train_Ntot: 1 train_M1: 1 , train_Mdiff: 1 , epoch_tot_counter: 11241\n"
     ]
    },
    {
     "name": "stderr",
     "output_type": "stream",
     "text": [
      " 19%|█▉        | 2281/12000 [44:17<3:06:35,  1.15s/it]"
     ]
    },
    {
     "name": "stdout",
     "output_type": "stream",
     "text": [
      "saving bf at: , with loss: -1.57579 , at epoch: 2280 learning rate: 0.00025 , train_Ntot: 1 train_M1: 1 , train_Mdiff: 1 , epoch_tot_counter: 11281\n"
     ]
    },
    {
     "name": "stderr",
     "output_type": "stream",
     "text": [
      " 19%|█▉        | 2321/12000 [45:04<3:14:04,  1.20s/it]"
     ]
    },
    {
     "name": "stdout",
     "output_type": "stream",
     "text": [
      "saving bf at: , with loss: -1.57584 , at epoch: 2320 learning rate: 0.00025 , train_Ntot: 1 train_M1: 1 , train_Mdiff: 1 , epoch_tot_counter: 11321\n"
     ]
    },
    {
     "name": "stderr",
     "output_type": "stream",
     "text": [
      " 20%|█▉        | 2361/12000 [45:50<3:05:38,  1.16s/it]"
     ]
    },
    {
     "name": "stdout",
     "output_type": "stream",
     "text": [
      "saving bf at: , with loss: -1.57608 , at epoch: 2360 learning rate: 0.00025 , train_Ntot: 1 train_M1: 1 , train_Mdiff: 1 , epoch_tot_counter: 11361\n"
     ]
    },
    {
     "name": "stderr",
     "output_type": "stream",
     "text": [
      " 20%|██        | 2400/12000 [46:36<3:07:04,  1.17s/it]"
     ]
    },
    {
     "name": "stdout",
     "output_type": "stream",
     "text": [
      "saving bf at: , with loss: -1.57621 , at epoch: 2400 learning rate: 0.00025 , train_Ntot: 1 train_M1: 1 , train_Mdiff: 1 , epoch_tot_counter: 11401\n"
     ]
    },
    {
     "name": "stderr",
     "output_type": "stream",
     "text": [
      " 20%|██        | 2441/12000 [47:24<3:04:26,  1.16s/it]"
     ]
    },
    {
     "name": "stdout",
     "output_type": "stream",
     "text": [
      "saving bf at: , with loss: -1.57634 , at epoch: 2440 learning rate: 0.00025 , train_Ntot: 1 train_M1: 1 , train_Mdiff: 1 , epoch_tot_counter: 11441\n"
     ]
    },
    {
     "name": "stderr",
     "output_type": "stream",
     "text": [
      " 21%|██        | 2480/12000 [48:10<3:02:35,  1.15s/it]"
     ]
    },
    {
     "name": "stdout",
     "output_type": "stream",
     "text": [
      "saving bf at: , with loss: -1.57645 , at epoch: 2480 learning rate: 0.00025 , train_Ntot: 1 train_M1: 1 , train_Mdiff: 1 , epoch_tot_counter: 11481\n"
     ]
    },
    {
     "name": "stderr",
     "output_type": "stream",
     "text": [
      " 21%|██        | 2521/12000 [48:59<3:08:37,  1.19s/it]"
     ]
    },
    {
     "name": "stdout",
     "output_type": "stream",
     "text": [
      "saving bf at: , with loss: -1.57663 , at epoch: 2520 learning rate: 0.00025 , train_Ntot: 1 train_M1: 1 , train_Mdiff: 1 , epoch_tot_counter: 11521\n"
     ]
    },
    {
     "name": "stderr",
     "output_type": "stream",
     "text": [
      " 21%|██▏       | 2561/12000 [49:45<3:01:26,  1.15s/it]"
     ]
    },
    {
     "name": "stdout",
     "output_type": "stream",
     "text": [
      "saving bf at: , with loss: -1.57669 , at epoch: 2560 learning rate: 0.00025 , train_Ntot: 1 train_M1: 1 , train_Mdiff: 1 , epoch_tot_counter: 11561\n"
     ]
    },
    {
     "name": "stderr",
     "output_type": "stream",
     "text": [
      " 22%|██▏       | 2601/12000 [50:32<3:17:57,  1.26s/it]"
     ]
    },
    {
     "name": "stdout",
     "output_type": "stream",
     "text": [
      "saving bf at: , with loss: -1.57679 , at epoch: 2600 learning rate: 0.00025 , train_Ntot: 1 train_M1: 1 , train_Mdiff: 1 , epoch_tot_counter: 11601\n"
     ]
    },
    {
     "name": "stderr",
     "output_type": "stream",
     "text": [
      " 22%|██▏       | 2681/12000 [52:06<3:07:47,  1.21s/it]"
     ]
    },
    {
     "name": "stdout",
     "output_type": "stream",
     "text": [
      "saving bf at: , with loss: -1.57696 , at epoch: 2680 learning rate: 0.00025 , train_Ntot: 1 train_M1: 1 , train_Mdiff: 1 , epoch_tot_counter: 11681\n"
     ]
    },
    {
     "name": "stderr",
     "output_type": "stream",
     "text": [
      " 23%|██▎       | 2721/12000 [52:52<3:00:20,  1.17s/it]"
     ]
    },
    {
     "name": "stdout",
     "output_type": "stream",
     "text": [
      "saving bf at: , with loss: -1.57708 , at epoch: 2720 learning rate: 0.00025 , train_Ntot: 1 train_M1: 1 , train_Mdiff: 1 , epoch_tot_counter: 11721\n"
     ]
    },
    {
     "name": "stderr",
     "output_type": "stream",
     "text": [
      " 23%|██▎       | 2761/12000 [53:39<2:59:14,  1.16s/it]"
     ]
    },
    {
     "name": "stdout",
     "output_type": "stream",
     "text": [
      "saving bf at: , with loss: -1.57722 , at epoch: 2760 learning rate: 0.00025 , train_Ntot: 1 train_M1: 1 , train_Mdiff: 1 , epoch_tot_counter: 11761\n"
     ]
    },
    {
     "name": "stderr",
     "output_type": "stream",
     "text": [
      " 23%|██▎       | 2801/12000 [54:27<3:08:23,  1.23s/it]"
     ]
    },
    {
     "name": "stdout",
     "output_type": "stream",
     "text": [
      "saving bf at: , with loss: -1.57731 , at epoch: 2800 learning rate: 0.00025 , train_Ntot: 1 train_M1: 1 , train_Mdiff: 1 , epoch_tot_counter: 11801\n"
     ]
    },
    {
     "name": "stderr",
     "output_type": "stream",
     "text": [
      " 24%|██▎       | 2841/12000 [55:13<2:58:01,  1.17s/it]"
     ]
    },
    {
     "name": "stdout",
     "output_type": "stream",
     "text": [
      "saving bf at: , with loss: -1.57733 , at epoch: 2840 learning rate: 0.00025 , train_Ntot: 1 train_M1: 1 , train_Mdiff: 1 , epoch_tot_counter: 11841\n"
     ]
    },
    {
     "name": "stderr",
     "output_type": "stream",
     "text": [
      " 24%|██▍       | 2881/12000 [56:00<2:59:14,  1.18s/it]"
     ]
    },
    {
     "name": "stdout",
     "output_type": "stream",
     "text": [
      "saving bf at: , with loss: -1.5775 , at epoch: 2880 learning rate: 0.00025 , train_Ntot: 1 train_M1: 1 , train_Mdiff: 1 , epoch_tot_counter: 11881\n"
     ]
    },
    {
     "name": "stderr",
     "output_type": "stream",
     "text": [
      " 24%|██▍       | 2921/12000 [56:47<2:54:37,  1.15s/it]"
     ]
    },
    {
     "name": "stdout",
     "output_type": "stream",
     "text": [
      "saving bf at: , with loss: -1.5777 , at epoch: 2920 learning rate: 0.00025 , train_Ntot: 1 train_M1: 1 , train_Mdiff: 1 , epoch_tot_counter: 11921\n"
     ]
    },
    {
     "name": "stderr",
     "output_type": "stream",
     "text": [
      " 25%|██▌       | 3001/12000 [58:21<2:53:18,  1.16s/it]"
     ]
    },
    {
     "name": "stdout",
     "output_type": "stream",
     "text": [
      "saving bf at: , with loss: -1.5777 , at epoch: 3000 learning rate: 0.00025 , train_Ntot: 1 train_M1: 1 , train_Mdiff: 1 , epoch_tot_counter: 12001\n"
     ]
    },
    {
     "name": "stderr",
     "output_type": "stream",
     "text": [
      " 25%|██▌       | 3041/12000 [59:08<2:58:34,  1.20s/it]"
     ]
    },
    {
     "name": "stdout",
     "output_type": "stream",
     "text": [
      "saving bf at: , with loss: -1.57775 , at epoch: 3040 learning rate: 0.00025 , train_Ntot: 1 train_M1: 1 , train_Mdiff: 1 , epoch_tot_counter: 12041\n"
     ]
    },
    {
     "name": "stderr",
     "output_type": "stream",
     "text": [
      " 26%|██▌       | 3081/12000 [59:55<2:54:02,  1.17s/it]"
     ]
    },
    {
     "name": "stdout",
     "output_type": "stream",
     "text": [
      "saving bf at: , with loss: -1.57808 , at epoch: 3080 learning rate: 0.00025 , train_Ntot: 1 train_M1: 1 , train_Mdiff: 1 , epoch_tot_counter: 12081\n"
     ]
    },
    {
     "name": "stderr",
     "output_type": "stream",
     "text": [
      " 26%|██▋       | 3161/12000 [1:01:28<2:49:50,  1.15s/it]"
     ]
    },
    {
     "name": "stdout",
     "output_type": "stream",
     "text": [
      "saving bf at: , with loss: -1.57822 , at epoch: 3160 learning rate: 0.00025 , train_Ntot: 1 train_M1: 1 , train_Mdiff: 1 , epoch_tot_counter: 12161\n"
     ]
    },
    {
     "name": "stderr",
     "output_type": "stream",
     "text": [
      " 27%|██▋       | 3201/12000 [1:02:14<2:49:06,  1.15s/it]"
     ]
    },
    {
     "name": "stdout",
     "output_type": "stream",
     "text": [
      "saving bf at: , with loss: -1.57835 , at epoch: 3200 learning rate: 0.00025 , train_Ntot: 1 train_M1: 1 , train_Mdiff: 1 , epoch_tot_counter: 12201\n"
     ]
    },
    {
     "name": "stderr",
     "output_type": "stream",
     "text": [
      " 27%|██▋       | 3241/12000 [1:03:00<2:49:40,  1.16s/it]"
     ]
    },
    {
     "name": "stdout",
     "output_type": "stream",
     "text": [
      "saving bf at: , with loss: -1.57837 , at epoch: 3240 learning rate: 0.00025 , train_Ntot: 1 train_M1: 1 , train_Mdiff: 1 , epoch_tot_counter: 12241\n"
     ]
    },
    {
     "name": "stderr",
     "output_type": "stream",
     "text": [
      " 28%|██▊       | 3321/12000 [1:04:33<2:47:58,  1.16s/it]"
     ]
    },
    {
     "name": "stdout",
     "output_type": "stream",
     "text": [
      "saving bf at: , with loss: -1.57853 , at epoch: 3320 learning rate: 0.00025 , train_Ntot: 1 train_M1: 1 , train_Mdiff: 1 , epoch_tot_counter: 12321\n"
     ]
    },
    {
     "name": "stderr",
     "output_type": "stream",
     "text": [
      " 28%|██▊       | 3361/12000 [1:05:19<2:46:45,  1.16s/it]"
     ]
    },
    {
     "name": "stdout",
     "output_type": "stream",
     "text": [
      "saving bf at: , with loss: -1.57862 , at epoch: 3360 learning rate: 0.00025 , train_Ntot: 1 train_M1: 1 , train_Mdiff: 1 , epoch_tot_counter: 12361\n"
     ]
    },
    {
     "name": "stderr",
     "output_type": "stream",
     "text": [
      " 28%|██▊       | 3401/12000 [1:06:06<2:54:04,  1.21s/it]"
     ]
    },
    {
     "name": "stdout",
     "output_type": "stream",
     "text": [
      "saving bf at: , with loss: -1.57866 , at epoch: 3400 learning rate: 0.00025 , train_Ntot: 1 train_M1: 1 , train_Mdiff: 1 , epoch_tot_counter: 12401\n"
     ]
    },
    {
     "name": "stderr",
     "output_type": "stream",
     "text": [
      " 29%|██▊       | 3441/12000 [1:06:52<2:44:32,  1.15s/it]"
     ]
    },
    {
     "name": "stdout",
     "output_type": "stream",
     "text": [
      "saving bf at: , with loss: -1.57872 , at epoch: 3440 learning rate: 0.00025 , train_Ntot: 1 train_M1: 1 , train_Mdiff: 1 , epoch_tot_counter: 12441\n"
     ]
    },
    {
     "name": "stderr",
     "output_type": "stream",
     "text": [
      " 29%|██▉       | 3481/12000 [1:07:39<2:48:55,  1.19s/it]"
     ]
    },
    {
     "name": "stdout",
     "output_type": "stream",
     "text": [
      "saving bf at: , with loss: -1.57891 , at epoch: 3480 learning rate: 0.00025 , train_Ntot: 1 train_M1: 1 , train_Mdiff: 1 , epoch_tot_counter: 12481\n"
     ]
    },
    {
     "name": "stderr",
     "output_type": "stream",
     "text": [
      " 29%|██▉       | 3521/12000 [1:08:25<2:42:51,  1.15s/it]"
     ]
    },
    {
     "name": "stdout",
     "output_type": "stream",
     "text": [
      "saving bf at: , with loss: -1.57898 , at epoch: 3520 learning rate: 0.00025 , train_Ntot: 1 train_M1: 1 , train_Mdiff: 1 , epoch_tot_counter: 12521\n"
     ]
    },
    {
     "name": "stderr",
     "output_type": "stream",
     "text": [
      " 30%|███       | 3601/12000 [1:09:58<2:41:03,  1.15s/it]"
     ]
    },
    {
     "name": "stdout",
     "output_type": "stream",
     "text": [
      "saving bf at: , with loss: -1.57901 , at epoch: 3600 learning rate: 0.00025 , train_Ntot: 1 train_M1: 1 , train_Mdiff: 1 , epoch_tot_counter: 12601\n"
     ]
    },
    {
     "name": "stderr",
     "output_type": "stream",
     "text": [
      " 30%|███       | 3641/12000 [1:10:44<2:42:27,  1.17s/it]"
     ]
    },
    {
     "name": "stdout",
     "output_type": "stream",
     "text": [
      "saving bf at: , with loss: -1.57905 , at epoch: 3640 learning rate: 0.00025 , train_Ntot: 1 train_M1: 1 , train_Mdiff: 1 , epoch_tot_counter: 12641\n"
     ]
    },
    {
     "name": "stderr",
     "output_type": "stream",
     "text": [
      " 31%|███       | 3681/12000 [1:11:31<2:39:50,  1.15s/it]"
     ]
    },
    {
     "name": "stdout",
     "output_type": "stream",
     "text": [
      "saving bf at: , with loss: -1.57921 , at epoch: 3680 learning rate: 0.00025 , train_Ntot: 1 train_M1: 1 , train_Mdiff: 1 , epoch_tot_counter: 12681\n"
     ]
    },
    {
     "name": "stderr",
     "output_type": "stream",
     "text": [
      " 31%|███       | 3721/12000 [1:12:18<2:40:41,  1.16s/it]"
     ]
    },
    {
     "name": "stdout",
     "output_type": "stream",
     "text": [
      "saving bf at: , with loss: -1.57932 , at epoch: 3720 learning rate: 0.00025 , train_Ntot: 1 train_M1: 1 , train_Mdiff: 1 , epoch_tot_counter: 12721\n"
     ]
    },
    {
     "name": "stderr",
     "output_type": "stream",
     "text": [
      " 32%|███▏      | 3801/12000 [1:13:52<2:37:57,  1.16s/it]"
     ]
    },
    {
     "name": "stdout",
     "output_type": "stream",
     "text": [
      "saving bf at: , with loss: -1.57942 , at epoch: 3800 learning rate: 0.00025 , train_Ntot: 1 train_M1: 1 , train_Mdiff: 1 , epoch_tot_counter: 12801\n"
     ]
    },
    {
     "name": "stderr",
     "output_type": "stream",
     "text": [
      " 32%|███▏      | 3841/12000 [1:14:39<2:45:14,  1.22s/it]"
     ]
    },
    {
     "name": "stdout",
     "output_type": "stream",
     "text": [
      "saving bf at: , with loss: -1.57951 , at epoch: 3840 learning rate: 0.00025 , train_Ntot: 1 train_M1: 1 , train_Mdiff: 1 , epoch_tot_counter: 12841\n"
     ]
    },
    {
     "name": "stderr",
     "output_type": "stream",
     "text": [
      " 33%|███▎      | 3921/12000 [1:16:12<2:41:06,  1.20s/it]"
     ]
    },
    {
     "name": "stdout",
     "output_type": "stream",
     "text": [
      "saving bf at: , with loss: -1.57958 , at epoch: 3920 learning rate: 0.00025 , train_Ntot: 1 train_M1: 1 , train_Mdiff: 1 , epoch_tot_counter: 12921\n"
     ]
    },
    {
     "name": "stderr",
     "output_type": "stream",
     "text": [
      " 33%|███▎      | 3961/12000 [1:16:58<2:35:09,  1.16s/it]"
     ]
    },
    {
     "name": "stdout",
     "output_type": "stream",
     "text": [
      "saving bf at: , with loss: -1.57966 , at epoch: 3960 learning rate: 0.00025 , train_Ntot: 1 train_M1: 1 , train_Mdiff: 1 , epoch_tot_counter: 12961\n"
     ]
    },
    {
     "name": "stderr",
     "output_type": "stream",
     "text": [
      " 34%|███▎      | 4041/12000 [1:18:31<2:33:29,  1.16s/it]"
     ]
    },
    {
     "name": "stdout",
     "output_type": "stream",
     "text": [
      "saving bf at: , with loss: -1.57968 , at epoch: 4040 learning rate: 0.00025 , train_Ntot: 1 train_M1: 1 , train_Mdiff: 1 , epoch_tot_counter: 13041\n"
     ]
    },
    {
     "name": "stderr",
     "output_type": "stream",
     "text": [
      " 34%|███▍      | 4081/12000 [1:19:18<2:34:06,  1.17s/it]"
     ]
    },
    {
     "name": "stdout",
     "output_type": "stream",
     "text": [
      "saving bf at: , with loss: -1.57982 , at epoch: 4080 learning rate: 0.00025 , train_Ntot: 1 train_M1: 1 , train_Mdiff: 1 , epoch_tot_counter: 13081\n"
     ]
    },
    {
     "name": "stderr",
     "output_type": "stream",
     "text": [
      " 34%|███▍      | 4121/12000 [1:20:05<2:38:20,  1.21s/it]"
     ]
    },
    {
     "name": "stdout",
     "output_type": "stream",
     "text": [
      "saving bf at: , with loss: -1.57993 , at epoch: 4120 learning rate: 0.00025 , train_Ntot: 1 train_M1: 1 , train_Mdiff: 1 , epoch_tot_counter: 13121\n"
     ]
    },
    {
     "name": "stderr",
     "output_type": "stream",
     "text": [
      " 35%|███▍      | 4161/12000 [1:20:51<2:31:09,  1.16s/it]"
     ]
    },
    {
     "name": "stdout",
     "output_type": "stream",
     "text": [
      "saving bf at: , with loss: -1.58002 , at epoch: 4160 learning rate: 0.00025 , train_Ntot: 1 train_M1: 1 , train_Mdiff: 1 , epoch_tot_counter: 13161\n"
     ]
    },
    {
     "name": "stderr",
     "output_type": "stream",
     "text": [
      " 35%|███▌      | 4201/12000 [1:21:38<2:48:42,  1.30s/it]"
     ]
    },
    {
     "name": "stdout",
     "output_type": "stream",
     "text": [
      "saving bf at: , with loss: -1.58003 , at epoch: 4200 learning rate: 0.00025 , train_Ntot: 1 train_M1: 1 , train_Mdiff: 1 , epoch_tot_counter: 13201\n"
     ]
    },
    {
     "name": "stderr",
     "output_type": "stream",
     "text": [
      " 36%|███▌      | 4281/12000 [1:23:12<2:31:44,  1.18s/it]"
     ]
    },
    {
     "name": "stdout",
     "output_type": "stream",
     "text": [
      "saving bf at: , with loss: -1.58008 , at epoch: 4280 learning rate: 0.00025 , train_Ntot: 1 train_M1: 1 , train_Mdiff: 1 , epoch_tot_counter: 13281\n"
     ]
    },
    {
     "name": "stderr",
     "output_type": "stream",
     "text": [
      " 36%|███▌      | 4321/12000 [1:23:59<2:27:54,  1.16s/it]"
     ]
    },
    {
     "name": "stdout",
     "output_type": "stream",
     "text": [
      "saving bf at: , with loss: -1.58018 , at epoch: 4320 learning rate: 0.00025 , train_Ntot: 1 train_M1: 1 , train_Mdiff: 1 , epoch_tot_counter: 13321\n"
     ]
    },
    {
     "name": "stderr",
     "output_type": "stream",
     "text": [
      " 36%|███▋      | 4361/12000 [1:24:45<2:27:54,  1.16s/it]"
     ]
    },
    {
     "name": "stdout",
     "output_type": "stream",
     "text": [
      "saving bf at: , with loss: -1.58021 , at epoch: 4360 learning rate: 0.00025 , train_Ntot: 1 train_M1: 1 , train_Mdiff: 1 , epoch_tot_counter: 13361\n"
     ]
    },
    {
     "name": "stderr",
     "output_type": "stream",
     "text": [
      " 37%|███▋      | 4400/12000 [1:25:31<2:24:47,  1.14s/it]"
     ]
    },
    {
     "name": "stdout",
     "output_type": "stream",
     "text": [
      "saving bf at: , with loss: -1.58033 , at epoch: 4400 learning rate: 0.00025 , train_Ntot: 1 train_M1: 1 , train_Mdiff: 1 , epoch_tot_counter: 13401\n"
     ]
    },
    {
     "name": "stderr",
     "output_type": "stream",
     "text": [
      " 37%|███▋      | 4481/12000 [1:27:06<2:25:00,  1.16s/it]"
     ]
    },
    {
     "name": "stdout",
     "output_type": "stream",
     "text": [
      "saving bf at: , with loss: -1.58043 , at epoch: 4480 learning rate: 0.00025 , train_Ntot: 1 train_M1: 1 , train_Mdiff: 1 , epoch_tot_counter: 13481\n"
     ]
    },
    {
     "name": "stderr",
     "output_type": "stream",
     "text": [
      " 38%|███▊      | 4561/12000 [1:28:40<2:37:02,  1.27s/it]"
     ]
    },
    {
     "name": "stdout",
     "output_type": "stream",
     "text": [
      "saving bf at: , with loss: -1.58051 , at epoch: 4560 learning rate: 0.00025 , train_Ntot: 1 train_M1: 1 , train_Mdiff: 1 , epoch_tot_counter: 13561\n"
     ]
    },
    {
     "name": "stderr",
     "output_type": "stream",
     "text": [
      " 38%|███▊      | 4601/12000 [1:29:26<2:22:06,  1.15s/it]"
     ]
    },
    {
     "name": "stdout",
     "output_type": "stream",
     "text": [
      "saving bf at: , with loss: -1.58055 , at epoch: 4600 learning rate: 0.00025 , train_Ntot: 1 train_M1: 1 , train_Mdiff: 1 , epoch_tot_counter: 13601\n"
     ]
    },
    {
     "name": "stderr",
     "output_type": "stream",
     "text": [
      " 39%|███▉      | 4681/12000 [1:31:00<2:20:58,  1.16s/it]"
     ]
    },
    {
     "name": "stdout",
     "output_type": "stream",
     "text": [
      "saving bf at: , with loss: -1.58062 , at epoch: 4680 learning rate: 0.00025 , train_Ntot: 1 train_M1: 1 , train_Mdiff: 1 , epoch_tot_counter: 13681\n"
     ]
    },
    {
     "name": "stderr",
     "output_type": "stream",
     "text": [
      " 39%|███▉      | 4721/12000 [1:31:48<2:22:06,  1.17s/it]"
     ]
    },
    {
     "name": "stdout",
     "output_type": "stream",
     "text": [
      "saving bf at: , with loss: -1.58066 , at epoch: 4720 learning rate: 0.00025 , train_Ntot: 1 train_M1: 1 , train_Mdiff: 1 , epoch_tot_counter: 13721\n"
     ]
    },
    {
     "name": "stderr",
     "output_type": "stream",
     "text": [
      " 40%|████      | 4801/12000 [1:33:22<2:19:51,  1.17s/it]"
     ]
    },
    {
     "name": "stdout",
     "output_type": "stream",
     "text": [
      "saving bf at: , with loss: -1.58078 , at epoch: 4800 learning rate: 0.00025 , train_Ntot: 1 train_M1: 1 , train_Mdiff: 1 , epoch_tot_counter: 13801\n"
     ]
    },
    {
     "name": "stderr",
     "output_type": "stream",
     "text": [
      " 41%|████      | 4881/12000 [1:34:54<2:17:18,  1.16s/it]"
     ]
    },
    {
     "name": "stdout",
     "output_type": "stream",
     "text": [
      "saving bf at: , with loss: -1.58082 , at epoch: 4880 learning rate: 0.00025 , train_Ntot: 1 train_M1: 1 , train_Mdiff: 1 , epoch_tot_counter: 13881\n"
     ]
    },
    {
     "name": "stderr",
     "output_type": "stream",
     "text": [
      " 41%|████      | 4921/12000 [1:35:42<2:27:47,  1.25s/it]"
     ]
    },
    {
     "name": "stdout",
     "output_type": "stream",
     "text": [
      "saving bf at: , with loss: -1.58084 , at epoch: 4920 learning rate: 0.00025 , train_Ntot: 1 train_M1: 1 , train_Mdiff: 1 , epoch_tot_counter: 13921\n"
     ]
    },
    {
     "name": "stderr",
     "output_type": "stream",
     "text": [
      " 41%|████▏     | 4961/12000 [1:36:28<2:15:30,  1.15s/it]"
     ]
    },
    {
     "name": "stdout",
     "output_type": "stream",
     "text": [
      "saving bf at: , with loss: -1.58089 , at epoch: 4960 learning rate: 0.00025 , train_Ntot: 1 train_M1: 1 , train_Mdiff: 1 , epoch_tot_counter: 13961\n"
     ]
    },
    {
     "name": "stderr",
     "output_type": "stream",
     "text": [
      " 42%|████▏     | 5001/12000 [1:37:15<2:19:37,  1.20s/it]"
     ]
    },
    {
     "name": "stdout",
     "output_type": "stream",
     "text": [
      "saving bf at: , with loss: -1.58101 , at epoch: 5000 learning rate: 0.00025 , train_Ntot: 1 train_M1: 1 , train_Mdiff: 1 , epoch_tot_counter: 14001\n"
     ]
    },
    {
     "name": "stderr",
     "output_type": "stream",
     "text": [
      " 42%|████▏     | 5041/12000 [1:38:02<2:13:57,  1.15s/it]"
     ]
    },
    {
     "name": "stdout",
     "output_type": "stream",
     "text": [
      "saving bf at: , with loss: -1.58101 , at epoch: 5040 learning rate: 0.00025 , train_Ntot: 1 train_M1: 1 , train_Mdiff: 1 , epoch_tot_counter: 14041\n"
     ]
    },
    {
     "name": "stderr",
     "output_type": "stream",
     "text": [
      " 42%|████▏     | 5081/12000 [1:38:49<2:14:24,  1.17s/it]"
     ]
    },
    {
     "name": "stdout",
     "output_type": "stream",
     "text": [
      "saving bf at: , with loss: -1.58109 , at epoch: 5080 learning rate: 0.00025 , train_Ntot: 1 train_M1: 1 , train_Mdiff: 1 , epoch_tot_counter: 14081\n"
     ]
    },
    {
     "name": "stderr",
     "output_type": "stream",
     "text": [
      " 43%|████▎     | 5201/12000 [1:41:09<2:16:30,  1.20s/it]"
     ]
    },
    {
     "name": "stdout",
     "output_type": "stream",
     "text": [
      "saving bf at: , with loss: -1.58122 , at epoch: 5200 learning rate: 0.00025 , train_Ntot: 1 train_M1: 1 , train_Mdiff: 1 , epoch_tot_counter: 14201\n"
     ]
    },
    {
     "name": "stderr",
     "output_type": "stream",
     "text": [
      " 44%|████▎     | 5241/12000 [1:41:56<2:10:30,  1.16s/it]"
     ]
    },
    {
     "name": "stdout",
     "output_type": "stream",
     "text": [
      "saving bf at: , with loss: -1.58127 , at epoch: 5240 learning rate: 0.00025 , train_Ntot: 1 train_M1: 1 , train_Mdiff: 1 , epoch_tot_counter: 14241\n"
     ]
    },
    {
     "name": "stderr",
     "output_type": "stream",
     "text": [
      " 45%|████▍     | 5361/12000 [1:44:17<2:11:46,  1.19s/it]"
     ]
    },
    {
     "name": "stdout",
     "output_type": "stream",
     "text": [
      "saving bf at: , with loss: -1.58128 , at epoch: 5360 learning rate: 0.00025 , train_Ntot: 1 train_M1: 1 , train_Mdiff: 1 , epoch_tot_counter: 14361\n"
     ]
    },
    {
     "name": "stderr",
     "output_type": "stream",
     "text": [
      " 45%|████▌     | 5401/12000 [1:45:03<2:07:53,  1.16s/it]"
     ]
    },
    {
     "name": "stdout",
     "output_type": "stream",
     "text": [
      "saving bf at: , with loss: -1.58134 , at epoch: 5400 learning rate: 0.00025 , train_Ntot: 1 train_M1: 1 , train_Mdiff: 1 , epoch_tot_counter: 14401\n"
     ]
    },
    {
     "name": "stderr",
     "output_type": "stream",
     "text": [
      " 46%|████▋     | 5561/12000 [1:48:11<2:08:12,  1.19s/it]"
     ]
    },
    {
     "name": "stdout",
     "output_type": "stream",
     "text": [
      "saving bf at: , with loss: -1.58157 , at epoch: 5560 learning rate: 0.00025 , train_Ntot: 1 train_M1: 1 , train_Mdiff: 1 , epoch_tot_counter: 14561\n"
     ]
    },
    {
     "name": "stderr",
     "output_type": "stream",
     "text": [
      " 48%|████▊     | 5721/12000 [1:51:19<2:06:36,  1.21s/it]"
     ]
    },
    {
     "name": "stdout",
     "output_type": "stream",
     "text": [
      "saving bf at: , with loss: -1.58162 , at epoch: 5720 learning rate: 0.00025 , train_Ntot: 1 train_M1: 1 , train_Mdiff: 1 , epoch_tot_counter: 14721\n"
     ]
    },
    {
     "name": "stderr",
     "output_type": "stream",
     "text": [
      " 48%|████▊     | 5801/12000 [1:52:53<2:01:33,  1.18s/it]"
     ]
    },
    {
     "name": "stdout",
     "output_type": "stream",
     "text": [
      "saving bf at: , with loss: -1.58167 , at epoch: 5800 learning rate: 0.00025 , train_Ntot: 1 train_M1: 1 , train_Mdiff: 1 , epoch_tot_counter: 14801\n"
     ]
    },
    {
     "name": "stderr",
     "output_type": "stream",
     "text": [
      " 49%|████▊     | 5841/12000 [1:53:39<1:58:16,  1.15s/it]"
     ]
    },
    {
     "name": "stdout",
     "output_type": "stream",
     "text": [
      "saving bf at: , with loss: -1.58178 , at epoch: 5840 learning rate: 0.00025 , train_Ntot: 1 train_M1: 1 , train_Mdiff: 1 , epoch_tot_counter: 14841\n"
     ]
    },
    {
     "name": "stderr",
     "output_type": "stream",
     "text": [
      " 49%|████▉     | 5881/12000 [1:54:26<1:58:00,  1.16s/it]"
     ]
    },
    {
     "name": "stdout",
     "output_type": "stream",
     "text": [
      "saving bf at: , with loss: -1.58182 , at epoch: 5880 learning rate: 0.00025 , train_Ntot: 1 train_M1: 1 , train_Mdiff: 1 , epoch_tot_counter: 14881\n"
     ]
    },
    {
     "name": "stderr",
     "output_type": "stream",
     "text": [
      " 50%|█████     | 6001/12000 [1:56:47<2:01:18,  1.21s/it]"
     ]
    },
    {
     "name": "stdout",
     "output_type": "stream",
     "text": [
      "saving bf at: , with loss: -1.58188 , at epoch: 6000 learning rate: 0.00025 , train_Ntot: 1 train_M1: 1 , train_Mdiff: 1 , epoch_tot_counter: 15001\n"
     ]
    },
    {
     "name": "stderr",
     "output_type": "stream",
     "text": [
      " 51%|█████     | 6121/12000 [1:59:07<1:53:40,  1.16s/it]"
     ]
    },
    {
     "name": "stdout",
     "output_type": "stream",
     "text": [
      "saving bf at: , with loss: -1.58201 , at epoch: 6120 learning rate: 0.00025 , train_Ntot: 1 train_M1: 1 , train_Mdiff: 1 , epoch_tot_counter: 15121\n"
     ]
    },
    {
     "name": "stderr",
     "output_type": "stream",
     "text": [
      " 52%|█████▏    | 6201/12000 [2:00:41<1:51:51,  1.16s/it]"
     ]
    },
    {
     "name": "stdout",
     "output_type": "stream",
     "text": [
      "saving bf at: , with loss: -1.58207 , at epoch: 6200 learning rate: 0.00025 , train_Ntot: 1 train_M1: 1 , train_Mdiff: 1 , epoch_tot_counter: 15201\n"
     ]
    },
    {
     "name": "stderr",
     "output_type": "stream",
     "text": [
      " 52%|█████▏    | 6281/12000 [2:02:14<1:57:31,  1.23s/it]"
     ]
    },
    {
     "name": "stdout",
     "output_type": "stream",
     "text": [
      "saving bf at: , with loss: -1.58211 , at epoch: 6280 learning rate: 0.00025 , train_Ntot: 1 train_M1: 1 , train_Mdiff: 1 , epoch_tot_counter: 15281\n"
     ]
    },
    {
     "name": "stderr",
     "output_type": "stream",
     "text": [
      " 53%|█████▎    | 6401/12000 [2:04:34<1:48:16,  1.16s/it]"
     ]
    },
    {
     "name": "stdout",
     "output_type": "stream",
     "text": [
      "saving bf at: , with loss: -1.58221 , at epoch: 6400 learning rate: 0.00025 , train_Ntot: 1 train_M1: 1 , train_Mdiff: 1 , epoch_tot_counter: 15401\n"
     ]
    },
    {
     "name": "stderr",
     "output_type": "stream",
     "text": [
      " 54%|█████▎    | 6441/12000 [2:05:21<1:52:29,  1.21s/it]"
     ]
    },
    {
     "name": "stdout",
     "output_type": "stream",
     "text": [
      "saving bf at: , with loss: -1.58223 , at epoch: 6440 learning rate: 0.00025 , train_Ntot: 1 train_M1: 1 , train_Mdiff: 1 , epoch_tot_counter: 15441\n"
     ]
    },
    {
     "name": "stderr",
     "output_type": "stream",
     "text": [
      " 54%|█████▍    | 6481/12000 [2:06:07<1:46:22,  1.16s/it]"
     ]
    },
    {
     "name": "stdout",
     "output_type": "stream",
     "text": [
      "saving bf at: , with loss: -1.58227 , at epoch: 6480 learning rate: 0.00025 , train_Ntot: 1 train_M1: 1 , train_Mdiff: 1 , epoch_tot_counter: 15481\n"
     ]
    },
    {
     "name": "stderr",
     "output_type": "stream",
     "text": [
      " 54%|█████▍    | 6521/12000 [2:06:54<1:47:23,  1.18s/it]"
     ]
    },
    {
     "name": "stdout",
     "output_type": "stream",
     "text": [
      "saving bf at: , with loss: -1.58229 , at epoch: 6520 learning rate: 0.00025 , train_Ntot: 1 train_M1: 1 , train_Mdiff: 1 , epoch_tot_counter: 15521\n"
     ]
    },
    {
     "name": "stderr",
     "output_type": "stream",
     "text": [
      " 55%|█████▌    | 6601/12000 [2:08:28<1:44:59,  1.17s/it]"
     ]
    },
    {
     "name": "stdout",
     "output_type": "stream",
     "text": [
      "saving bf at: , with loss: -1.58234 , at epoch: 6600 learning rate: 0.00025 , train_Ntot: 1 train_M1: 1 , train_Mdiff: 1 , epoch_tot_counter: 15601\n"
     ]
    },
    {
     "name": "stderr",
     "output_type": "stream",
     "text": [
      " 56%|█████▌    | 6721/12000 [2:10:48<1:42:08,  1.16s/it]"
     ]
    },
    {
     "name": "stdout",
     "output_type": "stream",
     "text": [
      "saving bf at: , with loss: -1.58241 , at epoch: 6720 learning rate: 0.00025 , train_Ntot: 1 train_M1: 1 , train_Mdiff: 1 , epoch_tot_counter: 15721\n"
     ]
    },
    {
     "name": "stderr",
     "output_type": "stream",
     "text": [
      " 57%|█████▋    | 6801/12000 [2:12:22<1:50:18,  1.27s/it]"
     ]
    },
    {
     "name": "stdout",
     "output_type": "stream",
     "text": [
      "saving bf at: , with loss: -1.58246 , at epoch: 6800 learning rate: 0.00025 , train_Ntot: 1 train_M1: 1 , train_Mdiff: 1 , epoch_tot_counter: 15801\n"
     ]
    },
    {
     "name": "stderr",
     "output_type": "stream",
     "text": [
      " 58%|█████▊    | 6921/12000 [2:14:42<1:38:10,  1.16s/it]"
     ]
    },
    {
     "name": "stdout",
     "output_type": "stream",
     "text": [
      "saving bf at: , with loss: -1.5825 , at epoch: 6920 learning rate: 0.00025 , train_Ntot: 1 train_M1: 1 , train_Mdiff: 1 , epoch_tot_counter: 15921\n"
     ]
    },
    {
     "name": "stderr",
     "output_type": "stream",
     "text": [
      " 58%|█████▊    | 6961/12000 [2:15:29<1:38:28,  1.17s/it]"
     ]
    },
    {
     "name": "stdout",
     "output_type": "stream",
     "text": [
      "saving bf at: , with loss: -1.58252 , at epoch: 6960 learning rate: 0.00025 , train_Ntot: 1 train_M1: 1 , train_Mdiff: 1 , epoch_tot_counter: 15961\n"
     ]
    },
    {
     "name": "stderr",
     "output_type": "stream",
     "text": [
      " 58%|█████▊    | 7001/12000 [2:16:16<1:41:46,  1.22s/it]"
     ]
    },
    {
     "name": "stdout",
     "output_type": "stream",
     "text": [
      "saving bf at: , with loss: -1.58253 , at epoch: 7000 learning rate: 0.00025 , train_Ntot: 1 train_M1: 1 , train_Mdiff: 1 , epoch_tot_counter: 16001\n"
     ]
    },
    {
     "name": "stderr",
     "output_type": "stream",
     "text": [
      " 59%|█████▉    | 7121/12000 [2:18:36<1:34:11,  1.16s/it]"
     ]
    },
    {
     "name": "stdout",
     "output_type": "stream",
     "text": [
      "saving bf at: , with loss: -1.58267 , at epoch: 7120 learning rate: 0.00025 , train_Ntot: 1 train_M1: 1 , train_Mdiff: 1 , epoch_tot_counter: 16121\n"
     ]
    },
    {
     "name": "stderr",
     "output_type": "stream",
     "text": [
      " 60%|██████    | 7241/12000 [2:20:56<1:37:53,  1.23s/it]"
     ]
    },
    {
     "name": "stdout",
     "output_type": "stream",
     "text": [
      "saving bf at: , with loss: -1.58273 , at epoch: 7240 learning rate: 0.00025 , train_Ntot: 1 train_M1: 1 , train_Mdiff: 1 , epoch_tot_counter: 16241\n"
     ]
    },
    {
     "name": "stderr",
     "output_type": "stream",
     "text": [
      " 61%|██████    | 7281/12000 [2:21:43<1:30:40,  1.15s/it]"
     ]
    },
    {
     "name": "stdout",
     "output_type": "stream",
     "text": [
      "saving bf at: , with loss: -1.58275 , at epoch: 7280 learning rate: 0.00025 , train_Ntot: 1 train_M1: 1 , train_Mdiff: 1 , epoch_tot_counter: 16281\n"
     ]
    },
    {
     "name": "stderr",
     "output_type": "stream",
     "text": [
      " 61%|██████▏   | 7361/12000 [2:23:17<1:29:33,  1.16s/it]"
     ]
    },
    {
     "name": "stdout",
     "output_type": "stream",
     "text": [
      "saving bf at: , with loss: -1.5828 , at epoch: 7360 learning rate: 0.00025 , train_Ntot: 1 train_M1: 1 , train_Mdiff: 1 , epoch_tot_counter: 16361\n"
     ]
    },
    {
     "name": "stderr",
     "output_type": "stream",
     "text": [
      " 62%|██████▏   | 7481/12000 [2:25:38<1:29:34,  1.19s/it]"
     ]
    },
    {
     "name": "stdout",
     "output_type": "stream",
     "text": [
      "saving bf at: , with loss: -1.58287 , at epoch: 7480 learning rate: 0.00025 , train_Ntot: 1 train_M1: 1 , train_Mdiff: 1 , epoch_tot_counter: 16481\n"
     ]
    },
    {
     "name": "stderr",
     "output_type": "stream",
     "text": [
      " 63%|██████▎   | 7521/12000 [2:26:25<1:39:42,  1.34s/it]"
     ]
    },
    {
     "name": "stdout",
     "output_type": "stream",
     "text": [
      "saving bf at: , with loss: -1.58287 , at epoch: 7520 learning rate: 0.00025 , train_Ntot: 1 train_M1: 1 , train_Mdiff: 1 , epoch_tot_counter: 16521\n"
     ]
    },
    {
     "name": "stderr",
     "output_type": "stream",
     "text": [
      " 63%|██████▎   | 7601/12000 [2:27:59<1:27:23,  1.19s/it]"
     ]
    },
    {
     "name": "stdout",
     "output_type": "stream",
     "text": [
      "saving bf at: , with loss: -1.58287 , at epoch: 7600 learning rate: 0.00025 , train_Ntot: 1 train_M1: 1 , train_Mdiff: 1 , epoch_tot_counter: 16601\n"
     ]
    },
    {
     "name": "stderr",
     "output_type": "stream",
     "text": [
      " 64%|██████▎   | 7641/12000 [2:28:45<1:24:41,  1.17s/it]"
     ]
    },
    {
     "name": "stdout",
     "output_type": "stream",
     "text": [
      "saving bf at: , with loss: -1.58292 , at epoch: 7640 learning rate: 0.00025 , train_Ntot: 1 train_M1: 1 , train_Mdiff: 1 , epoch_tot_counter: 16641\n"
     ]
    },
    {
     "name": "stderr",
     "output_type": "stream",
     "text": [
      " 65%|██████▍   | 7761/12000 [2:31:05<1:21:48,  1.16s/it]"
     ]
    },
    {
     "name": "stdout",
     "output_type": "stream",
     "text": [
      "saving bf at: , with loss: -1.58298 , at epoch: 7760 learning rate: 0.00025 , train_Ntot: 1 train_M1: 1 , train_Mdiff: 1 , epoch_tot_counter: 16761\n"
     ]
    },
    {
     "name": "stderr",
     "output_type": "stream",
     "text": [
      " 65%|██████▌   | 7841/12000 [2:32:39<1:20:15,  1.16s/it]"
     ]
    },
    {
     "name": "stdout",
     "output_type": "stream",
     "text": [
      "saving bf at: , with loss: -1.58302 , at epoch: 7840 learning rate: 0.00025 , train_Ntot: 1 train_M1: 1 , train_Mdiff: 1 , epoch_tot_counter: 16841\n"
     ]
    },
    {
     "name": "stderr",
     "output_type": "stream",
     "text": [
      " 66%|██████▌   | 7920/12000 [2:34:12<1:17:52,  1.15s/it]"
     ]
    },
    {
     "name": "stdout",
     "output_type": "stream",
     "text": [
      "saving bf at: , with loss: -1.58304 , at epoch: 7920 learning rate: 0.00025 , train_Ntot: 1 train_M1: 1 , train_Mdiff: 1 , epoch_tot_counter: 16921\n"
     ]
    },
    {
     "name": "stderr",
     "output_type": "stream",
     "text": [
      " 67%|██████▋   | 8041/12000 [2:36:34<1:19:19,  1.20s/it]"
     ]
    },
    {
     "name": "stdout",
     "output_type": "stream",
     "text": [
      "saving bf at: , with loss: -1.58305 , at epoch: 8040 learning rate: 0.00025 , train_Ntot: 1 train_M1: 1 , train_Mdiff: 1 , epoch_tot_counter: 17041\n"
     ]
    },
    {
     "name": "stderr",
     "output_type": "stream",
     "text": [
      " 68%|██████▊   | 8161/12000 [2:38:55<1:15:38,  1.18s/it]"
     ]
    },
    {
     "name": "stdout",
     "output_type": "stream",
     "text": [
      "saving bf at: , with loss: -1.58307 , at epoch: 8160 learning rate: 0.00025 , train_Ntot: 1 train_M1: 1 , train_Mdiff: 1 , epoch_tot_counter: 17161\n"
     ]
    },
    {
     "name": "stderr",
     "output_type": "stream",
     "text": [
      " 68%|██████▊   | 8201/12000 [2:39:42<1:15:44,  1.20s/it]"
     ]
    },
    {
     "name": "stdout",
     "output_type": "stream",
     "text": [
      "saving bf at: , with loss: -1.58321 , at epoch: 8200 learning rate: 0.00025 , train_Ntot: 1 train_M1: 1 , train_Mdiff: 1 , epoch_tot_counter: 17201\n"
     ]
    },
    {
     "name": "stderr",
     "output_type": "stream",
     "text": [
      " 70%|███████   | 8441/12000 [2:44:22<1:08:40,  1.16s/it]"
     ]
    },
    {
     "name": "stdout",
     "output_type": "stream",
     "text": [
      "saving bf at: , with loss: -1.58324 , at epoch: 8440 learning rate: 0.00025 , train_Ntot: 1 train_M1: 1 , train_Mdiff: 1 , epoch_tot_counter: 17441\n"
     ]
    },
    {
     "name": "stderr",
     "output_type": "stream",
     "text": [
      " 71%|███████   | 8481/12000 [2:45:08<1:09:17,  1.18s/it]"
     ]
    },
    {
     "name": "stdout",
     "output_type": "stream",
     "text": [
      "saving bf at: , with loss: -1.58328 , at epoch: 8480 learning rate: 0.00025 , train_Ntot: 1 train_M1: 1 , train_Mdiff: 1 , epoch_tot_counter: 17481\n"
     ]
    },
    {
     "name": "stderr",
     "output_type": "stream",
     "text": [
      " 71%|███████▏  | 8561/12000 [2:46:43<1:06:38,  1.16s/it]"
     ]
    },
    {
     "name": "stdout",
     "output_type": "stream",
     "text": [
      "saving bf at: , with loss: -1.58338 , at epoch: 8560 learning rate: 0.00025 , train_Ntot: 1 train_M1: 1 , train_Mdiff: 1 , epoch_tot_counter: 17561\n"
     ]
    },
    {
     "name": "stderr",
     "output_type": "stream",
     "text": [
      " 72%|███████▏  | 8641/12000 [2:48:16<1:04:51,  1.16s/it]"
     ]
    },
    {
     "name": "stdout",
     "output_type": "stream",
     "text": [
      "saving bf at: , with loss: -1.58343 , at epoch: 8640 learning rate: 0.00025 , train_Ntot: 1 train_M1: 1 , train_Mdiff: 1 , epoch_tot_counter: 17641\n"
     ]
    },
    {
     "name": "stderr",
     "output_type": "stream",
     "text": [
      " 73%|███████▎  | 8801/12000 [2:51:24<1:01:38,  1.16s/it]"
     ]
    },
    {
     "name": "stdout",
     "output_type": "stream",
     "text": [
      "saving bf at: , with loss: -1.58349 , at epoch: 8800 learning rate: 0.00025 , train_Ntot: 1 train_M1: 1 , train_Mdiff: 1 , epoch_tot_counter: 17801\n"
     ]
    },
    {
     "name": "stderr",
     "output_type": "stream",
     "text": [
      " 76%|███████▌  | 9121/12000 [2:57:39<56:15,  1.17s/it]  "
     ]
    },
    {
     "name": "stdout",
     "output_type": "stream",
     "text": [
      "saving bf at: , with loss: -1.58364 , at epoch: 9120 learning rate: 0.00025 , train_Ntot: 1 train_M1: 1 , train_Mdiff: 1 , epoch_tot_counter: 18121\n"
     ]
    },
    {
     "name": "stderr",
     "output_type": "stream",
     "text": [
      " 77%|███████▋  | 9201/12000 [2:59:11<53:45,  1.15s/it]"
     ]
    },
    {
     "name": "stdout",
     "output_type": "stream",
     "text": [
      "saving bf at: , with loss: -1.58366 , at epoch: 9200 learning rate: 0.00025 , train_Ntot: 1 train_M1: 1 , train_Mdiff: 1 , epoch_tot_counter: 18201\n"
     ]
    },
    {
     "name": "stderr",
     "output_type": "stream",
     "text": [
      " 77%|███████▋  | 9281/12000 [3:00:45<52:38,  1.16s/it]  "
     ]
    },
    {
     "name": "stdout",
     "output_type": "stream",
     "text": [
      "saving bf at: , with loss: -1.5837 , at epoch: 9280 learning rate: 0.00025 , train_Ntot: 1 train_M1: 1 , train_Mdiff: 1 , epoch_tot_counter: 18281\n"
     ]
    },
    {
     "name": "stderr",
     "output_type": "stream",
     "text": [
      " 78%|███████▊  | 9361/12000 [3:02:18<50:59,  1.16s/it]"
     ]
    },
    {
     "name": "stdout",
     "output_type": "stream",
     "text": [
      "saving bf at: , with loss: -1.58375 , at epoch: 9360 learning rate: 0.00025 , train_Ntot: 1 train_M1: 1 , train_Mdiff: 1 , epoch_tot_counter: 18361\n"
     ]
    },
    {
     "name": "stderr",
     "output_type": "stream",
     "text": [
      " 80%|███████▉  | 9561/12000 [3:06:13<47:16,  1.16s/it]"
     ]
    },
    {
     "name": "stdout",
     "output_type": "stream",
     "text": [
      "saving bf at: , with loss: -1.5838 , at epoch: 9560 learning rate: 0.00025 , train_Ntot: 1 train_M1: 1 , train_Mdiff: 1 , epoch_tot_counter: 18561\n"
     ]
    },
    {
     "name": "stderr",
     "output_type": "stream",
     "text": [
      " 80%|████████  | 9641/12000 [3:07:46<45:36,  1.16s/it]"
     ]
    },
    {
     "name": "stdout",
     "output_type": "stream",
     "text": [
      "saving bf at: , with loss: -1.58387 , at epoch: 9640 learning rate: 0.00025 , train_Ntot: 1 train_M1: 1 , train_Mdiff: 1 , epoch_tot_counter: 18641\n"
     ]
    },
    {
     "name": "stderr",
     "output_type": "stream",
     "text": [
      " 81%|████████▏ | 9761/12000 [3:10:07<49:41,  1.33s/it]"
     ]
    },
    {
     "name": "stdout",
     "output_type": "stream",
     "text": [
      "saving bf at: , with loss: -1.58388 , at epoch: 9760 learning rate: 0.00025 , train_Ntot: 1 train_M1: 1 , train_Mdiff: 1 , epoch_tot_counter: 18761\n"
     ]
    },
    {
     "name": "stderr",
     "output_type": "stream",
     "text": [
      " 83%|████████▎ | 9921/12000 [3:13:12<40:20,  1.16s/it]"
     ]
    },
    {
     "name": "stdout",
     "output_type": "stream",
     "text": [
      "saving bf at: , with loss: -1.58397 , at epoch: 9920 learning rate: 0.00025 , train_Ntot: 1 train_M1: 1 , train_Mdiff: 1 , epoch_tot_counter: 18921\n"
     ]
    },
    {
     "name": "stderr",
     "output_type": "stream",
     "text": [
      " 83%|████████▎ | 10001/12000 [3:14:44<38:43,  1.16s/it]"
     ]
    },
    {
     "name": "stdout",
     "output_type": "stream",
     "text": [
      "saving bf at: , with loss: -1.58398 , at epoch: 10000 learning rate: 0.00025 , train_Ntot: 1 train_M1: 1 , train_Mdiff: 1 , epoch_tot_counter: 19001\n"
     ]
    },
    {
     "name": "stderr",
     "output_type": "stream",
     "text": [
      " 84%|████████▍ | 10081/12000 [3:16:16<37:17,  1.17s/it]"
     ]
    },
    {
     "name": "stdout",
     "output_type": "stream",
     "text": [
      "saving bf at: , with loss: -1.584 , at epoch: 10080 learning rate: 0.00025 , train_Ntot: 1 train_M1: 1 , train_Mdiff: 1 , epoch_tot_counter: 19081\n"
     ]
    },
    {
     "name": "stderr",
     "output_type": "stream",
     "text": [
      " 84%|████████▍ | 10121/12000 [3:17:02<36:11,  1.16s/it]"
     ]
    },
    {
     "name": "stdout",
     "output_type": "stream",
     "text": [
      "saving bf at: , with loss: -1.58404 , at epoch: 10120 learning rate: 0.00025 , train_Ntot: 1 train_M1: 1 , train_Mdiff: 1 , epoch_tot_counter: 19121\n"
     ]
    },
    {
     "name": "stderr",
     "output_type": "stream",
     "text": [
      " 85%|████████▌ | 10201/12000 [3:18:35<34:39,  1.16s/it]"
     ]
    },
    {
     "name": "stdout",
     "output_type": "stream",
     "text": [
      "saving bf at: , with loss: -1.58407 , at epoch: 10200 learning rate: 0.00025 , train_Ntot: 1 train_M1: 1 , train_Mdiff: 1 , epoch_tot_counter: 19201\n"
     ]
    },
    {
     "name": "stderr",
     "output_type": "stream",
     "text": [
      " 86%|████████▌ | 10281/12000 [3:20:07<34:15,  1.20s/it]"
     ]
    },
    {
     "name": "stdout",
     "output_type": "stream",
     "text": [
      "saving bf at: , with loss: -1.58409 , at epoch: 10280 learning rate: 0.00025 , train_Ntot: 1 train_M1: 1 , train_Mdiff: 1 , epoch_tot_counter: 19281\n"
     ]
    },
    {
     "name": "stderr",
     "output_type": "stream",
     "text": [
      " 87%|████████▋ | 10401/12000 [3:22:26<31:34,  1.18s/it]"
     ]
    },
    {
     "name": "stdout",
     "output_type": "stream",
     "text": [
      "saving bf at: , with loss: -1.58413 , at epoch: 10400 learning rate: 0.00025 , train_Ntot: 1 train_M1: 1 , train_Mdiff: 1 , epoch_tot_counter: 19401\n"
     ]
    },
    {
     "name": "stderr",
     "output_type": "stream",
     "text": [
      " 88%|████████▊ | 10561/12000 [3:25:33<27:43,  1.16s/it]"
     ]
    },
    {
     "name": "stdout",
     "output_type": "stream",
     "text": [
      "saving bf at: , with loss: -1.58416 , at epoch: 10560 learning rate: 0.00025 , train_Ntot: 1 train_M1: 1 , train_Mdiff: 1 , epoch_tot_counter: 19561\n"
     ]
    },
    {
     "name": "stderr",
     "output_type": "stream",
     "text": [
      " 88%|████████▊ | 10601/12000 [3:26:20<26:52,  1.15s/it]"
     ]
    },
    {
     "name": "stdout",
     "output_type": "stream",
     "text": [
      "saving bf at: , with loss: -1.58418 , at epoch: 10600 learning rate: 0.00025 , train_Ntot: 1 train_M1: 1 , train_Mdiff: 1 , epoch_tot_counter: 19601\n"
     ]
    },
    {
     "name": "stderr",
     "output_type": "stream",
     "text": [
      " 89%|████████▉ | 10721/12000 [3:28:41<26:12,  1.23s/it]"
     ]
    },
    {
     "name": "stdout",
     "output_type": "stream",
     "text": [
      "saving bf at: , with loss: -1.58424 , at epoch: 10720 learning rate: 0.00025 , train_Ntot: 1 train_M1: 1 , train_Mdiff: 1 , epoch_tot_counter: 19721\n"
     ]
    },
    {
     "name": "stderr",
     "output_type": "stream",
     "text": [
      " 90%|█████████ | 10801/12000 [3:30:14<23:12,  1.16s/it]"
     ]
    },
    {
     "name": "stdout",
     "output_type": "stream",
     "text": [
      "saving bf at: , with loss: -1.58426 , at epoch: 10800 learning rate: 0.00025 , train_Ntot: 1 train_M1: 1 , train_Mdiff: 1 , epoch_tot_counter: 19801\n"
     ]
    },
    {
     "name": "stderr",
     "output_type": "stream",
     "text": [
      " 90%|█████████ | 10841/12000 [3:31:00<22:18,  1.15s/it]"
     ]
    },
    {
     "name": "stdout",
     "output_type": "stream",
     "text": [
      "saving bf at: , with loss: -1.58427 , at epoch: 10840 learning rate: 0.00025 , train_Ntot: 1 train_M1: 1 , train_Mdiff: 1 , epoch_tot_counter: 19841\n"
     ]
    },
    {
     "name": "stderr",
     "output_type": "stream",
     "text": [
      " 91%|█████████▏| 10961/12000 [3:33:22<20:02,  1.16s/it]"
     ]
    },
    {
     "name": "stdout",
     "output_type": "stream",
     "text": [
      "saving bf at: , with loss: -1.58429 , at epoch: 10960 learning rate: 0.00025 , train_Ntot: 1 train_M1: 1 , train_Mdiff: 1 , epoch_tot_counter: 19961\n"
     ]
    },
    {
     "name": "stderr",
     "output_type": "stream",
     "text": [
      " 92%|█████████▏| 11001/12000 [3:34:08<20:07,  1.21s/it]"
     ]
    },
    {
     "name": "stdout",
     "output_type": "stream",
     "text": [
      "saving bf at: , with loss: -1.5843 , at epoch: 11000 learning rate: 0.00025 , train_Ntot: 1 train_M1: 1 , train_Mdiff: 1 , epoch_tot_counter: 20001\n"
     ]
    },
    {
     "name": "stderr",
     "output_type": "stream",
     "text": [
      " 93%|█████████▎| 11121/12000 [3:36:29<16:53,  1.15s/it]"
     ]
    },
    {
     "name": "stdout",
     "output_type": "stream",
     "text": [
      "saving bf at: , with loss: -1.58437 , at epoch: 11120 learning rate: 0.00025 , train_Ntot: 1 train_M1: 1 , train_Mdiff: 1 , epoch_tot_counter: 20121\n"
     ]
    },
    {
     "name": "stderr",
     "output_type": "stream",
     "text": [
      " 95%|█████████▌| 11401/12000 [3:41:57<11:31,  1.15s/it]"
     ]
    },
    {
     "name": "stdout",
     "output_type": "stream",
     "text": [
      "saving bf at: , with loss: -1.58443 , at epoch: 11400 learning rate: 0.00025 , train_Ntot: 1 train_M1: 1 , train_Mdiff: 1 , epoch_tot_counter: 20401\n"
     ]
    },
    {
     "name": "stderr",
     "output_type": "stream",
     "text": [
      " 95%|█████████▌| 11441/12000 [3:42:44<11:31,  1.24s/it]"
     ]
    },
    {
     "name": "stdout",
     "output_type": "stream",
     "text": [
      "saving bf at: , with loss: -1.58443 , at epoch: 11440 learning rate: 0.00025 , train_Ntot: 1 train_M1: 1 , train_Mdiff: 1 , epoch_tot_counter: 20441\n"
     ]
    },
    {
     "name": "stderr",
     "output_type": "stream",
     "text": [
      " 96%|█████████▋| 11561/12000 [3:45:05<08:53,  1.22s/it]"
     ]
    },
    {
     "name": "stdout",
     "output_type": "stream",
     "text": [
      "saving bf at: , with loss: -1.5845 , at epoch: 11560 learning rate: 0.00025 , train_Ntot: 1 train_M1: 1 , train_Mdiff: 1 , epoch_tot_counter: 20561\n"
     ]
    },
    {
     "name": "stderr",
     "output_type": "stream",
     "text": [
      " 98%|█████████▊| 11761/12000 [3:48:58<04:36,  1.16s/it]"
     ]
    },
    {
     "name": "stdout",
     "output_type": "stream",
     "text": [
      "saving bf at: , with loss: -1.58456 , at epoch: 11760 learning rate: 0.00025 , train_Ntot: 1 train_M1: 1 , train_Mdiff: 1 , epoch_tot_counter: 20761\n"
     ]
    },
    {
     "name": "stderr",
     "output_type": "stream",
     "text": [
      " 99%|█████████▊| 11841/12000 [3:50:32<03:05,  1.16s/it]"
     ]
    },
    {
     "name": "stdout",
     "output_type": "stream",
     "text": [
      "saving bf at: , with loss: -1.58457 , at epoch: 11840 learning rate: 0.00025 , train_Ntot: 1 train_M1: 1 , train_Mdiff: 1 , epoch_tot_counter: 20841\n"
     ]
    },
    {
     "name": "stderr",
     "output_type": "stream",
     "text": [
      "100%|█████████▉| 11961/12000 [3:52:54<00:45,  1.17s/it]"
     ]
    },
    {
     "name": "stdout",
     "output_type": "stream",
     "text": [
      "saving bf at: , with loss: -1.58461 , at epoch: 11960 learning rate: 0.00025 , train_Ntot: 1 train_M1: 1 , train_Mdiff: 1 , epoch_tot_counter: 20961\n"
     ]
    },
    {
     "name": "stderr",
     "output_type": "stream",
     "text": [
      "100%|██████████| 12000/12000 [3:53:40<00:00,  1.17s/it]\n"
     ]
    }
   ],
   "source": [
    "train_Ntot = 1\n",
    "train_M1 = 1\n",
    "train_Mdiff = 1\n",
    "nepochs = 10000\n",
    "# if jn > 0:\n",
    "#     print('loading bestfit model')\n",
    "#     bestfit_model = (torch.load(save_bestfit_model_name))\n",
    "#     model.load_state_dict(bestfit_model['state_dict'])\n",
    "#     optimizer.load_state_dict(bestfit_model['optimizer'])\n",
    "#     scheduler.load_state_dict(bestfit_model['scheduler'])\n",
    "#     # loss_min = bestfit_model['loss_min']\n",
    "#     loss = bestfit_model['loss']\n",
    "#     lr = bestfit_model['lr']\n",
    "#     for g in optimizer.param_groups:\n",
    "#         g['lr'] = learning_rate\n",
    "\n",
    "for jt in tqdm(range(nepochs)):\n",
    "    # for jd in range(len(dataloader)):\n",
    "    torch.cuda.empty_cache()\n",
    "    optimizer.zero_grad()\n",
    "    cond_tensor_jd, cond_tensor_nsh_jd, mask_tensor_M1_train_jd, mask_tensor_Mdiff_train_jd, X_M1_jd, \\\n",
    "        X_Nhalo_jd, X_Mdiff_jd, Nhalos_truth_tensor_jd, mask_tensor_M1_train_FP_jd, X_M1_FP_jd = cond_tensor, cond_tensor_nsh, mask_tensor_M1_train, mask_tensor_Mdiff_train, X_M1, \\\n",
    "                X_Nhalo, X_Mdiff, Nhalos_truth_tensor, mask_tensor_M1_train_FP, X_M1_FP\n",
    "\n",
    "    if cond_sim == 'quijote':               \n",
    "        mask_tensor_M1_train_FP_jd = None\n",
    "        X_M1_FP_jd = None\n",
    "    \n",
    "    torch.cuda.empty_cache()\n",
    "    # if 1-all_gpu:\n",
    "    # cond_tensor_jd = cond_tensor_jd.cuda(dev)\n",
    "    # cond_tensor_nsh_jd = cond_tensor_nsh_jd.cuda(dev)\n",
    "    # mask_tensor_M1_train_jd = mask_tensor_M1_train_jd.cuda(dev)\n",
    "    # mask_tensor_Mdiff_train_jd = mask_tensor_Mdiff_train_jd.cuda(dev)\n",
    "    # X_M1_jd = X_M1_jd.cuda(dev)\n",
    "    # X_Nhalo_jd = X_Nhalo_jd.cuda(dev)\n",
    "    # X_Mdiff_jd = X_Mdiff_jd.cuda(dev)\n",
    "    # Nhalos_truth_tensor_jd = Nhalos_truth_tensor_jd.cuda(dev)\n",
    "    # if mask_tensor_M1_train_FP_jd is not None:\n",
    "    #     mask_tensor_M1_train_FP_jd = mask_tensor_M1_train_FP_jd.cuda(dev)\n",
    "    #     X_M1_FP_jd = X_M1_FP_jd.cuda(dev)\n",
    "    # torch.cuda.empty_cache()\n",
    "                    \n",
    "    loss = model(\n",
    "        X_Mdiff_jd,\n",
    "        X_M1_jd,\n",
    "        X_Nhalo_jd,\n",
    "        cond_x=cond_tensor_jd,\n",
    "        cond_x_nsh=cond_tensor_nsh_jd,\n",
    "        mask_Mdiff_truth_all=mask_tensor_Mdiff_train_jd,\n",
    "        mask_M1_truth_all=mask_tensor_M1_train_jd,\n",
    "        Nhalos_truth_all=Nhalos_truth_tensor_jd,\n",
    "        use_Ntot_samples=False,\n",
    "        use_M1_samples=False,\n",
    "        train_Ntot=train_Ntot,\n",
    "        train_M1=train_M1,\n",
    "        train_Mdiff=train_Mdiff,\n",
    "        # x_Mdiff_FP=X_Mdiff_FP,\n",
    "        x_M1_FP=X_M1_FP_jd,\n",
    "        # x_Ntot_FP=X_Nhalo_FP,\n",
    "        # Nhalos_truth_all_FP=Nhalos_truth_tensor_FP,\n",
    "        # mask_Mdiff_truth_all_FP=mask_tensor_Mdiff_train_FP,\n",
    "        mask_M1_truth_all_FP=mask_tensor_M1_train_FP_jd,\n",
    "        L2norm_Ntothist=L2norm_Ntothist,\n",
    "        L2norm_M1hist=L2norm_M1hist        \n",
    "        )\n",
    "\n",
    "    loss.backward()\n",
    "    optimizer.step()\n",
    "    scheduler.step(loss)\n",
    "    epoch_tot_counter += 1\n",
    "    if (np.mod(jt, int(nepochs / 300)) == 0) or (jt == nepochs - 1):\n",
    "        if float(loss.cpu().detach().numpy()) < loss_min:\n",
    "            loss_min = float(loss.cpu().detach().numpy())\n",
    "            print('saving bf at:', ', with loss:', np.round(loss_min, 5), ', at epoch:', jt, \n",
    "                'learning rate:', optimizer.param_groups[0]['lr'], ', train_Ntot:', train_Ntot, \n",
    "                'train_M1:', train_M1, ', train_Mdiff:', train_Mdiff, ', epoch_tot_counter:', epoch_tot_counter)\n",
    "            lr=optimizer.param_groups[0]['lr']\n",
    "            # print(loss_min, lr)\n",
    "            state = {'loss_min': loss_min, 'state_dict': model.state_dict(), 'optimizer': optimizer.state_dict(),\n",
    "                    'scheduler': scheduler.state_dict(), 'loss':loss, 'lr':lr, 'epoch_tot_counter':epoch_tot_counter}\n",
    "\n",
    "            torch.save(\n",
    "                state, save_bestfit_model_name\n",
    "                )\n",
    "\n",
    "\n",
    "\n",
    "\n"
   ]
  },
  {
   "cell_type": "code",
   "execution_count": 17,
   "metadata": {},
   "outputs": [
    {
     "name": "stdout",
     "output_type": "stream",
     "text": [
      "\n"
     ]
    }
   ],
   "source": [
    "num_cond_Ntot = num_cond\n",
    "\n",
    "model_Ntot = SumGaussModel(\n",
    "    hidden_dim=hidden_dim_MAF,\n",
    "    num_cond=num_cond_Ntot,\n",
    "    ngauss=return_dict_train['ngauss_Nhalo'],\n",
    "    mu_all=return_dict_train['mu_all'],\n",
    "    sig_all=return_dict_train['sig_all'],\n",
    "    base_dist=base_dist_Ntot   \n",
    "    )\n",
    "\n",
    "num_cond_M1 = num_cond + 1\n",
    "# if conditioned on fastpm we will also give the fastpm fof M1 halos and its mask as conditional\n",
    "if cond_sim == 'fastpm':\n",
    "    num_cond_M1 += 2\n",
    "\n",
    "model_M1 = NSF_M1_CNNcond(\n",
    "    K=K_M1,\n",
    "    B=B_M1,\n",
    "    hidden_dim=hidden_dim_MAF,\n",
    "    num_cond=num_cond_M1,\n",
    "    nflows=nflows_M1_NSF,\n",
    "    base_dist=base_dist_M1,\n",
    "    ngauss=ngauss_M1,\n",
    "    lgM_rs_tointerp=lgM_rescaled,\n",
    "    hmf_pdf_tointerp=hmf_pdf,\n",
    "    hmf_cdf_tointerp=hmf_cdf    \n",
    "    )\n",
    "\n",
    "# ndim_diff = return_dict_train['M_diff_halos_all_norm_masked'][0].shape[2]\n",
    "# num_cond_Mdiff = num_cond + 2\n",
    "# model_Mdiff = NSF_Mdiff_CNNcond(\n",
    "#     dim=ndim_diff,\n",
    "#     K=K_Mdiff,\n",
    "#     B=B_Mdiff,\n",
    "#     hidden_dim=hidden_dim_MAF,\n",
    "#     num_cond=num_cond_Mdiff,\n",
    "#     nflows=nflows_Mdiff_NSF,\n",
    "#     base_dist=base_dist_Mdiff,\n",
    "#     mu_pos=True\n",
    "#     )\n",
    "\n",
    "ndim = ndim_diff + 1\n",
    "model = COMBINED_Model(\n",
    "    None,\n",
    "    None,\n",
    "    # None,\n",
    "    model_M1,\n",
    "    model_Ntot,\n",
    "    ndim,\n",
    "    ksize,\n",
    "    ns_d,\n",
    "    ns_h,\n",
    "    nb,\n",
    "    ninp,\n",
    "    nfeature_cnn,\n",
    "    nout_cnn,\n",
    "    layers_types=layers_types,\n",
    "    act='tanh',\n",
    "    padding='valid',\n",
    "    sep_Ntot_cond=True,\n",
    "    sep_M1_cond=True,\n",
    "    sep_Mdiff_cond=True,\n",
    "    num_cond_Ntot = num_cond_Ntot,\n",
    "    num_cond_M1 = num_cond_M1,\n",
    "    num_cond_Mdiff = None\n",
    "    )\n",
    "\n",
    "model.to(dev)\n",
    "print()\n",
    "\n",
    "\n",
    "optimizer = optim.Adam(model.parameters(), lr=learning_rate)\n",
    "\n",
    "loss_all_it = []\n",
    "loss_min = 1e20\n",
    "epoch_tot_counter = 0\n",
    "scheduler = optim.lr_scheduler.ReduceLROnPlateau(optimizer, 'min', factor=0.25, patience=100, verbose=True, cooldown=100, min_lr=1e-8)\n",
    "\n"
   ]
  },
  {
   "cell_type": "code",
   "execution_count": 49,
   "metadata": {},
   "outputs": [
    {
     "name": "stdout",
     "output_type": "stream",
     "text": [
      "loading bestfit model\n",
      "-1.0573930740356445 8201 1.52587890625e-08\n"
     ]
    }
   ],
   "source": [
    "jf = 1\n",
    "save_bestfit_model_name = save_bestfit_model_dir + '/flow_' + str(jf)\n",
    "\n",
    "print('loading bestfit model')\n",
    "bestfit_model = (torch.load(save_bestfit_model_name))\n",
    "model.load_state_dict(bestfit_model['state_dict'])\n",
    "optimizer.load_state_dict(bestfit_model['optimizer'])\n",
    "scheduler.load_state_dict(bestfit_model['scheduler'])\n",
    "loss_min = bestfit_model['loss_min']\n",
    "loss = bestfit_model['loss']\n",
    "lr = bestfit_model['lr']\n",
    "epoch_tot_counter = bestfit_model['epoch_tot_counter']\n",
    "for g in optimizer.param_groups:\n",
    "    g['lr'] = lr\n",
    "\n",
    "print(loss_min, epoch_tot_counter, lr)\n",
    "\n",
    "\n"
   ]
  },
  {
   "cell_type": "code",
   "execution_count": 58,
   "metadata": {},
   "outputs": [
    {
     "data": {
      "image/png": "[encoded data removed]",
      "text/plain": [
       "<Figure size 640x480 with 1 Axes>"
      ]
     },
     "metadata": {},
     "output_type": "display_data"
    }
   ],
   "source": [
    "# model_Ntot\n",
    "# base_dist_Ntot\n",
    "# 203968/1817977 \n",
    "cond_out = model.conv_layers(cond_tensor_jd[0])\n",
    "cond_out = torch.cat((cond_out, cond_tensor_nsh_jd[0]), dim=1)\n",
    "# if self.sep_Ntot_cond:\n",
    "cond_out_Ntot = model.cond_Ntot_layer(cond_out)\n",
    "\n",
    "Ntot_samp_tensor = model_Ntot.inverse(cond_out_Ntot)\n",
    "Ntot_samp = np.maximum(np.round(Ntot_samp_tensor.cpu().detach().numpy()) - 1, 0).astype(int)\n",
    "pl.figure()\n",
    "_ = pl.hist(Ntot_samp, bins=100, density=True, alpha=0.5)\n",
    "_ = pl.hist(0.2+Nhalos_truth_tensor_jd[0,...].cpu().detach().numpy(), bins=100, density=True, alpha=0.5)\n",
    "pl.yscale('log')\n",
    "\n"
   ]
  },
  {
   "cell_type": "code",
   "execution_count": 8,
   "metadata": {},
   "outputs": [
    {
     "name": "stdout",
     "output_type": "stream",
     "text": [
      "\n"
     ]
    }
   ],
   "source": [
    "# # for jf in range(7):\n",
    "# #     save_bestfit_model_name = save_bestfit_model_dir + '/flow_' + str(jf)\n",
    "# #     bestfit_model = (torch.load(save_bestfit_model_name))\n",
    "# #     loss_min = bestfit_model['loss_min']\n",
    "# #     print(loss_min)\n",
    "\n",
    "# num_cond_Ntot = num_cond\n",
    "\n",
    "# model_Ntot = SumGaussModel(\n",
    "#     hidden_dim=hidden_dim_MAF,\n",
    "#     num_cond=num_cond_Ntot,\n",
    "#     ngauss=return_dict_train['ngauss_Nhalo'],\n",
    "#     mu_all=return_dict_train['mu_all'],\n",
    "#     sig_all=return_dict_train['sig_all'],\n",
    "#     base_dist=base_dist_Ntot   \n",
    "#     )\n",
    "\n",
    "# num_cond_M1 = num_cond + 1\n",
    "# # if conditioned on fastpm we will also give the fastpm fof M1 halos and its mask as conditional\n",
    "# if cond_sim == 'fastpm':\n",
    "#     num_cond_M1 += 2\n",
    "\n",
    "# model_M1 = NSF_M1_CNNcond(\n",
    "#     K=K_M1,\n",
    "#     B=B_M1,\n",
    "#     hidden_dim=hidden_dim_MAF,\n",
    "#     num_cond=num_cond_M1,\n",
    "#     nflows=nflows_M1_NSF,\n",
    "#     base_dist=base_dist_M1,\n",
    "#     ngauss=ngauss_M1,\n",
    "#     lgM_rs_tointerp=lgM_rescaled,\n",
    "#     hmf_pdf_tointerp=hmf_pdf,\n",
    "#     hmf_cdf_tointerp=hmf_cdf    \n",
    "#     )\n",
    "\n",
    "# ndim_diff = return_dict_train['M_diff_halos_all_norm_masked'][0].shape[2]\n",
    "# num_cond_Mdiff = num_cond + 2\n",
    "# model_Mdiff = NSF_Mdiff_CNNcond(\n",
    "#     dim=ndim_diff,\n",
    "#     K=K_Mdiff,\n",
    "#     B=B_Mdiff,\n",
    "#     hidden_dim=hidden_dim_MAF,\n",
    "#     num_cond=num_cond_Mdiff,\n",
    "#     nflows=nflows_Mdiff_NSF,\n",
    "#     base_dist=base_dist_Mdiff,\n",
    "#     mu_pos=True\n",
    "#     )\n",
    "\n",
    "# ndim = ndim_diff + 1\n",
    "# model = COMBINED_Model(\n",
    "#     None,\n",
    "#     model_Mdiff,\n",
    "#     # None,\n",
    "#     model_M1,\n",
    "#     model_Ntot,\n",
    "#     ndim,\n",
    "#     ksize,\n",
    "#     ns_d,\n",
    "#     ns_h,\n",
    "#     nb,\n",
    "#     ninp,\n",
    "#     nfeature_cnn,\n",
    "#     nout_cnn,\n",
    "#     layers_types=layers_types,\n",
    "#     act='tanh',\n",
    "#     padding='valid',\n",
    "#     sep_Ntot_cond=True,\n",
    "#     sep_M1_cond=True,\n",
    "#     sep_Mdiff_cond=True,\n",
    "#     num_cond_Ntot = num_cond_Ntot,\n",
    "#     num_cond_M1 = num_cond_M1,\n",
    "#     num_cond_Mdiff = num_cond_Mdiff\n",
    "#     )\n",
    "\n",
    "# model.to(dev)\n",
    "\n",
    "# print()\n",
    "\n",
    "# optimizer = optim.Adam(model.parameters(), lr=learning_rate)\n",
    "\n",
    "# loss_all_it = []\n",
    "# loss_min = 1e20\n",
    "# epoch_tot_counter = 0\n",
    "# scheduler = optim.lr_scheduler.ReduceLROnPlateau(optimizer, 'min', factor=0.5, patience=200, verbose=True, cooldown=200, min_lr=1e-8)\n",
    "\n",
    "# save_bestfit_model_name = save_bestfit_model_dir + '/flow_' + str(0)\n",
    "# bestfit_model = (torch.load(save_bestfit_model_name))\n",
    "# model.load_state_dict(bestfit_model['state_dict'])\n",
    "# optimizer.load_state_dict(bestfit_model['optimizer'])\n",
    "# scheduler.load_state_dict(bestfit_model['scheduler'])\n",
    "# # loss_min = bestfit_model['loss_min']\n",
    "# loss = bestfit_model['loss']\n"
   ]
  },
  {
   "cell_type": "code",
   "execution_count": 9,
   "metadata": {},
   "outputs": [
    {
     "name": "stdout",
     "output_type": "stream",
     "text": [
      "tensor([-1.2101], device='cuda:0', requires_grad=True)\n"
     ]
    }
   ],
   "source": [
    "print(loss)\n"
   ]
  },
  {
   "cell_type": "code",
   "execution_count": 10,
   "metadata": {},
   "outputs": [],
   "source": [
    "# print('loading bestfit model')\n",
    "# bestfit_model = (torch.load(save_bestfit_model_name))\n",
    "# model.load_state_dict(bestfit_model['state_dict'])\n",
    "# optimizer.load_state_dict(bestfit_model['optimizer'])\n",
    "# scheduler.load_state_dict(bestfit_model['scheduler'])\n",
    "# loss_min = bestfit_model['loss_min']\n",
    "# loss = bestfit_model['loss']\n",
    "# lr = bestfit_model['lr']\n",
    "# epoch_tot_counter = bestfit_model['epoch_tot_counter']\n",
    "# for g in optimizer.param_groups:\n",
    "#     g['lr'] = lr\n",
    "\n",
    "# print(loss_min, epoch_tot_counter, lr)\n",
    "\n",
    "\n"
   ]
  },
  {
   "cell_type": "code",
   "execution_count": 71,
   "metadata": {},
   "outputs": [
    {
     "name": "stdout",
     "output_type": "stream",
     "text": [
      "0.20969092845916748 5000 cic\n",
      "DOING SIM NUMBER:1\n",
      "[1730121  256321   78812   23499    6360    1616     338      75      10\n",
      "       0       0       0]\n",
      "[1727358  258423   79364   23661    6363    1535     355      79      10\n",
      "       2       2       0]\n"
     ]
    },
    {
     "name": "stderr",
     "output_type": "stream",
     "text": [
      "100%|██████████| 8/8 [00:00<00:00, 30229.22it/s]\n",
      "100%|██████████| 8/8 [00:00<00:00, 34556.57it/s]\n"
     ]
    },
    {
     "name": "stdout",
     "output_type": "stream",
     "text": [
      "\n",
      "Computing power spectrum of the field...\n",
      "Time to complete loop = 0.06\n",
      "Time taken = 0.08 seconds\n",
      "\n",
      "Computing power spectrum of the field...\n",
      "Time to complete loop = 0.06\n",
      "Time taken = 0.09 seconds\n",
      "\n",
      "Computing power spectra of the fields...\n",
      "Time FFTS = 0.03\n",
      "Time loop = 0.04\n",
      "Time taken = 0.08 seconds\n",
      "\n",
      "Computing power spectrum of the field...\n",
      "Time to complete loop = 0.06\n",
      "Time taken = 0.07 seconds\n",
      "\n",
      "Computing power spectrum of the field...\n",
      "Time to complete loop = 0.06\n",
      "Time taken = 0.07 seconds\n",
      "\n",
      "Computing power spectra of the fields...\n",
      "Time FFTS = 0.02\n",
      "Time loop = 0.04\n",
      "Time taken = 0.06 seconds\n",
      "\n",
      "Computing power spectrum of the field...\n",
      "Time to complete loop = 0.06\n",
      "Time taken = 0.07 seconds\n",
      "\n",
      "Computing power spectrum of the field...\n",
      "Time to complete loop = 0.06\n",
      "Time taken = 0.07 seconds\n",
      "\n",
      "Computing power spectra of the fields...\n",
      "Time FFTS = 0.02\n",
      "Time loop = 0.04\n",
      "Time taken = 0.07 seconds\n",
      "\n",
      "Computing power spectrum of the field...\n",
      "Time to complete loop = 0.06\n",
      "Time taken = 0.07 seconds\n",
      "\n",
      "Computing power spectrum of the field...\n",
      "Time to complete loop = 0.06\n",
      "Time taken = 0.07 seconds\n",
      "\n",
      "Computing power spectra of the fields...\n",
      "Time FFTS = 0.02\n",
      "Time loop = 0.04\n",
      "Time taken = 0.06 seconds\n",
      "\n",
      "Computing power spectrum of the field...\n",
      "Time to complete loop = 0.06\n",
      "Time taken = 0.07 seconds\n",
      "\n",
      "Computing power spectrum of the field...\n",
      "Time to complete loop = 0.06\n",
      "Time taken = 0.07 seconds\n",
      "\n",
      "Computing power spectra of the fields...\n",
      "Time FFTS = 0.02\n",
      "Time loop = 0.04\n",
      "Time taken = 0.07 seconds\n"
     ]
    }
   ],
   "source": [
    "import readfof\n",
    "import numpy as np\n",
    "import pickle as pk \n",
    "# from nbodykit.lab import *\n",
    "import h5py as h5\n",
    "import numpy as np\n",
    "import Pk_library as PKL\n",
    "import MAS_library as MASL\n",
    "import yaml\n",
    "\n",
    "print(loss_min, epoch_tot_counter, stype)\n",
    "\n",
    "train_Ntot, train_M1, train_Mdiff = 1, 0, 0\n",
    "# train_Ntot, train_M1, train_Mdiff = 1, 1, 0\n",
    "# train_Ntot, train_M1, train_Mdiff = 1, 0, 0\n",
    "isim_start = 1\n",
    "isim_end = 2\n",
    "isim_all = np.arange(isim_start, isim_end).astype(int)\n",
    "for ji in range(len(isim_all)):\n",
    "    saved_all_jsim = {}\n",
    "    # now we load the test data\n",
    "    isim = isim_all[ji]\n",
    "    print('DOING SIM NUMBER:' + str(isim))\n",
    "    nstart = 0\n",
    "    nsims_test = 512\n",
    "    df_d_all_test, df_d_all_nsh_test, df_Mh_all_test, df_Nh_test, _ = load_density_halo_data_NGP(\n",
    "        [isim], ns_d, nb, nf, nc, z_all, ns_h,sdir='/mnt/home/spandey/ceph/Quijote/data_NGP_self',\n",
    "        stype=stype, mass_type=mass_type, lgMmincutstr = lgMmincutstr, is_HR=is_HR\n",
    "        )\n",
    "\n",
    "    if cond_sim == 'fastpm':\n",
    "        df_d_all_test_FP, df_d_all_nsh_test_FP, df_Mh_all_test_FP, df_Nh_test_FP, _ = load_density_halo_data_NGP(\n",
    "            [isim], ns_d, nb, nf, nc, z_all_FP, ns_h,sdir='/mnt/home/spandey/ceph/Quijote/data_NGP_self/fastpm',\n",
    "            stype=stype\n",
    "            )\n",
    "\n",
    "    # things are too big to load all at once, so we load in batches\n",
    "    nq = nb**3 // nsims_test\n",
    "    save_subvol_Nhalo = np.zeros((nb**3, nax_h, nax_h, nax_h))\n",
    "    save_subvol_Nhalo_truth = np.zeros((nb**3, nax_h, nax_h, nax_h))\n",
    "    cond_z0_truth = np.zeros((nb**3, nax_h, nax_h, nax_h))\n",
    "    save_subvol_M1 = np.zeros((nb**3, nax_h, nax_h, nax_h, 1))\n",
    "    save_subvol_M1_truth = np.zeros((nb**3, nax_h, nax_h, nax_h, 1))\n",
    "    save_subvol_Mdiff = np.zeros((nb**3, nax_h, nax_h, nax_h, ndim_diff))\n",
    "    save_subvol_Mdiff_truth = np.zeros((nb**3, nax_h, nax_h, nax_h, ndim_diff))\n",
    "    mask_subvol_Mtot = np.zeros((nb**3, nax_h, nax_h, nax_h, ndim_diff + 1))\n",
    "    mask_subvol_Mtot_truth = np.zeros((nb**3, nax_h, nax_h, nax_h, ndim_diff + 1))\n",
    "\n",
    "    # nfeatures_M1_tot = 20\n",
    "    # cond_inp_M1_all = np.zeros((nb**3, nax_h, nax_h, nax_h, nfeatures_M1_tot))\n",
    "    density_out_M1_loc_all_pad = np.zeros((nb**3, nax_h+6, nax_h+6, nax_h+6))\n",
    "    density_out_M1_loc_all = np.zeros((nb**3, nax_h, nax_h, nax_h))\n",
    "\n",
    "    nscount = 0\n",
    "    for jq in range(nq):\n",
    "        # Load the density data\n",
    "\n",
    "\n",
    "        # Prepare the density and halo data\n",
    "        return_dict_test = prep_density_halo_cats(\n",
    "            df_d_all_test,\n",
    "            df_d_all_nsh_test,\n",
    "            df_Mh_all_test,\n",
    "            df_Nh_test,\n",
    "            nsims=nsims_test,\n",
    "            nstart=nscount,\n",
    "            Mmin=lgMmin, Mmax=lgMmax, rescaleM_sub=rescale_sub, Nmax=Nmax\n",
    "            )\n",
    "        \n",
    "        if cond_sim == 'fastpm':\n",
    "            return_dict_test_FP = prep_density_halo_cats(\n",
    "                df_d_all_test_FP,\n",
    "                df_d_all_nsh_test_FP,\n",
    "                df_Mh_all_test_FP,\n",
    "                df_Nh_test_FP,\n",
    "                nsims=nsims_test,\n",
    "                nstart=nscount,\n",
    "                Mmin=lgMmin, Mmax=lgMmax, rescaleM_sub=rescale_sub\n",
    "                )    \n",
    "\n",
    "        if cond_sim == 'fastpm':\n",
    "            cond_tensor_test = torch.Tensor(np.copy(np.array([return_dict_test_FP['df_d_all']]))).cuda(dev)\n",
    "            cond_nsh_test = np.moveaxis(return_dict_test_FP['df_d_all_nsh'], 1, 4)\n",
    "            cond_nsh_test = np.array([cond_nsh_test])\n",
    "            cond_tensor_nsh_test = torch.Tensor(np.copy(cond_nsh_test.reshape(1,nsims_test * (nax_h ** 3), ninp))).cuda(dev)    \n",
    "        else:\n",
    "            cond_tensor_test = torch.Tensor(np.copy(np.array([return_dict_test['df_d_all']]))).cuda(dev)\n",
    "            cond_nsh_test = np.moveaxis(return_dict_test['df_d_all_nsh'], 1, 4)\n",
    "            cond_nsh_test = np.array([cond_nsh_test])\n",
    "            cond_tensor_nsh_test = torch.Tensor(np.copy(cond_nsh_test.reshape(1,nsims_test * (nax_h ** 3), ninp))).cuda(dev)\n",
    "\n",
    "        mask_tensor_M1_test = torch.Tensor(np.copy(return_dict_test['mask_M1'].reshape(1,nsims_test * (nax_h**3)))).cuda(dev)\n",
    "        mask_tensor_Mdiff_test = torch.Tensor(\n",
    "            (return_dict_test['mask_M_diff'].reshape(1,nsims_test * (nax_h**3), ndim_diff))\n",
    "            ).cuda(dev)\n",
    "\n",
    "        X_M1_test = torch.Tensor((return_dict_test['M1_halos_all_norm'].reshape(1,nsims_test * (nax_h**3), 1))).cuda(dev)\n",
    "        X_Nhalo_test = torch.Tensor(return_dict_test['Nhalo_train_mg_arr'].reshape(1,nsims_test * (nax_h**3), 1)).cuda(dev)\n",
    "        X_Mdiff_test = torch.Tensor(\n",
    "            return_dict_test['M_diff_halos_all_norm_masked'].reshape(1,nsims_test * (nax_h**3), ndim_diff)\n",
    "            ).cuda(dev)\n",
    "        Nhalos_truth_tensor_test = torch.Tensor(((return_dict_test['N_halos_all'].reshape(1,nsims_test * (nax_h**3),\n",
    "                                                                                        1)))).cuda(dev)\n",
    "        \n",
    "        if cond_sim == 'fastpm':\n",
    "            mask_tensor_M1_test_FP = torch.Tensor(np.copy(return_dict_test_FP['mask_M1'].reshape(1,nsims_test * (nax_h**3)))).cuda(dev)\n",
    "            # mask_tensor_Mdiff_test_FP = torch.Tensor(\n",
    "            #     (return_dict_test_FP['mask_M_diff'].reshape(1,nsims_test * (nax_h**3), ndim_diff))\n",
    "            #     ).cuda(dev)\n",
    "\n",
    "            X_M1_test_FP = torch.Tensor((return_dict_test_FP['M1_halos_all_norm'].reshape(1,nsims_test * (nax_h**3), 1))).cuda(dev)\n",
    "            X_Nhalo_test_FP = torch.Tensor(return_dict_test_FP['Nhalo_train_mg_arr'].reshape(1,nsims_test * (nax_h**3), 1)).cuda(dev)\n",
    "            # X_Mdiff_test_FP = torch.Tensor(\n",
    "            #     return_dict_test_FP['M_diff_halos_all_norm_masked'].reshape(1,nsims_test * (nax_h**3), ndim_diff)\n",
    "            #     ).cuda(dev)\n",
    "            Nhalos_truth_tensor_test_FP = torch.Tensor(((return_dict_test_FP['N_halos_all'].reshape(1,nsims_test * (nax_h**3),\n",
    "                                                                                            1)))).cuda(dev)\n",
    "        else:\n",
    "            mask_tensor_M1_test_FP = None\n",
    "            mask_tensor_Mdiff_test_FP = None\n",
    "            X_M1_test_FP = None\n",
    "            X_Nhalo_test_FP = None\n",
    "            X_Mdiff_test_FP = None\n",
    "            Nhalos_truth_tensor_test_FP = None\n",
    "\n",
    "        Ntot_samp_test, M1_samp_test, M_diff_samp_test, mask_tensor_M1_samp_test, mask_tensor_Mdiff_samp_test, cond_inp_M1_test = model.inverse(\n",
    "            cond_x=cond_tensor_test,\n",
    "            cond_x_nsh=cond_tensor_nsh_test,\n",
    "            use_truth_Nhalo=1-train_Ntot,\n",
    "                use_truth_M1=1-train_M1,\n",
    "                use_truth_Mdiff=1-train_Mdiff, \n",
    "            mask_Mdiff_truth=mask_tensor_Mdiff_test,\n",
    "            mask_M1_truth=mask_tensor_M1_test,\n",
    "            Nhalos_truth=X_Nhalo_test,\n",
    "            M1_truth=X_M1_test,\n",
    "            Mdiff_truth=X_Mdiff_test,\n",
    "            train_Ntot=train_Ntot,\n",
    "            train_M1=train_M1,\n",
    "            train_Mdiff=train_Mdiff,\n",
    "            x_M1_FP=X_M1_test_FP,   \n",
    "            mask_M1_truth_all_FP=mask_tensor_M1_test_FP \n",
    "            )\n",
    "        Ntot_samp_test = Ntot_samp_test[0][:,np.newaxis]\n",
    "        # print(Ntot_samp_test.shape)\n",
    "        save_subvol_Nhalo[nscount:nscount + nsims_test, ...] = Ntot_samp_test.reshape(nsims_test, nax_h, nax_h, nax_h)\n",
    "        save_subvol_Nhalo_truth[nscount:nscount + nsims_test, ...] = Nhalos_truth_tensor_test.cpu().detach().numpy().reshape(nsims_test, nax_h, nax_h, nax_h)\n",
    "        save_subvol_M1[nscount:nscount + nsims_test,\n",
    "                    ...] = (M1_samp_test[0] * mask_tensor_M1_samp_test[0][:,0]\n",
    "                            ).cpu().detach().numpy().reshape(nsims_test, nax_h, nax_h, nax_h, 1)\n",
    "        save_subvol_M1_truth[nscount:nscount + nsims_test,\n",
    "                    ...] = (X_M1_test[0][:,0] * mask_tensor_M1_test[0]\n",
    "                            ).cpu().detach().numpy().reshape(nsims_test, nax_h, nax_h, nax_h, 1)    \n",
    "        # cond_inp_M1_all[nscount:nscount + nsims_test,\n",
    "        #                ...] = cond_inp_M1_test[0].cpu().detach().numpy().reshape(nsims_test, nax_h, nax_h, nax_h, nfeatures_M1_tot)\n",
    "        # density_out_M1_loc_all_pad[nscount:nscount + nsims_test,...] = (cond_tensor_test[0,:,0,...].cpu().detach().numpy())\n",
    "        # density_out_M1_loc_all[nscount:nscount + nsims_test,...] = (cond_nsh_test[0,...,0])\n",
    "\n",
    "        save_subvol_Mdiff[nscount:nscount + nsims_test,\n",
    "                        ...] = (M_diff_samp_test[0] * mask_tensor_Mdiff_samp_test[0]\n",
    "                                ).cpu().detach().numpy().reshape(nsims_test, nax_h, nax_h, nax_h, ndim_diff)\n",
    "        \n",
    "        save_subvol_Mdiff_truth[nscount:nscount + nsims_test,\n",
    "                        ...] = (X_Mdiff_test[0] * mask_tensor_Mdiff_test[0]\n",
    "                                ).cpu().detach().numpy().reshape(nsims_test, nax_h, nax_h, nax_h, ndim_diff)\n",
    "        \n",
    "        mask_subvol_Mtot[nscount:nscount + nsims_test, ...,\n",
    "                        0] = mask_tensor_M1_samp_test[0].cpu().detach().numpy().reshape(nsims_test, nax_h, nax_h, nax_h)\n",
    "        mask_subvol_Mtot[\n",
    "            nscount:nscount + nsims_test, ...,\n",
    "            1:] = mask_tensor_Mdiff_samp_test[0].cpu().detach().numpy().reshape(nsims_test, nax_h, nax_h, nax_h, ndim_diff)\n",
    "\n",
    "        mask_subvol_Mtot_truth[nscount:nscount + nsims_test, ...,\n",
    "                        0] = mask_tensor_M1_test[0].cpu().detach().numpy().reshape(nsims_test, nax_h, nax_h, nax_h)\n",
    "        mask_subvol_Mtot_truth[\n",
    "            nscount:nscount + nsims_test, ...,\n",
    "            1:] = mask_tensor_Mdiff_test[0].cpu().detach().numpy().reshape(nsims_test, nax_h, nax_h, nax_h, ndim_diff)\n",
    "        \n",
    "        \n",
    "        cond_z0_truth[nscount:nscount + nsims_test, ...] = cond_tensor_nsh_test[0].cpu().detach().numpy().reshape(nsims_test, nax_h, nax_h, nax_h, ninp)[...,0]\n",
    "        # print(nscount, nscount + nsims_test)\n",
    "\n",
    "        nscount += nsims_test\n",
    "        torch.cuda.empty_cache()\n",
    "\n",
    "\n",
    "    save_subvol_Mtot = np.zeros((nb**3, nax_h, nax_h, nax_h, ndim_diff + 1))\n",
    "    Mmin, Mmax = return_dict_test['Mmin'], return_dict_test['Mmax']\n",
    "    for jd in range(ndim_diff + 1):\n",
    "        if jd == 0:\n",
    "            save_subvol_Mtot[..., jd] = (save_subvol_M1[..., 0] + 0.5) * (Mmax - Mmin) + Mmin\n",
    "        else:\n",
    "            save_subvol_Mtot[...,\n",
    "                            jd] = (save_subvol_Mtot[..., jd - 1]) - (save_subvol_Mdiff[..., jd - 1]) * (Mmax - Mmin)\n",
    "\n",
    "\n",
    "    save_subvol_Mtot *= mask_subvol_Mtot\n",
    "\n",
    "    ind_less_Mmin = save_subvol_Mtot < Mmin\n",
    "    ind_greater_Mmax = save_subvol_Mtot > Mmax\n",
    "    save_subvol_Mtot[ind_less_Mmin] = 0.0\n",
    "    save_subvol_Mtot[ind_greater_Mmax] = 0.0\n",
    "\n",
    "\n",
    "    save_subvol_Mtot_truth = np.zeros((nb**3, nax_h, nax_h, nax_h, ndim_diff + 1))\n",
    "    Mmin, Mmax = return_dict_test['Mmin'], return_dict_test['Mmax']\n",
    "    for jd in range(ndim_diff + 1):\n",
    "        if jd == 0:\n",
    "            save_subvol_Mtot_truth[..., jd] = (save_subvol_M1_truth[..., 0] + 0.5) * (Mmax - Mmin) + Mmin\n",
    "        else:\n",
    "            save_subvol_Mtot_truth[...,\n",
    "                            jd] = (save_subvol_Mtot_truth[..., jd - 1]) - (save_subvol_Mdiff_truth[..., jd - 1]) * (Mmax - Mmin)\n",
    "\n",
    "\n",
    "    save_subvol_Mtot_truth *= mask_subvol_Mtot_truth\n",
    "                \n",
    "\n",
    "    sdir='/mnt/home/spandey/ceph/Quijote/data_NGP_self'\n",
    "    # load the halo data\n",
    "    if is_HR:\n",
    "        fname = sdir + '/' + str(isim) + '/halos_HR_' + str(mass_type) + '_lgMmincut_' + lgMmincutstr + '_subvol_res_' + str(ns_h) + '_z=0.pk'\n",
    "    else:\n",
    "        fname = sdir + '/' + str(isim) + '/halos_' + str(mass_type) + '_lgMmincut_' + lgMmincutstr + '_subvol_res_' + str(ns_h) + '_z=0.pk'\n",
    "    df_h_subvol = pk.load(open(fname, 'rb'))\n",
    "    # This has information on the halo mass for all the halos in the voxel\n",
    "    df_Mh_all_truth = df_h_subvol['M_halos']\n",
    "    df_Mh_all_truth = np.flip(np.sort(df_Mh_all_truth, axis=-1), axis=-1)\n",
    "    # This has information on the number of halos in the voxel\n",
    "    df_Nh_truth = df_h_subvol['N_halos']\n",
    "\n",
    "    if is_HR:\n",
    "        fname = sdir + '/' + str(isim) + '/halos_HR_' + str(mass_type) + '_lgMmincut_' + lgMmincutstr + '_full_res_' + str(ns_h) + '_z=0.pk'\n",
    "    else:\n",
    "        fname = sdir + '/' + str(isim) + '/halos_' + str(mass_type) + '_lgMmincut_' + lgMmincutstr + '_full_res_' + str(ns_h) + '_z=0.pk'\n",
    "    df_h_full = pk.load(open(fname, 'rb'))\n",
    "    df_Mh_all_truth_comb, df_Nh_truth_comb = df_h_full['M_halos_combined'], df_h_full['N_halos_combined']\n",
    "\n",
    "    delta_all_z0 = np.exp(df_d_all_nsh_test[:,0,...])-1\n",
    "\n",
    "    bin_cents = np.array(np.arange(Nmax + 1))\n",
    "    bin_edges = 0.5*(bin_cents[1:] + bin_cents[:-1])\n",
    "    bin_edges = np.insert(bin_edges,0, -0.5)\n",
    "    bin_edges = np.insert(bin_edges,len(bin_edges), bin_cents[-1] + 0.5)\n",
    "    saved_all_jsim['Nhalo_bin_cents'] = bin_cents\n",
    "    saved_all_jsim['Nhalo_bin_edges'] = bin_edges\n",
    "\n",
    "    delta_min_p, delta_max_p= -1.0, 500\n",
    "    indsel_dp = np.where((delta_all_z0 > delta_min_p) & (delta_all_z0 < delta_max_p))    \n",
    "    hist_truth_all, _ = np.histogram(df_Nh_truth[indsel_dp], bins=bin_edges)\n",
    "    hist_samp_all, _ = np.histogram(save_subvol_Nhalo[indsel_dp].flatten(), bins=bin_edges)\n",
    "    saved_all_jsim['hist_truth_all_Nhalo'] = hist_truth_all\n",
    "    saved_all_jsim['hist_samp_all_Nhalo'] = hist_samp_all\n",
    "    print(hist_samp_all)\n",
    "    print(hist_truth_all)\n",
    "\n",
    "    delta_min_p, delta_max_p= -1.0, 0\n",
    "    indsel_dp = np.where((delta_all_z0 > delta_min_p) & (delta_all_z0 < delta_max_p))    \n",
    "    hist_truth_low, _ = np.histogram(df_Nh_truth[indsel_dp], bins=bin_edges)\n",
    "    hist_samp_low, _ = np.histogram(save_subvol_Nhalo[indsel_dp].flatten(), bins=bin_edges)\n",
    "    saved_all_jsim['hist_truth_low_Nhalo'] = hist_truth_low\n",
    "    saved_all_jsim['hist_samp_low_Nhalo'] = hist_samp_low\n",
    "\n",
    "    delta_min_p, delta_max_p= 0.0, 2.0\n",
    "    indsel_dp = np.where((delta_all_z0 > delta_min_p) & (delta_all_z0 < delta_max_p))    \n",
    "    hist_truth_mid, _ = np.histogram(df_Nh_truth[indsel_dp], bins=bin_edges)\n",
    "    hist_samp_mid, _ = np.histogram(save_subvol_Nhalo[indsel_dp].flatten(), bins=bin_edges)\n",
    "    saved_all_jsim['hist_truth_mid_Nhalo'] = hist_truth_mid\n",
    "    saved_all_jsim['hist_samp_mid_Nhalo'] = hist_samp_mid\n",
    "\n",
    "    delta_min_p, delta_max_p= 2.0, 500\n",
    "    indsel_dp = np.where((delta_all_z0 > delta_min_p) & (delta_all_z0 < delta_max_p))    \n",
    "    hist_truth_high, _ = np.histogram(df_Nh_truth[indsel_dp], bins=bin_edges)\n",
    "    hist_samp_high, _ = np.histogram(save_subvol_Nhalo[indsel_dp].flatten(), bins=bin_edges)\n",
    "    saved_all_jsim['hist_truth_high_Nhalo'] = hist_truth_high\n",
    "    saved_all_jsim['hist_samp_high_Nhalo'] = hist_samp_high\n",
    "\n",
    "\n",
    "    delta_all_z0 = np.exp(df_d_all_nsh_test[:,0,...])-1\n",
    "    bin_cents_M = np.linspace(lgMmin, lgMmax, 20)[1:-1]\n",
    "    bin_edges_M = 0.5*(bin_cents_M[1:] + bin_cents_M[:-1])\n",
    "    delta_b = 0.5*(bin_cents_M[1] - bin_cents_M[0])\n",
    "    bin_edges_M = np.insert(bin_edges_M,0, bin_cents_M[0] - delta_b)\n",
    "    bin_edges_M = np.insert(bin_edges_M,len(bin_edges_M), bin_cents_M[-1] - delta_b)\n",
    "    saved_all_jsim['Mhalo_bin_cents'] = bin_cents_M\n",
    "    saved_all_jsim['Mhalo_bin_edges'] = bin_edges_M\n",
    "\n",
    "\n",
    "    delta_min_p, delta_max_p = -1.0, 500.0\n",
    "    indsel_dp = np.where((delta_all_z0 > delta_min_p) & (delta_all_z0 < delta_max_p))\n",
    "    hist_M_truth_all = np.zeros((4, len(bin_cents_M)))\n",
    "    hist_M_samp_all = np.zeros((4, len(bin_cents_M)))    \n",
    "    for idim in range(4):\n",
    "        M_idim_truth = df_Mh_all_truth[..., idim]\n",
    "        hist_truth, _ = np.histogram(M_idim_truth[indsel_dp].flatten(), bins=bin_edges_M)\n",
    "        hist_M_truth_all[idim, :] = hist_truth\n",
    "        \n",
    "        M_idim_samp = save_subvol_Mtot[..., idim]\n",
    "        hist_sampled, _ = np.histogram(M_idim_samp[indsel_dp].flatten(), bins=bin_edges_M)\n",
    "        hist_M_samp_all[idim, :] = hist_sampled\n",
    "    saved_all_jsim['hist_truth_all_Mhalo'] = hist_M_truth_all\n",
    "    saved_all_jsim['hist_samp_all_Mhalo'] = hist_M_samp_all\n",
    "\n",
    "    delta_min_p, delta_max_p = -1.0, 0.0\n",
    "    indsel_dp = np.where((delta_all_z0 > delta_min_p) & (delta_all_z0 < delta_max_p))\n",
    "    hist_M_truth_low = np.zeros((4, len(bin_cents_M)))\n",
    "    hist_M_samp_low = np.zeros((4, len(bin_cents_M)))\n",
    "    for idim in range(4):\n",
    "        M_idim_truth = df_Mh_all_truth[..., idim]\n",
    "        hist_truth, _ = np.histogram(M_idim_truth[indsel_dp].flatten(), bins=bin_edges_M)\n",
    "        hist_M_truth_low[idim, :] = hist_truth\n",
    "        \n",
    "        M_idim_samp = save_subvol_Mtot[..., idim]\n",
    "        hist_sampled, _ = np.histogram(M_idim_samp[indsel_dp].flatten(), bins=bin_edges_M)\n",
    "        hist_M_samp_low[idim, :] = hist_sampled\n",
    "    saved_all_jsim['hist_truth_low_Mhalo'] = hist_M_truth_low\n",
    "    saved_all_jsim['hist_samp_low_Mhalo'] = hist_M_samp_low\n",
    "\n",
    "    delta_min_p, delta_max_p = 0.0, 2.0\n",
    "    indsel_dp = np.where((delta_all_z0 > delta_min_p) & (delta_all_z0 < delta_max_p))\n",
    "    hist_M_truth_mid = np.zeros((4, len(bin_cents_M)))\n",
    "    hist_M_samp_mid = np.zeros((4, len(bin_cents_M)))\n",
    "    for idim in range(4):\n",
    "        M_idim_truth = df_Mh_all_truth[..., idim]\n",
    "        hist_truth, _ = np.histogram(M_idim_truth[indsel_dp].flatten(), bins=bin_edges_M)\n",
    "        hist_M_truth_mid[idim, :] = hist_truth\n",
    "        \n",
    "        M_idim_samp = save_subvol_Mtot[..., idim]\n",
    "        hist_sampled, _ = np.histogram(M_idim_samp[indsel_dp].flatten(), bins=bin_edges_M)\n",
    "        hist_M_samp_mid[idim, :] = hist_sampled\n",
    "    saved_all_jsim['hist_truth_mid_Mhalo'] = hist_M_truth_mid\n",
    "    saved_all_jsim['hist_samp_mid_Mhalo'] = hist_M_samp_mid\n",
    "\n",
    "    delta_min_p, delta_max_p = 2.0, 500.0\n",
    "    indsel_dp = np.where((delta_all_z0 > delta_min_p) & (delta_all_z0 < delta_max_p))\n",
    "    hist_M_truth_high = np.zeros((4, len(bin_cents_M)))\n",
    "    hist_M_samp_high = np.zeros((4, len(bin_cents_M)))\n",
    "    for idim in range(4):\n",
    "        M_idim_truth = df_Mh_all_truth[..., idim]\n",
    "        hist_truth, _ = np.histogram(M_idim_truth[indsel_dp].flatten(), bins=bin_edges_M)\n",
    "        hist_M_truth_high[idim, :] = hist_truth\n",
    "        \n",
    "        M_idim_samp = save_subvol_Mtot[..., idim]\n",
    "        hist_sampled, _ = np.histogram(M_idim_samp[indsel_dp].flatten(), bins=bin_edges_M)\n",
    "        hist_M_samp_high[idim, :] = hist_sampled\n",
    "    saved_all_jsim['hist_truth_high_Mhalo'] = hist_M_truth_high\n",
    "    saved_all_jsim['hist_samp_high_Mhalo'] = hist_M_samp_high\n",
    "\n",
    "    # # import pdb; pdb.set_trace()\n",
    "\n",
    "    # create empty arrays for Nhalos and M_halos\n",
    "    Nhalos = np.zeros((ns_h, ns_h, ns_h))\n",
    "    M_halos = np.zeros((ns_h, ns_h, ns_h, ndim_diff + 1))\n",
    "    M_halos_truth = np.zeros((ns_h, ns_h, ns_h, ndim_diff + 1))\n",
    "\n",
    "    subvol_size = ns_h // nb\n",
    "\n",
    "    ind_cart_lin = {}\n",
    "    ind_lin_cart = {}\n",
    "    jc = 0\n",
    "    from tqdm import tqdm\n",
    "    for jx in tqdm(range(nb)):\n",
    "        for jy in range(nb):\n",
    "            for jz in range(nb):\n",
    "                # get the sub-cube\n",
    "                ind_lin_cart[(jx, jy, jz)] = jc\n",
    "                ind_cart_lin[jc] = [jx, jy, jz]\n",
    "                jc += 1\n",
    "                \n",
    "\n",
    "    # iterate over subvolumes\n",
    "    jc = 0\n",
    "    for jx in range(nb):\n",
    "        for jy in range(nb):\n",
    "            for jz in range(nb):\n",
    "                Nhalos[jx * subvol_size:(jx + 1) * subvol_size, jy * subvol_size:(jy + 1) * subvol_size,\n",
    "                    jz * subvol_size:(jz + 1) * subvol_size] = save_subvol_Nhalo[ind_lin_cart[(jx, jy, jz)]]\n",
    "\n",
    "                M_halos[jx * subvol_size:(jx + 1) * subvol_size, jy * subvol_size:(jy + 1) * subvol_size,\n",
    "                        jz * subvol_size:(jz + 1) * subvol_size, :] = save_subvol_Mtot[ind_lin_cart[(jx, jy, jz)]]\n",
    "                \n",
    "                \n",
    "                jc += 1\n",
    "                \n",
    "                \n",
    "    \n",
    "    # create empty arrays for Nhalos and M_halos\n",
    "    Nhalos_truth_recomb = np.zeros((ns_h, ns_h, ns_h))\n",
    "    M_halos_truth_recomb = np.zeros((ns_h, ns_h, ns_h, ndim_diff + 1))\n",
    "\n",
    "    subvol_size = ns_h // nb\n",
    "\n",
    "    ind_cart_lin = {}\n",
    "    ind_lin_cart = {}\n",
    "    jc = 0\n",
    "    from tqdm import tqdm\n",
    "    for jx in tqdm(range(nb)):\n",
    "        for jy in range(nb):\n",
    "            for jz in range(nb):\n",
    "                # get the sub-cube\n",
    "                ind_lin_cart[(jx, jy, jz)] = jc\n",
    "                ind_cart_lin[jc] = [jx, jy, jz]\n",
    "                jc += 1\n",
    "                \n",
    "\n",
    "    # iterate over subvolumes\n",
    "    jc = 0\n",
    "    for jx in range(nb):\n",
    "        for jy in range(nb):\n",
    "            for jz in range(nb):\n",
    "                Nhalos_truth_recomb[jx * subvol_size:(jx + 1) * subvol_size, jy * subvol_size:(jy + 1) * subvol_size,\n",
    "                    jz * subvol_size:(jz + 1) * subvol_size] = df_Nh_truth[ind_lin_cart[(jx, jy, jz)]]\n",
    "\n",
    "                M_halos_truth_recomb[jx * subvol_size:(jx + 1) * subvol_size, jy * subvol_size:(jy + 1) * subvol_size,\n",
    "                        jz * subvol_size:(jz + 1) * subvol_size, :] = df_Mh_all_truth[ind_lin_cart[(jx, jy, jz)]]\n",
    "                \n",
    "                \n",
    "                jc += 1\n",
    "                \n",
    "\n",
    "    # create the meshgrid\n",
    "    zv = 0.0\n",
    "    av = 1. / (1 + zv)\n",
    "    xall = (np.linspace(0, 1000, ns_h + 1))\n",
    "    xarray = av * 0.5 * (xall[1:] + xall[:-1])\n",
    "    yarray = np.copy(xarray)\n",
    "    zarray = np.copy(xarray)\n",
    "    x_cy, y_cy, z_cy = np.meshgrid(xarray, yarray, zarray, indexing='ij')\n",
    "\n",
    "\n",
    "    # create the meshgrid\n",
    "    zv = 0.0\n",
    "    av = 1. / (1 + zv)\n",
    "    xall = (np.linspace(0, 1000, ns_h + 1))\n",
    "    xarray = av * 0.5 * (xall[1:] + xall[:-1])\n",
    "    dx = (xall[1] - xall[0])\n",
    "    yarray = np.copy(xarray)\n",
    "    zarray = np.copy(xarray)\n",
    "    x_cy, y_cy, z_cy = np.meshgrid(xarray, yarray, zarray, indexing='ij')\n",
    "\n",
    "    x_h_mock, y_h_mock, z_h_mock, lgM_mock = [], [], [], []\n",
    "    k = 0\n",
    "    for jx in range(ns_h):\n",
    "        for jy in range(ns_h):\n",
    "            for jz in range(ns_h):\n",
    "                    Nh_vox = int(Nhalos[jx, jy, jz])\n",
    "                    if Nh_vox > 0:\n",
    "                        x_h_mock.append(x_cy[jx, jy, jz]*np.ones(Nh_vox))\n",
    "                        y_h_mock.append(y_cy[jx, jy, jz]*np.ones(Nh_vox))\n",
    "                        z_h_mock.append(z_cy[jx, jy, jz]*np.ones(Nh_vox))\n",
    "                        \n",
    "                        lgM_mock.append((M_halos[jx, jy, jz, :Nh_vox]))\n",
    "                        k += Nh_vox\n",
    "\n",
    "    # convert to numpy arrays\n",
    "    x_h_mock = np.concatenate(x_h_mock)\n",
    "    y_h_mock = np.concatenate(y_h_mock)\n",
    "    z_h_mock = np.concatenate(z_h_mock)\n",
    "    pos_h_mock = np.vstack((x_h_mock, y_h_mock, z_h_mock)).T\n",
    "    lgMass_mock = np.concatenate(lgM_mock)\n",
    "    # convert to float data type\n",
    "    pos_h_mock = pos_h_mock.astype('float32')\n",
    "    lgMass_mock = lgMass_mock.astype('float32')\n",
    "\n",
    "\n",
    "    # sdir='/mnt/home/spandey/ceph/Quijote/data_NGP_self'\n",
    "    # # load the halo data\n",
    "    # fname = sdir + '/' + str(isim) + '/halos_' + str(mass_type) + '_subvol_res_' + str(ns_h) + '_z=0.pk'\n",
    "    # df_h = pk.load(open(fname, 'rb'))\n",
    "    # # This has information on the halo mass for all the halos in the voxel\n",
    "    # df_Mh_all_truth = df_h['M_halos']\n",
    "    # df_Mh_all_truth = np.flip(np.sort(df_Mh_all_truth, axis=-1), axis=-1)\n",
    "    # # This has information on the number of halos in the voxel\n",
    "    # df_Nh_truth = df_h['N_halos']\n",
    "\n",
    "    # fname = sdir + '/' + str(isim) + '/halos_' + str(mass_type) + '_full_res_' + str(ns_h) + '_z=0.pk'\n",
    "    # df_h = pk.load(open(fname, 'rb'))\n",
    "    # df_Mh_all_truth_comb, df_Nh_truth_comb = df_h['M_halos_combined'], df_h['N_halos_combined']\n",
    "\n",
    "    # create the meshgrid\n",
    "    zv = 0.0\n",
    "    av = 1. / (1 + zv)\n",
    "    xall = (np.linspace(0, 1000, ns_h + 1))\n",
    "    xarray = av * 0.5 * (xall[1:] + xall[:-1])\n",
    "    dx = (xall[1] - xall[0])\n",
    "    yarray = np.copy(xarray)\n",
    "    zarray = np.copy(xarray)\n",
    "    x_cy, y_cy, z_cy = np.meshgrid(xarray, yarray, zarray, indexing='ij')\n",
    "\n",
    "    x_h_truth, y_h_truth, z_h_truth, lgM_truth = [], [], [], []\n",
    "    for jx in range(ns_h):\n",
    "        for jy in range(ns_h):\n",
    "            for jz in range(ns_h):\n",
    "                    Nh_vox = int(df_Nh_truth_comb[jx, jy, jz])\n",
    "                    if Nh_vox > 0:\n",
    "                        x_h_truth.append(x_cy[jx, jy, jz]*np.ones(Nh_vox))\n",
    "                        y_h_truth.append(y_cy[jx, jy, jz]*np.ones(Nh_vox))\n",
    "                        z_h_truth.append(z_cy[jx, jy, jz]*np.ones(Nh_vox))\n",
    "                        \n",
    "                        lgM_truth.append((df_Mh_all_truth_comb[jx, jy, jz, :Nh_vox]))\n",
    "\n",
    "    # convert to numpy arrays\n",
    "    x_h_truth = np.concatenate(x_h_truth)\n",
    "    y_h_truth = np.concatenate(y_h_truth)\n",
    "    z_h_truth = np.concatenate(z_h_truth)\n",
    "    pos_h_truth = np.vstack((x_h_truth, y_h_truth, z_h_truth)).T\n",
    "    lgMass_truth = np.concatenate(lgM_truth)\n",
    "    # convert to float data type\n",
    "    pos_h_truth = pos_h_truth.astype('float32')\n",
    "    lgMass_truth = lgMass_truth.astype('float32')\n",
    "\n",
    "    grid    = ns_h    #the 3D field will have grid x grid x grid voxels\n",
    "    BoxSize = 1000.0 #Mpc/h ; size of box\n",
    "    MAS     = 'NGP'  #mass-assigment scheme\n",
    "    verbose = False   #print information on progress\n",
    "\n",
    "    # Mmin_Pk_all = np.array([13.0, 13.0, 13.5, 14.0, 14.5])\n",
    "    # Mmax_Pk_all = np.array([16.0, 13.5, 14.0, 14.5, 15.0])\n",
    "    Mmin_Pk_all = np.log10(np.array([1e13, 5e13, 7e13, 1e14, 5e14]))\n",
    "    Mmax_Pk_all = np.log10(np.array([1e16, 7e13, 1e14, 5e14, 1e15]))  \n",
    "    Mmin_Pk_all[0] = -1.0\n",
    "\n",
    "    saved_Pk_Bk = {}\n",
    "\n",
    "    for j in range(len(Mmin_Pk_all)):\n",
    "        saved_j = {}\n",
    "        Mmin_Pk, Mmax_Pk = Mmin_Pk_all[j], Mmax_Pk_all[j]\n",
    "        indsel_Pk_truth = np.where((lgMass_truth > Mmin_Pk) & (lgMass_truth < Mmax_Pk))[0]\n",
    "        mesh_truth2 = np.zeros((grid, grid, grid), dtype=np.float32)\n",
    "        pos_truth2 = (pos_h_truth[indsel_Pk_truth,...]).astype(np.float32)\n",
    "        MASL.MA(pos_truth2, mesh_truth2, BoxSize, MAS)\n",
    "        mesh_truth2 /= np.mean(mesh_truth2, dtype=np.float64);  mesh_truth2 -= 1.0\n",
    "        Pk_truth2 = PKL.Pk(mesh_truth2, BoxSize, axis=0, MAS=None, threads=1)\n",
    "\n",
    "        indsel_Pk_mock = np.where((lgMass_mock > Mmin_Pk) & (lgMass_mock < Mmax_Pk))[0]\n",
    "        mesh_mock = np.zeros((grid, grid, grid), dtype=np.float32)\n",
    "        pos_mock = (pos_h_mock[indsel_Pk_mock,...]).astype(np.float32)\n",
    "        MASL.MA(pos_mock, mesh_mock, BoxSize, MAS)\n",
    "        mesh_mock /= np.mean(mesh_mock, dtype=np.float64);  mesh_mock -= 1.0\n",
    "        Pk_mock = PKL.Pk(mesh_mock, BoxSize, axis=0, MAS=None, threads=1)    \n",
    "\n",
    "        Pk_mockxtruth2 = PKL.XPk([mesh_truth2,mesh_mock], BoxSize, axis=0, MAS=[None, None], threads=1)\n",
    "\n",
    "        saved_j['Pk_truth'] = Pk_truth2.Pk[:,0]\n",
    "        saved_j['Pk_mock'] = Pk_mock.Pk[:,0]\n",
    "        saved_j['Pk_mockxtruth'] = Pk_mockxtruth2.XPk[:,0,0]\n",
    "        saved_j['k_Pk'] = Pk_mockxtruth2.k3D\n",
    "        \n",
    "\n",
    "    #     BoxSize = 1000.0 #Size of the density field in Mpc/h\n",
    "    #     threads = 1\n",
    "    #     theta   = np.linspace(0, np.pi, 16) #array with the angles between k1 and k2\n",
    "    #     saved_j['theta'] = theta\n",
    "\n",
    "    #     k1 = 0.03\n",
    "    #     k2 = 0.03\n",
    "    #     BBk = PKL.Bk(mesh_truth2, BoxSize, k1, k2, theta, None, threads)\n",
    "    #     Bk_truth_k0p03  = BBk.B     #bispectrum\n",
    "    #     Qk_truth_k0p03  = BBk.Q     #reduced bispectrum\n",
    "    #     BBk = PKL.Bk(mesh_mock, BoxSize, k1, k2, theta, None, threads)\n",
    "    #     Bk_mock_k0p03  = BBk.B     #bispectrum\n",
    "    #     Qk_mock_k0p03  = BBk.Q     #reduced bispectrum\n",
    "\n",
    "    #     saved_j['Bk_truth_k0p03'] = Bk_truth_k0p03\n",
    "    #     saved_j['Qk_truth_k0p03'] = Qk_truth_k0p03\n",
    "    #     saved_j['Bk_mock_k0p03'] = Bk_mock_k0p03\n",
    "    #     saved_j['Qk_mock_k0p03'] = Qk_mock_k0p03\n",
    "\n",
    "\n",
    "    #     k1 = 0.06\n",
    "    #     k2 = 0.06\n",
    "    #     BBk = PKL.Bk(mesh_truth2, BoxSize, k1, k2, theta, None, threads)\n",
    "    #     Bk_truth_k0p06  = BBk.B     #bispectrum\n",
    "    #     Qk_truth_k0p06  = BBk.Q     #reduced bispectrum\n",
    "    #     BBk = PKL.Bk(mesh_mock, BoxSize, k1, k2, theta, None, threads)\n",
    "    #     Bk_mock_k0p06  = BBk.B     #bispectrum\n",
    "    #     Qk_mock_k0p06  = BBk.Q     #reduced bispectrum\n",
    "\n",
    "    #     saved_j['Bk_truth_k0p06'] = Bk_truth_k0p06\n",
    "    #     saved_j['Qk_truth_k0p06'] = Qk_truth_k0p06\n",
    "    #     saved_j['Bk_mock_k0p06'] = Bk_mock_k0p06\n",
    "    #     saved_j['Qk_mock_k0p06'] = Qk_mock_k0p06\n",
    "\n",
    "    #     k1 = 0.1\n",
    "    #     k2 = 0.1\n",
    "    #     BBk = PKL.Bk(mesh_truth2, BoxSize, k1, k2, theta, None, threads)\n",
    "    #     Bk_truth_k0p1  = BBk.B     #bispectrum\n",
    "    #     Qk_truth_k0p1  = BBk.Q     #reduced bispectrum\n",
    "    #     BBk = PKL.Bk(mesh_mock, BoxSize, k1, k2, theta, None, threads)\n",
    "    #     Bk_mock_k0p1  = BBk.B     #bispectrum\n",
    "    #     Qk_mock_k0p1  = BBk.Q     #reduced bispectrum\n",
    "\n",
    "    #     saved_j['Bk_truth_k0p1'] = Bk_truth_k0p1\n",
    "    #     saved_j['Qk_truth_k0p1'] = Qk_truth_k0p1\n",
    "    #     saved_j['Bk_mock_k0p1'] = Bk_mock_k0p1\n",
    "    #     saved_j['Qk_mock_k0p1'] = Qk_mock_k0p1\n",
    "\n",
    "\n",
    "    #     k1 = 0.2\n",
    "    #     k2 = 0.2\n",
    "    #     BBk = PKL.Bk(mesh_truth2, BoxSize, k1, k2, theta, None, threads)\n",
    "    #     Bk_truth_k0p2  = BBk.B     #bispectrum\n",
    "    #     Qk_truth_k0p2  = BBk.Q     #reduced bispectrum\n",
    "    #     BBk = PKL.Bk(mesh_mock, BoxSize, k1, k2, theta, None, threads)\n",
    "    #     Bk_mock_k0p2  = BBk.B     #bispectrum\n",
    "    #     Qk_mock_k0p2  = BBk.Q     #reduced bispectrum\n",
    "\n",
    "    #     saved_j['Bk_truth_k0p2'] = Bk_truth_k0p2\n",
    "    #     saved_j['Qk_truth_k0p2'] = Qk_truth_k0p2\n",
    "    #     saved_j['Bk_mock_k0p2'] = Bk_mock_k0p2\n",
    "    #     saved_j['Qk_mock_k0p2'] = Qk_mock_k0p2\n",
    "\n",
    "\n",
    "    #     k1 = 0.3\n",
    "    #     k2 = 0.3\n",
    "    #     BBk = PKL.Bk(mesh_truth2, BoxSize, k1, k2, theta, None, threads)\n",
    "    #     Bk_truth_k0p3  = BBk.B     #bispectrum\n",
    "    #     Qk_truth_k0p3  = BBk.Q     #reduced bispectrum\n",
    "    #     BBk = PKL.Bk(mesh_mock, BoxSize, k1, k2, theta, None, threads)\n",
    "    #     Bk_mock_k0p3  = BBk.B     #bispectrum\n",
    "    #     Qk_mock_k0p3  = BBk.Q     #reduced bispectrum\n",
    "\n",
    "    #     saved_j['Bk_truth_k0p3'] = Bk_truth_k0p3\n",
    "    #     saved_j['Qk_truth_k0p3'] = Qk_truth_k0p3\n",
    "    #     saved_j['Bk_mock_k0p3'] = Bk_mock_k0p3\n",
    "    #     saved_j['Qk_mock_k0p3'] = Qk_mock_k0p3\n",
    "\n",
    "    #     # k1 = 0.4\n",
    "    #     # k2 = 0.4\n",
    "    #     # BBk = PKL.Bk(mesh_truth2, BoxSize, k1, k2, theta, None, threads)\n",
    "    #     # Bk_truth_k0p4  = BBk.B     #bispectrum\n",
    "    #     # Qk_truth_k0p4  = BBk.Q     #reduced bispectrum\n",
    "    #     # BBk = PKL.Bk(mesh_mock, BoxSize, k1, k2, theta, None, threads)\n",
    "    #     # Bk_mock_k0p4  = BBk.B     #bispectrum\n",
    "    #     # Qk_mock_k0p4  = BBk.Q     #reduced bispectrum\n",
    "\n",
    "    #     # saved_j['Bk_truth_k0p4'] = Bk_truth_k0p4\n",
    "    #     # saved_j['Qk_truth_k0p4'] = Qk_truth_k0p4\n",
    "    #     # saved_j['Bk_mock_k0p4'] = Bk_mock_k0p4\n",
    "    #     # saved_j['Qk_mock_k0p4'] = Qk_mock_k0p4\n",
    "    \n",
    "        saved_Pk_Bk[j] = saved_j\n",
    "\n",
    "    saved_all_jsim['Pk_Bk'] = saved_Pk_Bk\n",
    "\n",
    "    # # # sdir = '/mnt/home/spandey/ceph/AR_NPE/notebooks/SUMMARY_STATS_FIDSIMS_TEST_stype_' + str(stype) + '_mtype_' + str(mass_type) + '_condsim_' + str(cond_sim) + '/'\n",
    "    # # # sdir = '/mnt/home/spandey/ceph/AR_NPE/notebooks/SUMMARY_STATS_FIDSIMS_TEST_stype_' + str(stype) + '_mtype_' + str(mass_type) + '_condsim_' + str(cond_sim) + '_nc_' + str(nc) + '/'    \n",
    "    # # sdir = '/mnt/home/spandey/ceph/AR_NPE/notebooks/SUMMARY_STATS_FIDSIMS_TEST_stype_' + str(stype) + '_mtype_' + str(mass_type) + '_condsim_' + str(cond_sim) + '_nc_' + str(nc) + '_wL2norm_highknots' + '/'    \n",
    "    # # print(sdir)\n",
    "    # # # make directory if doesn't exist:\n",
    "    # # if not os.path.exists(sdir):\n",
    "    # #     os.makedirs(sdir)\n",
    "    # # import pickle as pk\n",
    "    # # fname = sdir + '/summary_stats_jsim_' + str(isim) + '.pk'\n",
    "    # # pk.dump(saved_all_jsim, open(fname, 'wb'))\n",
    "\n",
    "                    \n",
    "\n",
    "\n",
    "\n",
    "\n",
    "\n",
    "\n"
   ]
  },
  {
   "cell_type": "code",
   "execution_count": 51,
   "metadata": {},
   "outputs": [],
   "source": [
    "# # model_Ntot\n",
    "# # base_dist_Ntot\n",
    "# # 203968/1817977 \n",
    "# cond_out = model.conv_layers(cond_tensor_jd[0])\n",
    "# cond_out = torch.cat((cond_out, cond_tensor_nsh_jd[0]), dim=1)\n",
    "# # if self.sep_Ntot_cond:\n",
    "# cond_out_Ntot = model.cond_Ntot_layer(cond_out)\n",
    "\n",
    "# Ntot_samp_tensor = model_Ntot.inverse(cond_out_Ntot)\n",
    "# pl.figure()\n",
    "# _ = pl.hist(Ntot_samp_tensor.cpu().detach().numpy(), bins=100, density=True, alpha=0.5)\n",
    "# _ = pl.hist(Nhalos_truth_tensor_jd[0,...].cpu().detach().numpy(), bins=100, density=True, alpha=0.5)\n",
    "# pl.yscale('log')\n"
   ]
  },
  {
   "cell_type": "code",
   "execution_count": 48,
   "metadata": {},
   "outputs": [
    {
     "data": {
      "image/png": "[encoded data removed]",
      "text/plain": [
       "<Figure size 1000x500 with 2 Axes>"
      ]
     },
     "metadata": {},
     "output_type": "display_data"
    }
   ],
   "source": [
    "# pl.figure()\n",
    "# pl.imshow(Nhalos[64,...])\n",
    "# make it a two panel figure:\n",
    "pl.figure(figsize=(10, 5))\n",
    "pl.subplot(121)\n",
    "pl.imshow(Nhalos[64,...])\n",
    "pl.xlim(20,40)\n",
    "pl.ylim(20,40)\n",
    "\n",
    "pl.subplot(122)\n",
    "pl.imshow(Nhalos_truth_recomb[64,...])\n",
    "pl.xlim(20,40)\n",
    "pl.ylim(20,40)\n",
    "pl.show()\n",
    "\n",
    "\n"
   ]
  },
  {
   "cell_type": "code",
   "execution_count": 60,
   "metadata": {},
   "outputs": [
    {
     "data": {
      "image/png": "[encoded data removed]",
      "text/plain": [
       "<Figure size 1000x500 with 2 Axes>"
      ]
     },
     "metadata": {},
     "output_type": "display_data"
    }
   ],
   "source": [
    "# pl.figure()\n",
    "# pl.imshow(Nhalos[64,...])\n",
    "# make it a two panel figure:\n",
    "pl.figure(figsize=(10, 5))\n",
    "pl.subplot(121)\n",
    "pl.imshow(Nhalos[64,...])\n",
    "pl.xlim(20,40)\n",
    "pl.ylim(20,40)\n",
    "\n",
    "pl.subplot(122)\n",
    "pl.imshow(Nhalos_truth_recomb[64,...])\n",
    "pl.xlim(20,40)\n",
    "pl.ylim(20,40)\n",
    "pl.show()\n",
    "\n",
    "\n"
   ]
  },
  {
   "cell_type": "code",
   "execution_count": 42,
   "metadata": {},
   "outputs": [
    {
     "data": {
      "text/plain": [
       "<matplotlib.image.AxesImage at 0x155429dd2d30>"
      ]
     },
     "execution_count": 42,
     "metadata": {},
     "output_type": "execute_result"
    },
    {
     "data": {
      "image/png": "[encoded data removed]",
      "text/plain": [
       "<Figure size 640x480 with 1 Axes>"
      ]
     },
     "metadata": {},
     "output_type": "display_data"
    }
   ],
   "source": [
    "pl.figure()\n",
    "pl.imshow(df_Nh_truth_comb[64,...])\n",
    "# Nhalos.shape"
   ]
  },
  {
   "cell_type": "code",
   "execution_count": 64,
   "metadata": {},
   "outputs": [
    {
     "data": {
      "text/plain": [
       "(530036, 524062)"
      ]
     },
     "execution_count": 64,
     "metadata": {},
     "output_type": "execute_result"
    }
   ],
   "source": [
    "# # Nhalos_truth_tensor_jd.shape\n",
    "# if is_HR:\n",
    "#     fname = sdir + '/' + str(isim) + '/halos_HR_' + str(mass_type) + '_lgMmincut_' + lgMmincutstr + '_full_res_' + str(ns_h) + '_z=0.pk'\n",
    "# else:\n",
    "#     fname = sdir + '/' + str(isim) + '/halos_' + str(mass_type) + '_lgMmincut_' + lgMmincutstr + '_full_res_' + str(ns_h) + '_z=0.pk'\n",
    "# np.sum(df_Nh_truth_comb), np.sum(Nhalos)\n",
    "# np.amin(lgMass_truth[lgMass_truth > 0]), np.amin(lgMass_mock[lgMass_mock > 0])\n",
    "# np.amax(lgMass_truth[lgMass_truth > 0]), np.amax(lgMass_mock[lgMass_mock > 0])\n",
    "\n",
    "len(pos_h_mock), len(pos_h_truth)\n",
    "\n"
   ]
  },
  {
   "cell_type": "code",
   "execution_count": 65,
   "metadata": {},
   "outputs": [
    {
     "data": {
      "text/plain": [
       "0.9887290674595688"
      ]
     },
     "execution_count": 65,
     "metadata": {},
     "output_type": "execute_result"
    }
   ],
   "source": [
    "# fname\n",
    "len(pos_h_truth)/len(pos_h_mock)\n"
   ]
  },
  {
   "cell_type": "code",
   "execution_count": 21,
   "metadata": {},
   "outputs": [],
   "source": [
    "import matplotlib.pyplot as pl\n",
    "import matplotlib\n",
    "%matplotlib inline\n",
    "\n",
    "\n"
   ]
  },
  {
   "cell_type": "code",
   "execution_count": 62,
   "metadata": {},
   "outputs": [
    {
     "data": {
      "image/png": "[encoded data removed]",
      "text/plain": [
       "<Figure size 640x480 with 1 Axes>"
      ]
     },
     "metadata": {},
     "output_type": "display_data"
    }
   ],
   "source": [
    "pl.figure()\n",
    "pl.plot(saved_all_jsim['Nhalo_bin_cents'], saved_all_jsim['hist_truth_low_Nhalo'])\n",
    "pl.plot(saved_all_jsim['Nhalo_bin_cents'], saved_all_jsim['hist_samp_low_Nhalo'], ls='--')\n",
    "pl.yscale('log')\n",
    "\n",
    "\n"
   ]
  },
  {
   "cell_type": "code",
   "execution_count": 72,
   "metadata": {},
   "outputs": [
    {
     "data": {
      "image/png": "[encoded data removed]",
      "text/plain": [
       "<Figure size 640x480 with 1 Axes>"
      ]
     },
     "metadata": {},
     "output_type": "display_data"
    }
   ],
   "source": [
    "pl.figure()\n",
    "pl.plot(saved_all_jsim['Nhalo_bin_cents'], saved_all_jsim['hist_truth_low_Nhalo'])\n",
    "pl.plot(saved_all_jsim['Nhalo_bin_cents'], saved_all_jsim['hist_samp_low_Nhalo'], ls='--')\n",
    "pl.yscale('log')\n",
    "\n",
    "\n"
   ]
  },
  {
   "cell_type": "code",
   "execution_count": 22,
   "metadata": {},
   "outputs": [
    {
     "data": {
      "image/png": "[encoded data removed]",
      "text/plain": [
       "<Figure size 640x480 with 1 Axes>"
      ]
     },
     "metadata": {},
     "output_type": "display_data"
    }
   ],
   "source": [
    "pl.figure()\n",
    "pl.plot(saved_all_jsim['Mhalo_bin_cents'], saved_all_jsim['hist_truth_high_Mhalo'][0,:])\n",
    "pl.plot(saved_all_jsim['Mhalo_bin_cents'], saved_all_jsim['hist_samp_high_Mhalo'][0,:], ls='--')\n",
    "pl.yscale('log')\n",
    "\n",
    "\n"
   ]
  },
  {
   "cell_type": "code",
   "execution_count": 27,
   "metadata": {},
   "outputs": [
    {
     "data": {
      "image/png": "[encoded data removed]",
      "text/plain": [
       "<Figure size 640x480 with 1 Axes>"
      ]
     },
     "metadata": {},
     "output_type": "display_data"
    }
   ],
   "source": [
    "pl.figure()\n",
    "pl.plot(saved_all_jsim['Mhalo_bin_cents'], saved_all_jsim['hist_truth_all_Mhalo'][1,:])\n",
    "pl.plot(saved_all_jsim['Mhalo_bin_cents'], saved_all_jsim['hist_samp_all_Mhalo'][1,:], ls='--')\n",
    "pl.yscale('log')\n",
    "\n",
    "\n"
   ]
  },
  {
   "cell_type": "code",
   "execution_count": 67,
   "metadata": {},
   "outputs": [
    {
     "data": {
      "image/png": "[encoded data removed]",
      "text/plain": [
       "<Figure size 640x480 with 1 Axes>"
      ]
     },
     "metadata": {},
     "output_type": "display_data"
    }
   ],
   "source": [
    "pl.figure()\n",
    "pl.plot(saved_all_jsim['Pk_Bk'][0]['k_Pk'], saved_all_jsim['Pk_Bk'][0]['Pk_truth'])\n",
    "pl.plot(saved_all_jsim['Pk_Bk'][0]['k_Pk'], saved_all_jsim['Pk_Bk'][0]['Pk_mock'], ls='--')\n",
    "pl.plot(saved_all_jsim['Pk_Bk'][0]['k_Pk'], saved_all_jsim['Pk_Bk'][0]['Pk_mockxtruth'], ls=':')\n",
    "pl.yscale('log')\n",
    "pl.xscale('log')\n",
    "\n",
    "\n"
   ]
  },
  {
   "cell_type": "code",
   "execution_count": 63,
   "metadata": {},
   "outputs": [
    {
     "data": {
      "image/png": "[encoded data removed]",
      "text/plain": [
       "<Figure size 640x480 with 1 Axes>"
      ]
     },
     "metadata": {},
     "output_type": "display_data"
    }
   ],
   "source": [
    "pl.figure()\n",
    "pl.plot(saved_all_jsim['Pk_Bk'][0]['k_Pk'], saved_all_jsim['Pk_Bk'][0]['Pk_truth'])\n",
    "pl.plot(saved_all_jsim['Pk_Bk'][0]['k_Pk'], saved_all_jsim['Pk_Bk'][0]['Pk_mock'], ls='--')\n",
    "pl.plot(saved_all_jsim['Pk_Bk'][0]['k_Pk'], saved_all_jsim['Pk_Bk'][0]['Pk_mockxtruth'], ls=':')\n",
    "pl.yscale('log')\n",
    "pl.xscale('log')\n",
    "\n"
   ]
  },
  {
   "cell_type": "code",
   "execution_count": 15,
   "metadata": {},
   "outputs": [],
   "source": [
    "sdir='/mnt/home/spandey/ceph/Quijote/data_NGP_self'\n",
    "# load the halo data\n",
    "fname = sdir + '/' + str(isim) + '/halos_' + str(mass_type) + '_lgMmincut_' + lgMmincutstr + '_subvol_res_' + str(ns_h) + '_z=0.pk'\n",
    "df_h_subvol = pk.load(open(fname, 'rb'))\n",
    "# This has information on the halo mass for all the halos in the voxel\n",
    "df_Mh_all_truth = df_h_subvol['M_halos']\n",
    "df_Mh_all_truth = np.flip(np.sort(df_Mh_all_truth, axis=-1), axis=-1)\n",
    "# This has information on the number of halos in the voxel\n",
    "df_Nh_truth = df_h_subvol['N_halos']\n",
    "\n",
    "fname = sdir + '/' + str(isim) + '/halos_' + str(mass_type) + '_lgMmincut_' + lgMmincutstr + '_full_res_' + str(ns_h) + '_z=0.pk'\n",
    "df_h_full = pk.load(open(fname, 'rb'))\n",
    "df_Mh_all_truth_comb, df_Nh_truth_comb = df_h_full['M_halos_combined'], df_h_full['N_halos_combined']\n",
    "\n"
   ]
  },
  {
   "cell_type": "code",
   "execution_count": 16,
   "metadata": {},
   "outputs": [
    {
     "data": {
      "text/plain": [
       "(128, 128, 128, 4)"
      ]
     },
     "execution_count": 16,
     "metadata": {},
     "output_type": "execute_result"
    }
   ],
   "source": [
    "df_Mh_all_truth_comb.shape"
   ]
  },
  {
   "cell_type": "code",
   "execution_count": 17,
   "metadata": {},
   "outputs": [
    {
     "data": {
      "text/plain": [
       "(512, 16, 16, 16, 4)"
      ]
     },
     "execution_count": 17,
     "metadata": {},
     "output_type": "execute_result"
    }
   ],
   "source": [
    "df_Mh_all_truth.shape\n"
   ]
  },
  {
   "cell_type": "code",
   "execution_count": 14,
   "metadata": {},
   "outputs": [
    {
     "data": {
      "text/plain": [
       "'/mnt/home/spandey/ceph/Quijote/data_NGP_self/1/halos_fof_lgMmincut_5e13_full_res_128_z=0.pk'"
      ]
     },
     "execution_count": 14,
     "metadata": {},
     "output_type": "execute_result"
    }
   ],
   "source": [
    "fname\n"
   ]
  },
  {
   "cell_type": "code",
   "execution_count": null,
   "metadata": {},
   "outputs": [],
   "source": []
  }
 ],
 "metadata": {
  "kernelspec": {
   "display_name": ".venv",
   "language": "python",
   "name": "python3"
  },
  "language_info": {
   "codemirror_mode": {
    "name": "ipython",
    "version": 3
   },
   "file_extension": ".py",
   "mimetype": "text/x-python",
   "name": "python",
   "nbconvert_exporter": "python",
   "pygments_lexer": "ipython3",
   "version": "3.9.15"
  },
  "orig_nbformat": 4
 },
 "nbformat": 4,
 "nbformat_minor": 2
}
