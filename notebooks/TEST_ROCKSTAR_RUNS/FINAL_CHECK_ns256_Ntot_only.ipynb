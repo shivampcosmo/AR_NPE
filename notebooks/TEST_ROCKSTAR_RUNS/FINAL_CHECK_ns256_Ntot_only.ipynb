{
 "cells": [
  {
   "cell_type": "code",
   "execution_count": 1,
   "metadata": {},
   "outputs": [],
   "source": [
    "import sys, os\n",
    "os.environ[\"CUDA_VISIBLE_DEVICES\"] = \"0\"\n",
    "# import pickle as pk\n",
    "import numpy as np\n",
    "import torch\n",
    "dev = torch.device(\"cuda\")\n",
    "import torch.optim as optim\n",
    "# from torch.distributions import MultivariateNormal\n",
    "# from torch.distributions import Normal\n",
    "root_dir = '/mnt/home/spandey/ceph/AR_NPE/'\n",
    "os.chdir(root_dir)\n",
    "# import colossus\n",
    "import sys, os\n",
    "# append the root_dir to the path\n",
    "sys.path.append(root_dir)\n",
    "from nf.combined_models import COMBINED_Model\n",
    "from nf.all_models import *\n",
    "from nf.utils_data_prep import *\n",
    "# from tqdm import tqdm\n",
    "# import pyyaml\n",
    "from colossus.cosmology import cosmology\n",
    "params = {'flat': True, 'H0': 67.11, 'Om0': 0.3175, 'Ob0': 0.049, 'sigma8': 0.834, 'ns': 0.9624}\n",
    "cosmo = cosmology.setCosmology('myCosmo', **params)\n",
    "# get halo mass function:\n",
    "from colossus.lss import mass_function\n",
    "from tqdm import tqdm\n",
    "    \n",
    "import yaml\n",
    "\n",
    "# autoreload modules\n",
    "%load_ext autoreload\n",
    "%autoreload 2\n",
    "\n"
   ]
  },
  {
   "cell_type": "code",
   "execution_count": 2,
   "metadata": {},
   "outputs": [],
   "source": [
    "import matplotlib\n",
    "%matplotlib inline\n",
    "import matplotlib.pyplot as pl\n"
   ]
  },
  {
   "cell_type": "code",
   "execution_count": 3,
   "metadata": {},
   "outputs": [],
   "source": [
    "# run_config_name = sys.argv[1]\n",
    "# run_config_name = 'run_test_128_condFPM_uniformcic_fof_lgMmin5e13_wL2norm_highknots.yaml'\n",
    "# run_config_name = 'run_Ntot_M1_Mdiff_128_condFPM_uniformcic_fof_lgMmin1e13_wL2norm_highknots.yaml'\n",
    "# run_config_name = 'LONGTRAIN_BARR_run_Ntot_M1_Mdiff_256_condFPMFOF_cic_200c_lgMmin7e12_Nmax5_nc4_nsub512.yaml'\n",
    "# run_config_name = 'LONGTRAIN_BARR_run_Ntot_M1_Mdiff_256_condFPMFOF_cic_200c_lgMmin7e12_Nmax5_nc4.yaml'\n",
    "# run_config_name = 'LONGTRAIN_BARR_run_Ntot_M1_Mdiff_256_condFPM_cic_200c_lgMmin1e13_Nmax5_nc4_hdim6.yaml'\n",
    "run_config_name = 'LONGTRAIN_BARR_run_Ntot_M1_Mdiff_256_condFPM_cic_200c_lgMmin1e13_Nmax5_nc4_hdim5_ns512.yaml'\n",
    "\n",
    "with open(\"/mnt/home/spandey/ceph/AR_NPE/run_configs/\" + run_config_name,\"r\") as file_object:\n",
    "    config=yaml.load(file_object,Loader=yaml.SafeLoader)\n",
    "\n",
    "\n",
    "\n",
    "\n"
   ]
  },
  {
   "cell_type": "code",
   "execution_count": 4,
   "metadata": {},
   "outputs": [],
   "source": [
    "config_sims = config['sim_settings']\n",
    "ji_array = np.arange(int(config_sims['nsims']))\n",
    "ns_d = config_sims['ns_d']\n",
    "nb = config_sims['nb']\n",
    "nax_d =  ns_d // nb\n",
    "nf = config_sims['nf']\n",
    "layers_types = config_sims['layers_types']\n",
    "nc = 0\n",
    "for jl in range(len(layers_types)):\n",
    "    if layers_types[jl] == 'cnn':\n",
    "        nc += 1\n",
    "    elif layers_types[jl] == 'res':\n",
    "        nc += 2\n",
    "    else:\n",
    "        raise ValueError(\"layer type not supported\")\n",
    "\n",
    "z_all = config_sims['z_all']\n",
    "z_all_FP = config_sims['z_all_FP']\n",
    "ns_h = config_sims['ns_h']\n",
    "nax_h = ns_h // nb\n",
    "cond_sim = config_sims['cond_sim']\n",
    "\n",
    "nsims_per_batch = config_sims['nsims_per_batch']\n",
    "nbatches_train = config_sims['nbatches_train']\n",
    "\n",
    "mass_type = config_sims['mass_type']\n",
    "lgMmin = config_sims['lgMmin']\n",
    "lgMmax = config_sims['lgMmax']\n",
    "stype = config_sims['stype']\n",
    "rescale_sub = config_sims['rescale_sub']\n",
    "lgMmincutstr = config_sims['lgMmincutstr']\n",
    "subsel_highM1 = config_sims['subsel_highM1']\n",
    "nsubsel = config_sims['nsubsel']\n",
    "is_HR = config_sims['is_HR']\n",
    "\n",
    "try:\n",
    "    Nmax = config_sims['Nmax']\n",
    "except:\n",
    "    Nmax = 4\n",
    "\n",
    "config_net = config['network_settings']\n",
    "hidden_dim_MAF = config_net['hidden_dim_MAF']\n",
    "learning_rate = config_net['learning_rate']\n",
    "K_M1 = config_net['K_M1']\n",
    "B_M1 = config_net['B_M1']\n",
    "nflows_M1_NSF = config_net['nflows_M1_NSF']\n",
    "\n",
    "K_Mdiff = config_net['K_Mdiff']\n",
    "B_Mdiff = config_net['B_Mdiff']\n",
    "nflows_Mdiff_NSF = config_net['nflows_Mdiff_NSF']\n",
    "\n",
    "base_dist_Ntot = config_net['base_dist_Ntot']\n",
    "if base_dist_Ntot == 'None':\n",
    "    base_dist_Ntot = None\n",
    "base_dist_M1 = config_net['base_dist_M1']\n",
    "base_dist_Mdiff = config_net['base_dist_Mdiff']\n",
    "ngauss_M1 = config_net['ngauss_M1']\n",
    "\n",
    "changelr = config_net['changelr']\n",
    "ksize = nf\n",
    "nfeature_cnn = config_net['nfeature_cnn']\n",
    "nout_cnn = 4 * nfeature_cnn\n",
    "if cond_sim == 'fastpm':\n",
    "    ninp = len(z_all_FP)\n",
    "elif cond_sim == 'quijote':\n",
    "    ninp = len(z_all)\n",
    "else:\n",
    "    raise ValueError(\"cond_sim not supported\")\n",
    "\n",
    "num_cond = nout_cnn + ninp\n",
    "\n",
    "\n",
    "df_d_all_train, df_d_all_nsh_train, df_Mh_all_train, df_Nh_train, ind_subsel_train = load_density_halo_data_NGP(\n",
    "    ji_array, ns_d, nb, nf, nc, z_all, ns_h,sdir='/mnt/home/spandey/ceph/Quijote/data_NGP_self',\n",
    "    stype=stype, mass_type=mass_type, lgMmincutstr = lgMmincutstr, subsel_highM1=subsel_highM1, nsubsel=nsubsel, is_HR = is_HR\n",
    "    )\n",
    "\n",
    "# # Prepare the density and halo data\n",
    "return_dict_train = prep_density_halo_cats_batched(\n",
    "    df_d_all_train, df_d_all_nsh_train, df_Mh_all_train, df_Nh_train, nsims=nsims_per_batch,\n",
    "    nbatches = nbatches_train, Mmin=lgMmin, Mmax=lgMmax, rescaleM_sub=rescale_sub, Nmax=Nmax\n",
    "    )\n",
    "\n",
    "if cond_sim == 'fastpm':\n",
    "    df_d_all_train_FP, df_d_all_nsh_train_FP, df_Mh_all_train_FP, df_Nh_train_FP, ind_subsel_train_FP = load_density_halo_data_NGP(\n",
    "        ji_array, ns_d, nb, nf, nc, z_all_FP, ns_h, stype=stype,sdir='/mnt/home/spandey/ceph/Quijote/data_NGP_self/fastpm', subsel_highM1=subsel_highM1, ind_subsel=ind_subsel_train\n",
    "        )\n",
    "\n",
    "    # # Prepare the density and halo data\n",
    "    return_dict_train_FP = prep_density_halo_cats_batched(\n",
    "        df_d_all_train_FP, df_d_all_nsh_train_FP, df_Mh_all_train_FP, df_Nh_train_FP, nsims=nsims_per_batch,\n",
    "        nbatches = nbatches_train, Mmin=lgMmin, Mmax=lgMmax, rescaleM_sub=rescale_sub\n",
    "        )\n",
    "else:\n",
    "    return_dict_train_FP = None\n",
    "\n",
    "    \n"
   ]
  },
  {
   "cell_type": "code",
   "execution_count": 10,
   "metadata": {},
   "outputs": [
    {
     "name": "stdout",
     "output_type": "stream",
     "text": [
      "5\n"
     ]
    }
   ],
   "source": [
    "print(hidden_dim_MAF)\n",
    "\n"
   ]
  },
  {
   "cell_type": "code",
   "execution_count": 11,
   "metadata": {},
   "outputs": [],
   "source": [
    "# is_HR\n",
    "# stype\n",
    "\n"
   ]
  },
  {
   "cell_type": "code",
   "execution_count": 7,
   "metadata": {},
   "outputs": [],
   "source": [
    "# df_d_all_train, df_d_all_nsh_train, df_Mh_all_train, df_Nh_train, ind_subsel_train = load_density_halo_data_NGP(\n",
    "#     ji_array, ns_d, nb, nf, nc, z_all, ns_h,sdir='/mnt/home/spandey/ceph/Quijote/data_NGP_self',\n",
    "#     stype=stype, mass_type=mass_type, lgMmincutstr = lgMmincutstr, subsel_highM1=subsel_highM1, nsubsel=nsubsel, is_HR = is_HR\n",
    "#     )\n",
    "\n",
    "# # # Prepare the density and halo data\n",
    "# return_dict_train = prep_density_halo_cats_batched(\n",
    "#     df_d_all_train, df_d_all_nsh_train, df_Mh_all_train, df_Nh_train, nsims=nsims_per_batch,\n",
    "#     nbatches = nbatches_train, Mmin=lgMmin, Mmax=lgMmax, rescaleM_sub=rescale_sub, Nmax=Nmax\n",
    "#     )\n",
    "\n",
    "# if cond_sim == 'fastpm':\n",
    "#     df_d_all_train_FP, df_d_all_nsh_train_FP, df_Mh_all_train_FP, df_Nh_train_FP, ind_subsel_train_FP = load_density_halo_data_NGP(\n",
    "#         ji_array, ns_d, nb, nf, nc, z_all_FP, ns_h, stype=stype,sdir='/mnt/home/spandey/ceph/Quijote/data_NGP_self/fastpm', subsel_highM1=subsel_highM1, ind_subsel=ind_subsel_train\n",
    "#         )\n",
    "\n",
    "#     # # Prepare the density and halo data\n",
    "#     return_dict_train_FP = prep_density_halo_cats_batched(\n",
    "#         df_d_all_train_FP, df_d_all_nsh_train_FP, df_Mh_all_train_FP, df_Nh_train_FP, nsims=nsims_per_batch,\n",
    "#         nbatches = nbatches_train, Mmin=lgMmin, Mmax=lgMmax, rescaleM_sub=rescale_sub\n",
    "#         )\n",
    "# else:\n",
    "#     return_dict_train_FP = None\n",
    "\n",
    "    "
   ]
  },
  {
   "cell_type": "code",
   "execution_count": 8,
   "metadata": {},
   "outputs": [
    {
     "data": {
      "text/plain": [
       "dict_keys(['df_d_all', 'df_d_all_nsh', 'M_halos_all_sort_norm', 'Mmin', 'Mmax', 'Nmax', 'mask_M_diff', 'mask_M1', 'M1_halos_all_norm', 'M_diff_halos_all_norm_masked', 'Nhalo_train_mg_arr', 'N_halos_all', 'mu_all', 'sig_all', 'ngauss_Nhalo'])"
      ]
     },
     "execution_count": 8,
     "metadata": {},
     "output_type": "execute_result"
    }
   ],
   "source": [
    "# len(ind_subsel_train_FP), len(ind_subsel_train)\n",
    "return_dict_train.keys()\n",
    "# df_d_all_train.shape\n",
    "# ji_array\n",
    "\n",
    "\n"
   ]
  },
  {
   "cell_type": "code",
   "execution_count": 9,
   "metadata": {},
   "outputs": [
    {
     "data": {
      "text/plain": [
       "((512, 32, 32, 32), (512, 32768))"
      ]
     },
     "execution_count": 9,
     "metadata": {},
     "output_type": "execute_result"
    }
   ],
   "source": [
    "# return_dict_train['df_d_all'].shape, return_dict_train_FP['df_d_all'].shape\n",
    "# return_dict_train['M_halos_all_sort_norm'].shape, return_dict_train_FP['M_halos_all_sort_norm'].shape\n",
    "# return_dict_train['M_diff_halos_all_norm_masked'].shape\n",
    "return_dict_train['df_d_all_nsh'][0,:,0,...].shape, return_dict_train['N_halos_all'][0,...].shape\n"
   ]
  },
  {
   "cell_type": "code",
   "execution_count": 9,
   "metadata": {},
   "outputs": [
    {
     "data": {
      "image/png": "[encoded data removed]",
      "text/plain": [
       "<Figure size 640x480 with 1 Axes>"
      ]
     },
     "metadata": {},
     "output_type": "display_data"
    }
   ],
   "source": [
    "pl.figure()\n",
    "_ = pl.scatter(return_dict_train['df_d_all_nsh'][0,:,0,...].flatten()[::100], return_dict_train['N_halos_all'][0,...].flatten()[::100], s=0.1)\n",
    "\n",
    "\n"
   ]
  },
  {
   "cell_type": "code",
   "execution_count": 10,
   "metadata": {},
   "outputs": [
    {
     "data": {
      "image/png": "[encoded data removed]",
      "text/plain": [
       "<Figure size 640x480 with 1 Axes>"
      ]
     },
     "metadata": {},
     "output_type": "display_data"
    }
   ],
   "source": [
    "pl.figure()\n",
    "_ = pl.scatter(return_dict_train['df_d_all_nsh'][0,:,0,...].flatten()[::100], return_dict_train['M1_halos_all_norm'][0,...].flatten()[::100], s=0.1)\n",
    "\n"
   ]
  },
  {
   "cell_type": "code",
   "execution_count": null,
   "metadata": {},
   "outputs": [],
   "source": [
    "delta_all = return_dict_train['df_d_all_nsh'][0,:,0,...].reshape(148, 32768)\n",
    "indsel = np.where(delta_all > 2.5)\n",
    "pl.figure()\n",
    "_ = pl.hist(return_dict_train_FP['M1_halos_all_norm'][0,...][indsel].flatten(), bins=100, alpha=0.5, label='FP')\n",
    "_ = pl.hist(return_dict_train['M1_halos_all_norm'][0,...][indsel].flatten(), bins=100, alpha=0.5, label='PM')\n",
    "pl.yscale('log')\n",
    "\n"
   ]
  },
  {
   "cell_type": "code",
   "execution_count": 17,
   "metadata": {},
   "outputs": [
    {
     "data": {
      "image/png": "[encoded data removed]",
      "text/plain": [
       "<Figure size 640x480 with 1 Axes>"
      ]
     },
     "metadata": {},
     "output_type": "display_data"
    }
   ],
   "source": [
    "# lgMmin\n",
    "# return_dict_train_FP['M1_halos_all_norm']\n",
    "delta_all = return_dict_train['df_d_all_nsh'][0,:,0,...].reshape(148, 32768)\n",
    "indsel = np.where(delta_all > 0.0)\n",
    "pl.figure()\n",
    "_ = pl.hist(return_dict_train['N_halos_all'][0,...][indsel].flatten(), bins=5, alpha=0.5, label='FP')\n",
    "# _ = pl.hist(return_dict_train['M1_halos_all_norm'][0,...][indsel].flatten(), bins=100, alpha=0.5, label='PM')\n",
    "pl.yscale('log')\n"
   ]
  },
  {
   "cell_type": "code",
   "execution_count": null,
   "metadata": {},
   "outputs": [
    {
     "data": {
      "image/png": "[encoded data removed]",
      "text/plain": [
       "<Figure size 640x480 with 1 Axes>"
      ]
     },
     "metadata": {},
     "output_type": "display_data"
    }
   ],
   "source": [
    "pl.figure()\n",
    "_ = pl.hist(return_dict_train['M_diff_halos_all_norm_masked'][...,0].flatten(), bins=50, range=(0,1.5), histtype='step', label='z=0')\n",
    "_ = pl.hist(return_dict_train['M_diff_halos_all_norm_masked'][...,1].flatten(), bins=50, range=(0,1.5), alpha=0.3)\n",
    "_ = pl.hist(return_dict_train['M_diff_halos_all_norm_masked'][...,2].flatten(), bins=50, range=(0,1.5), alpha=0.3)\n",
    "pl.yscale('log')\n"
   ]
  },
  {
   "cell_type": "code",
   "execution_count": 13,
   "metadata": {},
   "outputs": [
    {
     "data": {
      "text/plain": [
       "(1, 148, 4, 40, 40, 40)"
      ]
     },
     "execution_count": 13,
     "metadata": {},
     "output_type": "execute_result"
    }
   ],
   "source": [
    "return_dict_train['df_d_all'].shape"
   ]
  },
  {
   "cell_type": "code",
   "execution_count": 14,
   "metadata": {},
   "outputs": [
    {
     "data": {
      "text/plain": [
       "<matplotlib.image.AxesImage at 0x155457d745b0>"
      ]
     },
     "execution_count": 14,
     "metadata": {},
     "output_type": "execute_result"
    },
    {
     "data": {
      "image/png": "[encoded data removed]",
      "text/plain": [
       "<Figure size 640x480 with 1 Axes>"
      ]
     },
     "metadata": {},
     "output_type": "display_data"
    },
    {
     "data": {
      "image/png": "[encoded data removed]",
      "text/plain": [
       "<Figure size 640x480 with 1 Axes>"
      ]
     },
     "metadata": {},
     "output_type": "display_data"
    }
   ],
   "source": [
    "indp = 109\n",
    "\n",
    "pl.figure()\n",
    "pl.imshow(return_dict_train['df_d_all_nsh'][0,indp, 0, 8, :, :])\n",
    "pl.figure()\n",
    "pl.imshow(return_dict_train_FP['df_d_all_nsh'][0,indp, 0, 8, :, :])\n",
    "\n"
   ]
  },
  {
   "cell_type": "code",
   "execution_count": 15,
   "metadata": {},
   "outputs": [
    {
     "data": {
      "text/plain": [
       "<matplotlib.image.AxesImage at 0x155457c88f40>"
      ]
     },
     "execution_count": 15,
     "metadata": {},
     "output_type": "execute_result"
    },
    {
     "data": {
      "image/png": "[encoded data removed]",
      "text/plain": [
       "<Figure size 640x480 with 1 Axes>"
      ]
     },
     "metadata": {},
     "output_type": "display_data"
    },
    {
     "data": {
      "image/png": "[encoded data removed]",
      "text/plain": [
       "<Figure size 640x480 with 1 Axes>"
      ]
     },
     "metadata": {},
     "output_type": "display_data"
    }
   ],
   "source": [
    "# indp = 10\n",
    "import matplotlib\n",
    "%matplotlib inline\n",
    "import matplotlib.pyplot as pl\n",
    "pl.figure()\n",
    "pl.imshow(return_dict_train['M_halos_all_sort_norm'][0,indp,:, 0].reshape(32,32,32)[8,:,:])\n",
    "pl.figure()\n",
    "pl.imshow(return_dict_train_FP['M_halos_all_sort_norm'][0,indp,:,0].reshape(32,32,32)[8,:,:])\n",
    "\n"
   ]
  },
  {
   "cell_type": "code",
   "execution_count": 12,
   "metadata": {},
   "outputs": [],
   "source": [
    "lgM_array = np.linspace(lgMmin, lgMmax, 1000)\n",
    "M_array = 10**lgM_array\n",
    "if '200c' in mass_type:\n",
    "    hmf = mass_function.massFunction(M_array, 0, mdef = '200c', model = 'tinker08', q_out = 'dndlnM')\n",
    "if 'vir' in mass_type:\n",
    "    hmf = mass_function.massFunction(M_array, 0, mdef = 'vir', model = 'tinker08', q_out = 'dndlnM')    \n",
    "if 'fof' in mass_type:\n",
    "    hmf = mass_function.massFunction(M_array, 0, mdef = 'fof', model = 'bhattacharya11', q_out = 'dndlnM')\n",
    "lgM_rescaled = rescale_sub + (lgM_array - lgMmin)/(lgMmax-lgMmin)\n",
    "\n",
    "int_val = sp.integrate.simps(hmf, lgM_rescaled)\n",
    "hmf_pdf = hmf/int_val\n",
    "# define the cdf of the halo mass function\n",
    "hmf_cdf = np.zeros_like(hmf_pdf)\n",
    "for i in range(len(hmf_cdf)):\n",
    "    hmf_cdf[i] = sp.integrate.simps(hmf_pdf[:i+1], lgM_rescaled[:i+1])\n",
    "\n",
    "\n",
    "# num_cond_Ntot = num_cond\n",
    "# model_Ntot = SumGaussModel(\n",
    "#     hidden_dim=hidden_dim_MAF,\n",
    "#     num_cond=num_cond_Ntot,\n",
    "#     ngauss=return_dict_train['ngauss_Nhalo'],\n",
    "#     mu_all=return_dict_train['mu_all'],\n",
    "#     sig_all=return_dict_train['sig_all'],\n",
    "#     base_dist=base_dist_Ntot   \n",
    "#     )\n",
    "\n",
    "# num_cond_M1 = num_cond + 1\n",
    "# # if conditioned on fastpm we will also give the fastpm fof M1 halos and its mask as conditional\n",
    "# if cond_sim == 'fastpm':\n",
    "#     num_cond_M1 += 2\n",
    "\n",
    "# model_M1 = NSF_M1_CNNcond(\n",
    "#     K=K_M1,\n",
    "#     B=B_M1,\n",
    "#     hidden_dim=hidden_dim_MAF,\n",
    "#     num_cond=num_cond_M1,\n",
    "#     nflows=nflows_M1_NSF,\n",
    "#     base_dist=base_dist_M1,\n",
    "#     ngauss=ngauss_M1,\n",
    "#     lgM_rs_tointerp=lgM_rescaled,\n",
    "#     hmf_pdf_tointerp=hmf_pdf,\n",
    "#     hmf_cdf_tointerp=hmf_cdf    \n",
    "#     )\n",
    "\n",
    "# ndim_diff = return_dict_train['M_diff_halos_all_norm_masked'][0].shape[2]\n",
    "# num_cond_Mdiff = num_cond + 2\n",
    "# model_Mdiff = NSF_Mdiff_CNNcond(\n",
    "#     dim=ndim_diff,\n",
    "#     K=K_Mdiff,\n",
    "#     B=B_Mdiff,\n",
    "#     hidden_dim=hidden_dim_MAF,\n",
    "#     num_cond=num_cond_Mdiff,\n",
    "#     nflows=nflows_Mdiff_NSF,\n",
    "#     base_dist=base_dist_Mdiff,\n",
    "#     mu_pos=True\n",
    "#     )\n",
    "\n",
    "# ndim = ndim_diff + 1\n",
    "# model = COMBINED_Model(\n",
    "#     None,\n",
    "#     model_Mdiff,\n",
    "#     # None,\n",
    "#     model_M1,\n",
    "#     model_Ntot,\n",
    "#     ndim,\n",
    "#     ksize,\n",
    "#     ns_d,\n",
    "#     ns_h,\n",
    "#     nb,\n",
    "#     ninp,\n",
    "#     nfeature_cnn,\n",
    "#     nout_cnn,\n",
    "#     layers_types=layers_types,\n",
    "#     act='tanh',\n",
    "#     padding='valid',\n",
    "#     sep_Ntot_cond=True,\n",
    "#     sep_M1_cond=True,\n",
    "#     sep_Mdiff_cond=True,\n",
    "#     num_cond_Ntot = num_cond_Ntot,\n",
    "#     num_cond_M1 = num_cond_M1,\n",
    "#     num_cond_Mdiff = num_cond_Mdiff\n",
    "#     )\n",
    "\n",
    "# model.to(dev)\n",
    "\n",
    "# print()\n"
   ]
  },
  {
   "cell_type": "code",
   "execution_count": 13,
   "metadata": {},
   "outputs": [],
   "source": [
    "# base_dist_Ntot\n"
   ]
  },
  {
   "cell_type": "code",
   "execution_count": 14,
   "metadata": {},
   "outputs": [],
   "source": [
    "# from torch.utils.data import DataLoader, Dataset\n",
    "# class LoadCustomData(Dataset):\n",
    "#     def __init__(self, return_dict, return_dict_FP, all_gpu=False):\n",
    "#         if return_dict_FP is not None:\n",
    "#             self.cond_tensor = torch.Tensor(np.array(return_dict_FP['df_d_all']))\n",
    "#             cond_nsh = np.moveaxis(np.array(return_dict_FP['df_d_all_nsh']), 2, 5)\n",
    "#             self.cond_tensor_nsh = torch.Tensor((cond_nsh)).reshape(-1, nsims_per_batch * (nax_h ** 3), ninp)\n",
    "#         else:\n",
    "#             self.cond_tensor = torch.Tensor(np.array(return_dict['df_d_all']))\n",
    "#             cond_nsh = np.moveaxis(np.array(return_dict['df_d_all_nsh']), 2, 5)\n",
    "#             self.cond_tensor_nsh = torch.Tensor((cond_nsh)).reshape(-1, nsims_per_batch * (nax_h ** 3), ninp)\n",
    "\n",
    "#         self.mask_tensor_M1_train = torch.Tensor(np.array(return_dict['mask_M1'])).reshape(-1, nsims_per_batch * (nax_h**3))\n",
    "#         self.mask_tensor_Mdiff_train = torch.Tensor((np.array(return_dict['mask_M_diff']))).reshape(-1, nsims_per_batch * (nax_h**3), ndim_diff)\n",
    "\n",
    "#         self.X_M1 = torch.Tensor((np.array(return_dict['M1_halos_all_norm']))).reshape(-1, nsims_per_batch * (nax_h**3), 1)\n",
    "#         self.X_Nhalo = torch.Tensor(np.array(return_dict['Nhalo_train_mg_arr'])).reshape(-1, nsims_per_batch * (nax_h**3), 1)\n",
    "#         self.X_Mdiff = torch.Tensor(np.array(return_dict['M_diff_halos_all_norm_masked'])).reshape(-1, nsims_per_batch * (nax_h**3),ndim_diff)\n",
    "#         self.Nhalos_truth_tensor = torch.Tensor(((np.array(return_dict['N_halos_all'])))).reshape(-1, nsims_per_batch * (nax_h**3), 1)\n",
    "\n",
    "#         if return_dict_FP is not None:\n",
    "#             self.mask_tensor_M1_train_FP = torch.Tensor(np.array(return_dict_FP['mask_M1'])).reshape(-1, nsims_per_batch * (nax_h**3))\n",
    "#             self.X_M1_FP = torch.Tensor((np.array(return_dict_FP['M1_halos_all_norm']))).reshape(-1, nsims_per_batch * (nax_h**3), 1)\n",
    "#         else:\n",
    "#             self.mask_tensor_M1_train_FP = None\n",
    "#             self.X_M1_FP = None\n",
    "#         if all_gpu:\n",
    "#             self.cond_tensor = self.cond_tensor.cuda(dev)\n",
    "#             self.cond_tensor_nsh = self.cond_tensor_nsh.cuda(dev)\n",
    "#             self.mask_tensor_M1_train = self.mask_tensor_M1_train.cuda(dev)\n",
    "#             self.mask_tensor_Mdiff_train = self.mask_tensor_Mdiff_train.cuda(dev)\n",
    "#             self.X_M1 = self.X_M1.cuda(dev)\n",
    "#             self.X_Nhalo = self.X_Nhalo.cuda(dev)\n",
    "#             self.X_Mdiff = self.X_Mdiff.cuda(dev)\n",
    "#             self.Nhalos_truth_tensor = self.Nhalos_truth_tensor.cuda(dev)\n",
    "#             if return_dict_FP is not None:\n",
    "#                 self.mask_tensor_M1_train_FP = self.mask_tensor_M1_train_FP.cuda(dev)\n",
    "#                 self.X_M1_FP = self.X_M1_FP.cuda(dev)\n",
    "\n",
    "#     def __len__(self):\n",
    "#         return len(self.cond_tensor)\n",
    "\n",
    "#     def __getitem__(self, idx):\n",
    "#         cond_tensor = (self.cond_tensor[idx,...])\n",
    "#         cond_tensor_nsh = self.cond_tensor_nsh[idx,...]\n",
    "#         mask_tensor_M1_train = self.mask_tensor_M1_train[idx,...]\n",
    "#         mask_tensor_Mdiff_train =self.mask_tensor_Mdiff_train[idx,...]\n",
    "#         X_M1 = self.X_M1[idx,...]\n",
    "#         X_Nhalo = self.X_Nhalo[idx,...]\n",
    "#         X_Mdiff = self.X_Mdiff[idx,...]\n",
    "#         Nhalos_truth_tensor = self.Nhalos_truth_tensor[idx,...]\n",
    "#         if self.mask_tensor_M1_train_FP is not None:\n",
    "#             mask_tensor_M1_train_FP = self.mask_tensor_M1_train_FP[idx,...]\n",
    "#             X_M1_FP = self.X_M1_FP[idx,...]\n",
    "#         else:\n",
    "#             mask_tensor_M1_train_FP = torch.Tensor([-9999])\n",
    "#             X_M1_FP = torch.Tensor([-9999])\n",
    "\n",
    "#         return (cond_tensor, cond_tensor_nsh, mask_tensor_M1_train, mask_tensor_Mdiff_train, X_M1, X_Nhalo,\n",
    "#                  X_Mdiff, Nhalos_truth_tensor, mask_tensor_M1_train_FP, X_M1_FP)\n",
    "\n",
    "\n",
    "# from torch.utils.data import DataLoader, Dataset\n",
    "\n",
    "\n",
    "ndim_diff = return_dict_train['M_diff_halos_all_norm_masked'][0].shape[2]\n",
    "\n",
    "if return_dict_train_FP is not None:\n",
    "    cond_tensor = torch.Tensor(np.array(return_dict_train_FP['df_d_all']))\n",
    "    cond_nsh = np.moveaxis(np.array(return_dict_train_FP['df_d_all_nsh']), 2, 5)\n",
    "    cond_tensor_nsh = torch.Tensor((cond_nsh)).reshape(-1, nsims_per_batch * (nax_h ** 3), ninp)\n",
    "else:\n",
    "    cond_tensor = torch.Tensor(np.array(return_dict_train['df_d_all']))\n",
    "    cond_nsh = np.moveaxis(np.array(return_dict_train['df_d_all_nsh']), 2, 5)\n",
    "    cond_tensor_nsh = torch.Tensor((cond_nsh)).reshape(-1, nsims_per_batch * (nax_h ** 3), ninp)\n",
    "\n",
    "mask_tensor_M1_train = torch.Tensor(np.array(return_dict_train['mask_M1'])).reshape(-1, nsims_per_batch * (nax_h**3))\n",
    "mask_tensor_Mdiff_train = torch.Tensor((np.array(return_dict_train['mask_M_diff']))).reshape(-1, nsims_per_batch * (nax_h**3), ndim_diff)\n",
    "\n",
    "X_M1 = torch.Tensor((np.array(return_dict_train['M1_halos_all_norm']))).reshape(-1, nsims_per_batch * (nax_h**3), 1)\n",
    "X_Nhalo = torch.Tensor(np.array(return_dict_train['Nhalo_train_mg_arr'])).reshape(-1, nsims_per_batch * (nax_h**3), 1)\n",
    "X_Mdiff = torch.Tensor(np.array(return_dict_train['M_diff_halos_all_norm_masked'])).reshape(-1, nsims_per_batch * (nax_h**3),ndim_diff)\n",
    "Nhalos_truth_tensor = torch.Tensor(((np.array(return_dict_train['N_halos_all'])))).reshape(-1, nsims_per_batch * (nax_h**3), 1)\n",
    "\n",
    "if return_dict_train_FP is not None:\n",
    "    mask_tensor_M1_train_FP = torch.Tensor(np.array(return_dict_train_FP['mask_M1'])).reshape(-1, nsims_per_batch * (nax_h**3))\n",
    "    X_M1_FP = torch.Tensor((np.array(return_dict_train_FP['M1_halos_all_norm']))).reshape(-1, nsims_per_batch * (nax_h**3), 1)\n",
    "else:\n",
    "    mask_tensor_M1_train_FP = None\n",
    "    X_M1_FP = None\n",
    "\n",
    "    \n",
    "cond_tensor = cond_tensor.cuda(dev)\n",
    "cond_tensor_nsh = cond_tensor_nsh.cuda(dev)\n",
    "mask_tensor_M1_train = mask_tensor_M1_train.cuda(dev)\n",
    "mask_tensor_Mdiff_train = mask_tensor_Mdiff_train.cuda(dev)\n",
    "X_M1 = X_M1.cuda(dev)\n",
    "X_Nhalo = X_Nhalo.cuda(dev)\n",
    "X_Mdiff = X_Mdiff.cuda(dev)\n",
    "\n",
    "\n",
    "Nhalos_truth_tensor = Nhalos_truth_tensor.cuda(dev)\n",
    "if return_dict_train_FP is not None:\n",
    "    mask_tensor_M1_train_FP = mask_tensor_M1_train_FP.cuda(dev)\n",
    "    X_M1_FP = X_M1_FP.cuda(dev)\n",
    "\n",
    "\n"
   ]
  },
  {
   "cell_type": "code",
   "execution_count": 15,
   "metadata": {},
   "outputs": [
    {
     "data": {
      "text/plain": [
       "(tensor(0., device='cuda:0'),\n",
       " tensor(5., device='cuda:0'),\n",
       " array([1, 2, 3, 4, 5, 6]))"
      ]
     },
     "execution_count": 15,
     "metadata": {},
     "output_type": "execute_result"
    }
   ],
   "source": [
    "torch.amin(Nhalos_truth_tensor), torch.amax(Nhalos_truth_tensor), return_dict_train['mu_all']\n"
   ]
  },
  {
   "cell_type": "code",
   "execution_count": 9,
   "metadata": {},
   "outputs": [],
   "source": [
    "# # X_Nhalo.shape, cond_tensor_nsh.shape\n",
    "# np.array(return_dict_train['N_halos_all']).shape, cond_nsh.shape, np.array(return_dict_train['M1_halos_all_norm']).shape\n",
    "\n",
    "# Nhalos_3d = np.array(return_dict_train['N_halos_all']).reshape(-1, nsims_per_batch, nax_h, nax_h, nax_h)\n",
    "# Mhalos_3d = np.array(return_dict_train['M1_halos_all_norm']).reshape(-1, nsims_per_batch, nax_h, nax_h, nax_h)\n",
    "# delta_m_3d = cond_nsh[...,0]\n",
    "\n",
    "\n"
   ]
  },
  {
   "cell_type": "code",
   "execution_count": 16,
   "metadata": {},
   "outputs": [],
   "source": [
    "# # make a three panel plot\n",
    "# import matplotlib.pyplot as pl\n",
    "# import matplotlib\n",
    "# %matplotlib inline\n",
    "# indsim = 300\n",
    "# pl.figure()\n",
    "# pl.subplot(131)\n",
    "# pl.imshow(Nhalos_3d[0,indsim,0,...])\n",
    "# # pl.colorbar()\n",
    "# pl.subplot(132)\n",
    "# pl.imshow(Mhalos_3d[0,indsim,0,...])\n",
    "# # pl.colorbar()\n",
    "# pl.subplot(133)\n",
    "# pl.imshow(delta_m_3d[0,indsim,0,...])\n",
    "# # pl.colorbar()\n"
   ]
  },
  {
   "cell_type": "code",
   "execution_count": 17,
   "metadata": {},
   "outputs": [],
   "source": [
    "\n",
    "# delta_m = cond_tensor_nsh[0,:,0].cpu().numpy()\n",
    "# Nhalo = X_Nhalo[0,:,0].cpu().numpy()\n",
    "# indsel = np.where((delta_m > 3) & (delta_m < 100))[0]\n",
    "# pl.figure()\n",
    "# pl.scatter(delta_m[indsel], Nhalo[indsel], s=0.1)\n"
   ]
  },
  {
   "cell_type": "code",
   "execution_count": 18,
   "metadata": {},
   "outputs": [],
   "source": [
    "# np.amin(delta_m), np.amax(delta_m), np.amin(Nhalo), np.amax(Nhalo)\n",
    "\n"
   ]
  },
  {
   "cell_type": "code",
   "execution_count": null,
   "metadata": {},
   "outputs": [],
   "source": [
    "\n",
    "\n"
   ]
  },
  {
   "cell_type": "code",
   "execution_count": 16,
   "metadata": {},
   "outputs": [
    {
     "name": "stdout",
     "output_type": "stream",
     "text": [
      "/mnt/home/spandey/ceph/AR_NPE/TRAIN_ROCKSTAR_FOF/LONGTRAIN_BARR_4Mpc_CLIPPED_FINALTEST_SUBSEL_Ntot_only_plexp_ns_4_cond_sim_fastpm_ns_256_nc4_mass_rockstar_200c_KM1_8_stype_cic_L2normNtothist_False_L2normM1hist_False_Nmax5_COND_FPM_Mmin1e13_hdim5_nf5_ns512 True\n"
     ]
    }
   ],
   "source": [
    "with open(\"/mnt/home/spandey/ceph/AR_NPE/run_configs/\" + run_config_name,\"r\") as file_object:\n",
    "    config=yaml.load(file_object,Loader=yaml.SafeLoader)\n",
    "\n",
    "config_train = config['train_settings']\n",
    "batch_size = config_train['batch_size_DL']\n",
    "all_gpu = config_train['all_gpu']\n",
    "\n",
    "try:\n",
    "    L2norm_Ntothist = config_train['L2norm_Ntothist']\n",
    "except:\n",
    "    L2norm_Ntothist = False\n",
    "\n",
    "try:\n",
    "    L2norm_M1hist = config_train['L2norm_M1hist']\n",
    "except:\n",
    "    L2norm_M1hist = False\n",
    "\n",
    "nflows_train = config_train['nflows_train']\n",
    "\n",
    "# save_bestfit_model_dir = '/mnt/home/spandey/ceph/AR_NPE/' + 'TRAIN_ROCKSTAR_FOF/CLIPPED_FINALTEST_SUBSEL_Ntot_M1_Mdiff_plexp_ns_' + str(len(ji_array)) + \\\n",
    "#                             '_cond_sim_' + cond_sim  \\\n",
    "#                             + '_nc' + str(nc) + '_mass_' + mass_type + \\\n",
    "#                             '_KM1_' + str(K_M1) + \\\n",
    "#                             '_stype_' + stype + \\\n",
    "#                             '_L2normNtothist_' + str(L2norm_Ntothist) + '_L2normM1hist_' + str(L2norm_M1hist) + '_TRY2'\n",
    "\n",
    "save_string = config_train['save_string']\n",
    "\n",
    "save_bestfit_model_dir = '/mnt/home/spandey/ceph/AR_NPE/' + 'TRAIN_ROCKSTAR_FOF/LONGTRAIN_BARR_4Mpc_CLIPPED_FINALTEST_SUBSEL_Ntot_only_plexp_ns_' + str(len(ji_array)) + \\\n",
    "                            '_cond_sim_' + cond_sim  + '_ns_' + str(ns_h) \\\n",
    "                            + '_nc' + str(nc) + '_mass_' + mass_type + \\\n",
    "                            '_KM1_' + str(K_M1) + \\\n",
    "                            '_stype_' + stype + \\\n",
    "                            '_L2normNtothist_' + str(L2norm_Ntothist) + '_L2normM1hist_' + str(L2norm_M1hist) + '_Nmax' + str(Nmax) + save_string\n",
    "\n",
    "\n",
    "print(save_bestfit_model_dir, os.path.exists(save_bestfit_model_dir))\n",
    "# make directory if it doesn't exist\n",
    "import os\n",
    "if not os.path.exists(save_bestfit_model_dir):\n",
    "    os.makedirs(save_bestfit_model_dir)\n",
    "\n",
    "\n",
    "nepochs_Ntot_only = config_train['nepochs_Ntot_only']\n",
    "nepochs_Ntot_M1_only = config_train['nepochs_Ntot_M1_only']\n",
    "nepochs_all = config_train['nepochs_all']\n",
    "\n",
    "\n",
    "\n",
    "# save_bestfit_model_dir = '/mnt/home/spandey/ceph/AR_NPE/' + 'TRAIN_ROCKSTAR_FOF/FINALTEST_SUBSEL_TEST_FINALS_SIMPLE_BATCHED_model_save_nsim' + str(len(ji_array)) + \\\n",
    "#                             '_cond_sim_' + cond_sim + \\\n",
    "#                             '_nsd' + str(ns_d) + '_nc' + str(nc) + '_nsh' + str(ns_h) + '_mass_' + mass_type + \\\n",
    "#                             '_KM1_' + str(K_M1) + \\\n",
    "#                             '_stype_' + stype + '_nsimperbatch' + str(nsims_per_batch) + '_nbatches' + str(nbatches_train) + \\\n",
    "#                             '_L2normNtothist_' + str(L2norm_Ntothist) + '_L2normM1hist_' + str(L2norm_M1hist)\n",
    "\n",
    "# save_bestfit_model_dir = '/mnt/home/spandey/ceph/AR_NPE/' + 'TRAIN_ROCKSTAR_FOF/FINALTEST2_SUBSEL_ns_' + str(len(ji_array)) + \\\n",
    "#                             '_cond_sim_' + cond_sim  \\\n",
    "#                             + '_nc' + str(nc) + '_mass_' + mass_type + \\\n",
    "#                             '_KM1_' + str(K_M1) + \\\n",
    "#                             '_stype_' + stype + \\\n",
    "#                             '_L2normNtothist_' + str(L2norm_Ntothist) + '_L2normM1hist_' + str(L2norm_M1hist)\n",
    "\n",
    "# save_bestfit_model_dir = '/mnt/home/spandey/ceph/AR_NPE/' + 'TRAIN_ROCKSTAR_FOF/FINALTEST2_NOSUBSEL_plexp_ns_' + str(len(ji_array)) + \\\n",
    "#                             '_cond_sim_' + cond_sim  \\\n",
    "#                             + '_nc' + str(nc) + '_mass_' + mass_type + \\\n",
    "#                             '_KM1_' + str(K_M1) + \\\n",
    "#                             '_stype_' + stype + \\\n",
    "#                             '_L2normNtothist_' + str(L2norm_Ntothist) + '_L2normM1hist_' + str(L2norm_M1hist)\n",
    "\n",
    "# print(save_bestfit_model_dir, os.path.exists(save_bestfit_model_dir))\n",
    "# # make directory if it doesn't exist\n",
    "# import os\n",
    "# if not os.path.exists(save_bestfit_model_dir):\n",
    "#     os.makedirs(save_bestfit_model_dir)\n",
    "\n",
    "# start_with_bestfit = config_train['start_with_bestfit']\n",
    "\n",
    "# if start_with_bestfit:\n",
    "#     try:\n",
    "#         print('loading bestfit model')\n",
    "#         bestfit_model = (torch.load(save_bestfit_model_name))\n",
    "#         model.load_state_dict(bestfit_model['state_dict'])\n",
    "#         optimizer.load_state_dict(bestfit_model['optimizer'])\n",
    "#         scheduler.load_state_dict(bestfit_model['scheduler'])\n",
    "#         loss_min = bestfit_model['loss_min']\n",
    "#         loss = bestfit_model['loss']\n",
    "#         lr = bestfit_model['lr']\n",
    "#         epoch_tot_counter = bestfit_model['epoch_tot_counter']\n",
    "#         for g in optimizer.param_groups:\n",
    "#             # g['lr'] = lr\n",
    "#             g['lr'] = 0.01          \n",
    "\n",
    "#     except:\n",
    "#         print('no bestfit model found, running new')\n",
    "#         pass\n",
    "#         epoch_tot_counter = 0\n",
    "\n",
    "\n",
    "# dataset = LoadCustomData(return_dict_train, return_dict_train_FP, all_gpu=all_gpu)\n",
    "# dataloader = DataLoader(dataset, batch_size=batch_size, pin_memory=1 - all_gpu, num_workers=1)\n",
    "\n",
    "\n"
   ]
  },
  {
   "cell_type": "code",
   "execution_count": null,
   "metadata": {},
   "outputs": [],
   "source": []
  },
  {
   "cell_type": "code",
   "execution_count": 17,
   "metadata": {},
   "outputs": [
    {
     "name": "stdout",
     "output_type": "stream",
     "text": [
      "\n"
     ]
    }
   ],
   "source": [
    "num_cond_Ntot = num_cond\n",
    "\n",
    "model_Ntot = SumGaussModel(\n",
    "    hidden_dim=hidden_dim_MAF,\n",
    "    num_cond=num_cond_Ntot,\n",
    "    ngauss=return_dict_train['ngauss_Nhalo'],\n",
    "    mu_all=return_dict_train['mu_all'],\n",
    "    sig_all=return_dict_train['sig_all'],\n",
    "    base_dist=base_dist_Ntot   \n",
    "    )\n",
    "\n",
    "num_cond_M1 = num_cond + 1\n",
    "# # if conditioned on fastpm we will also give the fastpm fof M1 halos and its mask as conditional\n",
    "if cond_sim == 'fastpm':\n",
    "    num_cond_M1 += 2\n",
    "\n",
    "model_M1 = NSF_M1_CNNcond(\n",
    "    K=K_M1,\n",
    "    B=B_M1,\n",
    "    hidden_dim=hidden_dim_MAF,\n",
    "    num_cond=num_cond_M1,\n",
    "    nflows=nflows_M1_NSF,\n",
    "    base_dist=base_dist_M1,\n",
    "    ngauss=ngauss_M1,\n",
    "    lgM_rs_tointerp=lgM_rescaled,\n",
    "    hmf_pdf_tointerp=hmf_pdf,\n",
    "    hmf_cdf_tointerp=hmf_cdf    \n",
    "    )\n",
    "\n",
    "ndim_diff = return_dict_train['M_diff_halos_all_norm_masked'].shape[-1]\n",
    "num_cond_Mdiff = num_cond + 2\n",
    "model_Mdiff = NSF_Mdiff_CNNcond(\n",
    "    dim=ndim_diff,\n",
    "    K=K_Mdiff,\n",
    "    B=B_Mdiff,\n",
    "    hidden_dim=hidden_dim_MAF,\n",
    "    num_cond=num_cond_Mdiff,\n",
    "    nflows=nflows_Mdiff_NSF,\n",
    "    base_dist=base_dist_Mdiff,\n",
    "    mu_pos=True\n",
    "    )\n",
    "\n",
    "# model_Mdiff = None\n",
    "# model_M1 = None\n",
    "\n",
    "ndim = ndim_diff + 1\n",
    "model = COMBINED_Model(\n",
    "    None,\n",
    "    model_Mdiff,\n",
    "    # None,\n",
    "    model_M1,\n",
    "    model_Ntot,\n",
    "    ndim,\n",
    "    ksize,\n",
    "    ns_d,\n",
    "    ns_h,\n",
    "    nb,\n",
    "    ninp,\n",
    "    nfeature_cnn,\n",
    "    nout_cnn,\n",
    "    layers_types=layers_types,\n",
    "    act='tanh',\n",
    "    padding='valid',\n",
    "    sep_Ntot_cond=True,\n",
    "    sep_M1_cond=True,\n",
    "    sep_Mdiff_cond=True,\n",
    "    num_cond_Ntot = num_cond_Ntot,\n",
    "    num_cond_M1 = num_cond_M1,\n",
    "    num_cond_Mdiff = num_cond_Mdiff\n",
    "    )\n",
    "\n",
    "model.to(dev)\n",
    "print()\n",
    "\n",
    "\n",
    "optimizer = optim.Adam(model.parameters(), lr=learning_rate)\n",
    "\n",
    "loss_all_it = []\n",
    "loss_min = 1e20\n",
    "epoch_tot_counter = 0\n",
    "scheduler = optim.lr_scheduler.ReduceLROnPlateau(optimizer, 'min', factor=0.25, patience=100, verbose=True, cooldown=100, min_lr=1e-5)\n",
    "\n",
    "\n",
    "\n",
    "\n"
   ]
  },
  {
   "cell_type": "code",
   "execution_count": 18,
   "metadata": {},
   "outputs": [
    {
     "name": "stdout",
     "output_type": "stream",
     "text": [
      "loading bestfit model\n",
      "-1.5385456085205078 8515 0.001\n"
     ]
    }
   ],
   "source": [
    "jf = 0\n",
    "save_bestfit_model_name = save_bestfit_model_dir + '/flow_' + str(jf)\n",
    "\n",
    "print('loading bestfit model')\n",
    "bestfit_model = (torch.load(save_bestfit_model_name))\n",
    "model.load_state_dict(bestfit_model['state_dict'])\n",
    "optimizer.load_state_dict(bestfit_model['optimizer'])\n",
    "scheduler.load_state_dict(bestfit_model['scheduler'])\n",
    "loss_min = bestfit_model['loss_min']\n",
    "loss = bestfit_model['loss']\n",
    "lr = bestfit_model['lr']\n",
    "epoch_tot_counter = bestfit_model['epoch_tot_counter']\n",
    "for g in optimizer.param_groups:\n",
    "    g['lr'] = lr\n",
    "    # g['lr'] = 0.0005\n",
    "\n",
    "print(loss_min, epoch_tot_counter, lr)\n",
    "\n",
    "\n",
    "\n",
    "\n"
   ]
  },
  {
   "cell_type": "code",
   "execution_count": 16,
   "metadata": {},
   "outputs": [
    {
     "name": "stderr",
     "output_type": "stream",
     "text": [
      "  0%|          | 1/20000 [00:02<13:07:12,  2.36s/it]"
     ]
    },
    {
     "name": "stdout",
     "output_type": "stream",
     "text": [
      "saving bf at: , with loss: -1.40831 , at epoch: 0 learning rate: 0.001 , train_Ntot: 1 train_M1: 0 , train_Mdiff: 0 , epoch_tot_counter: 1\n"
     ]
    },
    {
     "name": "stderr",
     "output_type": "stream",
     "text": [
      "  0%|          | 67/20000 [00:58<4:36:04,  1.20it/s]"
     ]
    },
    {
     "name": "stdout",
     "output_type": "stream",
     "text": [
      "saving bf at: , with loss: -1.50436 , at epoch: 66 learning rate: 0.001 , train_Ntot: 1 train_M1: 0 , train_Mdiff: 0 , epoch_tot_counter: 67\n"
     ]
    },
    {
     "name": "stderr",
     "output_type": "stream",
     "text": [
      "  1%|          | 133/20000 [01:53<4:34:51,  1.20it/s]"
     ]
    },
    {
     "name": "stdout",
     "output_type": "stream",
     "text": [
      "saving bf at: , with loss: -1.52108 , at epoch: 132 learning rate: 0.001 , train_Ntot: 1 train_M1: 0 , train_Mdiff: 0 , epoch_tot_counter: 133\n"
     ]
    },
    {
     "name": "stderr",
     "output_type": "stream",
     "text": [
      "  1%|          | 199/20000 [02:48<4:35:00,  1.20it/s]"
     ]
    },
    {
     "name": "stdout",
     "output_type": "stream",
     "text": [
      "saving bf at: , with loss: -1.52591 , at epoch: 198 learning rate: 0.001 , train_Ntot: 1 train_M1: 0 , train_Mdiff: 0 , epoch_tot_counter: 199\n"
     ]
    },
    {
     "name": "stderr",
     "output_type": "stream",
     "text": [
      "  1%|▏         | 265/20000 [03:43<4:35:35,  1.19it/s]"
     ]
    },
    {
     "name": "stdout",
     "output_type": "stream",
     "text": [
      "saving bf at: , with loss: -1.5283 , at epoch: 264 learning rate: 0.001 , train_Ntot: 1 train_M1: 0 , train_Mdiff: 0 , epoch_tot_counter: 265\n"
     ]
    },
    {
     "name": "stderr",
     "output_type": "stream",
     "text": [
      "  2%|▏         | 331/20000 [04:38<4:52:19,  1.12it/s]"
     ]
    },
    {
     "name": "stdout",
     "output_type": "stream",
     "text": [
      "saving bf at: , with loss: -1.52987 , at epoch: 330 learning rate: 0.001 , train_Ntot: 1 train_M1: 0 , train_Mdiff: 0 , epoch_tot_counter: 331\n"
     ]
    },
    {
     "name": "stderr",
     "output_type": "stream",
     "text": [
      "  2%|▏         | 397/20000 [05:32<4:30:54,  1.21it/s]"
     ]
    },
    {
     "name": "stdout",
     "output_type": "stream",
     "text": [
      "saving bf at: , with loss: -1.531 , at epoch: 396 learning rate: 0.001 , train_Ntot: 1 train_M1: 0 , train_Mdiff: 0 , epoch_tot_counter: 397\n"
     ]
    },
    {
     "name": "stderr",
     "output_type": "stream",
     "text": [
      "  2%|▏         | 463/20000 [06:28<4:32:39,  1.19it/s]"
     ]
    },
    {
     "name": "stdout",
     "output_type": "stream",
     "text": [
      "saving bf at: , with loss: -1.53179 , at epoch: 462 learning rate: 0.001 , train_Ntot: 1 train_M1: 0 , train_Mdiff: 0 , epoch_tot_counter: 463\n"
     ]
    },
    {
     "name": "stderr",
     "output_type": "stream",
     "text": [
      "  3%|▎         | 595/20000 [08:18<4:29:07,  1.20it/s]"
     ]
    },
    {
     "name": "stdout",
     "output_type": "stream",
     "text": [
      "saving bf at: , with loss: -1.5329 , at epoch: 594 learning rate: 0.001 , train_Ntot: 1 train_M1: 0 , train_Mdiff: 0 , epoch_tot_counter: 595\n"
     ]
    },
    {
     "name": "stderr",
     "output_type": "stream",
     "text": [
      "  3%|▎         | 661/20000 [09:13<4:29:16,  1.20it/s]"
     ]
    },
    {
     "name": "stdout",
     "output_type": "stream",
     "text": [
      "saving bf at: , with loss: -1.53327 , at epoch: 660 learning rate: 0.001 , train_Ntot: 1 train_M1: 0 , train_Mdiff: 0 , epoch_tot_counter: 661\n"
     ]
    },
    {
     "name": "stderr",
     "output_type": "stream",
     "text": [
      "  4%|▎         | 727/20000 [10:08<4:42:10,  1.14it/s]"
     ]
    },
    {
     "name": "stdout",
     "output_type": "stream",
     "text": [
      "saving bf at: , with loss: -1.53352 , at epoch: 726 learning rate: 0.001 , train_Ntot: 1 train_M1: 0 , train_Mdiff: 0 , epoch_tot_counter: 727\n"
     ]
    },
    {
     "name": "stderr",
     "output_type": "stream",
     "text": [
      "  4%|▍         | 793/20000 [11:03<4:25:33,  1.21it/s]"
     ]
    },
    {
     "name": "stdout",
     "output_type": "stream",
     "text": [
      "saving bf at: , with loss: -1.53377 , at epoch: 792 learning rate: 0.001 , train_Ntot: 1 train_M1: 0 , train_Mdiff: 0 , epoch_tot_counter: 793\n"
     ]
    },
    {
     "name": "stderr",
     "output_type": "stream",
     "text": [
      "  4%|▍         | 859/20000 [11:57<4:24:34,  1.21it/s]"
     ]
    },
    {
     "name": "stdout",
     "output_type": "stream",
     "text": [
      "saving bf at: , with loss: -1.53416 , at epoch: 858 learning rate: 0.001 , train_Ntot: 1 train_M1: 0 , train_Mdiff: 0 , epoch_tot_counter: 859\n"
     ]
    },
    {
     "name": "stderr",
     "output_type": "stream",
     "text": [
      "  5%|▍         | 991/20000 [13:48<4:23:41,  1.20it/s]"
     ]
    },
    {
     "name": "stdout",
     "output_type": "stream",
     "text": [
      "saving bf at: , with loss: -1.53452 , at epoch: 990 learning rate: 0.001 , train_Ntot: 1 train_M1: 0 , train_Mdiff: 0 , epoch_tot_counter: 991\n"
     ]
    },
    {
     "name": "stderr",
     "output_type": "stream",
     "text": [
      "  5%|▌         | 1057/20000 [14:43<4:24:56,  1.19it/s]"
     ]
    },
    {
     "name": "stdout",
     "output_type": "stream",
     "text": [
      "saving bf at: , with loss: -1.53466 , at epoch: 1056 learning rate: 0.001 , train_Ntot: 1 train_M1: 0 , train_Mdiff: 0 , epoch_tot_counter: 1057\n"
     ]
    },
    {
     "name": "stderr",
     "output_type": "stream",
     "text": [
      "  6%|▌         | 1123/20000 [15:39<4:30:03,  1.17it/s]"
     ]
    },
    {
     "name": "stdout",
     "output_type": "stream",
     "text": [
      "saving bf at: , with loss: -1.53489 , at epoch: 1122 learning rate: 0.001 , train_Ntot: 1 train_M1: 0 , train_Mdiff: 0 , epoch_tot_counter: 1123\n"
     ]
    },
    {
     "name": "stderr",
     "output_type": "stream",
     "text": [
      "  6%|▌         | 1189/20000 [16:33<4:20:53,  1.20it/s]"
     ]
    },
    {
     "name": "stdout",
     "output_type": "stream",
     "text": [
      "saving bf at: , with loss: -1.53497 , at epoch: 1188 learning rate: 0.001 , train_Ntot: 1 train_M1: 0 , train_Mdiff: 0 , epoch_tot_counter: 1189\n"
     ]
    },
    {
     "name": "stderr",
     "output_type": "stream",
     "text": [
      "  6%|▋         | 1255/20000 [17:28<4:20:00,  1.20it/s]"
     ]
    },
    {
     "name": "stdout",
     "output_type": "stream",
     "text": [
      "saving bf at: , with loss: -1.53512 , at epoch: 1254 learning rate: 0.001 , train_Ntot: 1 train_M1: 0 , train_Mdiff: 0 , epoch_tot_counter: 1255\n"
     ]
    },
    {
     "name": "stderr",
     "output_type": "stream",
     "text": [
      "  7%|▋         | 1321/20000 [18:24<4:20:06,  1.20it/s]"
     ]
    },
    {
     "name": "stdout",
     "output_type": "stream",
     "text": [
      "saving bf at: , with loss: -1.53523 , at epoch: 1320 learning rate: 0.001 , train_Ntot: 1 train_M1: 0 , train_Mdiff: 0 , epoch_tot_counter: 1321\n"
     ]
    },
    {
     "name": "stderr",
     "output_type": "stream",
     "text": [
      "  7%|▋         | 1387/20000 [19:19<4:18:22,  1.20it/s]"
     ]
    },
    {
     "name": "stdout",
     "output_type": "stream",
     "text": [
      "saving bf at: , with loss: -1.53527 , at epoch: 1386 learning rate: 0.001 , train_Ntot: 1 train_M1: 0 , train_Mdiff: 0 , epoch_tot_counter: 1387\n"
     ]
    },
    {
     "name": "stderr",
     "output_type": "stream",
     "text": [
      "  7%|▋         | 1453/20000 [20:14<4:19:00,  1.19it/s]"
     ]
    },
    {
     "name": "stdout",
     "output_type": "stream",
     "text": [
      "saving bf at: , with loss: -1.53538 , at epoch: 1452 learning rate: 0.001 , train_Ntot: 1 train_M1: 0 , train_Mdiff: 0 , epoch_tot_counter: 1453\n"
     ]
    },
    {
     "name": "stderr",
     "output_type": "stream",
     "text": [
      "  8%|▊         | 1519/20000 [21:09<4:20:14,  1.18it/s]"
     ]
    },
    {
     "name": "stdout",
     "output_type": "stream",
     "text": [
      "saving bf at: , with loss: -1.5355 , at epoch: 1518 learning rate: 0.001 , train_Ntot: 1 train_M1: 0 , train_Mdiff: 0 , epoch_tot_counter: 1519\n"
     ]
    },
    {
     "name": "stderr",
     "output_type": "stream",
     "text": [
      "  8%|▊         | 1651/20000 [22:59<4:15:36,  1.20it/s]"
     ]
    },
    {
     "name": "stdout",
     "output_type": "stream",
     "text": [
      "saving bf at: , with loss: -1.53553 , at epoch: 1650 learning rate: 0.001 , train_Ntot: 1 train_M1: 0 , train_Mdiff: 0 , epoch_tot_counter: 1651\n"
     ]
    },
    {
     "name": "stderr",
     "output_type": "stream",
     "text": [
      "  9%|▊         | 1717/20000 [23:55<4:13:27,  1.20it/s]"
     ]
    },
    {
     "name": "stdout",
     "output_type": "stream",
     "text": [
      "saving bf at: , with loss: -1.53574 , at epoch: 1716 learning rate: 0.001 , train_Ntot: 1 train_M1: 0 , train_Mdiff: 0 , epoch_tot_counter: 1717\n"
     ]
    },
    {
     "name": "stderr",
     "output_type": "stream",
     "text": [
      "  9%|▉         | 1783/20000 [24:50<4:14:08,  1.19it/s]"
     ]
    },
    {
     "name": "stdout",
     "output_type": "stream",
     "text": [
      "saving bf at: , with loss: -1.53583 , at epoch: 1782 learning rate: 0.001 , train_Ntot: 1 train_M1: 0 , train_Mdiff: 0 , epoch_tot_counter: 1783\n"
     ]
    },
    {
     "name": "stderr",
     "output_type": "stream",
     "text": [
      " 10%|▉         | 1915/20000 [26:42<4:15:40,  1.18it/s]"
     ]
    },
    {
     "name": "stdout",
     "output_type": "stream",
     "text": [
      "saving bf at: , with loss: -1.53587 , at epoch: 1914 learning rate: 0.001 , train_Ntot: 1 train_M1: 0 , train_Mdiff: 0 , epoch_tot_counter: 1915\n"
     ]
    },
    {
     "name": "stderr",
     "output_type": "stream",
     "text": [
      " 10%|▉         | 1981/20000 [27:37<4:23:36,  1.14it/s]"
     ]
    },
    {
     "name": "stdout",
     "output_type": "stream",
     "text": [
      "saving bf at: , with loss: -1.53593 , at epoch: 1980 learning rate: 0.001 , train_Ntot: 1 train_M1: 0 , train_Mdiff: 0 , epoch_tot_counter: 1981\n"
     ]
    },
    {
     "name": "stderr",
     "output_type": "stream",
     "text": [
      " 10%|█         | 2047/20000 [28:32<4:09:27,  1.20it/s]"
     ]
    },
    {
     "name": "stdout",
     "output_type": "stream",
     "text": [
      "saving bf at: , with loss: -1.53615 , at epoch: 2046 learning rate: 0.001 , train_Ntot: 1 train_M1: 0 , train_Mdiff: 0 , epoch_tot_counter: 2047\n"
     ]
    },
    {
     "name": "stderr",
     "output_type": "stream",
     "text": [
      " 11%|█         | 2113/20000 [29:28<4:08:29,  1.20it/s]"
     ]
    },
    {
     "name": "stdout",
     "output_type": "stream",
     "text": [
      "saving bf at: , with loss: -1.53638 , at epoch: 2112 learning rate: 0.001 , train_Ntot: 1 train_M1: 0 , train_Mdiff: 0 , epoch_tot_counter: 2113\n"
     ]
    },
    {
     "name": "stderr",
     "output_type": "stream",
     "text": [
      " 11%|█         | 2245/20000 [31:19<4:07:06,  1.20it/s]"
     ]
    },
    {
     "name": "stdout",
     "output_type": "stream",
     "text": [
      "saving bf at: , with loss: -1.5365 , at epoch: 2244 learning rate: 0.001 , train_Ntot: 1 train_M1: 0 , train_Mdiff: 0 , epoch_tot_counter: 2245\n"
     ]
    },
    {
     "name": "stderr",
     "output_type": "stream",
     "text": [
      " 12%|█▏        | 2311/20000 [32:14<4:07:10,  1.19it/s]"
     ]
    },
    {
     "name": "stdout",
     "output_type": "stream",
     "text": [
      "saving bf at: , with loss: -1.53654 , at epoch: 2310 learning rate: 0.001 , train_Ntot: 1 train_M1: 0 , train_Mdiff: 0 , epoch_tot_counter: 2311\n"
     ]
    },
    {
     "name": "stderr",
     "output_type": "stream",
     "text": [
      " 12%|█▏        | 2377/20000 [33:09<4:09:42,  1.18it/s]"
     ]
    },
    {
     "name": "stdout",
     "output_type": "stream",
     "text": [
      "saving bf at: , with loss: -1.53675 , at epoch: 2376 learning rate: 0.001 , train_Ntot: 1 train_M1: 0 , train_Mdiff: 0 , epoch_tot_counter: 2377\n"
     ]
    },
    {
     "name": "stderr",
     "output_type": "stream",
     "text": [
      " 13%|█▎        | 2509/20000 [34:59<4:02:03,  1.20it/s]"
     ]
    },
    {
     "name": "stdout",
     "output_type": "stream",
     "text": [
      "saving bf at: , with loss: -1.53678 , at epoch: 2508 learning rate: 0.001 , train_Ntot: 1 train_M1: 0 , train_Mdiff: 0 , epoch_tot_counter: 2509\n"
     ]
    },
    {
     "name": "stderr",
     "output_type": "stream",
     "text": [
      " 13%|█▎        | 2575/20000 [35:55<4:02:02,  1.20it/s]"
     ]
    },
    {
     "name": "stdout",
     "output_type": "stream",
     "text": [
      "saving bf at: , with loss: -1.53685 , at epoch: 2574 learning rate: 0.001 , train_Ntot: 1 train_M1: 0 , train_Mdiff: 0 , epoch_tot_counter: 2575\n"
     ]
    },
    {
     "name": "stderr",
     "output_type": "stream",
     "text": [
      " 14%|█▎        | 2707/20000 [37:46<4:00:18,  1.20it/s]"
     ]
    },
    {
     "name": "stdout",
     "output_type": "stream",
     "text": [
      "saving bf at: , with loss: -1.53699 , at epoch: 2706 learning rate: 0.001 , train_Ntot: 1 train_M1: 0 , train_Mdiff: 0 , epoch_tot_counter: 2707\n"
     ]
    },
    {
     "name": "stderr",
     "output_type": "stream",
     "text": [
      " 15%|█▍        | 2905/20000 [40:32<3:56:48,  1.20it/s]"
     ]
    },
    {
     "name": "stdout",
     "output_type": "stream",
     "text": [
      "saving bf at: , with loss: -1.53701 , at epoch: 2904 learning rate: 0.001 , train_Ntot: 1 train_M1: 0 , train_Mdiff: 0 , epoch_tot_counter: 2905\n"
     ]
    },
    {
     "name": "stderr",
     "output_type": "stream",
     "text": [
      " 15%|█▍        | 2971/20000 [41:28<3:57:02,  1.20it/s]"
     ]
    },
    {
     "name": "stdout",
     "output_type": "stream",
     "text": [
      "saving bf at: , with loss: -1.53717 , at epoch: 2970 learning rate: 0.001 , train_Ntot: 1 train_M1: 0 , train_Mdiff: 0 , epoch_tot_counter: 2971\n"
     ]
    },
    {
     "name": "stderr",
     "output_type": "stream",
     "text": [
      " 15%|█▌        | 3037/20000 [42:24<3:54:59,  1.20it/s]"
     ]
    },
    {
     "name": "stdout",
     "output_type": "stream",
     "text": [
      "saving bf at: , with loss: -1.53722 , at epoch: 3036 learning rate: 0.001 , train_Ntot: 1 train_M1: 0 , train_Mdiff: 0 , epoch_tot_counter: 3037\n"
     ]
    },
    {
     "name": "stderr",
     "output_type": "stream",
     "text": [
      " 16%|█▌        | 3169/20000 [44:14<3:53:58,  1.20it/s]"
     ]
    },
    {
     "name": "stdout",
     "output_type": "stream",
     "text": [
      "saving bf at: , with loss: -1.53727 , at epoch: 3168 learning rate: 0.001 , train_Ntot: 1 train_M1: 0 , train_Mdiff: 0 , epoch_tot_counter: 3169\n"
     ]
    },
    {
     "name": "stderr",
     "output_type": "stream",
     "text": [
      " 17%|█▋        | 3301/20000 [46:05<3:52:11,  1.20it/s]"
     ]
    },
    {
     "name": "stdout",
     "output_type": "stream",
     "text": [
      "saving bf at: , with loss: -1.53732 , at epoch: 3300 learning rate: 0.001 , train_Ntot: 1 train_M1: 0 , train_Mdiff: 0 , epoch_tot_counter: 3301\n"
     ]
    },
    {
     "name": "stderr",
     "output_type": "stream",
     "text": [
      " 17%|█▋        | 3367/20000 [47:00<3:50:53,  1.20it/s]"
     ]
    },
    {
     "name": "stdout",
     "output_type": "stream",
     "text": [
      "saving bf at: , with loss: -1.53739 , at epoch: 3366 learning rate: 0.001 , train_Ntot: 1 train_M1: 0 , train_Mdiff: 0 , epoch_tot_counter: 3367\n"
     ]
    },
    {
     "name": "stderr",
     "output_type": "stream",
     "text": [
      " 17%|█▋        | 3499/20000 [48:52<3:48:48,  1.20it/s]"
     ]
    },
    {
     "name": "stdout",
     "output_type": "stream",
     "text": [
      "saving bf at: , with loss: -1.53747 , at epoch: 3498 learning rate: 0.001 , train_Ntot: 1 train_M1: 0 , train_Mdiff: 0 , epoch_tot_counter: 3499\n"
     ]
    },
    {
     "name": "stderr",
     "output_type": "stream",
     "text": [
      " 19%|█▉        | 3829/20000 [53:29<3:45:16,  1.20it/s]"
     ]
    },
    {
     "name": "stdout",
     "output_type": "stream",
     "text": [
      "saving bf at: , with loss: -1.53761 , at epoch: 3828 learning rate: 0.001 , train_Ntot: 1 train_M1: 0 , train_Mdiff: 0 , epoch_tot_counter: 3829\n"
     ]
    },
    {
     "name": "stderr",
     "output_type": "stream",
     "text": [
      " 19%|█▉        | 3895/20000 [54:25<3:44:07,  1.20it/s]"
     ]
    },
    {
     "name": "stdout",
     "output_type": "stream",
     "text": [
      "saving bf at: , with loss: -1.53763 , at epoch: 3894 learning rate: 0.001 , train_Ntot: 1 train_M1: 0 , train_Mdiff: 0 , epoch_tot_counter: 3895\n"
     ]
    },
    {
     "name": "stderr",
     "output_type": "stream",
     "text": [
      " 20%|█▉        | 3961/20000 [55:21<3:42:53,  1.20it/s]"
     ]
    },
    {
     "name": "stdout",
     "output_type": "stream",
     "text": [
      "saving bf at: , with loss: -1.53765 , at epoch: 3960 learning rate: 0.001 , train_Ntot: 1 train_M1: 0 , train_Mdiff: 0 , epoch_tot_counter: 3961\n"
     ]
    },
    {
     "name": "stderr",
     "output_type": "stream",
     "text": [
      " 21%|██▏       | 4291/20000 [59:59<3:37:54,  1.20it/s]"
     ]
    },
    {
     "name": "stdout",
     "output_type": "stream",
     "text": [
      "saving bf at: , with loss: -1.53766 , at epoch: 4290 learning rate: 0.001 , train_Ntot: 1 train_M1: 0 , train_Mdiff: 0 , epoch_tot_counter: 4291\n"
     ]
    },
    {
     "name": "stderr",
     "output_type": "stream",
     "text": [
      " 22%|██▏       | 4423/20000 [1:01:51<3:37:17,  1.19it/s]"
     ]
    },
    {
     "name": "stdout",
     "output_type": "stream",
     "text": [
      "saving bf at: , with loss: -1.53774 , at epoch: 4422 learning rate: 0.001 , train_Ntot: 1 train_M1: 0 , train_Mdiff: 0 , epoch_tot_counter: 4423\n"
     ]
    },
    {
     "name": "stderr",
     "output_type": "stream",
     "text": [
      " 23%|██▎       | 4621/20000 [1:04:38<3:49:28,  1.12it/s]"
     ]
    },
    {
     "name": "stdout",
     "output_type": "stream",
     "text": [
      "saving bf at: , with loss: -1.53786 , at epoch: 4620 learning rate: 0.001 , train_Ntot: 1 train_M1: 0 , train_Mdiff: 0 , epoch_tot_counter: 4621\n"
     ]
    },
    {
     "name": "stderr",
     "output_type": "stream",
     "text": [
      " 24%|██▍       | 4885/20000 [1:08:19<3:29:45,  1.20it/s]"
     ]
    },
    {
     "name": "stdout",
     "output_type": "stream",
     "text": [
      "saving bf at: , with loss: -1.53786 , at epoch: 4884 learning rate: 0.001 , train_Ntot: 1 train_M1: 0 , train_Mdiff: 0 , epoch_tot_counter: 4885\n"
     ]
    },
    {
     "name": "stderr",
     "output_type": "stream",
     "text": [
      " 25%|██▍       | 4951/20000 [1:09:14<3:30:33,  1.19it/s]"
     ]
    },
    {
     "name": "stdout",
     "output_type": "stream",
     "text": [
      "saving bf at: , with loss: -1.53794 , at epoch: 4950 learning rate: 0.001 , train_Ntot: 1 train_M1: 0 , train_Mdiff: 0 , epoch_tot_counter: 4951\n"
     ]
    },
    {
     "name": "stderr",
     "output_type": "stream",
     "text": [
      " 26%|██▌       | 5149/20000 [1:12:00<3:25:46,  1.20it/s]"
     ]
    },
    {
     "name": "stdout",
     "output_type": "stream",
     "text": [
      "saving bf at: , with loss: -1.53796 , at epoch: 5148 learning rate: 0.001 , train_Ntot: 1 train_M1: 0 , train_Mdiff: 0 , epoch_tot_counter: 5149\n"
     ]
    },
    {
     "name": "stderr",
     "output_type": "stream",
     "text": [
      " 26%|██▋       | 5281/20000 [1:13:51<3:29:54,  1.17it/s]"
     ]
    },
    {
     "name": "stdout",
     "output_type": "stream",
     "text": [
      "saving bf at: , with loss: -1.53799 , at epoch: 5280 learning rate: 0.001 , train_Ntot: 1 train_M1: 0 , train_Mdiff: 0 , epoch_tot_counter: 5281\n"
     ]
    },
    {
     "name": "stderr",
     "output_type": "stream",
     "text": [
      " 27%|██▋       | 5347/20000 [1:14:46<3:23:59,  1.20it/s]"
     ]
    },
    {
     "name": "stdout",
     "output_type": "stream",
     "text": [
      "saving bf at: , with loss: -1.53805 , at epoch: 5346 learning rate: 0.001 , train_Ntot: 1 train_M1: 0 , train_Mdiff: 0 , epoch_tot_counter: 5347\n"
     ]
    },
    {
     "name": "stderr",
     "output_type": "stream",
     "text": [
      " 28%|██▊       | 5545/20000 [1:17:31<3:21:07,  1.20it/s]"
     ]
    },
    {
     "name": "stdout",
     "output_type": "stream",
     "text": [
      "saving bf at: , with loss: -1.53808 , at epoch: 5544 learning rate: 0.001 , train_Ntot: 1 train_M1: 0 , train_Mdiff: 0 , epoch_tot_counter: 5545\n"
     ]
    },
    {
     "name": "stderr",
     "output_type": "stream",
     "text": [
      " 29%|██▊       | 5743/20000 [1:20:17<3:18:30,  1.20it/s]"
     ]
    },
    {
     "name": "stdout",
     "output_type": "stream",
     "text": [
      "saving bf at: , with loss: -1.53812 , at epoch: 5742 learning rate: 0.001 , train_Ntot: 1 train_M1: 0 , train_Mdiff: 0 , epoch_tot_counter: 5743\n"
     ]
    },
    {
     "name": "stderr",
     "output_type": "stream",
     "text": [
      " 29%|██▉       | 5809/20000 [1:21:13<3:18:17,  1.19it/s]"
     ]
    },
    {
     "name": "stdout",
     "output_type": "stream",
     "text": [
      "saving bf at: , with loss: -1.53814 , at epoch: 5808 learning rate: 0.001 , train_Ntot: 1 train_M1: 0 , train_Mdiff: 0 , epoch_tot_counter: 5809\n"
     ]
    },
    {
     "name": "stderr",
     "output_type": "stream",
     "text": [
      " 30%|██▉       | 5941/20000 [1:23:03<3:16:44,  1.19it/s]"
     ]
    },
    {
     "name": "stdout",
     "output_type": "stream",
     "text": [
      "saving bf at: , with loss: -1.53815 , at epoch: 5940 learning rate: 0.001 , train_Ntot: 1 train_M1: 0 , train_Mdiff: 0 , epoch_tot_counter: 5941\n"
     ]
    },
    {
     "name": "stderr",
     "output_type": "stream",
     "text": [
      " 31%|███       | 6139/20000 [1:25:48<3:12:12,  1.20it/s]"
     ]
    },
    {
     "name": "stdout",
     "output_type": "stream",
     "text": [
      "saving bf at: , with loss: -1.53821 , at epoch: 6138 learning rate: 0.001 , train_Ntot: 1 train_M1: 0 , train_Mdiff: 0 , epoch_tot_counter: 6139\n"
     ]
    },
    {
     "name": "stderr",
     "output_type": "stream",
     "text": [
      " 31%|███▏      | 6271/20000 [1:27:39<3:17:14,  1.16it/s]"
     ]
    },
    {
     "name": "stdout",
     "output_type": "stream",
     "text": [
      "saving bf at: , with loss: -1.53824 , at epoch: 6270 learning rate: 0.001 , train_Ntot: 1 train_M1: 0 , train_Mdiff: 0 , epoch_tot_counter: 6271\n"
     ]
    },
    {
     "name": "stderr",
     "output_type": "stream",
     "text": [
      " 33%|███▎      | 6535/20000 [1:31:19<3:06:49,  1.20it/s]"
     ]
    },
    {
     "name": "stdout",
     "output_type": "stream",
     "text": [
      "saving bf at: , with loss: -1.53825 , at epoch: 6534 learning rate: 0.001 , train_Ntot: 1 train_M1: 0 , train_Mdiff: 0 , epoch_tot_counter: 6535\n"
     ]
    },
    {
     "name": "stderr",
     "output_type": "stream",
     "text": [
      " 33%|███▎      | 6667/20000 [1:33:09<3:10:47,  1.16it/s]"
     ]
    },
    {
     "name": "stdout",
     "output_type": "stream",
     "text": [
      "saving bf at: , with loss: -1.53829 , at epoch: 6666 learning rate: 0.001 , train_Ntot: 1 train_M1: 0 , train_Mdiff: 0 , epoch_tot_counter: 6667\n"
     ]
    },
    {
     "name": "stderr",
     "output_type": "stream",
     "text": [
      " 34%|███▍      | 6799/20000 [1:34:59<3:03:39,  1.20it/s]"
     ]
    },
    {
     "name": "stdout",
     "output_type": "stream",
     "text": [
      "saving bf at: , with loss: -1.53831 , at epoch: 6798 learning rate: 0.001 , train_Ntot: 1 train_M1: 0 , train_Mdiff: 0 , epoch_tot_counter: 6799\n"
     ]
    },
    {
     "name": "stderr",
     "output_type": "stream",
     "text": [
      " 35%|███▍      | 6931/20000 [1:36:49<3:01:35,  1.20it/s]"
     ]
    },
    {
     "name": "stdout",
     "output_type": "stream",
     "text": [
      "saving bf at: , with loss: -1.53834 , at epoch: 6930 learning rate: 0.001 , train_Ntot: 1 train_M1: 0 , train_Mdiff: 0 , epoch_tot_counter: 6931\n"
     ]
    },
    {
     "name": "stderr",
     "output_type": "stream",
     "text": [
      " 35%|███▌      | 7063/20000 [1:38:40<3:08:45,  1.14it/s]"
     ]
    },
    {
     "name": "stdout",
     "output_type": "stream",
     "text": [
      "saving bf at: , with loss: -1.53836 , at epoch: 7062 learning rate: 0.001 , train_Ntot: 1 train_M1: 0 , train_Mdiff: 0 , epoch_tot_counter: 7063\n"
     ]
    },
    {
     "name": "stderr",
     "output_type": "stream",
     "text": [
      " 37%|███▋      | 7327/20000 [1:42:20<2:56:32,  1.20it/s]"
     ]
    },
    {
     "name": "stdout",
     "output_type": "stream",
     "text": [
      "saving bf at: , with loss: -1.53837 , at epoch: 7326 learning rate: 0.001 , train_Ntot: 1 train_M1: 0 , train_Mdiff: 0 , epoch_tot_counter: 7327\n"
     ]
    },
    {
     "name": "stderr",
     "output_type": "stream",
     "text": [
      " 38%|███▊      | 7525/20000 [1:45:06<3:05:44,  1.12it/s]"
     ]
    },
    {
     "name": "stdout",
     "output_type": "stream",
     "text": [
      "saving bf at: , with loss: -1.5384 , at epoch: 7524 learning rate: 0.001 , train_Ntot: 1 train_M1: 0 , train_Mdiff: 0 , epoch_tot_counter: 7525\n"
     ]
    },
    {
     "name": "stderr",
     "output_type": "stream",
     "text": [
      " 38%|███▊      | 7591/20000 [1:46:01<2:52:08,  1.20it/s]"
     ]
    },
    {
     "name": "stdout",
     "output_type": "stream",
     "text": [
      "saving bf at: , with loss: -1.5384 , at epoch: 7590 learning rate: 0.001 , train_Ntot: 1 train_M1: 0 , train_Mdiff: 0 , epoch_tot_counter: 7591\n"
     ]
    },
    {
     "name": "stderr",
     "output_type": "stream",
     "text": [
      " 39%|███▊      | 7723/20000 [1:47:52<2:50:29,  1.20it/s]"
     ]
    },
    {
     "name": "stdout",
     "output_type": "stream",
     "text": [
      "saving bf at: , with loss: -1.53843 , at epoch: 7722 learning rate: 0.001 , train_Ntot: 1 train_M1: 0 , train_Mdiff: 0 , epoch_tot_counter: 7723\n"
     ]
    },
    {
     "name": "stderr",
     "output_type": "stream",
     "text": [
      " 40%|███▉      | 7921/20000 [1:50:37<2:55:48,  1.15it/s]"
     ]
    },
    {
     "name": "stdout",
     "output_type": "stream",
     "text": [
      "saving bf at: , with loss: -1.53844 , at epoch: 7920 learning rate: 0.001 , train_Ntot: 1 train_M1: 0 , train_Mdiff: 0 , epoch_tot_counter: 7921\n"
     ]
    },
    {
     "name": "stderr",
     "output_type": "stream",
     "text": [
      " 41%|████      | 8185/20000 [1:54:17<2:44:05,  1.20it/s]"
     ]
    },
    {
     "name": "stdout",
     "output_type": "stream",
     "text": [
      "saving bf at: , with loss: -1.53851 , at epoch: 8184 learning rate: 0.001 , train_Ntot: 1 train_M1: 0 , train_Mdiff: 0 , epoch_tot_counter: 8185\n"
     ]
    },
    {
     "name": "stderr",
     "output_type": "stream",
     "text": [
      " 42%|████▏     | 8449/20000 [1:57:58<2:40:47,  1.20it/s]"
     ]
    },
    {
     "name": "stdout",
     "output_type": "stream",
     "text": [
      "saving bf at: , with loss: -1.53851 , at epoch: 8448 learning rate: 0.001 , train_Ntot: 1 train_M1: 0 , train_Mdiff: 0 , epoch_tot_counter: 8449\n"
     ]
    },
    {
     "name": "stderr",
     "output_type": "stream",
     "text": [
      " 43%|████▎     | 8515/20000 [1:58:53<2:39:08,  1.20it/s]"
     ]
    },
    {
     "name": "stdout",
     "output_type": "stream",
     "text": [
      "saving bf at: , with loss: -1.53855 , at epoch: 8514 learning rate: 0.001 , train_Ntot: 1 train_M1: 0 , train_Mdiff: 0 , epoch_tot_counter: 8515\n"
     ]
    },
    {
     "name": "stderr",
     "output_type": "stream",
     "text": [
      " 44%|████▍     | 8806/20000 [2:02:57<2:36:18,  1.19it/s]\n"
     ]
    },
    {
     "ename": "KeyboardInterrupt",
     "evalue": "",
     "output_type": "error",
     "traceback": [
      "\u001b[0;31m---------------------------------------------------------------------------\u001b[0m",
      "\u001b[0;31mKeyboardInterrupt\u001b[0m                         Traceback (most recent call last)",
      "\u001b[1;32m/mnt/home/spandey/ceph/AR_NPE/notebooks/TEST_ROCKSTAR_RUNS/FINAL_CHECK_ns256_Ntot_only.ipynb Cell 31\u001b[0m line \u001b[0;36m5\n\u001b[1;32m     <a href='vscode-notebook-cell://tunnel%2Brusty/mnt/home/spandey/ceph/AR_NPE/notebooks/TEST_ROCKSTAR_RUNS/FINAL_CHECK_ns256_Ntot_only.ipynb#X42sdnNjb2RlLXJlbW90ZQ%3D%3D?line=42'>43</a>\u001b[0m torch\u001b[39m.\u001b[39mcuda\u001b[39m.\u001b[39mempty_cache()\n\u001b[1;32m     <a href='vscode-notebook-cell://tunnel%2Brusty/mnt/home/spandey/ceph/AR_NPE/notebooks/TEST_ROCKSTAR_RUNS/FINAL_CHECK_ns256_Ntot_only.ipynb#X42sdnNjb2RlLXJlbW90ZQ%3D%3D?line=43'>44</a>\u001b[0m \u001b[39m# if 1-all_gpu:\u001b[39;00m\n\u001b[1;32m     <a href='vscode-notebook-cell://tunnel%2Brusty/mnt/home/spandey/ceph/AR_NPE/notebooks/TEST_ROCKSTAR_RUNS/FINAL_CHECK_ns256_Ntot_only.ipynb#X42sdnNjb2RlLXJlbW90ZQ%3D%3D?line=44'>45</a>\u001b[0m \u001b[39m# cond_tensor_jd = cond_tensor_jd.cuda(dev)\u001b[39;00m\n\u001b[1;32m     <a href='vscode-notebook-cell://tunnel%2Brusty/mnt/home/spandey/ceph/AR_NPE/notebooks/TEST_ROCKSTAR_RUNS/FINAL_CHECK_ns256_Ntot_only.ipynb#X42sdnNjb2RlLXJlbW90ZQ%3D%3D?line=45'>46</a>\u001b[0m \u001b[39m# cond_tensor_nsh_jd = cond_tensor_nsh_jd.cuda(dev)\u001b[39;00m\n\u001b[0;32m   (...)\u001b[0m\n\u001b[1;32m     <a href='vscode-notebook-cell://tunnel%2Brusty/mnt/home/spandey/ceph/AR_NPE/notebooks/TEST_ROCKSTAR_RUNS/FINAL_CHECK_ns256_Ntot_only.ipynb#X42sdnNjb2RlLXJlbW90ZQ%3D%3D?line=54'>55</a>\u001b[0m \u001b[39m#     X_M1_FP_jd = X_M1_FP_jd.cuda(dev)\u001b[39;00m\n\u001b[1;32m     <a href='vscode-notebook-cell://tunnel%2Brusty/mnt/home/spandey/ceph/AR_NPE/notebooks/TEST_ROCKSTAR_RUNS/FINAL_CHECK_ns256_Ntot_only.ipynb#X42sdnNjb2RlLXJlbW90ZQ%3D%3D?line=55'>56</a>\u001b[0m \u001b[39m# torch.cuda.empty_cache()\u001b[39;00m\n\u001b[0;32m---> <a href='vscode-notebook-cell://tunnel%2Brusty/mnt/home/spandey/ceph/AR_NPE/notebooks/TEST_ROCKSTAR_RUNS/FINAL_CHECK_ns256_Ntot_only.ipynb#X42sdnNjb2RlLXJlbW90ZQ%3D%3D?line=57'>58</a>\u001b[0m loss \u001b[39m=\u001b[39m model(\n\u001b[1;32m     <a href='vscode-notebook-cell://tunnel%2Brusty/mnt/home/spandey/ceph/AR_NPE/notebooks/TEST_ROCKSTAR_RUNS/FINAL_CHECK_ns256_Ntot_only.ipynb#X42sdnNjb2RlLXJlbW90ZQ%3D%3D?line=58'>59</a>\u001b[0m     X_Mdiff_jd,\n\u001b[1;32m     <a href='vscode-notebook-cell://tunnel%2Brusty/mnt/home/spandey/ceph/AR_NPE/notebooks/TEST_ROCKSTAR_RUNS/FINAL_CHECK_ns256_Ntot_only.ipynb#X42sdnNjb2RlLXJlbW90ZQ%3D%3D?line=59'>60</a>\u001b[0m     X_M1_jd,\n\u001b[1;32m     <a href='vscode-notebook-cell://tunnel%2Brusty/mnt/home/spandey/ceph/AR_NPE/notebooks/TEST_ROCKSTAR_RUNS/FINAL_CHECK_ns256_Ntot_only.ipynb#X42sdnNjb2RlLXJlbW90ZQ%3D%3D?line=60'>61</a>\u001b[0m     X_Nhalo_jd,\n\u001b[1;32m     <a href='vscode-notebook-cell://tunnel%2Brusty/mnt/home/spandey/ceph/AR_NPE/notebooks/TEST_ROCKSTAR_RUNS/FINAL_CHECK_ns256_Ntot_only.ipynb#X42sdnNjb2RlLXJlbW90ZQ%3D%3D?line=61'>62</a>\u001b[0m     cond_x\u001b[39m=\u001b[39;49mcond_tensor_jd,\n\u001b[1;32m     <a href='vscode-notebook-cell://tunnel%2Brusty/mnt/home/spandey/ceph/AR_NPE/notebooks/TEST_ROCKSTAR_RUNS/FINAL_CHECK_ns256_Ntot_only.ipynb#X42sdnNjb2RlLXJlbW90ZQ%3D%3D?line=62'>63</a>\u001b[0m     cond_x_nsh\u001b[39m=\u001b[39;49mcond_tensor_nsh_jd,\n\u001b[1;32m     <a href='vscode-notebook-cell://tunnel%2Brusty/mnt/home/spandey/ceph/AR_NPE/notebooks/TEST_ROCKSTAR_RUNS/FINAL_CHECK_ns256_Ntot_only.ipynb#X42sdnNjb2RlLXJlbW90ZQ%3D%3D?line=63'>64</a>\u001b[0m     mask_Mdiff_truth_all\u001b[39m=\u001b[39;49mmask_tensor_Mdiff_train_jd,\n\u001b[1;32m     <a href='vscode-notebook-cell://tunnel%2Brusty/mnt/home/spandey/ceph/AR_NPE/notebooks/TEST_ROCKSTAR_RUNS/FINAL_CHECK_ns256_Ntot_only.ipynb#X42sdnNjb2RlLXJlbW90ZQ%3D%3D?line=64'>65</a>\u001b[0m     mask_M1_truth_all\u001b[39m=\u001b[39;49mmask_tensor_M1_train_jd,\n\u001b[1;32m     <a href='vscode-notebook-cell://tunnel%2Brusty/mnt/home/spandey/ceph/AR_NPE/notebooks/TEST_ROCKSTAR_RUNS/FINAL_CHECK_ns256_Ntot_only.ipynb#X42sdnNjb2RlLXJlbW90ZQ%3D%3D?line=65'>66</a>\u001b[0m     Nhalos_truth_all\u001b[39m=\u001b[39;49mNhalos_truth_tensor_jd,\n\u001b[1;32m     <a href='vscode-notebook-cell://tunnel%2Brusty/mnt/home/spandey/ceph/AR_NPE/notebooks/TEST_ROCKSTAR_RUNS/FINAL_CHECK_ns256_Ntot_only.ipynb#X42sdnNjb2RlLXJlbW90ZQ%3D%3D?line=66'>67</a>\u001b[0m     use_Ntot_samples\u001b[39m=\u001b[39;49m\u001b[39mFalse\u001b[39;49;00m,\n\u001b[1;32m     <a href='vscode-notebook-cell://tunnel%2Brusty/mnt/home/spandey/ceph/AR_NPE/notebooks/TEST_ROCKSTAR_RUNS/FINAL_CHECK_ns256_Ntot_only.ipynb#X42sdnNjb2RlLXJlbW90ZQ%3D%3D?line=67'>68</a>\u001b[0m     use_M1_samples\u001b[39m=\u001b[39;49m\u001b[39mFalse\u001b[39;49;00m,\n\u001b[1;32m     <a href='vscode-notebook-cell://tunnel%2Brusty/mnt/home/spandey/ceph/AR_NPE/notebooks/TEST_ROCKSTAR_RUNS/FINAL_CHECK_ns256_Ntot_only.ipynb#X42sdnNjb2RlLXJlbW90ZQ%3D%3D?line=68'>69</a>\u001b[0m     train_Ntot\u001b[39m=\u001b[39;49mtrain_Ntot,\n\u001b[1;32m     <a href='vscode-notebook-cell://tunnel%2Brusty/mnt/home/spandey/ceph/AR_NPE/notebooks/TEST_ROCKSTAR_RUNS/FINAL_CHECK_ns256_Ntot_only.ipynb#X42sdnNjb2RlLXJlbW90ZQ%3D%3D?line=69'>70</a>\u001b[0m     train_M1\u001b[39m=\u001b[39;49mtrain_M1,\n\u001b[1;32m     <a href='vscode-notebook-cell://tunnel%2Brusty/mnt/home/spandey/ceph/AR_NPE/notebooks/TEST_ROCKSTAR_RUNS/FINAL_CHECK_ns256_Ntot_only.ipynb#X42sdnNjb2RlLXJlbW90ZQ%3D%3D?line=70'>71</a>\u001b[0m     train_Mdiff\u001b[39m=\u001b[39;49mtrain_Mdiff,\n\u001b[1;32m     <a href='vscode-notebook-cell://tunnel%2Brusty/mnt/home/spandey/ceph/AR_NPE/notebooks/TEST_ROCKSTAR_RUNS/FINAL_CHECK_ns256_Ntot_only.ipynb#X42sdnNjb2RlLXJlbW90ZQ%3D%3D?line=71'>72</a>\u001b[0m     \u001b[39m# x_Mdiff_FP=X_Mdiff_FP,\u001b[39;49;00m\n\u001b[1;32m     <a href='vscode-notebook-cell://tunnel%2Brusty/mnt/home/spandey/ceph/AR_NPE/notebooks/TEST_ROCKSTAR_RUNS/FINAL_CHECK_ns256_Ntot_only.ipynb#X42sdnNjb2RlLXJlbW90ZQ%3D%3D?line=72'>73</a>\u001b[0m     x_M1_FP\u001b[39m=\u001b[39;49mX_M1_FP_jd,\n\u001b[1;32m     <a href='vscode-notebook-cell://tunnel%2Brusty/mnt/home/spandey/ceph/AR_NPE/notebooks/TEST_ROCKSTAR_RUNS/FINAL_CHECK_ns256_Ntot_only.ipynb#X42sdnNjb2RlLXJlbW90ZQ%3D%3D?line=73'>74</a>\u001b[0m     \u001b[39m# x_Ntot_FP=X_Nhalo_FP,\u001b[39;49;00m\n\u001b[1;32m     <a href='vscode-notebook-cell://tunnel%2Brusty/mnt/home/spandey/ceph/AR_NPE/notebooks/TEST_ROCKSTAR_RUNS/FINAL_CHECK_ns256_Ntot_only.ipynb#X42sdnNjb2RlLXJlbW90ZQ%3D%3D?line=74'>75</a>\u001b[0m     \u001b[39m# Nhalos_truth_all_FP=Nhalos_truth_tensor_FP,\u001b[39;49;00m\n\u001b[1;32m     <a href='vscode-notebook-cell://tunnel%2Brusty/mnt/home/spandey/ceph/AR_NPE/notebooks/TEST_ROCKSTAR_RUNS/FINAL_CHECK_ns256_Ntot_only.ipynb#X42sdnNjb2RlLXJlbW90ZQ%3D%3D?line=75'>76</a>\u001b[0m     \u001b[39m# mask_Mdiff_truth_all_FP=mask_tensor_Mdiff_train_FP,\u001b[39;49;00m\n\u001b[1;32m     <a href='vscode-notebook-cell://tunnel%2Brusty/mnt/home/spandey/ceph/AR_NPE/notebooks/TEST_ROCKSTAR_RUNS/FINAL_CHECK_ns256_Ntot_only.ipynb#X42sdnNjb2RlLXJlbW90ZQ%3D%3D?line=76'>77</a>\u001b[0m     mask_M1_truth_all_FP\u001b[39m=\u001b[39;49mmask_tensor_M1_train_FP_jd,\n\u001b[1;32m     <a href='vscode-notebook-cell://tunnel%2Brusty/mnt/home/spandey/ceph/AR_NPE/notebooks/TEST_ROCKSTAR_RUNS/FINAL_CHECK_ns256_Ntot_only.ipynb#X42sdnNjb2RlLXJlbW90ZQ%3D%3D?line=77'>78</a>\u001b[0m     L2norm_Ntothist\u001b[39m=\u001b[39;49mL2norm_Ntothist,\n\u001b[1;32m     <a href='vscode-notebook-cell://tunnel%2Brusty/mnt/home/spandey/ceph/AR_NPE/notebooks/TEST_ROCKSTAR_RUNS/FINAL_CHECK_ns256_Ntot_only.ipynb#X42sdnNjb2RlLXJlbW90ZQ%3D%3D?line=78'>79</a>\u001b[0m     L2norm_M1hist\u001b[39m=\u001b[39;49mL2norm_M1hist        \n\u001b[1;32m     <a href='vscode-notebook-cell://tunnel%2Brusty/mnt/home/spandey/ceph/AR_NPE/notebooks/TEST_ROCKSTAR_RUNS/FINAL_CHECK_ns256_Ntot_only.ipynb#X42sdnNjb2RlLXJlbW90ZQ%3D%3D?line=79'>80</a>\u001b[0m     )\n\u001b[1;32m     <a href='vscode-notebook-cell://tunnel%2Brusty/mnt/home/spandey/ceph/AR_NPE/notebooks/TEST_ROCKSTAR_RUNS/FINAL_CHECK_ns256_Ntot_only.ipynb#X42sdnNjb2RlLXJlbW90ZQ%3D%3D?line=81'>82</a>\u001b[0m loss\u001b[39m.\u001b[39mbackward()\n\u001b[1;32m     <a href='vscode-notebook-cell://tunnel%2Brusty/mnt/home/spandey/ceph/AR_NPE/notebooks/TEST_ROCKSTAR_RUNS/FINAL_CHECK_ns256_Ntot_only.ipynb#X42sdnNjb2RlLXJlbW90ZQ%3D%3D?line=82'>83</a>\u001b[0m optimizer\u001b[39m.\u001b[39mstep()\n",
      "File \u001b[0;32m~/ceph/.venv/lib/python3.9/site-packages/torch/nn/modules/module.py:1501\u001b[0m, in \u001b[0;36mModule._call_impl\u001b[0;34m(self, *args, **kwargs)\u001b[0m\n\u001b[1;32m   1496\u001b[0m \u001b[39m# If we don't have any hooks, we want to skip the rest of the logic in\u001b[39;00m\n\u001b[1;32m   1497\u001b[0m \u001b[39m# this function, and just call forward.\u001b[39;00m\n\u001b[1;32m   1498\u001b[0m \u001b[39mif\u001b[39;00m \u001b[39mnot\u001b[39;00m (\u001b[39mself\u001b[39m\u001b[39m.\u001b[39m_backward_hooks \u001b[39mor\u001b[39;00m \u001b[39mself\u001b[39m\u001b[39m.\u001b[39m_backward_pre_hooks \u001b[39mor\u001b[39;00m \u001b[39mself\u001b[39m\u001b[39m.\u001b[39m_forward_hooks \u001b[39mor\u001b[39;00m \u001b[39mself\u001b[39m\u001b[39m.\u001b[39m_forward_pre_hooks\n\u001b[1;32m   1499\u001b[0m         \u001b[39mor\u001b[39;00m _global_backward_pre_hooks \u001b[39mor\u001b[39;00m _global_backward_hooks\n\u001b[1;32m   1500\u001b[0m         \u001b[39mor\u001b[39;00m _global_forward_hooks \u001b[39mor\u001b[39;00m _global_forward_pre_hooks):\n\u001b[0;32m-> 1501\u001b[0m     \u001b[39mreturn\u001b[39;00m forward_call(\u001b[39m*\u001b[39;49margs, \u001b[39m*\u001b[39;49m\u001b[39m*\u001b[39;49mkwargs)\n\u001b[1;32m   1502\u001b[0m \u001b[39m# Do not call functions when jit is used\u001b[39;00m\n\u001b[1;32m   1503\u001b[0m full_backward_hooks, non_full_backward_hooks \u001b[39m=\u001b[39m [], []\n",
      "File \u001b[0;32m/mnt/ceph/users/spandey/AR_NPE/nf/combined_models.py:149\u001b[0m, in \u001b[0;36mCOMBINED_Model.forward\u001b[0;34m(self, x_Mdiff, x_M1, x_Ntot, cond_x, cond_x_nsh, mask_Mdiff_truth_all, mask_M1_truth_all, Nhalos_truth_all, use_Ntot_samples, use_M1_samples, reg_M1, train_Ntot, train_M1, train_Mdiff, x_Mdiff_FP, x_M1_FP, x_Ntot_FP, Nhalos_truth_all_FP, mask_Mdiff_truth_all_FP, mask_M1_truth_all_FP, L2norm_M1hist, L2norm_Ntothist, delta_low, delta_mid1, delta_mid2, Ntot_hist_min, Ntot_hist_max, nbins_Ntot, nbins_M1, M1_hist_min, M1_hist_max)\u001b[0m\n\u001b[1;32m    147\u001b[0m \u001b[39mif\u001b[39;00m train_Ntot:\n\u001b[1;32m    148\u001b[0m     \u001b[39mif\u001b[39;00m jb \u001b[39m==\u001b[39m \u001b[39m0\u001b[39m:\n\u001b[0;32m--> 149\u001b[0m         loss_Ntot \u001b[39m=\u001b[39m \u001b[39m-\u001b[39m\u001b[39mself\u001b[39;49m\u001b[39m.\u001b[39;49mNtot_model\u001b[39m.\u001b[39;49mforward(x_Ntot[jb], cond_out_Ntot)\n\u001b[1;32m    150\u001b[0m     \u001b[39melse\u001b[39;00m:\n\u001b[1;32m    151\u001b[0m         loss_Ntot \u001b[39m+\u001b[39m\u001b[39m=\u001b[39m \u001b[39m-\u001b[39m\u001b[39mself\u001b[39m\u001b[39m.\u001b[39mNtot_model\u001b[39m.\u001b[39mforward(x_Ntot[jb], cond_out_Ntot)\n",
      "File \u001b[0;32m/mnt/ceph/users/spandey/AR_NPE/nf/all_models.py:149\u001b[0m, in \u001b[0;36mSumGaussModel.forward\u001b[0;34m(self, x, cond_inp)\u001b[0m\n\u001b[1;32m    145\u001b[0m \u001b[39m# bt = out[:, self.ngauss + 1]\u001b[39;00m\n\u001b[1;32m    146\u001b[0m \u001b[39m# bt = 5*(1 + nn.Tanh()(bt))                \u001b[39;00m\n\u001b[1;32m    147\u001b[0m \u001b[39m# we first predict the base distirbution given the alpha and beta of the form mu**alpha * exp(-beta*mu)\u001b[39;00m\n\u001b[1;32m    148\u001b[0m base_pws \u001b[39m=\u001b[39m torch\u001b[39m.\u001b[39mzeros(x\u001b[39m.\u001b[39mshape[\u001b[39m0\u001b[39m], \u001b[39mself\u001b[39m\u001b[39m.\u001b[39mngauss)\n\u001b[0;32m--> 149\u001b[0m base_pws \u001b[39m=\u001b[39m base_pws\u001b[39m.\u001b[39;49mto(\u001b[39m'\u001b[39;49m\u001b[39mcuda\u001b[39;49m\u001b[39m'\u001b[39;49m)\n\u001b[1;32m    150\u001b[0m \u001b[39mfor\u001b[39;00m i \u001b[39min\u001b[39;00m \u001b[39mrange\u001b[39m(\u001b[39mself\u001b[39m\u001b[39m.\u001b[39mngauss):\n\u001b[1;32m    151\u001b[0m     base_pws[:, i] \u001b[39m=\u001b[39m torch\u001b[39m.\u001b[39mpow(mu_all[i], al) \u001b[39m*\u001b[39m torch\u001b[39m.\u001b[39mexp(\u001b[39m-\u001b[39mbt \u001b[39m*\u001b[39m mu_all[i])\n",
      "\u001b[0;31mKeyboardInterrupt\u001b[0m: "
     ]
    }
   ],
   "source": [
    "jf = 0\n",
    "save_bestfit_model_name = save_bestfit_model_dir + '/flow_' + str(jf)\n",
    "\n",
    "# train_Ntot_all = [1,1,1]\n",
    "# train_M1_all = [0,1,1]\n",
    "# train_Mdiff_all = [0,0,1]\n",
    "# nepochs_all = [10000,4000,20000]\n",
    "\n",
    "\n",
    "train_Ntot_all = [1]\n",
    "train_M1_all = [0]\n",
    "train_Mdiff_all = [0]\n",
    "nepochs_all = [20000]\n",
    "\n",
    "# if jn > 0:\n",
    "#     print('loading bestfit model')\n",
    "#     bestfit_model = (torch.load(save_bestfit_model_name))\n",
    "#     model.load_state_dict(bestfit_model['state_dict'])\n",
    "#     optimizer.load_state_dict(bestfit_model['optimizer'])\n",
    "#     scheduler.load_state_dict(bestfit_model['scheduler'])\n",
    "#     # loss_min = bestfit_model['loss_min']\n",
    "#     loss = bestfit_model['loss']\n",
    "#     lr = bestfit_model['lr']\n",
    "#     for g in optimizer.param_groups:\n",
    "#         g['lr'] = learning_rate\n",
    "for js in range(len(train_Ntot_all)):\n",
    "    train_Ntot = train_Ntot_all[js]\n",
    "    train_M1 = train_M1_all[js]\n",
    "    train_Mdiff = train_Mdiff_all[js]\n",
    "    nepochs = nepochs_all[js]\n",
    "    for jt in tqdm(range(nepochs)):\n",
    "        # for jd in range(len(dataloader)):\n",
    "        torch.cuda.empty_cache()\n",
    "        optimizer.zero_grad()\n",
    "        cond_tensor_jd, cond_tensor_nsh_jd, mask_tensor_M1_train_jd, mask_tensor_Mdiff_train_jd, X_M1_jd, \\\n",
    "            X_Nhalo_jd, X_Mdiff_jd, Nhalos_truth_tensor_jd, mask_tensor_M1_train_FP_jd, X_M1_FP_jd = cond_tensor, cond_tensor_nsh, mask_tensor_M1_train, mask_tensor_Mdiff_train, X_M1, \\\n",
    "                    X_Nhalo, X_Mdiff, Nhalos_truth_tensor, mask_tensor_M1_train_FP, X_M1_FP\n",
    "\n",
    "        if cond_sim == 'quijote':               \n",
    "            mask_tensor_M1_train_FP_jd = None\n",
    "            X_M1_FP_jd = None\n",
    "        \n",
    "        torch.cuda.empty_cache()\n",
    "        # if 1-all_gpu:\n",
    "        # cond_tensor_jd = cond_tensor_jd.cuda(dev)\n",
    "        # cond_tensor_nsh_jd = cond_tensor_nsh_jd.cuda(dev)\n",
    "        # mask_tensor_M1_train_jd = mask_tensor_M1_train_jd.cuda(dev)\n",
    "        # mask_tensor_Mdiff_train_jd = mask_tensor_Mdiff_train_jd.cuda(dev)\n",
    "        # X_M1_jd = X_M1_jd.cuda(dev)\n",
    "        # X_Nhalo_jd = X_Nhalo_jd.cuda(dev)\n",
    "        # X_Mdiff_jd = X_Mdiff_jd.cuda(dev)\n",
    "        # Nhalos_truth_tensor_jd = Nhalos_truth_tensor_jd.cuda(dev)\n",
    "        # if mask_tensor_M1_train_FP_jd is not None:\n",
    "        #     mask_tensor_M1_train_FP_jd = mask_tensor_M1_train_FP_jd.cuda(dev)\n",
    "        #     X_M1_FP_jd = X_M1_FP_jd.cuda(dev)\n",
    "        # torch.cuda.empty_cache()\n",
    "                        \n",
    "        loss = model(\n",
    "            X_Mdiff_jd,\n",
    "            X_M1_jd,\n",
    "            X_Nhalo_jd,\n",
    "            cond_x=cond_tensor_jd,\n",
    "            cond_x_nsh=cond_tensor_nsh_jd,\n",
    "            mask_Mdiff_truth_all=mask_tensor_Mdiff_train_jd,\n",
    "            mask_M1_truth_all=mask_tensor_M1_train_jd,\n",
    "            Nhalos_truth_all=Nhalos_truth_tensor_jd,\n",
    "            use_Ntot_samples=False,\n",
    "            use_M1_samples=False,\n",
    "            train_Ntot=train_Ntot,\n",
    "            train_M1=train_M1,\n",
    "            train_Mdiff=train_Mdiff,\n",
    "            # x_Mdiff_FP=X_Mdiff_FP,\n",
    "            x_M1_FP=X_M1_FP_jd,\n",
    "            # x_Ntot_FP=X_Nhalo_FP,\n",
    "            # Nhalos_truth_all_FP=Nhalos_truth_tensor_FP,\n",
    "            # mask_Mdiff_truth_all_FP=mask_tensor_Mdiff_train_FP,\n",
    "            mask_M1_truth_all_FP=mask_tensor_M1_train_FP_jd,\n",
    "            L2norm_Ntothist=L2norm_Ntothist,\n",
    "            L2norm_M1hist=L2norm_M1hist        \n",
    "            )\n",
    "\n",
    "        loss.backward()\n",
    "        optimizer.step()\n",
    "        scheduler.step(loss) \n",
    "        epoch_tot_counter += 1\n",
    "        if (np.mod(jt, int(nepochs / 300)) == 0) or (jt == nepochs - 1):\n",
    "            if float(loss.cpu().detach().numpy()) < loss_min:\n",
    "                loss_min = float(loss.cpu().detach().numpy())\n",
    "                print('saving bf at:', ', with loss:', np.round(loss_min, 5), ', at epoch:', jt, \n",
    "                    'learning rate:', optimizer.param_groups[0]['lr'], ', train_Ntot:', train_Ntot, \n",
    "                    'train_M1:', train_M1, ', train_Mdiff:', train_Mdiff, ', epoch_tot_counter:', epoch_tot_counter)\n",
    "                lr=optimizer.param_groups[0]['lr']\n",
    "                # print(loss_min, lr)\n",
    "                state = {'loss_min': loss_min, 'state_dict': model.state_dict(), 'optimizer': optimizer.state_dict(),\n",
    "                        'scheduler': scheduler.state_dict(), 'loss':loss, 'lr':lr, 'epoch_tot_counter':epoch_tot_counter}\n",
    "\n",
    "                torch.save(\n",
    "                    state, save_bestfit_model_name\n",
    "                    )\n",
    "\n",
    "\n",
    "\n",
    "\n",
    "\n",
    "\n",
    "\n"
   ]
  },
  {
   "cell_type": "code",
   "execution_count": 70,
   "metadata": {},
   "outputs": [
    {
     "name": "stdout",
     "output_type": "stream",
     "text": [
      "saving bf at: , with loss: 1.75594 , at epoch: 0 learning rate: 0.001 , train_Ntot: 1 train_M1: 0 , train_Mdiff: 0 , epoch_tot_counter: 4001\n",
      "saving bf at: , with loss: 1.0999 , at epoch: 5 learning rate: 0.001 , train_Ntot: 1 train_M1: 0 , train_Mdiff: 0 , epoch_tot_counter: 4006\n",
      "saving bf at: , with loss: 0.67733 , at epoch: 35 learning rate: 0.001 , train_Ntot: 1 train_M1: 0 , train_Mdiff: 0 , epoch_tot_counter: 4036\n",
      "saving bf at: , with loss: 0.42723 , at epoch: 70 learning rate: 0.001 , train_Ntot: 1 train_M1: 0 , train_Mdiff: 0 , epoch_tot_counter: 4071\n",
      "saving bf at: , with loss: 0.24428 , at epoch: 95 learning rate: 0.001 , train_Ntot: 1 train_M1: 0 , train_Mdiff: 0 , epoch_tot_counter: 4096\n",
      "Epoch 04101: reducing learning rate of group 0 to 2.5000e-04.\n",
      "Epoch 04302: reducing learning rate of group 0 to 6.2500e-05.\n",
      "saving bf at: , with loss: 0.20969 , at epoch: 405 learning rate: 6.25e-05 , train_Ntot: 1 train_M1: 0 , train_Mdiff: 0 , epoch_tot_counter: 4406\n",
      "Epoch 04503: reducing learning rate of group 0 to 1.5625e-05.\n",
      "Epoch 04704: reducing learning rate of group 0 to 3.9063e-06.\n",
      "Epoch 04905: reducing learning rate of group 0 to 9.7656e-07.\n"
     ]
    }
   ],
   "source": [
    "# # nepochs_array = 1000\n",
    "# L2norm_Ntothist = True\n",
    "# # for jn in (range(len(nepochs_array))):\n",
    "# loss_min = 1e20\n",
    "# torch.cuda.empty_cache()\n",
    "# ninit = 0\n",
    "# nepochs = 1000\n",
    "# if nepochs > 0:\n",
    "#     train_Ntot = train_Ntot_array[jn]\n",
    "#     train_M1 = train_M1_array[jn]\n",
    "#     train_Mdiff = train_Mdiff_array[jn]\n",
    "\n",
    "#     # if jn > 0:\n",
    "#     #     print('loading bestfit model')\n",
    "#     #     bestfit_model = (torch.load(save_bestfit_model_name))\n",
    "#     #     model.load_state_dict(bestfit_model['state_dict'])\n",
    "#     #     optimizer.load_state_dict(bestfit_model['optimizer'])\n",
    "#     #     scheduler.load_state_dict(bestfit_model['scheduler'])\n",
    "#     #     # loss_min = bestfit_model['loss_min']\n",
    "#     #     loss = bestfit_model['loss']\n",
    "#     #     lr = bestfit_model['lr']\n",
    "#     #     for g in optimizer.param_groups:\n",
    "#     #         g['lr'] = learning_rate\n",
    "\n",
    "#     for jt in (range(nepochs)):\n",
    "#         # for jd in range(len(dataloader)):\n",
    "#         torch.cuda.empty_cache()\n",
    "#         optimizer.zero_grad()\n",
    "#         cond_tensor_jd, cond_tensor_nsh_jd, mask_tensor_M1_train_jd, mask_tensor_Mdiff_train_jd, X_M1_jd, \\\n",
    "#             X_Nhalo_jd, X_Mdiff_jd, Nhalos_truth_tensor_jd, mask_tensor_M1_train_FP_jd, X_M1_FP_jd = cond_tensor, cond_tensor_nsh, mask_tensor_M1_train, mask_tensor_Mdiff_train, X_M1, \\\n",
    "#                     X_Nhalo, X_Mdiff, Nhalos_truth_tensor, mask_tensor_M1_train_FP, X_M1_FP\n",
    "\n",
    "#         if cond_sim == 'quijote':               \n",
    "#             mask_tensor_M1_train_FP_jd = None\n",
    "#             X_M1_FP_jd = None\n",
    "        \n",
    "#         torch.cuda.empty_cache()\n",
    "#         # if 1-all_gpu:\n",
    "#         # cond_tensor_jd = cond_tensor_jd.cuda(dev)\n",
    "#         # cond_tensor_nsh_jd = cond_tensor_nsh_jd.cuda(dev)\n",
    "#         # mask_tensor_M1_train_jd = mask_tensor_M1_train_jd.cuda(dev)\n",
    "#         # mask_tensor_Mdiff_train_jd = mask_tensor_Mdiff_train_jd.cuda(dev)\n",
    "#         # X_M1_jd = X_M1_jd.cuda(dev)\n",
    "#         # X_Nhalo_jd = X_Nhalo_jd.cuda(dev)\n",
    "#         # X_Mdiff_jd = X_Mdiff_jd.cuda(dev)\n",
    "#         # Nhalos_truth_tensor_jd = Nhalos_truth_tensor_jd.cuda(dev)\n",
    "#         # if mask_tensor_M1_train_FP_jd is not None:\n",
    "#         #     mask_tensor_M1_train_FP_jd = mask_tensor_M1_train_FP_jd.cuda(dev)\n",
    "#         #     X_M1_FP_jd = X_M1_FP_jd.cuda(dev)\n",
    "#         # torch.cuda.empty_cache()\n",
    "                        \n",
    "#         loss = model(\n",
    "#             X_Mdiff_jd,\n",
    "#             X_M1_jd,\n",
    "#             X_Nhalo_jd,\n",
    "#             cond_x=cond_tensor_jd,\n",
    "#             cond_x_nsh=cond_tensor_nsh_jd,\n",
    "#             mask_Mdiff_truth_all=mask_tensor_Mdiff_train_jd,\n",
    "#             mask_M1_truth_all=mask_tensor_M1_train_jd,\n",
    "#             Nhalos_truth_all=Nhalos_truth_tensor_jd,\n",
    "#             use_Ntot_samples=False,\n",
    "#             use_M1_samples=False,\n",
    "#             train_Ntot=train_Ntot,\n",
    "#             train_M1=train_M1,\n",
    "#             train_Mdiff=train_Mdiff,\n",
    "#             # x_Mdiff_FP=X_Mdiff_FP,\n",
    "#             x_M1_FP=X_M1_FP_jd,\n",
    "#             # x_Ntot_FP=X_Nhalo_FP,\n",
    "#             # Nhalos_truth_all_FP=Nhalos_truth_tensor_FP,\n",
    "#             # mask_Mdiff_truth_all_FP=mask_tensor_Mdiff_train_FP,\n",
    "#             mask_M1_truth_all_FP=mask_tensor_M1_train_FP_jd,\n",
    "#             L2norm_Ntothist=L2norm_Ntothist,\n",
    "#             L2norm_M1hist=L2norm_M1hist        \n",
    "#             )\n",
    "\n",
    "#         loss.backward()\n",
    "#         optimizer.step()\n",
    "#         scheduler.step(loss)\n",
    "#         epoch_tot_counter += 1\n",
    "#         if (np.mod(jt, int(nepochs / 200)) == 0) or (jt == nepochs - 1):\n",
    "#             if float(loss.cpu().detach().numpy()) < loss_min:\n",
    "#                 loss_min = float(loss.cpu().detach().numpy())\n",
    "#                 print('saving bf at:', ', with loss:', np.round(loss_min, 5), ', at epoch:', jt, \n",
    "#                     'learning rate:', optimizer.param_groups[0]['lr'], ', train_Ntot:', train_Ntot, \n",
    "#                     'train_M1:', train_M1, ', train_Mdiff:', train_Mdiff, ', epoch_tot_counter:', epoch_tot_counter)\n",
    "#                 lr=optimizer.param_groups[0]['lr']\n",
    "#                 # print(loss_min, lr)\n",
    "#                 # state = {'loss_min': loss_min, 'state_dict': model.state_dict(), 'optimizer': optimizer.state_dict(),\n",
    "#                 #         'scheduler': scheduler.state_dict(), 'loss':loss, 'lr':lr, 'epoch_tot_counter':epoch_tot_counter}\n",
    "\n",
    "#                 # torch.save(\n",
    "#                 #     state, save_bestfit_model_name\n",
    "#                 #     )\n",
    "\n",
    "\n"
   ]
  },
  {
   "cell_type": "code",
   "execution_count": null,
   "metadata": {},
   "outputs": [],
   "source": [
    "\n",
    "\n"
   ]
  },
  {
   "cell_type": "code",
   "execution_count": 17,
   "metadata": {},
   "outputs": [
    {
     "name": "stdout",
     "output_type": "stream",
     "text": [
      "\n"
     ]
    }
   ],
   "source": [
    "# num_cond_Ntot = num_cond\n",
    "\n",
    "# model_Ntot = SumGaussModel(\n",
    "#     hidden_dim=hidden_dim_MAF,\n",
    "#     num_cond=num_cond_Ntot,\n",
    "#     ngauss=return_dict_train['ngauss_Nhalo'],\n",
    "#     mu_all=return_dict_train['mu_all'],\n",
    "#     sig_all=return_dict_train['sig_all'],\n",
    "#     base_dist=base_dist_Ntot   \n",
    "#     )\n",
    "\n",
    "# num_cond_M1 = num_cond + 1\n",
    "# # if conditioned on fastpm we will also give the fastpm fof M1 halos and its mask as conditional\n",
    "# if cond_sim == 'fastpm':\n",
    "#     num_cond_M1 += 2\n",
    "\n",
    "# model_M1 = NSF_M1_CNNcond(\n",
    "#     K=K_M1,\n",
    "#     B=B_M1,\n",
    "#     hidden_dim=hidden_dim_MAF,\n",
    "#     num_cond=num_cond_M1,\n",
    "#     nflows=nflows_M1_NSF,\n",
    "#     base_dist=base_dist_M1,\n",
    "#     ngauss=ngauss_M1,\n",
    "#     lgM_rs_tointerp=lgM_rescaled,\n",
    "#     hmf_pdf_tointerp=hmf_pdf,\n",
    "#     hmf_cdf_tointerp=hmf_cdf    \n",
    "#     )\n",
    "\n",
    "# # ndim_diff = return_dict_train['M_diff_halos_all_norm_masked'][0].shape[2]\n",
    "# # num_cond_Mdiff = num_cond + 2\n",
    "# # model_Mdiff = NSF_Mdiff_CNNcond(\n",
    "# #     dim=ndim_diff,\n",
    "# #     K=K_Mdiff,\n",
    "# #     B=B_Mdiff,\n",
    "# #     hidden_dim=hidden_dim_MAF,\n",
    "# #     num_cond=num_cond_Mdiff,\n",
    "# #     nflows=nflows_Mdiff_NSF,\n",
    "# #     base_dist=base_dist_Mdiff,\n",
    "# #     mu_pos=True\n",
    "# #     )\n",
    "\n",
    "# ndim = ndim_diff + 1\n",
    "# model = COMBINED_Model(\n",
    "#     None,\n",
    "#     None,\n",
    "#     # None,\n",
    "#     model_M1,\n",
    "#     model_Ntot,\n",
    "#     ndim,\n",
    "#     ksize,\n",
    "#     ns_d,\n",
    "#     ns_h,\n",
    "#     nb,\n",
    "#     ninp,\n",
    "#     nfeature_cnn,\n",
    "#     nout_cnn,\n",
    "#     layers_types=layers_types,\n",
    "#     act='tanh',\n",
    "#     padding='valid',\n",
    "#     sep_Ntot_cond=True,\n",
    "#     sep_M1_cond=True,\n",
    "#     sep_Mdiff_cond=True,\n",
    "#     num_cond_Ntot = num_cond_Ntot,\n",
    "#     num_cond_M1 = num_cond_M1,\n",
    "#     num_cond_Mdiff = None\n",
    "#     )\n",
    "\n",
    "# model.to(dev)\n",
    "# print()\n",
    "\n",
    "\n",
    "# optimizer = optim.Adam(model.parameters(), lr=learning_rate)\n",
    "\n",
    "# loss_all_it = []\n",
    "# loss_min = 1e20\n",
    "# epoch_tot_counter = 0\n",
    "# scheduler = optim.lr_scheduler.ReduceLROnPlateau(optimizer, 'min', factor=0.25, patience=100, verbose=True, cooldown=100, min_lr=1e-8)\n",
    "\n"
   ]
  },
  {
   "cell_type": "code",
   "execution_count": 49,
   "metadata": {},
   "outputs": [
    {
     "name": "stdout",
     "output_type": "stream",
     "text": [
      "loading bestfit model\n",
      "-1.0573930740356445 8201 1.52587890625e-08\n"
     ]
    }
   ],
   "source": [
    "# jf = 1\n",
    "# save_bestfit_model_name = save_bestfit_model_dir + '/flow_' + str(jf)\n",
    "\n",
    "# print('loading bestfit model')\n",
    "# bestfit_model = (torch.load(save_bestfit_model_name))\n",
    "# model.load_state_dict(bestfit_model['state_dict'])\n",
    "# optimizer.load_state_dict(bestfit_model['optimizer'])\n",
    "# scheduler.load_state_dict(bestfit_model['scheduler'])\n",
    "# loss_min = bestfit_model['loss_min']\n",
    "# loss = bestfit_model['loss']\n",
    "# lr = bestfit_model['lr']\n",
    "# epoch_tot_counter = bestfit_model['epoch_tot_counter']\n",
    "# for g in optimizer.param_groups:\n",
    "#     g['lr'] = lr\n",
    "\n",
    "# print(loss_min, epoch_tot_counter, lr)\n",
    "\n",
    "\n"
   ]
  },
  {
   "cell_type": "code",
   "execution_count": 58,
   "metadata": {},
   "outputs": [
    {
     "data": {
      "image/png": "[encoded data removed]",
      "text/plain": [
       "<Figure size 640x480 with 1 Axes>"
      ]
     },
     "metadata": {},
     "output_type": "display_data"
    }
   ],
   "source": [
    "# # model_Ntot\n",
    "# # base_dist_Ntot\n",
    "# # 203968/1817977 \n",
    "# cond_out = model.conv_layers(cond_tensor_jd[0])\n",
    "# cond_out = torch.cat((cond_out, cond_tensor_nsh_jd[0]), dim=1)\n",
    "# # if self.sep_Ntot_cond:\n",
    "# cond_out_Ntot = model.cond_Ntot_layer(cond_out)\n",
    "\n",
    "# Ntot_samp_tensor = model_Ntot.inverse(cond_out_Ntot)\n",
    "# Ntot_samp = np.maximum(np.round(Ntot_samp_tensor.cpu().detach().numpy()) - 1, 0).astype(int)\n",
    "# pl.figure()\n",
    "# _ = pl.hist(Ntot_samp, bins=100, density=True, alpha=0.5)\n",
    "# _ = pl.hist(0.2+Nhalos_truth_tensor_jd[0,...].cpu().detach().numpy(), bins=100, density=True, alpha=0.5)\n",
    "# pl.yscale('log')\n",
    "\n"
   ]
  },
  {
   "cell_type": "code",
   "execution_count": 8,
   "metadata": {},
   "outputs": [
    {
     "name": "stdout",
     "output_type": "stream",
     "text": [
      "\n"
     ]
    }
   ],
   "source": [
    "# # for jf in range(7):\n",
    "# #     save_bestfit_model_name = save_bestfit_model_dir + '/flow_' + str(jf)\n",
    "# #     bestfit_model = (torch.load(save_bestfit_model_name))\n",
    "# #     loss_min = bestfit_model['loss_min']\n",
    "# #     print(loss_min)\n",
    "\n",
    "# num_cond_Ntot = num_cond\n",
    "\n",
    "# model_Ntot = SumGaussModel(\n",
    "#     hidden_dim=hidden_dim_MAF,\n",
    "#     num_cond=num_cond_Ntot,\n",
    "#     ngauss=return_dict_train['ngauss_Nhalo'],\n",
    "#     mu_all=return_dict_train['mu_all'],\n",
    "#     sig_all=return_dict_train['sig_all'],\n",
    "#     base_dist=base_dist_Ntot   \n",
    "#     )\n",
    "\n",
    "# num_cond_M1 = num_cond + 1\n",
    "# # if conditioned on fastpm we will also give the fastpm fof M1 halos and its mask as conditional\n",
    "# if cond_sim == 'fastpm':\n",
    "#     num_cond_M1 += 2\n",
    "\n",
    "# model_M1 = NSF_M1_CNNcond(\n",
    "#     K=K_M1,\n",
    "#     B=B_M1,\n",
    "#     hidden_dim=hidden_dim_MAF,\n",
    "#     num_cond=num_cond_M1,\n",
    "#     nflows=nflows_M1_NSF,\n",
    "#     base_dist=base_dist_M1,\n",
    "#     ngauss=ngauss_M1,\n",
    "#     lgM_rs_tointerp=lgM_rescaled,\n",
    "#     hmf_pdf_tointerp=hmf_pdf,\n",
    "#     hmf_cdf_tointerp=hmf_cdf    \n",
    "#     )\n",
    "\n",
    "# ndim_diff = return_dict_train['M_diff_halos_all_norm_masked'][0].shape[2]\n",
    "# num_cond_Mdiff = num_cond + 2\n",
    "# model_Mdiff = NSF_Mdiff_CNNcond(\n",
    "#     dim=ndim_diff,\n",
    "#     K=K_Mdiff,\n",
    "#     B=B_Mdiff,\n",
    "#     hidden_dim=hidden_dim_MAF,\n",
    "#     num_cond=num_cond_Mdiff,\n",
    "#     nflows=nflows_Mdiff_NSF,\n",
    "#     base_dist=base_dist_Mdiff,\n",
    "#     mu_pos=True\n",
    "#     )\n",
    "\n",
    "# ndim = ndim_diff + 1\n",
    "# model = COMBINED_Model(\n",
    "#     None,\n",
    "#     model_Mdiff,\n",
    "#     # None,\n",
    "#     model_M1,\n",
    "#     model_Ntot,\n",
    "#     ndim,\n",
    "#     ksize,\n",
    "#     ns_d,\n",
    "#     ns_h,\n",
    "#     nb,\n",
    "#     ninp,\n",
    "#     nfeature_cnn,\n",
    "#     nout_cnn,\n",
    "#     layers_types=layers_types,\n",
    "#     act='tanh',\n",
    "#     padding='valid',\n",
    "#     sep_Ntot_cond=True,\n",
    "#     sep_M1_cond=True,\n",
    "#     sep_Mdiff_cond=True,\n",
    "#     num_cond_Ntot = num_cond_Ntot,\n",
    "#     num_cond_M1 = num_cond_M1,\n",
    "#     num_cond_Mdiff = num_cond_Mdiff\n",
    "#     )\n",
    "\n",
    "# model.to(dev)\n",
    "\n",
    "# print()\n",
    "\n",
    "# optimizer = optim.Adam(model.parameters(), lr=learning_rate)\n",
    "\n",
    "# loss_all_it = []\n",
    "# loss_min = 1e20\n",
    "# epoch_tot_counter = 0\n",
    "# scheduler = optim.lr_scheduler.ReduceLROnPlateau(optimizer, 'min', factor=0.5, patience=200, verbose=True, cooldown=200, min_lr=1e-8)\n",
    "\n",
    "# save_bestfit_model_name = save_bestfit_model_dir + '/flow_' + str(0)\n",
    "# bestfit_model = (torch.load(save_bestfit_model_name))\n",
    "# model.load_state_dict(bestfit_model['state_dict'])\n",
    "# optimizer.load_state_dict(bestfit_model['optimizer'])\n",
    "# scheduler.load_state_dict(bestfit_model['scheduler'])\n",
    "# # loss_min = bestfit_model['loss_min']\n",
    "# loss = bestfit_model['loss']\n"
   ]
  },
  {
   "cell_type": "code",
   "execution_count": 9,
   "metadata": {},
   "outputs": [
    {
     "name": "stdout",
     "output_type": "stream",
     "text": [
      "tensor([-1.2101], device='cuda:0', requires_grad=True)\n"
     ]
    }
   ],
   "source": [
    "print(loss)\n"
   ]
  },
  {
   "cell_type": "code",
   "execution_count": 10,
   "metadata": {},
   "outputs": [],
   "source": [
    "# print('loading bestfit model')\n",
    "# bestfit_model = (torch.load(save_bestfit_model_name))\n",
    "# model.load_state_dict(bestfit_model['state_dict'])\n",
    "# optimizer.load_state_dict(bestfit_model['optimizer'])\n",
    "# scheduler.load_state_dict(bestfit_model['scheduler'])\n",
    "# loss_min = bestfit_model['loss_min']\n",
    "# loss = bestfit_model['loss']\n",
    "# lr = bestfit_model['lr']\n",
    "# epoch_tot_counter = bestfit_model['epoch_tot_counter']\n",
    "# for g in optimizer.param_groups:\n",
    "#     g['lr'] = lr\n",
    "\n",
    "# print(loss_min, epoch_tot_counter, lr)\n",
    "\n",
    "\n"
   ]
  },
  {
   "cell_type": "code",
   "execution_count": 19,
   "metadata": {},
   "outputs": [
    {
     "name": "stdout",
     "output_type": "stream",
     "text": [
      "-1.5385456085205078 8515 cic\n",
      "DOING SIM NUMBER:0\n",
      "[16439183   297027    34359     5313      988      346]\n",
      "[16431622   303532    35131     5522     1070      247]\n"
     ]
    },
    {
     "name": "stderr",
     "output_type": "stream",
     "text": [
      "100%|██████████| 8/8 [00:00<00:00, 23029.81it/s]\n",
      "100%|██████████| 8/8 [00:00<00:00, 35507.34it/s]\n"
     ]
    },
    {
     "name": "stdout",
     "output_type": "stream",
     "text": [
      "-1.0 16.0 , number in truth:, 396335\n",
      "\n",
      "Computing power spectrum of the field...\n",
      "Time to complete loop = 0.46\n",
      "Time taken = 0.64 seconds\n",
      "-1.0 16.0  number in mock:, 387366\n",
      "\n",
      "Computing power spectrum of the field...\n",
      "Time to complete loop = 0.46\n",
      "Time taken = 0.63 seconds\n",
      "\n",
      "Computing power spectra of the fields...\n",
      "Time FFTS = 0.39\n",
      "Time loop = 0.33\n",
      "Time taken = 0.72 seconds\n",
      "13.698970004336019 13.845098040014257 , number in truth:, 22048\n",
      "\n",
      "Computing power spectrum of the field...\n",
      "Time to complete loop = 0.46\n",
      "Time taken = 0.63 seconds\n",
      "13.698970004336019 13.845098040014257  number in mock:, 17677\n",
      "\n",
      "Computing power spectrum of the field...\n",
      "Time to complete loop = 0.46\n",
      "Time taken = 0.63 seconds\n",
      "\n",
      "Computing power spectra of the fields...\n",
      "Time FFTS = 0.38\n",
      "Time loop = 0.33\n",
      "Time taken = 0.71 seconds\n",
      "13.845098040014257 14.0 , number in truth:, 15273\n",
      "\n",
      "Computing power spectrum of the field...\n",
      "Time to complete loop = 0.46\n",
      "Time taken = 0.63 seconds\n",
      "13.845098040014257 14.0  number in mock:, 12729\n",
      "\n",
      "Computing power spectrum of the field...\n",
      "Time to complete loop = 0.46\n",
      "Time taken = 0.63 seconds\n",
      "\n",
      "Computing power spectra of the fields...\n",
      "Time FFTS = 0.38\n",
      "Time loop = 0.33\n",
      "Time taken = 0.71 seconds\n",
      "14.0 14.698970004336019 , number in truth:, 20720\n",
      "\n",
      "Computing power spectrum of the field...\n",
      "Time to complete loop = 0.46\n",
      "Time taken = 0.63 seconds\n",
      "14.0 14.698970004336019  number in mock:, 18030\n",
      "\n",
      "Computing power spectrum of the field...\n",
      "Time to complete loop = 0.46\n",
      "Time taken = 0.63 seconds\n",
      "\n",
      "Computing power spectra of the fields...\n",
      "Time FFTS = 0.38\n",
      "Time loop = 0.33\n",
      "Time taken = 0.71 seconds\n",
      "14.698970004336019 15.0 , number in truth:, 726\n",
      "\n",
      "Computing power spectrum of the field...\n",
      "Time to complete loop = 0.46\n",
      "Time taken = 0.63 seconds\n",
      "14.698970004336019 15.0  number in mock:, 667\n",
      "\n",
      "Computing power spectrum of the field...\n",
      "Time to complete loop = 0.46\n",
      "Time taken = 0.64 seconds\n",
      "\n",
      "Computing power spectra of the fields...\n",
      "Time FFTS = 0.38\n",
      "Time loop = 0.33\n",
      "Time taken = 0.71 seconds\n"
     ]
    }
   ],
   "source": [
    "import readfof\n",
    "import numpy as np\n",
    "import pickle as pk \n",
    "# from nbodykit.lab import *\n",
    "import h5py as h5\n",
    "import numpy as np\n",
    "import Pk_library as PKL\n",
    "import MAS_library as MASL\n",
    "import yaml\n",
    "\n",
    "print(loss_min, epoch_tot_counter, stype)\n",
    "\n",
    "train_Ntot, train_M1, train_Mdiff = 1, 0, 0\n",
    "# train_Ntot, train_M1, train_Mdiff = 1, 1, 0\n",
    "# train_Ntot, train_M1, train_Mdiff = 1, 0, 0\n",
    "isim_start = 0\n",
    "isim_end = 1\n",
    "isim_all = np.arange(isim_start, isim_end).astype(int)\n",
    "for ji in range(len(isim_all)):\n",
    "    saved_all_jsim = {}\n",
    "    # now we load the test data\n",
    "    isim = isim_all[ji]\n",
    "    print('DOING SIM NUMBER:' + str(isim))\n",
    "    nstart = 0\n",
    "    nsims_test = 64\n",
    "    df_d_all_test, df_d_all_nsh_test, df_Mh_all_test, df_Nh_test, _ = load_density_halo_data_NGP(\n",
    "        [isim], ns_d, nb, nf, nc, z_all, ns_h,sdir='/mnt/home/spandey/ceph/Quijote/data_NGP_self',\n",
    "        stype=stype, mass_type=mass_type, lgMmincutstr = lgMmincutstr, is_HR=is_HR\n",
    "        )\n",
    "\n",
    "    if cond_sim == 'fastpm':\n",
    "        df_d_all_test_FP, df_d_all_nsh_test_FP, df_Mh_all_test_FP, df_Nh_test_FP, _ = load_density_halo_data_NGP(\n",
    "            [isim], ns_d, nb, nf, nc, z_all_FP, ns_h,sdir='/mnt/home/spandey/ceph/Quijote/data_NGP_self/fastpm',\n",
    "            stype=stype\n",
    "            )\n",
    "\n",
    "    # things are too big to load all at once, so we load in batches\n",
    "    nq = nb**3 // nsims_test\n",
    "    save_subvol_Nhalo = np.zeros((nb**3, nax_h, nax_h, nax_h))\n",
    "    save_subvol_Nhalo_truth = np.zeros((nb**3, nax_h, nax_h, nax_h))\n",
    "    cond_z0_truth = np.zeros((nb**3, nax_h, nax_h, nax_h))\n",
    "    save_subvol_M1 = np.zeros((nb**3, nax_h, nax_h, nax_h, 1))\n",
    "    save_subvol_M1_truth = np.zeros((nb**3, nax_h, nax_h, nax_h, 1))\n",
    "    save_subvol_Mdiff = np.zeros((nb**3, nax_h, nax_h, nax_h, ndim_diff))\n",
    "    save_subvol_Mdiff_truth = np.zeros((nb**3, nax_h, nax_h, nax_h, ndim_diff))\n",
    "    mask_subvol_Mtot = np.zeros((nb**3, nax_h, nax_h, nax_h, ndim_diff + 1))\n",
    "    mask_subvol_Mtot_truth = np.zeros((nb**3, nax_h, nax_h, nax_h, ndim_diff + 1))\n",
    "\n",
    "    # nfeatures_M1_tot = 20\n",
    "    # cond_inp_M1_all = np.zeros((nb**3, nax_h, nax_h, nax_h, nfeatures_M1_tot))\n",
    "    density_out_M1_loc_all_pad = np.zeros((nb**3, nax_h+6, nax_h+6, nax_h+6))\n",
    "    density_out_M1_loc_all = np.zeros((nb**3, nax_h, nax_h, nax_h))\n",
    "\n",
    "    nscount = 0\n",
    "    for jq in range(nq):\n",
    "        # Load the density data\n",
    "\n",
    "\n",
    "        # Prepare the density and halo data\n",
    "        return_dict_test = prep_density_halo_cats(\n",
    "            df_d_all_test,\n",
    "            df_d_all_nsh_test,\n",
    "            df_Mh_all_test,\n",
    "            df_Nh_test,\n",
    "            nsims=nsims_test,\n",
    "            nstart=nscount,\n",
    "            Mmin=lgMmin, Mmax=lgMmax, rescaleM_sub=rescale_sub, Nmax=Nmax\n",
    "            )\n",
    "        \n",
    "        if cond_sim == 'fastpm':\n",
    "            return_dict_test_FP = prep_density_halo_cats(\n",
    "                df_d_all_test_FP,\n",
    "                df_d_all_nsh_test_FP,\n",
    "                df_Mh_all_test_FP,\n",
    "                df_Nh_test_FP,\n",
    "                nsims=nsims_test,\n",
    "                nstart=nscount,\n",
    "                Mmin=lgMmin, Mmax=lgMmax, rescaleM_sub=rescale_sub\n",
    "                )    \n",
    "\n",
    "        if cond_sim == 'fastpm':\n",
    "            cond_tensor_test = torch.Tensor(np.copy(np.array([return_dict_test_FP['df_d_all']]))).cuda(dev)\n",
    "            cond_nsh_test = np.moveaxis(return_dict_test_FP['df_d_all_nsh'], 1, 4)\n",
    "            cond_nsh_test = np.array([cond_nsh_test])\n",
    "            cond_tensor_nsh_test = torch.Tensor(np.copy(cond_nsh_test.reshape(1,nsims_test * (nax_h ** 3), ninp))).cuda(dev)    \n",
    "        else:\n",
    "            cond_tensor_test = torch.Tensor(np.copy(np.array([return_dict_test['df_d_all']]))).cuda(dev)\n",
    "            cond_nsh_test = np.moveaxis(return_dict_test['df_d_all_nsh'], 1, 4)\n",
    "            cond_nsh_test = np.array([cond_nsh_test])\n",
    "            cond_tensor_nsh_test = torch.Tensor(np.copy(cond_nsh_test.reshape(1,nsims_test * (nax_h ** 3), ninp))).cuda(dev)\n",
    "\n",
    "        mask_tensor_M1_test = torch.Tensor(np.copy(return_dict_test['mask_M1'].reshape(1,nsims_test * (nax_h**3)))).cuda(dev)\n",
    "        mask_tensor_Mdiff_test = torch.Tensor(\n",
    "            (return_dict_test['mask_M_diff'].reshape(1,nsims_test * (nax_h**3), ndim_diff))\n",
    "            ).cuda(dev)\n",
    "\n",
    "        X_M1_test = torch.Tensor((return_dict_test['M1_halos_all_norm'].reshape(1,nsims_test * (nax_h**3), 1))).cuda(dev)\n",
    "        X_Nhalo_test = torch.Tensor(return_dict_test['Nhalo_train_mg_arr'].reshape(1,nsims_test * (nax_h**3), 1)).cuda(dev)\n",
    "        X_Mdiff_test = torch.Tensor(\n",
    "            return_dict_test['M_diff_halos_all_norm_masked'].reshape(1,nsims_test * (nax_h**3), ndim_diff)\n",
    "            ).cuda(dev)\n",
    "        Nhalos_truth_tensor_test = torch.Tensor(((return_dict_test['N_halos_all'].reshape(1,nsims_test * (nax_h**3),\n",
    "                                                                                        1)))).cuda(dev)\n",
    "        \n",
    "        if cond_sim == 'fastpm':\n",
    "            mask_tensor_M1_test_FP = torch.Tensor(np.copy(return_dict_test_FP['mask_M1'].reshape(1,nsims_test * (nax_h**3)))).cuda(dev)\n",
    "            # mask_tensor_Mdiff_test_FP = torch.Tensor(\n",
    "            #     (return_dict_test_FP['mask_M_diff'].reshape(1,nsims_test * (nax_h**3), ndim_diff))\n",
    "            #     ).cuda(dev)\n",
    "\n",
    "            X_M1_test_FP = torch.Tensor((return_dict_test_FP['M1_halos_all_norm'].reshape(1,nsims_test * (nax_h**3), 1))).cuda(dev)\n",
    "            X_Nhalo_test_FP = torch.Tensor(return_dict_test_FP['Nhalo_train_mg_arr'].reshape(1,nsims_test * (nax_h**3), 1)).cuda(dev)\n",
    "            # X_Mdiff_test_FP = torch.Tensor(\n",
    "            #     return_dict_test_FP['M_diff_halos_all_norm_masked'].reshape(1,nsims_test * (nax_h**3), ndim_diff)\n",
    "            #     ).cuda(dev)\n",
    "            Nhalos_truth_tensor_test_FP = torch.Tensor(((return_dict_test_FP['N_halos_all'].reshape(1,nsims_test * (nax_h**3),\n",
    "                                                                                            1)))).cuda(dev)\n",
    "        else:\n",
    "            mask_tensor_M1_test_FP = None\n",
    "            mask_tensor_Mdiff_test_FP = None\n",
    "            X_M1_test_FP = None\n",
    "            X_Nhalo_test_FP = None\n",
    "            X_Mdiff_test_FP = None\n",
    "            Nhalos_truth_tensor_test_FP = None\n",
    "\n",
    "        Ntot_samp_test, M1_samp_test, M_diff_samp_test, mask_tensor_M1_samp_test, mask_tensor_Mdiff_samp_test, cond_inp_M1_test = model.inverse(\n",
    "            cond_x=cond_tensor_test,\n",
    "            cond_x_nsh=cond_tensor_nsh_test,\n",
    "            use_truth_Nhalo=1-train_Ntot,\n",
    "                use_truth_M1=1-train_M1,\n",
    "                use_truth_Mdiff=1-train_Mdiff, \n",
    "            mask_Mdiff_truth=mask_tensor_Mdiff_test,\n",
    "            mask_M1_truth=mask_tensor_M1_test,\n",
    "            Nhalos_truth=X_Nhalo_test,\n",
    "            M1_truth=X_M1_test,\n",
    "            Mdiff_truth=X_Mdiff_test,\n",
    "            train_Ntot=train_Ntot,\n",
    "            train_M1=train_M1,\n",
    "            train_Mdiff=train_Mdiff,\n",
    "            x_M1_FP=X_M1_test_FP,   \n",
    "            mask_M1_truth_all_FP=mask_tensor_M1_test_FP \n",
    "            )\n",
    "        Ntot_samp_test = Ntot_samp_test[0][:,np.newaxis]\n",
    "        # print(Ntot_samp_test.shape)\n",
    "        save_subvol_Nhalo[nscount:nscount + nsims_test, ...] = Ntot_samp_test.reshape(nsims_test, nax_h, nax_h, nax_h)\n",
    "        save_subvol_Nhalo_truth[nscount:nscount + nsims_test, ...] = Nhalos_truth_tensor_test.cpu().detach().numpy().reshape(nsims_test, nax_h, nax_h, nax_h)\n",
    "        save_subvol_M1[nscount:nscount + nsims_test,\n",
    "                    ...] = (M1_samp_test[0] * mask_tensor_M1_samp_test[0][:,0]\n",
    "                            ).cpu().detach().numpy().reshape(nsims_test, nax_h, nax_h, nax_h, 1)\n",
    "        save_subvol_M1_truth[nscount:nscount + nsims_test,\n",
    "                    ...] = (X_M1_test[0][:,0] * mask_tensor_M1_test[0]\n",
    "                            ).cpu().detach().numpy().reshape(nsims_test, nax_h, nax_h, nax_h, 1)    \n",
    "        # cond_inp_M1_all[nscount:nscount + nsims_test,\n",
    "        #                ...] = cond_inp_M1_test[0].cpu().detach().numpy().reshape(nsims_test, nax_h, nax_h, nax_h, nfeatures_M1_tot)\n",
    "        # density_out_M1_loc_all_pad[nscount:nscount + nsims_test,...] = (cond_tensor_test[0,:,0,...].cpu().detach().numpy())\n",
    "        # density_out_M1_loc_all[nscount:nscount + nsims_test,...] = (cond_nsh_test[0,...,0])\n",
    "\n",
    "        save_subvol_Mdiff[nscount:nscount + nsims_test,\n",
    "                        ...] = (M_diff_samp_test[0] * mask_tensor_Mdiff_samp_test[0]\n",
    "                                ).cpu().detach().numpy().reshape(nsims_test, nax_h, nax_h, nax_h, ndim_diff)\n",
    "        \n",
    "        save_subvol_Mdiff_truth[nscount:nscount + nsims_test,\n",
    "                        ...] = (X_Mdiff_test[0] * mask_tensor_Mdiff_test[0]\n",
    "                                ).cpu().detach().numpy().reshape(nsims_test, nax_h, nax_h, nax_h, ndim_diff)\n",
    "        \n",
    "        mask_subvol_Mtot[nscount:nscount + nsims_test, ...,\n",
    "                        0] = mask_tensor_M1_samp_test[0].cpu().detach().numpy().reshape(nsims_test, nax_h, nax_h, nax_h)\n",
    "        mask_subvol_Mtot[\n",
    "            nscount:nscount + nsims_test, ...,\n",
    "            1:] = mask_tensor_Mdiff_samp_test[0].cpu().detach().numpy().reshape(nsims_test, nax_h, nax_h, nax_h, ndim_diff)\n",
    "\n",
    "        mask_subvol_Mtot_truth[nscount:nscount + nsims_test, ...,\n",
    "                        0] = mask_tensor_M1_test[0].cpu().detach().numpy().reshape(nsims_test, nax_h, nax_h, nax_h)\n",
    "        mask_subvol_Mtot_truth[\n",
    "            nscount:nscount + nsims_test, ...,\n",
    "            1:] = mask_tensor_Mdiff_test[0].cpu().detach().numpy().reshape(nsims_test, nax_h, nax_h, nax_h, ndim_diff)\n",
    "        \n",
    "        \n",
    "        cond_z0_truth[nscount:nscount + nsims_test, ...] = cond_tensor_nsh_test[0].cpu().detach().numpy().reshape(nsims_test, nax_h, nax_h, nax_h, ninp)[...,0]\n",
    "        # print(nscount, nscount + nsims_test)\n",
    "\n",
    "        nscount += nsims_test\n",
    "        torch.cuda.empty_cache()\n",
    "\n",
    "\n",
    "    save_subvol_Mtot = np.zeros((nb**3, nax_h, nax_h, nax_h, ndim_diff + 1))\n",
    "    Mmin, Mmax = return_dict_test['Mmin'], return_dict_test['Mmax']\n",
    "    for jd in range(ndim_diff + 1):\n",
    "        if jd == 0:\n",
    "            save_subvol_Mtot[..., jd] = (save_subvol_M1[..., 0] + 0.5) * (Mmax - Mmin) + Mmin\n",
    "        else:\n",
    "            save_subvol_Mtot[...,\n",
    "                            jd] = (save_subvol_Mtot[..., jd - 1]) - (save_subvol_Mdiff[..., jd - 1]) * (Mmax - Mmin)\n",
    "\n",
    "\n",
    "    save_subvol_Mtot *= mask_subvol_Mtot\n",
    "\n",
    "    ind_less_Mmin = save_subvol_Mtot < Mmin\n",
    "    ind_greater_Mmax = save_subvol_Mtot > Mmax\n",
    "    save_subvol_Mtot[ind_less_Mmin] = 0.0\n",
    "    save_subvol_Mtot[ind_greater_Mmax] = 0.0\n",
    "\n",
    "\n",
    "    save_subvol_Mtot_truth = np.zeros((nb**3, nax_h, nax_h, nax_h, ndim_diff + 1))\n",
    "    Mmin, Mmax = return_dict_test['Mmin'], return_dict_test['Mmax']\n",
    "    for jd in range(ndim_diff + 1):\n",
    "        if jd == 0:\n",
    "            save_subvol_Mtot_truth[..., jd] = (save_subvol_M1_truth[..., 0] + 0.5) * (Mmax - Mmin) + Mmin\n",
    "        else:\n",
    "            save_subvol_Mtot_truth[...,\n",
    "                            jd] = (save_subvol_Mtot_truth[..., jd - 1]) - (save_subvol_Mdiff_truth[..., jd - 1]) * (Mmax - Mmin)\n",
    "\n",
    "\n",
    "    save_subvol_Mtot_truth *= mask_subvol_Mtot_truth\n",
    "                \n",
    "\n",
    "    sdir='/mnt/home/spandey/ceph/Quijote/data_NGP_self'\n",
    "    # load the halo data\n",
    "    if is_HR:\n",
    "        fname = sdir + '/' + str(isim) + '/halos_HR_' + str(mass_type) + '_lgMmincut_' + lgMmincutstr + '_subvol_res_' + str(ns_h) + '_z=0.pk'\n",
    "    else:\n",
    "        fname = sdir + '/' + str(isim) + '/halos_' + str(mass_type) + '_lgMmincut_' + lgMmincutstr + '_subvol_res_' + str(ns_h) + '_z=0.pk'\n",
    "    df_h_subvol = pk.load(open(fname, 'rb'))\n",
    "    # This has information on the halo mass for all the halos in the voxel\n",
    "    df_Mh_all_truth = df_h_subvol['M_halos']\n",
    "    df_Mh_all_truth = np.flip(np.sort(df_Mh_all_truth, axis=-1), axis=-1)\n",
    "    # This has information on the number of halos in the voxel\n",
    "    df_Nh_truth = df_h_subvol['N_halos']\n",
    "\n",
    "    if is_HR:\n",
    "        fname = sdir + '/' + str(isim) + '/halos_HR_' + str(mass_type) + '_lgMmincut_' + lgMmincutstr + '_full_res_' + str(ns_h) + '_z=0.pk'\n",
    "    else:\n",
    "        fname = sdir + '/' + str(isim) + '/halos_' + str(mass_type) + '_lgMmincut_' + lgMmincutstr + '_full_res_' + str(ns_h) + '_z=0.pk'\n",
    "    df_h_full = pk.load(open(fname, 'rb'))\n",
    "    df_Mh_all_truth_comb, df_Nh_truth_comb = df_h_full['M_halos_combined'], df_h_full['N_halos_combined']\n",
    "\n",
    "    delta_all_z0 = np.exp(df_d_all_nsh_test[:,0,...])-1\n",
    "\n",
    "    bin_cents = np.array(np.arange(Nmax + 1))\n",
    "    bin_edges = 0.5*(bin_cents[1:] + bin_cents[:-1])\n",
    "    bin_edges = np.insert(bin_edges,0, -0.5)\n",
    "    bin_edges = np.insert(bin_edges,len(bin_edges), bin_cents[-1] + 0.5)\n",
    "    saved_all_jsim['Nhalo_bin_cents'] = bin_cents\n",
    "    saved_all_jsim['Nhalo_bin_edges'] = bin_edges\n",
    "\n",
    "    delta_min_p, delta_max_p= -1.0, 500\n",
    "    indsel_dp = np.where((delta_all_z0 > delta_min_p) & (delta_all_z0 < delta_max_p))    \n",
    "    hist_truth_all, _ = np.histogram(df_Nh_truth[indsel_dp], bins=bin_edges)\n",
    "    hist_samp_all, _ = np.histogram(save_subvol_Nhalo[indsel_dp].flatten(), bins=bin_edges)\n",
    "    saved_all_jsim['hist_truth_all_Nhalo'] = hist_truth_all\n",
    "    saved_all_jsim['hist_samp_all_Nhalo'] = hist_samp_all\n",
    "    print(hist_samp_all)\n",
    "    print(hist_truth_all)\n",
    "\n",
    "    delta_min_p, delta_max_p= -1.0, 0\n",
    "    indsel_dp = np.where((delta_all_z0 > delta_min_p) & (delta_all_z0 < delta_max_p))    \n",
    "    hist_truth_low, _ = np.histogram(df_Nh_truth[indsel_dp], bins=bin_edges)\n",
    "    hist_samp_low, _ = np.histogram(save_subvol_Nhalo[indsel_dp].flatten(), bins=bin_edges)\n",
    "    saved_all_jsim['hist_truth_low_Nhalo'] = hist_truth_low\n",
    "    saved_all_jsim['hist_samp_low_Nhalo'] = hist_samp_low\n",
    "\n",
    "    delta_min_p, delta_max_p= 0.0, 2.0\n",
    "    indsel_dp = np.where((delta_all_z0 > delta_min_p) & (delta_all_z0 < delta_max_p))    \n",
    "    hist_truth_mid, _ = np.histogram(df_Nh_truth[indsel_dp], bins=bin_edges)\n",
    "    hist_samp_mid, _ = np.histogram(save_subvol_Nhalo[indsel_dp].flatten(), bins=bin_edges)\n",
    "    saved_all_jsim['hist_truth_mid_Nhalo'] = hist_truth_mid\n",
    "    saved_all_jsim['hist_samp_mid_Nhalo'] = hist_samp_mid\n",
    "\n",
    "    delta_min_p, delta_max_p= 2.0, 500\n",
    "    indsel_dp = np.where((delta_all_z0 > delta_min_p) & (delta_all_z0 < delta_max_p))    \n",
    "    hist_truth_high, _ = np.histogram(df_Nh_truth[indsel_dp], bins=bin_edges)\n",
    "    hist_samp_high, _ = np.histogram(save_subvol_Nhalo[indsel_dp].flatten(), bins=bin_edges)\n",
    "    saved_all_jsim['hist_truth_high_Nhalo'] = hist_truth_high\n",
    "    saved_all_jsim['hist_samp_high_Nhalo'] = hist_samp_high\n",
    "\n",
    "\n",
    "    delta_all_z0 = np.exp(df_d_all_nsh_test[:,0,...])-1\n",
    "    bin_cents_M = np.linspace(lgMmin, lgMmax, 20)[1:-1]\n",
    "    bin_edges_M = 0.5*(bin_cents_M[1:] + bin_cents_M[:-1])\n",
    "    delta_b = 0.5*(bin_cents_M[1] - bin_cents_M[0])\n",
    "    bin_edges_M = np.insert(bin_edges_M,0, bin_cents_M[0] - delta_b)\n",
    "    bin_edges_M = np.insert(bin_edges_M,len(bin_edges_M), bin_cents_M[-1] + delta_b)\n",
    "    saved_all_jsim['Mhalo_bin_cents'] = bin_cents_M\n",
    "    saved_all_jsim['Mhalo_bin_edges'] = bin_edges_M\n",
    "\n",
    "\n",
    "    delta_min_p, delta_max_p = -1.0, 500.0\n",
    "    indsel_dp = np.where((delta_all_z0 > delta_min_p) & (delta_all_z0 < delta_max_p))\n",
    "    hist_M_truth_all = np.zeros((4, len(bin_cents_M)))\n",
    "    hist_M_samp_all = np.zeros((4, len(bin_cents_M)))    \n",
    "    for idim in range(4):\n",
    "        M_idim_truth = df_Mh_all_truth[..., idim]\n",
    "        hist_truth, _ = np.histogram(M_idim_truth[indsel_dp].flatten(), bins=bin_edges_M)\n",
    "        hist_M_truth_all[idim, :] = hist_truth\n",
    "        \n",
    "        M_idim_samp = save_subvol_Mtot[..., idim]\n",
    "        hist_sampled, _ = np.histogram(M_idim_samp[indsel_dp].flatten(), bins=bin_edges_M)\n",
    "        hist_M_samp_all[idim, :] = hist_sampled\n",
    "    saved_all_jsim['hist_truth_all_Mhalo'] = hist_M_truth_all\n",
    "    saved_all_jsim['hist_samp_all_Mhalo'] = hist_M_samp_all\n",
    "\n",
    "    delta_min_p, delta_max_p = -1.0, 0.0\n",
    "    indsel_dp = np.where((delta_all_z0 > delta_min_p) & (delta_all_z0 < delta_max_p))\n",
    "    hist_M_truth_low = np.zeros((4, len(bin_cents_M)))\n",
    "    hist_M_samp_low = np.zeros((4, len(bin_cents_M)))\n",
    "    for idim in range(4):\n",
    "        M_idim_truth = df_Mh_all_truth[..., idim]\n",
    "        hist_truth, _ = np.histogram(M_idim_truth[indsel_dp].flatten(), bins=bin_edges_M)\n",
    "        hist_M_truth_low[idim, :] = hist_truth\n",
    "        \n",
    "        M_idim_samp = save_subvol_Mtot[..., idim]\n",
    "        hist_sampled, _ = np.histogram(M_idim_samp[indsel_dp].flatten(), bins=bin_edges_M)\n",
    "        hist_M_samp_low[idim, :] = hist_sampled\n",
    "    saved_all_jsim['hist_truth_low_Mhalo'] = hist_M_truth_low\n",
    "    saved_all_jsim['hist_samp_low_Mhalo'] = hist_M_samp_low\n",
    "\n",
    "    delta_min_p, delta_max_p = 0.0, 2.0\n",
    "    indsel_dp = np.where((delta_all_z0 > delta_min_p) & (delta_all_z0 < delta_max_p))\n",
    "    hist_M_truth_mid = np.zeros((4, len(bin_cents_M)))\n",
    "    hist_M_samp_mid = np.zeros((4, len(bin_cents_M)))\n",
    "    for idim in range(4):\n",
    "        M_idim_truth = df_Mh_all_truth[..., idim]\n",
    "        hist_truth, _ = np.histogram(M_idim_truth[indsel_dp].flatten(), bins=bin_edges_M)\n",
    "        hist_M_truth_mid[idim, :] = hist_truth\n",
    "        \n",
    "        M_idim_samp = save_subvol_Mtot[..., idim]\n",
    "        hist_sampled, _ = np.histogram(M_idim_samp[indsel_dp].flatten(), bins=bin_edges_M)\n",
    "        hist_M_samp_mid[idim, :] = hist_sampled\n",
    "    saved_all_jsim['hist_truth_mid_Mhalo'] = hist_M_truth_mid\n",
    "    saved_all_jsim['hist_samp_mid_Mhalo'] = hist_M_samp_mid\n",
    "\n",
    "    delta_min_p, delta_max_p = 2.0, 500.0\n",
    "    indsel_dp = np.where((delta_all_z0 > delta_min_p) & (delta_all_z0 < delta_max_p))\n",
    "    hist_M_truth_high = np.zeros((4, len(bin_cents_M)))\n",
    "    hist_M_samp_high = np.zeros((4, len(bin_cents_M)))\n",
    "    for idim in range(4):\n",
    "        M_idim_truth = df_Mh_all_truth[..., idim]\n",
    "        hist_truth, _ = np.histogram(M_idim_truth[indsel_dp].flatten(), bins=bin_edges_M)\n",
    "        hist_M_truth_high[idim, :] = hist_truth\n",
    "        \n",
    "        M_idim_samp = save_subvol_Mtot[..., idim]\n",
    "        hist_sampled, _ = np.histogram(M_idim_samp[indsel_dp].flatten(), bins=bin_edges_M)\n",
    "        hist_M_samp_high[idim, :] = hist_sampled\n",
    "    saved_all_jsim['hist_truth_high_Mhalo'] = hist_M_truth_high\n",
    "    saved_all_jsim['hist_samp_high_Mhalo'] = hist_M_samp_high\n",
    "\n",
    "    # # import pdb; pdb.set_trace()\n",
    "\n",
    "    # # create empty arrays for Nhalos and M_halos\n",
    "    Nhalos = np.zeros((ns_h, ns_h, ns_h))\n",
    "    M_halos = np.zeros((ns_h, ns_h, ns_h, ndim_diff + 1))\n",
    "    M_halos_truth = np.zeros((ns_h, ns_h, ns_h, ndim_diff + 1))\n",
    "\n",
    "    subvol_size = ns_h // nb\n",
    "\n",
    "    ind_cart_lin = {}\n",
    "    ind_lin_cart = {}\n",
    "    jc = 0\n",
    "    from tqdm import tqdm\n",
    "    for jx in tqdm(range(nb)):\n",
    "        for jy in range(nb):\n",
    "            for jz in range(nb):\n",
    "                # get the sub-cube\n",
    "                ind_lin_cart[(jx, jy, jz)] = jc\n",
    "                ind_cart_lin[jc] = [jx, jy, jz]\n",
    "                jc += 1\n",
    "                \n",
    "\n",
    "    # iterate over subvolumes\n",
    "    jc = 0\n",
    "    for jx in range(nb):\n",
    "        for jy in range(nb):\n",
    "            for jz in range(nb):\n",
    "                Nhalos[jx * subvol_size:(jx + 1) * subvol_size, jy * subvol_size:(jy + 1) * subvol_size,\n",
    "                    jz * subvol_size:(jz + 1) * subvol_size] = save_subvol_Nhalo[ind_lin_cart[(jx, jy, jz)]]\n",
    "\n",
    "                M_halos[jx * subvol_size:(jx + 1) * subvol_size, jy * subvol_size:(jy + 1) * subvol_size,\n",
    "                        jz * subvol_size:(jz + 1) * subvol_size, :] = save_subvol_Mtot[ind_lin_cart[(jx, jy, jz)]]\n",
    "                \n",
    "                \n",
    "                jc += 1\n",
    "                \n",
    "                \n",
    "    \n",
    "    # create empty arrays for Nhalos and M_halos\n",
    "    Nhalos_truth_recomb = np.zeros((ns_h, ns_h, ns_h))\n",
    "    M_halos_truth_recomb = np.zeros((ns_h, ns_h, ns_h, ndim_diff + 1))\n",
    "\n",
    "    subvol_size = ns_h // nb\n",
    "\n",
    "    ind_cart_lin = {}\n",
    "    ind_lin_cart = {}\n",
    "    jc = 0\n",
    "    from tqdm import tqdm\n",
    "    for jx in tqdm(range(nb)):\n",
    "        for jy in range(nb):\n",
    "            for jz in range(nb):\n",
    "                # get the sub-cube\n",
    "                ind_lin_cart[(jx, jy, jz)] = jc\n",
    "                ind_cart_lin[jc] = [jx, jy, jz]\n",
    "                jc += 1\n",
    "                \n",
    "\n",
    "    # iterate over subvolumes\n",
    "    jc = 0\n",
    "    for jx in range(nb):\n",
    "        for jy in range(nb):\n",
    "            for jz in range(nb):\n",
    "                Nhalos_truth_recomb[jx * subvol_size:(jx + 1) * subvol_size, jy * subvol_size:(jy + 1) * subvol_size,\n",
    "                    jz * subvol_size:(jz + 1) * subvol_size] = save_subvol_Nhalo_truth[ind_lin_cart[(jx, jy, jz)]]\n",
    "\n",
    "                M_halos_truth_recomb[jx * subvol_size:(jx + 1) * subvol_size, jy * subvol_size:(jy + 1) * subvol_size,\n",
    "                        jz * subvol_size:(jz + 1) * subvol_size, :] = save_subvol_Mtot_truth[ind_lin_cart[(jx, jy, jz)],...,:ndim_diff + 1]\n",
    "                \n",
    "                \n",
    "                jc += 1\n",
    "                \n",
    "\n",
    "    # create the meshgrid\n",
    "    zv = 0.0\n",
    "    av = 1. / (1 + zv)\n",
    "    xall = (np.linspace(0, 1000, ns_h + 1))\n",
    "    xarray = av * 0.5 * (xall[1:] + xall[:-1])\n",
    "    yarray = np.copy(xarray)\n",
    "    zarray = np.copy(xarray)\n",
    "    x_cy, y_cy, z_cy = np.meshgrid(xarray, yarray, zarray, indexing='ij')\n",
    "\n",
    "\n",
    "    # create the meshgrid\n",
    "    zv = 0.0\n",
    "    av = 1. / (1 + zv)\n",
    "    xall = (np.linspace(0, 1000, ns_h + 1))\n",
    "    xarray = av * 0.5 * (xall[1:] + xall[:-1])\n",
    "    dx = (xall[1] - xall[0])\n",
    "    yarray = np.copy(xarray)\n",
    "    zarray = np.copy(xarray)\n",
    "    x_cy, y_cy, z_cy = np.meshgrid(xarray, yarray, zarray, indexing='ij')\n",
    "\n",
    "    x_h_mock, y_h_mock, z_h_mock, lgM_mock = [], [], [], []\n",
    "    k = 0\n",
    "    for jx in range(ns_h):\n",
    "        for jy in range(ns_h):\n",
    "            for jz in range(ns_h):\n",
    "                    Nh_vox = int(Nhalos[jx, jy, jz])\n",
    "                    if Nh_vox > 0:\n",
    "                        x_h_mock.append(x_cy[jx, jy, jz]*np.ones(Nh_vox))\n",
    "                        y_h_mock.append(y_cy[jx, jy, jz]*np.ones(Nh_vox))\n",
    "                        z_h_mock.append(z_cy[jx, jy, jz]*np.ones(Nh_vox))\n",
    "                        \n",
    "                        lgM_mock.append((M_halos[jx, jy, jz, :Nh_vox]))\n",
    "                        k += Nh_vox\n",
    "\n",
    "    # convert to numpy arrays\n",
    "    x_h_mock = np.concatenate(x_h_mock)\n",
    "    y_h_mock = np.concatenate(y_h_mock)\n",
    "    z_h_mock = np.concatenate(z_h_mock)\n",
    "    pos_h_mock = np.vstack((x_h_mock, y_h_mock, z_h_mock)).T\n",
    "    lgMass_mock = np.concatenate(lgM_mock)\n",
    "    # convert to float data type\n",
    "    pos_h_mock = pos_h_mock.astype('float32')\n",
    "    lgMass_mock = lgMass_mock.astype('float32')\n",
    "\n",
    "    # save a hdf5 file with positions and masses:\n",
    "    # import h5py as h5\n",
    "    # f = h5.File('/mnt/home/spandey/ceph/AR_NPE/test_data/BDIFF_test_halos_mock_vox_Nmax5_sim_' + str(ji) + '.hdf5', 'w')\n",
    "    # f.create_dataset('pos_h', data=pos_h_mock)\n",
    "    # f.create_dataset('lgMass', data=lgMass_mock)\n",
    "    # f.close()\n",
    "\n",
    "    # sdir='/mnt/home/spandey/ceph/Quijote/data_NGP_self'\n",
    "    # # load the halo data\n",
    "    # fname = sdir + '/' + str(isim) + '/halos_' + str(mass_type) + '_subvol_res_' + str(ns_h) + '_z=0.pk'\n",
    "    # df_h = pk.load(open(fname, 'rb'))\n",
    "    # # This has information on the halo mass for all the halos in the voxel\n",
    "    # df_Mh_all_truth = df_h['M_halos']\n",
    "    # df_Mh_all_truth = np.flip(np.sort(df_Mh_all_truth, axis=-1), axis=-1)\n",
    "    # # This has information on the number of halos in the voxel\n",
    "    # df_Nh_truth = df_h['N_halos']\n",
    "\n",
    "    # fname = sdir + '/' + str(isim) + '/halos_' + str(mass_type) + '_full_res_' + str(ns_h) + '_z=0.pk'\n",
    "    # df_h = pk.load(open(fname, 'rb'))\n",
    "    # df_Mh_all_truth_comb, df_Nh_truth_comb = df_h['M_halos_combined'], df_h['N_halos_combined']\n",
    "\n",
    "    # create the meshgrid\n",
    "    # zv = 0.0\n",
    "    # av = 1. / (1 + zv)\n",
    "    # xall = (np.linspace(0, 1000, ns_h + 1))\n",
    "    # xarray = av * 0.5 * (xall[1:] + xall[:-1])\n",
    "    # dx = (xall[1] - xall[0])\n",
    "    # yarray = np.copy(xarray)\n",
    "    # zarray = np.copy(xarray)\n",
    "    # x_cy, y_cy, z_cy = np.meshgrid(xarray, yarray, zarray, indexing='ij')\n",
    "\n",
    "    x_h_truth, y_h_truth, z_h_truth, lgM_truth = [], [], [], []\n",
    "    for jx in range(ns_h):\n",
    "        for jy in range(ns_h):\n",
    "            for jz in range(ns_h):\n",
    "                    Nh_vox = int(Nhalos_truth_recomb[jx, jy, jz])\n",
    "                    if Nh_vox > 0:\n",
    "                        x_h_truth.append(x_cy[jx, jy, jz]*np.ones(Nh_vox))\n",
    "                        y_h_truth.append(y_cy[jx, jy, jz]*np.ones(Nh_vox))\n",
    "                        z_h_truth.append(z_cy[jx, jy, jz]*np.ones(Nh_vox))\n",
    "                        \n",
    "                        lgM_truth.append((M_halos_truth_recomb[jx, jy, jz, :Nh_vox]))\n",
    "\n",
    "    # convert to numpy arrays\n",
    "    x_h_truth = np.concatenate(x_h_truth)\n",
    "    y_h_truth = np.concatenate(y_h_truth)\n",
    "    z_h_truth = np.concatenate(z_h_truth)\n",
    "    pos_h_truth = np.vstack((x_h_truth, y_h_truth, z_h_truth)).T\n",
    "    lgMass_truth = np.concatenate(lgM_truth)\n",
    "    # convert to float data type\n",
    "    pos_h_truth = pos_h_truth.astype('float32')\n",
    "    lgMass_truth = lgMass_truth.astype('float32')\n",
    "\n",
    "\n",
    "    # save a hdf5 file with positions and masses:\n",
    "    # import h5py as h5\n",
    "    # f = h5.File('/mnt/home/spandey/ceph/AR_NPE/test_data/BDIFF_test_halos_truth_vox_Nmax5_sim_' + str(ji) + '.hdf5', 'w')\n",
    "    # f.create_dataset('pos_h', data=pos_h_truth)\n",
    "    # f.create_dataset('lgMass', data=lgMass_truth)\n",
    "    # f.close()\n",
    "\n",
    "    grid    = ns_h    #the 3D field will have grid x grid x grid voxels\n",
    "    BoxSize = 1000.0 #Mpc/h ; size of box\n",
    "    MAS     = 'NGP'  #mass-assigment scheme\n",
    "    verbose = False   #print information on progress\n",
    "\n",
    "    # Mmin_Pk_all = np.array([13.0, 13.0, 13.5, 14.0, 14.5])\n",
    "    # Mmax_Pk_all = np.array([16.0, 13.5, 14.0, 14.5, 15.0])\n",
    "    Mmin_Pk_all = np.log10(np.array([1e13, 5e13, 7e13, 1e14, 5e14]))\n",
    "    Mmax_Pk_all = np.log10(np.array([1e16, 7e13, 1e14, 5e14, 1e15]))  \n",
    "    Mmin_Pk_all[0] = -1.0\n",
    "\n",
    "    saved_Pk_Bk = {}\n",
    "\n",
    "    for j in range(len(Mmin_Pk_all)):\n",
    "        saved_j = {}\n",
    "        Mmin_Pk, Mmax_Pk = Mmin_Pk_all[j], Mmax_Pk_all[j]\n",
    "        indsel_Pk_truth = np.where((lgMass_truth > Mmin_Pk) & (lgMass_truth < Mmax_Pk))[0]\n",
    "        print(Mmin_Pk, Mmax_Pk, ', number in truth:,', len(indsel_Pk_truth))\n",
    "        mesh_truth2 = np.zeros((grid, grid, grid), dtype=np.float32)\n",
    "        pos_truth2 = (pos_h_truth[indsel_Pk_truth,...]).astype(np.float32)\n",
    "        MASL.MA(pos_truth2, mesh_truth2, BoxSize, MAS)\n",
    "        mesh_truth2 /= np.mean(mesh_truth2, dtype=np.float32);  mesh_truth2 -= 1.0\n",
    "        Pk_truth2 = PKL.Pk(mesh_truth2, BoxSize, axis=0, MAS=None, threads=1)\n",
    "\n",
    "        indsel_Pk_mock = np.where((lgMass_mock > Mmin_Pk) & (lgMass_mock < Mmax_Pk))[0]\n",
    "        print(Mmin_Pk, Mmax_Pk, ' number in mock:,', len(indsel_Pk_mock))        \n",
    "        mesh_mock = np.zeros((grid, grid, grid), dtype=np.float32)\n",
    "        pos_mock = (pos_h_mock[indsel_Pk_mock,...]).astype(np.float32)\n",
    "        MASL.MA(pos_mock, mesh_mock, BoxSize, MAS)\n",
    "        mesh_mock /= np.mean(mesh_mock, dtype=np.float32);  mesh_mock -= 1.0\n",
    "        Pk_mock = PKL.Pk(mesh_mock, BoxSize, axis=0, MAS=None, threads=1)    \n",
    "\n",
    "        Pk_mockxtruth2 = PKL.XPk([mesh_truth2,mesh_mock], BoxSize, axis=0, MAS=[None, None], threads=1)\n",
    "\n",
    "        saved_j['Pk_truth'] = Pk_truth2.Pk[:,0]\n",
    "        saved_j['Pk_mock'] = Pk_mock.Pk[:,0]\n",
    "        saved_j['Pk_mockxtruth'] = Pk_mockxtruth2.XPk[:,0,0]\n",
    "        saved_j['k_Pk'] = Pk_mockxtruth2.k3D\n",
    "        \n",
    "\n",
    "        # BoxSize = 1000.0 #Size of the density field in Mpc/h\n",
    "        # threads = 1\n",
    "        # theta   = np.linspace(0, np.pi, 16) #array with the angles between k1 and k2\n",
    "        # saved_j['theta'] = theta\n",
    "\n",
    "        # k1 = 0.03\n",
    "        # k2 = 0.03\n",
    "        # BBk = PKL.Bk(mesh_truth2, BoxSize, k1, k2, theta, None, threads)\n",
    "        # Bk_truth_k0p03  = BBk.B     #bispectrum\n",
    "        # Qk_truth_k0p03  = BBk.Q     #reduced bispectrum\n",
    "        # BBk = PKL.Bk(mesh_mock, BoxSize, k1, k2, theta, None, threads)\n",
    "        # Bk_mock_k0p03  = BBk.B     #bispectrum\n",
    "        # Qk_mock_k0p03  = BBk.Q     #reduced bispectrum\n",
    "\n",
    "        # saved_j['Bk_truth_k0p03'] = Bk_truth_k0p03\n",
    "        # saved_j['Qk_truth_k0p03'] = Qk_truth_k0p03\n",
    "        # saved_j['Bk_mock_k0p03'] = Bk_mock_k0p03\n",
    "        # saved_j['Qk_mock_k0p03'] = Qk_mock_k0p03\n",
    "\n",
    "\n",
    "        # k1 = 0.06\n",
    "        # k2 = 0.06\n",
    "        # BBk = PKL.Bk(mesh_truth2, BoxSize, k1, k2, theta, None, threads)\n",
    "        # Bk_truth_k0p06  = BBk.B     #bispectrum\n",
    "        # Qk_truth_k0p06  = BBk.Q     #reduced bispectrum\n",
    "        # BBk = PKL.Bk(mesh_mock, BoxSize, k1, k2, theta, None, threads)\n",
    "        # Bk_mock_k0p06  = BBk.B     #bispectrum\n",
    "        # Qk_mock_k0p06  = BBk.Q     #reduced bispectrum\n",
    "\n",
    "        # saved_j['Bk_truth_k0p06'] = Bk_truth_k0p06\n",
    "        # saved_j['Qk_truth_k0p06'] = Qk_truth_k0p06\n",
    "        # saved_j['Bk_mock_k0p06'] = Bk_mock_k0p06\n",
    "        # saved_j['Qk_mock_k0p06'] = Qk_mock_k0p06\n",
    "\n",
    "        # k1 = 0.1\n",
    "        # k2 = 0.1\n",
    "        # BBk = PKL.Bk(mesh_truth2, BoxSize, k1, k2, theta, None, threads)\n",
    "        # Bk_truth_k0p1  = BBk.B     #bispectrum\n",
    "        # Qk_truth_k0p1  = BBk.Q     #reduced bispectrum\n",
    "        # BBk = PKL.Bk(mesh_mock, BoxSize, k1, k2, theta, None, threads)\n",
    "        # Bk_mock_k0p1  = BBk.B     #bispectrum\n",
    "        # Qk_mock_k0p1  = BBk.Q     #reduced bispectrum\n",
    "\n",
    "        # saved_j['Bk_truth_k0p1'] = Bk_truth_k0p1\n",
    "        # saved_j['Qk_truth_k0p1'] = Qk_truth_k0p1\n",
    "        # saved_j['Bk_mock_k0p1'] = Bk_mock_k0p1\n",
    "        # saved_j['Qk_mock_k0p1'] = Qk_mock_k0p1\n",
    "\n",
    "\n",
    "        # k1 = 0.2\n",
    "        # k2 = 0.2\n",
    "        # BBk = PKL.Bk(mesh_truth2, BoxSize, k1, k2, theta, None, threads)\n",
    "        # Bk_truth_k0p2  = BBk.B     #bispectrum\n",
    "        # Qk_truth_k0p2  = BBk.Q     #reduced bispectrum\n",
    "        # BBk = PKL.Bk(mesh_mock, BoxSize, k1, k2, theta, None, threads)\n",
    "        # Bk_mock_k0p2  = BBk.B     #bispectrum\n",
    "        # Qk_mock_k0p2  = BBk.Q     #reduced bispectrum\n",
    "\n",
    "        # saved_j['Bk_truth_k0p2'] = Bk_truth_k0p2\n",
    "        # saved_j['Qk_truth_k0p2'] = Qk_truth_k0p2\n",
    "        # saved_j['Bk_mock_k0p2'] = Bk_mock_k0p2\n",
    "        # saved_j['Qk_mock_k0p2'] = Qk_mock_k0p2\n",
    "\n",
    "\n",
    "        # k1 = 0.3\n",
    "        # k2 = 0.3\n",
    "        # BBk = PKL.Bk(mesh_truth2, BoxSize, k1, k2, theta, None, threads)\n",
    "        # Bk_truth_k0p3  = BBk.B     #bispectrum\n",
    "        # Qk_truth_k0p3  = BBk.Q     #reduced bispectrum\n",
    "        # BBk = PKL.Bk(mesh_mock, BoxSize, k1, k2, theta, None, threads)\n",
    "        # Bk_mock_k0p3  = BBk.B     #bispectrum\n",
    "        # Qk_mock_k0p3  = BBk.Q     #reduced bispectrum\n",
    "\n",
    "        # saved_j['Bk_truth_k0p3'] = Bk_truth_k0p3\n",
    "        # saved_j['Qk_truth_k0p3'] = Qk_truth_k0p3\n",
    "        # saved_j['Bk_mock_k0p3'] = Bk_mock_k0p3\n",
    "        # saved_j['Qk_mock_k0p3'] = Qk_mock_k0p3\n",
    "\n",
    "        # k1 = 0.6\n",
    "        # k2 = 0.6\n",
    "        # BBk = PKL.Bk(mesh_truth2, BoxSize, k1, k2, theta, None, threads)\n",
    "        # Bk_truth_k0p6  = BBk.B     #bispectrum\n",
    "        # Qk_truth_k0p6  = BBk.Q     #reduced bispectrum\n",
    "        # BBk = PKL.Bk(mesh_mock, BoxSize, k1, k2, theta, None, threads)\n",
    "        # Bk_mock_k0p6  = BBk.B     #bispectrum\n",
    "        # Qk_mock_k0p6  = BBk.Q     #reduced bispectrum\n",
    "\n",
    "        # saved_j['Bk_truth_k0p6'] = Bk_truth_k0p6\n",
    "        # saved_j['Qk_truth_k0p6'] = Qk_truth_k0p6\n",
    "        # saved_j['Bk_mock_k0p6'] = Bk_mock_k0p6\n",
    "        # saved_j['Qk_mock_k0p6'] = Qk_mock_k0p6\n",
    "    \n",
    "        saved_Pk_Bk[j] = saved_j\n",
    "\n",
    "    saved_all_jsim['Pk_Bk'] = saved_Pk_Bk\n",
    "\n",
    "    # # # sdir = '/mnt/home/spandey/ceph/AR_NPE/notebooks/SUMMARY_STATS_FIDSIMS_TEST_stype_' + str(stype) + '_mtype_' + str(mass_type) + '_condsim_' + str(cond_sim) + '/'\n",
    "    # # # sdir = '/mnt/home/spandey/ceph/AR_NPE/notebooks/SUMMARY_STATS_FIDSIMS_TEST_stype_' + str(stype) + '_mtype_' + str(mass_type) + '_condsim_' + str(cond_sim) + '_nc_' + str(nc) + '/'    \n",
    "    # # sdir = '/mnt/home/spandey/ceph/AR_NPE/notebooks/SUMMARY_STATS_FIDSIMS_TEST_stype_' + str(stype) + '_mtype_' + str(mass_type) + '_condsim_' + str(cond_sim) + '_nc_' + str(nc) + '_wL2norm_highknots' + '/'    \n",
    "    # # print(sdir)\n",
    "    # # # make directory if doesn't exist:\n",
    "    # # if not os.path.exists(sdir):\n",
    "    # #     os.makedirs(sdir)\n",
    "    # # import pickle as pk\n",
    "    # # fname = sdir + '/summary_stats_jsim_' + str(isim) + '.pk'\n",
    "    # # pk.dump(saved_all_jsim, open(fname, 'wb'))\n",
    "\n",
    "                    \n",
    "\n",
    "\n",
    "\n",
    "\n",
    "\n",
    "\n"
   ]
  },
  {
   "cell_type": "code",
   "execution_count": 51,
   "metadata": {},
   "outputs": [],
   "source": [
    "# # model_Ntot\n",
    "# # base_dist_Ntot\n",
    "# # 203968/1817977 \n",
    "# cond_out = model.conv_layers(cond_tensor_jd[0])\n",
    "# cond_out = torch.cat((cond_out, cond_tensor_nsh_jd[0]), dim=1)\n",
    "# # if self.sep_Ntot_cond:\n",
    "# cond_out_Ntot = model.cond_Ntot_layer(cond_out)\n",
    "\n",
    "# Ntot_samp_tensor = model_Ntot.inverse(cond_out_Ntot)\n",
    "# pl.figure()\n",
    "# _ = pl.hist(Ntot_samp_tensor.cpu().detach().numpy(), bins=100, density=True, alpha=0.5)\n",
    "# _ = pl.hist(Nhalos_truth_tensor_jd[0,...].cpu().detach().numpy(), bins=100, density=True, alpha=0.5)\n",
    "# pl.yscale('log')\n"
   ]
  },
  {
   "cell_type": "code",
   "execution_count": 20,
   "metadata": {},
   "outputs": [
    {
     "data": {
      "image/png": "[encoded data removed]",
      "text/plain": [
       "<Figure size 1000x500 with 2 Axes>"
      ]
     },
     "metadata": {},
     "output_type": "display_data"
    }
   ],
   "source": [
    "# pl.figure()\n",
    "# pl.imshow(Nhalos[64,...])\n",
    "# make it a two panel figure:\n",
    "pl.figure(figsize=(10, 5))\n",
    "pl.subplot(121)\n",
    "pl.imshow(Nhalos[64,...])\n",
    "pl.xlim(20,40)\n",
    "pl.ylim(20,40)\n",
    "\n",
    "pl.subplot(122)\n",
    "pl.imshow(Nhalos_truth_recomb[64,...])\n",
    "pl.xlim(20,40)\n",
    "pl.ylim(20,40)\n",
    "pl.show()\n",
    "\n",
    "\n"
   ]
  },
  {
   "cell_type": "code",
   "execution_count": 21,
   "metadata": {},
   "outputs": [
    {
     "data": {
      "image/png": "[encoded data removed]",
      "text/plain": [
       "<Figure size 1000x500 with 2 Axes>"
      ]
     },
     "metadata": {},
     "output_type": "display_data"
    }
   ],
   "source": [
    "# pl.figure()\n",
    "# pl.imshow(Nhalos[64,...])\n",
    "# make it a two panel figure:\n",
    "pl.figure(figsize=(10, 5))\n",
    "pl.subplot(121)\n",
    "pl.imshow(Nhalos[64,...])\n",
    "pl.xlim(20,40)\n",
    "pl.ylim(20,40)\n",
    "\n",
    "pl.subplot(122)\n",
    "pl.imshow(Nhalos_truth_recomb[64,...])\n",
    "pl.xlim(20,40)\n",
    "pl.ylim(20,40)\n",
    "pl.show()\n",
    "\n",
    "\n"
   ]
  },
  {
   "cell_type": "code",
   "execution_count": 22,
   "metadata": {},
   "outputs": [
    {
     "data": {
      "text/plain": [
       "<matplotlib.image.AxesImage at 0x1553e5f757c0>"
      ]
     },
     "execution_count": 22,
     "metadata": {},
     "output_type": "execute_result"
    },
    {
     "data": {
      "image/png": "[encoded data removed]",
      "text/plain": [
       "<Figure size 640x480 with 1 Axes>"
      ]
     },
     "metadata": {},
     "output_type": "display_data"
    }
   ],
   "source": [
    "pl.figure()\n",
    "pl.imshow(df_Nh_truth_comb[64,...])\n",
    "# Nhalos.shape"
   ]
  },
  {
   "cell_type": "code",
   "execution_count": 64,
   "metadata": {},
   "outputs": [
    {
     "data": {
      "text/plain": [
       "(530036, 524062)"
      ]
     },
     "execution_count": 64,
     "metadata": {},
     "output_type": "execute_result"
    }
   ],
   "source": [
    "# # Nhalos_truth_tensor_jd.shape\n",
    "# if is_HR:\n",
    "#     fname = sdir + '/' + str(isim) + '/halos_HR_' + str(mass_type) + '_lgMmincut_' + lgMmincutstr + '_full_res_' + str(ns_h) + '_z=0.pk'\n",
    "# else:\n",
    "#     fname = sdir + '/' + str(isim) + '/halos_' + str(mass_type) + '_lgMmincut_' + lgMmincutstr + '_full_res_' + str(ns_h) + '_z=0.pk'\n",
    "# np.sum(df_Nh_truth_comb), np.sum(Nhalos)\n",
    "# np.amin(lgMass_truth[lgMass_truth > 0]), np.amin(lgMass_mock[lgMass_mock > 0])\n",
    "# np.amax(lgMass_truth[lgMass_truth > 0]), np.amax(lgMass_mock[lgMass_mock > 0])\n",
    "\n",
    "len(pos_h_mock), len(pos_h_truth)\n",
    "\n"
   ]
  },
  {
   "cell_type": "code",
   "execution_count": 65,
   "metadata": {},
   "outputs": [
    {
     "data": {
      "text/plain": [
       "0.9887290674595688"
      ]
     },
     "execution_count": 65,
     "metadata": {},
     "output_type": "execute_result"
    }
   ],
   "source": [
    "# fname\n",
    "len(pos_h_truth)/len(pos_h_mock)\n"
   ]
  },
  {
   "cell_type": "code",
   "execution_count": 15,
   "metadata": {},
   "outputs": [],
   "source": [
    "import matplotlib.pyplot as pl\n",
    "import matplotlib\n",
    "%matplotlib inline\n",
    "\n",
    "\n"
   ]
  },
  {
   "cell_type": "code",
   "execution_count": 23,
   "metadata": {},
   "outputs": [
    {
     "data": {
      "image/png": "[encoded data removed]",
      "text/plain": [
       "<Figure size 640x480 with 1 Axes>"
      ]
     },
     "metadata": {},
     "output_type": "display_data"
    }
   ],
   "source": [
    "pl.figure()\n",
    "pl.plot(saved_all_jsim['Nhalo_bin_cents'], saved_all_jsim['hist_truth_low_Nhalo'])\n",
    "pl.plot(saved_all_jsim['Nhalo_bin_cents'], saved_all_jsim['hist_samp_low_Nhalo'], ls='--')\n",
    "pl.yscale('log')\n",
    "\n",
    "\n"
   ]
  },
  {
   "cell_type": "code",
   "execution_count": 24,
   "metadata": {},
   "outputs": [
    {
     "data": {
      "image/png": "[encoded data removed]",
      "text/plain": [
       "<Figure size 640x480 with 1 Axes>"
      ]
     },
     "metadata": {},
     "output_type": "display_data"
    }
   ],
   "source": [
    "pl.figure()\n",
    "pl.plot(saved_all_jsim['Nhalo_bin_cents'], saved_all_jsim['hist_truth_mid_Nhalo'])\n",
    "pl.plot(saved_all_jsim['Nhalo_bin_cents'], saved_all_jsim['hist_samp_mid_Nhalo'], ls='--')\n",
    "pl.yscale('log')\n",
    "\n",
    "\n"
   ]
  },
  {
   "cell_type": "code",
   "execution_count": 25,
   "metadata": {},
   "outputs": [
    {
     "data": {
      "image/png": "[encoded data removed]",
      "text/plain": [
       "<Figure size 640x480 with 1 Axes>"
      ]
     },
     "metadata": {},
     "output_type": "display_data"
    }
   ],
   "source": [
    "pl.figure()\n",
    "pl.plot(saved_all_jsim['Nhalo_bin_cents'], saved_all_jsim['hist_truth_high_Nhalo'])\n",
    "pl.plot(saved_all_jsim['Nhalo_bin_cents'], saved_all_jsim['hist_samp_high_Nhalo'], ls='--')\n",
    "pl.yscale('log')\n",
    "\n",
    "\n"
   ]
  },
  {
   "cell_type": "code",
   "execution_count": 26,
   "metadata": {},
   "outputs": [
    {
     "data": {
      "text/plain": [
       "[<matplotlib.lines.Line2D at 0x1553e5afa9a0>]"
      ]
     },
     "execution_count": 26,
     "metadata": {},
     "output_type": "execute_result"
    },
    {
     "data": {
      "image/png": "[encoded data removed]",
      "text/plain": [
       "<Figure size 640x480 with 1 Axes>"
      ]
     },
     "metadata": {},
     "output_type": "display_data"
    }
   ],
   "source": [
    "pl.figure()\n",
    "pl.plot(saved_all_jsim['Nhalo_bin_cents'], saved_all_jsim['hist_truth_high_Nhalo']/ saved_all_jsim['hist_samp_high_Nhalo'])\n",
    "# pl.plot(saved_all_jsim['Nhalo_bin_cents'], saved_all_jsim['hist_samp_high_Nhalo'], ls='--')\n",
    "# pl.yscale('log')\n",
    "\n",
    "\n"
   ]
  },
  {
   "cell_type": "code",
   "execution_count": 36,
   "metadata": {},
   "outputs": [
    {
     "data": {
      "image/png": "[encoded data removed]",
      "text/plain": [
       "<Figure size 640x480 with 1 Axes>"
      ]
     },
     "metadata": {},
     "output_type": "display_data"
    }
   ],
   "source": [
    "pl.figure()\n",
    "pl.plot(saved_all_jsim['Mhalo_bin_cents'], saved_all_jsim['hist_truth_high_Mhalo'][0,:])\n",
    "pl.plot(saved_all_jsim['Mhalo_bin_cents'], saved_all_jsim['hist_samp_high_Mhalo'][0,:], ls='--')\n",
    "pl.yscale('log')\n",
    "\n",
    "\n"
   ]
  },
  {
   "cell_type": "code",
   "execution_count": 37,
   "metadata": {},
   "outputs": [
    {
     "data": {
      "image/png": "[encoded data removed]",
      "text/plain": [
       "<Figure size 640x480 with 1 Axes>"
      ]
     },
     "metadata": {},
     "output_type": "display_data"
    }
   ],
   "source": [
    "pl.figure()\n",
    "pl.plot(saved_all_jsim['Mhalo_bin_cents'], saved_all_jsim['hist_truth_all_Mhalo'][1,:])\n",
    "pl.plot(saved_all_jsim['Mhalo_bin_cents'], saved_all_jsim['hist_samp_all_Mhalo'][1,:], ls='--')\n",
    "pl.yscale('log')\n",
    "\n",
    "\n"
   ]
  },
  {
   "cell_type": "code",
   "execution_count": 31,
   "metadata": {},
   "outputs": [
    {
     "data": {
      "text/plain": [
       "dict_keys([])"
      ]
     },
     "execution_count": 31,
     "metadata": {},
     "output_type": "execute_result"
    }
   ],
   "source": [
    "saved_all_jsim['Pk_Bk'].keys()\n"
   ]
  },
  {
   "cell_type": "code",
   "execution_count": 29,
   "metadata": {},
   "outputs": [
    {
     "data": {
      "image/png": "[encoded data removed]",
      "text/plain": [
       "<Figure size 640x480 with 1 Axes>"
      ]
     },
     "metadata": {},
     "output_type": "display_data"
    }
   ],
   "source": [
    "pl.figure()\n",
    "pl.plot(saved_all_jsim['Pk_Bk'][0]['k_Pk'], saved_all_jsim['Pk_Bk'][0]['Pk_truth'])\n",
    "pl.plot(saved_all_jsim['Pk_Bk'][0]['k_Pk'], saved_all_jsim['Pk_Bk'][0]['Pk_mock'], ls='--')\n",
    "pl.plot(saved_all_jsim['Pk_Bk'][0]['k_Pk'], saved_all_jsim['Pk_Bk'][0]['Pk_mockxtruth'], ls=':')\n",
    "pl.yscale('log')\n",
    "pl.xscale('log')\n",
    "\n",
    "\n"
   ]
  },
  {
   "cell_type": "code",
   "execution_count": 30,
   "metadata": {},
   "outputs": [
    {
     "data": {
      "image/png": "[encoded data removed]",
      "text/plain": [
       "<Figure size 640x480 with 1 Axes>"
      ]
     },
     "metadata": {},
     "output_type": "display_data"
    }
   ],
   "source": [
    "pl.figure()\n",
    "pl.plot(saved_all_jsim['Pk_Bk'][0]['k_Pk'], saved_all_jsim['Pk_Bk'][0]['Pk_truth']/saved_all_jsim['Pk_Bk'][0]['Pk_mock'])\n",
    "# pl.plot(saved_all_jsim['Pk_Bk'][0]['k_Pk'], saved_all_jsim['Pk_Bk'][1]['Pk_truth']/saved_all_jsim['Pk_Bk'][1]['Pk_mock'])\n",
    "# pl.plot(saved_all_jsim['Pk_Bk'][0]['k_Pk'], saved_all_jsim['Pk_Bk'][3]['Pk_truth']/saved_all_jsim['Pk_Bk'][3]['Pk_mock'])\n",
    "# pl.plot(saved_all_jsim['Pk_Bk'][0]['k_Pk'], , ls='--')\n",
    "# pl.plot(saved_all_jsim['Pk_Bk'][0]['k_Pk'], saved_all_jsim['Pk_Bk'][0]['Pk_mockxtruth'], ls=':')\n",
    "# pl.yscale('log')\n",
    "pl.axhline(1.0, ls='--')\n",
    "pl.ylim(0.8,1.2)\n",
    "pl.xscale('log')\n",
    "pl.grid()\n",
    "\n",
    "\n"
   ]
  },
  {
   "cell_type": "code",
   "execution_count": 63,
   "metadata": {},
   "outputs": [
    {
     "data": {
      "image/png": "[encoded data removed]",
      "text/plain": [
       "<Figure size 640x480 with 1 Axes>"
      ]
     },
     "metadata": {},
     "output_type": "display_data"
    }
   ],
   "source": [
    "pl.figure()\n",
    "pl.plot(saved_all_jsim['Pk_Bk'][0]['k_Pk'], saved_all_jsim['Pk_Bk'][0]['Pk_truth'])\n",
    "pl.plot(saved_all_jsim['Pk_Bk'][0]['k_Pk'], saved_all_jsim['Pk_Bk'][0]['Pk_mock'], ls='--')\n",
    "pl.plot(saved_all_jsim['Pk_Bk'][0]['k_Pk'], saved_all_jsim['Pk_Bk'][0]['Pk_mockxtruth'], ls=':')\n",
    "pl.yscale('log')\n",
    "pl.xscale('log')\n",
    "\n"
   ]
  },
  {
   "cell_type": "code",
   "execution_count": 15,
   "metadata": {},
   "outputs": [],
   "source": [
    "sdir='/mnt/home/spandey/ceph/Quijote/data_NGP_self'\n",
    "# load the halo data\n",
    "fname = sdir + '/' + str(isim) + '/halos_' + str(mass_type) + '_lgMmincut_' + lgMmincutstr + '_subvol_res_' + str(ns_h) + '_z=0.pk'\n",
    "df_h_subvol = pk.load(open(fname, 'rb'))\n",
    "# This has information on the halo mass for all the halos in the voxel\n",
    "df_Mh_all_truth = df_h_subvol['M_halos']\n",
    "df_Mh_all_truth = np.flip(np.sort(df_Mh_all_truth, axis=-1), axis=-1)\n",
    "# This has information on the number of halos in the voxel\n",
    "df_Nh_truth = df_h_subvol['N_halos']\n",
    "\n",
    "fname = sdir + '/' + str(isim) + '/halos_' + str(mass_type) + '_lgMmincut_' + lgMmincutstr + '_full_res_' + str(ns_h) + '_z=0.pk'\n",
    "df_h_full = pk.load(open(fname, 'rb'))\n",
    "df_Mh_all_truth_comb, df_Nh_truth_comb = df_h_full['M_halos_combined'], df_h_full['N_halos_combined']\n",
    "\n"
   ]
  },
  {
   "cell_type": "code",
   "execution_count": 16,
   "metadata": {},
   "outputs": [
    {
     "data": {
      "text/plain": [
       "(128, 128, 128, 4)"
      ]
     },
     "execution_count": 16,
     "metadata": {},
     "output_type": "execute_result"
    }
   ],
   "source": [
    "df_Mh_all_truth_comb.shape"
   ]
  },
  {
   "cell_type": "code",
   "execution_count": 17,
   "metadata": {},
   "outputs": [
    {
     "data": {
      "text/plain": [
       "(512, 16, 16, 16, 4)"
      ]
     },
     "execution_count": 17,
     "metadata": {},
     "output_type": "execute_result"
    }
   ],
   "source": [
    "df_Mh_all_truth.shape\n"
   ]
  },
  {
   "cell_type": "code",
   "execution_count": 14,
   "metadata": {},
   "outputs": [
    {
     "data": {
      "text/plain": [
       "'/mnt/home/spandey/ceph/Quijote/data_NGP_self/1/halos_fof_lgMmincut_5e13_full_res_128_z=0.pk'"
      ]
     },
     "execution_count": 14,
     "metadata": {},
     "output_type": "execute_result"
    }
   ],
   "source": [
    "fname\n"
   ]
  },
  {
   "cell_type": "code",
   "execution_count": null,
   "metadata": {},
   "outputs": [],
   "source": []
  }
 ],
 "metadata": {
  "kernelspec": {
   "display_name": ".venv",
   "language": "python",
   "name": "python3"
  },
  "language_info": {
   "codemirror_mode": {
    "name": "ipython",
    "version": 3
   },
   "file_extension": ".py",
   "mimetype": "text/x-python",
   "name": "python",
   "nbconvert_exporter": "python",
   "pygments_lexer": "ipython3",
   "version": "3.9.15"
  },
  "orig_nbformat": 4
 },
 "nbformat": 4,
 "nbformat_minor": 2
}
